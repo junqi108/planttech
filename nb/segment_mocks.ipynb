{
 "cells": [
  {
   "cell_type": "code",
   "execution_count": 1,
   "metadata": {},
   "outputs": [
    {
     "name": "stdout",
     "output_type": "stream",
     "text": [
      "Jupyter environment detected. Enabling Open3D WebVisualizer.\n",
      "[Open3D INFO] WebRTC GUI backend enabled.\n",
      "[Open3D INFO] WebRTCWindowSystem: HTTP handshake server disabled.\n"
     ]
    },
    {
     "name": "stderr",
     "output_type": "stream",
     "text": [
      "INFO - 2021-09-29 21:57:45,105 - utils - NumExpr defaulting to 4 threads.\n"
     ]
    }
   ],
   "source": [
    "import numpy as np\n",
    "import os, sys, glob\n",
    "import matplotlib.pyplot as plt\n",
    "import open3d as o3d\n",
    "from scipy.stats import chisquare\n",
    "import pandas as pd\n",
    "\n",
    "basedir = os.path.dirname(os.getcwd())\n",
    "_py = os.path.join(basedir, 'py')\n",
    "_data = os.path.join(basedir, 'data')\n",
    "_images = os.path.join(basedir, 'images')\n",
    "\n",
    "sys.path.insert(1, _py)\n",
    "import lad\n",
    "import figures\n",
    "\n",
    "from dotenv import load_dotenv\n",
    "load_dotenv()\n",
    "\n",
    "%load_ext autoreload\n",
    "%autoreload 2\n",
    "\n",
    "%matplotlib qt"
   ]
  },
  {
   "cell_type": "code",
   "execution_count": 2,
   "metadata": {},
   "outputs": [
    {
     "name": "stdout",
     "output_type": "stream",
     "text": [
      "s1300000 30000 1500\n",
      "s0100000 30000 1500\n",
      "s0600000 30000 1500\n",
      "s0800000 30000 1500\n",
      "s1500000 30000 1500\n",
      "s0700000 30000 1500\n",
      "s1100000 30000 1500\n",
      "s1600000 30000 1500\n",
      "s0500000 30000 1500\n",
      "s1000000 30000 1500\n",
      "s0900000 30000 1500\n",
      "s0400000 30000 1500\n",
      "s1200000 30000 1500\n",
      "s0200000 30000 1500\n",
      "s0300000 30000 1500\n",
      "s1400000 30000 1500\n"
     ]
    }
   ],
   "source": [
    "# define the path of the data stored\n",
    "mockname = 'single_57_combined_lite'\n",
    "downsample = 0.05\n",
    "datapath = os.path.join(_data, mockname)\n",
    "\n",
    "# read the numpy files\n",
    "for file in glob.glob(os.path.join(datapath, 's*.numpy')):\n",
    "    df = np.loadtxt(file)\n",
    "    filename = file.split('/')[-1].split('.')[0]\n",
    "    outfile = os.path.join(_data, mockname, filename)\n",
    "\n",
    "    if downsample is not None:\n",
    "        keep = np.random.randint(0, len(df), int(len(df) * downsample))\n",
    "        print(filename, len(df), len(df[keep]))\n",
    "        np.save(outfile, df[keep])\n",
    "    else:\n",
    "        np.save(outfile, df)\n"
   ]
  },
  {
   "cell_type": "markdown",
   "metadata": {},
   "source": [
    "# define the path of the data stored\n",
    "mockname = 'single'\n",
    "datapath = os.path.join(_data, mockname, 'toy_trees')\n",
    "file = glob.glob(os.path.join(datapath, 'tree*.npy'))\n",
    "print(file)\n",
    "df = np.load(file[0])"
   ]
  },
  {
   "cell_type": "code",
   "execution_count": 123,
   "metadata": {},
   "outputs": [],
   "source": [
    "mockname = 'single_tmp'\n",
    "datapath = os.path.join(_data, mockname)\n",
    "\n",
    "# read the numpy files\n",
    "files = {}\n",
    "plt.figure(figsize=(18,14))\n",
    "for file in glob.glob(os.path.join(datapath, 's*.npy')):\n",
    "    filename = file.split('/')[-1]\n",
    "    df = np.load(file)\n",
    "    # df = df[::1]\n",
    "    yaw = df.T[1]\n",
    "    pitch = df.T[2]\n",
    "    x, y = df.T[5], df.T[6]\n",
    "\n",
    "    \n",
    "    plt.subplot(3,2,1)\n",
    "    plt.title('yaw')\n",
    "    #np.linspace(2.8, 3.5, 40)\n",
    "    plt.hist(np.rad2deg(yaw), bins=40, histtype='step', lw=2, label=filename)\n",
    "    plt.legend()\n",
    "    plt.subplot(3,2,2)\n",
    "    plt.title('pitch')\n",
    "    #np.linspace(-0.35, 0.3, 40)\n",
    "    plt.hist(np.rad2deg(pitch), bins=40, histtype='step', lw=2, label=filename)\n",
    "    plt.subplot(3,2,3)\n",
    "    plt.title('x')\n",
    "    plt.hist(x, bins=40, histtype='step', lw=2, label=filename)\n",
    "    plt.subplot(3,2,4)\n",
    "    plt.title('y')\n",
    "    plt.hist(y, bins=40, histtype='step', lw=2, label=filename)\n",
    "    plt.subplot(3,2,5)\n",
    "    uv = lad.beam_direction(yaw, pitch, scan_inc=90)\n",
    "    beam_angs = []\n",
    "    for i in uv:\n",
    "        beam_angs.append(lad.vecttoangle([0, 0, 1], i))\n",
    "    plt.hist(np.array(beam_angs), 40, histtype='step', label='pre correction')\n",
    "    plt.legend()\n",
    "    plt.subplot(3,2,6)\n",
    "    plt.hist(uv.T[0], bins=40, histtype='step', lw=2, label=filename+' x')\n",
    "    plt.hist(uv.T[1], bins=40, histtype='step', lw=2, label=filename+' y')\n",
    "    plt.hist(uv.T[2], bins=40, histtype='step', lw=2, label=filename+' z')\n",
    "    plt.legend()\n"
   ]
  },
  {
   "cell_type": "code",
   "execution_count": 130,
   "metadata": {},
   "outputs": [
    {
     "name": "stdout",
     "output_type": "stream",
     "text": [
      "(9000, 16)\n",
      "(b's1', 10., 0., 15.)\n"
     ]
    }
   ],
   "source": [
    "colors = ['b', 'cyan', 'orange', 'yellow']\n",
    "fig = plt.figure(figsize=(10,10))\n",
    "ax = plt.axes(projection='3d')\n",
    "\n",
    "for num, file in enumerate(glob.glob(os.path.join(datapath, 's1*.npy'))):\n",
    "    \n",
    "    filename = file.split('/')[-1]\n",
    "    df = np.load(file)\n",
    "    df = df[::10]\n",
    "    print(df.shape)\n",
    "    # yaw = df.T[1]\n",
    "    # pitch = df.T[2]\n",
    "    x, y, z = df.T[5], df.T[6], df.T[7]\n",
    "    # sensor coordinates\n",
    "    spos = os.path.join(datapath, 'scanner_pos.txt')\n",
    "    scan = lad.laod_scan_pos(spos)\n",
    "    id = [i.decode(\"utf-8\") for i in scan['scan']]\n",
    "    keep = np.array(id) == filename[:2]\n",
    "    _, sx, sy, sz = scan[keep][0]\n",
    "    print(scan[keep][0])\n",
    "\n",
    "    ax.scatter3D(x, y, z, c='g', s=1)\n",
    "    ax.scatter3D(sx, sy, sz, c='r', s=10)\n",
    "\n",
    "    p2 = [sx, sy, sz]\n",
    "    res = 2\n",
    "\n",
    "    for i, j, k in zip(x, y, z):\n",
    "\n",
    "        p1 = [i, j, k]\n",
    "\n",
    "        px, py, pz = lad.line2points_vect(p1, p2, res=res)\n",
    "        # ax.scatter3D(px, py, pz, c='k', s=1)\n",
    "        ax.plot3D([i, sx], [j, sy], [k, sz], lw=0.1, color=colors[num])\n"
   ]
  },
  {
   "cell_type": "code",
   "execution_count": 3,
   "metadata": {},
   "outputs": [
    {
     "name": "stdout",
     "output_type": "stream",
     "text": [
      "s1300000.npy (1500, 16) (1500, 3)\n",
      "s1200000.npy (1500, 16) (1500, 3)\n",
      "s1100000.npy (1500, 16) (1500, 3)\n",
      "s0200000.npy (1500, 16) (1500, 3)\n",
      "s0300000.npy (1500, 16) (1500, 3)\n",
      "s0800000.npy (1500, 16) (1500, 3)\n",
      "s0700000.npy (1500, 16) (1500, 3)\n",
      "s0600000.npy (1500, 16) (1500, 3)\n",
      "s1000000.npy (1500, 16) (1500, 3)\n",
      "s1500000.npy (1500, 16) (1500, 3)\n",
      "s1400000.npy (1500, 16) (1500, 3)\n",
      "s0500000.npy (1500, 16) (1500, 3)\n",
      "s1600000.npy (1500, 16) (1500, 3)\n",
      "s0100000.npy (1500, 16) (1500, 3)\n",
      "s0900000.npy (1500, 16) (1500, 3)\n",
      "s0400000.npy (1500, 16) (1500, 3)\n",
      "(24000, 16)\n",
      "(24000, 3)\n"
     ]
    }
   ],
   "source": [
    "# define the path of the data stored\n",
    "mockname = 'single_57_combined_lite'\n",
    "datapath = os.path.join(_data, mockname)\n",
    "\n",
    "# read the numpy files\n",
    "files = {}\n",
    "bia_pos = {}\n",
    "for file in glob.glob(os.path.join(datapath, 's*.npy')):\n",
    "    df = np.load(file)\n",
    "    filename = file.split('/')[-1]\n",
    "\n",
    "    # sensor coordinates\n",
    "    spos = os.path.join(datapath, 'scanner_pos.txt')\n",
    "    scan = lad.laod_scan_pos(spos)\n",
    "    id = [i.decode(\"utf-8\") for i in scan['scan']]\n",
    "    keep = np.array(id) == filename[:3]\n",
    "    _, sx, sy, sz = scan[keep][0]\n",
    "\n",
    "    if df.shape[0] > 0:\n",
    "        files[filename] = df\n",
    "        bia = np.full((len(df),3), np.array([sx, sy, sz]))\n",
    "        bia_pos[filename] = bia\n",
    "        print(filename, df.shape, bia.shape)\n",
    "    else:\n",
    "        print('file %s empty' %(filename))\n",
    "\n",
    "    \n",
    "    \n",
    "# concatenate all data\n",
    "df = np.concatenate(list(files.values()))\n",
    "bias = np.concatenate(list(bia_pos.values()))\n",
    "print(df.shape)\n",
    "print(bias.shape)"
   ]
  },
  {
   "cell_type": "code",
   "execution_count": 4,
   "metadata": {},
   "outputs": [],
   "source": [
    "# pass this to a pandas data frame for simplicity\n",
    "scan = pd.DataFrame(df, columns=['timestamp', 'yaw', 'pitch', 'distance','distance_noise',\n",
    "                                'x','y','z',\n",
    "                                'x_noise','y_noise','z_noise',\n",
    "                                'object_id', 'color0', 'color1','color2', 'idx'])\n",
    "\n",
    "bia = pd.DataFrame(bias, columns=['sx', 'sy', 'sz'])\n",
    "\n",
    "# concat\n",
    "scan = pd.concat((scan, bia), axis=1)"
   ]
  },
  {
   "cell_type": "code",
   "execution_count": 5,
   "metadata": {},
   "outputs": [
    {
     "data": {
      "text/html": [
       "<div>\n",
       "<style scoped>\n",
       "    .dataframe tbody tr th:only-of-type {\n",
       "        vertical-align: middle;\n",
       "    }\n",
       "\n",
       "    .dataframe tbody tr th {\n",
       "        vertical-align: top;\n",
       "    }\n",
       "\n",
       "    .dataframe thead th {\n",
       "        text-align: right;\n",
       "    }\n",
       "</style>\n",
       "<table border=\"1\" class=\"dataframe\">\n",
       "  <thead>\n",
       "    <tr style=\"text-align: right;\">\n",
       "      <th></th>\n",
       "      <th>timestamp</th>\n",
       "      <th>yaw</th>\n",
       "      <th>pitch</th>\n",
       "      <th>distance</th>\n",
       "      <th>distance_noise</th>\n",
       "      <th>x</th>\n",
       "      <th>y</th>\n",
       "      <th>z</th>\n",
       "      <th>x_noise</th>\n",
       "      <th>y_noise</th>\n",
       "      <th>z_noise</th>\n",
       "      <th>object_id</th>\n",
       "      <th>color0</th>\n",
       "      <th>color1</th>\n",
       "      <th>color2</th>\n",
       "      <th>idx</th>\n",
       "      <th>sx</th>\n",
       "      <th>sy</th>\n",
       "      <th>sz</th>\n",
       "    </tr>\n",
       "  </thead>\n",
       "  <tbody>\n",
       "    <tr>\n",
       "      <th>0</th>\n",
       "      <td>0.0</td>\n",
       "      <td>3.391064</td>\n",
       "      <td>-0.085530</td>\n",
       "      <td>13.168001</td>\n",
       "      <td>13.174942</td>\n",
       "      <td>-3.239909</td>\n",
       "      <td>-0.310843</td>\n",
       "      <td>5.913042e+00</td>\n",
       "      <td>-3.241617</td>\n",
       "      <td>-0.316805</td>\n",
       "      <td>5.916160</td>\n",
       "      <td>1.986094e+09</td>\n",
       "      <td>204.0</td>\n",
       "      <td>204.0</td>\n",
       "      <td>204.0</td>\n",
       "      <td>25501.0</td>\n",
       "      <td>0.0</td>\n",
       "      <td>11.0</td>\n",
       "      <td>0.0</td>\n",
       "    </tr>\n",
       "    <tr>\n",
       "      <th>1</th>\n",
       "      <td>0.0</td>\n",
       "      <td>2.838239</td>\n",
       "      <td>0.033233</td>\n",
       "      <td>10.848212</td>\n",
       "      <td>10.844524</td>\n",
       "      <td>3.238973</td>\n",
       "      <td>2.457697</td>\n",
       "      <td>5.849943e+00</td>\n",
       "      <td>3.237871</td>\n",
       "      <td>2.460602</td>\n",
       "      <td>5.847954</td>\n",
       "      <td>1.986094e+09</td>\n",
       "      <td>204.0</td>\n",
       "      <td>204.0</td>\n",
       "      <td>204.0</td>\n",
       "      <td>2169.0</td>\n",
       "      <td>0.0</td>\n",
       "      <td>11.0</td>\n",
       "      <td>0.0</td>\n",
       "    </tr>\n",
       "    <tr>\n",
       "      <th>2</th>\n",
       "      <td>0.0</td>\n",
       "      <td>3.402424</td>\n",
       "      <td>0.005249</td>\n",
       "      <td>12.817183</td>\n",
       "      <td>12.818941</td>\n",
       "      <td>-3.305296</td>\n",
       "      <td>0.590793</td>\n",
       "      <td>6.708472e+00</td>\n",
       "      <td>-3.305750</td>\n",
       "      <td>0.589365</td>\n",
       "      <td>6.709392</td>\n",
       "      <td>1.986094e+09</td>\n",
       "      <td>204.0</td>\n",
       "      <td>204.0</td>\n",
       "      <td>204.0</td>\n",
       "      <td>26053.0</td>\n",
       "      <td>0.0</td>\n",
       "      <td>11.0</td>\n",
       "      <td>0.0</td>\n",
       "    </tr>\n",
       "    <tr>\n",
       "      <th>3</th>\n",
       "      <td>0.0</td>\n",
       "      <td>3.056870</td>\n",
       "      <td>0.045463</td>\n",
       "      <td>9.415041</td>\n",
       "      <td>9.414417</td>\n",
       "      <td>0.795901</td>\n",
       "      <td>3.325114</td>\n",
       "      <td>5.394966e+00</td>\n",
       "      <td>0.795848</td>\n",
       "      <td>3.325622</td>\n",
       "      <td>5.394609</td>\n",
       "      <td>1.986094e+09</td>\n",
       "      <td>204.0</td>\n",
       "      <td>204.0</td>\n",
       "      <td>204.0</td>\n",
       "      <td>11576.0</td>\n",
       "      <td>0.0</td>\n",
       "      <td>11.0</td>\n",
       "      <td>0.0</td>\n",
       "    </tr>\n",
       "    <tr>\n",
       "      <th>4</th>\n",
       "      <td>0.0</td>\n",
       "      <td>3.250353</td>\n",
       "      <td>-0.054190</td>\n",
       "      <td>10.399215</td>\n",
       "      <td>10.399729</td>\n",
       "      <td>-1.127154</td>\n",
       "      <td>1.993007</td>\n",
       "      <td>5.074176e+00</td>\n",
       "      <td>-1.127210</td>\n",
       "      <td>1.992561</td>\n",
       "      <td>5.074427</td>\n",
       "      <td>1.986094e+09</td>\n",
       "      <td>204.0</td>\n",
       "      <td>204.0</td>\n",
       "      <td>204.0</td>\n",
       "      <td>19519.0</td>\n",
       "      <td>0.0</td>\n",
       "      <td>11.0</td>\n",
       "      <td>0.0</td>\n",
       "    </tr>\n",
       "    <tr>\n",
       "      <th>...</th>\n",
       "      <td>...</td>\n",
       "      <td>...</td>\n",
       "      <td>...</td>\n",
       "      <td>...</td>\n",
       "      <td>...</td>\n",
       "      <td>...</td>\n",
       "      <td>...</td>\n",
       "      <td>...</td>\n",
       "      <td>...</td>\n",
       "      <td>...</td>\n",
       "      <td>...</td>\n",
       "      <td>...</td>\n",
       "      <td>...</td>\n",
       "      <td>...</td>\n",
       "      <td>...</td>\n",
       "      <td>...</td>\n",
       "      <td>...</td>\n",
       "      <td>...</td>\n",
       "      <td>...</td>\n",
       "    </tr>\n",
       "    <tr>\n",
       "      <th>23995</th>\n",
       "      <td>0.0</td>\n",
       "      <td>3.163427</td>\n",
       "      <td>0.003500</td>\n",
       "      <td>17.192314</td>\n",
       "      <td>17.191757</td>\n",
       "      <td>-0.375356</td>\n",
       "      <td>-0.528624</td>\n",
       "      <td>8.815566e+00</td>\n",
       "      <td>-0.375344</td>\n",
       "      <td>-0.528154</td>\n",
       "      <td>8.815864</td>\n",
       "      <td>1.986094e+09</td>\n",
       "      <td>204.0</td>\n",
       "      <td>204.0</td>\n",
       "      <td>204.0</td>\n",
       "      <td>15952.0</td>\n",
       "      <td>0.0</td>\n",
       "      <td>14.0</td>\n",
       "      <td>18.0</td>\n",
       "    </tr>\n",
       "    <tr>\n",
       "      <th>23996</th>\n",
       "      <td>0.0</td>\n",
       "      <td>2.818475</td>\n",
       "      <td>0.085530</td>\n",
       "      <td>34.496880</td>\n",
       "      <td>34.497947</td>\n",
       "      <td>10.917570</td>\n",
       "      <td>-15.000004</td>\n",
       "      <td>2.839482e+00</td>\n",
       "      <td>10.917908</td>\n",
       "      <td>-15.000898</td>\n",
       "      <td>2.839015</td>\n",
       "      <td>1.851878e+09</td>\n",
       "      <td>204.0</td>\n",
       "      <td>204.0</td>\n",
       "      <td>204.0</td>\n",
       "      <td>1299.0</td>\n",
       "      <td>0.0</td>\n",
       "      <td>14.0</td>\n",
       "      <td>18.0</td>\n",
       "    </tr>\n",
       "    <tr>\n",
       "      <th>23997</th>\n",
       "      <td>0.0</td>\n",
       "      <td>3.337998</td>\n",
       "      <td>-0.069877</td>\n",
       "      <td>30.848783</td>\n",
       "      <td>30.846508</td>\n",
       "      <td>-6.005853</td>\n",
       "      <td>-10.322360</td>\n",
       "      <td>2.384186e-07</td>\n",
       "      <td>-6.005410</td>\n",
       "      <td>-10.320565</td>\n",
       "      <td>0.001328</td>\n",
       "      <td>1.851878e+09</td>\n",
       "      <td>204.0</td>\n",
       "      <td>204.0</td>\n",
       "      <td>204.0</td>\n",
       "      <td>23210.0</td>\n",
       "      <td>0.0</td>\n",
       "      <td>14.0</td>\n",
       "      <td>18.0</td>\n",
       "    </tr>\n",
       "    <tr>\n",
       "      <th>23998</th>\n",
       "      <td>0.0</td>\n",
       "      <td>2.856015</td>\n",
       "      <td>0.052445</td>\n",
       "      <td>34.720688</td>\n",
       "      <td>34.719094</td>\n",
       "      <td>9.768836</td>\n",
       "      <td>-14.999999</td>\n",
       "      <td>1.595852e+00</td>\n",
       "      <td>9.768388</td>\n",
       "      <td>-14.998669</td>\n",
       "      <td>1.596604</td>\n",
       "      <td>1.851878e+09</td>\n",
       "      <td>204.0</td>\n",
       "      <td>204.0</td>\n",
       "      <td>204.0</td>\n",
       "      <td>2980.0</td>\n",
       "      <td>0.0</td>\n",
       "      <td>14.0</td>\n",
       "      <td>18.0</td>\n",
       "    </tr>\n",
       "    <tr>\n",
       "      <th>23999</th>\n",
       "      <td>0.0</td>\n",
       "      <td>3.088261</td>\n",
       "      <td>-0.069877</td>\n",
       "      <td>16.737310</td>\n",
       "      <td>16.739084</td>\n",
       "      <td>0.890036</td>\n",
       "      <td>0.565267</td>\n",
       "      <td>8.057495e+00</td>\n",
       "      <td>0.890130</td>\n",
       "      <td>0.563844</td>\n",
       "      <td>8.056442</td>\n",
       "      <td>1.986094e+09</td>\n",
       "      <td>204.0</td>\n",
       "      <td>204.0</td>\n",
       "      <td>204.0</td>\n",
       "      <td>12810.0</td>\n",
       "      <td>0.0</td>\n",
       "      <td>14.0</td>\n",
       "      <td>18.0</td>\n",
       "    </tr>\n",
       "  </tbody>\n",
       "</table>\n",
       "<p>24000 rows × 19 columns</p>\n",
       "</div>"
      ],
      "text/plain": [
       "       timestamp       yaw     pitch   distance  distance_noise          x  \\\n",
       "0            0.0  3.391064 -0.085530  13.168001       13.174942  -3.239909   \n",
       "1            0.0  2.838239  0.033233  10.848212       10.844524   3.238973   \n",
       "2            0.0  3.402424  0.005249  12.817183       12.818941  -3.305296   \n",
       "3            0.0  3.056870  0.045463   9.415041        9.414417   0.795901   \n",
       "4            0.0  3.250353 -0.054190  10.399215       10.399729  -1.127154   \n",
       "...          ...       ...       ...        ...             ...        ...   \n",
       "23995        0.0  3.163427  0.003500  17.192314       17.191757  -0.375356   \n",
       "23996        0.0  2.818475  0.085530  34.496880       34.497947  10.917570   \n",
       "23997        0.0  3.337998 -0.069877  30.848783       30.846508  -6.005853   \n",
       "23998        0.0  2.856015  0.052445  34.720688       34.719094   9.768836   \n",
       "23999        0.0  3.088261 -0.069877  16.737310       16.739084   0.890036   \n",
       "\n",
       "               y             z    x_noise    y_noise   z_noise     object_id  \\\n",
       "0      -0.310843  5.913042e+00  -3.241617  -0.316805  5.916160  1.986094e+09   \n",
       "1       2.457697  5.849943e+00   3.237871   2.460602  5.847954  1.986094e+09   \n",
       "2       0.590793  6.708472e+00  -3.305750   0.589365  6.709392  1.986094e+09   \n",
       "3       3.325114  5.394966e+00   0.795848   3.325622  5.394609  1.986094e+09   \n",
       "4       1.993007  5.074176e+00  -1.127210   1.992561  5.074427  1.986094e+09   \n",
       "...          ...           ...        ...        ...       ...           ...   \n",
       "23995  -0.528624  8.815566e+00  -0.375344  -0.528154  8.815864  1.986094e+09   \n",
       "23996 -15.000004  2.839482e+00  10.917908 -15.000898  2.839015  1.851878e+09   \n",
       "23997 -10.322360  2.384186e-07  -6.005410 -10.320565  0.001328  1.851878e+09   \n",
       "23998 -14.999999  1.595852e+00   9.768388 -14.998669  1.596604  1.851878e+09   \n",
       "23999   0.565267  8.057495e+00   0.890130   0.563844  8.056442  1.986094e+09   \n",
       "\n",
       "       color0  color1  color2      idx   sx    sy    sz  \n",
       "0       204.0   204.0   204.0  25501.0  0.0  11.0   0.0  \n",
       "1       204.0   204.0   204.0   2169.0  0.0  11.0   0.0  \n",
       "2       204.0   204.0   204.0  26053.0  0.0  11.0   0.0  \n",
       "3       204.0   204.0   204.0  11576.0  0.0  11.0   0.0  \n",
       "4       204.0   204.0   204.0  19519.0  0.0  11.0   0.0  \n",
       "...       ...     ...     ...      ...  ...   ...   ...  \n",
       "23995   204.0   204.0   204.0  15952.0  0.0  14.0  18.0  \n",
       "23996   204.0   204.0   204.0   1299.0  0.0  14.0  18.0  \n",
       "23997   204.0   204.0   204.0  23210.0  0.0  14.0  18.0  \n",
       "23998   204.0   204.0   204.0   2980.0  0.0  14.0  18.0  \n",
       "23999   204.0   204.0   204.0  12810.0  0.0  14.0  18.0  \n",
       "\n",
       "[24000 rows x 19 columns]"
      ]
     },
     "execution_count": 5,
     "metadata": {},
     "output_type": "execute_result"
    }
   ],
   "source": [
    "scan"
   ]
  },
  {
   "cell_type": "code",
   "execution_count": 6,
   "metadata": {},
   "outputs": [],
   "source": [
    "### get the leaves only\n",
    "leaves = scan['object_id'] == 1986094444.0\n",
    "points = np.vstack((np.array(scan['x']), np.array(scan['y']), np.array(scan['z']))).transpose()\n",
    "# pcd = lad.points2pcd(points)\n",
    "pcd = o3d.geometry.PointCloud()\n",
    "pcd.points = o3d.utility.Vector3dVector(points[leaves])\n",
    "pcd.colors = o3d.utility.Vector3dVector(np.random.uniform(0, 1, size=np.asarray(pcd.points).shape))\n",
    "o3d.visualization.draw_geometries([pcd])"
   ]
  },
  {
   "cell_type": "code",
   "execution_count": 7,
   "metadata": {},
   "outputs": [
    {
     "data": {
      "text/plain": [
       "<matplotlib.collections.PathCollection at 0x7f0d77714c10>"
      ]
     },
     "execution_count": 7,
     "metadata": {},
     "output_type": "execute_result"
    }
   ],
   "source": [
    "# Here we show how some of the point cloud parameters looks like.\n",
    "cols = ['x','y']\n",
    "\n",
    "plt.figure(figsize=(18, 4*3))\n",
    "\n",
    "for num, i in enumerate(cols):\n",
    "    \n",
    "    plt.subplot(3,3,num+1)\n",
    "    plt.hist(scan[i][leaves], 80, alpha=0.5, label=i)\n",
    "    plt.legend()\n",
    "    \n",
    "plt.show()\n",
    "\n",
    "plt.figure(figsize=(14, 8))\n",
    "plt.scatter(scan['x'][leaves], scan['y'][leaves], s=1)"
   ]
  },
  {
   "cell_type": "code",
   "execution_count": 8,
   "metadata": {},
   "outputs": [
    {
     "data": {
      "text/plain": [
       "11717"
      ]
     },
     "execution_count": 8,
     "metadata": {},
     "output_type": "execute_result"
    }
   ],
   "source": [
    "np.sum(leaves)"
   ]
  },
  {
   "cell_type": "code",
   "execution_count": 9,
   "metadata": {},
   "outputs": [
    {
     "data": {
      "text/plain": [
       "<matplotlib.legend.Legend at 0x7f0d76ce1250>"
      ]
     },
     "execution_count": 9,
     "metadata": {},
     "output_type": "execute_result"
    }
   ],
   "source": [
    "#\n",
    "plt.figure(figsize=(14, 8))\n",
    "\n",
    "# x = np.linspace(0, 16, 3)\n",
    "# y = np.array([0, 8])\n",
    "\n",
    "# centres\n",
    "x, y = [0], [0]\n",
    "\n",
    "trees = {}\n",
    "num = 0\n",
    "# dx, dy = 4, 4\n",
    "dx, dy = 5, 5\n",
    "\n",
    "resdir_name = 'toy_trees'\n",
    "resdir = os.path.join(datapath, resdir_name)\n",
    "if not os.path.exists(resdir):\n",
    "    os.makedirs(resdir)\n",
    "\n",
    "for i in x:\n",
    "    for j in y:\n",
    "        \n",
    "        keep = np.ones(len(scan['x']), dtype=bool)\n",
    "        keep &= (scan['x'] < i+dx) & (scan['x'] > i-dx)\n",
    "        keep &= (scan['y'] < j+dy) & (scan['y'] > j-dy)\n",
    "        \n",
    "        plt.scatter(scan['x'][leaves & keep], scan['y'][leaves & keep], s=0.5, label=num)\n",
    "        \n",
    "        np.save(os.path.join(resdir, 'tree_%s' %(str(num))), scan[leaves & keep])\n",
    "        \n",
    "        num += 1\n",
    "        \n",
    "plt.legend()   "
   ]
  },
  {
   "cell_type": "code",
   "execution_count": 9,
   "metadata": {},
   "outputs": [
    {
     "name": "stdout",
     "output_type": "stream",
     "text": [
      "[[0.37349295 0.25693007 0.89134166]\n",
      " [0.3734951  0.25692643 0.89134181]\n",
      " [0.37349183 0.25692803 0.89134272]\n",
      " ...\n",
      " [0.87693035 0.28342595 0.38815318]\n",
      " [0.87693022 0.28342695 0.38815275]\n",
      " [0.87693417 0.28341742 0.38815077]]\n",
      "[[    0     1     2]\n",
      " [    0     2     3]\n",
      " [    0     3     4]\n",
      " ...\n",
      " [41138 41140 41141]\n",
      " [41142 41143 41144]\n",
      " [41142 41144 41145]]\n"
     ]
    }
   ],
   "source": [
    "# get true leag-angle-distribution\n",
    "file = \"../data/single_57_inv/mesh.ply\"\n",
    "mesh = o3d.io.read_triangle_mesh(file)\n",
    "# \n",
    "mesh.compute_triangle_normals()\n",
    "mesh.compute_vertex_normals()\n",
    "# print(mesh.cluster_connected_triangles())\n",
    "# print(\"Computing normal and rendering it.\")\n",
    "# \n",
    "print(np.asarray(mesh.triangle_normals))\n",
    "print(np.asarray(mesh.triangles))\n",
    "o3d.visualization.draw_geometries([mesh], mesh_show_wireframe=True)\n"
   ]
  },
  {
   "cell_type": "code",
   "execution_count": 6,
   "metadata": {},
   "outputs": [
    {
     "data": {
      "text/plain": [
       "0.0267"
      ]
     },
     "execution_count": 6,
     "metadata": {},
     "output_type": "execute_result"
    }
   ],
   "source": [
    "# get leaf area\n",
    "file = \"../data/spherical_02/mesh.ply\"\n",
    "mesh = o3d.io.read_triangle_mesh(file)\n",
    "cidx, nt, area = mesh.cluster_connected_triangles()\n",
    "la = np.array(area)[np.array(nt) == 4][0]\n",
    "np.round(la, 4)"
   ]
  },
  {
   "cell_type": "code",
   "execution_count": 17,
   "metadata": {},
   "outputs": [
    {
     "data": {
      "text/plain": [
       "7144"
      ]
     },
     "execution_count": 17,
     "metadata": {},
     "output_type": "execute_result"
    }
   ],
   "source": [
    "len(area)"
   ]
  },
  {
   "cell_type": "code",
   "execution_count": 11,
   "metadata": {},
   "outputs": [
    {
     "data": {
      "text/plain": [
       "{0.01333, 0.02667}"
      ]
     },
     "execution_count": 11,
     "metadata": {},
     "output_type": "execute_result"
    }
   ],
   "source": [
    "set(np.round(np.array(area), 5))"
   ]
  },
  {
   "cell_type": "code",
   "execution_count": 21,
   "metadata": {},
   "outputs": [
    {
     "data": {
      "text/plain": [
       "0.026666766174740775"
      ]
     },
     "execution_count": 21,
     "metadata": {},
     "output_type": "execute_result"
    }
   ],
   "source": [
    "np.array(area)[np.array(nt) == 4][0]"
   ]
  },
  {
   "cell_type": "code",
   "execution_count": null,
   "metadata": {},
   "outputs": [],
   "source": []
  }
 ],
 "metadata": {
  "interpreter": {
   "hash": "dd457b199a21959d634e86d9176c16bf27a6eca517b0c63f422a118410a38d27"
  },
  "kernelspec": {
   "display_name": "Python 3.8.11 64-bit ('plant-env': conda)",
   "name": "python3"
  },
  "language_info": {
   "name": "python",
   "version": ""
  },
  "orig_nbformat": 4
 },
 "nbformat": 4,
 "nbformat_minor": 2
}