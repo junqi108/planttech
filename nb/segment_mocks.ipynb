{
 "cells": [
  {
   "cell_type": "code",
   "execution_count": 2,
   "metadata": {},
   "outputs": [
    {
     "name": "stdout",
     "output_type": "stream",
     "text": [
      "Jupyter environment detected. Enabling Open3D WebVisualizer.\n",
      "[Open3D INFO] WebRTC GUI backend enabled.\n",
      "[Open3D INFO] WebRTCWindowSystem: HTTP handshake server disabled.\n"
     ]
    },
    {
     "name": "stderr",
     "output_type": "stream",
     "text": [
      "INFO - 2021-09-10 10:07:58,497 - utils - NumExpr defaulting to 4 threads.\n"
     ]
    }
   ],
   "source": [
    "import numpy as np\n",
    "import os, sys, glob\n",
    "import matplotlib.pyplot as plt\n",
    "import open3d as o3d\n",
    "from scipy.stats import chisquare\n",
    "import pandas as pd\n",
    "\n",
    "basedir = os.path.dirname(os.getcwd())\n",
    "_py = os.path.join(basedir, 'py')\n",
    "_data = os.path.join(basedir, 'data')\n",
    "_images = os.path.join(basedir, 'images')\n",
    "\n",
    "sys.path.insert(1, _py)\n",
    "import lad\n",
    "import figures\n",
    "\n",
    "from dotenv import load_dotenv\n",
    "load_dotenv()\n",
    "\n",
    "%load_ext autoreload\n",
    "%autoreload 2"
   ]
  },
  {
   "cell_type": "code",
   "execution_count": 2,
   "metadata": {},
   "outputs": [],
   "source": [
    "# define the path of the data stored\n",
    "mockname = 'single'\n",
    "datapath = os.path.join(_data, mockname)\n",
    "\n",
    "# read the numpy files\n",
    "for file in glob.glob(os.path.join(datapath, 'toy*.numpy')):\n",
    "    df = np.loadtxt(file)\n",
    "    filename = file.split('/')[-1].split('.')[0]\n",
    "\n",
    "    outfile = os.path.join(_data, mockname, filename)\n",
    "    np.save(outfile, df)"
   ]
  },
  {
   "cell_type": "code",
   "execution_count": 6,
   "metadata": {},
   "outputs": [
    {
     "name": "stdout",
     "output_type": "stream",
     "text": [
      "['/home/omar/myproj/planttech/data/single/toy_trees/tree_0.npy']\n"
     ]
    }
   ],
   "source": [
    "# define the path of the data stored\n",
    "mockname = 'single'\n",
    "datapath = os.path.join(_data, mockname, 'toy_trees')\n",
    "file = glob.glob(os.path.join(datapath, 'tree*.npy'))\n",
    "print(file)\n",
    "df = np.load(file[0])"
   ]
  },
  {
   "cell_type": "code",
   "execution_count": 9,
   "metadata": {},
   "outputs": [
    {
     "data": {
      "text/plain": [
       "(120241, 16)"
      ]
     },
     "execution_count": 9,
     "metadata": {},
     "output_type": "execute_result"
    }
   ],
   "source": [
    "df[::10].shape"
   ]
  },
  {
   "cell_type": "code",
   "execution_count": 4,
   "metadata": {},
   "outputs": [
    {
     "name": "stdout",
     "output_type": "stream",
     "text": [
      "toy300000.npy (360000, 16)\n",
      "toy700000.npy (360000, 16)\n",
      "toy800000.npy (360000, 16)\n",
      "toy200000.npy (360000, 16)\n",
      "toy600000.npy (360000, 16)\n",
      "toy400000.npy (360000, 16)\n",
      "toy100000.npy (360000, 16)\n",
      "toy500000.npy (360000, 16)\n"
     ]
    },
    {
     "data": {
      "text/plain": [
       "(2880000, 16)"
      ]
     },
     "execution_count": 4,
     "metadata": {},
     "output_type": "execute_result"
    }
   ],
   "source": [
    "# define the path of the data stored\n",
    "mockname = 'single'\n",
    "datapath = os.path.join(_data, mockname)\n",
    "\n",
    "# read the numpy files\n",
    "files = {}\n",
    "for file in glob.glob(os.path.join(datapath, 'toy*.npy')):\n",
    "    df = np.load(file)\n",
    "    filename = file.split('/')[-1]\n",
    "    if df.shape[0] > 0:\n",
    "        files[filename] = df\n",
    "        print(filename, df.shape)\n",
    "    else:\n",
    "        print('file %s empty' %(filename))\n",
    "    \n",
    "# concatenate all data\n",
    "df = np.concatenate(list(files.values()))\n",
    "df.shape"
   ]
  },
  {
   "cell_type": "code",
   "execution_count": 5,
   "metadata": {},
   "outputs": [
    {
     "data": {
      "text/html": [
       "<div>\n",
       "<style scoped>\n",
       "    .dataframe tbody tr th:only-of-type {\n",
       "        vertical-align: middle;\n",
       "    }\n",
       "\n",
       "    .dataframe tbody tr th {\n",
       "        vertical-align: top;\n",
       "    }\n",
       "\n",
       "    .dataframe thead th {\n",
       "        text-align: right;\n",
       "    }\n",
       "</style>\n",
       "<table border=\"1\" class=\"dataframe\">\n",
       "  <thead>\n",
       "    <tr style=\"text-align: right;\">\n",
       "      <th></th>\n",
       "      <th>timestamp</th>\n",
       "      <th>yaw</th>\n",
       "      <th>pitch</th>\n",
       "      <th>distance</th>\n",
       "      <th>distance_noise</th>\n",
       "      <th>x</th>\n",
       "      <th>y</th>\n",
       "      <th>z</th>\n",
       "      <th>x_noise</th>\n",
       "      <th>y_noise</th>\n",
       "      <th>z_noise</th>\n",
       "      <th>object_id</th>\n",
       "      <th>color0</th>\n",
       "      <th>color1</th>\n",
       "      <th>color2</th>\n",
       "      <th>idx</th>\n",
       "    </tr>\n",
       "  </thead>\n",
       "  <tbody>\n",
       "    <tr>\n",
       "      <th>0</th>\n",
       "      <td>0.0</td>\n",
       "      <td>2.792527</td>\n",
       "      <td>-0.349066</td>\n",
       "      <td>19.475212</td>\n",
       "      <td>19.473883</td>\n",
       "      <td>6.302485</td>\n",
       "      <td>0.184492</td>\n",
       "      <td>-4.768372e-07</td>\n",
       "      <td>6.302054</td>\n",
       "      <td>0.185163</td>\n",
       "      <td>0.000956</td>\n",
       "      <td>1.851878e+09</td>\n",
       "      <td>204.0</td>\n",
       "      <td>204.0</td>\n",
       "      <td>204.0</td>\n",
       "      <td>0.0</td>\n",
       "    </tr>\n",
       "    <tr>\n",
       "      <th>1</th>\n",
       "      <td>0.0</td>\n",
       "      <td>2.792527</td>\n",
       "      <td>-0.347994</td>\n",
       "      <td>19.488605</td>\n",
       "      <td>19.483915</td>\n",
       "      <td>6.309018</td>\n",
       "      <td>0.159097</td>\n",
       "      <td>-2.384186e-06</td>\n",
       "      <td>6.307500</td>\n",
       "      <td>0.161465</td>\n",
       "      <td>0.003367</td>\n",
       "      <td>1.851878e+09</td>\n",
       "      <td>204.0</td>\n",
       "      <td>204.0</td>\n",
       "      <td>204.0</td>\n",
       "      <td>1.0</td>\n",
       "    </tr>\n",
       "    <tr>\n",
       "      <th>2</th>\n",
       "      <td>0.0</td>\n",
       "      <td>2.792527</td>\n",
       "      <td>-0.346922</td>\n",
       "      <td>19.502045</td>\n",
       "      <td>19.503557</td>\n",
       "      <td>6.315565</td>\n",
       "      <td>0.133648</td>\n",
       "      <td>-1.907349e-06</td>\n",
       "      <td>6.316054</td>\n",
       "      <td>0.132884</td>\n",
       "      <td>-0.001087</td>\n",
       "      <td>1.851878e+09</td>\n",
       "      <td>204.0</td>\n",
       "      <td>204.0</td>\n",
       "      <td>204.0</td>\n",
       "      <td>2.0</td>\n",
       "    </tr>\n",
       "    <tr>\n",
       "      <th>3</th>\n",
       "      <td>0.0</td>\n",
       "      <td>2.792527</td>\n",
       "      <td>-0.345848</td>\n",
       "      <td>19.515530</td>\n",
       "      <td>19.516897</td>\n",
       "      <td>6.322124</td>\n",
       "      <td>0.108150</td>\n",
       "      <td>0.000000e+00</td>\n",
       "      <td>6.322566</td>\n",
       "      <td>0.107457</td>\n",
       "      <td>-0.000980</td>\n",
       "      <td>1.851878e+09</td>\n",
       "      <td>204.0</td>\n",
       "      <td>204.0</td>\n",
       "      <td>204.0</td>\n",
       "      <td>3.0</td>\n",
       "    </tr>\n",
       "    <tr>\n",
       "      <th>4</th>\n",
       "      <td>0.0</td>\n",
       "      <td>2.792527</td>\n",
       "      <td>-0.344774</td>\n",
       "      <td>19.529070</td>\n",
       "      <td>19.524522</td>\n",
       "      <td>6.328699</td>\n",
       "      <td>0.082594</td>\n",
       "      <td>-1.430511e-06</td>\n",
       "      <td>6.327225</td>\n",
       "      <td>0.084903</td>\n",
       "      <td>0.003257</td>\n",
       "      <td>1.851878e+09</td>\n",
       "      <td>204.0</td>\n",
       "      <td>204.0</td>\n",
       "      <td>204.0</td>\n",
       "      <td>4.0</td>\n",
       "    </tr>\n",
       "    <tr>\n",
       "      <th>...</th>\n",
       "      <td>...</td>\n",
       "      <td>...</td>\n",
       "      <td>...</td>\n",
       "      <td>...</td>\n",
       "      <td>...</td>\n",
       "      <td>...</td>\n",
       "      <td>...</td>\n",
       "      <td>...</td>\n",
       "      <td>...</td>\n",
       "      <td>...</td>\n",
       "      <td>...</td>\n",
       "      <td>...</td>\n",
       "      <td>...</td>\n",
       "      <td>...</td>\n",
       "      <td>...</td>\n",
       "      <td>...</td>\n",
       "    </tr>\n",
       "    <tr>\n",
       "      <th>2879995</th>\n",
       "      <td>0.0</td>\n",
       "      <td>3.489587</td>\n",
       "      <td>0.343699</td>\n",
       "      <td>23.814966</td>\n",
       "      <td>23.816835</td>\n",
       "      <td>2.596897</td>\n",
       "      <td>14.999995</td>\n",
       "      <td>7.414147e+00</td>\n",
       "      <td>2.596826</td>\n",
       "      <td>15.001906</td>\n",
       "      <td>7.413630</td>\n",
       "      <td>1.851878e+09</td>\n",
       "      <td>204.0</td>\n",
       "      <td>204.0</td>\n",
       "      <td>204.0</td>\n",
       "      <td>359995.0</td>\n",
       "    </tr>\n",
       "    <tr>\n",
       "      <th>2879996</th>\n",
       "      <td>0.0</td>\n",
       "      <td>3.489587</td>\n",
       "      <td>0.344774</td>\n",
       "      <td>23.806133</td>\n",
       "      <td>23.811354</td>\n",
       "      <td>2.591010</td>\n",
       "      <td>15.000000</td>\n",
       "      <td>7.436613e+00</td>\n",
       "      <td>2.590809</td>\n",
       "      <td>15.005339</td>\n",
       "      <td>7.435174</td>\n",
       "      <td>1.851878e+09</td>\n",
       "      <td>204.0</td>\n",
       "      <td>204.0</td>\n",
       "      <td>204.0</td>\n",
       "      <td>359996.0</td>\n",
       "    </tr>\n",
       "    <tr>\n",
       "      <th>2879997</th>\n",
       "      <td>0.0</td>\n",
       "      <td>3.489587</td>\n",
       "      <td>0.345848</td>\n",
       "      <td>23.797331</td>\n",
       "      <td>23.794697</td>\n",
       "      <td>2.585132</td>\n",
       "      <td>14.999997</td>\n",
       "      <td>7.459049e+00</td>\n",
       "      <td>2.585234</td>\n",
       "      <td>14.997303</td>\n",
       "      <td>7.459772</td>\n",
       "      <td>1.851878e+09</td>\n",
       "      <td>204.0</td>\n",
       "      <td>204.0</td>\n",
       "      <td>204.0</td>\n",
       "      <td>359997.0</td>\n",
       "    </tr>\n",
       "    <tr>\n",
       "      <th>2879998</th>\n",
       "      <td>0.0</td>\n",
       "      <td>3.489587</td>\n",
       "      <td>0.346922</td>\n",
       "      <td>23.788570</td>\n",
       "      <td>23.784597</td>\n",
       "      <td>2.579261</td>\n",
       "      <td>15.000000</td>\n",
       "      <td>7.481451e+00</td>\n",
       "      <td>2.579416</td>\n",
       "      <td>14.995934</td>\n",
       "      <td>7.482540</td>\n",
       "      <td>1.851878e+09</td>\n",
       "      <td>204.0</td>\n",
       "      <td>204.0</td>\n",
       "      <td>204.0</td>\n",
       "      <td>359998.0</td>\n",
       "    </tr>\n",
       "    <tr>\n",
       "      <th>2879999</th>\n",
       "      <td>0.0</td>\n",
       "      <td>3.489587</td>\n",
       "      <td>0.347994</td>\n",
       "      <td>23.779848</td>\n",
       "      <td>23.780098</td>\n",
       "      <td>2.573400</td>\n",
       "      <td>15.000001</td>\n",
       "      <td>7.503821e+00</td>\n",
       "      <td>2.573390</td>\n",
       "      <td>15.000257</td>\n",
       "      <td>7.503753</td>\n",
       "      <td>1.851878e+09</td>\n",
       "      <td>204.0</td>\n",
       "      <td>204.0</td>\n",
       "      <td>204.0</td>\n",
       "      <td>359999.0</td>\n",
       "    </tr>\n",
       "  </tbody>\n",
       "</table>\n",
       "<p>2880000 rows × 16 columns</p>\n",
       "</div>"
      ],
      "text/plain": [
       "         timestamp       yaw     pitch   distance  distance_noise         x  \\\n",
       "0              0.0  2.792527 -0.349066  19.475212       19.473883  6.302485   \n",
       "1              0.0  2.792527 -0.347994  19.488605       19.483915  6.309018   \n",
       "2              0.0  2.792527 -0.346922  19.502045       19.503557  6.315565   \n",
       "3              0.0  2.792527 -0.345848  19.515530       19.516897  6.322124   \n",
       "4              0.0  2.792527 -0.344774  19.529070       19.524522  6.328699   \n",
       "...            ...       ...       ...        ...             ...       ...   \n",
       "2879995        0.0  3.489587  0.343699  23.814966       23.816835  2.596897   \n",
       "2879996        0.0  3.489587  0.344774  23.806133       23.811354  2.591010   \n",
       "2879997        0.0  3.489587  0.345848  23.797331       23.794697  2.585132   \n",
       "2879998        0.0  3.489587  0.346922  23.788570       23.784597  2.579261   \n",
       "2879999        0.0  3.489587  0.347994  23.779848       23.780098  2.573400   \n",
       "\n",
       "                 y             z   x_noise    y_noise   z_noise     object_id  \\\n",
       "0         0.184492 -4.768372e-07  6.302054   0.185163  0.000956  1.851878e+09   \n",
       "1         0.159097 -2.384186e-06  6.307500   0.161465  0.003367  1.851878e+09   \n",
       "2         0.133648 -1.907349e-06  6.316054   0.132884 -0.001087  1.851878e+09   \n",
       "3         0.108150  0.000000e+00  6.322566   0.107457 -0.000980  1.851878e+09   \n",
       "4         0.082594 -1.430511e-06  6.327225   0.084903  0.003257  1.851878e+09   \n",
       "...            ...           ...       ...        ...       ...           ...   \n",
       "2879995  14.999995  7.414147e+00  2.596826  15.001906  7.413630  1.851878e+09   \n",
       "2879996  15.000000  7.436613e+00  2.590809  15.005339  7.435174  1.851878e+09   \n",
       "2879997  14.999997  7.459049e+00  2.585234  14.997303  7.459772  1.851878e+09   \n",
       "2879998  15.000000  7.481451e+00  2.579416  14.995934  7.482540  1.851878e+09   \n",
       "2879999  15.000001  7.503821e+00  2.573390  15.000257  7.503753  1.851878e+09   \n",
       "\n",
       "         color0  color1  color2       idx  \n",
       "0         204.0   204.0   204.0       0.0  \n",
       "1         204.0   204.0   204.0       1.0  \n",
       "2         204.0   204.0   204.0       2.0  \n",
       "3         204.0   204.0   204.0       3.0  \n",
       "4         204.0   204.0   204.0       4.0  \n",
       "...         ...     ...     ...       ...  \n",
       "2879995   204.0   204.0   204.0  359995.0  \n",
       "2879996   204.0   204.0   204.0  359996.0  \n",
       "2879997   204.0   204.0   204.0  359997.0  \n",
       "2879998   204.0   204.0   204.0  359998.0  \n",
       "2879999   204.0   204.0   204.0  359999.0  \n",
       "\n",
       "[2880000 rows x 16 columns]"
      ]
     },
     "execution_count": 5,
     "metadata": {},
     "output_type": "execute_result"
    }
   ],
   "source": [
    "# pass this to a pandas data frame for simplicity\n",
    "scan = pd.DataFrame(df, columns=['timestamp', 'yaw', 'pitch', 'distance','distance_noise',\n",
    "                                'x','y','z',\n",
    "                                'x_noise','y_noise','z_noise',\n",
    "                                'object_id', 'color0', 'color1','color2', 'idx'])\n",
    "\n",
    "scan"
   ]
  },
  {
   "cell_type": "code",
   "execution_count": 6,
   "metadata": {},
   "outputs": [],
   "source": [
    "### get the leaves only\n",
    "leaves = scan['object_id'] == 1986094444.0\n",
    "points = np.vstack((np.array(scan['x']), np.array(scan['y']), np.array(scan['z']))).transpose()\n",
    "# pcd = lad.points2pcd(points)\n",
    "pcd = o3d.geometry.PointCloud()\n",
    "pcd.points = o3d.utility.Vector3dVector(points[leaves])\n",
    "pcd.colors = o3d.utility.Vector3dVector(np.random.uniform(0, 1, size=np.asarray(pcd.points).shape))\n",
    "o3d.visualization.draw_geometries([pcd])"
   ]
  },
  {
   "cell_type": "code",
   "execution_count": 7,
   "metadata": {},
   "outputs": [
    {
     "data": {
      "image/png": "[encoded data removed]",
      "text/plain": [
       "<Figure size 1296x864 with 2 Axes>"
      ]
     },
     "metadata": {
      "needs_background": "dark"
     },
     "output_type": "display_data"
    },
    {
     "data": {
      "text/plain": [
       "<matplotlib.collections.PathCollection at 0x7f417502d250>"
      ]
     },
     "execution_count": 7,
     "metadata": {},
     "output_type": "execute_result"
    },
    {
     "data": {
      "image/png": "[encoded data removed]",
      "text/plain": [
       "<Figure size 1008x576 with 1 Axes>"
      ]
     },
     "metadata": {
      "needs_background": "dark"
     },
     "output_type": "display_data"
    }
   ],
   "source": [
    "# Here we show how some of the point cloud parameters looks like.\n",
    "cols = ['x','y']\n",
    "\n",
    "plt.figure(figsize=(18, 4*3))\n",
    "\n",
    "for num, i in enumerate(cols):\n",
    "    \n",
    "    plt.subplot(3,3,num+1)\n",
    "    plt.hist(scan[i][leaves], 80, alpha=0.5, label=i)\n",
    "    plt.legend()\n",
    "    \n",
    "plt.show()\n",
    "\n",
    "plt.figure(figsize=(14, 8))\n",
    "plt.scatter(scan['x'][leaves], scan['y'][leaves])"
   ]
  },
  {
   "cell_type": "code",
   "execution_count": 9,
   "metadata": {},
   "outputs": [
    {
     "data": {
      "text/plain": [
       "<matplotlib.legend.Legend at 0x7f41733ea910>"
      ]
     },
     "execution_count": 9,
     "metadata": {},
     "output_type": "execute_result"
    },
    {
     "data": {
      "image/png": "[encoded data removed]",
      "text/plain": [
       "<Figure size 1008x576 with 1 Axes>"
      ]
     },
     "metadata": {
      "needs_background": "dark"
     },
     "output_type": "display_data"
    }
   ],
   "source": [
    "#\n",
    "plt.figure(figsize=(14, 8))\n",
    "\n",
    "# x = np.linspace(0, 16, 3)\n",
    "# y = np.array([0, 8])\n",
    "\n",
    "x, y = [0], [0]\n",
    "\n",
    "trees = {}\n",
    "num = 0\n",
    "# dx, dy = 4, 4\n",
    "dx, dy = 5, 5\n",
    "\n",
    "resdir_name = 'toy_trees'\n",
    "resdir = os.path.join(datapath, resdir_name)\n",
    "if not os.path.exists(resdir):\n",
    "    os.makedirs(resdir)\n",
    "\n",
    "for i in x:\n",
    "    for j in y:\n",
    "        \n",
    "        keep = np.ones(len(scan['x']), dtype=bool)\n",
    "        keep &= (scan['x'] < i+dx) & (scan['x'] > i-dx)\n",
    "        keep &= (scan['y'] < j+dy) & (scan['y'] > j-dy)\n",
    "        \n",
    "        plt.scatter(scan['x'][leaves & keep], scan['y'][leaves & keep], label=num)\n",
    "        \n",
    "        np.save(os.path.join(resdir, 'tree_%s' %(str(num))), scan[leaves & keep])\n",
    "        \n",
    "        num += 1\n",
    "        \n",
    "plt.legend()   "
   ]
  },
  {
   "cell_type": "code",
   "execution_count": 10,
   "metadata": {},
   "outputs": [
    {
     "name": "stdout",
     "output_type": "stream",
     "text": [
      "[[0.37349295 0.25693007 0.89134166]\n",
      " [0.3734951  0.25692643 0.89134181]\n",
      " [0.37349183 0.25692803 0.89134272]\n",
      " ...\n",
      " [0.87693035 0.28342595 0.38815318]\n",
      " [0.87693022 0.28342695 0.38815275]\n",
      " [0.87693417 0.28341742 0.38815077]]\n",
      "[[    0     1     2]\n",
      " [    0     2     3]\n",
      " [    0     3     4]\n",
      " ...\n",
      " [41138 41140 41141]\n",
      " [41142 41143 41144]\n",
      " [41142 41144 41145]]\n"
     ]
    }
   ],
   "source": [
    "# get true leag-angle-distribution\n",
    "file = \"../data/single/mesh.ply\"\n",
    "mesh = o3d.io.read_triangle_mesh(file)\n",
    "# \n",
    "mesh.compute_triangle_normals()\n",
    "mesh.compute_vertex_normals()\n",
    "# print(mesh.cluster_connected_triangles())\n",
    "# print(\"Computing normal and rendering it.\")\n",
    "# \n",
    "print(np.asarray(mesh.triangle_normals))\n",
    "print(np.asarray(mesh.triangles))\n",
    "o3d.visualization.draw_geometries([mesh], mesh_show_wireframe=True)\n"
   ]
  },
  {
   "cell_type": "code",
   "execution_count": 6,
   "metadata": {},
   "outputs": [
    {
     "data": {
      "text/plain": [
       "0.0267"
      ]
     },
     "execution_count": 6,
     "metadata": {},
     "output_type": "execute_result"
    }
   ],
   "source": [
    "# get leaf area\n",
    "file = \"../data/spherical_02/mesh.ply\"\n",
    "mesh = o3d.io.read_triangle_mesh(file)\n",
    "cidx, nt, area = mesh.cluster_connected_triangles()\n",
    "la = np.array(area)[np.array(nt) == 4][0]\n",
    "np.round(la, 4)"
   ]
  },
  {
   "cell_type": "code",
   "execution_count": 17,
   "metadata": {},
   "outputs": [
    {
     "data": {
      "text/plain": [
       "7144"
      ]
     },
     "execution_count": 17,
     "metadata": {},
     "output_type": "execute_result"
    }
   ],
   "source": [
    "len(area)"
   ]
  },
  {
   "cell_type": "code",
   "execution_count": 11,
   "metadata": {},
   "outputs": [
    {
     "data": {
      "text/plain": [
       "{0.01333, 0.02667}"
      ]
     },
     "execution_count": 11,
     "metadata": {},
     "output_type": "execute_result"
    }
   ],
   "source": [
    "set(np.round(np.array(area), 5))"
   ]
  },
  {
   "cell_type": "code",
   "execution_count": 21,
   "metadata": {},
   "outputs": [
    {
     "data": {
      "text/plain": [
       "0.026666766174740775"
      ]
     },
     "execution_count": 21,
     "metadata": {},
     "output_type": "execute_result"
    }
   ],
   "source": [
    "np.array(area)[np.array(nt) == 4][0]"
   ]
  },
  {
   "cell_type": "code",
   "execution_count": null,
   "metadata": {},
   "outputs": [],
   "source": []
  }
 ],
 "metadata": {
  "interpreter": {
   "hash": "dd457b199a21959d634e86d9176c16bf27a6eca517b0c63f422a118410a38d27"
  },
  "kernelspec": {
   "display_name": "Python 3.8.11 64-bit ('plant-env': conda)",
   "name": "python3"
  },
  "language_info": {
   "name": "python",
   "version": ""
  },
  "orig_nbformat": 4
 },
 "nbformat": 4,
 "nbformat_minor": 2
}