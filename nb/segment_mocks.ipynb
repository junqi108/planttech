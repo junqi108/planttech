{
 "cells": [
  {
   "cell_type": "code",
   "execution_count": 2,
   "metadata": {},
   "outputs": [
    {
     "name": "stdout",
     "output_type": "stream",
     "text": [
      "Jupyter environment detected. Enabling Open3D WebVisualizer.\n",
      "[Open3D INFO] WebRTC GUI backend enabled.\n",
      "[Open3D INFO] WebRTCWindowSystem: HTTP handshake server disabled.\n"
     ]
    },
    {
     "name": "stderr",
     "output_type": "stream",
     "text": [
      "INFO - 2021-09-30 15:57:32,592 - utils - NumExpr defaulting to 4 threads.\n"
     ]
    }
   ],
   "source": [
    "import numpy as np\n",
    "import os, sys, glob\n",
    "import matplotlib.pyplot as plt\n",
    "import open3d as o3d\n",
    "from scipy.stats import chisquare\n",
    "import pandas as pd\n",
    "\n",
    "basedir = os.path.dirname(os.getcwd())\n",
    "_py = os.path.join(basedir, 'py')\n",
    "_data = os.path.join(basedir, 'data')\n",
    "_images = os.path.join(basedir, 'images')\n",
    "\n",
    "sys.path.insert(1, _py)\n",
    "import lad\n",
    "import figures\n",
    "\n",
    "from dotenv import load_dotenv\n",
    "load_dotenv()\n",
    "\n",
    "%load_ext autoreload\n",
    "%autoreload 2\n",
    "\n",
    "%matplotlib qt"
   ]
  },
  {
   "cell_type": "code",
   "execution_count": 3,
   "metadata": {},
   "outputs": [
    {
     "name": "stdout",
     "output_type": "stream",
     "text": [
      "s0100000 22500 1125\n",
      "s0600000 22500 1125\n",
      "s0700000 22500 1125\n",
      "s0500000 22500 1125\n",
      "s0400000 22500 1125\n",
      "s0200000 22500 1125\n",
      "s0300000 22500 1125\n"
     ]
    }
   ],
   "source": [
    "# define the path of the data stored\n",
    "mockname = 'single_combined_lite'\n",
    "downsample = 0.05\n",
    "datapath = os.path.join(_data, mockname)\n",
    "\n",
    "# read the numpy files\n",
    "for file in glob.glob(os.path.join(datapath, 's*.numpy')):\n",
    "    df = np.loadtxt(file)\n",
    "    filename = file.split('/')[-1].split('.')[0]\n",
    "    outfile = os.path.join(_data, mockname, filename)\n",
    "\n",
    "    if downsample is not None:\n",
    "        keep = np.random.randint(0, len(df), int(len(df) * downsample))\n",
    "        print(filename, len(df), len(df[keep]))\n",
    "        np.save(outfile, df[keep])\n",
    "    else:\n",
    "        np.save(outfile, df)\n"
   ]
  },
  {
   "cell_type": "code",
   "execution_count": 4,
   "metadata": {},
   "outputs": [
    {
     "name": "stdout",
     "output_type": "stream",
     "text": [
      "s0200000.npy (1125, 16) (1125, 3)\n",
      "s0300000.npy (1125, 16) (1125, 3)\n",
      "s0700000.npy (1125, 16) (1125, 3)\n",
      "s0600000.npy (1125, 16) (1125, 3)\n",
      "s0500000.npy (1125, 16) (1125, 3)\n",
      "s0100000.npy (1125, 16) (1125, 3)\n",
      "s0400000.npy (1125, 16) (1125, 3)\n",
      "(7875, 16)\n",
      "(7875, 3)\n"
     ]
    }
   ],
   "source": [
    "# define the path of the data stored\n",
    "# mockname = 'single_combined'\n",
    "datapath = os.path.join(_data, mockname)\n",
    "\n",
    "# read the numpy files\n",
    "files = {}\n",
    "bia_pos = {}\n",
    "for file in glob.glob(os.path.join(datapath, 's*.npy')):\n",
    "    df = np.load(file)\n",
    "    filename = file.split('/')[-1]\n",
    "\n",
    "    # sensor coordinates\n",
    "    spos = os.path.join(datapath, 'scanner_pos.txt')\n",
    "    scan = lad.laod_scan_pos(spos)\n",
    "    id = [i.decode(\"utf-8\") for i in scan['scan']]\n",
    "    keep = np.array(id) == filename[:3]\n",
    "    _, sx, sy, sz = scan[keep][0]\n",
    "\n",
    "    if df.shape[0] > 0:\n",
    "        files[filename] = df\n",
    "        bia = np.full((len(df),3), np.array([sx, sy, sz]))\n",
    "        bia_pos[filename] = bia\n",
    "        print(filename, df.shape, bia.shape)\n",
    "    else:\n",
    "        print('file %s empty' %(filename))\n",
    "\n",
    "    \n",
    "    \n",
    "# concatenate all data\n",
    "df = np.concatenate(list(files.values()))\n",
    "bias = np.concatenate(list(bia_pos.values()))\n",
    "print(df.shape)\n",
    "print(bias.shape)"
   ]
  },
  {
   "cell_type": "code",
   "execution_count": 5,
   "metadata": {},
   "outputs": [],
   "source": [
    "# pass this to a pandas data frame for simplicity\n",
    "scan = pd.DataFrame(df, columns=['timestamp', 'yaw', 'pitch', 'distance','distance_noise',\n",
    "                                'x','y','z',\n",
    "                                'x_noise','y_noise','z_noise',\n",
    "                                'object_id', 'color0', 'color1','color2', 'idx'])\n",
    "\n",
    "bia = pd.DataFrame(bias, columns=['sx', 'sy', 'sz'])\n",
    "\n",
    "# concat\n",
    "scan = pd.concat((scan, bia), axis=1)"
   ]
  },
  {
   "cell_type": "code",
   "execution_count": 6,
   "metadata": {},
   "outputs": [
    {
     "data": {
      "text/html": [
       "<div>\n",
       "<style scoped>\n",
       "    .dataframe tbody tr th:only-of-type {\n",
       "        vertical-align: middle;\n",
       "    }\n",
       "\n",
       "    .dataframe tbody tr th {\n",
       "        vertical-align: top;\n",
       "    }\n",
       "\n",
       "    .dataframe thead th {\n",
       "        text-align: right;\n",
       "    }\n",
       "</style>\n",
       "<table border=\"1\" class=\"dataframe\">\n",
       "  <thead>\n",
       "    <tr style=\"text-align: right;\">\n",
       "      <th></th>\n",
       "      <th>timestamp</th>\n",
       "      <th>yaw</th>\n",
       "      <th>pitch</th>\n",
       "      <th>distance</th>\n",
       "      <th>distance_noise</th>\n",
       "      <th>x</th>\n",
       "      <th>y</th>\n",
       "      <th>z</th>\n",
       "      <th>x_noise</th>\n",
       "      <th>y_noise</th>\n",
       "      <th>z_noise</th>\n",
       "      <th>object_id</th>\n",
       "      <th>color0</th>\n",
       "      <th>color1</th>\n",
       "      <th>color2</th>\n",
       "      <th>idx</th>\n",
       "      <th>sx</th>\n",
       "      <th>sy</th>\n",
       "      <th>sz</th>\n",
       "    </tr>\n",
       "  </thead>\n",
       "  <tbody>\n",
       "    <tr>\n",
       "      <th>0</th>\n",
       "      <td>0.0</td>\n",
       "      <td>3.107635</td>\n",
       "      <td>0.274372</td>\n",
       "      <td>14.245876</td>\n",
       "      <td>14.244353</td>\n",
       "      <td>0.465591</td>\n",
       "      <td>-3.798352</td>\n",
       "      <td>8.488060e+00</td>\n",
       "      <td>0.465541</td>\n",
       "      <td>-3.796876</td>\n",
       "      <td>8.488436</td>\n",
       "      <td>1.986094e+09</td>\n",
       "      <td>204.0</td>\n",
       "      <td>204.0</td>\n",
       "      <td>204.0</td>\n",
       "      <td>10333.0</td>\n",
       "      <td>0.0</td>\n",
       "      <td>10.0</td>\n",
       "      <td>12.0</td>\n",
       "    </tr>\n",
       "    <tr>\n",
       "      <th>1</th>\n",
       "      <td>0.0</td>\n",
       "      <td>3.370452</td>\n",
       "      <td>0.224252</td>\n",
       "      <td>11.695342</td>\n",
       "      <td>11.697829</td>\n",
       "      <td>-2.590151</td>\n",
       "      <td>-0.897733</td>\n",
       "      <td>8.636732e+00</td>\n",
       "      <td>-2.590701</td>\n",
       "      <td>-0.900050</td>\n",
       "      <td>8.636017</td>\n",
       "      <td>1.986094e+09</td>\n",
       "      <td>204.0</td>\n",
       "      <td>204.0</td>\n",
       "      <td>204.0</td>\n",
       "      <td>18572.0</td>\n",
       "      <td>0.0</td>\n",
       "      <td>10.0</td>\n",
       "      <td>12.0</td>\n",
       "    </tr>\n",
       "    <tr>\n",
       "      <th>2</th>\n",
       "      <td>0.0</td>\n",
       "      <td>3.402424</td>\n",
       "      <td>-0.219634</td>\n",
       "      <td>18.325695</td>\n",
       "      <td>18.324807</td>\n",
       "      <td>-4.619662</td>\n",
       "      <td>-3.057175</td>\n",
       "      <td>4.768372e-07</td>\n",
       "      <td>-4.619439</td>\n",
       "      <td>-3.056543</td>\n",
       "      <td>0.000581</td>\n",
       "      <td>1.851878e+09</td>\n",
       "      <td>204.0</td>\n",
       "      <td>204.0</td>\n",
       "      <td>204.0</td>\n",
       "      <td>19529.0</td>\n",
       "      <td>0.0</td>\n",
       "      <td>10.0</td>\n",
       "      <td>12.0</td>\n",
       "    </tr>\n",
       "    <tr>\n",
       "      <th>3</th>\n",
       "      <td>0.0</td>\n",
       "      <td>3.073756</td>\n",
       "      <td>-0.067837</td>\n",
       "      <td>21.571997</td>\n",
       "      <td>21.570236</td>\n",
       "      <td>1.458908</td>\n",
       "      <td>-7.866801</td>\n",
       "      <td>-1.549721e-06</td>\n",
       "      <td>1.458789</td>\n",
       "      <td>-7.865342</td>\n",
       "      <td>0.000978</td>\n",
       "      <td>1.851878e+09</td>\n",
       "      <td>204.0</td>\n",
       "      <td>204.0</td>\n",
       "      <td>204.0</td>\n",
       "      <td>9211.0</td>\n",
       "      <td>0.0</td>\n",
       "      <td>10.0</td>\n",
       "      <td>12.0</td>\n",
       "    </tr>\n",
       "    <tr>\n",
       "      <th>4</th>\n",
       "      <td>0.0</td>\n",
       "      <td>3.388784</td>\n",
       "      <td>0.238046</td>\n",
       "      <td>26.827122</td>\n",
       "      <td>26.827043</td>\n",
       "      <td>-6.389652</td>\n",
       "      <td>-15.000002</td>\n",
       "      <td>4.660606e+00</td>\n",
       "      <td>-6.389633</td>\n",
       "      <td>-14.999928</td>\n",
       "      <td>4.660628</td>\n",
       "      <td>1.851878e+09</td>\n",
       "      <td>204.0</td>\n",
       "      <td>204.0</td>\n",
       "      <td>204.0</td>\n",
       "      <td>19175.0</td>\n",
       "      <td>0.0</td>\n",
       "      <td>10.0</td>\n",
       "      <td>12.0</td>\n",
       "    </tr>\n",
       "    <tr>\n",
       "      <th>...</th>\n",
       "      <td>...</td>\n",
       "      <td>...</td>\n",
       "      <td>...</td>\n",
       "      <td>...</td>\n",
       "      <td>...</td>\n",
       "      <td>...</td>\n",
       "      <td>...</td>\n",
       "      <td>...</td>\n",
       "      <td>...</td>\n",
       "      <td>...</td>\n",
       "      <td>...</td>\n",
       "      <td>...</td>\n",
       "      <td>...</td>\n",
       "      <td>...</td>\n",
       "      <td>...</td>\n",
       "      <td>...</td>\n",
       "      <td>...</td>\n",
       "      <td>...</td>\n",
       "      <td>...</td>\n",
       "    </tr>\n",
       "    <tr>\n",
       "      <th>7870</th>\n",
       "      <td>0.0</td>\n",
       "      <td>3.175550</td>\n",
       "      <td>-0.043649</td>\n",
       "      <td>10.223741</td>\n",
       "      <td>10.221073</td>\n",
       "      <td>1.410354</td>\n",
       "      <td>-0.390899</td>\n",
       "      <td>6.509816e+00</td>\n",
       "      <td>1.412256</td>\n",
       "      <td>-0.392102</td>\n",
       "      <td>6.511249</td>\n",
       "      <td>1.986094e+09</td>\n",
       "      <td>204.0</td>\n",
       "      <td>204.0</td>\n",
       "      <td>204.0</td>\n",
       "      <td>12366.0</td>\n",
       "      <td>8.7</td>\n",
       "      <td>-5.0</td>\n",
       "      <td>12.0</td>\n",
       "    </tr>\n",
       "    <tr>\n",
       "      <th>7871</th>\n",
       "      <td>0.0</td>\n",
       "      <td>3.093101</td>\n",
       "      <td>-0.215007</td>\n",
       "      <td>17.843813</td>\n",
       "      <td>17.846757</td>\n",
       "      <td>-3.135930</td>\n",
       "      <td>0.857685</td>\n",
       "      <td>1.668930e-06</td>\n",
       "      <td>-3.137882</td>\n",
       "      <td>0.858651</td>\n",
       "      <td>-0.001978</td>\n",
       "      <td>1.851878e+09</td>\n",
       "      <td>204.0</td>\n",
       "      <td>204.0</td>\n",
       "      <td>204.0</td>\n",
       "      <td>9780.0</td>\n",
       "      <td>8.7</td>\n",
       "      <td>-5.0</td>\n",
       "      <td>12.0</td>\n",
       "    </tr>\n",
       "    <tr>\n",
       "      <th>7872</th>\n",
       "      <td>0.0</td>\n",
       "      <td>2.982794</td>\n",
       "      <td>-0.269869</td>\n",
       "      <td>17.034615</td>\n",
       "      <td>17.037625</td>\n",
       "      <td>-2.825179</td>\n",
       "      <td>-1.346459</td>\n",
       "      <td>1.430511e-06</td>\n",
       "      <td>-2.827215</td>\n",
       "      <td>-1.345813</td>\n",
       "      <td>-0.002119</td>\n",
       "      <td>1.851878e+09</td>\n",
       "      <td>204.0</td>\n",
       "      <td>204.0</td>\n",
       "      <td>204.0</td>\n",
       "      <td>6318.0</td>\n",
       "      <td>8.7</td>\n",
       "      <td>-5.0</td>\n",
       "      <td>12.0</td>\n",
       "    </tr>\n",
       "    <tr>\n",
       "      <th>7873</th>\n",
       "      <td>0.0</td>\n",
       "      <td>3.204597</td>\n",
       "      <td>-0.318747</td>\n",
       "      <td>16.110165</td>\n",
       "      <td>16.109950</td>\n",
       "      <td>-0.089574</td>\n",
       "      <td>1.187146</td>\n",
       "      <td>-9.536743e-07</td>\n",
       "      <td>-0.089457</td>\n",
       "      <td>1.187063</td>\n",
       "      <td>0.000159</td>\n",
       "      <td>1.851878e+09</td>\n",
       "      <td>204.0</td>\n",
       "      <td>204.0</td>\n",
       "      <td>204.0</td>\n",
       "      <td>13207.0</td>\n",
       "      <td>8.7</td>\n",
       "      <td>-5.0</td>\n",
       "      <td>12.0</td>\n",
       "    </tr>\n",
       "    <tr>\n",
       "      <th>7874</th>\n",
       "      <td>0.0</td>\n",
       "      <td>3.146446</td>\n",
       "      <td>0.205724</td>\n",
       "      <td>10.520223</td>\n",
       "      <td>10.519427</td>\n",
       "      <td>0.070739</td>\n",
       "      <td>0.039814</td>\n",
       "      <td>8.711958e+00</td>\n",
       "      <td>0.071392</td>\n",
       "      <td>0.039433</td>\n",
       "      <td>8.712206</td>\n",
       "      <td>1.986094e+09</td>\n",
       "      <td>204.0</td>\n",
       "      <td>204.0</td>\n",
       "      <td>204.0</td>\n",
       "      <td>11518.0</td>\n",
       "      <td>8.7</td>\n",
       "      <td>-5.0</td>\n",
       "      <td>12.0</td>\n",
       "    </tr>\n",
       "  </tbody>\n",
       "</table>\n",
       "<p>7875 rows × 19 columns</p>\n",
       "</div>"
      ],
      "text/plain": [
       "      timestamp       yaw     pitch   distance  distance_noise         x  \\\n",
       "0           0.0  3.107635  0.274372  14.245876       14.244353  0.465591   \n",
       "1           0.0  3.370452  0.224252  11.695342       11.697829 -2.590151   \n",
       "2           0.0  3.402424 -0.219634  18.325695       18.324807 -4.619662   \n",
       "3           0.0  3.073756 -0.067837  21.571997       21.570236  1.458908   \n",
       "4           0.0  3.388784  0.238046  26.827122       26.827043 -6.389652   \n",
       "...         ...       ...       ...        ...             ...       ...   \n",
       "7870        0.0  3.175550 -0.043649  10.223741       10.221073  1.410354   \n",
       "7871        0.0  3.093101 -0.215007  17.843813       17.846757 -3.135930   \n",
       "7872        0.0  2.982794 -0.269869  17.034615       17.037625 -2.825179   \n",
       "7873        0.0  3.204597 -0.318747  16.110165       16.109950 -0.089574   \n",
       "7874        0.0  3.146446  0.205724  10.520223       10.519427  0.070739   \n",
       "\n",
       "              y             z   x_noise    y_noise   z_noise     object_id  \\\n",
       "0     -3.798352  8.488060e+00  0.465541  -3.796876  8.488436  1.986094e+09   \n",
       "1     -0.897733  8.636732e+00 -2.590701  -0.900050  8.636017  1.986094e+09   \n",
       "2     -3.057175  4.768372e-07 -4.619439  -3.056543  0.000581  1.851878e+09   \n",
       "3     -7.866801 -1.549721e-06  1.458789  -7.865342  0.000978  1.851878e+09   \n",
       "4    -15.000002  4.660606e+00 -6.389633 -14.999928  4.660628  1.851878e+09   \n",
       "...         ...           ...       ...        ...       ...           ...   \n",
       "7870  -0.390899  6.509816e+00  1.412256  -0.392102  6.511249  1.986094e+09   \n",
       "7871   0.857685  1.668930e-06 -3.137882   0.858651 -0.001978  1.851878e+09   \n",
       "7872  -1.346459  1.430511e-06 -2.827215  -1.345813 -0.002119  1.851878e+09   \n",
       "7873   1.187146 -9.536743e-07 -0.089457   1.187063  0.000159  1.851878e+09   \n",
       "7874   0.039814  8.711958e+00  0.071392   0.039433  8.712206  1.986094e+09   \n",
       "\n",
       "      color0  color1  color2      idx   sx    sy    sz  \n",
       "0      204.0   204.0   204.0  10333.0  0.0  10.0  12.0  \n",
       "1      204.0   204.0   204.0  18572.0  0.0  10.0  12.0  \n",
       "2      204.0   204.0   204.0  19529.0  0.0  10.0  12.0  \n",
       "3      204.0   204.0   204.0   9211.0  0.0  10.0  12.0  \n",
       "4      204.0   204.0   204.0  19175.0  0.0  10.0  12.0  \n",
       "...      ...     ...     ...      ...  ...   ...   ...  \n",
       "7870   204.0   204.0   204.0  12366.0  8.7  -5.0  12.0  \n",
       "7871   204.0   204.0   204.0   9780.0  8.7  -5.0  12.0  \n",
       "7872   204.0   204.0   204.0   6318.0  8.7  -5.0  12.0  \n",
       "7873   204.0   204.0   204.0  13207.0  8.7  -5.0  12.0  \n",
       "7874   204.0   204.0   204.0  11518.0  8.7  -5.0  12.0  \n",
       "\n",
       "[7875 rows x 19 columns]"
      ]
     },
     "execution_count": 6,
     "metadata": {},
     "output_type": "execute_result"
    }
   ],
   "source": [
    "scan"
   ]
  },
  {
   "cell_type": "code",
   "execution_count": 7,
   "metadata": {},
   "outputs": [],
   "source": [
    "### get the leaves only\n",
    "leaves = scan['object_id'] == 1986094444.0\n",
    "points = np.vstack((np.array(scan['x']), np.array(scan['y']), np.array(scan['z']))).transpose()\n",
    "# pcd = lad.points2pcd(points)\n",
    "pcd = o3d.geometry.PointCloud()\n",
    "pcd.points = o3d.utility.Vector3dVector(points[leaves])\n",
    "pcd.colors = o3d.utility.Vector3dVector(np.random.uniform(0, 1, size=np.asarray(pcd.points).shape))\n",
    "o3d.visualization.draw_geometries([pcd])"
   ]
  },
  {
   "cell_type": "code",
   "execution_count": 15,
   "metadata": {},
   "outputs": [
    {
     "data": {
      "text/plain": [
       "<matplotlib.collections.PathCollection at 0x7f8e75c96a30>"
      ]
     },
     "execution_count": 15,
     "metadata": {},
     "output_type": "execute_result"
    }
   ],
   "source": [
    "# Here we show how some of the point cloud parameters looks like.\n",
    "cols = ['x','y']\n",
    "\n",
    "plt.figure(figsize=(18, 4*3))\n",
    "\n",
    "for num, i in enumerate(cols):\n",
    "    \n",
    "    plt.subplot(3,3,num+1)\n",
    "    plt.hist(scan[i][leaves], 80, alpha=0.5, label=i)\n",
    "    plt.legend()\n",
    "    \n",
    "plt.show()\n",
    "\n",
    "plt.figure(figsize=(14, 8))\n",
    "plt.scatter(scan['x'][leaves], scan['y'][leaves], s=1)"
   ]
  },
  {
   "cell_type": "code",
   "execution_count": 8,
   "metadata": {},
   "outputs": [
    {
     "data": {
      "text/plain": [
       "3446"
      ]
     },
     "execution_count": 8,
     "metadata": {},
     "output_type": "execute_result"
    }
   ],
   "source": [
    "np.sum(leaves)"
   ]
  },
  {
   "cell_type": "code",
   "execution_count": 9,
   "metadata": {},
   "outputs": [
    {
     "data": {
      "text/plain": [
       "<matplotlib.legend.Legend at 0x7f553cf47580>"
      ]
     },
     "execution_count": 9,
     "metadata": {},
     "output_type": "execute_result"
    }
   ],
   "source": [
    "#\n",
    "plt.figure(figsize=(14, 8))\n",
    "\n",
    "# x = np.linspace(0, 16, 3)\n",
    "# y = np.array([0, 8])\n",
    "\n",
    "# centres\n",
    "x, y = [0], [0]\n",
    "\n",
    "trees = {}\n",
    "num = 0\n",
    "# dx, dy = 4, 4\n",
    "dx, dy = 5, 5\n",
    "\n",
    "resdir_name = 'toy_trees'\n",
    "resdir = os.path.join(datapath, resdir_name)\n",
    "if not os.path.exists(resdir):\n",
    "    os.makedirs(resdir)\n",
    "\n",
    "for i in x:\n",
    "    for j in y:\n",
    "        \n",
    "        keep = np.ones(len(scan['x']), dtype=bool)\n",
    "        keep &= (scan['x'] < i+dx) & (scan['x'] > i-dx)\n",
    "        keep &= (scan['y'] < j+dy) & (scan['y'] > j-dy)\n",
    "        \n",
    "        plt.scatter(scan['x'][leaves & keep], scan['y'][leaves & keep], s=0.5, label=num)\n",
    "        \n",
    "        np.save(os.path.join(resdir, 'tree_%s' %(str(num))), scan[leaves & keep])\n",
    "        \n",
    "        num += 1\n",
    "        \n",
    "plt.legend()   "
   ]
  },
  {
   "cell_type": "markdown",
   "metadata": {},
   "source": [
    "# DEV ZONE..."
   ]
  },
  {
   "cell_type": "markdown",
   "metadata": {},
   "source": [
    "# define the path of the data stored\n",
    "mockname = 'single'\n",
    "datapath = os.path.join(_data, mockname, 'toy_trees')\n",
    "file = glob.glob(os.path.join(datapath, 'tree*.npy'))\n",
    "print(file)\n",
    "df = np.load(file[0])"
   ]
  },
  {
   "cell_type": "code",
   "execution_count": 123,
   "metadata": {},
   "outputs": [],
   "source": [
    "mockname = 'single_tmp'\n",
    "datapath = os.path.join(_data, mockname)\n",
    "\n",
    "# read the numpy files\n",
    "files = {}\n",
    "plt.figure(figsize=(18,14))\n",
    "for file in glob.glob(os.path.join(datapath, 's*.npy')):\n",
    "    filename = file.split('/')[-1]\n",
    "    df = np.load(file)\n",
    "    # df = df[::1]\n",
    "    yaw = df.T[1]\n",
    "    pitch = df.T[2]\n",
    "    x, y = df.T[5], df.T[6]\n",
    "\n",
    "    \n",
    "    plt.subplot(3,2,1)\n",
    "    plt.title('yaw')\n",
    "    #np.linspace(2.8, 3.5, 40)\n",
    "    plt.hist(np.rad2deg(yaw), bins=40, histtype='step', lw=2, label=filename)\n",
    "    plt.legend()\n",
    "    plt.subplot(3,2,2)\n",
    "    plt.title('pitch')\n",
    "    #np.linspace(-0.35, 0.3, 40)\n",
    "    plt.hist(np.rad2deg(pitch), bins=40, histtype='step', lw=2, label=filename)\n",
    "    plt.subplot(3,2,3)\n",
    "    plt.title('x')\n",
    "    plt.hist(x, bins=40, histtype='step', lw=2, label=filename)\n",
    "    plt.subplot(3,2,4)\n",
    "    plt.title('y')\n",
    "    plt.hist(y, bins=40, histtype='step', lw=2, label=filename)\n",
    "    plt.subplot(3,2,5)\n",
    "    uv = lad.beam_direction(yaw, pitch, scan_inc=90)\n",
    "    beam_angs = []\n",
    "    for i in uv:\n",
    "        beam_angs.append(lad.vecttoangle([0, 0, 1], i))\n",
    "    plt.hist(np.array(beam_angs), 40, histtype='step', label='pre correction')\n",
    "    plt.legend()\n",
    "    plt.subplot(3,2,6)\n",
    "    plt.hist(uv.T[0], bins=40, histtype='step', lw=2, label=filename+' x')\n",
    "    plt.hist(uv.T[1], bins=40, histtype='step', lw=2, label=filename+' y')\n",
    "    plt.hist(uv.T[2], bins=40, histtype='step', lw=2, label=filename+' z')\n",
    "    plt.legend()\n"
   ]
  },
  {
   "cell_type": "code",
   "execution_count": 130,
   "metadata": {},
   "outputs": [
    {
     "data": {
      "application/vnd.code.notebook.stdout": [
       "(9000, 16)\n",
       "(b's1', 10., 0., 15.)\n"
      ]
     },
     "output_type": "unknown"
    }
   ],
   "source": [
    "colors = ['b', 'cyan', 'orange', 'yellow']\n",
    "fig = plt.figure(figsize=(10,10))\n",
    "ax = plt.axes(projection='3d')\n",
    "\n",
    "for num, file in enumerate(glob.glob(os.path.join(datapath, 's1*.npy'))):\n",
    "    \n",
    "    filename = file.split('/')[-1]\n",
    "    df = np.load(file)\n",
    "    df = df[::10]\n",
    "    print(df.shape)\n",
    "    # yaw = df.T[1]\n",
    "    # pitch = df.T[2]\n",
    "    x, y, z = df.T[5], df.T[6], df.T[7]\n",
    "    # sensor coordinates\n",
    "    spos = os.path.join(datapath, 'scanner_pos.txt')\n",
    "    scan = lad.laod_scan_pos(spos)\n",
    "    id = [i.decode(\"utf-8\") for i in scan['scan']]\n",
    "    keep = np.array(id) == filename[:2]\n",
    "    _, sx, sy, sz = scan[keep][0]\n",
    "    print(scan[keep][0])\n",
    "\n",
    "    ax.scatter3D(x, y, z, c='g', s=1)\n",
    "    ax.scatter3D(sx, sy, sz, c='r', s=10)\n",
    "\n",
    "    p2 = [sx, sy, sz]\n",
    "    res = 2\n",
    "\n",
    "    for i, j, k in zip(x, y, z):\n",
    "\n",
    "        p1 = [i, j, k]\n",
    "\n",
    "        px, py, pz = lad.line2points_vect(p1, p2, res=res)\n",
    "        # ax.scatter3D(px, py, pz, c='k', s=1)\n",
    "        ax.plot3D([i, sx], [j, sy], [k, sz], lw=0.1, color=colors[num])\n"
   ]
  },
  {
   "cell_type": "code",
   "execution_count": 9,
   "metadata": {},
   "outputs": [
    {
     "name": "stdout",
     "output_type": "stream",
     "text": [
      "[[0.37349295 0.25693007 0.89134166]\n",
      " [0.3734951  0.25692643 0.89134181]\n",
      " [0.37349183 0.25692803 0.89134272]\n",
      " ...\n",
      " [0.87693035 0.28342595 0.38815318]\n",
      " [0.87693022 0.28342695 0.38815275]\n",
      " [0.87693417 0.28341742 0.38815077]]\n",
      "[[    0     1     2]\n",
      " [    0     2     3]\n",
      " [    0     3     4]\n",
      " ...\n",
      " [41138 41140 41141]\n",
      " [41142 41143 41144]\n",
      " [41142 41144 41145]]\n"
     ]
    }
   ],
   "source": [
    "# get true leag-angle-distribution\n",
    "file = \"../data/single_57_inv/mesh.ply\"\n",
    "mesh = o3d.io.read_triangle_mesh(file)\n",
    "# \n",
    "mesh.compute_triangle_normals()\n",
    "mesh.compute_vertex_normals()\n",
    "# print(mesh.cluster_connected_triangles())\n",
    "# print(\"Computing normal and rendering it.\")\n",
    "# \n",
    "print(np.asarray(mesh.triangle_normals))\n",
    "print(np.asarray(mesh.triangles))\n",
    "o3d.visualization.draw_geometries([mesh], mesh_show_wireframe=True)\n"
   ]
  },
  {
   "cell_type": "code",
   "execution_count": 6,
   "metadata": {},
   "outputs": [
    {
     "data": {
      "text/plain": [
       "0.0267"
      ]
     },
     "execution_count": 6,
     "metadata": {},
     "output_type": "execute_result"
    }
   ],
   "source": [
    "# get leaf area\n",
    "file = \"../data/spherical_02/mesh.ply\"\n",
    "mesh = o3d.io.read_triangle_mesh(file)\n",
    "cidx, nt, area = mesh.cluster_connected_triangles()\n",
    "la = np.array(area)[np.array(nt) == 4][0]\n",
    "np.round(la, 4)"
   ]
  },
  {
   "cell_type": "code",
   "execution_count": 17,
   "metadata": {},
   "outputs": [
    {
     "data": {
      "text/plain": [
       "7144"
      ]
     },
     "execution_count": 17,
     "metadata": {},
     "output_type": "execute_result"
    }
   ],
   "source": [
    "len(area)"
   ]
  },
  {
   "cell_type": "code",
   "execution_count": 11,
   "metadata": {},
   "outputs": [
    {
     "data": {
      "text/plain": [
       "{0.01333, 0.02667}"
      ]
     },
     "execution_count": 11,
     "metadata": {},
     "output_type": "execute_result"
    }
   ],
   "source": [
    "set(np.round(np.array(area), 5))"
   ]
  },
  {
   "cell_type": "code",
   "execution_count": 21,
   "metadata": {},
   "outputs": [
    {
     "data": {
      "text/plain": [
       "0.026666766174740775"
      ]
     },
     "execution_count": 21,
     "metadata": {},
     "output_type": "execute_result"
    }
   ],
   "source": [
    "np.array(area)[np.array(nt) == 4][0]"
   ]
  },
  {
   "cell_type": "code",
   "execution_count": null,
   "metadata": {},
   "outputs": [],
   "source": []
  }
 ],
 "metadata": {
  "interpreter": {
   "hash": "dd457b199a21959d634e86d9176c16bf27a6eca517b0c63f422a118410a38d27"
  },
  "kernelspec": {
   "display_name": "Python 3.8.11 64-bit ('plant-env': conda)",
   "name": "plant-env"
  },
  "language_info": {
   "codemirror_mode": {
    "name": "ipython",
    "version": 3
   },
   "file_extension": ".py",
   "mimetype": "text/x-python",
   "name": "python",
   "nbconvert_exporter": "python",
   "pygments_lexer": "ipython3",
   "version": "3.8.11"
  },
  "orig_nbformat": 4
 },
 "nbformat": 4,
 "nbformat_minor": 2
}