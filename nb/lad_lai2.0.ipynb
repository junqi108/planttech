{
 "cells": [
  {
   "cell_type": "code",
   "execution_count": 2,
   "metadata": {},
   "outputs": [
    {
     "name": "stdout",
     "output_type": "stream",
     "text": [
      "Jupyter environment detected. Enabling Open3D WebVisualizer.\n",
      "[Open3D INFO] WebRTC GUI backend enabled.\n",
      "[Open3D INFO] WebRTCWindowSystem: HTTP handshake server disabled.\n"
     ]
    },
    {
     "name": "stderr",
     "output_type": "stream",
     "text": [
      "INFO - 2021-09-29 23:16:43,335 - utils - NumExpr defaulting to 4 threads.\n"
     ]
    }
   ],
   "source": [
    "import numpy as np\n",
    "import os, sys, glob\n",
    "import matplotlib.pyplot as plt\n",
    "import open3d as o3d\n",
    "from scipy.stats import chisquare\n",
    "import pandas as pd\n",
    "\n",
    "basedir = os.path.dirname(os.getcwd())\n",
    "_py = os.path.join(basedir, 'py')\n",
    "_data = os.path.join(basedir, 'data')\n",
    "_images = os.path.join(basedir, 'images')\n",
    "\n",
    "sys.path.insert(1, _py)\n",
    "import lad\n",
    "import figures\n",
    "\n",
    "from dotenv import load_dotenv\n",
    "load_dotenv()\n",
    "\n",
    "%load_ext autoreload\n",
    "%autoreload 2\n",
    "\n",
    "%matplotlib qt"
   ]
  },
  {
   "cell_type": "markdown",
   "metadata": {},
   "source": [
    "## Ray tracing\n",
    "\n",
    "Requisites:\n",
    "* Raw files (blensor ouputs) shoul be placed in the root of the directory\n",
    "* Raw files should be named `s1*.npy`, `s2*.npy`, etc\n",
    "* Create a file with sensor positions in the root with name `scanner_pos.txt`. It should contain 4 columns:\n",
    "    * sensor name i.e. `s1`, `s2`, etc\n",
    "    * x coordinate\n",
    "    * y coordinate\n",
    "    * z coordinate"
   ]
  },
  {
   "cell_type": "code",
   "execution_count": 3,
   "metadata": {},
   "outputs": [
    {
     "name": "stdout",
     "output_type": "stream",
     "text": [
      "/home/omar/myproj/planttech/data/single_57_combined_lite/mesh.ply\n",
      "size LPC: \t 11717\n",
      "size new LPC: \t 11717\n",
      "Stage 1: 0.005713362999999916\n",
      "Mean distance between points: \t 0.005459734314491446\n",
      "Stage 2: 0.19427350100000051\n",
      "max --> [72, 74, 45]\n",
      "min --> [0, 0, 0]\n",
      "foliage voxel dimensions: \t (73, 75, 46)\n",
      "ray tracker voxel dimensions: \t (73, 75, 46)\n",
      "Stage 3: 1.2047303250000008\n",
      "Number of voxels ocupied by points cloud: \t 7088\n",
      "Number of voxels ocupied by beam points cloud: \t 236320\n",
      "Total number of voxels in plant regions: \t 251850\n",
      "Number of voxels with attribute 1: \t 7088\n",
      "Number of voxels with attribute 2: \t 229232\n",
      "Number of voxels with attribute 3: \t 15530\n",
      "Stage 4: 0.04232844999999941\n",
      "Stage 5: 0.598852044\n"
     ]
    }
   ],
   "source": [
    "#\n",
    "mockname = 'single_57_combined_lite'\n",
    "debug = False\n",
    "# downsample_debug = None\n",
    "downsample = None\n",
    "voxel_size = 0.13\n",
    "\n",
    "m3att, meshfile, bia, voxk, lia, ws, resdir, tree = lad.get_lad20(mockname, debug=debug, \n",
    "                                downsample=downsample, voxel_size=voxel_size)"
   ]
  },
  {
   "cell_type": "code",
   "execution_count": 21,
   "metadata": {},
   "outputs": [],
   "source": [
    "show=False\n",
    "klia=False\n",
    "use_true_lia=True\n",
    "\n",
    "alphas_k = lad.alpha_k(bia, voxk, lia, ws, resdir, meshfile, \n",
    "                        show=show, klia=klia, use_true_lia=use_true_lia)"
   ]
  },
  {
   "cell_type": "code",
   "execution_count": 22,
   "metadata": {},
   "outputs": [],
   "source": [
    "\n",
    "kbins = 2\n",
    "# lads_min = lad.get_LADS(m3att, voxel_size, kbins, alphas_k[:,2], 1)\n",
    "# lads_max = lad.get_LADS(m3att, voxel_size, kbins, alphas_k[:,4], 1)\n",
    "lads_mid = lad.get_LADS(m3att, voxel_size, kbins, alphas_k[:,6], 1)\n",
    "lads_0 = lad.get_LADS(m3att, voxel_size, kbins, alphas_k[:,6]*0+1, 1.0)\n",
    "# lads_w = lad.get_LADS(m3att, voxel_size, kbins, alphas_k[:,6]*0+1, 1.0, mean_weights_k=alphas_k[:,7])\n",
    "kmax = m3att.shape[2]\n",
    "lads_mesh = lad.get_LADS_mesh(meshfile, voxel_size, kbins, kmax)"
   ]
  },
  {
   "cell_type": "code",
   "execution_count": 23,
   "metadata": {},
   "outputs": [],
   "source": [
    "fig = plt.figure(figsize=(4, 6))\n",
    "# plt.plot(lads_min[0:,1], lads_min[0:,0], marker='*', label='Estimated min')\n",
    "# plt.plot(lads_max[0:,1], lads_max[0:,0], marker='*', label='Estimated max')\n",
    "plt.plot(lads_mesh[0:,1], lads_mesh[0:,0], marker='s', c='k', label='Truth')\n",
    "plt.plot(lads_mid[0:,1], lads_mid[0:,0], marker='*', label='Estimated mid')\n",
    "plt.plot(lads_0[0:,1], lads_0[0:,0], marker='*', label='Estimated 0')\n",
    "# plt.plot(lads_w[0:,1], lads_w[0:,0], marker='*', label='Estimated weighted')\n",
    "\n",
    "plt.xlabel(r'LAD ($m^2/m^3$)')\n",
    "plt.ylabel(r'Height ($m$)')\n",
    "# plt.grid()\n",
    "plt.legend()\n",
    "# plt.show()\n",
    "# plt.xlim(-2,2)\n",
    "\n",
    "mockdir = os.path.join(_data, mockname)\n",
    "resdir_name = '%s_%s' %('results', mockname)\n",
    "resdir = os.path.join(mockdir, resdir_name)\n",
    "savefig = os.path.join(resdir, 'LADs.png')\n",
    "plt.savefig(savefig, dpi=200, bbox_inches='tight')"
   ]
  },
  {
   "cell_type": "markdown",
   "metadata": {},
   "source": [
    "# Dev Zone..."
   ]
  },
  {
   "cell_type": "code",
   "execution_count": 101,
   "metadata": {},
   "outputs": [],
   "source": [
    "# tree.shape\n",
    "points = tree.T[5:8].T\n",
    "pcd = lad.points2pcd(points)\n",
    "pcd_tree = o3d.geometry.KDTreeFlann(pcd)"
   ]
  },
  {
   "cell_type": "code",
   "execution_count": 102,
   "metadata": {},
   "outputs": [],
   "source": [
    "dist = []\n",
    "for i in range(len(pcd.points)):\n",
    "    [k, idx, d2] = pcd_tree.search_knn_vector_3d(pcd.points[i], 2)\n",
    "    # print(pcd.points[i], pcd.points[idx[0]], d2[0])\n",
    "    dist.append(d2[1])\n"
   ]
  },
  {
   "cell_type": "code",
   "execution_count": 103,
   "metadata": {},
   "outputs": [],
   "source": [
    "fig = plt.figure(figsize=(10,6))\n",
    "plt.hist(np.array(dist), 40)\n",
    "mean = np.mean(np.array(dist))\n",
    "plt.axvline(mean, lw=2, ls='--', c='k', label=mean)\n",
    "plt.legend()\n",
    "plt.show()"
   ]
  },
  {
   "cell_type": "code",
   "execution_count": null,
   "metadata": {},
   "outputs": [],
   "source": []
  }
 ],
 "metadata": {
  "interpreter": {
   "hash": "dd457b199a21959d634e86d9176c16bf27a6eca517b0c63f422a118410a38d27"
  },
  "kernelspec": {
   "display_name": "Python 3.8.11 64-bit ('plant-env': conda)",
   "name": "python3"
  },
  "language_info": {
   "codemirror_mode": {
    "name": "ipython",
    "version": 3
   },
   "file_extension": ".py",
   "mimetype": "text/x-python",
   "name": "python",
   "nbconvert_exporter": "python",
   "pygments_lexer": "ipython3",
   "version": "3.8.11"
  },
  "orig_nbformat": 4
 },
 "nbformat": 4,
 "nbformat_minor": 2
}