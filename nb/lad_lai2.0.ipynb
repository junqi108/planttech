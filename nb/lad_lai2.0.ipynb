{
 "cells": [
  {
   "cell_type": "code",
   "execution_count": 1,
   "metadata": {},
   "outputs": [
    {
     "name": "stdout",
     "output_type": "stream",
     "text": [
      "Jupyter environment detected. Enabling Open3D WebVisualizer.\n",
      "[Open3D INFO] WebRTC GUI backend enabled.\n",
      "[Open3D INFO] WebRTCWindowSystem: HTTP handshake server disabled.\n"
     ]
    },
    {
     "name": "stderr",
     "output_type": "stream",
     "text": [
      "INFO - 2021-10-02 08:51:23,314 - utils - NumExpr defaulting to 4 threads.\n"
     ]
    }
   ],
   "source": [
    "import numpy as np\n",
    "import os, sys, glob\n",
    "import matplotlib.pyplot as plt\n",
    "import open3d as o3d\n",
    "from scipy.stats import chisquare\n",
    "import pandas as pd\n",
    "\n",
    "basedir = os.path.dirname(os.getcwd())\n",
    "_py = os.path.join(basedir, 'py')\n",
    "_data = os.path.join(basedir, 'data')\n",
    "_images = os.path.join(basedir, 'images')\n",
    "\n",
    "sys.path.insert(1, _py)\n",
    "import lad\n",
    "import figures\n",
    "import ray as rayt\n",
    "\n",
    "from dotenv import load_dotenv\n",
    "load_dotenv()\n",
    "\n",
    "%load_ext autoreload\n",
    "%autoreload 2\n",
    "\n",
    "%matplotlib qt"
   ]
  },
  {
   "cell_type": "markdown",
   "metadata": {},
   "source": [
    "## Ray tracing\n",
    "\n",
    "Requisites:\n",
    "* Raw files (blensor ouputs) shoul be placed in the root of the directory\n",
    "* Raw files should be named `s1*.npy`, `s2*.npy`, etc\n",
    "* Create a file with sensor positions in the root with name `scanner_pos.txt`. It should contain 4 columns:\n",
    "    * sensor name i.e. `s1`, `s2`, etc\n",
    "    * x coordinate\n",
    "    * y coordinate\n",
    "    * z coordinate"
   ]
  },
  {
   "cell_type": "code",
   "execution_count": 23,
   "metadata": {},
   "outputs": [
    {
     "name": "stdout",
     "output_type": "stream",
     "text": [
      "PR volume: \t 494.9100000000002\n"
     ]
    },
    {
     "name": "stderr",
     "output_type": "stream",
     "text": [
      "100%|██████████| 1125/1125 [00:00<00:00, 6492.16it/s]\n",
      "100%|██████████| 1125/1125 [00:00<00:00, 5591.58it/s]\n",
      "100%|██████████| 1125/1125 [00:00<00:00, 6670.66it/s]\n",
      "100%|██████████| 1125/1125 [00:00<00:00, 5565.37it/s]\n",
      "100%|██████████| 1125/1125 [00:00<00:00, 4347.92it/s]\n",
      "100%|██████████| 1125/1125 [00:00<00:00, 4670.53it/s]\n",
      "100%|██████████| 1125/1125 [00:00<00:00, 3810.10it/s]"
     ]
    },
    {
     "name": "stdout",
     "output_type": "stream",
     "text": [
      "# colide with PR: \t 6381\n",
      "# Dont colide with PR: \t 1494\n",
      "# colide with leaves: \t 3446\n",
      "# pass trhough PR: \t 2935\n"
     ]
    },
    {
     "name": "stderr",
     "output_type": "stream",
     "text": [
      "\n"
     ]
    }
   ],
   "source": [
    "mockname = 'single_combined_lite'\n",
    "voxel_size = 0.05\n",
    "Nipr, Nopr, Nlpc, Npt, volume = rayt.PCdensity(mockname, voxel_size)"
   ]
  },
  {
   "cell_type": "code",
   "execution_count": 41,
   "metadata": {},
   "outputs": [
    {
     "name": "stdout",
     "output_type": "stream",
     "text": [
      "5.930371178598127\n",
      "6.962882140187102\n",
      "12.893253318785229\n"
     ]
    }
   ],
   "source": [
    "print(Npt / volume)\n",
    "print(Nlpc / volume)\n",
    "print(Nipr / volume)"
   ]
  },
  {
   "cell_type": "code",
   "execution_count": 58,
   "metadata": {},
   "outputs": [],
   "source": [
    "\n",
    "\n",
    "points = tree.T[5:8].T\n",
    "dens = []\n",
    "\n",
    "bins = np.linspace(0.08, 0.5, 20)\n",
    "for i in bins:\n",
    "    dens.append([i, lad.get_weigths(points, voxel_size=i)])\n",
    "\n",
    "dens = np.array(dens)"
   ]
  },
  {
   "cell_type": "code",
   "execution_count": 59,
   "metadata": {},
   "outputs": [],
   "source": [
    "mockname = 'single_combined_lite'\n",
    "mockdir = os.path.join(_data, mockname)\n",
    "segtrees_dir = os.path.join(mockdir, 'toy_trees')\n",
    "m3count_files = glob.glob(os.path.join(segtrees_dir, 'm3count*.npy'))\n",
    "\n",
    "dens_counts = []\n",
    "for m3 in m3count_files:\n",
    "    vs = float('.'.join(m3.split('/')[-1].split('_')[-1].split('.')[:-1]))\n",
    "    volume = vs**3\n",
    "    m3count = np.load(m3)\n",
    "    dens_ = m3count/volume\n",
    "    # print(vs, np.sum(dens != 0))\n",
    "    mean = np.median(dens_[dens_ != 0])\n",
    "    dens_counts.append([vs, mean])\n",
    "\n",
    "dens_counts = np.array(dens_counts)\n",
    "dens_counts = dens_counts[np.argsort(dens_counts[:, 0])]"
   ]
  },
  {
   "cell_type": "code",
   "execution_count": 60,
   "metadata": {},
   "outputs": [
    {
     "data": {
      "text/plain": [
       "<matplotlib.legend.Legend at 0x7f55dd647850>"
      ]
     },
     "execution_count": 60,
     "metadata": {},
     "output_type": "execute_result"
    }
   ],
   "source": [
    "plt.plot(dens[:,0], dens[:,1], label='LPC')\n",
    "plt.plot(dens_counts[:,0], dens_counts[:,1], label='BPT')\n",
    "plt.legend()"
   ]
  },
  {
   "cell_type": "code",
   "execution_count": 44,
   "metadata": {},
   "outputs": [
    {
     "name": "stdout",
     "output_type": "stream",
     "text": [
      "/home/omar/myproj/planttech/data/single_combined_lite/mesh.ply\n",
      "size LPC: \t 3446\n",
      "size new LPC: \t 3446\n",
      "Stage 1: 0.0036020229999991216\n",
      "Mean distance between points: \t 0.034093854484334676\n",
      "STD distance between points: \t 0.037555334834547156\n",
      "Stage 2: 0.08828863899999817\n",
      "max --> [47, 45, 29]\n",
      "min --> [0, 0, 0]\n",
      "foliage voxel dimensions: \t (48, 46, 30)\n",
      "ray tracker voxel dimensions: \t (48, 46, 30)\n",
      "Stage 3: 0.4913363240000024\n",
      "Number of voxels ocupied by points cloud: \t 2355\n",
      "Number of voxels ocupied by beam points cloud: \t 56554\n",
      "Total number of voxels in plant regions: \t 66240\n",
      "Number of voxels with attribute 1: \t 2355\n",
      "Number of voxels with attribute 2: \t 54199\n",
      "Number of voxels with attribute 3: \t 9686\n",
      "Stage 4: 0.017128887000005477\n",
      "Stage 5: 0.17037932400000244\n"
     ]
    }
   ],
   "source": [
    "#\n",
    "mockname = 'single_combined_lite'\n",
    "debug = False\n",
    "# downsample_debug = None\n",
    "downsample = None\n",
    "voxel_size = 0.20\n",
    "\n",
    "m3att, meshfile, bia, voxk, lia, ws, resdir, tree = lad.get_lad20(mockname, debug=debug, \n",
    "                                downsample=downsample, voxel_size=voxel_size)"
   ]
  },
  {
   "cell_type": "code",
   "execution_count": 92,
   "metadata": {},
   "outputs": [
    {
     "name": "stdout",
     "output_type": "stream",
     "text": [
      "0.23759809921520628\n"
     ]
    }
   ],
   "source": [
    "la = lad.mesh_leaf_area(meshfile)\n",
    "lpcres = 0.0090 * 1.1\n",
    "# std = 0.0038\n",
    "# minvox = (lpcres-std)/la\n",
    "meanvox = (lpcres)/la\n",
    "# maxvox = (lpcres+std)/la\n",
    "# print(minvox, meanvox, maxvox)\n",
    "print(meanvox)"
   ]
  },
  {
   "cell_type": "code",
   "execution_count": 11,
   "metadata": {},
   "outputs": [],
   "source": [
    "show=False\n",
    "klia=False\n",
    "use_true_lia=True\n",
    "\n",
    "alphas_k = lad.alpha_k(bia, voxk, lia, ws, resdir, meshfile, \n",
    "                        show=show, klia=klia, use_true_lia=use_true_lia)"
   ]
  },
  {
   "cell_type": "code",
   "execution_count": 12,
   "metadata": {},
   "outputs": [],
   "source": [
    "\n",
    "kbins = 1\n",
    "# lads_min = lad.get_LADS(m3att, voxel_size, kbins, alphas_k[:,2], 1)\n",
    "# lads_max = lad.get_LADS(m3att, voxel_size, kbins, alphas_k[:,4], 1)\n",
    "lads_mid = lad.get_LADS(m3att, voxel_size, kbins, alphas_k[:,6], 1)\n",
    "lads_0 = lad.get_LADS(m3att, voxel_size, kbins, alphas_k[:,6]*0+1, 1.0)\n",
    "# lads_w = lad.get_LADS(m3att, voxel_size, kbins, alphas_k[:,6]*0+1, 1.0, mean_weights_k=alphas_k[:,7])\n",
    "kmax = m3att.shape[2]\n",
    "lads_mesh = lad.get_LADS_mesh(meshfile, voxel_size, kbins, kmax)"
   ]
  },
  {
   "cell_type": "code",
   "execution_count": 13,
   "metadata": {},
   "outputs": [],
   "source": [
    "fig = plt.figure(figsize=(4, 6))\n",
    "# plt.plot(lads_min[0:,1], lads_min[0:,0], marker='*', label='Estimated min')\n",
    "# plt.plot(lads_max[0:,1], lads_max[0:,0], marker='*', label='Estimated max')\n",
    "plt.plot(lads_mesh[0:,1], lads_mesh[0:,0], marker='s', c='k', label='Truth')\n",
    "plt.plot(lads_mid[0:,1], lads_mid[0:,0], marker='*', label='Estimated mid')\n",
    "plt.plot(lads_0[0:,1], lads_0[0:,0], marker='*', label='Estimated 0')\n",
    "# plt.plot(lads_w[0:,1], lads_w[0:,0], marker='*', label='Estimated weighted')\n",
    "\n",
    "plt.xlabel(r'LAD ($m^2/m^3$)')\n",
    "plt.ylabel(r'Height ($m$)')\n",
    "# plt.grid()\n",
    "plt.legend()\n",
    "# plt.show()\n",
    "# plt.xlim(-2,2)\n",
    "\n",
    "mockdir = os.path.join(_data, mockname)\n",
    "resdir_name = '%s_%s' %('results', mockname)\n",
    "resdir = os.path.join(mockdir, resdir_name)\n",
    "savefig = os.path.join(resdir, 'LADs.png')\n",
    "plt.savefig(savefig, dpi=200, bbox_inches='tight')"
   ]
  },
  {
   "cell_type": "markdown",
   "metadata": {},
   "source": [
    "# Dev Zone..."
   ]
  },
  {
   "cell_type": "code",
   "execution_count": 101,
   "metadata": {},
   "outputs": [],
   "source": [
    "# tree.shape\n",
    "points = tree.T[5:8].T\n",
    "pcd = lad.points2pcd(points)\n",
    "pcd_tree = o3d.geometry.KDTreeFlann(pcd)"
   ]
  },
  {
   "cell_type": "code",
   "execution_count": 102,
   "metadata": {},
   "outputs": [],
   "source": [
    "dist = []\n",
    "for i in range(len(pcd.points)):\n",
    "    [k, idx, d2] = pcd_tree.search_knn_vector_3d(pcd.points[i], 2)\n",
    "    # print(pcd.points[i], pcd.points[idx[0]], d2[0])\n",
    "    dist.append(d2[1])\n"
   ]
  },
  {
   "cell_type": "code",
   "execution_count": 103,
   "metadata": {},
   "outputs": [],
   "source": [
    "fig = plt.figure(figsize=(10,6))\n",
    "plt.hist(np.array(dist), 40)\n",
    "mean = np.mean(np.array(dist))\n",
    "plt.axvline(mean, lw=2, ls='--', c='k', label=mean)\n",
    "plt.legend()\n",
    "plt.show()"
   ]
  },
  {
   "cell_type": "code",
   "execution_count": null,
   "metadata": {},
   "outputs": [],
   "source": []
  }
 ],
 "metadata": {
  "interpreter": {
   "hash": "dd457b199a21959d634e86d9176c16bf27a6eca517b0c63f422a118410a38d27"
  },
  "kernelspec": {
   "display_name": "Python 3.8.11 64-bit ('plant-env': conda)",
   "name": "python3"
  },
  "language_info": {
   "codemirror_mode": {
    "name": "ipython",
    "version": 3
   },
   "file_extension": ".py",
   "mimetype": "text/x-python",
   "name": "python",
   "nbconvert_exporter": "python",
   "pygments_lexer": "ipython3",
   "version": "3.8.11"
  },
  "orig_nbformat": 4
 },
 "nbformat": 4,
 "nbformat_minor": 2
}