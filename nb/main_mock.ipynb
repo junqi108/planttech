{
 "cells": [
  {
   "cell_type": "code",
   "execution_count": 19,
   "metadata": {},
   "outputs": [
    {
     "name": "stdout",
     "output_type": "stream",
     "text": [
      "The autoreload extension is already loaded. To reload it, use:\n",
      "  %reload_ext autoreload\n"
     ]
    }
   ],
   "source": [
    "import numpy as np\n",
    "import os, sys, glob\n",
    "import matplotlib.pyplot as plt\n",
    "import open3d as o3d\n",
    "from scipy.stats import chisquare\n",
    "import pandas as pd\n",
    "\n",
    "basedir = os.path.dirname(os.getcwd())\n",
    "_py = os.path.join(basedir, 'py')\n",
    "_data = os.path.join(basedir, 'data')\n",
    "_images = os.path.join(basedir, 'images')\n",
    "\n",
    "sys.path.insert(1, _py)\n",
    "import loads\n",
    "import lia\n",
    "import lad\n",
    "import figures\n",
    "\n",
    "from dotenv import load_dotenv\n",
    "load_dotenv()\n",
    "\n",
    "import warnings\n",
    "warnings.filterwarnings(\"ignore\")\n",
    "\n",
    "%load_ext autoreload\n",
    "%autoreload 2\n",
    "\n",
    "%matplotlib qt\n"
   ]
  },
  {
   "cell_type": "markdown",
   "metadata": {},
   "source": [
    "## Params init\n",
    "\n",
    "Initialize parameters"
   ]
  },
  {
   "cell_type": "code",
   "execution_count": 7,
   "metadata": {},
   "outputs": [],
   "source": [
    "mockname = 'test'"
   ]
  },
  {
   "cell_type": "markdown",
   "metadata": {},
   "source": [
    "## Prepare data\n",
    "\n",
    "Convert Blensor output txt files that have fake numpy extension to real npy"
   ]
  },
  {
   "cell_type": "code",
   "execution_count": 8,
   "metadata": {},
   "outputs": [],
   "source": [
    "loads.numpy2npy(mockname)"
   ]
  },
  {
   "cell_type": "markdown",
   "metadata": {},
   "source": [
    "Next wee create the module to segmentate trees. This will be tuned acordingly for each data set."
   ]
  },
  {
   "cell_type": "code",
   "execution_count": 24,
   "metadata": {},
   "outputs": [],
   "source": [
    "def segtree(df, show=False):\n",
    "\n",
    "    trees = {}\n",
    "\n",
    "    if show:\n",
    "        plt.figure(figsize=(14, 8))\n",
    "\n",
    "    # centres\n",
    "    x, y = [0], [0]\n",
    "    num = 0\n",
    "    dx, dy = 5, 5\n",
    "\n",
    "    # resdir_name = 'toy_trees'\n",
    "    # resdir = os.path.join(datapath, resdir_name)\n",
    "    # if not os.path.exists(resdir):\n",
    "    #     os.makedirs(resdir)\n",
    "\n",
    "    for i in x:\n",
    "        for j in y:\n",
    "            \n",
    "            keep = np.ones(len(df['x']), dtype=bool)\n",
    "            keep &= (df['x'] < i+dx) & (df['x'] > i-dx)\n",
    "            keep &= (df['y'] < j+dy) & (df['y'] > j-dy)\n",
    "\n",
    "            trees['tree_%s' %(str(num))] = keep\n",
    "            \n",
    "            if show:\n",
    "                plt.scatter(df['x'][leaves & keep], df['y'][leaves & keep], s=0.5, label=num)\n",
    "                        \n",
    "            num += 1\n",
    "\n",
    "    if show:\n",
    "        plt.legend()\n",
    "    \n",
    "    return trees\n"
   ]
  },
  {
   "cell_type": "code",
   "execution_count": 26,
   "metadata": {},
   "outputs": [
    {
     "name": "stdout",
     "output_type": "stream",
     "text": [
      "s0200000.npy (22500, 16) (22500, 3)\n",
      "s0300000.npy (22500, 16) (22500, 3)\n",
      "s0700000.npy (22500, 16) (22500, 3)\n",
      "s0600000.npy (22500, 16) (22500, 3)\n",
      "s0500000.npy (22500, 16) (22500, 3)\n",
      "s0100000.npy (22500, 16) (22500, 3)\n",
      "s0400000.npy (22500, 16) (22500, 3)\n"
     ]
    }
   ],
   "source": [
    "# load data into a pandas data frame\n",
    "df = loads.npy2pandas(mockname)\n",
    "# extract leaves. Boolean array output\n",
    "leaves = loads.extract_leaves(df, show=False)\n",
    "# extract trees. Dictionary with boolean arrays output\n",
    "trees = segtree(df)"
   ]
  },
  {
   "cell_type": "code",
   "execution_count": null,
   "metadata": {},
   "outputs": [],
   "source": [
    "# show the point cloud from leaves of firs tree only\n",
    "keep = (trees['tree_0']) & (leaves)\n",
    "loads.showPCfromDF(df[keep])"
   ]
  },
  {
   "cell_type": "markdown",
   "metadata": {},
   "source": [
    "## Compute the `Leaf Inclination Angle` (LIA) for each tree"
   ]
  },
  {
   "cell_type": "code",
   "execution_count": 37,
   "metadata": {},
   "outputs": [
    {
     "name": "stdout",
     "output_type": "stream",
     "text": [
      "(68192, 3)\n"
     ]
    }
   ],
   "source": [
    "for key, val in trees.items():\n",
    "\n",
    "    keep = (val) & (leaves)\n",
    "    df_ = df[['x', 'y', 'z']][keep]\n",
    "    points = loads.DF2array(df[['x', 'y', 'z']][keep])\n",
    "    print(points.shape)"
   ]
  },
  {
   "cell_type": "code",
   "execution_count": 34,
   "metadata": {},
   "outputs": [
    {
     "data": {
      "text/html": [
       "<div>\n",
       "<style scoped>\n",
       "    .dataframe tbody tr th:only-of-type {\n",
       "        vertical-align: middle;\n",
       "    }\n",
       "\n",
       "    .dataframe tbody tr th {\n",
       "        vertical-align: top;\n",
       "    }\n",
       "\n",
       "    .dataframe thead th {\n",
       "        text-align: right;\n",
       "    }\n",
       "</style>\n",
       "<table border=\"1\" class=\"dataframe\">\n",
       "  <thead>\n",
       "    <tr style=\"text-align: right;\">\n",
       "      <th></th>\n",
       "      <th>x</th>\n",
       "      <th>y</th>\n",
       "      <th>z</th>\n",
       "    </tr>\n",
       "  </thead>\n",
       "  <tbody>\n",
       "    <tr>\n",
       "      <th>54</th>\n",
       "      <td>3.529133</td>\n",
       "      <td>2.096912</td>\n",
       "      <td>6.296125</td>\n",
       "    </tr>\n",
       "    <tr>\n",
       "      <th>55</th>\n",
       "      <td>3.551827</td>\n",
       "      <td>2.022412</td>\n",
       "      <td>6.300459</td>\n",
       "    </tr>\n",
       "    <tr>\n",
       "      <th>56</th>\n",
       "      <td>3.509961</td>\n",
       "      <td>2.093048</td>\n",
       "      <td>6.408172</td>\n",
       "    </tr>\n",
       "    <tr>\n",
       "      <th>57</th>\n",
       "      <td>3.556426</td>\n",
       "      <td>1.964666</td>\n",
       "      <td>6.375213</td>\n",
       "    </tr>\n",
       "    <tr>\n",
       "      <th>58</th>\n",
       "      <td>3.586435</td>\n",
       "      <td>1.872954</td>\n",
       "      <td>6.369163</td>\n",
       "    </tr>\n",
       "    <tr>\n",
       "      <th>...</th>\n",
       "      <td>...</td>\n",
       "      <td>...</td>\n",
       "      <td>...</td>\n",
       "    </tr>\n",
       "    <tr>\n",
       "      <th>157468</th>\n",
       "      <td>2.230066</td>\n",
       "      <td>2.795502</td>\n",
       "      <td>8.873904</td>\n",
       "    </tr>\n",
       "    <tr>\n",
       "      <th>157469</th>\n",
       "      <td>2.205568</td>\n",
       "      <td>2.812099</td>\n",
       "      <td>8.913189</td>\n",
       "    </tr>\n",
       "    <tr>\n",
       "      <th>157470</th>\n",
       "      <td>2.181042</td>\n",
       "      <td>2.828716</td>\n",
       "      <td>8.952522</td>\n",
       "    </tr>\n",
       "    <tr>\n",
       "      <th>157471</th>\n",
       "      <td>2.156486</td>\n",
       "      <td>2.845352</td>\n",
       "      <td>8.991902</td>\n",
       "    </tr>\n",
       "    <tr>\n",
       "      <th>157472</th>\n",
       "      <td>2.131901</td>\n",
       "      <td>2.862008</td>\n",
       "      <td>9.031331</td>\n",
       "    </tr>\n",
       "  </tbody>\n",
       "</table>\n",
       "<p>68192 rows × 3 columns</p>\n",
       "</div>"
      ],
      "text/plain": [
       "               x         y         z\n",
       "54      3.529133  2.096912  6.296125\n",
       "55      3.551827  2.022412  6.300459\n",
       "56      3.509961  2.093048  6.408172\n",
       "57      3.556426  1.964666  6.375213\n",
       "58      3.586435  1.872954  6.369163\n",
       "...          ...       ...       ...\n",
       "157468  2.230066  2.795502  8.873904\n",
       "157469  2.205568  2.812099  8.913189\n",
       "157470  2.181042  2.828716  8.952522\n",
       "157471  2.156486  2.845352  8.991902\n",
       "157472  2.131901  2.862008  9.031331\n",
       "\n",
       "[68192 rows x 3 columns]"
      ]
     },
     "execution_count": 34,
     "metadata": {},
     "output_type": "execute_result"
    }
   ],
   "source": [
    "df_"
   ]
  },
  {
   "cell_type": "code",
   "execution_count": 12,
   "metadata": {},
   "outputs": [
    {
     "name": "stdout",
     "output_type": "stream",
     "text": [
      "s0200000.npy (22500, 16) (22500, 3)\n",
      "s0300000.npy (22500, 16) (22500, 3)\n",
      "s0700000.npy (22500, 16) (22500, 3)\n",
      "s0600000.npy (22500, 16) (22500, 3)\n",
      "s0500000.npy (22500, 16) (22500, 3)\n",
      "s0100000.npy (22500, 16) (22500, 3)\n",
      "s0400000.npy (22500, 16) (22500, 3)\n"
     ]
    }
   ],
   "source": [
    "df = loads.npy2pandas(mockname)"
   ]
  },
  {
   "cell_type": "code",
   "execution_count": 17,
   "metadata": {},
   "outputs": [],
   "source": [
    "leaves = loads.extract_leaves(df, show=False)"
   ]
  },
  {
   "cell_type": "code",
   "execution_count": null,
   "metadata": {},
   "outputs": [],
   "source": [
    "# Here we show how some of the point cloud parameters looks like.\n",
    "cols = ['x','y']\n",
    "\n",
    "plt.figure(figsize=(18, 4*3))\n",
    "\n",
    "for num, i in enumerate(cols):\n",
    "    \n",
    "    plt.subplot(3,3,num+1)\n",
    "    plt.hist(scan[i][leaves], 80, alpha=0.5, label=i)\n",
    "    plt.legend()\n",
    "    \n",
    "plt.show()\n",
    "\n",
    "plt.figure(figsize=(14, 8))\n",
    "plt.scatter(scan['x'][leaves], scan['y'][leaves], s=1)"
   ]
  },
  {
   "cell_type": "code",
   "execution_count": null,
   "metadata": {},
   "outputs": [],
   "source": [
    "np.sum(leaves)"
   ]
  },
  {
   "cell_type": "code",
   "execution_count": null,
   "metadata": {},
   "outputs": [],
   "source": [
    "#\n",
    "plt.figure(figsize=(14, 8))\n",
    "\n",
    "# x = np.linspace(0, 16, 3)\n",
    "# y = np.array([0, 8])\n",
    "\n",
    "# centres\n",
    "x, y = [0], [0]\n",
    "\n",
    "trees = {}\n",
    "num = 0\n",
    "# dx, dy = 4, 4\n",
    "dx, dy = 5, 5\n",
    "\n",
    "resdir_name = 'toy_trees'\n",
    "resdir = os.path.join(datapath, resdir_name)\n",
    "if not os.path.exists(resdir):\n",
    "    os.makedirs(resdir)\n",
    "\n",
    "for i in x:\n",
    "    for j in y:\n",
    "        \n",
    "        keep = np.ones(len(scan['x']), dtype=bool)\n",
    "        keep &= (scan['x'] < i+dx) & (scan['x'] > i-dx)\n",
    "        keep &= (scan['y'] < j+dy) & (scan['y'] > j-dy)\n",
    "        \n",
    "        plt.scatter(scan['x'][leaves & keep], scan['y'][leaves & keep], s=0.5, label=num)\n",
    "        \n",
    "        np.save(os.path.join(resdir, 'tree_%s' %(str(num))), scan[leaves & keep])\n",
    "        \n",
    "        num += 1\n",
    "        \n",
    "plt.legend()   "
   ]
  },
  {
   "cell_type": "markdown",
   "metadata": {},
   "source": [
    "# DEV ZONE..."
   ]
  },
  {
   "cell_type": "markdown",
   "metadata": {},
   "source": [
    "# define the path of the data stored\n",
    "mockname = 'single'\n",
    "datapath = os.path.join(_data, mockname, 'toy_trees')\n",
    "file = glob.glob(os.path.join(datapath, 'tree*.npy'))\n",
    "print(file)\n",
    "df = np.load(file[0])"
   ]
  },
  {
   "cell_type": "code",
   "execution_count": null,
   "metadata": {},
   "outputs": [],
   "source": [
    "mockname = 'single_tmp'\n",
    "datapath = os.path.join(_data, mockname)\n",
    "\n",
    "# read the numpy files\n",
    "files = {}\n",
    "plt.figure(figsize=(18,14))\n",
    "for file in glob.glob(os.path.join(datapath, 's*.npy')):\n",
    "    filename = file.split('/')[-1]\n",
    "    df = np.load(file)\n",
    "    # df = df[::1]\n",
    "    yaw = df.T[1]\n",
    "    pitch = df.T[2]\n",
    "    x, y = df.T[5], df.T[6]\n",
    "\n",
    "    \n",
    "    plt.subplot(3,2,1)\n",
    "    plt.title('yaw')\n",
    "    #np.linspace(2.8, 3.5, 40)\n",
    "    plt.hist(np.rad2deg(yaw), bins=40, histtype='step', lw=2, label=filename)\n",
    "    plt.legend()\n",
    "    plt.subplot(3,2,2)\n",
    "    plt.title('pitch')\n",
    "    #np.linspace(-0.35, 0.3, 40)\n",
    "    plt.hist(np.rad2deg(pitch), bins=40, histtype='step', lw=2, label=filename)\n",
    "    plt.subplot(3,2,3)\n",
    "    plt.title('x')\n",
    "    plt.hist(x, bins=40, histtype='step', lw=2, label=filename)\n",
    "    plt.subplot(3,2,4)\n",
    "    plt.title('y')\n",
    "    plt.hist(y, bins=40, histtype='step', lw=2, label=filename)\n",
    "    plt.subplot(3,2,5)\n",
    "    uv = lad.beam_direction(yaw, pitch, scan_inc=90)\n",
    "    beam_angs = []\n",
    "    for i in uv:\n",
    "        beam_angs.append(lad.vecttoangle([0, 0, 1], i))\n",
    "    plt.hist(np.array(beam_angs), 40, histtype='step', label='pre correction')\n",
    "    plt.legend()\n",
    "    plt.subplot(3,2,6)\n",
    "    plt.hist(uv.T[0], bins=40, histtype='step', lw=2, label=filename+' x')\n",
    "    plt.hist(uv.T[1], bins=40, histtype='step', lw=2, label=filename+' y')\n",
    "    plt.hist(uv.T[2], bins=40, histtype='step', lw=2, label=filename+' z')\n",
    "    plt.legend()\n"
   ]
  },
  {
   "cell_type": "code",
   "execution_count": null,
   "metadata": {},
   "outputs": [],
   "source": [
    "colors = ['b', 'cyan', 'orange', 'yellow']\n",
    "fig = plt.figure(figsize=(10,10))\n",
    "ax = plt.axes(projection='3d')\n",
    "\n",
    "for num, file in enumerate(glob.glob(os.path.join(datapath, 's1*.npy'))):\n",
    "    \n",
    "    filename = file.split('/')[-1]\n",
    "    df = np.load(file)\n",
    "    df = df[::10]\n",
    "    print(df.shape)\n",
    "    # yaw = df.T[1]\n",
    "    # pitch = df.T[2]\n",
    "    x, y, z = df.T[5], df.T[6], df.T[7]\n",
    "    # sensor coordinates\n",
    "    spos = os.path.join(datapath, 'scanner_pos.txt')\n",
    "    scan = lad.laod_scan_pos(spos)\n",
    "    id = [i.decode(\"utf-8\") for i in scan['scan']]\n",
    "    keep = np.array(id) == filename[:2]\n",
    "    _, sx, sy, sz = scan[keep][0]\n",
    "    print(scan[keep][0])\n",
    "\n",
    "    ax.scatter3D(x, y, z, c='g', s=1)\n",
    "    ax.scatter3D(sx, sy, sz, c='r', s=10)\n",
    "\n",
    "    p2 = [sx, sy, sz]\n",
    "    res = 2\n",
    "\n",
    "    for i, j, k in zip(x, y, z):\n",
    "\n",
    "        p1 = [i, j, k]\n",
    "\n",
    "        px, py, pz = lad.line2points_vect(p1, p2, res=res)\n",
    "        # ax.scatter3D(px, py, pz, c='k', s=1)\n",
    "        ax.plot3D([i, sx], [j, sy], [k, sz], lw=0.1, color=colors[num])\n"
   ]
  },
  {
   "cell_type": "code",
   "execution_count": null,
   "metadata": {},
   "outputs": [],
   "source": [
    "# get true leag-angle-distribution\n",
    "file = \"../data/single_57_inv/mesh.ply\"\n",
    "mesh = o3d.io.read_triangle_mesh(file)\n",
    "# \n",
    "mesh.compute_triangle_normals()\n",
    "mesh.compute_vertex_normals()\n",
    "# print(mesh.cluster_connected_triangles())\n",
    "# print(\"Computing normal and rendering it.\")\n",
    "# \n",
    "print(np.asarray(mesh.triangle_normals))\n",
    "print(np.asarray(mesh.triangles))\n",
    "o3d.visualization.draw_geometries([mesh], mesh_show_wireframe=True)\n"
   ]
  },
  {
   "cell_type": "code",
   "execution_count": null,
   "metadata": {},
   "outputs": [],
   "source": [
    "# get leaf area\n",
    "file = \"../data/spherical_02/mesh.ply\"\n",
    "mesh = o3d.io.read_triangle_mesh(file)\n",
    "cidx, nt, area = mesh.cluster_connected_triangles()\n",
    "la = np.array(area)[np.array(nt) == 4][0]\n",
    "np.round(la, 4)"
   ]
  },
  {
   "cell_type": "code",
   "execution_count": null,
   "metadata": {},
   "outputs": [],
   "source": [
    "len(area)"
   ]
  },
  {
   "cell_type": "code",
   "execution_count": null,
   "metadata": {},
   "outputs": [],
   "source": [
    "set(np.round(np.array(area), 5))"
   ]
  },
  {
   "cell_type": "code",
   "execution_count": null,
   "metadata": {},
   "outputs": [],
   "source": [
    "np.array(area)[np.array(nt) == 4][0]"
   ]
  },
  {
   "cell_type": "code",
   "execution_count": null,
   "metadata": {},
   "outputs": [],
   "source": []
  }
 ],
 "metadata": {
  "interpreter": {
   "hash": "dd457b199a21959d634e86d9176c16bf27a6eca517b0c63f422a118410a38d27"
  },
  "kernelspec": {
   "display_name": "Python 3.8.11 64-bit ('plant-env': conda)",
   "name": "python3"
  },
  "language_info": {
   "codemirror_mode": {
    "name": "ipython",
    "version": 3
   },
   "file_extension": ".py",
   "mimetype": "text/x-python",
   "name": "python",
   "nbconvert_exporter": "python",
   "pygments_lexer": "ipython3",
   "version": "3.8.11"
  },
  "orig_nbformat": 4
 },
 "nbformat": 4,
 "nbformat_minor": 2
}