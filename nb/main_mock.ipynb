{
 "cells": [
  {
   "cell_type": "code",
   "execution_count": 71,
   "source": [
    "import numpy as np\n",
    "import os, sys, glob\n",
    "import matplotlib.pyplot as plt\n",
    "import open3d as o3d\n",
    "from scipy.stats import chisquare\n",
    "import pandas as pd\n",
    "import pyrr\n",
    "from tqdm import tqdm\n",
    "\n",
    "basedir = os.path.dirname(os.getcwd())\n",
    "_py = os.path.join(basedir, 'py')\n",
    "_data = os.path.join(basedir, 'data')\n",
    "_images = os.path.join(basedir, 'images')\n",
    "\n",
    "sys.path.insert(1, _py)\n",
    "import loads\n",
    "import lia\n",
    "import ray as rayt\n",
    "# import lad\n",
    "import figures\n",
    "\n",
    "# from dotenv import load_dotenv\n",
    "# load_dotenv()\n",
    "\n",
    "import warnings\n",
    "warnings.filterwarnings(\"ignore\")\n",
    "\n",
    "%load_ext autoreload\n",
    "%autoreload 2\n",
    "\n",
    "%matplotlib qt\n"
   ],
   "outputs": [
    {
     "output_type": "stream",
     "name": "stdout",
     "text": [
      "The autoreload extension is already loaded. To reload it, use:\n",
      "  %reload_ext autoreload\n"
     ]
    }
   ],
   "metadata": {}
  },
  {
   "cell_type": "markdown",
   "source": [
    "## Params init\n",
    "\n",
    "Initialize parameters"
   ],
   "metadata": {}
  },
  {
   "cell_type": "code",
   "execution_count": 6,
   "source": [
    "mockname = 'test'"
   ],
   "outputs": [],
   "metadata": {}
  },
  {
   "cell_type": "markdown",
   "source": [
    "## Prepare data\n",
    "\n",
    "Convert Blensor output txt files that have fake numpy extension to real npy"
   ],
   "metadata": {}
  },
  {
   "cell_type": "code",
   "execution_count": 7,
   "source": [
    "loads.numpy2npy(mockname)"
   ],
   "outputs": [],
   "metadata": {}
  },
  {
   "cell_type": "markdown",
   "source": [
    "Next wee create the module to segmentate trees. This will be tuned acordingly for each data set."
   ],
   "metadata": {}
  },
  {
   "cell_type": "code",
   "execution_count": 8,
   "source": [
    "def segtree(df, show=False):\n",
    "\n",
    "    trees = {}\n",
    "\n",
    "    if show:\n",
    "        plt.figure(figsize=(14, 8))\n",
    "\n",
    "    # centres\n",
    "    x, y = [0], [0]\n",
    "    num = 0\n",
    "    dx, dy = 5, 5\n",
    "\n",
    "    for i in x:\n",
    "        for j in y:\n",
    "            \n",
    "            keep = np.ones(len(df['x']), dtype=bool)\n",
    "            keep &= (df['x'] < i+dx) & (df['x'] > i-dx)\n",
    "            keep &= (df['y'] < j+dy) & (df['y'] > j-dy)\n",
    "\n",
    "            trees['tree_%s' %(str(num))] = keep\n",
    "            \n",
    "            if show:\n",
    "                plt.scatter(df['x'][leaves & keep], df['y'][leaves & keep], s=0.5, label=num)\n",
    "                        \n",
    "            num += 1\n",
    "\n",
    "    if show:\n",
    "        plt.legend()\n",
    "    \n",
    "    return trees\n"
   ],
   "outputs": [],
   "metadata": {}
  },
  {
   "cell_type": "code",
   "execution_count": 9,
   "source": [
    "# load data into a pandas data frame\n",
    "df = loads.npy2pandas(mockname)\n",
    "# extract leaves. Boolean array output\n",
    "leaves = loads.extract_leaves(df, show=False)\n",
    "# extract trees. Dictionary with boolean arrays output\n",
    "trees = segtree(df)"
   ],
   "outputs": [
    {
     "output_type": "stream",
     "name": "stdout",
     "text": [
      "s0600000.npy (22500, 16) (22500, 3)\n",
      "s0700000.npy (22500, 16) (22500, 3)\n",
      "s0100000.npy (22500, 16) (22500, 3)\n",
      "s0500000.npy (22500, 16) (22500, 3)\n",
      "s0400000.npy (22500, 16) (22500, 3)\n",
      "s0200000.npy (22500, 16) (22500, 3)\n",
      "s0300000.npy (22500, 16) (22500, 3)\n"
     ]
    }
   ],
   "metadata": {}
  },
  {
   "cell_type": "code",
   "execution_count": 10,
   "source": [
    "# show the point cloud from leaves of firs tree only\n",
    "keep = (trees['tree_0']) & (leaves)\n",
    "loads.showPCfromDF(df[keep])"
   ],
   "outputs": [
    {
     "output_type": "stream",
     "name": "stdout",
     "text": [
      "\u001b[1;33m[Open3D WARNING] GLFW Error: Cocoa: Failed to find service port for display\u001b[0;m\n"
     ]
    }
   ],
   "metadata": {}
  },
  {
   "cell_type": "markdown",
   "source": [
    "## Compute the `Leaf Inclination Angle` (LIA) for each tree"
   ],
   "metadata": {}
  },
  {
   "cell_type": "code",
   "execution_count": 18,
   "source": [
    "for key, val in trees.items():\n",
    "\n",
    "    keep = (val) & (leaves)\n",
    "    df_ = df[['x', 'y', 'z']][keep]\n",
    "    points = loads.DF2array(df_)\n",
    "    res = lia.bestfit_pars_la(points, mockname, treename=key, weigths=True)\n",
    "    lia.best_fit_pars_plot(res, key, mockname)\n"
   ],
   "outputs": [
    {
     "output_type": "stream",
     "name": "stdout",
     "text": [
      "voxel_size_w 0.0001 DONE...\n",
      "voxel_size_w 0.001 DONE...\n",
      "voxel_size_w 0.01 DONE...\n",
      "voxel_size_w 0.1 DONE...\n",
      "voxel_size_w 1 DONE...\n",
      "voxel_size_w BESTFIT:\t 0.01\n",
      "kd3_sr 0.001 DONE...\n",
      "kd3_sr 0.01 DONE...\n",
      "kd3_sr 0.1 DONE...\n",
      "kd3_sr 1.0 DONE...\n",
      "kd3_sr BESTFIT:\t 1.0\n",
      "max_nn 3 DONE...\n",
      "max_nn 5 DONE...\n",
      "max_nn 10 DONE...\n",
      "max_nn 20 DONE...\n",
      "max_nn 50 DONE...\n",
      "max_nn 100 DONE...\n",
      "max_nn BESTFIT:\t 5\n"
     ]
    }
   ],
   "metadata": {}
  },
  {
   "cell_type": "code",
   "execution_count": 22,
   "source": [
    "# load bestfit results\n",
    "for key, val in trees.items():\n",
    "\n",
    "    keep = (val) & (leaves)\n",
    "    df_ = df[['x', 'y', 'z']][keep]\n",
    "    points = loads.DF2array(df_)\n",
    "\n",
    "    bestfit_file = os.path.join(_data, mockname, 'lia', 'bestfit_%s.npy' %(key))\n",
    "    res = np.load(bestfit_file, allow_pickle=True)\n",
    "    res = res.tolist()\n",
    "\n",
    "    text = 'leaf area=%.2f \\n %s=%.4f \\n %s=%.4f \\n %s=%.4f ' %(res['leafsize'], 'voxel_size_w', res['voxel_size_w_bestfit'],'kd3_sr', res['kd3_sr_bestfit'],'max_nn', res['max_nn_bestfit'])\n",
    "    print(text)\n",
    "\n",
    "    chi2 = lia.leaf_angle(points, mockname, key, res['voxel_size_w_bestfit'], \n",
    "                            res['kd3_sr_bestfit'], res['max_nn_bestfit'], save=True,\n",
    "                                savefig=True, text=text)\n",
    "    \n",
    "    print(chi2)"
   ],
   "outputs": [
    {
     "output_type": "stream",
     "name": "stdout",
     "text": [
      "leaf area=0.04 \n",
      " voxel_size_w=0.0100 \n",
      " kd3_sr=1.0000 \n",
      " max_nn=5.0000 \n",
      "0.0009380330384670287\n"
     ]
    }
   ],
   "metadata": {}
  },
  {
   "cell_type": "markdown",
   "source": [
    "## `\u001dLeaf Area Density` (LAD)"
   ],
   "metadata": {}
  },
  {
   "cell_type": "code",
   "execution_count": 92,
   "source": [
    "\n",
    "downsample = 0.02\n",
    "voxel_size = 0.2\n",
    "show = False\n",
    "sample = None"
   ],
   "outputs": [],
   "metadata": {}
  },
  {
   "cell_type": "code",
   "execution_count": 93,
   "source": [
    "\n",
    "POINTS = loads.DF2array(df[['x', 'y', 'z']])\n",
    "SENSORS = loads.DF2array(df[['sx', 'sy', 'sz']])\n",
    "\n",
    "if downsample is not None:\n",
    "\n",
    "    resdir = os.path.join(_data, mockname, 'lad_%s' %(str(downsample)))\n",
    "    if not os.path.exists(resdir):\n",
    "        os.makedirs(resdir)\n",
    "\n",
    "    idx = np.random.randint(0, len(df), int(len(df) * downsample))\n",
    "    inds = np.zeros(len(df), dtype=bool)\n",
    "    inds[idx] = True\n",
    "\n",
    "    points = POINTS[inds]\n",
    "    sensors = SENSORS[inds]\n",
    "\n",
    "    outdir = os.path.join(resdir, 'inds.npy')\n",
    "    np.save(outdir, inds)\n",
    "\n",
    "else:\n",
    "\n",
    "    resdir = os.path.join(_data, mockname, 'lad')\n",
    "    if not os.path.exists(resdir):\n",
    "        os.makedirs(resdir)\n",
    "\n",
    "if sample is not None:\n",
    "\n",
    "    idx = np.random.randint(0, len(df), int(sample))\n",
    "    points = POINTS[idx]\n",
    "    sensors = SENSORS[idx]\n",
    "\n",
    "for key, val in trees.items():\n",
    "\n",
    "    inPR = (val) & (leaves) & (inds)\n",
    "    pointsPR = POINTS[inPR]\n",
    "    m3s, m3count= rayt.main(points, sensors, pointsPR, voxel_size, resdir, key, show=show)\n",
    "\n"
   ],
   "outputs": [
    {
     "output_type": "stream",
     "name": "stdout",
     "text": [
      "max --> [44, 43, 29]\n",
      "min --> [0, 0, 0]\n"
     ]
    },
    {
     "output_type": "stream",
     "name": "stderr",
     "text": [
      "3121it [00:41, 75.84it/s]\n"
     ]
    },
    {
     "output_type": "stream",
     "name": "stdout",
     "text": [
      "tot vox: \t 59400\n",
      "voxels hitted: \t 40622\n",
      "Percentage of voxels hitted by beam: 0.68\n"
     ]
    }
   ],
   "metadata": {}
  },
  {
   "cell_type": "code",
   "execution_count": 95,
   "source": [
    "if downsample is not None:\n",
    "    inds_file = os.path.join(resdir, 'inds.npy')\n",
    "    inds = np.load(inds_file)\n",
    "\n",
    "\n",
    "for key, val in trees.items():\n",
    "\n",
    "    inPR = (val) & (leaves) & (inds)\n",
    "    pointsPR = POINTS[inPR]\n",
    "    sensorsPR = SENSORS[inPR]\n",
    "\n",
    "    m3att = lad.compute_attributes(pointsPR, resdir, voxel_size, key)\n",
    "    # get in down sample boolean array for LPC size\n",
    "    inds_ = inds[(val) & (leaves)]\n",
    "    lia, ws = lad.downsample_lia(mockname, key, inds_)\n",
    "    voxk = lad.get_voxk(pointsPR, voxel_size)\n",
    "    bia = lad.get_bia(pointsPR, sensorsPR)\n",
    "    meshfile = lad.get_meshfile(mockname)\n",
    "\n",
    "    # print(meshfile)\n",
    "    # print(len(inds), len(inds_), np.sum(inds_))\n",
    "    # print(len(lia), len(ws))\n",
    "    # print(len(voxk))\n",
    "    # print(len(bia))\n",
    "\n"
   ],
   "outputs": [
    {
     "output_type": "stream",
     "name": "stdout",
     "text": [
      "max --> [44, 43, 29]\n",
      "min --> [0, 0, 0]\n",
      "foliage voxel dimensions: \t (45, 44, 30)\n",
      "ray tracker voxel dimensions: \t (45, 44, 30)\n",
      "Number of voxels ocupied by points cloud: \t 1127\n",
      "Number of voxels ocupied by beam points cloud: \t 40622\n",
      "Total number of voxels in plant regions: \t 59400\n",
      "Number of voxels with attribute 1: \t 1127\n",
      "Number of voxels with attribute 2: \t 39495\n",
      "Number of voxels with attribute 3: \t 18778\n",
      "/Users/omar/projects/planttech/data/test/mesh.ply\n",
      "157500 68192 1320\n",
      "1320 1320\n",
      "1320\n",
      "1320\n"
     ]
    }
   ],
   "metadata": {}
  },
  {
   "cell_type": "markdown",
   "source": [
    "# DEV ZONE..."
   ],
   "metadata": {}
  },
  {
   "cell_type": "markdown",
   "source": [],
   "metadata": {}
  }
 ],
 "metadata": {
  "interpreter": {
   "hash": "d949bede1d2d28195f90229403804ad1488824f6ca2cb71c0e4905baa8d9072d"
  },
  "kernelspec": {
   "name": "python3",
   "display_name": "Python 3.8.11 64-bit ('plant-env': conda)"
  },
  "language_info": {
   "codemirror_mode": {
    "name": "ipython",
    "version": 3
   },
   "file_extension": ".py",
   "mimetype": "text/x-python",
   "name": "python",
   "nbconvert_exporter": "python",
   "pygments_lexer": "ipython3",
   "version": "3.8.11"
  },
  "orig_nbformat": 4
 },
 "nbformat": 4,
 "nbformat_minor": 2
}