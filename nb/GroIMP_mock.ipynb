{
 "cells": [
  {
   "cell_type": "code",
   "execution_count": 1,
   "metadata": {
    "cell_style": "center",
    "slideshow": {
     "slide_type": "-"
    }
   },
   "outputs": [
    {
     "name": "stdout",
     "output_type": "stream",
     "text": [
      "/mnt/sda/Github/LiDAR\n",
      "/mnt/sda/Github/LiDAR/py\n",
      "['/mnt/sda/Github/LiDAR/nb', '/mnt/sda/Github/LiDAR/py', '/home/jzhu/miniconda3/envs/plant-env/lib/python38.zip', '/home/jzhu/miniconda3/envs/plant-env/lib/python3.8', '/home/jzhu/miniconda3/envs/plant-env/lib/python3.8/lib-dynload', '', '/home/jzhu/miniconda3/envs/plant-env/lib/python3.8/site-packages', '/home/jzhu/miniconda3/envs/plant-env/lib/python3.8/site-packages/IPython/extensions', '/home/jzhu/.ipython']\n",
      "Jupyter environment detected. Enabling Open3D WebVisualizer.\n",
      "[Open3D INFO] WebRTC GUI backend enabled.\n",
      "[Open3D INFO] WebRTCWindowSystem: HTTP handshake server disabled.\n"
     ]
    }
   ],
   "source": [
    "import numpy as np\n",
    "import os, sys\n",
    "import matplotlib.pyplot as plt\n",
    "\n",
    "import pyrr\n",
    "import itertools\n",
    "\n",
    "#basedir = os.path.dirname(\"/mnt/sda/Github/LiDAR/\")\n",
    "basedir = os.path.abspath(os.path.join(os.getcwd() ,\"../\"))\n",
    "_py = os.path.join(basedir, 'py')\n",
    "_data = os.path.join(basedir, 'data')\n",
    "print(basedir)\n",
    "print(_py)\n",
    "sys.path.insert(1, _py)\n",
    "print(sys.path)\n",
    "import loads \n",
    "import lia\n",
    "import ray as rayt\n",
    "import lad\n",
    "import figures\n",
    "\n",
    "import warnings\n",
    "warnings.filterwarnings(\"ignore\")\n",
    "\n",
    "%load_ext autoreload\n",
    "%autoreload 2\n"
   ]
  },
  {
   "cell_type": "code",
   "execution_count": 3,
   "metadata": {
    "slideshow": {
     "slide_type": "skip"
    }
   },
   "outputs": [
    {
     "name": "stdout",
     "output_type": "stream",
     "text": [
      "GroIMP_PointClouds.csv done --> Number of beams: 120869\n"
     ]
    }
   ],
   "source": [
    "import loads\n",
    "\n",
    "#loads.ply2npy(mockname=\"groimp_mock\")\n",
    "loads.csv2npy(mockname=\"groimp_mock\")"
   ]
  },
  {
   "cell_type": "code",
   "execution_count": 78,
   "metadata": {},
   "outputs": [
    {
     "name": "stdout",
     "output_type": "stream",
     "text": [
      "[[-16.39697  -8.52318   1.79079]\n",
      " [-16.3551   -8.61365   1.79874]\n",
      " [-16.30622  -8.48118   1.79079]\n",
      " [-16.26435  -8.57164   1.79874]\n",
      " [-16.4947   -8.14769   1.71079]\n",
      " [-16.4578   -8.15008   1.80371]\n",
      " [-16.48826  -8.0479    1.71079]\n",
      " [-16.45136  -8.05028   1.80371]\n",
      " [-16.65464  -7.7528    1.83679]\n",
      " [-16.73903  -7.79221   1.87318]\n",
      " [-16.61232  -7.8434    1.83679]\n",
      " [-16.69672  -7.88282   1.87318]\n",
      " [-17.01766  -8.32375   1.66179]\n",
      " [-16.94083  -8.38693   1.67211]\n",
      " [-16.95414  -8.24652   1.66179]\n",
      " [-16.87731  -8.3097    1.67211]\n",
      " [-16.79543  -8.30323   1.77179]\n",
      " [-16.87608  -8.24835   1.79378]\n",
      " [-16.85168  -8.3859    1.77179]\n",
      " [-16.93234  -8.33102   1.79378]\n",
      " [-16.91643  -8.168     1.69479]\n",
      " [-16.96889  -8.17926   1.77918]\n",
      " [-16.89545  -8.26577   1.69479]\n",
      " [-16.94791  -8.27703   1.77918]\n",
      " [-17.12974  -7.70966   1.75979]\n",
      " [-17.08376  -7.74013   1.8432 ]\n",
      " [-17.0745   -7.6263    1.75979]\n",
      " [-17.02852  -7.65678   1.8432 ]\n",
      " [-16.47372  -8.17275   1.88679]\n",
      " [-16.47536  -8.24326   1.95769]\n",
      " [-16.37375  -8.17508   1.88679]\n",
      " [-16.37539  -8.24559   1.95769]\n",
      " [-16.80434  -8.36368   1.68479]\n",
      " [-16.73263  -8.38863   1.74987]\n",
      " [-16.77147  -8.26923   1.68479]\n",
      " [-16.69976  -8.29419   1.74987]\n",
      " [-17.16457  -8.63271   1.74679]\n",
      " [-17.08736  -8.6946    1.76123]\n",
      " [-17.10202  -8.55468   1.74679]\n",
      " [-17.02481  -8.61657   1.76123]\n",
      " [-16.71698  -7.90385   1.83779]\n",
      " [-16.78368  -7.88453   1.90975]\n",
      " [-16.74479  -7.9999    1.83779]\n",
      " [-16.81149  -7.98059   1.90975]\n",
      " [-16.73755  -7.98496   1.95279]\n",
      " [-16.71025  -7.97142   2.04804]\n",
      " [-16.78196  -7.89536   1.95279]\n",
      " [-16.75466  -7.88183   2.04804]\n",
      " [-16.76127  -7.79689   1.78679]\n",
      " [-16.85646  -7.78566   1.8153 ]\n",
      " [-16.77298  -7.8962    1.78679]\n",
      " [-16.86817  -7.88497   1.8153 ]\n",
      " [-16.33322  -8.30211   1.93179]\n",
      " [-16.32457  -8.31087   2.03103]\n",
      " [-16.26208  -8.23183   1.93179]\n",
      " [-16.25343  -8.24059   2.03103]\n",
      " [-16.46176  -7.897     1.77879]\n",
      " [-16.42524  -7.98907   1.79259]\n",
      " [-16.36881  -7.86013   1.77879]\n",
      " [-16.33228  -7.95219   1.79259]\n",
      " [-16.42519  -8.15436   1.85379]\n",
      " [-16.34096  -8.11916   1.89461]\n",
      " [-16.46375  -8.06209   1.85379]\n",
      " [-16.37952  -8.02689   1.89461]\n",
      " [-16.89459  -8.33949   1.71279]\n",
      " [-16.80358  -8.32069   1.74974]\n",
      " [-16.91482  -8.24156   1.71279]\n",
      " [-16.82381  -8.22276   1.74974]\n",
      " [-16.10658  -7.86504   1.61179]\n",
      " [-16.09352  -7.76813   1.63269]\n",
      " [-16.20569  -7.85169   1.61179]\n",
      " [-16.19263  -7.75477   1.63269]\n",
      " [-16.49066  -8.35988   1.64879]\n",
      " [-16.44964  -8.446     1.67881]\n",
      " [-16.40038  -8.31688   1.64879]\n",
      " [-16.35936  -8.403     1.67881]\n",
      " [-17.02324  -7.93817   1.68879]\n",
      " [-16.9906   -7.88746   1.76856]\n",
      " [-17.10733  -7.88404   1.68879]\n",
      " [-17.07469  -7.83333   1.76856]\n",
      " [-16.80731  -7.99266   1.79479]\n",
      " [-16.77811  -8.06181   1.86086]\n",
      " [-16.71519  -7.95376   1.79479]\n",
      " [-16.68599  -8.02292   1.86086]\n",
      " [-16.53647  -8.61782   1.76479]\n",
      " [-16.55118  -8.58656   1.85864]\n",
      " [-16.62695  -8.6604    1.76479]\n",
      " [-16.64166  -8.62914   1.85864]\n",
      " [-16.78342  -8.18061   1.94579]\n",
      " [-16.75892  -8.12663   2.02633]\n",
      " [-16.87448  -8.13928   1.94579]\n",
      " [-16.84998  -8.08531   2.02633]\n",
      " [-16.98561  -8.35922   1.68079]\n",
      " [-16.93385  -8.28471   1.72285]\n",
      " [-17.06774  -8.30218   1.68079]\n",
      " [-17.01599  -8.22766   1.72285]\n",
      " [-16.64851  -8.69415   1.76879]\n",
      " [-16.58117  -8.70881   1.84125]\n",
      " [-16.62725  -8.59644   1.76879]\n",
      " [-16.5599   -8.6111    1.84125]\n",
      " [-16.76301  -8.12916   1.77079]\n",
      " [-16.72647  -8.03796   1.78939]\n",
      " [-16.85584  -8.09197   1.77079]\n",
      " [-16.81929  -8.00076   1.78939]\n",
      " [-17.0022   -8.43517   1.77279]\n",
      " [-16.91834  -8.38191   1.78422]\n",
      " [-17.05582  -8.35076   1.77279]\n",
      " [-16.97196  -8.29749   1.78422]\n",
      " [-16.78556  -8.07456   1.77479]\n",
      " [-16.79524  -8.07319   1.87431]\n",
      " [-16.79953  -8.17358   1.77479]\n",
      " [-16.80921  -8.17221   1.87431]\n",
      " [-16.901    -8.51999   1.81479]\n",
      " [-16.82965  -8.49056   1.87839]\n",
      " [-16.93913  -8.42755   1.81479]\n",
      " [-16.86779  -8.39812   1.87839]\n",
      " [-16.88493  -8.2668    1.76679]\n",
      " [-16.91938  -8.34673   1.81602]\n",
      " [-16.79309  -8.30637   1.76679]\n",
      " [-16.82754  -8.38631   1.81602]\n",
      " [-16.18357  -8.21356   1.86979]\n",
      " [-16.25675  -8.19103   1.93411]\n",
      " [-16.21299  -8.30914   1.86979]\n",
      " [-16.28617  -8.28661   1.93411]\n",
      " [-16.37615  -7.8782    1.77179]\n",
      " [-16.42339  -7.96531   1.78526]\n",
      " [-16.28825  -7.92588   1.77179]\n",
      " [-16.33549  -8.01298   1.78526]\n",
      " [-16.17428  -8.48779   1.82579]\n",
      " [-16.09038  -8.46068   1.87299]\n",
      " [-16.20502  -8.39263   1.82579]\n",
      " [-16.12113  -8.36552   1.87299]\n",
      " [-16.77051  -8.59238   1.81679]\n",
      " [-16.67237  -8.6019    1.83347]\n",
      " [-16.76086  -8.49285   1.81679]\n",
      " [-16.66272  -8.50236   1.83347]\n",
      " [-16.64112  -8.04719   1.75679]\n",
      " [-16.54667  -8.06726   1.78283]\n",
      " [-16.62034  -7.94938   1.75679]\n",
      " [-16.52589  -7.96944   1.78283]\n",
      " [-16.48266  -7.90403   1.68579]\n",
      " [-16.46421  -7.83339   1.75412]\n",
      " [-16.57942  -7.87876   1.68579]\n",
      " [-16.56096  -7.80812   1.75412]\n",
      " [-16.29549  -8.29079   1.74679]\n",
      " [-16.38749  -8.25499   1.76275]\n",
      " [-16.33176  -8.38398   1.74679]\n",
      " [-16.42376  -8.34818   1.76275]\n",
      " [-16.58495  -7.85521   1.87779]\n",
      " [-16.50602  -7.90157   1.91805]\n",
      " [-16.5343   -7.76898   1.87779]\n",
      " [-16.45537  -7.81534   1.91805]\n",
      " [-17.02686  -8.49394   1.80879]\n",
      " [-17.08631  -8.56873   1.83833]\n",
      " [-16.94858  -8.55617   1.80879]\n",
      " [-17.00803  -8.63095   1.83833]\n",
      " [-16.99585  -8.58152   1.87979]\n",
      " [-16.89909  -8.60185   1.89473]\n",
      " [-16.97529  -8.48366   1.87979]\n",
      " [-16.87853  -8.50399   1.89473]\n",
      " [-16.57149  -8.60361   1.78279]\n",
      " [-16.5279   -8.67677   1.83521]\n",
      " [-16.48559  -8.55242   1.78279]\n",
      " [-16.44199  -8.62559   1.83521]\n",
      " [-16.86614  -7.75697   1.64079]\n",
      " [-16.86257  -7.67148   1.69254]\n",
      " [-16.96605  -7.7528    1.64079]\n",
      " [-16.96248  -7.6673    1.69254]\n",
      " [-16.82711  -7.89381   1.84079]\n",
      " [-16.76516  -7.84212   1.89987]\n",
      " [-16.89118  -7.81703   1.84079]\n",
      " [-16.82923  -7.76533   1.89987]\n",
      " [-16.95716  -7.73834   1.77979]\n",
      " [-16.91367  -7.8017    1.84378]\n",
      " [-16.87472  -7.68175   1.77979]\n",
      " [-16.83122  -7.7451    1.84378]\n",
      " [-16.69158  -8.01362   1.94479]\n",
      " [-16.66885  -7.97805   2.03545]\n",
      " [-16.77584  -7.95976   1.94479]\n",
      " [-16.75311  -7.92419   2.03545]\n",
      " [-16.41515  -8.08265   1.78079]\n",
      " [-16.49671  -8.03896   1.81874]\n",
      " [-16.46238  -8.1708    1.78079]\n",
      " [-16.54393  -8.1271    1.81874]\n",
      " [-16.19832  -8.65703   1.68579]\n",
      " [-16.17917  -8.67321   1.7826 ]\n",
      " [-16.13378  -8.58065   1.68579]\n",
      " [-16.11463  -8.59683   1.7826 ]\n",
      " [-16.54961  -8.38901   1.68779]\n",
      " [-16.51062  -8.3257    1.75467]\n",
      " [-16.63476  -8.33658   1.68779]\n",
      " [-16.59577  -8.27327   1.75467]\n",
      " [-16.45797  -7.74016   1.77379]\n",
      " [-16.37444  -7.73782   1.82872]\n",
      " [-16.46077  -7.6402    1.77379]\n",
      " [-16.37724  -7.63786   1.82872]\n",
      " [-16.71848  -7.70976   1.77079]\n",
      " [-16.67578  -7.69077   1.8592 ]\n",
      " [-16.75912  -7.61839   1.77079]\n",
      " [-16.71642  -7.5994    1.8592 ]\n",
      " [-17.02048  -7.82612   1.75979]\n",
      " [-17.01596  -7.76937   1.84201]\n",
      " [-17.12016  -7.81819   1.75979]\n",
      " [-17.11565  -7.76144   1.84201]\n",
      " [-16.66483  -8.39938   1.91879]\n",
      " [-16.72285  -8.31927   1.93354]\n",
      " [-16.74582  -8.45804   1.91879]\n",
      " [-16.80384  -8.37793   1.93354]\n",
      " [-16.4027   -7.78666   1.75879]\n",
      " [-16.40095  -7.8291    1.84933]\n",
      " [-16.30279  -7.78255   1.75879]\n",
      " [-16.30104  -7.82498   1.84933]\n",
      " [-16.9046   -7.68917   1.69779]\n",
      " [-16.97847  -7.74747   1.73163]\n",
      " [-16.84265  -7.76767   1.69779]\n",
      " [-16.91652  -7.82597   1.73163]\n",
      " [-17.01924  -8.50667   1.73579]\n",
      " [-16.98223  -8.59949   1.73967]\n",
      " [-16.92635  -8.46963   1.73579]\n",
      " [-16.88934  -8.56244   1.73967]\n",
      " [-16.58351  -7.96715   1.78579]\n",
      " [-16.63482  -7.90572   1.84574]\n",
      " [-16.66026  -8.03126   1.78579]\n",
      " [-16.71157  -7.96983   1.84574]\n",
      " [-16.7791   -8.58196   1.72979]\n",
      " [-16.8137   -8.67223   1.75537]\n",
      " [-16.68572  -8.61775   1.72979]\n",
      " [-16.72033  -8.70802   1.75537]\n",
      " [-16.24064  -8.4415    1.66979]\n",
      " [-16.30404  -8.49379   1.72676]\n",
      " [-16.17701  -8.51865   1.66979]\n",
      " [-16.24041  -8.57094   1.72676]\n",
      " [-16.39987  -8.44962   1.84379]\n",
      " [-16.37673  -8.44435   1.94094]\n",
      " [-16.42207  -8.35212   1.84379]\n",
      " [-16.39893  -8.34685   1.94094]\n",
      " [-16.41303  -7.95617   1.60079]\n",
      " [-16.36808  -8.04223   1.62471]\n",
      " [-16.32439  -7.90988   1.60079]\n",
      " [-16.27944  -7.99594   1.62471]\n",
      " [-16.84534  -8.14713   1.68079]\n",
      " [-16.83393  -8.05695   1.72248]\n",
      " [-16.94455  -8.13457   1.68079]\n",
      " [-16.93314  -8.0444    1.72248]\n",
      " [-16.71608  -8.34886   1.70079]\n",
      " [-16.75226  -8.26152   1.73338]\n",
      " [-16.80847  -8.38713   1.70079]\n",
      " [-16.84465  -8.29979   1.73338]\n",
      " [-16.55749  -8.54039   1.83379]\n",
      " [-16.63719  -8.58226   1.87733]\n",
      " [-16.51098  -8.62891   1.83379]\n",
      " [-16.59068  -8.67078   1.87733]\n",
      " [-17.05499  -7.76733   1.69379]\n",
      " [-17.0059   -7.85016   1.7208 ]\n",
      " [-16.96897  -7.71634   1.69379]\n",
      " [-16.91988  -7.79917   1.7208 ]\n",
      " [-16.11309  -8.55287   1.80379]\n",
      " [-16.07556  -8.48886   1.87084]\n",
      " [-16.19935  -8.5023    1.80379]\n",
      " [-16.16183  -8.43829   1.87084]\n",
      " [-16.87211  -8.04646   1.78379]\n",
      " [-16.84349  -8.07857   1.87407]\n",
      " [-16.79746  -7.97992   1.78379]\n",
      " [-16.76883  -8.01204   1.87407]\n",
      " [-16.22678  -8.27242   1.76779]\n",
      " [-16.24911  -8.36796   1.78711]\n",
      " [-16.1294   -8.29519   1.76779]\n",
      " [-16.15174  -8.39073   1.78711]\n",
      " [-16.67249  -7.87523   1.87079]\n",
      " [-16.62118  -7.89631   1.954  ]\n",
      " [-16.63449  -7.78273   1.87079]\n",
      " [-16.58318  -7.80381   1.954  ]\n",
      " [-16.20094  -8.47558   1.81979]\n",
      " [-16.11918  -8.4776    1.87734]\n",
      " [-16.19847  -8.37561   1.81979]\n",
      " [-16.11671  -8.37763   1.87734]\n",
      " [-16.39328  -8.60291   1.79579]\n",
      " [-16.3501   -8.59684   1.88579]\n",
      " [-16.4072   -8.50388   1.79579]\n",
      " [-16.36403  -8.49781   1.88579]\n",
      " [-16.51443  -7.94353   1.68879]\n",
      " [-16.58709  -8.0047    1.72011]\n",
      " [-16.45003  -8.02003   1.68879]\n",
      " [-16.52268  -8.0812    1.72011]\n",
      " [-16.44045  -8.1342    1.89779]\n",
      " [-16.48846  -8.05607   1.93767]\n",
      " [-16.52566  -8.18655   1.89779]\n",
      " [-16.57367  -8.10842   1.93767]\n",
      " [-16.50479  -8.32986   1.67479]\n",
      " [-16.50228  -8.42554   1.70376]\n",
      " [-16.40483  -8.32724   1.67479]\n",
      " [-16.40231  -8.42292   1.70376]\n",
      " [-16.94113  -8.07034   1.67579]\n",
      " [-16.8444   -8.09265   1.68786]\n",
      " [-16.91865  -7.9729    1.67579]\n",
      " [-16.82192  -7.99521   1.68786]\n",
      " [-16.5906   -8.03418   1.67879]\n",
      " [-16.52352  -7.97952   1.72891]\n",
      " [-16.65376  -7.95666   1.67879]\n",
      " [-16.58668  -7.902     1.72891]]\n"
     ]
    }
   ],
   "source": [
    "from plyfile import PlyData, PlyElement\n",
    "datapath = os.path.join(_data,\"groimp_mock\")\n",
    "file = os.path.join(datapath, 'skiwicanopy.ply')\n",
    "\n",
    "df1 = PlyData.read(file)\n",
    "df = np.transpose([df1.elements[0].data['x'],\n",
    "                    df1.elements[0].data['y'],\n",
    "                    df1.elements[0].data['z']])\n",
    "print(df)"
   ]
  },
  {
   "cell_type": "code",
   "execution_count": 6,
   "metadata": {},
   "outputs": [
    {
     "name": "stdout",
     "output_type": "stream",
     "text": [
      "(-16.2226, -7.971, 1.8803)\n",
      "/mnt/sda/Github/LiDAR/data/groimp_mock/GroIMP_PointClouds.csv\n"
     ]
    }
   ],
   "source": [
    "from numpy import genfromtxt\n",
    "datapath = os.path.join(_data,\"groimp_mock\")\n",
    "file = os.path.join(datapath, 'GroIMP_PointClouds.csv')\n",
    "#df = np.genfromtxt(file, delimiter=',', encoding=None, names=True,\n",
    "#    dtype= float)\n",
    "df = np.loadtxt(file, delimiter=',', \n",
    "                dtype={'names':('x', 'y', 'z'),\n",
    "                'formats':('f4', 'f4', 'f4')})\n",
    "print(df[0])\n",
    "print(file)\n",
    "\n",
    "#np.genfromtxt(txt, delimiter=',', names=True, dtype=None, encoding=None)\n",
    "\n"
   ]
  },
  {
   "cell_type": "code",
   "execution_count": 7,
   "metadata": {},
   "outputs": [
    {
     "name": "stdout",
     "output_type": "stream",
     "text": [
      "-7.971\n"
     ]
    }
   ],
   "source": [
    "print(df[0][1])"
   ]
  },
  {
   "cell_type": "code",
   "execution_count": 8,
   "metadata": {},
   "outputs": [
    {
     "ename": "FileNotFoundError",
     "evalue": "[Errno 2] No such file or directory: '/mnt/sda/Github/LiDAR/data/groimp_mock/Groimp_PointClouds.csv'",
     "output_type": "error",
     "traceback": [
      "\u001b[0;31m---------------------------------------------------------------------------\u001b[0m",
      "\u001b[0;31mFileNotFoundError\u001b[0m                         Traceback (most recent call last)",
      "\u001b[0;32m/tmp/ipykernel_8013/4288548448.py\u001b[0m in \u001b[0;36m<module>\u001b[0;34m\u001b[0m\n\u001b[1;32m      3\u001b[0m \u001b[0mfile\u001b[0m \u001b[0;34m=\u001b[0m \u001b[0mos\u001b[0m\u001b[0;34m.\u001b[0m\u001b[0mpath\u001b[0m\u001b[0;34m.\u001b[0m\u001b[0mjoin\u001b[0m\u001b[0;34m(\u001b[0m\u001b[0mdatapath\u001b[0m\u001b[0;34m,\u001b[0m \u001b[0;34m'Groimp_PointClouds.csv'\u001b[0m\u001b[0;34m)\u001b[0m\u001b[0;34m\u001b[0m\u001b[0;34m\u001b[0m\u001b[0m\n\u001b[1;32m      4\u001b[0m \u001b[0;34m\u001b[0m\u001b[0m\n\u001b[0;32m----> 5\u001b[0;31m \u001b[0mdf\u001b[0m\u001b[0;34m=\u001b[0m\u001b[0mpd\u001b[0m\u001b[0;34m.\u001b[0m\u001b[0mread_csv\u001b[0m\u001b[0;34m(\u001b[0m\u001b[0mfile\u001b[0m\u001b[0;34m,\u001b[0m \u001b[0msep\u001b[0m\u001b[0;34m=\u001b[0m\u001b[0;34m','\u001b[0m \u001b[0;34m,\u001b[0m\u001b[0musecols\u001b[0m\u001b[0;34m=\u001b[0m\u001b[0;34m[\u001b[0m\u001b[0;34m'x'\u001b[0m\u001b[0;34m,\u001b[0m \u001b[0;34m'y'\u001b[0m\u001b[0;34m,\u001b[0m\u001b[0;34m'z'\u001b[0m\u001b[0;34m]\u001b[0m\u001b[0;34m)\u001b[0m\u001b[0;34m\u001b[0m\u001b[0;34m\u001b[0m\u001b[0m\n\u001b[0m\u001b[1;32m      6\u001b[0m \u001b[0;34m\u001b[0m\u001b[0m\n\u001b[1;32m      7\u001b[0m \u001b[0;34m\u001b[0m\u001b[0m\n",
      "\u001b[0;32m~/miniconda3/envs/plant-env/lib/python3.8/site-packages/pandas/util/_decorators.py\u001b[0m in \u001b[0;36mwrapper\u001b[0;34m(*args, **kwargs)\u001b[0m\n\u001b[1;32m    309\u001b[0m                     \u001b[0mstacklevel\u001b[0m\u001b[0;34m=\u001b[0m\u001b[0mstacklevel\u001b[0m\u001b[0;34m,\u001b[0m\u001b[0;34m\u001b[0m\u001b[0;34m\u001b[0m\u001b[0m\n\u001b[1;32m    310\u001b[0m                 )\n\u001b[0;32m--> 311\u001b[0;31m             \u001b[0;32mreturn\u001b[0m \u001b[0mfunc\u001b[0m\u001b[0;34m(\u001b[0m\u001b[0;34m*\u001b[0m\u001b[0margs\u001b[0m\u001b[0;34m,\u001b[0m \u001b[0;34m**\u001b[0m\u001b[0mkwargs\u001b[0m\u001b[0;34m)\u001b[0m\u001b[0;34m\u001b[0m\u001b[0;34m\u001b[0m\u001b[0m\n\u001b[0m\u001b[1;32m    312\u001b[0m \u001b[0;34m\u001b[0m\u001b[0m\n\u001b[1;32m    313\u001b[0m         \u001b[0;32mreturn\u001b[0m \u001b[0mwrapper\u001b[0m\u001b[0;34m\u001b[0m\u001b[0;34m\u001b[0m\u001b[0m\n",
      "\u001b[0;32m~/miniconda3/envs/plant-env/lib/python3.8/site-packages/pandas/io/parsers/readers.py\u001b[0m in \u001b[0;36mread_csv\u001b[0;34m(filepath_or_buffer, sep, delimiter, header, names, index_col, usecols, squeeze, prefix, mangle_dupe_cols, dtype, engine, converters, true_values, false_values, skipinitialspace, skiprows, skipfooter, nrows, na_values, keep_default_na, na_filter, verbose, skip_blank_lines, parse_dates, infer_datetime_format, keep_date_col, date_parser, dayfirst, cache_dates, iterator, chunksize, compression, thousands, decimal, lineterminator, quotechar, quoting, doublequote, escapechar, comment, encoding, encoding_errors, dialect, error_bad_lines, warn_bad_lines, on_bad_lines, delim_whitespace, low_memory, memory_map, float_precision, storage_options)\u001b[0m\n\u001b[1;32m    584\u001b[0m     \u001b[0mkwds\u001b[0m\u001b[0;34m.\u001b[0m\u001b[0mupdate\u001b[0m\u001b[0;34m(\u001b[0m\u001b[0mkwds_defaults\u001b[0m\u001b[0;34m)\u001b[0m\u001b[0;34m\u001b[0m\u001b[0;34m\u001b[0m\u001b[0m\n\u001b[1;32m    585\u001b[0m \u001b[0;34m\u001b[0m\u001b[0m\n\u001b[0;32m--> 586\u001b[0;31m     \u001b[0;32mreturn\u001b[0m \u001b[0m_read\u001b[0m\u001b[0;34m(\u001b[0m\u001b[0mfilepath_or_buffer\u001b[0m\u001b[0;34m,\u001b[0m \u001b[0mkwds\u001b[0m\u001b[0;34m)\u001b[0m\u001b[0;34m\u001b[0m\u001b[0;34m\u001b[0m\u001b[0m\n\u001b[0m\u001b[1;32m    587\u001b[0m \u001b[0;34m\u001b[0m\u001b[0m\n\u001b[1;32m    588\u001b[0m \u001b[0;34m\u001b[0m\u001b[0m\n",
      "\u001b[0;32m~/miniconda3/envs/plant-env/lib/python3.8/site-packages/pandas/io/parsers/readers.py\u001b[0m in \u001b[0;36m_read\u001b[0;34m(filepath_or_buffer, kwds)\u001b[0m\n\u001b[1;32m    480\u001b[0m \u001b[0;34m\u001b[0m\u001b[0m\n\u001b[1;32m    481\u001b[0m     \u001b[0;31m# Create the parser.\u001b[0m\u001b[0;34m\u001b[0m\u001b[0;34m\u001b[0m\u001b[0;34m\u001b[0m\u001b[0m\n\u001b[0;32m--> 482\u001b[0;31m     \u001b[0mparser\u001b[0m \u001b[0;34m=\u001b[0m \u001b[0mTextFileReader\u001b[0m\u001b[0;34m(\u001b[0m\u001b[0mfilepath_or_buffer\u001b[0m\u001b[0;34m,\u001b[0m \u001b[0;34m**\u001b[0m\u001b[0mkwds\u001b[0m\u001b[0;34m)\u001b[0m\u001b[0;34m\u001b[0m\u001b[0;34m\u001b[0m\u001b[0m\n\u001b[0m\u001b[1;32m    483\u001b[0m \u001b[0;34m\u001b[0m\u001b[0m\n\u001b[1;32m    484\u001b[0m     \u001b[0;32mif\u001b[0m \u001b[0mchunksize\u001b[0m \u001b[0;32mor\u001b[0m \u001b[0miterator\u001b[0m\u001b[0;34m:\u001b[0m\u001b[0;34m\u001b[0m\u001b[0;34m\u001b[0m\u001b[0m\n",
      "\u001b[0;32m~/miniconda3/envs/plant-env/lib/python3.8/site-packages/pandas/io/parsers/readers.py\u001b[0m in \u001b[0;36m__init__\u001b[0;34m(self, f, engine, **kwds)\u001b[0m\n\u001b[1;32m    809\u001b[0m             \u001b[0mself\u001b[0m\u001b[0;34m.\u001b[0m\u001b[0moptions\u001b[0m\u001b[0;34m[\u001b[0m\u001b[0;34m\"has_index_names\"\u001b[0m\u001b[0;34m]\u001b[0m \u001b[0;34m=\u001b[0m \u001b[0mkwds\u001b[0m\u001b[0;34m[\u001b[0m\u001b[0;34m\"has_index_names\"\u001b[0m\u001b[0;34m]\u001b[0m\u001b[0;34m\u001b[0m\u001b[0;34m\u001b[0m\u001b[0m\n\u001b[1;32m    810\u001b[0m \u001b[0;34m\u001b[0m\u001b[0m\n\u001b[0;32m--> 811\u001b[0;31m         \u001b[0mself\u001b[0m\u001b[0;34m.\u001b[0m\u001b[0m_engine\u001b[0m \u001b[0;34m=\u001b[0m \u001b[0mself\u001b[0m\u001b[0;34m.\u001b[0m\u001b[0m_make_engine\u001b[0m\u001b[0;34m(\u001b[0m\u001b[0mself\u001b[0m\u001b[0;34m.\u001b[0m\u001b[0mengine\u001b[0m\u001b[0;34m)\u001b[0m\u001b[0;34m\u001b[0m\u001b[0;34m\u001b[0m\u001b[0m\n\u001b[0m\u001b[1;32m    812\u001b[0m \u001b[0;34m\u001b[0m\u001b[0m\n\u001b[1;32m    813\u001b[0m     \u001b[0;32mdef\u001b[0m \u001b[0mclose\u001b[0m\u001b[0;34m(\u001b[0m\u001b[0mself\u001b[0m\u001b[0;34m)\u001b[0m\u001b[0;34m:\u001b[0m\u001b[0;34m\u001b[0m\u001b[0;34m\u001b[0m\u001b[0m\n",
      "\u001b[0;32m~/miniconda3/envs/plant-env/lib/python3.8/site-packages/pandas/io/parsers/readers.py\u001b[0m in \u001b[0;36m_make_engine\u001b[0;34m(self, engine)\u001b[0m\n\u001b[1;32m   1038\u001b[0m             )\n\u001b[1;32m   1039\u001b[0m         \u001b[0;31m# error: Too many arguments for \"ParserBase\"\u001b[0m\u001b[0;34m\u001b[0m\u001b[0;34m\u001b[0m\u001b[0;34m\u001b[0m\u001b[0m\n\u001b[0;32m-> 1040\u001b[0;31m         \u001b[0;32mreturn\u001b[0m \u001b[0mmapping\u001b[0m\u001b[0;34m[\u001b[0m\u001b[0mengine\u001b[0m\u001b[0;34m]\u001b[0m\u001b[0;34m(\u001b[0m\u001b[0mself\u001b[0m\u001b[0;34m.\u001b[0m\u001b[0mf\u001b[0m\u001b[0;34m,\u001b[0m \u001b[0;34m**\u001b[0m\u001b[0mself\u001b[0m\u001b[0;34m.\u001b[0m\u001b[0moptions\u001b[0m\u001b[0;34m)\u001b[0m  \u001b[0;31m# type: ignore[call-arg]\u001b[0m\u001b[0;34m\u001b[0m\u001b[0;34m\u001b[0m\u001b[0m\n\u001b[0m\u001b[1;32m   1041\u001b[0m \u001b[0;34m\u001b[0m\u001b[0m\n\u001b[1;32m   1042\u001b[0m     \u001b[0;32mdef\u001b[0m \u001b[0m_failover_to_python\u001b[0m\u001b[0;34m(\u001b[0m\u001b[0mself\u001b[0m\u001b[0;34m)\u001b[0m\u001b[0;34m:\u001b[0m\u001b[0;34m\u001b[0m\u001b[0;34m\u001b[0m\u001b[0m\n",
      "\u001b[0;32m~/miniconda3/envs/plant-env/lib/python3.8/site-packages/pandas/io/parsers/c_parser_wrapper.py\u001b[0m in \u001b[0;36m__init__\u001b[0;34m(self, src, **kwds)\u001b[0m\n\u001b[1;32m     49\u001b[0m \u001b[0;34m\u001b[0m\u001b[0m\n\u001b[1;32m     50\u001b[0m         \u001b[0;31m# open handles\u001b[0m\u001b[0;34m\u001b[0m\u001b[0;34m\u001b[0m\u001b[0;34m\u001b[0m\u001b[0m\n\u001b[0;32m---> 51\u001b[0;31m         \u001b[0mself\u001b[0m\u001b[0;34m.\u001b[0m\u001b[0m_open_handles\u001b[0m\u001b[0;34m(\u001b[0m\u001b[0msrc\u001b[0m\u001b[0;34m,\u001b[0m \u001b[0mkwds\u001b[0m\u001b[0;34m)\u001b[0m\u001b[0;34m\u001b[0m\u001b[0;34m\u001b[0m\u001b[0m\n\u001b[0m\u001b[1;32m     52\u001b[0m         \u001b[0;32massert\u001b[0m \u001b[0mself\u001b[0m\u001b[0;34m.\u001b[0m\u001b[0mhandles\u001b[0m \u001b[0;32mis\u001b[0m \u001b[0;32mnot\u001b[0m \u001b[0;32mNone\u001b[0m\u001b[0;34m\u001b[0m\u001b[0;34m\u001b[0m\u001b[0m\n\u001b[1;32m     53\u001b[0m \u001b[0;34m\u001b[0m\u001b[0m\n",
      "\u001b[0;32m~/miniconda3/envs/plant-env/lib/python3.8/site-packages/pandas/io/parsers/base_parser.py\u001b[0m in \u001b[0;36m_open_handles\u001b[0;34m(self, src, kwds)\u001b[0m\n\u001b[1;32m    220\u001b[0m         \u001b[0mLet\u001b[0m \u001b[0mthe\u001b[0m \u001b[0mreaders\u001b[0m \u001b[0mopen\u001b[0m \u001b[0mIOHandles\u001b[0m \u001b[0mafter\u001b[0m \u001b[0mthey\u001b[0m \u001b[0mare\u001b[0m \u001b[0mdone\u001b[0m \u001b[0;32mwith\u001b[0m \u001b[0mtheir\u001b[0m \u001b[0mpotential\u001b[0m \u001b[0mraises\u001b[0m\u001b[0;34m.\u001b[0m\u001b[0;34m\u001b[0m\u001b[0;34m\u001b[0m\u001b[0m\n\u001b[1;32m    221\u001b[0m         \"\"\"\n\u001b[0;32m--> 222\u001b[0;31m         self.handles = get_handle(\n\u001b[0m\u001b[1;32m    223\u001b[0m             \u001b[0msrc\u001b[0m\u001b[0;34m,\u001b[0m\u001b[0;34m\u001b[0m\u001b[0;34m\u001b[0m\u001b[0m\n\u001b[1;32m    224\u001b[0m             \u001b[0;34m\"r\"\u001b[0m\u001b[0;34m,\u001b[0m\u001b[0;34m\u001b[0m\u001b[0;34m\u001b[0m\u001b[0m\n",
      "\u001b[0;32m~/miniconda3/envs/plant-env/lib/python3.8/site-packages/pandas/io/common.py\u001b[0m in \u001b[0;36mget_handle\u001b[0;34m(path_or_buf, mode, encoding, compression, memory_map, is_text, errors, storage_options)\u001b[0m\n\u001b[1;32m    699\u001b[0m         \u001b[0;32mif\u001b[0m \u001b[0mioargs\u001b[0m\u001b[0;34m.\u001b[0m\u001b[0mencoding\u001b[0m \u001b[0;32mand\u001b[0m \u001b[0;34m\"b\"\u001b[0m \u001b[0;32mnot\u001b[0m \u001b[0;32min\u001b[0m \u001b[0mioargs\u001b[0m\u001b[0;34m.\u001b[0m\u001b[0mmode\u001b[0m\u001b[0;34m:\u001b[0m\u001b[0;34m\u001b[0m\u001b[0;34m\u001b[0m\u001b[0m\n\u001b[1;32m    700\u001b[0m             \u001b[0;31m# Encoding\u001b[0m\u001b[0;34m\u001b[0m\u001b[0;34m\u001b[0m\u001b[0;34m\u001b[0m\u001b[0m\n\u001b[0;32m--> 701\u001b[0;31m             handle = open(\n\u001b[0m\u001b[1;32m    702\u001b[0m                 \u001b[0mhandle\u001b[0m\u001b[0;34m,\u001b[0m\u001b[0;34m\u001b[0m\u001b[0;34m\u001b[0m\u001b[0m\n\u001b[1;32m    703\u001b[0m                 \u001b[0mioargs\u001b[0m\u001b[0;34m.\u001b[0m\u001b[0mmode\u001b[0m\u001b[0;34m,\u001b[0m\u001b[0;34m\u001b[0m\u001b[0;34m\u001b[0m\u001b[0m\n",
      "\u001b[0;31mFileNotFoundError\u001b[0m: [Errno 2] No such file or directory: '/mnt/sda/Github/LiDAR/data/groimp_mock/Groimp_PointClouds.csv'"
     ]
    }
   ],
   "source": [
    "import pandas as pd\n",
    "datapath = os.path.join(_data,\"groimp_mock\")\n",
    "file = os.path.join(datapath, 'Groimp_PointClouds.csv')\n",
    "\n",
    "df=pd.read_csv(file, sep=',' ,usecols=['x', 'y','z'])\n",
    "\n",
    "\n",
    "print(df)\n"
   ]
  },
  {
   "cell_type": "markdown",
   "metadata": {},
   "source": [
    "If `downsample` is not None, a random downsampling will be implemented. If None, the pipeline will use the voxel-based downsampling."
   ]
  },
  {
   "cell_type": "code",
   "execution_count": 9,
   "metadata": {
    "slideshow": {
     "slide_type": "fragment"
    }
   },
   "outputs": [],
   "source": [
    "mockname = 'groimp_mock'\n",
    "voxel_size = 0.1\n",
    "downsample = 1"
   ]
  },
  {
   "cell_type": "code",
   "execution_count": 10,
   "metadata": {
    "slideshow": {
     "slide_type": "skip"
    }
   },
   "outputs": [
    {
     "data": {
      "text/plain": [
       "'groimp_mock'"
      ]
     },
     "execution_count": 10,
     "metadata": {},
     "output_type": "execute_result"
    }
   ],
   "source": [
    "mockname"
   ]
  },
  {
   "cell_type": "markdown",
   "metadata": {
    "slideshow": {
     "slide_type": "skip"
    }
   },
   "source": [
    "## Tree and leaves segmentation\n",
    "\n",
    "Now we create the module to segmentate trees. This will be tuned acordingly for each data set, so below module only works for this particular data set."
   ]
  },
  {
   "cell_type": "code",
   "execution_count": 19,
   "metadata": {
    "slideshow": {
     "slide_type": "skip"
    }
   },
   "outputs": [],
   "source": [
    "def segtree(df, leaves, show=False):\n",
    "\n",
    "    trees = {}\n",
    "\n",
    "    if show:\n",
    "        plt.figure(figsize=(14, 8))\n",
    "\n",
    "    # centres\n",
    "    x, y = [-16.6], [-8.16]\n",
    "    num = 0\n",
    "    dx, dy = 20, 10\n",
    "    # dx, dy = 5, 5\n",
    "\n",
    "    for i in x:\n",
    "        for j in y:\n",
    "            \n",
    "            keep = np.ones(len(df['x']), dtype=bool)\n",
    "            #keep &= (df['x'] < i+dx) & (df['x'] > i-dx)\n",
    "            #keep &= (df['y'] < j+dy) & (df['y'] > j-dy)\n",
    "\n",
    "            trees['tree_%s' %(str(num))] = keep\n",
    "            \n",
    "            if show:\n",
    "                plt.scatter(df['x'][leaves & keep], df['y'][leaves & keep], s=0.5, label=num)\n",
    "                        \n",
    "            num += 1\n",
    "\n",
    "    if show:\n",
    "        plt.legend()\n",
    "    \n",
    "    return trees\n"
   ]
  },
  {
   "cell_type": "markdown",
   "metadata": {
    "slideshow": {
     "slide_type": "skip"
    }
   },
   "source": [
    "We segmentate the trees below,"
   ]
  },
  {
   "cell_type": "code",
   "execution_count": 31,
   "metadata": {
    "slideshow": {
     "slide_type": "skip"
    }
   },
   "outputs": [
    {
     "name": "stdout",
     "output_type": "stream",
     "text": [
      "Number of files: 1\n"
     ]
    }
   ],
   "source": [
    "# load data into a pandas data frame\n",
    "df = loads.plynpy2pandas(mockname)\n",
    "N = len(df)\n",
    "\n",
    "#print(df['z'])"
   ]
  },
  {
   "cell_type": "code",
   "execution_count": 32,
   "metadata": {},
   "outputs": [],
   "source": [
    "\n",
    "def voxel_subsampling(voxel_size, POINTS):\n",
    "\n",
    "    nb_vox = np.ceil((np.max(POINTS, axis=0) - np.min(POINTS, axis=0))/voxel_size)\n",
    "    ni, nj, nk = nb_vox\n",
    "    print('min point:', np.min(POINTS, axis=0))\n",
    "    print('max point:', np.max(POINTS, axis=0))\n",
    "    print('Number of voxels: i:%d, j:%d, k:%d --> Total: %d' %(ni, nj, nk, np.product(nb_vox)))\n",
    "\n",
    "    non_empty_voxel_keys, inverse, nb_pts_per_voxel = np.unique(((POINTS - np.min(POINTS, axis=0)) // voxel_size).astype(int), axis=0, return_inverse=True, return_counts=True)\n",
    "    idx_pts_vox_sorted = np.argsort(inverse)\n",
    "    print('Number of non-empty voxels: %d' %(len(non_empty_voxel_keys)))\n",
    "\n",
    "    voxel_grid={}\n",
    "    voxel_grid_ptsidx = {}\n",
    "    grid_barycenter,grid_candidate_center = [], []\n",
    "    last_seen=0\n",
    "\n",
    "    for idx, vox in enumerate(non_empty_voxel_keys):\n",
    "\n",
    "        idxs_per_vox = idx_pts_vox_sorted[last_seen:last_seen+nb_pts_per_voxel[idx]]\n",
    "        voxel_grid[tuple(vox)] = POINTS[idxs_per_vox]\n",
    "        voxel_grid_ptsidx[tuple(vox)] = idxs_per_vox\n",
    "\n",
    "        # grid_barycenter.append(np.mean(voxel_grid[tuple(vox)],axis=0))\n",
    "\n",
    "        idx_grid_candidate_center = np.linalg.norm(voxel_grid[tuple(vox)] - np.mean(voxel_grid[tuple(vox)],axis=0),axis=1).argmin()\n",
    "        grid_candidate_center.append(voxel_grid_ptsidx[tuple(vox)][idx_grid_candidate_center])\n",
    "\n",
    "        last_seen+=nb_pts_per_voxel[idx]\n",
    "\n",
    "    # print('Downsampling percentage: %.1f %%' %(100 * len(grid_candidate_center) / len(POINTS)))\n",
    "    # minpoint = np.min(POINTS, axis=0)\n",
    "\n",
    "    return list(grid_candidate_center) #, minpoint"
   ]
  },
  {
   "cell_type": "code",
   "execution_count": 33,
   "metadata": {},
   "outputs": [],
   "source": [
    "def random_downsample(N, downsample):\n",
    "\n",
    "    resdir = os.path.join(_data, mockname, 'random_%s' %(str(downsample)))\n",
    "    if not os.path.exists(resdir):\n",
    "        os.makedirs(resdir)\n",
    "\n",
    "    outdir = os.path.join(resdir, 'inds.npy')\n",
    "    if os.path.exists(outdir):\n",
    "        print('inds file already exists for donwnsample of %.3f at %s' %(downsample, outdir))\n",
    "\n",
    "        idx = np.load(outdir)\n",
    "\n",
    "    else:\n",
    "\n",
    "        print('inds not been created yet for donwnsample of %.3f' %(downsample))\n",
    "        idx = np.random.randint(0, N, int(N * downsample))\n",
    "        # inds = np.zeros(N, dtype=bool)\n",
    "        # inds[idx] = True\n",
    "\n",
    "        np.save(outdir, idx)\n",
    "\n",
    "    return idx"
   ]
  },
  {
   "cell_type": "markdown",
   "metadata": {},
   "source": [
    "### Implement and keep Downsamplied points"
   ]
  },
  {
   "cell_type": "code",
   "execution_count": 34,
   "metadata": {},
   "outputs": [
    {
     "name": "stdout",
     "output_type": "stream",
     "text": [
      "inds file already exists for donwnsample of 1.000 at /mnt/sda/Github/LiDAR/data/groimp_mock/random_1/inds.npy\n",
      "Downsampling percentage: 0.2 %\n",
      "minpoint: [-17.5171  -8.7197   1.4659]\n"
     ]
    }
   ],
   "source": [
    "\n",
    "if downsample is not None:\n",
    "    inds = random_downsample(N, downsample)\n",
    "else:\n",
    "    inds = voxel_subsampling(voxel_size, df[['x', 'y', 'z']].to_numpy())\n",
    "\n",
    "print('Downsampling percentage: %.1f %%' %(100 *  len(inds) / len(df['x'])))\n",
    "\n",
    "df = df.iloc[inds]\n",
    "POINTS = df[['x', 'y', 'z']].to_numpy()\n",
    "SENSORS = df[['sx', 'sy', 'sz']].to_numpy()\n",
    "\n",
    "# Compute lower point\n",
    "minpoint = np.min(POINTS, axis=0)\n",
    "print('minpoint:', minpoint)\n",
    "\n"
   ]
  },
  {
   "cell_type": "markdown",
   "metadata": {},
   "source": [
    "### leave and tree segmentation"
   ]
  },
  {
   "cell_type": "code",
   "execution_count": 35,
   "metadata": {},
   "outputs": [
    {
     "data": {
      "image/png": "[encoded data removed]",
      "text/plain": [
       "<Figure size 1008x576 with 1 Axes>"
      ]
     },
     "metadata": {
      "needs_background": "dark"
     },
     "output_type": "display_data"
    }
   ],
   "source": [
    "# extract leaves. Boolean array output\n",
    "leaves = loads.extract_leaves_2(df, show=False)\n",
    "\n",
    "# extract trees. Dictionary with boolean arrays output\n",
    "trees = segtree(df, leaves, show=True)\n"
   ]
  },
  {
   "cell_type": "markdown",
   "metadata": {},
   "source": [
    "### Second downsampling: keep only points that colide with Plant Region"
   ]
  },
  {
   "cell_type": "code",
   "execution_count": 36,
   "metadata": {},
   "outputs": [
    {
     "name": "stdout",
     "output_type": "stream",
     "text": [
      "[-17.5171  -8.7197   1.4659] [-16.1372  -6.7413   2.0001]\n"
     ]
    }
   ],
   "source": [
    "inPR = (leaves) & (trees['tree_0'])\n",
    "minBB, maxBB = np.min(POINTS[inPR], axis=0), np.max(POINTS[inPR], axis=0)\n",
    "print(minBB, maxBB)"
   ]
  },
  {
   "cell_type": "code",
   "execution_count": 37,
   "metadata": {},
   "outputs": [],
   "source": [
    "minBB, maxBB = np.min(POINTS[inPR], axis=0), np.max(POINTS[inPR], axis=0)\n",
    "\n",
    "# Make sure Plant Region min & max points are multiples of voxel size\n",
    "# to match first voxelization where we implemented the downsampling\n",
    "minpointPR = minpoint + np.floor(np.abs(minpoint - minBB)/voxel_size) * voxel_size\n",
    "maxpointPR = minpoint + np.ceil(np.abs(minpoint - maxBB)/voxel_size) * voxel_size\n",
    "boxPR = pyrr.aabb.create_from_bounds(minpointPR, maxpointPR)\n",
    "\n",
    "lines = np.stack((POINTS, SENSORS), axis=1)\n",
    "f = lambda line: pyrr.geometric_tests.ray_intersect_aabb(pyrr.ray.create_from_line(line), boxPR) is not None\n",
    "res = np.array(list(map(f, lines)))"
   ]
  },
  {
   "cell_type": "code",
   "execution_count": 38,
   "metadata": {},
   "outputs": [],
   "source": [
    "POINTS, SENSORS = POINTS[res], SENSORS[res]\n",
    "\n",
    "leaves = leaves[res]\n",
    "\n",
    "for key, val in trees.items():\n",
    "    trees[key] = val[res]"
   ]
  },
  {
   "cell_type": "code",
   "execution_count": 39,
   "metadata": {},
   "outputs": [],
   "source": [
    "# save indexes of voxel-based downsample\n",
    "\n",
    "idxs = np.array(inds)[res]\n",
    "\n",
    "if downsample is not None:\n",
    "    dirname = 'random_%s' %(str(downsample))\n",
    "    resdir = os.path.join(_data, mockname, dirname, 'lad_%s' %(str(voxel_size)))\n",
    "else:\n",
    "    dirname = 'voxel'\n",
    "    resdir = os.path.join(_data, mockname, dirname, 'lad_%s' %(str(voxel_size)))\n",
    "\n",
    "if not os.path.exists(resdir): os.makedirs(resdir)\n",
    "outdir = os.path.join(resdir, 'inds.npy')\n",
    "np.save(outdir, idxs)"
   ]
  },
  {
   "cell_type": "markdown",
   "metadata": {},
   "source": [
    "## Ray tracing"
   ]
  },
  {
   "cell_type": "code",
   "execution_count": 40,
   "metadata": {},
   "outputs": [
    {
     "name": "stdout",
     "output_type": "stream",
     "text": [
      "# iter... 300\n"
     ]
    },
    {
     "name": "stderr",
     "output_type": "stream",
     "text": [
      "300it [00:01, 193.53it/s]"
     ]
    },
    {
     "name": "stdout",
     "output_type": "stream",
     "text": [
      "tot vox: \t 1680\n",
      "voxels hitted: \t 298\n",
      "Percentage of voxels hitted by beam: 0.18\n",
      "voxels hitted (OLD): \t 0\n",
      "Percentage of voxels hitted by beam (OLD): 0.00\n"
     ]
    },
    {
     "name": "stderr",
     "output_type": "stream",
     "text": [
      "\n"
     ]
    }
   ],
   "source": [
    "sample = None\n",
    "\n",
    "inPR = (leaves) & (trees['tree_0'])\n",
    "\n",
    "# resdir = os.path.join(_data, mockname, 'lad_%s' %(str(voxel_size)))\n",
    "# if not os.path.exists(resdir):\n",
    "    # os.makedirs(resdir)\n",
    "if sample is not None:\n",
    "    print('# iter...', len(POINTS[::sample]))\n",
    "    m3s = rayt.main2(POINTS[::sample], SENSORS[::sample], POINTS[inPR], voxel_size, resdir, 'tree_0', (minpointPR, maxpointPR), show=True)\n",
    "else:\n",
    "    print('# iter...', len(POINTS))\n",
    "    m3s = rayt.main2(POINTS, SENSORS, POINTS[inPR], voxel_size, resdir, 'tree_0', (minpointPR, maxpointPR), show=False)"
   ]
  },
  {
   "cell_type": "code",
   "execution_count": 41,
   "metadata": {},
   "outputs": [
    {
     "data": {
      "text/plain": [
       "array([[-16.6   ,  -7.4778,   1.7549],\n",
       "       [-17.0698,  -7.5824,   1.8508],\n",
       "       [-16.4913,  -8.2478,   1.7986],\n",
       "       [-17.5171,  -7.3359,   1.6355],\n",
       "       [-16.9879,  -7.7682,   1.7438],\n",
       "       [-16.4039,  -8.2582,   1.6788],\n",
       "       [-17.2291,  -7.7079,   1.7049],\n",
       "       [-16.6468,  -7.4007,   1.8745],\n",
       "       [-16.8067,  -7.7569,   1.5875],\n",
       "       [-16.6   ,  -7.8697,   1.7612],\n",
       "       [-17.0263,  -7.6981,   1.7245],\n",
       "       [-17.0681,  -8.2538,   1.9216],\n",
       "       [-16.8068,  -6.8193,   1.5855],\n",
       "       [-16.3893,  -8.339 ,   1.7324],\n",
       "       [-16.9917,  -7.267 ,   1.7101],\n",
       "       [-17.0033,  -7.0394,   1.633 ],\n",
       "       [-16.2392,  -8.5881,   1.8267],\n",
       "       [-16.767 ,  -8.4638,   1.7691],\n",
       "       [-17.0582,  -7.7822,   1.9232],\n",
       "       [-16.7954,  -7.9637,   1.7044],\n",
       "       [-16.7687,  -8.16  ,   1.9831],\n",
       "       [-16.9863,  -7.6748,   1.7749],\n",
       "       [-16.4098,  -8.4457,   1.8372],\n",
       "       [-16.9641,  -7.4966,   1.9157],\n",
       "       [-16.485 ,  -8.3447,   1.7675],\n",
       "       [-17.1766,  -6.8105,   1.8232],\n",
       "       [-16.7836,  -7.4185,   1.9946],\n",
       "       [-16.7713,  -7.6943,   1.9552],\n",
       "       [-16.2121,  -8.1015,   1.6865],\n",
       "       [-16.7952,  -7.4689,   1.7068],\n",
       "       [-17.0033,  -7.0394,   1.633 ],\n",
       "       [-16.3673,  -7.7344,   1.7669],\n",
       "       [-16.7713,  -7.6943,   1.9552],\n",
       "       [-16.3893,  -8.339 ,   1.7324],\n",
       "       [-16.6171,  -7.871 ,   1.7708],\n",
       "       [-17.2006,  -6.9297,   1.6211],\n",
       "       [-16.4028,  -7.7737,   1.766 ],\n",
       "       [-16.5966,  -8.0632,   1.7508],\n",
       "       [-16.6848,  -7.3973,   1.869 ],\n",
       "       [-16.4032,  -8.2585,   1.6787],\n",
       "       [-17.2369,  -7.5309,   1.4659],\n",
       "       [-16.7455,  -7.6629,   1.5593],\n",
       "       [-16.5018,  -8.0618,   1.6887],\n",
       "       [-16.7855,  -7.6944,   1.9487],\n",
       "       [-16.6928,  -7.8811,   1.9436],\n",
       "       [-17.2446,  -6.947 ,   1.9329],\n",
       "       [-17.0263,  -7.6981,   1.7245],\n",
       "       [-16.3972,  -8.2434,   1.6726],\n",
       "       [-16.4941,  -6.8767,   1.4851],\n",
       "       [-16.8352,  -7.5891,   1.7411],\n",
       "       [-16.8895,  -8.45  ,   1.774 ],\n",
       "       [-17.4695,  -7.4043,   1.6439],\n",
       "       [-16.6758,  -8.3584,   1.7932],\n",
       "       [-16.5979,  -8.1598,   1.7259],\n",
       "       [-16.3743,  -8.5266,   1.8109],\n",
       "       [-16.8905,  -8.5485,   1.7582],\n",
       "       [-17.0161,  -7.7983,   1.7438],\n",
       "       [-16.995 ,  -7.863 ,   1.6714],\n",
       "       [-16.2336,  -8.0111,   1.9438],\n",
       "       [-16.4078,  -8.5454,   1.7898],\n",
       "       [-17.0989,  -6.8319,   1.6685],\n",
       "       [-16.5963,  -7.4783,   1.7557],\n",
       "       [-16.3101,  -8.1163,   1.8009],\n",
       "       [-16.5042,  -8.2558,   1.8007],\n",
       "       [-16.9641,  -7.4966,   1.9157],\n",
       "       [-17.2291,  -7.7079,   1.7049],\n",
       "       [-17.2775,  -7.5702,   1.7902],\n",
       "       [-16.9967,  -6.956 ,   1.6064],\n",
       "       [-16.4983,  -7.5823,   1.7953],\n",
       "       [-17.0931,  -7.5641,   1.6836],\n",
       "       [-16.6   ,  -6.8627,   1.7287],\n",
       "       [-16.3893,  -8.339 ,   1.7324],\n",
       "       [-16.3066,  -8.2561,   1.7756],\n",
       "       [-16.4091,  -8.6392,   1.8196],\n",
       "       [-17.2773,  -7.5742,   1.788 ],\n",
       "       [-16.91  ,  -6.7413,   1.6249],\n",
       "       [-16.9917,  -7.267 ,   1.7101],\n",
       "       [-17.1098,  -7.3439,   1.6008],\n",
       "       [-16.2142,  -8.0665,   1.9022],\n",
       "       [-16.3076,  -7.7839,   1.8871],\n",
       "       [-16.9833,  -7.3766,   1.7776],\n",
       "       [-16.8945,  -7.0598,   1.6937],\n",
       "       [-17.0218,  -7.5173,   1.8548],\n",
       "       [-16.4022,  -8.1452,   1.8679],\n",
       "       [-16.7   ,  -7.8876,   1.9415],\n",
       "       [-16.9641,  -7.4966,   1.9157],\n",
       "       [-17.0681,  -8.2538,   1.9216],\n",
       "       [-16.6522,  -7.4691,   1.68  ],\n",
       "       [-16.699 ,  -8.5569,   1.6494],\n",
       "       [-16.2089,  -8.1307,   1.6867],\n",
       "       [-16.9978,  -7.0448,   1.6371],\n",
       "       [-17.1609,  -8.2554,   1.8847],\n",
       "       [-16.8882,  -8.5498,   1.7549],\n",
       "       [-17.4023,  -7.244 ,   1.6808],\n",
       "       [-17.2502,  -6.9964,   1.9246],\n",
       "       [-16.6901,  -8.352 ,   1.7972],\n",
       "       [-16.8742,  -7.9705,   1.8746],\n",
       "       [-17.0683,  -7.3782,   1.5949],\n",
       "       [-17.2096,  -6.9208,   1.6167],\n",
       "       [-16.329 ,  -7.8496,   1.7681],\n",
       "       [-16.6   ,  -7.4778,   1.7549],\n",
       "       [-17.1766,  -6.8105,   1.8232],\n",
       "       [-16.2741,  -7.7302,   1.8852],\n",
       "       [-17.0897,  -8.4548,   1.7154],\n",
       "       [-17.0582,  -7.7822,   1.9232],\n",
       "       [-17.2291,  -7.7079,   1.7049],\n",
       "       [-16.6   ,  -6.8627,   1.7287],\n",
       "       [-16.4078,  -8.5454,   1.7898],\n",
       "       [-16.975 ,  -7.4982,   1.9091],\n",
       "       [-16.7306,  -7.4263,   1.9942],\n",
       "       [-16.9861,  -7.3796,   1.7774],\n",
       "       [-16.6965,  -8.2566,   1.7667],\n",
       "       [-16.7913,  -7.0888,   1.8118],\n",
       "       [-17.1045,  -7.9591,   1.6335],\n",
       "       [-16.9967,  -6.956 ,   1.6064],\n",
       "       [-16.3814,  -7.6443,   1.824 ],\n",
       "       [-17.1432,  -7.5023,   1.7086],\n",
       "       [-16.3893,  -8.339 ,   1.7324],\n",
       "       [-16.2161,  -8.5452,   1.8034],\n",
       "       [-16.4623,  -8.6303,   1.8083],\n",
       "       [-16.9923,  -7.2639,   1.7124],\n",
       "       [-16.9008,  -6.8339,   1.6482],\n",
       "       [-17.0681,  -8.2538,   1.9216],\n",
       "       [-16.8833,  -7.9709,   1.8725],\n",
       "       [-16.6   ,  -8.6446,   1.7641],\n",
       "       [-17.1432,  -7.5023,   1.7086],\n",
       "       [-16.9456,  -7.3992,   1.7588],\n",
       "       [-17.0621,  -8.1946,   1.8909],\n",
       "       [-16.8874,  -7.9916,   1.8764],\n",
       "       [-17.1668,  -8.2547,   1.888 ],\n",
       "       [-17.0033,  -7.0394,   1.633 ],\n",
       "       [-17.2006,  -6.9297,   1.6211],\n",
       "       [-16.3177,  -7.7825,   1.8886],\n",
       "       [-17.0584,  -8.2543,   1.9221],\n",
       "       [-17.2831,  -7.4793,   1.5022],\n",
       "       [-16.5011,  -7.6702,   1.7084],\n",
       "       [-17.2844,  -7.6656,   1.7561],\n",
       "       [-17.0322,  -8.6741,   1.853 ],\n",
       "       [-17.4023,  -7.244 ,   1.6808],\n",
       "       [-16.5018,  -8.0618,   1.6887],\n",
       "       [-16.3365,  -7.7635,   1.8921],\n",
       "       [-16.7896,  -8.5401,   1.8522],\n",
       "       [-16.5009,  -7.0503,   1.6447],\n",
       "       [-16.9983,  -7.5587,   1.6322],\n",
       "       [-16.796 ,  -8.6528,   1.6985],\n",
       "       [-16.9887,  -8.16  ,   1.746 ],\n",
       "       [-16.7871,  -6.969 ,   1.6986],\n",
       "       [-16.8352,  -7.5891,   1.7411],\n",
       "       [-17.1098,  -7.3439,   1.6008],\n",
       "       [-16.3101,  -8.1163,   1.8009],\n",
       "       [-16.6901,  -8.352 ,   1.7972],\n",
       "       [-16.7912,  -7.043 ,   1.569 ],\n",
       "       [-16.949 ,  -7.305 ,   1.7904],\n",
       "       [-17.457 ,  -7.3151,   1.7291],\n",
       "       [-16.2699,  -8.6283,   1.6881],\n",
       "       [-16.8895,  -8.45  ,   1.774 ],\n",
       "       [-16.7754,  -7.8786,   1.9131],\n",
       "       [-16.241 ,  -7.9068,   1.6702],\n",
       "       [-16.6171,  -7.871 ,   1.7708],\n",
       "       [-16.5854,  -7.052 ,   1.662 ],\n",
       "       [-17.0729,  -8.6426,   1.8316],\n",
       "       [-16.8952,  -7.0572,   1.6957],\n",
       "       [-17.0322,  -8.6741,   1.853 ],\n",
       "       [-16.949 ,  -7.305 ,   1.7904],\n",
       "       [-16.7959,  -7.5689,   1.6998],\n",
       "       [-16.6171,  -7.871 ,   1.7708],\n",
       "       [-16.2336,  -8.0111,   1.9438],\n",
       "       [-16.5034,  -8.5475,   1.7614],\n",
       "       [-16.485 ,  -8.3447,   1.7675],\n",
       "       [-16.1764,  -8.6096,   1.8004],\n",
       "       [-16.8522,  -8.6694,   1.7434],\n",
       "       [-16.6   ,  -7.5747,   1.742 ],\n",
       "       [-17.0977,  -7.148 ,   1.64  ],\n",
       "       [-17.0951,  -6.8377,   1.6649],\n",
       "       [-16.6959,  -8.3519,   1.7983],\n",
       "       [-16.7687,  -8.16  ,   1.9831],\n",
       "       [-16.7956,  -7.4701,   1.707 ],\n",
       "       [-16.2636,  -8.7197,   1.7489],\n",
       "       [-17.0322,  -8.6741,   1.853 ],\n",
       "       [-17.0913,  -8.4562,   1.7161],\n",
       "       [-16.6522,  -7.4691,   1.68  ],\n",
       "       [-17.0986,  -7.9601,   1.6314],\n",
       "       [-17.0986,  -7.9601,   1.6314],\n",
       "       [-17.4169,  -7.3366,   1.6159],\n",
       "       [-17.0584,  -8.2543,   1.9221],\n",
       "       [-16.5034,  -8.5475,   1.7614],\n",
       "       [-17.1019,  -7.3479,   1.5996],\n",
       "       [-17.3267,  -7.6187,   1.7572],\n",
       "       [-16.7923,  -7.1839,   1.7869],\n",
       "       [-16.9879,  -7.7682,   1.7438],\n",
       "       [-16.9888,  -7.7698,   1.7447],\n",
       "       [-16.8854,  -8.4505,   1.7792],\n",
       "       [-16.7922,  -8.2574,   1.7384],\n",
       "       [-16.6944,  -7.3975,   1.8675],\n",
       "       [-16.498 ,  -8.6397,   1.8042],\n",
       "       [-16.8742,  -7.9705,   1.8746],\n",
       "       [-16.8689,  -6.9261,   1.907 ],\n",
       "       [-16.3105,  -8.2566,   1.7737],\n",
       "       [-17.2467,  -7.6016,   1.6521],\n",
       "       [-16.6   ,  -8.0632,   1.7518],\n",
       "       [-16.8965,  -7.5646,   1.6847],\n",
       "       [-16.913 ,  -7.5259,   1.9555],\n",
       "       [-17.077 ,  -7.1788,   1.6399],\n",
       "       [-16.6965,  -8.2566,   1.7667],\n",
       "       [-17.4695,  -7.4043,   1.6439],\n",
       "       [-16.6916,  -8.16  ,   2.0001],\n",
       "       [-16.796 ,  -6.9581,   1.6982],\n",
       "       [-16.6758,  -8.3584,   1.7932],\n",
       "       [-16.2135,  -7.9718,   1.8779],\n",
       "       [-16.4461,  -7.5701,   1.8008],\n",
       "       [-16.9008,  -6.8339,   1.6482],\n",
       "       [-17.0947,  -6.872 ,   1.6776],\n",
       "       [-17.0683,  -7.3782,   1.5949],\n",
       "       [-16.913 ,  -7.5259,   1.9555],\n",
       "       [-16.3066,  -8.064 ,   1.7809],\n",
       "       [-16.767 ,  -8.4638,   1.7691],\n",
       "       [-16.6881,  -8.0646,   1.8248],\n",
       "       [-16.4703,  -8.5366,   1.7798],\n",
       "       [-17.0947,  -6.872 ,   1.6776],\n",
       "       [-16.4061,  -8.3541,   1.7485],\n",
       "       [-16.8074,  -7.7067,   1.9381],\n",
       "       [-16.9738,  -8.2536,   1.9237],\n",
       "       [-16.8068,  -6.8193,   1.5855],\n",
       "       [-16.6867,  -7.7791,   1.8428],\n",
       "       [-16.3743,  -8.5266,   1.8109],\n",
       "       [-17.1019,  -7.3479,   1.5996],\n",
       "       [-16.7754,  -7.8786,   1.9131],\n",
       "       [-16.9861,  -7.3796,   1.7774],\n",
       "       [-16.4386,  -7.6679,   1.812 ],\n",
       "       [-17.2831,  -7.4793,   1.5022],\n",
       "       [-16.2229,  -8.0384,   1.9234],\n",
       "       [-16.7842,  -8.16  ,   1.9797],\n",
       "       [-16.8854,  -8.4505,   1.7792],\n",
       "       [-16.4983,  -7.5823,   1.7953],\n",
       "       [-16.5977,  -6.8636,   1.7293],\n",
       "       [-16.5977,  -6.8636,   1.7293],\n",
       "       [-16.4981,  -8.2557,   1.7992],\n",
       "       [-16.3814,  -7.6443,   1.824 ],\n",
       "       [-16.8228,  -7.4316,   1.9928],\n",
       "       [-17.0621,  -8.1946,   1.8909],\n",
       "       [-17.0669,  -8.4917,   1.7221],\n",
       "       [-17.2831,  -7.4793,   1.5022],\n",
       "       [-16.7455,  -7.6629,   1.5593],\n",
       "       [-17.0778,  -8.6404,   1.8295],\n",
       "       [-16.787 ,  -7.879 ,   1.9126],\n",
       "       [-16.1372,  -7.9944,   1.8464],\n",
       "       [-16.5972,  -7.3764,   1.7395],\n",
       "       [-16.4098,  -8.4457,   1.8372],\n",
       "       [-16.8905,  -8.5485,   1.7582],\n",
       "       [-16.2226,  -7.971 ,   1.8803],\n",
       "       [-17.4169,  -7.3366,   1.6159],\n",
       "       [-17.3428,  -7.0399,   1.8907],\n",
       "       [-16.5976,  -6.8607,   1.7281],\n",
       "       [-16.4061,  -8.3541,   1.7485],\n",
       "       [-16.3076,  -7.7839,   1.8871],\n",
       "       [-16.4078,  -8.5454,   1.7898],\n",
       "       [-16.485 ,  -8.3447,   1.7675],\n",
       "       [-16.7868,  -7.973 ,   1.918 ],\n",
       "       [-16.9888,  -7.7698,   1.7447],\n",
       "       [-16.7959,  -7.8925,   1.913 ],\n",
       "       [-16.4941,  -6.8767,   1.4851],\n",
       "       [-16.3099,  -7.8693,   1.7642],\n",
       "       [-16.8007,  -6.8217,   1.5861],\n",
       "       [-16.3813,  -8.4294,   1.8362],\n",
       "       [-16.6468,  -7.4007,   1.8745],\n",
       "       [-16.9876,  -8.16  ,   1.7464],\n",
       "       [-16.4941,  -6.8767,   1.4851],\n",
       "       [-16.9738,  -8.2536,   1.9237],\n",
       "       [-17.2775,  -7.5702,   1.7902],\n",
       "       [-16.2636,  -8.7197,   1.7489],\n",
       "       [-16.3065,  -7.8705,   1.764 ],\n",
       "       [-16.7959,  -7.8925,   1.913 ],\n",
       "       [-16.8144,  -7.1226,   1.5074],\n",
       "       [-16.9888,  -7.7698,   1.7447],\n",
       "       [-16.9876,  -8.16  ,   1.7464],\n",
       "       [-16.4132,  -7.3089,   1.9175],\n",
       "       [-17.2831,  -7.4793,   1.5022],\n",
       "       [-16.5854,  -7.052 ,   1.662 ],\n",
       "       [-16.796 ,  -8.652 ,   1.6984],\n",
       "       [-17.0322,  -8.6741,   1.853 ],\n",
       "       [-17.2467,  -7.6016,   1.6521],\n",
       "       [-17.2773,  -7.5742,   1.788 ],\n",
       "       [-16.6963,  -8.4493,   1.7782],\n",
       "       [-16.6954,  -8.0645,   1.8192],\n",
       "       [-16.9916,  -7.1626,   1.7176],\n",
       "       [-16.4913,  -8.2478,   1.7986],\n",
       "       [-16.5976,  -6.8607,   1.7281],\n",
       "       [-16.6928,  -7.8811,   1.9436],\n",
       "       [-16.6   ,  -7.8697,   1.7612],\n",
       "       [-17.0897,  -8.4548,   1.7154],\n",
       "       [-16.7   ,  -7.8876,   1.9415],\n",
       "       [-16.9008,  -6.8339,   1.6482],\n",
       "       [-16.6934,  -7.1139,   1.9161],\n",
       "       [-16.5042,  -8.2558,   1.8007],\n",
       "       [-16.1764,  -8.6096,   1.8004],\n",
       "       [-17.0582,  -7.7822,   1.9232],\n",
       "       [-16.597 ,  -7.5751,   1.742 ],\n",
       "       [-17.3822,  -7.6453,   1.9507],\n",
       "       [-17.1172,  -7.9976,   1.6392],\n",
       "       [-17.4156,  -7.5457,   1.6218]], dtype=float32)"
      ]
     },
     "execution_count": 41,
     "metadata": {},
     "output_type": "execute_result"
    }
   ],
   "source": [
    "POINTS[inPR]"
   ]
  },
  {
   "cell_type": "code",
   "execution_count": 42,
   "metadata": {},
   "outputs": [
    {
     "name": "stdout",
     "output_type": "stream",
     "text": [
      "/mnt/sda/Github/LiDAR/data/groimp_mock/random_1/lad_0.1/m3count_tree_0_0.1.npy\n",
      "[[[0 0 0 0 0 0]\n",
      "  [0 0 0 0 0 0]\n",
      "  [0 0 0 0 0 0]\n",
      "  ...\n",
      "  [0 0 0 0 0 0]\n",
      "  [0 0 0 0 0 0]\n",
      "  [0 0 0 0 0 0]]\n",
      "\n",
      " [[0 0 0 0 0 0]\n",
      "  [0 0 0 0 0 0]\n",
      "  [0 0 0 0 0 0]\n",
      "  ...\n",
      "  [0 0 0 0 0 0]\n",
      "  [0 0 0 0 0 0]\n",
      "  [0 0 0 0 0 0]]\n",
      "\n",
      " [[0 0 0 0 0 0]\n",
      "  [0 0 0 0 0 0]\n",
      "  [0 0 0 0 0 0]\n",
      "  ...\n",
      "  [0 0 0 0 2 0]\n",
      "  [0 0 0 0 0 0]\n",
      "  [0 0 0 0 0 0]]\n",
      "\n",
      " ...\n",
      "\n",
      " [[0 0 0 0 3 0]\n",
      "  [0 0 0 0 0 0]\n",
      "  [0 0 0 5 0 0]\n",
      "  ...\n",
      "  [0 0 0 0 0 0]\n",
      "  [0 0 0 0 0 0]\n",
      "  [0 0 0 0 0 0]]\n",
      "\n",
      " [[0 0 0 0 0 0]\n",
      "  [0 0 0 3 0 0]\n",
      "  [0 0 0 0 0 0]\n",
      "  ...\n",
      "  [0 0 0 0 0 0]\n",
      "  [0 0 0 0 0 0]\n",
      "  [0 0 0 0 0 0]]\n",
      "\n",
      " [[0 0 0 0 0 0]\n",
      "  [0 0 0 2 0 0]\n",
      "  [0 0 0 0 0 0]\n",
      "  ...\n",
      "  [0 0 0 0 0 0]\n",
      "  [0 0 0 0 0 0]\n",
      "  [0 0 0 0 0 0]]]\n"
     ]
    },
    {
     "ename": "ValueError",
     "evalue": "not enough values to unpack (expected 3, got 2)",
     "output_type": "error",
     "traceback": [
      "\u001b[0;31m---------------------------------------------------------------------------\u001b[0m",
      "\u001b[0;31mValueError\u001b[0m                                Traceback (most recent call last)",
      "\u001b[0;32m/tmp/ipykernel_8013/2499766178.py\u001b[0m in \u001b[0;36m<module>\u001b[0;34m\u001b[0m\n\u001b[1;32m      3\u001b[0m \u001b[0mvoxel_size\u001b[0m\u001b[0;34m\u001b[0m\u001b[0;34m\u001b[0m\u001b[0m\n\u001b[1;32m      4\u001b[0m \u001b[0;31m# resdir = os.path.join(_data, mockname, 'lad_%s' %(str(voxel_size)))\u001b[0m\u001b[0;34m\u001b[0m\u001b[0;34m\u001b[0m\u001b[0;34m\u001b[0m\u001b[0m\n\u001b[0;32m----> 5\u001b[0;31m \u001b[0mNI\u001b[0m\u001b[0;34m,\u001b[0m \u001b[0mN0\u001b[0m\u001b[0;34m,\u001b[0m \u001b[0mNP0\u001b[0m\u001b[0;34m,\u001b[0m \u001b[0mNP\u001b[0m \u001b[0;34m=\u001b[0m \u001b[0mlad\u001b[0m\u001b[0;34m.\u001b[0m\u001b[0mget_attributes_per_k\u001b[0m\u001b[0;34m(\u001b[0m\u001b[0mPOINTS\u001b[0m\u001b[0;34m[\u001b[0m\u001b[0minPR\u001b[0m\u001b[0;34m]\u001b[0m\u001b[0;34m,\u001b[0m \u001b[0mvoxel_size\u001b[0m\u001b[0;34m,\u001b[0m \u001b[0;34m(\u001b[0m\u001b[0mminpointPR\u001b[0m\u001b[0;34m,\u001b[0m \u001b[0mmaxpointPR\u001b[0m\u001b[0;34m)\u001b[0m\u001b[0;34m,\u001b[0m \u001b[0;34m'tree_0'\u001b[0m\u001b[0;34m,\u001b[0m \u001b[0mkval\u001b[0m\u001b[0;34m=\u001b[0m\u001b[0;36m2\u001b[0m\u001b[0;34m,\u001b[0m \u001b[0mresdir\u001b[0m\u001b[0;34m=\u001b[0m\u001b[0mresdir\u001b[0m\u001b[0;34m,\u001b[0m \u001b[0mshowall\u001b[0m\u001b[0;34m=\u001b[0m\u001b[0;32mTrue\u001b[0m\u001b[0;34m)\u001b[0m\u001b[0;34m\u001b[0m\u001b[0;34m\u001b[0m\u001b[0m\n\u001b[0m",
      "\u001b[0;32m/mnt/sda/Github/LiDAR/py/lad.py\u001b[0m in \u001b[0;36mget_attributes_per_k\u001b[0;34m(m3scount, voxel_size, PRbounds, tree, kval, resdir, showall)\u001b[0m\n\u001b[1;32m    666\u001b[0m     \u001b[0mi\u001b[0m\u001b[0;34m,\u001b[0m\u001b[0mj\u001b[0m\u001b[0;34m,\u001b[0m\u001b[0mk\u001b[0m \u001b[0;34m=\u001b[0m \u001b[0mnp\u001b[0m\u001b[0;34m.\u001b[0m\u001b[0mwhere\u001b[0m\u001b[0;34m(\u001b[0m\u001b[0mm3b0\u001b[0m \u001b[0;34m!=\u001b[0m \u001b[0;36m0\u001b[0m\u001b[0;34m)\u001b[0m\u001b[0;34m\u001b[0m\u001b[0;34m\u001b[0m\u001b[0m\n\u001b[1;32m    667\u001b[0m     \u001b[0;31m# get indexes of voxels with at least 1 point\u001b[0m\u001b[0;34m\u001b[0m\u001b[0;34m\u001b[0m\u001b[0;34m\u001b[0m\u001b[0m\n\u001b[0;32m--> 668\u001b[0;31m     \u001b[0m_\u001b[0m\u001b[0;34m,\u001b[0m\u001b[0m_\u001b[0m\u001b[0;34m,\u001b[0m\u001b[0mkp\u001b[0m \u001b[0;34m=\u001b[0m \u001b[0mnp\u001b[0m\u001b[0;34m.\u001b[0m\u001b[0mwhere\u001b[0m\u001b[0;34m(\u001b[0m\u001b[0mm3scount\u001b[0m \u001b[0;34m>\u001b[0m \u001b[0;36m0\u001b[0m\u001b[0;34m)\u001b[0m\u001b[0;34m\u001b[0m\u001b[0;34m\u001b[0m\u001b[0m\n\u001b[0m\u001b[1;32m    669\u001b[0m \u001b[0;34m\u001b[0m\u001b[0m\n\u001b[1;32m    670\u001b[0m     \u001b[0;32mif\u001b[0m \u001b[0mshowall\u001b[0m\u001b[0;34m:\u001b[0m\u001b[0;34m\u001b[0m\u001b[0;34m\u001b[0m\u001b[0m\n",
      "\u001b[0;31mValueError\u001b[0m: not enough values to unpack (expected 3, got 2)"
     ]
    }
   ],
   "source": [
    "inPR = (leaves) & (trees['tree_0'])\n",
    "\n",
    "voxel_size\n",
    "# resdir = os.path.join(_data, mockname, 'lad_%s' %(str(voxel_size)))\n",
    "NI, N0, NP0, NP = lad.get_attributes_per_k(POINTS[inPR], voxel_size, (minpointPR, maxpointPR), 'tree_0', kval=2, resdir=resdir, showall=True)"
   ]
  },
  {
   "cell_type": "markdown",
   "metadata": {},
   "source": [
    "## LIA"
   ]
  },
  {
   "cell_type": "code",
   "execution_count": 70,
   "metadata": {},
   "outputs": [],
   "source": [
    "def best_fit_lia(mockname):\n",
    "\n",
    "    df = loads.npy2pandas(mockname)\n",
    "    # extract leaves. Boolean array output\n",
    "    leaves = loads.extract_leaves(df, show=False)\n",
    "    # extract trees. Dictionary with boolean arrays output\n",
    "    trees = segtree(df, leaves, show=False)\n",
    "\n",
    "    for key, val in trees.items():\n",
    "\n",
    "        keep = (val) & (leaves) # take the LPC per tree\n",
    "        points = df[['x', 'y', 'z']].to_numpy()[keep]\n",
    "\n",
    "        res = lia.bestfit_pars_la(points, mockname, treename=key)\n",
    "        lia.best_fit_pars_plot(res, key, mockname)"
   ]
  },
  {
   "cell_type": "code",
   "execution_count": 71,
   "metadata": {},
   "outputs": [],
   "source": [
    "def get_lia(mockname):\n",
    "\n",
    "    df = loads.npy2pandas(mockname)\n",
    "\n",
    "    # extract leaves. Boolean array output\n",
    "    leaves = loads.extract_leaves(df, show=False)\n",
    "    # extract trees. Dictionary with boolean arrays output\n",
    "    trees = segtree(df, leaves, show=False)\n",
    "\n",
    "\n",
    "    # load bestfit results\n",
    "    for key, val in trees.items():\n",
    "\n",
    "        keep = (val) & (leaves)\n",
    "        points = df[['x', 'y', 'z']].to_numpy()[keep]\n",
    "    \n",
    "        bestfit_file = os.path.join(_data, mockname, 'lia', 'bestfit_%s.npy' %(key))\n",
    "        res = np.load(bestfit_file, allow_pickle=True)\n",
    "        res = res.tolist()\n",
    "\n",
    "        text = 'leaf area=%.2f \\n %s=%.4f \\n %s=%.4f \\n %s=%.4f ' %(res['leafsize'], 'voxel_size_w', res['voxel_size_w_bestfit'],'kd3_sr', res['kd3_sr_bestfit'],'max_nn', res['max_nn_bestfit'])\n",
    "        print(text)\n",
    "\n",
    "        chi2 = lia.leaf_angle(points, mockname, key, res['voxel_size_w_bestfit'], \n",
    "                                res['kd3_sr_bestfit'], res['max_nn_bestfit'], save=True,\n",
    "                                    savefig=True, text=text, voxel_size_h=0.1)\n",
    "\n",
    "        # save indexes from main df\n",
    "        inds = np.where((val) & (leaves))\n",
    "        np.save(os.path.join(_data, mockname, 'lia', 'inds.npy'), inds[0])\n"
   ]
  },
  {
   "cell_type": "code",
   "execution_count": 72,
   "metadata": {},
   "outputs": [
    {
     "name": "stdout",
     "output_type": "stream",
     "text": [
      "Number of files: 0\n"
     ]
    },
    {
     "ename": "ValueError",
     "evalue": "need at least one array to concatenate",
     "output_type": "error",
     "traceback": [
      "\u001b[0;31m---------------------------------------------------------------------------\u001b[0m",
      "\u001b[0;31mValueError\u001b[0m                                Traceback (most recent call last)",
      "\u001b[0;32m/tmp/ipykernel_247954/3666218035.py\u001b[0m in \u001b[0;36m<module>\u001b[0;34m\u001b[0m\n\u001b[0;32m----> 1\u001b[0;31m \u001b[0mbest_fit_lia\u001b[0m\u001b[0;34m(\u001b[0m\u001b[0mmockname\u001b[0m\u001b[0;34m)\u001b[0m\u001b[0;34m\u001b[0m\u001b[0;34m\u001b[0m\u001b[0m\n\u001b[0m",
      "\u001b[0;32m/tmp/ipykernel_247954/2586845744.py\u001b[0m in \u001b[0;36mbest_fit_lia\u001b[0;34m(mockname)\u001b[0m\n\u001b[1;32m      1\u001b[0m \u001b[0;32mdef\u001b[0m \u001b[0mbest_fit_lia\u001b[0m\u001b[0;34m(\u001b[0m\u001b[0mmockname\u001b[0m\u001b[0;34m)\u001b[0m\u001b[0;34m:\u001b[0m\u001b[0;34m\u001b[0m\u001b[0;34m\u001b[0m\u001b[0m\n\u001b[1;32m      2\u001b[0m \u001b[0;34m\u001b[0m\u001b[0m\n\u001b[0;32m----> 3\u001b[0;31m     \u001b[0mdf\u001b[0m \u001b[0;34m=\u001b[0m \u001b[0mloads\u001b[0m\u001b[0;34m.\u001b[0m\u001b[0mnpy2pandas\u001b[0m\u001b[0;34m(\u001b[0m\u001b[0mmockname\u001b[0m\u001b[0;34m)\u001b[0m\u001b[0;34m\u001b[0m\u001b[0;34m\u001b[0m\u001b[0m\n\u001b[0m\u001b[1;32m      4\u001b[0m     \u001b[0;31m# extract leaves. Boolean array output\u001b[0m\u001b[0;34m\u001b[0m\u001b[0;34m\u001b[0m\u001b[0;34m\u001b[0m\u001b[0m\n\u001b[1;32m      5\u001b[0m     \u001b[0mleaves\u001b[0m \u001b[0;34m=\u001b[0m \u001b[0mloads\u001b[0m\u001b[0;34m.\u001b[0m\u001b[0mextract_leaves\u001b[0m\u001b[0;34m(\u001b[0m\u001b[0mdf\u001b[0m\u001b[0;34m,\u001b[0m \u001b[0mshow\u001b[0m\u001b[0;34m=\u001b[0m\u001b[0;32mFalse\u001b[0m\u001b[0;34m)\u001b[0m\u001b[0;34m\u001b[0m\u001b[0;34m\u001b[0m\u001b[0m\n",
      "\u001b[0;32m/mnt/sda/Github/LiDAR/py/loads.py\u001b[0m in \u001b[0;36mnpy2pandas\u001b[0;34m(mockname, downsample)\u001b[0m\n\u001b[1;32m    158\u001b[0m     \u001b[0;31m#     bias = list(bia_pos.values())[0]\u001b[0m\u001b[0;34m\u001b[0m\u001b[0;34m\u001b[0m\u001b[0;34m\u001b[0m\u001b[0m\n\u001b[1;32m    159\u001b[0m     \u001b[0;31m# else:\u001b[0m\u001b[0;34m\u001b[0m\u001b[0;34m\u001b[0m\u001b[0;34m\u001b[0m\u001b[0m\n\u001b[0;32m--> 160\u001b[0;31m     \u001b[0mdf\u001b[0m \u001b[0;34m=\u001b[0m \u001b[0mnp\u001b[0m\u001b[0;34m.\u001b[0m\u001b[0mconcatenate\u001b[0m\u001b[0;34m(\u001b[0m\u001b[0mlist\u001b[0m\u001b[0;34m(\u001b[0m\u001b[0mfiles\u001b[0m\u001b[0;34m.\u001b[0m\u001b[0mvalues\u001b[0m\u001b[0;34m(\u001b[0m\u001b[0;34m)\u001b[0m\u001b[0;34m)\u001b[0m\u001b[0;34m)\u001b[0m\u001b[0;34m\u001b[0m\u001b[0;34m\u001b[0m\u001b[0m\n\u001b[0m\u001b[1;32m    161\u001b[0m     \u001b[0mbias\u001b[0m \u001b[0;34m=\u001b[0m \u001b[0mnp\u001b[0m\u001b[0;34m.\u001b[0m\u001b[0mconcatenate\u001b[0m\u001b[0;34m(\u001b[0m\u001b[0mlist\u001b[0m\u001b[0;34m(\u001b[0m\u001b[0mbia_pos\u001b[0m\u001b[0;34m.\u001b[0m\u001b[0mvalues\u001b[0m\u001b[0;34m(\u001b[0m\u001b[0;34m)\u001b[0m\u001b[0;34m)\u001b[0m\u001b[0;34m)\u001b[0m\u001b[0;34m\u001b[0m\u001b[0;34m\u001b[0m\u001b[0m\n\u001b[1;32m    162\u001b[0m \u001b[0;34m\u001b[0m\u001b[0m\n",
      "\u001b[0;32m<__array_function__ internals>\u001b[0m in \u001b[0;36mconcatenate\u001b[0;34m(*args, **kwargs)\u001b[0m\n",
      "\u001b[0;31mValueError\u001b[0m: need at least one array to concatenate"
     ]
    }
   ],
   "source": [
    "best_fit_lia(mockname)"
   ]
  },
  {
   "cell_type": "code",
   "execution_count": null,
   "metadata": {},
   "outputs": [],
   "source": [
    "get_lia(mockname)"
   ]
  },
  {
   "cell_type": "code",
   "execution_count": null,
   "metadata": {},
   "outputs": [],
   "source": [
    "inds_file = os.path.join(resdir, 'inds.npy')\n",
    "inds = np.load(inds_file)\n",
    "print(inds)"
   ]
  },
  {
   "cell_type": "code",
   "execution_count": null,
   "metadata": {},
   "outputs": [],
   "source": [
    "inds_lia = np.load(os.path.join(_data, mockname, 'lia', 'inds.npy'))\n",
    "print(inds_lia)"
   ]
  },
  {
   "cell_type": "code",
   "execution_count": null,
   "metadata": {},
   "outputs": [],
   "source": [
    "def runall(pointsPR, sensorsPR, voxel_size, tree, N, PRbounds, resdir, kbins=None):\n",
    "\n",
    "    # resdir = os.path.join(_data, mockname, 'lad_%s' %(str(voxel_size)))\n",
    "    inds_file = os.path.join(resdir, 'inds.npy')\n",
    "    inds = np.load(inds_file)\n",
    "    print(inds)\n",
    "\n",
    "    # resdir = os.path.join(_data, mockname, 'lad_%s' %(str(voxel_size)))\n",
    "\n",
    "    inds_lia = np.load(os.path.join(_data, mockname, 'lia', 'inds.npy'))\n",
    "\n",
    "    isfigures = os.path.join(resdir, 'figures')\n",
    "    if not os.path.exists(isfigures):\n",
    "        os.makedirs(isfigures)\n",
    "\n",
    "    attributes2_file = os.path.join(resdir, 'm3s_%s_%s.npy' %(tree, str(voxel_size)))\n",
    "    if os.path.isfile(attributes2_file):\n",
    "        m3b = np.load(attributes2_file)\n",
    "\n",
    "    print('voxel_size:', voxel_size)\n",
    "\n",
    "    m3att = lad.compute_attributes(pointsPR, resdir, voxel_size, tree, PRbounds)\n",
    "\n",
    "    # _,_,_, m3scount = lad.density_counts(pointsPR, voxel_size)\n",
    "\n",
    "    # get in down sample boolean array for LPC size\n",
    "    mask1 = np.zeros(N, bool)\n",
    "    mask2 = mask1.copy()\n",
    "\n",
    "    mask1[inds] = True\n",
    "    mask2[inds_lia] = True\n",
    "\n",
    "    lias, ws = lad.downsample_lia(mockname, tree, np.where(mask1[mask2])[0])\n",
    "    voxk = lad.get_voxk(pointsPR, PRbounds, voxel_size)\n",
    "    bia = lad.get_bia(pointsPR, sensorsPR)\n",
    "    meshfile = lad.get_meshfile(mockname)\n",
    "\n",
    "    print('DEBUG')\n",
    "    print(len(lias), len(ws), len(voxk))\n",
    "\n",
    "    figext = '%s_%s' %(tree, str(voxel_size))\n",
    "    # figext = None\n",
    "    \n",
    "    alphas_k = lad.alpha_k(bia, voxk, lias, ws, resdir, meshfile, figext=figext, \n",
    "                            klia=False, use_true_lia=True)\n",
    "\n",
    "    kmax = m3b.shape[2]\n",
    "    if kbins is None:\n",
    "        kbins = int(kmax/15)\n",
    "    print(kbins)\n",
    "\n",
    "    # Attribute 2 counts per voxel\n",
    "    # outdir_count = os.path.join(resdir, 'm3count_%s_%s.npy' %(tree, str(voxel_size)))\n",
    "    \n",
    "    lads_mid, clai = lad.get_LADS2(pointsPR, kmax, voxel_size, kbins, alphas_k[:,6], PRbounds, tree, resdir)\n",
    "    lads_0, _ = lad.get_LADS2(pointsPR, kmax, voxel_size, kbins, alphas_k[:,6]*0+1, PRbounds, tree, resdir)\n",
    "    # lads_mid_old, _ = lad.get_LADS2(pointsPR, kmax, voxel_size, kbins, alphas_k[:,6], PRbounds, tree, resdir, oldlad=True)\n",
    "    # lads_mid_old = lad.get_LADS(m3att, voxel_size, kbins, alphas_k[:,6], alpha2=1)\n",
    "    lads_mesh = lad.get_LADS_mesh(meshfile, voxel_size, kbins, kmax, PRbounds)\n",
    "\n",
    "    # lads = {'Truth':lads_mesh, 'Correction Mean':lads_mid, 'No Correction':lads_0, 'Correction Weights':lads_mid_w}#, 'Correction counts':lads_mid_counts}\n",
    "    lads = {'Truth':lads_mesh, 'Correction Mean':lads_mid, 'No Correction':lads_0}\n",
    "    # clai = lad.get_clai(m3att, alphas_k)\n",
    "    attributes_file = os.path.join(resdir, 'm3s_%s_%s.npy' %(tree, str(voxel_size)))\n",
    "    if os.path.isfile(attributes_file):\n",
    "        RT = 'Y'\n",
    "    else:\n",
    "        RT = 'N'\n",
    "        \n",
    "    text = {'tree':tree, 'VS':voxel_size, 'RT':RT, 'CLAI':np.round(clai, 3)}\n",
    "    txt = []\n",
    "    for key, val in text.items():\n",
    "        txt.append('%s=%s \\n' %(key, str(val)))\n",
    "    text = (' ').join(txt)\n",
    "\n",
    "    savefig = os.path.join(resdir, 'figures','LAD_%s.png' %(figext))\n",
    "    figures.plot_lads(lads, text, savefig=savefig)\n"
   ]
  },
  {
   "cell_type": "markdown",
   "metadata": {},
   "source": [
    "Below issue is related to LIA, `voxk` size is the same as `POINTS[inPR]` of 33145. We have to build an array that has same dimmensions as `POINTS[inPR]` and asociated the LIA values to it."
   ]
  },
  {
   "cell_type": "code",
   "execution_count": null,
   "metadata": {},
   "outputs": [],
   "source": [
    "len(POINTS[inPR])"
   ]
  },
  {
   "cell_type": "code",
   "execution_count": null,
   "metadata": {},
   "outputs": [],
   "source": [
    "inPR = (leaves) & (trees['tree_0'])\n",
    "runall(POINTS[inPR], SENSORS[inPR], voxel_size, 'tree_0', N, (minpointPR, maxpointPR), resdir, kbins=1)"
   ]
  },
  {
   "cell_type": "code",
   "execution_count": null,
   "metadata": {},
   "outputs": [],
   "source": []
  }
 ],
 "metadata": {
  "celltoolbar": "Slideshow",
  "interpreter": {
   "hash": "01faaaf81481ce77d7f5f744ae1e5865c79a824a262fd52a7990627a7cd3d9fc"
  },
  "kernelspec": {
   "display_name": "Python 3.9.7 ('plant-env')",
   "language": "python",
   "name": "python3"
  },
  "language_info": {
   "codemirror_mode": {
    "name": "ipython",
    "version": 3
   },
   "file_extension": ".py",
   "mimetype": "text/x-python",
   "name": "python",
   "nbconvert_exporter": "python",
   "pygments_lexer": "ipython3",
   "version": "3.8.11"
  }
 },
 "nbformat": 4,
 "nbformat_minor": 2
}
