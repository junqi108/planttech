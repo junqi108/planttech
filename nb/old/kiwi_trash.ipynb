{
 "cells": [
  {
   "cell_type": "code",
   "execution_count": null,
   "metadata": {},
   "outputs": [],
   "source": [
    "# Grab the return_num and num_returns dimensions\n",
    "\n",
    "def gp(las):\n",
    "\n",
    "        ground_points = (las.number_of_returns == las.return_number)\n",
    "\n",
    "        print(\"%i points out of %i were ground points.\" % (len(ground_points),\n",
    "                len(las.points)))\n",
    "\n",
    "        return ground_points\n",
    "\n",
    "def hist(par):\n",
    "\n",
    "        fig = plt.figure(figsize=(10,6))\n",
    "        plt.hist(par, bins=50)\n",
    "        plt.title(\"Histogram of the Intensity Dimension\")\n",
    "        plt.show()"
   ]
  },
  {
   "cell_type": "markdown",
   "metadata": {},
   "source": [
    "## Get the foliage"
   ]
  },
  {
   "cell_type": "markdown",
   "metadata": {},
   "source": [
    "## Approach 1: percentiles"
   ]
  },
  {
   "cell_type": "code",
   "execution_count": null,
   "metadata": {},
   "outputs": [],
   "source": [
    "# select the field\n",
    "keep = (df['y'] > 0.34*df['x'] - 4.0) & (df['y'] < 0.34*df['x'] + 6)\n",
    "keep &= (df['x'] < -0.35*df['y'] - 10) & (df['x'] > -0.35*df['y'] - 60)\n",
    "\n",
    "# Set the foliage min and max height\n",
    "keepz = (df['z'] > 1.2) & (df['z'] < 3.8)\n",
    "\n",
    "# remove outliers using percentiles\n",
    "res, mask = loads.remove_outliers(df['x'][keep & keepz], df['z'][keep & keepz])\n",
    "leaves = np.zeros(len(df['x']), dtype=bool)\n",
    "leaves[(keep) & (keepz)] = mask"
   ]
  },
  {
   "cell_type": "code",
   "execution_count": null,
   "metadata": {},
   "outputs": [],
   "source": [
    "keep = PCsample\n",
    "df1 = df[keep][::1]\n",
    "print(len(df))\n",
    "print(len(df1))\n",
    "\n",
    "plt.figure(figsize=(16, 8))\n",
    "plt.scatter(df1['x'], df1['z'], s=0.01)\n",
    "plt.axhline(1.2, lw=2, c='k')\n",
    "plt.axhline(3.8, lw=2, c='k')\n",
    "\n",
    "res, _ = loads.remove_outliers(df['x'][keep & keepz][::5], df['z'][keep & keepz][::5])\n",
    "\n",
    "plt.grid()\n",
    "\n",
    "plt.ylim(-2,10)\n",
    "\n",
    "plt.xlabel(r'$x$', size=20)\n",
    "plt.ylabel(r'$z$', size=20)"
   ]
  },
  {
   "cell_type": "markdown",
   "metadata": {},
   "source": [
    "### Colour mask: RGB clustering with K-means"
   ]
  },
  {
   "cell_type": "code",
   "execution_count": null,
   "metadata": {},
   "outputs": [],
   "source": [
    "# keepz = (las.z > 1.2) & (las.z < 3.5)\n",
    "keep = PCsample #& keepz\n",
    "\n",
    "Y = colors[keep]/2**8\n",
    "N = 8\n",
    "clt = KMeans(n_clusters = N, init='k-means++')\n",
    "clt.fit(Y)\n",
    "\n",
    "hist = figures.centroid_histogram(clt)\n",
    "bar = figures.plot_colors(hist, clt.cluster_centers_)\n",
    "# maxbar = plot_max()\n",
    "\n",
    "p = plt.figure()\n",
    "p2 = p.add_subplot(111)\n",
    "p2.axis(\"off\")\n",
    "p2.imshow(bar)"
   ]
  },
  {
   "cell_type": "code",
   "execution_count": null,
   "metadata": {},
   "outputs": [],
   "source": [
    "labels = clt.labels_\n",
    "\n",
    "keeplab = np.zeros(len(points[keep]), dtype=bool)\n",
    "for i in [1]:\n",
    "    keeplab |= (labels == i)\n",
    "\n",
    "pointslist = [points[keep][~keeplab]]\n",
    "colours = [colors[keep][~keeplab]/2**16]\n",
    "loads.showPCDS(pointslist, colours)"
   ]
  },
  {
   "cell_type": "markdown",
   "metadata": {},
   "source": [
    "### Intensity mask: Canes removal with low intensity values"
   ]
  },
  {
   "cell_type": "code",
   "execution_count": null,
   "metadata": {},
   "outputs": [],
   "source": [
    "# intensity = np.sqrt(las.intensity[keep])\n",
    "# intensity = (las.intensity[keep])**5\n",
    "\n",
    "keep = PCsample\n",
    "# intensity = np.sin(las.red[keep]/2**16 + las.green[keep]/2**16 + las.blue[keep]/2**16)**2\n",
    "intensity = (las.intensity[keep])**0.5\n",
    "N = 5\n",
    "\n",
    "tot = len(intensity)\n",
    "ini, fin = intensity.min(), intensity.max()\n",
    "bins = np.linspace(ini, fin, N+1)\n",
    "masks = []\n",
    "\n",
    "for i in range(len(bins[:-1])):\n",
    "\n",
    "    mask = np.logical_and(intensity >= bins[i], intensity < bins[i+1])\n",
    "    masks.append(mask)\n",
    "\n",
    "    print(i, bins[i], bins[i+1], np.round(100*mask.sum()/tot, 2))\n",
    "\n",
    "\n",
    "# plot the two point clouds\n",
    "coltmp = plt.cm.jet(np.linspace(0,1,N))[:,0:3]\n",
    "\n",
    "maskstmp = masks[0:1]\n",
    "coltmp2 = coltmp[0:1]\n",
    "\n",
    "pointslist = [points[keep][i] for i in maskstmp]\n",
    "colours = [list(i) for i in coltmp2]\n",
    "loads.showPCDS(pointslist, colours)\n"
   ]
  },
  {
   "cell_type": "markdown",
   "metadata": {},
   "source": [
    "### Geometrical mask: poles removal with circular masks in x and y coordinates at certain heigh in z"
   ]
  },
  {
   "cell_type": "code",
   "execution_count": null,
   "metadata": {},
   "outputs": [],
   "source": [
    "keepz = (las.z > 4) & (las.z < 4.5)\n",
    "keep = PCsample & keepz\n",
    "\n",
    "Y = points[keep]\n",
    "N = 10\n",
    "clt = KMeans(n_clusters = N, init='k-means++')\n",
    "clt.fit(Y)"
   ]
  },
  {
   "cell_type": "code",
   "execution_count": null,
   "metadata": {},
   "outputs": [],
   "source": [
    "clt.labels_"
   ]
  },
  {
   "cell_type": "code",
   "execution_count": null,
   "metadata": {},
   "outputs": [],
   "source": [
    "\n",
    "keeplab = {} #np.zeros(len(clusters), dtype=bool)\n",
    "for i in set(clusters):\n",
    "    keeplab[str(i)] = (clusters == i)\n",
    "\n",
    "# pointslist = [points[PCsample][::10][keeplab]]\n",
    "# colours = [colors[PCsample][::10][keeplab]/2**16]\n",
    "# loads.showPCDS(pointslist, colours)\n",
    "\n",
    "N = len(set(clusters))\n",
    "coltmp = plt.cm.jet(np.linspace(0,1,N))[:,0:3]\n",
    "\n",
    "# maskstmp = masks[0:1]\n",
    "# coltmp2 = coltmp[0:1]\n",
    "\n",
    "pointslist = [points[PCsample][::10][i] for i in keeplab.values()]\n",
    "colours = [list(i) for i in coltmp]\n",
    "loads.showPCDS(pointslist, colours)"
   ]
  },
  {
   "cell_type": "code",
   "execution_count": null,
   "metadata": {},
   "outputs": [],
   "source": [
    "leaves = (labels != 1) & (~np.logical_and(intensity >= 0, intensity < 2.1))"
   ]
  },
  {
   "cell_type": "code",
   "execution_count": null,
   "metadata": {},
   "outputs": [],
   "source": [
    "keep = PCsample\n",
    "df1 = df[keep][leaves]\n",
    "print(len(df[keep]))\n",
    "print(len(df1))\n",
    "\n",
    "plt.figure(figsize=(16, 8))\n",
    "\n",
    "plt.scatter(df1['x'], df1['z'], s=0.01)\n",
    "plt.axhline(1.3, lw=2, c='k')\n",
    "plt.axhline(3.2, lw=2, c='k')\n",
    "plt.axhline(2.5, lw=2, ls='--', c='k')\n",
    "\n",
    "for i in [-22.75, -17.5, -14.25, -12.35]:\n",
    "    plt.axvline(i, c='b')\n",
    "\n",
    "# for i in [1.1, -4.6, -6.6, -8.3]:\n",
    "#     plt.axvline(i, c='b')\n",
    "\n",
    "# plt.grid()\n",
    "\n",
    "plt.ylim(-2,10)\n",
    "zzz\n",
    "plt.xlabel(r'$x$', size=20)\n",
    "plt.ylabel(r'$z$', size=20)"
   ]
  },
  {
   "cell_type": "code",
   "execution_count": null,
   "metadata": {},
   "outputs": [],
   "source": [
    "slide = (np.array(las.y) > 0.34*np.array(las.x) - 0.5 - 0.3) & (np.array(las.y) < 0.34*np.array(las.x) - 0.5 + 0.3)\n",
    "keep = PCsample & slide & (las.z > 0.3) & (las.z < 1.8)\n",
    "Ntot = keep.sum()\n",
    "print(Ntot)\n",
    "\n",
    "db = DBSCAN(eps=0.2).fit(X[keep])\n",
    "# N = 30\n",
    "# db = KMeans(init='k-means++', n_clusters=N).fit(X[keep])"
   ]
  },
  {
   "cell_type": "code",
   "execution_count": null,
   "metadata": {},
   "outputs": [],
   "source": [
    "labels = {}\n",
    "\n",
    "for i in set(db.labels_):\n",
    "    mask = db.labels_ == i\n",
    "    perc = 100*mask.sum()/Ntot\n",
    "    if perc > 0:\n",
    "        print(i, perc)\n",
    "        labels[i] = mask\n",
    "\n",
    "N = len(list(labels.keys()))\n",
    "\n",
    "# plot the two point clouds\n",
    "coltmp = plt.cm.jet(np.linspace(0,1,N))[:,0:3]\n",
    "\n",
    "pointslist = [points[keep][val] for val in labels.values()]\n",
    "colours = [list(i) for i in coltmp]\n",
    "loads.showPCDS(pointslist, colours)"
   ]
  },
  {
   "cell_type": "code",
   "execution_count": null,
   "metadata": {},
   "outputs": [],
   "source": [
    "N = 30\n",
    "keep = PCsample & (las.z > 2.5) & (las.z < 4.5)\n",
    "Ntot = keep.sum()\n",
    "\n",
    "kmeans = KMeans(init='k-means++',\n",
    "        n_clusters=N,\n",
    "        # n_init=10,\n",
    "        # max_iter=500,\n",
    "        # random_state=42\n",
    "        ).fit(points[keep])\n",
    "\n",
    "labels = {}\n",
    "\n",
    "for i in set(kmeans.labels_):\n",
    "    labels[i] = kmeans.labels_ == i\n",
    "    print(i, 100*labels[i].sum()/Ntot)\n",
    "\n",
    "# plot the two point clouds\n",
    "coltmp = plt.cm.jet(np.linspace(0,1,N))[:,0:3]\n",
    "\n",
    "pointslist = [points[keep][val] for val in labels.values()]\n",
    "colours = [list(i) for i in coltmp]\n",
    "loads.showPCDS(pointslist, colours)"
   ]
  }
 ],
 "metadata": {
  "language_info": {
   "name": "python"
  },
  "orig_nbformat": 4
 },
 "nbformat": 4,
 "nbformat_minor": 2
}
