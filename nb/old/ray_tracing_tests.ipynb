{
 "cells": [
  {
   "cell_type": "code",
   "execution_count": null,
   "metadata": {},
   "outputs": [],
   "source": [
    "import numpy as np\n",
    "import os, sys\n",
    "import matplotlib.pyplot as plt\n",
    "\n",
    "import pyrr\n",
    "import itertools\n",
    "\n",
    "# basedir = os.path.dirname(os.getcwd())\n",
    "basedir = os.path.abspath(os.path.join(os.getcwd() ,\"../\"))\n",
    "_py = os.path.join(basedir, 'py')\n",
    "_data = os.path.join(basedir, 'data')\n",
    "\n",
    "sys.path.insert(1, _py)\n",
    "import loads\n",
    "import lia\n",
    "import ray as rayt\n",
    "import lad\n",
    "import figures\n",
    "\n",
    "import warnings\n",
    "warnings.filterwarnings(\"ignore\")\n",
    "\n",
    "%load_ext autoreload\n",
    "%autoreload 2\n",
    "\n",
    "%matplotlib qt"
   ]
  },
  {
   "cell_type": "code",
   "execution_count": null,
   "metadata": {},
   "outputs": [],
   "source": [
    "mockname = 'test_kiwi_2'"
   ]
  },
  {
   "cell_type": "code",
   "execution_count": null,
   "metadata": {},
   "outputs": [],
   "source": [
    "def segtree(df, leaves, show=False):\n",
    "\n",
    "    trees = {}\n",
    "\n",
    "    if show:\n",
    "        plt.figure(figsize=(14, 8))\n",
    "\n",
    "    # centres\n",
    "    x, y = [0], [0]\n",
    "    num = 0\n",
    "    dx, dy = 2, 2\n",
    "    # dx, dy = 5, 5\n",
    "\n",
    "    for i in x:\n",
    "        for j in y:\n",
    "            \n",
    "            keep = np.ones(len(df['x']), dtype=bool)\n",
    "            keep &= (df['x'] < i+dx) & (df['x'] > i-dx)\n",
    "            keep &= (df['y'] < j+dy) & (df['y'] > j-dy)\n",
    "\n",
    "            trees['tree_%s' %(str(num))] = keep\n",
    "            \n",
    "            if show:\n",
    "                plt.scatter(df['x'][leaves & keep], df['y'][leaves & keep], s=0.5, label=num)\n",
    "                        \n",
    "            num += 1\n",
    "\n",
    "    if show:\n",
    "        plt.legend()\n",
    "    \n",
    "    return trees"
   ]
  },
  {
   "cell_type": "code",
   "execution_count": null,
   "metadata": {},
   "outputs": [],
   "source": [
    "# load data into a pandas data frame\n",
    "df = loads.npy2pandas(mockname)\n",
    "N = len(df)"
   ]
  },
  {
   "cell_type": "code",
   "execution_count": null,
   "metadata": {},
   "outputs": [],
   "source": [
    "\n",
    "def voxel_subsampling(voxel_size, POINTS):\n",
    "\n",
    "    nb_vox = np.ceil((np.max(POINTS, axis=0) - np.min(POINTS, axis=0))/voxel_size)\n",
    "    ni, nj, nk = nb_vox\n",
    "    print('Number of voxels: i:%d, j:%d, k:%d --> Total: %d' %(ni, nj, nk, np.product(nb_vox)))\n",
    "\n",
    "    non_empty_voxel_keys, inverse, nb_pts_per_voxel = np.unique(((POINTS - np.min(POINTS, axis=0)) // voxel_size).astype(int), axis=0, return_inverse=True, return_counts=True)\n",
    "    idx_pts_vox_sorted = np.argsort(inverse)\n",
    "    print('Number of non-empty voxels: %d' %(len(non_empty_voxel_keys)))\n",
    "\n",
    "    voxel_grid={}\n",
    "    voxel_grid_ptsidx = {}\n",
    "    grid_barycenter,grid_candidate_center = [], []\n",
    "    last_seen=0\n",
    "\n",
    "    for idx, vox in enumerate(non_empty_voxel_keys):\n",
    "\n",
    "        idxs_per_vox = idx_pts_vox_sorted[last_seen:last_seen+nb_pts_per_voxel[idx]]\n",
    "        voxel_grid[tuple(vox)] = POINTS[idxs_per_vox]\n",
    "        voxel_grid_ptsidx[tuple(vox)] = idxs_per_vox\n",
    "\n",
    "        # grid_barycenter.append(np.mean(voxel_grid[tuple(vox)],axis=0))\n",
    "\n",
    "        idx_grid_candidate_center = np.linalg.norm(voxel_grid[tuple(vox)] - np.mean(voxel_grid[tuple(vox)],axis=0),axis=1).argmin()\n",
    "        grid_candidate_center.append(voxel_grid_ptsidx[tuple(vox)][idx_grid_candidate_center])\n",
    "\n",
    "        last_seen+=nb_pts_per_voxel[idx]\n",
    "\n",
    "    print('Downsampling percentage: %.1f %%' %(100 * len(grid_candidate_center) / len(POINTS)))\n",
    "\n",
    "    return list(grid_candidate_center)"
   ]
  },
  {
   "cell_type": "code",
   "execution_count": null,
   "metadata": {},
   "outputs": [],
   "source": [
    "inds = voxel_subsampling(0.08, df[['x', 'y', 'z']].to_numpy())\n",
    "\n",
    "df = df.iloc[inds]\n",
    "POINTS = df[['x', 'y', 'z']].to_numpy()\n",
    "SENSORS = df[['sx', 'sy', 'sz']].to_numpy()"
   ]
  },
  {
   "cell_type": "code",
   "execution_count": null,
   "metadata": {},
   "outputs": [],
   "source": [
    "# extract leaves. Boolean array output\n",
    "leaves = loads.extract_leaves(df, show=True)\n",
    "# extract trees. Dictionary with boolean arrays output\n",
    "trees = segtree(df, leaves, show=True)"
   ]
  },
  {
   "cell_type": "code",
   "execution_count": null,
   "metadata": {},
   "outputs": [],
   "source": [
    "inPR = (leaves) & (trees['tree_0'])\n",
    "minBB, maxBB = np.min(POINTS[inPR.values], axis=0), np.max(POINTS[inPR.values], axis=0)\n",
    "boxPR = pyrr.aabb.create_from_bounds(minBB, maxBB)\n",
    "\n",
    "lines = np.stack((POINTS, SENSORS), axis=1)\n",
    "f = lambda line: pyrr.geometric_tests.ray_i"
   ]
  },
  {
   "cell_type": "code",
   "execution_count": null,
   "metadata": {},
   "outputs": [],
   "source": [
    "POINTS, SENSORS = POINTS[res], SENSORS[res]\n",
    "\n",
    "leaves = leaves[res]\n",
    "\n",
    "for key, val in trees.items():\n",
    "    trees[key] = val[res]"
   ]
  },
  {
   "cell_type": "code",
   "execution_count": null,
   "metadata": {},
   "outputs": [],
   "source": [
    "# save indexes of voxel-based downsample\n",
    "\n",
    "idxs = np.array(inds)[res]\n",
    "voxel_size = 0.08\n",
    "\n",
    "resdir = os.path.join(_data, mockname, 'lad_%s' %(str(voxel_size)))\n",
    "outdir = os.path.join(resdir, 'inds.npy')\n",
    "np.save(outdir, idxs)"
   ]
  },
  {
   "cell_type": "code",
   "execution_count": null,
   "metadata": {},
   "outputs": [],
   "source": [
    "# get numpy array of AABBs for each voxel\n",
    "\n",
    "voxel_size = 0.08\n",
    "keep = (trees['tree_0']) & (leaves)\n",
    "\n",
    "nb_vox = np.ceil((np.max(POINTS[keep.values], axis=0) - np.min(POINTS[keep.values], axis=0))/voxel_size)\n",
    "ni, nj, nk = nb_vox\n",
    "print('Number of voxels: i:%d, j:%d, k:%d --> Total: %d' %(ni, nj, nk, np.product(nb_vox)))\n",
    "\n",
    "minBB = np.min(POINTS[keep.values], axis=0) + (np.array(np.meshgrid(range(0,int(ni)), range(0, int(nj)), range(0, int(nk)))).T.reshape(-1,3) * voxel_size)\n",
    "maxBB = minBB + voxel_size\n",
    "\n",
    "AABBs = np.stack((minBB, maxBB), axis=1)\n",
    "rays = np.stack((POINTS, SENSORS), axis=1)"
   ]
  },
  {
   "cell_type": "code",
   "execution_count": null,
   "metadata": {},
   "outputs": [],
   "source": [
    "f = lambda comb: pyrr.geometric_tests.ray_intersect_aabb(pyrr.ray.create_from_line(comb[0]), comb[1]) is not None\n",
    "seq = list(itertools.product(rays[:20], AABBs))\n",
    "boxes = map(f, seq)"
   ]
  },
  {
   "cell_type": "code",
   "execution_count": null,
   "metadata": {},
   "outputs": [],
   "source": [
    "# get AABBs centres\n",
    "\n",
    "AABB_centres = np.mean(AABBs, axis=1)\n",
    "\n",
    "# get points within cylinder centred at ray path\n",
    "\n",
    "def points_in_cylinder(ray, r, q):\n",
    "\n",
    "    ra, rb = ray\n",
    "    e = rb - ra\n",
    "    m = np.cross(ra, rb)\n",
    "    const = r * np.linalg.norm(e)\n",
    "\n",
    "    f = lambda qi: (np.dot(qi - ra, e) >= 0) & (np.dot(qi - rb, e) <= 0) & (np.linalg.norm(np.cross(e, qi - ra)) <= const)\n",
    "\n",
    "    return np.where([f(i) for i in q])\n",
    "\n",
    "res = {}\n",
    "for num, ray in enumerate(rays[:50]):\n",
    "    res[num] = points_in_cylinder(ray, 0.1, AABB_centres)"
   ]
  },
  {
   "cell_type": "code",
   "execution_count": null,
   "metadata": {},
   "outputs": [],
   "source": [
    "res = {}\n",
    "\n",
    "for num, ray in enumerate(rays[:50]):\n",
    "    # res[num] = [AABB for AABB in AABBs[points_in_cylinder(ray, 0.08, AABB_centres)[0]] if pyrr.geometric_tests.ray_intersect_aabb(pyrr.ray.create_from_line(ray), AABB) is not None]\n",
    "    idxs = [AABB for AABB in AABBs[points_in_cylinder(ray, 0.08, AABB_centres)[0]] if pyrr.geometric_tests.ray_intersect_aabb(pyrr.ray.create_from_line(ray), AABB) is not None]\n",
    "    print(ray, idxs)"
   ]
  },
  {
   "cell_type": "code",
   "execution_count": null,
   "metadata": {},
   "outputs": [],
   "source": [
    "\n",
    "def retrieve_AABB(rays, AABBs):\n",
    "\n",
    "    for ray, AABB in list(itertools.product(rays[:2], AABBs)):\n",
    "\n",
    "        if pyrr.geometric_tests.ray_intersect_aabb(pyrr.ray.create_from_line(ray), AABB) is not None:\n",
    "            \n",
    "            yield AABB, ray\n",
    "\n",
    "# boxes = map(retrieve_AABB, AABBs)\n",
    "boxes = retrieve_AABB(rays, AABBs)\n",
    "# for AABB in AABBs:\n",
    "\n",
    "# boxes = [next(retrieve_AABB(AABB)) for AABB in AABBs]"
   ]
  },
  {
   "cell_type": "code",
   "execution_count": null,
   "metadata": {},
   "outputs": [],
   "source": [
    "res = []\n",
    "while True:\n",
    "    try:\n",
    "        res.append(next(boxes))\n",
    "    except StopIteration:\n",
    "        break"
   ]
  }
 ],
 "metadata": {
  "language_info": {
   "name": "python"
  },
  "orig_nbformat": 4
 },
 "nbformat": 4,
 "nbformat_minor": 2
}
