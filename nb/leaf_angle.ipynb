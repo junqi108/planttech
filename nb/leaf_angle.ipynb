{
 "cells": [
  {
   "cell_type": "code",
   "execution_count": 6,
   "metadata": {},
   "outputs": [
    {
     "name": "stdout",
     "output_type": "stream",
     "text": [
      "The autoreload extension is already loaded. To reload it, use:\n",
      "  %reload_ext autoreload\n"
     ]
    }
   ],
   "source": [
    "import numpy as np\n",
    "import os, sys, glob\n",
    "import matplotlib.pyplot as plt\n",
    "import open3d as o3d\n",
    "from scipy.stats import chisquare\n",
    "import pandas as pd\n",
    "\n",
    "basedir = os.path.dirname(os.getcwd())\n",
    "_py = os.path.join(basedir, 'py')\n",
    "_data = os.path.join(basedir, 'data')\n",
    "_images = os.path.join(basedir, 'images')\n",
    "\n",
    "sys.path.insert(1, _py)\n",
    "import lad\n",
    "import figures\n",
    "\n",
    "from dotenv import load_dotenv\n",
    "load_dotenv()\n",
    "\n",
    "%load_ext autoreload\n",
    "%autoreload 2\n",
    "\n",
    "%matplotlib qt"
   ]
  },
  {
   "cell_type": "markdown",
   "metadata": {},
   "source": [
    "## Inputs\n"
   ]
  },
  {
   "cell_type": "code",
   "execution_count": 2,
   "metadata": {},
   "outputs": [
    {
     "name": "stdout",
     "output_type": "stream",
     "text": [
      "voxel_size_w 0.01 DONE...\n",
      "voxel_size_w 0.05 DONE...\n",
      "voxel_size_w 0.1 DONE...\n",
      "voxel_size_w 0.5 DONE...\n",
      "voxel_size_w 1 DONE...\n",
      "voxel_size_w BESTFIT:\t 0.5\n",
      "kd3_sr 0.1 DONE...\n",
      "kd3_sr 0.5 DONE...\n",
      "kd3_sr 1.0 DONE...\n",
      "kd3_sr 1.5 DONE...\n",
      "kd3_sr BESTFIT:\t 0.5\n",
      "max_nn 3 DONE...\n"
     ]
    },
    {
     "name": "stderr",
     "output_type": "stream",
     "text": [
      "/home/omar/myproj/planttech/py/figures.py:32: RuntimeWarning: More than 20 figures have been opened. Figures created through the pyplot interface (`matplotlib.pyplot.figure`) are retained until explicitly closed and may consume too much memory. (To control this warning, see the rcParam `figure.max_open_warning`).\n",
      "  fig = plt.figure(figsize=(8,5))\n"
     ]
    },
    {
     "name": "stdout",
     "output_type": "stream",
     "text": [
      "max_nn 5 DONE...\n",
      "max_nn 8 DONE...\n",
      "max_nn 10 DONE...\n",
      "max_nn 15 DONE...\n",
      "max_nn BESTFIT:\t 3\n"
     ]
    }
   ],
   "source": [
    "\n",
    "mockname = 'single_57_inv'\n",
    "res = lad.bestfit_pars_la(mockname, norm_avg=False, downsample=False, weigths=True)"
   ]
  },
  {
   "cell_type": "code",
   "execution_count": 3,
   "metadata": {},
   "outputs": [],
   "source": [
    "lad.best_fit_pars_plot(res, mockname, savefig=None, norm_avg=False, downsample=False, weigths=True)"
   ]
  },
  {
   "cell_type": "code",
   "execution_count": 7,
   "metadata": {},
   "outputs": [
    {
     "name": "stdout",
     "output_type": "stream",
     "text": [
      "leaf area=0.04 \n",
      " voxel_size_w=0.1000 \n",
      " kd3_sr=1.0000 \n",
      " max_nn=5.0000 \n",
      "['tree_0', 0.005816156033411453, 1.0]\n"
     ]
    }
   ],
   "source": [
    "# load bestfit results\n",
    "mockname = 'single_57'\n",
    "resdir_name = '%s_%s' %('results', mockname)\n",
    "bestfit_file = os.path.join(_data, mockname, resdir_name, 'bestfit.npy')\n",
    "res = np.load(bestfit_file, allow_pickle=True)\n",
    "res = res.tolist()\n",
    "\n",
    "text = 'leaf area=%.2f \\n %s=%.4f \\n %s=%.4f \\n %s=%.4f ' %(res['leafsize'], 'voxel_size_w', res['voxel_size_w_bestfit'],'kd3_sr', res['kd3_sr_bestfit'],'max_nn', res['max_nn_bestfit'])\n",
    "print(text)\n",
    "\n",
    "downsample_debug = 1\n",
    "weigths = True\n",
    "savefig = '%i_%s' %(downsample_debug, 'weighted' if weigths else 'unweighted')\n",
    "\n",
    "chis2 = lad.test_leaf_angle(mockname,  0, res['voxel_size_w_bestfit'], \n",
    "res['kd3_sr_bestfit'], res['max_nn_bestfit'], debug=True, text=text, \n",
    "norm_avg=False, downsample=False, weigths=weigths, savefig=savefig, downsample_debug=downsample_debug)\n",
    "\n",
    "print(chis2)"
   ]
  },
  {
   "cell_type": "code",
   "execution_count": 21,
   "metadata": {},
   "outputs": [
    {
     "data": {
      "text/plain": [
       "(-10.0, 10.0)"
      ]
     },
     "execution_count": 21,
     "metadata": {},
     "output_type": "execute_result"
    },
    {
     "data": {
      "image/png": "[encoded data removed]",
      "text/plain": [
       "<Figure size 720x360 with 1 Axes>"
      ]
     },
     "metadata": {
      "needs_background": "dark"
     },
     "output_type": "display_data"
    }
   ],
   "source": [
    "\n",
    "G_alpha_theta = np.load('/home/omar/myproj/planttech/data/single/toy_trees/G_alpha_theta_tree_0_10_weighted.npy')\n",
    "fig = plt.figure(figsize=(10,5))\n",
    "\n",
    "plt.plot(G_alpha_theta[0], G_alpha_theta[1], label=r'$G(\\theta)$')\n",
    "plt.plot(G_alpha_theta[0], G_alpha_theta[2], label=r'$\\alpha(\\theta)$')\n",
    "x = np.linspace(0,180,90)\n",
    "plt.plot(x, np.cos(np.radians(x)), ls='--', label='cos')\n",
    "plt.xlabel(r'$\\theta$')\n",
    "plt.ylabel(r'$f(\\theta)$')\n",
    "plt.legend(loc='lower left')\n",
    "plt.ylim(-10,10)\n",
    "# print(np.cos(np.radians(G_alpha_theta[0])), G_alpha_theta[1])"
   ]
  },
  {
   "cell_type": "code",
   "execution_count": null,
   "metadata": {},
   "outputs": [],
   "source": []
  }
 ],
 "metadata": {
  "interpreter": {
   "hash": "dd457b199a21959d634e86d9176c16bf27a6eca517b0c63f422a118410a38d27"
  },
  "kernelspec": {
   "display_name": "Python 3.8.11 64-bit ('plant-env': conda)",
   "name": "plant-env"
  },
  "language_info": {
   "codemirror_mode": {
    "name": "ipython",
    "version": 3
   },
   "file_extension": ".py",
   "mimetype": "text/x-python",
   "name": "python",
   "nbconvert_exporter": "python",
   "pygments_lexer": "ipython3",
   "version": "3.8.11"
  },
  "orig_nbformat": 4
 },
 "nbformat": 4,
 "nbformat_minor": 2
}