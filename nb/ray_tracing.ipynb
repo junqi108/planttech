{
 "cells": [
  {
   "cell_type": "code",
   "execution_count": 190,
   "metadata": {},
   "outputs": [
    {
     "name": "stdout",
     "output_type": "stream",
     "text": [
      "The autoreload extension is already loaded. To reload it, use:\n",
      "  %reload_ext autoreload\n"
     ]
    }
   ],
   "source": [
    "import numpy as np\n",
    "import os, sys, glob\n",
    "import matplotlib.pyplot as plt\n",
    "import open3d as o3d\n",
    "from scipy.stats import chisquare\n",
    "import pandas as pd\n",
    "\n",
    "basedir = os.path.dirname(os.getcwd())\n",
    "_py = os.path.join(basedir, 'py')\n",
    "_data = os.path.join(basedir, 'data')\n",
    "_images = os.path.join(basedir, 'images')\n",
    "\n",
    "sys.path.insert(1, _py)\n",
    "import lad\n",
    "import figures\n",
    "\n",
    "from dotenv import load_dotenv\n",
    "load_dotenv()\n",
    "\n",
    "%load_ext autoreload\n",
    "%autoreload 2\n",
    "\n",
    "import pyrr \n",
    "from mpl_toolkits.mplot3d import Axes3D\n",
    "from mpl_toolkits.mplot3d.art3d import Poly3DCollection\n",
    "import itertools\n",
    "%matplotlib qt"
   ]
  },
  {
   "cell_type": "code",
   "execution_count": 251,
   "metadata": {},
   "outputs": [],
   "source": [
    "def cuboid_data2(o, size=(1,1,1)):\n",
    "    X = [[[0, 1, 0], [0, 0, 0], [1, 0, 0], [1, 1, 0]],\n",
    "         [[0, 0, 0], [0, 0, 1], [1, 0, 1], [1, 0, 0]],\n",
    "         [[1, 0, 1], [1, 0, 0], [1, 1, 0], [1, 1, 1]],\n",
    "         [[0, 0, 1], [0, 0, 0], [0, 1, 0], [0, 1, 1]],\n",
    "         [[0, 1, 0], [0, 1, 1], [1, 1, 1], [1, 1, 0]],\n",
    "         [[0, 1, 1], [0, 0, 1], [1, 0, 1], [1, 1, 1]]]\n",
    "    X = np.array(X).astype(float)\n",
    "    for i in range(3):\n",
    "        X[:,:,i] *= size[i]\n",
    "    X += np.array(o)\n",
    "    return X\n",
    "\n",
    "def plotCubeAt2(positions,sizes=None,colors=None, **kwargs):\n",
    "    if not isinstance(colors,(list,np.ndarray)): \n",
    "        colors=[\"C0\"]*len(positions)\n",
    "    if not isinstance(sizes,(list,np.ndarray)): sizes=[(1,1,1)]*len(positions)\n",
    "    g = []\n",
    "    # colors = np.empty(axes + [4], dtype=np.float32)\n",
    "    alpha = 0.2\n",
    "    # colors[:] = [1, 0, 0, alpha]  # red\n",
    "    for p,s,c in zip(positions,sizes,colors):\n",
    "        g.append( cuboid_data2(p, size=s) )\n",
    "    return Poly3DCollection(np.concatenate(g),  \n",
    "                            facecolors=(colors), edgecolor=\"k\")\n",
    "\n",
    "def split_BB(box, voxel_size):\n",
    "\n",
    "    minBB, maxBB = box\n",
    "    minBB = np.array(minBB)\n",
    "    maxBB = np.array(maxBB)\n",
    "\n",
    "    pr_invoxels = (maxBB - minBB)/voxel_size\n",
    "    pr_invoxels = np.round(pr_invoxels, 4)\n",
    "    mid_distances = np.floor_divide(pr_invoxels,2)\n",
    "    mark = mid_distances.sum()\n",
    "\n",
    "    # check that dimensions of plant region are  multiples of the voxel size\n",
    "    if np.all(np.mod(pr_invoxels, 1) != 0):\n",
    "        raise ValueError('Voxel size %.3f is not a multiple of the plant region dimensions' %(voxel_size))\n",
    "\n",
    "\n",
    "    if mark == 0:\n",
    "        return [box]#, mid_distances.sum()\n",
    "\n",
    "    else:\n",
    "\n",
    "        # Split each side of plant region by 2 but get integers only\n",
    "        # mid_distances = np.floor_divide(pr_invoxels,2)\n",
    "        xi, yi, zi = np.transpose([[0,0,0], mid_distances.tolist()])\n",
    "        xf, yf, zf = np.transpose([mid_distances.tolist(), pr_invoxels.tolist()])\n",
    "\n",
    "        minBB_ = list(itertools.product(xi, yi, zi))\n",
    "        maxBB_ = list(itertools.product(xf, yf, zf))\n",
    "\n",
    "        boxes = []\n",
    "        for i in range(len(minBB_)):\n",
    "\n",
    "            A = np.array(minBB) + np.array(minBB_[i]) * voxel_size\n",
    "            B = np.array(minBB) + np.array(maxBB_[i]) * voxel_size\n",
    "            boxes.append(pyrr.aabb.create_from_bounds(A, B).tolist())\n",
    "\n",
    "        return boxes#, mark\n",
    "        "
   ]
  },
  {
   "cell_type": "code",
   "execution_count": 269,
   "metadata": {},
   "outputs": [
    {
     "name": "stdout",
     "output_type": "stream",
     "text": [
      "30000\n"
     ]
    }
   ],
   "source": [
    "voxel_size = 0.1\n",
    "sample = 300\n",
    "show = False\n",
    "\n",
    "mockname = 'single_57'\n",
    "mockdir = os.path.join(_data, mockname)\n",
    "spos = os.path.join(mockdir, 'scanner_pos.txt')\n",
    "rawdata_files = glob.glob(os.path.join(mockdir, 's1*.npy'))\n",
    "\n",
    "scan = lad.laod_scan_pos(spos)\n",
    "id = [i.decode(\"utf-8\") for i in scan['scan']]\n",
    "\n",
    "# get bounding box of plant region\n",
    "segtrees_dir = os.path.join(mockdir, 'toy_trees')\n",
    "segtrees_files = glob.glob(os.path.join(segtrees_dir, 'tree_*.npy'))\n",
    "tree = np.load(segtrees_files[0])\n",
    "pointsPR = tree.T[5:8].T\n",
    "pcd = lad.points2pcd(pointsPR)\n",
    "voxPR = o3d.geometry.VoxelGrid.create_from_point_cloud(pcd, voxel_size=voxel_size)\n",
    "maxBB = voxPR.get_max_bound()\n",
    "minBB = voxPR.get_min_bound()\n",
    "width, height, depth = maxBB - minBB\n",
    "\n",
    "# plot bounding box\n",
    "if show:\n",
    "\n",
    "    fig = plt.figure()\n",
    "    ax = fig.add_subplot(111, projection='3d')\n",
    "\n",
    "    positions = [(minBB[0], minBB[1], minBB[2])]\n",
    "    sizes = [(width, height, depth)]\n",
    "    pc = plotCubeAt2(positions,sizes,colors=[1,0,0,0.2], edgecolor=\"k\")\n",
    "    ax.add_collection3d(pc)\n",
    "\n",
    "    ax.set_xlim([-18,18])\n",
    "    ax.set_ylim([-18,18])\n",
    "    ax.set_zlim([0,20])\n",
    "\n",
    "# create BB for ray interceptio\n",
    "boxPR = pyrr.aabb.create_from_bounds(minBB, maxBB)\n",
    "\n",
    "for file in rawdata_files:\n",
    "\n",
    "    filename = file.split('/')[-1]\n",
    "\n",
    "    df = np.load(file)\n",
    "    print(len(df))\n",
    "\n",
    "    if sample is not None:\n",
    "        keep = np.random.randint(0, len(df), sample)\n",
    "        df = df[keep]\n",
    "\n",
    "    points = df.T[5:8].T\n",
    "    keep = np.array(id) == filename[:2]\n",
    "    _, sx, sy, sz = scan[keep][0]\n",
    "    # sensor coordinates\n",
    "    p2 = [sx, sy, sz]\n",
    "\n",
    "    if show:\n",
    "        ax.scatter3D(sx, sy, sz, c='r', s=20, marker='*')\n",
    "\n",
    "    for p1 in points:\n",
    "\n",
    "        line = pyrr.line.create_from_points(p1, p2, dtype=None)\n",
    "        ray = pyrr.ray.create_from_line(line)\n",
    "\n",
    "        res = pyrr.geometric_tests.ray_intersect_aabb(ray, boxPR)\n",
    "        if show:\n",
    "            ax.scatter3D(*res, c='k', s=10)\n",
    "\n",
    "        if res is not None:\n",
    "\n",
    "            boxes_reached = split_BB(boxPR, voxel_size)\n",
    "\n",
    "            marks = 99\n",
    "            count = 0\n",
    "            # for i in range(6):\n",
    "            while marks > 0:\n",
    "                # boxes = []\n",
    "                # for box in boxes_reached:\n",
    "                boxes = [box for box in boxes_reached if pyrr.geometric_tests.ray_intersect_aabb(ray, box) is not None]\n",
    "                    # res = pyrr.geometric_tests.ray_intersect_aabb(ray, box)\n",
    "                    # if res is not None:\n",
    "                    #     boxes.append(box)\n",
    "                boxes_reached = []\n",
    "                marks = 0\n",
    "\n",
    "\n",
    "                boxes_ = [split_BB(box, voxel_size) for box in boxes]\n",
    "                marks = [len(i) - 1 for i in boxes_]\n",
    "                marks = np.array(marks).sum()\n",
    "                boxes_reached =  [j for i in boxes_ for j in i]\n",
    "\n",
    "                # for box in boxes:\n",
    "                #     # print(box)\n",
    "                #     boxes_ = split_BB(box, voxel_size)\n",
    "                #     marks += len(boxes_) - 1\n",
    "                #     # marks += mark\n",
    "                #     for j in boxes_:\n",
    "                #         boxes_reached.append(j)\n",
    "                \n",
    "                # print('marks: ', marks)\n",
    "\n",
    "                count += 1\n",
    "\n",
    "        # print('counter: ', count)\n",
    "        if show:\n",
    "\n",
    "            for box in boxes:\n",
    "\n",
    "                minBB, maxBB = box\n",
    "                minBB = np.array(minBB)\n",
    "                maxBB = np.array(maxBB)\n",
    "                width, height, depth = maxBB - minBB\n",
    "                # plot bounding box\n",
    "                positions = [(minBB[0], minBB[1], minBB[2])]\n",
    "                sizes = [(width, height, depth)]\n",
    "                pc = plotCubeAt2(positions,sizes,colors=[0,1,0,0.4], edgecolor=\"k\")\n",
    "                ax.add_collection3d(pc)\n",
    "\n",
    "            ax.plot(*line.T.tolist())\n",
    "            ax.scatter3D(*p1, c='g', s=10)\n",
    "\n",
    "        # print(len(boxes))\n"
   ]
  },
  {
   "cell_type": "code",
   "execution_count": 264,
   "metadata": {},
   "outputs": [
    {
     "data": {
      "text/plain": [
       "56"
      ]
     },
     "execution_count": 264,
     "metadata": {},
     "output_type": "execute_result"
    }
   ],
   "source": [
    "res = []\n",
    "for i in boxes2_:\n",
    "    for j in i:\n",
    "        res.append(j)\n",
    "len(res)"
   ]
  },
  {
   "cell_type": "code",
   "execution_count": 265,
   "metadata": {},
   "outputs": [
    {
     "data": {
      "text/plain": [
       "56"
      ]
     },
     "execution_count": 265,
     "metadata": {},
     "output_type": "execute_result"
    }
   ],
   "source": [
    "res = [j for i in boxes2_ for j in i]\n",
    "len(res)"
   ]
  },
  {
   "cell_type": "code",
   "execution_count": 196,
   "metadata": {},
   "outputs": [
    {
     "name": "stdout",
     "output_type": "stream",
     "text": [
      "<class 'numpy.ndarray'>\n"
     ]
    },
    {
     "data": {
      "text/plain": [
       "[[[-5.1364030838012695, -4.907557010650635, 3.698051691055298],\n",
       "  [-0.13640308380126953, 0.09244298934936523, 6.698051691055298]],\n",
       " [[-5.1364030838012695, -4.907557010650635, 6.698051691055298],\n",
       "  [-0.13640308380126953, 0.09244298934936523, 10.198051691055298]],\n",
       " [[-5.1364030838012695, 0.09244298934936523, 3.698051691055298],\n",
       "  [-0.13640308380126953, 5.092442989349365, 6.698051691055298]],\n",
       " [[-5.1364030838012695, 0.09244298934936523, 6.698051691055298],\n",
       "  [-0.13640308380126953, 5.092442989349365, 10.198051691055298]],\n",
       " [[-0.13640308380126953, -4.907557010650635, 3.698051691055298],\n",
       "  [4.8635969161987305, 0.09244298934936523, 6.698051691055298]],\n",
       " [[-0.13640308380126953, -4.907557010650635, 6.698051691055298],\n",
       "  [4.8635969161987305, 0.09244298934936523, 10.198051691055298]],\n",
       " [[-0.13640308380126953, 0.09244298934936523, 3.698051691055298],\n",
       "  [4.8635969161987305, 5.092442989349365, 6.698051691055298]],\n",
       " [[-0.13640308380126953, 0.09244298934936523, 6.698051691055298],\n",
       "  [4.8635969161987305, 5.092442989349365, 10.198051691055298]]]"
      ]
     },
     "execution_count": 196,
     "metadata": {},
     "output_type": "execute_result"
    }
   ],
   "source": [
    "voxel_size=0.5\n",
    "\n",
    "# get bounding box of plant region\n",
    "segtrees_dir = os.path.join(mockdir, 'toy_trees')\n",
    "segtrees_files = glob.glob(os.path.join(segtrees_dir, 'tree_*.npy'))\n",
    "tree = np.load(segtrees_files[0])\n",
    "pointsPR = tree.T[5:8].T\n",
    "pcd = lad.points2pcd(pointsPR)\n",
    "voxPR = o3d.geometry.VoxelGrid.create_from_point_cloud(pcd, voxel_size=voxel_size)\n",
    "maxBB = voxPR.get_max_bound()\n",
    "minBB = voxPR.get_min_bound()\n",
    "width, height, depth = maxBB - minBB\n",
    "\n",
    "\n",
    "print(type(minBB))\n",
    "box = [minBB, maxBB]\n",
    "voxel_size = 0.5\n",
    "boxes = split_BB(box, voxel_size)\n",
    "boxes\n"
   ]
  },
  {
   "cell_type": "code",
   "execution_count": 93,
   "metadata": {},
   "outputs": [
    {
     "name": "stderr",
     "output_type": "stream",
     "text": [
      "<ipython-input-93-c91f7bf873af>:33: MatplotlibDeprecationWarning: Calling gca() with keyword arguments was deprecated in Matplotlib 3.4. Starting two minor releases later, gca() will take no keyword arguments. The gca() function should only be used to get the current axes, or if no axes exist, create new axes with default keyword arguments. To create a new axes with non-default arguments, use plt.axes() or plt.subplot().\n",
      "  ax = fig.gca(projection='3d')\n"
     ]
    }
   ],
   "source": [
    "\n",
    "    \n",
    "\n",
    "positions = [(-3,5,-2),(1,7,1)]\n",
    "sizes = [(4,5,3), (3,3,7)]\n",
    "colors = [\"crimson\",\"limegreen\"]\n",
    "\n",
    "fig = plt.figure()\n",
    "ax = fig.gca(projection='3d')\n",
    "ax.set_aspect('auto')\n",
    "\n",
    "pc = plotCubeAt2(positions,sizes,colors=None, edgecolor=\"k\")\n",
    "ax.add_collection3d(pc)    \n",
    "\n",
    "ax.set_xlim([-4,6])\n",
    "ax.set_ylim([4,13])\n",
    "ax.set_zlim([-3,9])\n",
    "\n",
    "plt.show()"
   ]
  },
  {
   "cell_type": "code",
   "execution_count": null,
   "metadata": {},
   "outputs": [],
   "source": []
  }
 ],
 "metadata": {
  "interpreter": {
   "hash": "e7370f93d1d0cde622a1f8e1c04877d8463912d04d973331ad4851f04de6915a"
  },
  "kernelspec": {
   "display_name": "Python 3.9.7 64-bit",
   "name": "python3"
  },
  "language_info": {
   "codemirror_mode": {
    "name": "ipython",
    "version": 3
   },
   "file_extension": ".py",
   "mimetype": "text/x-python",
   "name": "python",
   "nbconvert_exporter": "python",
   "pygments_lexer": "ipython3",
   "version": "3.8.11"
  },
  "orig_nbformat": 4
 },
 "nbformat": 4,
 "nbformat_minor": 2
}