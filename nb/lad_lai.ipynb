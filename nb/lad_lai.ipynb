{
 "cells": [
  {
   "cell_type": "code",
   "execution_count": 1,
   "metadata": {},
   "outputs": [
    {
     "name": "stdout",
     "output_type": "stream",
     "text": [
      "Jupyter environment detected. Enabling Open3D WebVisualizer.\n",
      "[Open3D INFO] WebRTC GUI backend enabled.\n",
      "[Open3D INFO] WebRTCWindowSystem: HTTP handshake server disabled.\n"
     ]
    },
    {
     "name": "stderr",
     "output_type": "stream",
     "text": [
      "INFO - 2021-09-24 09:48:12,367 - utils - NumExpr defaulting to 4 threads.\n"
     ]
    }
   ],
   "source": [
    "import numpy as np\n",
    "import os, sys, glob\n",
    "import matplotlib.pyplot as plt\n",
    "import open3d as o3d\n",
    "from scipy.stats import chisquare\n",
    "import pandas as pd\n",
    "\n",
    "basedir = os.path.dirname(os.getcwd())\n",
    "_py = os.path.join(basedir, 'py')\n",
    "_data = os.path.join(basedir, 'data')\n",
    "_images = os.path.join(basedir, 'images')\n",
    "\n",
    "sys.path.insert(1, _py)\n",
    "import lad\n",
    "import figures\n",
    "\n",
    "from dotenv import load_dotenv\n",
    "load_dotenv()\n",
    "\n",
    "%load_ext autoreload\n",
    "%autoreload 2\n",
    "\n",
    "%matplotlib qt"
   ]
  },
  {
   "cell_type": "markdown",
   "metadata": {},
   "source": [
    "## Ray tracing\n",
    "\n",
    "Requisites:\n",
    "* Raw files (blensor ouputs) shoul be placed in the root of the directory\n",
    "* Raw files should be named `s1*.npy`, `s2*.npy`, etc\n",
    "* Create a file with sensor positions in the root with name `scanner_pos.txt`. It should contain 4 columns:\n",
    "    * sensor name i.e. `s1`, `s2`, etc\n",
    "    * x coordinate\n",
    "    * y coordinate\n",
    "    * z coordinate"
   ]
  },
  {
   "cell_type": "code",
   "execution_count": 8,
   "metadata": {},
   "outputs": [
    {
     "name": "stdout",
     "output_type": "stream",
     "text": [
      "/home/omar/myproj/planttech/data/single_57_inv/s100000.npy\n",
      "s100000.npy \t beam traces points in tree tree_0: \t 30000 --> 141117\n",
      "/home/omar/myproj/planttech/data/single_57_inv/s300000.npy\n",
      "s300000.npy \t beam traces points in tree tree_0: \t 30000 --> 75473\n",
      "/home/omar/myproj/planttech/data/single_57_inv/s200000.npy\n",
      "s200000.npy \t beam traces points in tree tree_0: \t 30000 --> 96080\n",
      "/home/omar/myproj/planttech/data/single_57_inv/s600000.npy\n",
      "s600000.npy \t beam traces points in tree tree_0: \t 30000 --> 74512\n",
      "/home/omar/myproj/planttech/data/single_57_inv/s800000.npy\n",
      "s800000.npy \t beam traces points in tree tree_0: \t 30000 --> 134248\n",
      "/home/omar/myproj/planttech/data/single_57_inv/s500000.npy\n",
      "s500000.npy \t beam traces points in tree tree_0: \t 30000 --> 129990\n",
      "/home/omar/myproj/planttech/data/single_57_inv/s400000.npy\n",
      "s400000.npy \t beam traces points in tree tree_0: \t 30000 --> 169556\n",
      "/home/omar/myproj/planttech/data/single_57_inv/s700000.npy\n",
      "s700000.npy \t beam traces points in tree tree_0: \t 30000 --> 141211\n"
     ]
    }
   ],
   "source": [
    "#\n",
    "mockname = 'single_57_inv'\n",
    "res = 3\n",
    "debug = True\n",
    "downsample_debug = 1\n",
    "# scan_inc = 90\n",
    "\n",
    "tracers = lad.get_all_traces(mockname, res=res, debug=debug, downsample_debug=downsample_debug)\n",
    "# get_lad(mockname, res, debug=debug, downsample_debug=downsample_debug)"
   ]
  },
  {
   "cell_type": "code",
   "execution_count": 8,
   "metadata": {},
   "outputs": [],
   "source": [
    "figures.show_beams(mockname, sample=50, tracers=False, res=3)"
   ]
  },
  {
   "cell_type": "code",
   "execution_count": 9,
   "metadata": {},
   "outputs": [
    {
     "name": "stdout",
     "output_type": "stream",
     "text": [
      "/home/omar/myproj/planttech/data/single_57_inv/mesh.ply\n",
      "Stage 1: 0.024968042999987006\n",
      "9.5 9.700000000000001 6.1000000000000005\n",
      "Stage 2: 0.5168612610000025\n",
      "max --> [94, 96, 60]\n",
      "min --> [0, 0, 0]\n",
      "(95, 97, 61)\n",
      "Stage 3: 1.6322864090000024\n",
      "Number of voxels ocupied by points cloud: \t 20836\n",
      "Number of voxels ocupied by beam points cloud: \t 45763\n",
      "Total number of voxels in plant regions: \t 562115\n",
      "Number of voxels with attribute 1: \t 20836\n",
      "Number of voxels with attribute 2: \t 26166\n",
      "Number of voxels with attribute 3: \t 515113\n",
      "Stage 4: 1.0079266290000106\n",
      "Stage 5: 5.50078769400001\n"
     ]
    }
   ],
   "source": [
    "#\n",
    "mockname = 'single_57_inv'\n",
    "res = 3 # only to look in the correct file\n",
    "debug = True\n",
    "downsample_debug = 1\n",
    "voxel_size = 0.1\n",
    "# scan_inc = 130\n",
    "# alpha = 0.2\n",
    "# kbins = 2\n",
    "\n",
    "m3att, meshfile, bia, voxk, lia, ws, resdir = lad.get_lad(mockname, res=res, debug=debug, downsample_debug=downsample_debug, voxel_size=voxel_size)"
   ]
  },
  {
   "cell_type": "code",
   "execution_count": 10,
   "metadata": {},
   "outputs": [],
   "source": [
    "alphas_k = lad.alpha_k(bia, voxk, lia, ws, resdir, meshfile, show=False, klia=False, use_true_lia=True)"
   ]
  },
  {
   "cell_type": "code",
   "execution_count": 19,
   "metadata": {},
   "outputs": [],
   "source": [
    "\n",
    "kbins = 3\n",
    "lads_min = lad.get_LADS(m3att, voxel_size, kbins, alphas_k[:,2], 1)\n",
    "lads_max = lad.get_LADS(m3att, voxel_size, kbins, alphas_k[:,4], 1)\n",
    "lads_mid = lad.get_LADS(m3att, voxel_size, kbins, alphas_k[:,6], 1)\n",
    "lads_0 = lad.get_LADS(m3att, voxel_size, kbins, alphas_k[:,6]*0+1, 1.0)\n",
    "kmax = m3att.shape[2]\n",
    "lads_mesh = lad.get_LADS_mesh(meshfile, voxel_size, kbins, kmax)"
   ]
  },
  {
   "cell_type": "code",
   "execution_count": 17,
   "metadata": {},
   "outputs": [],
   "source": [
    "fig = plt.figure(figsize=(4, 6))\n",
    "# plt.plot(lads_min[0:,1], lads_min[0:,0], marker='*', label='Estimated min')\n",
    "# plt.plot(lads_max[0:,1], lads_max[0:,0], marker='*', label='Estimated max')\n",
    "plt.plot(lads_mesh[0:,1], lads_mesh[0:,0], marker='s', c='k', label='Truth')\n",
    "plt.plot(lads_mid[0:,1], lads_mid[0:,0], marker='*', label='Estimated mid')\n",
    "plt.plot(lads_0[0:,1], lads_mid[0:,0], marker='*', label='Estimated 0')\n",
    "\n",
    "plt.xlabel(r'LAD ($m^2/m^3$)')\n",
    "plt.ylabel(r'Height ($m$)')\n",
    "# plt.grid()\n",
    "plt.legend()\n",
    "# plt.show()\n",
    "# plt.xlim(-2,2)\n",
    "\n",
    "mockdir = os.path.join(_data, mockname)\n",
    "resdir_name = '%s_%s' %('results', mockname)\n",
    "resdir = os.path.join(mockdir, resdir_name)\n",
    "savefig = os.path.join(resdir, 'LADs.png')\n",
    "plt.savefig(savefig, dpi=200, bbox_inches='tight')"
   ]
  },
  {
   "cell_type": "code",
   "execution_count": 139,
   "metadata": {},
   "outputs": [
    {
     "data": {
      "text/plain": [
       "<matplotlib.legend.Legend at 0x7fb0a456b850>"
      ]
     },
     "execution_count": 139,
     "metadata": {},
     "output_type": "execute_result"
    }
   ],
   "source": [
    "plt.figure(figsize=(4, 6))\n",
    "# plt.plot(lads_min[0:,1], lads_min[0:,0], marker='*', label='Estimated min')\n",
    "# plt.plot(lads_max[0:,1], lads_max[0:,0], marker='*', label='Estimated max')\n",
    "plt.plot(lads_mesh[0:,1], lads_mesh[0:,0], marker='s', c='r', label='Truth')\n",
    "plt.plot(lads_mid[0:,1], lads_mid[0:,0], marker='*', label='Estimated mid')\n",
    "plt.plot(lads_0[0:,1], lads_mid[0:,0], marker='*', label='Estimated 0')\n",
    "\n",
    "plt.xlabel(r'LAD ($m^2/m^3$)')\n",
    "plt.ylabel(r'Height ($m$)')\n",
    "# plt.grid()\n",
    "plt.legend()\n",
    "# plt.show()\n",
    "# plt.xlim(-2,2)"
   ]
  },
  {
   "cell_type": "code",
   "execution_count": 13,
   "metadata": {},
   "outputs": [],
   "source": [
    "mockname = 'single'\n",
    "downsample_debug = 20\n",
    "voxel_size = 0.2\n",
    "treename = 'tree_0'\n",
    "\n",
    "mockdir = os.path.join(_data, mockname)\n",
    "segtrees_dir_name = 'toy_trees'\n",
    "\n",
    "tree = np.load('/home/omar/myproj/planttech/data/single/toy_trees/tree_0.npy')\n",
    "tree = tree[::downsample_debug]\n",
    "points = tree.T[5:8].T\n",
    "beam_angles = tree.T[1:3].T # Pitch and Yaw\n",
    "\n",
    "voxk = lad.get_voxk(points, voxel_size)\n",
    "\n",
    "# Check if angles and weights are available\n",
    "outdir_angs = os.path.join(mockdir, segtrees_dir_name, 'angles_%s_%s.npy' %(treename, str(1)))\n",
    "outdir_ws = os.path.join(mockdir, segtrees_dir_name, 'weights_%s_%s.npy' %(treename, str(1)))\n",
    "\n",
    "angs = np.load(outdir_angs)\n",
    "angs = angs[::downsample_debug]\n",
    "ws = np.load(outdir_ws)\n",
    "ws = ws[::downsample_debug]\n",
    "res = lad.alpha_k(beam_angles, voxk, angs, ws)"
   ]
  },
  {
   "cell_type": "code",
   "execution_count": 23,
   "metadata": {},
   "outputs": [
    {
     "data": {
      "text/plain": [
       "array([-7.52392013,  2.5404234 , -0.10688612,  7.33053322])"
      ]
     },
     "execution_count": 23,
     "metadata": {},
     "output_type": "execute_result"
    }
   ],
   "source": [
    "res[0:4][:,2]"
   ]
  },
  {
   "cell_type": "code",
   "execution_count": null,
   "metadata": {},
   "outputs": [],
   "source": [
    "mockname = 'single'\n",
    "mockdir = os.path.join(_data, mockname)\n",
    "meshfile = os.path.join(mockdir, 'mesh.ply')\n",
    "\n",
    "voxel_size = 0.4\n",
    "kmax = 16\n",
    "kbins = 3\n",
    "\n",
    "lad.get_LADS_mesh(meshfile, voxel_size=voxel_size, kmax=kmax, kbins=kbins)"
   ]
  },
  {
   "cell_type": "code",
   "execution_count": null,
   "metadata": {},
   "outputs": [],
   "source": [
    "np.full(2, 10)"
   ]
  },
  {
   "cell_type": "code",
   "execution_count": null,
   "metadata": {},
   "outputs": [],
   "source": [
    "tr = np.load('/home/omar/myproj/planttech/data/single/results_single/tracers_tree_0_0.1.npy', allow_pickle=True)"
   ]
  },
  {
   "cell_type": "code",
   "execution_count": null,
   "metadata": {},
   "outputs": [],
   "source": [
    "tr.shape"
   ]
  },
  {
   "cell_type": "code",
   "execution_count": null,
   "metadata": {},
   "outputs": [],
   "source": []
  }
 ],
 "metadata": {
  "interpreter": {
   "hash": "dd457b199a21959d634e86d9176c16bf27a6eca517b0c63f422a118410a38d27"
  },
  "kernelspec": {
   "display_name": "Python 3.8.11 64-bit ('plant-env': conda)",
   "name": "python3"
  },
  "language_info": {
   "codemirror_mode": {
    "name": "ipython",
    "version": 3
   },
   "file_extension": ".py",
   "mimetype": "text/x-python",
   "name": "python",
   "nbconvert_exporter": "python",
   "pygments_lexer": "ipython3",
   "version": "3.8.11"
  },
  "orig_nbformat": 4
 },
 "nbformat": 4,
 "nbformat_minor": 2
}