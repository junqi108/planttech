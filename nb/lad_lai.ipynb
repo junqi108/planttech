{
 "cells": [
  {
   "cell_type": "code",
   "execution_count": 8,
   "metadata": {},
   "outputs": [
    {
     "name": "stdout",
     "output_type": "stream",
     "text": [
      "The autoreload extension is already loaded. To reload it, use:\n",
      "  %reload_ext autoreload\n"
     ]
    }
   ],
   "source": [
    "import numpy as np\n",
    "import os, sys, glob\n",
    "import matplotlib.pyplot as plt\n",
    "import open3d as o3d\n",
    "from scipy.stats import chisquare\n",
    "import pandas as pd\n",
    "\n",
    "basedir = os.path.dirname(os.getcwd())\n",
    "_py = os.path.join(basedir, 'py')\n",
    "_data = os.path.join(basedir, 'data')\n",
    "_images = os.path.join(basedir, 'images')\n",
    "\n",
    "sys.path.insert(1, _py)\n",
    "import lad\n",
    "import figures\n",
    "\n",
    "from dotenv import load_dotenv\n",
    "load_dotenv()\n",
    "\n",
    "%load_ext autoreload\n",
    "%autoreload 2\n",
    "\n",
    "%matplotlib qt"
   ]
  },
  {
   "cell_type": "markdown",
   "metadata": {},
   "source": [
    "## Ray tracing\n",
    "\n",
    "Requisites:\n",
    "* Raw files (blensor ouputs) shoul be placed in the root of the directory\n",
    "* Raw files should be named `s1*.npy`, `s2*.npy`, etc\n",
    "* Create a file with sensor positions in the root with name `scanner_pos.txt`. It should contain 4 columns:\n",
    "    * sensor name i.e. `s1`, `s2`, etc\n",
    "    * x coordinate\n",
    "    * y coordinate\n",
    "    * z coordinate"
   ]
  },
  {
   "cell_type": "code",
   "execution_count": 29,
   "metadata": {},
   "outputs": [
    {
     "name": "stdout",
     "output_type": "stream",
     "text": [
      "/home/omar/myproj/planttech/data/single_57_combined_lite/mesh.ply\n",
      "Stage 1: 1.483928536999997\n",
      "9.45 9.629999999999999 6.029999999999999\n",
      "Stage 2: 12.026305396999987\n",
      "max --> [104, 106, 66]\n",
      "min --> [0, 0, 0]\n",
      "(105, 107, 67)\n",
      "Stage 3: 3.428705949999994\n",
      "Number of voxels ocupied by points cloud: \t 8951\n",
      "Number of voxels ocupied by beam points cloud: \t 558523\n",
      "Total number of voxels in plant regions: \t 752745\n",
      "Number of voxels with attribute 1: \t 8951\n",
      "Number of voxels with attribute 2: \t 550105\n",
      "Number of voxels with attribute 3: \t 193689\n",
      "Stage 4: 11.807528854999987\n",
      "Stage 5: 0.5082777800000144\n",
      "/home/omar/myproj/planttech/data/single_57_combined_lite/mesh.ply\n",
      "Stage 1: 2.0697335290000183\n",
      "9.404444444444444 9.71111111111111 6.0311111111111115\n",
      "Stage 2: 10.192484158000013\n",
      "max --> [91, 94, 58]\n",
      "min --> [0, 0, 0]\n",
      "(92, 95, 59)\n",
      "Stage 3: 2.308150134000016\n",
      "Number of voxels ocupied by points cloud: \t 8351\n",
      "Number of voxels ocupied by beam points cloud: \t 413205\n",
      "Total number of voxels in plant regions: \t 515660\n",
      "Number of voxels with attribute 1: \t 8351\n",
      "Number of voxels with attribute 2: \t 405207\n",
      "Number of voxels with attribute 3: \t 102102\n",
      "Stage 4: 12.688745070999971\n",
      "Stage 5: 0.6364981489999764\n",
      "/home/omar/myproj/planttech/data/single_57_combined_lite/mesh.ply\n",
      "Stage 1: 5.268010163000042\n",
      "9.384444444444444 9.727777777777778 6.065555555555555\n",
      "Stage 2: 10.563549264000017\n",
      "max --> [81, 84, 52]\n",
      "min --> [0, 0, 0]\n",
      "(82, 85, 53)\n",
      "Stage 3: 2.1924707940000303\n",
      "Number of voxels ocupied by points cloud: \t 7830\n",
      "Number of voxels ocupied by beam points cloud: \t 311981\n",
      "Total number of voxels in plant regions: \t 369410\n",
      "Number of voxels with attribute 1: \t 7830\n",
      "Number of voxels with attribute 2: \t 304379\n",
      "Number of voxels with attribute 3: \t 57201\n",
      "Stage 4: 9.878604693\n",
      "Stage 5: 0.6635050170000341\n",
      "/home/omar/myproj/planttech/data/single_57_combined_lite/mesh.ply\n",
      "Stage 1: 3.1518389999999954\n",
      "9.5 9.753333333333334 6.079999999999999\n",
      "Stage 2: 10.290044474000013\n",
      "max --> [74, 76, 47]\n",
      "min --> [0, 0, 0]\n",
      "(75, 77, 48)\n",
      "Stage 3: 1.345621076000043\n",
      "Number of voxels ocupied by points cloud: \t 7211\n",
      "Number of voxels ocupied by beam points cloud: \t 242564\n",
      "Total number of voxels in plant regions: \t 277200\n",
      "Number of voxels with attribute 1: \t 7211\n",
      "Number of voxels with attribute 2: \t 235466\n",
      "Number of voxels with attribute 3: \t 34523\n",
      "Stage 4: 8.110447176000037\n",
      "Stage 5: 0.6541366149999703\n",
      "/home/omar/myproj/planttech/data/single_57_combined_lite/mesh.ply\n",
      "Stage 1: 2.7845588280000015\n",
      "9.444444444444445 9.722222222222223 6.1111111111111125\n",
      "Stage 2: 9.621959822000008\n",
      "max --> [67, 69, 43]\n",
      "min --> [0, 0, 0]\n",
      "(68, 70, 44)\n",
      "Stage 3: 0.6947984980000115\n",
      "Number of voxels ocupied by points cloud: \t 6674\n",
      "Number of voxels ocupied by beam points cloud: \t 188640\n",
      "Total number of voxels in plant regions: \t 209440\n",
      "Number of voxels with attribute 1: \t 6674\n",
      "Number of voxels with attribute 2: \t 182048\n",
      "Number of voxels with attribute 3: \t 20718\n",
      "Stage 4: 7.219916591000015\n",
      "Stage 5: 0.6470066130000305\n",
      "/home/omar/myproj/planttech/data/single_57_combined_lite/mesh.ply\n",
      "Stage 1: 1.99715366800001\n",
      "9.52 9.671111111111111 6.044444444444444\n",
      "Stage 2: 9.535363663999988\n",
      "max --> [62, 63, 39]\n",
      "min --> [0, 0, 0]\n",
      "(63, 64, 40)\n",
      "Stage 3: 0.7750528579999809\n",
      "Number of voxels ocupied by points cloud: \t 6179\n",
      "Number of voxels ocupied by beam points cloud: \t 148695\n",
      "Total number of voxels in plant regions: \t 161280\n",
      "Number of voxels with attribute 1: \t 6179\n",
      "Number of voxels with attribute 2: \t 142569\n",
      "Number of voxels with attribute 3: \t 12532\n",
      "Stage 4: 7.750988439000025\n",
      "Stage 5: 0.9431107460000021\n",
      "/home/omar/myproj/planttech/data/single_57_combined_lite/mesh.ply\n",
      "Stage 1: 3.0921485690000168\n",
      "9.473333333333333 9.8 6.043333333333333\n",
      "Stage 2: 8.473425302999999\n",
      "max --> [57, 59, 36]\n",
      "min --> [0, 0, 0]\n",
      "(58, 60, 37)\n",
      "Stage 3: 0.4281048269999701\n",
      "Number of voxels ocupied by points cloud: \t 5693\n",
      "Number of voxels ocupied by beam points cloud: \t 120638\n",
      "Total number of voxels in plant regions: \t 128760\n",
      "Number of voxels with attribute 1: \t 5693\n",
      "Number of voxels with attribute 2: \t 114978\n",
      "Number of voxels with attribute 3: \t 8089\n",
      "Stage 4: 5.333147915999973\n",
      "Stage 5: 0.8683944040000142\n",
      "/home/omar/myproj/planttech/data/single_57_combined_lite/mesh.ply\n",
      "Stage 1: 3.4744133560000137\n",
      "9.48 9.831111111111113 6.144444444444444\n",
      "Stage 2: 9.17669882599995\n",
      "max --> [53, 55, 34]\n",
      "min --> [0, 0, 0]\n",
      "(54, 56, 35)\n",
      "Stage 3: 0.38845883499999445\n",
      "Number of voxels ocupied by points cloud: \t 5254\n",
      "Number of voxels ocupied by beam points cloud: \t 100055\n",
      "Total number of voxels in plant regions: \t 105840\n",
      "Number of voxels with attribute 1: \t 5254\n",
      "Number of voxels with attribute 2: \t 94825\n",
      "Number of voxels with attribute 3: \t 5761\n",
      "Stage 4: 4.235492635000014\n",
      "Stage 5: 0.6114092219999634\n",
      "/home/omar/myproj/planttech/data/single_57_combined_lite/mesh.ply\n",
      "Stage 1: 2.872898544999998\n",
      "9.576666666666668 9.764444444444445 6.00888888888889\n",
      "Stage 2: 7.871312631000023\n",
      "max --> [50, 51, 31]\n",
      "min --> [0, 0, 0]\n",
      "(51, 52, 32)\n",
      "Stage 3: 0.46435571900002515\n",
      "Number of voxels ocupied by points cloud: \t 4829\n",
      "Number of voxels ocupied by beam points cloud: \t 81180\n",
      "Total number of voxels in plant regions: \t 84864\n",
      "Number of voxels with attribute 1: \t 4829\n",
      "Number of voxels with attribute 2: \t 76365\n",
      "Number of voxels with attribute 3: \t 3670\n",
      "Stage 4: 3.6840034379999906\n",
      "Stage 5: 0.6188188070000251\n",
      "/home/omar/myproj/planttech/data/single_57_combined_lite/mesh.ply\n",
      "Stage 1: 3.108456261000015\n",
      "9.600000000000001 9.8 6.199999999999999\n",
      "Stage 2: 9.064704668000047\n",
      "max --> [47, 48, 30]\n",
      "min --> [0, 0, 0]\n",
      "(48, 49, 31)\n",
      "Stage 3: 0.3241160859999468\n",
      "Number of voxels ocupied by points cloud: \t 4456\n",
      "Number of voxels ocupied by beam points cloud: \t 69964\n",
      "Total number of voxels in plant regions: \t 72912\n",
      "Number of voxels with attribute 1: \t 4456\n",
      "Number of voxels with attribute 2: \t 65515\n",
      "Number of voxels with attribute 3: \t 2941\n",
      "Stage 4: 2.905259804000025\n",
      "Stage 5: 0.6094777579999686\n"
     ]
    }
   ],
   "source": [
    "# mockname = 'single_combined_lite'\n",
    "res = 0.01 # only to look in the correct file\n",
    "debug = True\n",
    "downsample_debug = 1\n",
    "voxel_size = 0.20\n",
    "\n",
    "aa = []\n",
    "bins = np.linspace(0.09, 0.2, 10)\n",
    "\n",
    "for i in bins:\n",
    "    voxel_size = i\n",
    "    m3att, meshfile, bia, voxk, lia, ws, resdir = lad.get_lad(mockname, res=res, debug=debug, downsample_debug=downsample_debug, voxel_size=voxel_size)\n",
    "    tot = np.product(m3att.shape)\n",
    "    fNi = np.sum(m3att == 1)/tot\n",
    "    fNp = np.sum(m3att == 2)/tot\n",
    "    aa.append([i, fNi, fNp])\n"
   ]
  },
  {
   "cell_type": "code",
   "execution_count": 30,
   "metadata": {},
   "outputs": [
    {
     "data": {
      "text/plain": [
       "<matplotlib.legend.Legend at 0x7f1d838418e0>"
      ]
     },
     "execution_count": 30,
     "metadata": {},
     "output_type": "execute_result"
    }
   ],
   "source": [
    "aa = np.array(aa)\n",
    "plt.plot(aa[:,0], aa[:,1], label='nI 57')\n",
    "plt.plot(aa[:,0], aa[:,2], label='nP 57')\n",
    "plt.plot(aa[:,0], aa[:,1]/(aa[:,1]+aa[:,2]), label='lai 57')\n",
    "plt.legend()"
   ]
  },
  {
   "cell_type": "code",
   "execution_count": 24,
   "metadata": {},
   "outputs": [
    {
     "name": "stdout",
     "output_type": "stream",
     "text": [
      "/home/omar/myproj/planttech/data/single_57_combined_lite/s1300000.npy\n",
      "s1300000.npy \t beam traces points in tree tree_0: \t 1500 --> 1203584\n",
      "/home/omar/myproj/planttech/data/single_57_combined_lite/s1200000.npy\n",
      "s1200000.npy \t beam traces points in tree tree_0: \t 1500 --> 2637655\n",
      "/home/omar/myproj/planttech/data/single_57_combined_lite/s1100000.npy\n",
      "s1100000.npy \t beam traces points in tree tree_0: \t 1500 --> 1847948\n",
      "/home/omar/myproj/planttech/data/single_57_combined_lite/s0200000.npy\n",
      "s0200000.npy \t beam traces points in tree tree_0: \t 1500 --> 1019883\n",
      "/home/omar/myproj/planttech/data/single_57_combined_lite/s0300000.npy\n",
      "s0300000.npy \t beam traces points in tree tree_0: \t 1500 --> 1252779\n",
      "/home/omar/myproj/planttech/data/single_57_combined_lite/s0800000.npy\n",
      "s0800000.npy \t beam traces points in tree tree_0: \t 1500 --> 1406049\n",
      "/home/omar/myproj/planttech/data/single_57_combined_lite/s0700000.npy\n",
      "s0700000.npy \t beam traces points in tree tree_0: \t 1500 --> 1563232\n",
      "/home/omar/myproj/planttech/data/single_57_combined_lite/s0600000.npy\n",
      "s0600000.npy \t beam traces points in tree tree_0: \t 1500 --> 1364127\n",
      "/home/omar/myproj/planttech/data/single_57_combined_lite/s1000000.npy\n",
      "s1000000.npy \t beam traces points in tree tree_0: \t 1500 --> 727386\n",
      "/home/omar/myproj/planttech/data/single_57_combined_lite/s1500000.npy\n",
      "s1500000.npy \t beam traces points in tree tree_0: \t 1500 --> 2229550\n",
      "/home/omar/myproj/planttech/data/single_57_combined_lite/s1400000.npy\n",
      "s1400000.npy \t beam traces points in tree tree_0: \t 1500 --> 1698960\n",
      "/home/omar/myproj/planttech/data/single_57_combined_lite/s0500000.npy\n",
      "s0500000.npy \t beam traces points in tree tree_0: \t 1500 --> 1437310\n",
      "/home/omar/myproj/planttech/data/single_57_combined_lite/s1600000.npy\n",
      "s1600000.npy \t beam traces points in tree tree_0: \t 1500 --> 2064798\n",
      "/home/omar/myproj/planttech/data/single_57_combined_lite/s0100000.npy\n",
      "s0100000.npy \t beam traces points in tree tree_0: \t 1500 --> 1576802\n",
      "/home/omar/myproj/planttech/data/single_57_combined_lite/s0900000.npy\n",
      "s0900000.npy \t beam traces points in tree tree_0: \t 1500 --> 2098728\n",
      "/home/omar/myproj/planttech/data/single_57_combined_lite/s0400000.npy\n",
      "s0400000.npy \t beam traces points in tree tree_0: \t 1500 --> 1906716\n"
     ]
    }
   ],
   "source": [
    "#\n",
    "mockname = 'single_57_combined_lite'\n",
    "res = 0.01\n",
    "debug = True\n",
    "downsample_debug = 1\n",
    "# scan_inc = 90\n",
    "\n",
    "tracers = lad.get_all_traces(mockname, res=res, debug=debug, downsample_debug=downsample_debug)\n",
    "# get_lad(mockname, res, debug=debug, downsample_debug=downsample_debug)"
   ]
  },
  {
   "cell_type": "code",
   "execution_count": 42,
   "metadata": {},
   "outputs": [],
   "source": [
    "mockname = 'single_57_combined'\n",
    "figures.show_beams(mockname, sample=50, tracers=False, res=3)"
   ]
  },
  {
   "cell_type": "code",
   "execution_count": 25,
   "metadata": {},
   "outputs": [
    {
     "name": "stdout",
     "output_type": "stream",
     "text": [
      "/home/omar/myproj/planttech/data/single_57_combined_lite/mesh.ply\n",
      "Stage 1: 0.8710573379999857\n",
      "9.49 9.75 5.98\n",
      "Stage 2: 9.704872574000007\n",
      "max --> [72, 74, 45]\n",
      "min --> [0, 0, 0]\n",
      "(73, 75, 46)\n",
      "Stage 3: 0.994033839999986\n",
      "Number of voxels ocupied by points cloud: \t 7088\n",
      "Number of voxels ocupied by beam points cloud: \t 223753\n",
      "Total number of voxels in plant regions: \t 251850\n",
      "Number of voxels with attribute 1: \t 7088\n",
      "Number of voxels with attribute 2: \t 216781\n",
      "Number of voxels with attribute 3: \t 27981\n",
      "Stage 4: 7.463481373999997\n",
      "Stage 5: 0.5753146649999792\n"
     ]
    }
   ],
   "source": [
    "#\n",
    "# mockname = 'single_57_combined_lite'\n",
    "res = 0.01 # only to look in the correct file\n",
    "debug = True\n",
    "downsample_debug = 1\n",
    "voxel_size = 0.13\n",
    "# scan_inc = 130\n",
    "# alpha = 0.2\n",
    "# kbins = 2\n",
    "\n",
    "m3att, meshfile, bia, voxk, lia, ws, resdir = lad.get_lad(mockname, res=res, debug=debug, downsample_debug=downsample_debug, voxel_size=voxel_size)"
   ]
  },
  {
   "cell_type": "code",
   "execution_count": 26,
   "metadata": {},
   "outputs": [],
   "source": [
    "alphas_k = lad.alpha_k(bia, voxk, lia, ws, resdir, meshfile, show=False, klia=False, use_true_lia=True)"
   ]
  },
  {
   "cell_type": "code",
   "execution_count": 27,
   "metadata": {},
   "outputs": [],
   "source": [
    "\n",
    "kbins = 2\n",
    "# lads_min = lad.get_LADS(m3att, voxel_size, kbins, alphas_k[:,2], 1)\n",
    "# lads_max = lad.get_LADS(m3att, voxel_size, kbins, alphas_k[:,4], 1)\n",
    "lads_mid = lad.get_LADS(m3att, voxel_size, kbins, alphas_k[:,6], 1)\n",
    "lads_0 = lad.get_LADS(m3att, voxel_size, kbins, alphas_k[:,6]*0+1, 1.0)\n",
    "kmax = m3att.shape[2]\n",
    "lads_mesh = lad.get_LADS_mesh(meshfile, voxel_size, kbins, kmax)"
   ]
  },
  {
   "cell_type": "code",
   "execution_count": 28,
   "metadata": {},
   "outputs": [],
   "source": [
    "fig = plt.figure(figsize=(4, 6))\n",
    "# plt.plot(lads_min[0:,1], lads_min[0:,0], marker='*', label='Estimated min')\n",
    "# plt.plot(lads_max[0:,1], lads_max[0:,0], marker='*', label='Estimated max')\n",
    "plt.plot(lads_mesh[0:,1], lads_mesh[0:,0], marker='s', c='k', label='Truth')\n",
    "plt.plot(lads_mid[0:,1], lads_mid[0:,0], marker='*', label='Estimated mid')\n",
    "plt.plot(lads_0[0:,1], lads_mid[0:,0], marker='*', label='Estimated 0')\n",
    "\n",
    "plt.xlabel(r'LAD ($m^2/m^3$)')\n",
    "plt.ylabel(r'Height ($m$)')\n",
    "# plt.grid()\n",
    "plt.legend()\n",
    "# plt.show()\n",
    "# plt.xlim(-2,2)\n",
    "\n",
    "mockdir = os.path.join(_data, mockname)\n",
    "resdir_name = '%s_%s' %('results', mockname)\n",
    "resdir = os.path.join(mockdir, resdir_name)\n",
    "savefig = os.path.join(resdir, 'LADs.png')\n",
    "plt.savefig(savefig, dpi=200, bbox_inches='tight')"
   ]
  },
  {
   "cell_type": "code",
   "execution_count": null,
   "metadata": {},
   "outputs": [
    {
     "data": {
      "text/plain": [
       "<matplotlib.legend.Legend at 0x7fb0a456b850>"
      ]
     },
     "execution_count": 139,
     "metadata": {},
     "output_type": "execute_result"
    }
   ],
   "source": [
    "plt.figure(figsize=(4, 6))\n",
    "# plt.plot(lads_min[0:,1], lads_min[0:,0], marker='*', label='Estimated min')\n",
    "# plt.plot(lads_max[0:,1], lads_max[0:,0], marker='*', label='Estimated max')\n",
    "plt.plot(lads_mesh[0:,1], lads_mesh[0:,0], marker='s', c='r', label='Truth')\n",
    "plt.plot(lads_mid[0:,1], lads_mid[0:,0], marker='*', label='Estimated mid')\n",
    "plt.plot(lads_0[0:,1], lads_mid[0:,0], marker='*', label='Estimated 0')\n",
    "\n",
    "plt.xlabel(r'LAD ($m^2/m^3$)')\n",
    "plt.ylabel(r'Height ($m$)')\n",
    "# plt.grid()\n",
    "plt.legend()\n",
    "# plt.show()\n",
    "# plt.xlim(-2,2)"
   ]
  },
  {
   "cell_type": "code",
   "execution_count": 13,
   "metadata": {},
   "outputs": [],
   "source": [
    "mockname = 'single'\n",
    "downsample_debug = 20\n",
    "voxel_size = 0.2\n",
    "treename = 'tree_0'\n",
    "\n",
    "mockdir = os.path.join(_data, mockname)\n",
    "segtrees_dir_name = 'toy_trees'\n",
    "\n",
    "tree = np.load('/home/omar/myproj/planttech/data/single/toy_trees/tree_0.npy')\n",
    "tree = tree[::downsample_debug]\n",
    "points = tree.T[5:8].T\n",
    "beam_angles = tree.T[1:3].T # Pitch and Yaw\n",
    "\n",
    "voxk = lad.get_voxk(points, voxel_size)\n",
    "\n",
    "# Check if angles and weights are available\n",
    "outdir_angs = os.path.join(mockdir, segtrees_dir_name, 'angles_%s_%s.npy' %(treename, str(1)))\n",
    "outdir_ws = os.path.join(mockdir, segtrees_dir_name, 'weights_%s_%s.npy' %(treename, str(1)))\n",
    "\n",
    "angs = np.load(outdir_angs)\n",
    "angs = angs[::downsample_debug]\n",
    "ws = np.load(outdir_ws)\n",
    "ws = ws[::downsample_debug]\n",
    "res = lad.alpha_k(beam_angles, voxk, angs, ws)"
   ]
  },
  {
   "cell_type": "code",
   "execution_count": 23,
   "metadata": {},
   "outputs": [
    {
     "data": {
      "text/plain": [
       "array([-7.52392013,  2.5404234 , -0.10688612,  7.33053322])"
      ]
     },
     "execution_count": 23,
     "metadata": {},
     "output_type": "execute_result"
    }
   ],
   "source": [
    "res[0:4][:,2]"
   ]
  },
  {
   "cell_type": "code",
   "execution_count": null,
   "metadata": {},
   "outputs": [],
   "source": [
    "mockname = 'single'\n",
    "mockdir = os.path.join(_data, mockname)\n",
    "meshfile = os.path.join(mockdir, 'mesh.ply')\n",
    "\n",
    "voxel_size = 0.4\n",
    "kmax = 16\n",
    "kbins = 3\n",
    "\n",
    "lad.get_LADS_mesh(meshfile, voxel_size=voxel_size, kmax=kmax, kbins=kbins)"
   ]
  },
  {
   "cell_type": "code",
   "execution_count": null,
   "metadata": {},
   "outputs": [],
   "source": [
    "np.full(2, 10)"
   ]
  },
  {
   "cell_type": "code",
   "execution_count": null,
   "metadata": {},
   "outputs": [],
   "source": [
    "tr = np.load('/home/omar/myproj/planttech/data/single/results_single/tracers_tree_0_0.1.npy', allow_pickle=True)"
   ]
  },
  {
   "cell_type": "code",
   "execution_count": null,
   "metadata": {},
   "outputs": [],
   "source": [
    "tr.shape"
   ]
  },
  {
   "cell_type": "code",
   "execution_count": null,
   "metadata": {},
   "outputs": [],
   "source": []
  }
 ],
 "metadata": {
  "interpreter": {
   "hash": "dd457b199a21959d634e86d9176c16bf27a6eca517b0c63f422a118410a38d27"
  },
  "kernelspec": {
   "display_name": "Python 3.8.11 64-bit ('plant-env': conda)",
   "name": "python3"
  },
  "language_info": {
   "codemirror_mode": {
    "name": "ipython",
    "version": 3
   },
   "file_extension": ".py",
   "mimetype": "text/x-python",
   "name": "python",
   "nbconvert_exporter": "python",
   "pygments_lexer": "ipython3",
   "version": "3.8.11"
  },
  "orig_nbformat": 4
 },
 "nbformat": 4,
 "nbformat_minor": 2
}