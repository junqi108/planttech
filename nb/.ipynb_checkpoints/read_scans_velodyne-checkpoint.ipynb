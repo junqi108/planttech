{
 "cells": [
  {
   "cell_type": "code",
   "execution_count": 1,
   "metadata": {},
   "outputs": [],
   "source": [
    "import numpy as np\n",
    "import pandas as pd\n",
    "import matplotlib.pyplot as plt\n",
    "import open3d as o3d\n",
    "import os, sys, glob"
   ]
  },
  {
   "cell_type": "markdown",
   "metadata": {
    "slideshow": {
     "slide_type": "slide"
    },
    "tags": []
   },
   "source": [
    "# Part 1: introduction to LAI retrieve methods from TLS data"
   ]
  },
  {
   "cell_type": "markdown",
   "metadata": {
    "slideshow": {
     "slide_type": "subslide"
    },
    "tags": []
   },
   "source": [
    "# Introduction\n",
    "\n",
    "The Leaf Area Index (`LAI`) is defined as one half the total green leaf area per unit ground surface area. It is listed as an essential climate variable by the global climate change research community (GCOS) and\n",
    "is a critical variable in processes such as photosynthesis, respiration, and interception.\n",
    "\n",
    "Active light detection and ranging (`LiDAR`) technology has been widely used to estimate vegetation LAI. \n",
    "\n",
    "In this work we focuse on Terrestrial laser scanning (`TLS`) data that can be used to effectively estimate the LAI. `TLS` come in discrete (Point Cloud) and full waveform returns. We will focus only on point cloud data returns."
   ]
  },
  {
   "cell_type": "markdown",
   "metadata": {},
   "source": [
    "# LAI retrieve methods\n",
    "\n",
    "There are four main methods to estimate the LAI.\n",
    "\n",
    "<img src=\"../images/lai_methods.png\" width=\"800\">"
   ]
  },
  {
   "cell_type": "markdown",
   "metadata": {},
   "source": [
    "# Gap-Based\n",
    "\n",
    "The gap-based methods follows the gap fraction and the theoretical basis is the `Beer-Lambert law`,\n",
    "\n",
    "$$P(\\theta) = e^{-G(\\theta)\\cdot\\textrm{LAI}/\\cos(\\theta)}$$\n",
    "\n",
    "where $P(\\theta)$ is the canopy gap fraction at zenith angle $\\theta$. Then, the light attenuation in vegetation canopies can be represented by the light extinction as a funciton of the LAI.\n",
    "\n",
    "$$\\textrm{LAI} = -\\frac{1}{k}\\ln(I/I_{0})$$\n",
    "\n",
    "where $I$ is the below-canopy light intensity, $I_{0}$ is the above-canopy light intensity, $k$ is the extinction coefficient. $I/I_{0}$ is the fraction of light transmitted through the canopy, and since this cannot be derived from LiDAR data, there's various Laser Penetration Metrics (`LPM`) used as proxies to estimate this quantity. For point cloud data, the LPM can be calculated as the ratio of the number of ground returns to the number of total returns,\n",
    "\n",
    "$$\\frac{N_{ground}}{N_{total}} \\, \\textrm{or} \\, \\frac{N_{sky}}{N_{total}}$$"
   ]
  },
  {
   "cell_type": "markdown",
   "metadata": {},
   "source": [
    "# Contact-based\n",
    "\n",
    "This method measure the probability of a beam penetrating the canopy comming into contact with a vegetative element. For TLS point cloud data, LAI is estimated via voxelization and computation of the contact frequency in each layer,\n",
    "\n",
    "$$\\textrm{LAI}(k) = N(k)\\cdot\\frac{\\cos(\\theta)}{G(\\theta)},$$\n",
    "\n",
    "where $G(\\theta)$ is the projection function that corresponds to the fraction of foliage projected on the plane normal to the solar direction, $N(k)$ is the contact frequency of laser beams in the kth layer defined as,\n",
    "\n",
    "$$N(k) = \\frac{n_{1}(k)}{n_{1}(k) + n_{p}(k)}$$.\n",
    "\n",
    "$n_{1}(k)$ is the number of laser beams intercepted by the kth layer, $n_{p}(k)$ is the number of laser beams passing through the kth layer, and $n_{1}(k) + n_{p}(k)$ is the total number reach the kth layer.\n"
   ]
  },
  {
   "cell_type": "markdown",
   "metadata": {},
   "source": [
    "# Factors affecting LAI estimation from LiDAR data\n",
    "\n",
    "<img src=\"../images/factors.png\" width=\"800\">"
   ]
  },
  {
   "cell_type": "markdown",
   "metadata": {},
   "source": [
    "# Reconstruction from TLS\n",
    "\n",
    "<img src=\"../images/reconstruction.png\" width=\"800\">\n",
    "\n",
    "<img src=\"../images/trees.png\" width=\"700\">"
   ]
  },
  {
   "cell_type": "markdown",
   "metadata": {},
   "source": [
    "# Data processing for tree segmentation\n",
    "\n",
    "Either of the LAI retrieve methods mentioned above follow a similar data processing structure.\n",
    "\n",
    "* Registration\n",
    "* Noise removal\n",
    "* DTM\n",
    "* DSM\n",
    "* CHM\n",
    "* Tree Segmentation\n",
    "\n",
    "<img src=\"../images/chm.png\" width=\"500\">\n",
    "\n"
   ]
  },
  {
   "cell_type": "markdown",
   "metadata": {},
   "source": [
    "# Part 2: Hands-on with a mock UAV data\n",
    "\n",
    "We made use of Blensor to scan 25 trees that are 5m apart from each other and with height of 9m.\n",
    "\n",
    "<img src=\"../images/field_sample.png\" width=\"500\">\n"
   ]
  },
  {
   "cell_type": "markdown",
   "metadata": {},
   "source": [
    "# Scanning\n",
    "\n",
    "    Scanner type: Velodyne HDL-64E2\n",
    "    Scan Resolution: 0.1\n",
    "    Rotation Speed: 10 Hz\n",
    "    Scan distance: 120 m\n",
    "    "
   ]
  },
  {
   "cell_type": "code",
   "execution_count": 2,
   "metadata": {
    "tags": []
   },
   "outputs": [
    {
     "name": "stderr",
     "output_type": "stream",
     "text": [
      "<ipython-input-2-0af8fdc92f1c>:7: UserWarning: loadtxt: Empty input file: \"../data/mock_vel/scan00001.numpy\"\n",
      "  df = np.loadtxt(file)\n",
      "<ipython-input-2-0af8fdc92f1c>:7: UserWarning: loadtxt: Empty input file: \"../data/mock_vel/scan00003.numpy\"\n",
      "  df = np.loadtxt(file)\n",
      "<ipython-input-2-0af8fdc92f1c>:7: UserWarning: loadtxt: Empty input file: \"../data/mock_vel/scan00023.numpy\"\n",
      "  df = np.loadtxt(file)\n",
      "<ipython-input-2-0af8fdc92f1c>:7: UserWarning: loadtxt: Empty input file: \"../data/mock_vel/scan00021.numpy\"\n",
      "  df = np.loadtxt(file)\n"
     ]
    },
    {
     "data": {
      "text/plain": [
       "(439375, 16)"
      ]
     },
     "execution_count": 2,
     "metadata": {},
     "output_type": "execute_result"
    }
   ],
   "source": [
    "# define the path of the data stored\n",
    "datapath = '../data/mock_vel'\n",
    "\n",
    "# read the numpy files\n",
    "files = {}\n",
    "for file in glob.glob(os.path.join(datapath, 'scan0*.numpy')):\n",
    "    df = np.loadtxt(file)\n",
    "    if df.shape[0] > 0:\n",
    "        files[file.split('/')[-1]] = df\n",
    "    \n",
    "# concatenate all data\n",
    "df = np.concatenate(list(files.values()))\n",
    "df.shape"
   ]
  },
  {
   "cell_type": "code",
   "execution_count": 4,
   "metadata": {},
   "outputs": [
    {
     "data": {
      "text/html": [
       "<div>\n",
       "<style scoped>\n",
       "    .dataframe tbody tr th:only-of-type {\n",
       "        vertical-align: middle;\n",
       "    }\n",
       "\n",
       "    .dataframe tbody tr th {\n",
       "        vertical-align: top;\n",
       "    }\n",
       "\n",
       "    .dataframe thead th {\n",
       "        text-align: right;\n",
       "    }\n",
       "</style>\n",
       "<table border=\"1\" class=\"dataframe\">\n",
       "  <thead>\n",
       "    <tr style=\"text-align: right;\">\n",
       "      <th></th>\n",
       "      <th>timestamp</th>\n",
       "      <th>yaw</th>\n",
       "      <th>pitch</th>\n",
       "      <th>distance</th>\n",
       "      <th>distance_noise</th>\n",
       "      <th>x</th>\n",
       "      <th>y</th>\n",
       "      <th>z</th>\n",
       "      <th>x_noise</th>\n",
       "      <th>y_noise</th>\n",
       "      <th>z_noise</th>\n",
       "      <th>object_id</th>\n",
       "      <th>color0</th>\n",
       "      <th>color1</th>\n",
       "      <th>color2</th>\n",
       "      <th>idx</th>\n",
       "    </tr>\n",
       "  </thead>\n",
       "  <tbody>\n",
       "    <tr>\n",
       "      <th>0</th>\n",
       "      <td>0.541667</td>\n",
       "      <td>2.617994</td>\n",
       "      <td>-0.394749</td>\n",
       "      <td>27.245766</td>\n",
       "      <td>27.236138</td>\n",
       "      <td>-12.575191</td>\n",
       "      <td>-10.478093</td>\n",
       "      <td>21.780861</td>\n",
       "      <td>-12.570748</td>\n",
       "      <td>-10.474390</td>\n",
       "      <td>21.773163</td>\n",
       "      <td>1.851878e+09</td>\n",
       "      <td>204.0</td>\n",
       "      <td>204.0</td>\n",
       "      <td>204.0</td>\n",
       "      <td>0.0</td>\n",
       "    </tr>\n",
       "    <tr>\n",
       "      <th>1</th>\n",
       "      <td>0.541667</td>\n",
       "      <td>2.617994</td>\n",
       "      <td>-0.387762</td>\n",
       "      <td>27.684422</td>\n",
       "      <td>27.662986</td>\n",
       "      <td>-12.814536</td>\n",
       "      <td>-10.467964</td>\n",
       "      <td>22.195417</td>\n",
       "      <td>-12.804614</td>\n",
       "      <td>-10.459859</td>\n",
       "      <td>22.178232</td>\n",
       "      <td>1.851878e+09</td>\n",
       "      <td>204.0</td>\n",
       "      <td>204.0</td>\n",
       "      <td>204.0</td>\n",
       "      <td>0.0</td>\n",
       "    </tr>\n",
       "    <tr>\n",
       "      <th>2</th>\n",
       "      <td>0.541667</td>\n",
       "      <td>2.617994</td>\n",
       "      <td>-0.379500</td>\n",
       "      <td>28.223438</td>\n",
       "      <td>28.227431</td>\n",
       "      <td>-13.107672</td>\n",
       "      <td>-10.455557</td>\n",
       "      <td>22.703144</td>\n",
       "      <td>-13.109527</td>\n",
       "      <td>-10.457035</td>\n",
       "      <td>22.706356</td>\n",
       "      <td>1.851878e+09</td>\n",
       "      <td>204.0</td>\n",
       "      <td>204.0</td>\n",
       "      <td>204.0</td>\n",
       "      <td>0.0</td>\n",
       "    </tr>\n",
       "    <tr>\n",
       "      <th>3</th>\n",
       "      <td>0.541667</td>\n",
       "      <td>2.617994</td>\n",
       "      <td>-0.369941</td>\n",
       "      <td>28.876463</td>\n",
       "      <td>29.040068</td>\n",
       "      <td>-13.461471</td>\n",
       "      <td>-10.440584</td>\n",
       "      <td>23.315941</td>\n",
       "      <td>-13.537740</td>\n",
       "      <td>-10.499737</td>\n",
       "      <td>23.448042</td>\n",
       "      <td>1.851878e+09</td>\n",
       "      <td>204.0</td>\n",
       "      <td>204.0</td>\n",
       "      <td>204.0</td>\n",
       "      <td>0.0</td>\n",
       "    </tr>\n",
       "    <tr>\n",
       "      <th>4</th>\n",
       "      <td>0.541667</td>\n",
       "      <td>2.617994</td>\n",
       "      <td>-0.434470</td>\n",
       "      <td>25.016338</td>\n",
       "      <td>24.922284</td>\n",
       "      <td>-11.346080</td>\n",
       "      <td>-10.530115</td>\n",
       "      <td>19.651979</td>\n",
       "      <td>-11.303422</td>\n",
       "      <td>-10.490525</td>\n",
       "      <td>19.578094</td>\n",
       "      <td>1.851878e+09</td>\n",
       "      <td>204.0</td>\n",
       "      <td>204.0</td>\n",
       "      <td>204.0</td>\n",
       "      <td>0.0</td>\n",
       "    </tr>\n",
       "  </tbody>\n",
       "</table>\n",
       "</div>"
      ],
      "text/plain": [
       "   timestamp       yaw     pitch   distance  distance_noise          x  \\\n",
       "0   0.541667  2.617994 -0.394749  27.245766       27.236138 -12.575191   \n",
       "1   0.541667  2.617994 -0.387762  27.684422       27.662986 -12.814536   \n",
       "2   0.541667  2.617994 -0.379500  28.223438       28.227431 -13.107672   \n",
       "3   0.541667  2.617994 -0.369941  28.876463       29.040068 -13.461471   \n",
       "4   0.541667  2.617994 -0.434470  25.016338       24.922284 -11.346080   \n",
       "\n",
       "           y          z    x_noise    y_noise    z_noise     object_id  \\\n",
       "0 -10.478093  21.780861 -12.570748 -10.474390  21.773163  1.851878e+09   \n",
       "1 -10.467964  22.195417 -12.804614 -10.459859  22.178232  1.851878e+09   \n",
       "2 -10.455557  22.703144 -13.109527 -10.457035  22.706356  1.851878e+09   \n",
       "3 -10.440584  23.315941 -13.537740 -10.499737  23.448042  1.851878e+09   \n",
       "4 -10.530115  19.651979 -11.303422 -10.490525  19.578094  1.851878e+09   \n",
       "\n",
       "   color0  color1  color2  idx  \n",
       "0   204.0   204.0   204.0  0.0  \n",
       "1   204.0   204.0   204.0  0.0  \n",
       "2   204.0   204.0   204.0  0.0  \n",
       "3   204.0   204.0   204.0  0.0  \n",
       "4   204.0   204.0   204.0  0.0  "
      ]
     },
     "execution_count": 4,
     "metadata": {},
     "output_type": "execute_result"
    }
   ],
   "source": [
    "# pass this to a pandas data frame for simplicity\n",
    "scan = pd.DataFrame(df, columns=['timestamp', 'yaw', 'pitch', 'distance','distance_noise',\n",
    "                                'x','y','z',\n",
    "                                'x_noise','y_noise','z_noise',\n",
    "                                'object_id', 'color0', 'color1','color2', 'idx'])\n",
    "\n",
    "scan.head()"
   ]
  },
  {
   "cell_type": "code",
   "execution_count": 5,
   "metadata": {},
   "outputs": [
    {
     "data": {
      "image/png": "[encoded data removed]",
      "text/plain": [
       "<Figure size 1296x864 with 8 Axes>"
      ]
     },
     "metadata": {
      "needs_background": "light"
     },
     "output_type": "display_data"
    }
   ],
   "source": [
    "# Here we show how some of the point cloud parameters looks like.\n",
    "cols = ['timestamp', 'yaw', 'pitch',\n",
    "        'x','y','z',\n",
    "        'distance', 'object_id']\n",
    "\n",
    "plt.figure(figsize=(18, 4*3))\n",
    "\n",
    "for num, i in enumerate(cols):\n",
    "    \n",
    "    plt.subplot(3,3,num+1)\n",
    "    plt.hist(scan[i], 80, alpha=0.5, label=i)\n",
    "    plt.legend()"
   ]
  },
  {
   "cell_type": "markdown",
   "metadata": {},
   "source": [
    "The `object_id` parameter is a label for the leaves, the stems and the ground/soil. Below we plot these id's as a function of distance."
   ]
  },
  {
   "cell_type": "code",
   "execution_count": 6,
   "metadata": {},
   "outputs": [
    {
     "data": {
      "image/png": "[encoded data removed]",
      "text/plain": [
       "<Figure size 432x288 with 1 Axes>"
      ]
     },
     "metadata": {
      "needs_background": "light"
     },
     "output_type": "display_data"
    }
   ],
   "source": [
    "for i in set(scan['object_id']):\n",
    "    mask = scan['object_id'] == i\n",
    "    plt.hist(scan['distance'][mask], 30, histtype='step', lw=2, label=str(i))\n",
    "    plt.legend()"
   ]
  },
  {
   "cell_type": "code",
   "execution_count": 7,
   "metadata": {
    "collapsed": true,
    "jupyter": {
     "outputs_hidden": true
    },
    "tags": []
   },
   "outputs": [
    {
     "name": "stdout",
     "output_type": "stream",
     "text": [
      "\u001b[0;mThe viewer window provides interactive commands; for help, press 'h' or 'H' from within the window.\n",
      "\u001b[1;32m> \u001b[0;mLoading \u001b[0;36m../data/mock_vel/scan00000.pcd \u001b[0;m\u001b[1;33m[PCLVisualizer::setUseVbos] Has no effect when OpenGL version is ≥ 2\n",
      "\u001b[0;m\u001b[0;m[done, \u001b[0;36m953.306\u001b[0;m\u001b[0;m ms : \u001b[0;36m16767\u001b[0;m\u001b[0;m points]\n",
      "\u001b[0;mAvailable dimensions: \u001b[0;36mx y z rgb label\n",
      "\u001b[1;32m> \u001b[0;mLoading \u001b[0;36m../data/mock_vel/scan00000.slice.pcd \u001b[0;m\u001b[0;m\u001b[0;m[done, \u001b[0;36m13.4498\u001b[0;m\u001b[0;m ms : \u001b[0;36m8971\u001b[0;m\u001b[0;m points]\n",
      "\u001b[0;mAvailable dimensions: \u001b[0;36mx y z\n",
      "\u001b[1;32m> \u001b[0;mLoading \u001b[0;36m../data/mock_vel/scan00000.tile.downsample.scan00000.pcd \u001b[0;m\u001b[0;m\u001b[0;m[done, \u001b[0;36m18.4521\u001b[0;m\u001b[0;m ms : \u001b[0;36m16767\u001b[0;m\u001b[0;m points]\n",
      "\u001b[0;mAvailable dimensions: \u001b[0;36mx y z\n",
      "\u001b[1;32m> \u001b[0;mLoading \u001b[0;36m../data/mock_vel/scan00002.pcd \u001b[0;m\u001b[0;m\u001b[0;m[done, \u001b[0;36m278.743\u001b[0;m\u001b[0;m ms : \u001b[0;36m25987\u001b[0;m\u001b[0;m points]\n",
      "\u001b[0;mAvailable dimensions: \u001b[0;36mx y z rgb label\n",
      "\u001b[1;32m> \u001b[0;mLoading \u001b[0;36m../data/mock_vel/scan00002.tile.downsample.scan00002.pcd \u001b[0;m\u001b[0;m\u001b[0;m[done, \u001b[0;36m6.34457\u001b[0;m\u001b[0;m ms : \u001b[0;36m25980\u001b[0;m\u001b[0;m points]\n",
      "\u001b[0;mAvailable dimensions: \u001b[0;36mx y z\n",
      "\u001b[1;32m> \u001b[0;mLoading \u001b[0;36m../data/mock_vel/scan00004.pcd \u001b[0;m\u001b[0;m\u001b[0;m[done, \u001b[0;36m249.056\u001b[0;m\u001b[0;m ms : \u001b[0;36m33837\u001b[0;m\u001b[0;m points]\n",
      "\u001b[0;mAvailable dimensions: \u001b[0;36mx y z rgb label\n",
      "\u001b[1;32m> \u001b[0;mLoading \u001b[0;36m../data/mock_vel/scan00004.tile.downsample.scan00004.pcd \u001b[0;m\u001b[0;m\u001b[0;m[done, \u001b[0;36m6.42563\u001b[0;m\u001b[0;m ms : \u001b[0;36m33737\u001b[0;m\u001b[0;m points]\n",
      "\u001b[0;mAvailable dimensions: \u001b[0;36mx y z\n",
      "\u001b[1;32m> \u001b[0;mLoading \u001b[0;36m../data/mock_vel/scan00005.pcd \u001b[0;m\u001b[0;m\u001b[0;m[done, \u001b[0;36m28.8002\u001b[0;m\u001b[0;m ms : \u001b[0;36m3941\u001b[0;m\u001b[0;m points]\n",
      "\u001b[0;mAvailable dimensions: \u001b[0;36mx y z rgb label\n",
      "\u001b[1;32m> \u001b[0;mLoading \u001b[0;36m../data/mock_vel/scan00005.tile.downsample.scan00005.pcd \u001b[0;m\u001b[0;m\u001b[0;m[done, \u001b[0;36m1.33361\u001b[0;m\u001b[0;m ms : \u001b[0;36m3887\u001b[0;m\u001b[0;m points]\n",
      "\u001b[0;mAvailable dimensions: \u001b[0;36mx y z\n",
      "\u001b[1;32m> \u001b[0;mLoading \u001b[0;36m../data/mock_vel/scan00006.pcd \u001b[0;m\u001b[0;m\u001b[0;m[done, \u001b[0;36m99.6661\u001b[0;m\u001b[0;m ms : \u001b[0;36m12516\u001b[0;m\u001b[0;m points]\n",
      "\u001b[0;mAvailable dimensions: \u001b[0;36mx y z rgb label\n",
      "\u001b[1;32m> \u001b[0;mLoading \u001b[0;36m../data/mock_vel/scan00006.tile.downsample.scan00006.pcd \u001b[0;m\u001b[0;m\u001b[0;m[done, \u001b[0;36m2.77269\u001b[0;m\u001b[0;m ms : \u001b[0;36m12473\u001b[0;m\u001b[0;m points]\n",
      "\u001b[0;mAvailable dimensions: \u001b[0;36mx y z\n",
      "\u001b[1;32m> \u001b[0;mLoading \u001b[0;36m../data/mock_vel/scan00007.pcd \u001b[0;m\u001b[0;m\u001b[0;m[done, \u001b[0;36m288.934\u001b[0;m\u001b[0;m ms : \u001b[0;36m40584\u001b[0;m\u001b[0;m points]\n",
      "\u001b[0;mAvailable dimensions: \u001b[0;36mx y z rgb label\n",
      "\u001b[1;32m> \u001b[0;mLoading \u001b[0;36m../data/mock_vel/scan00007.tile.downsample.scan00007.pcd \u001b[0;m\u001b[0;m\u001b[0;m[done, \u001b[0;36m12.5969\u001b[0;m\u001b[0;m ms : \u001b[0;36m39745\u001b[0;m\u001b[0;m points]\n",
      "\u001b[0;mAvailable dimensions: \u001b[0;36mx y z\n",
      "\u001b[1;32m> \u001b[0;mLoading \u001b[0;36m../data/mock_vel/scan00008.pcd \u001b[0;m\u001b[0;m\u001b[0;m[done, \u001b[0;36m8.41517\u001b[0;m\u001b[0;m ms : \u001b[0;36m930\u001b[0;m\u001b[0;m points]\n",
      "\u001b[0;mAvailable dimensions: \u001b[0;36mx y z rgb label\n",
      "\u001b[1;32m> \u001b[0;mLoading \u001b[0;36m../data/mock_vel/scan00008.tile.downsample.scan00008.pcd \u001b[0;m\u001b[0;m\u001b[0;m[done, \u001b[0;36m0.916175\u001b[0;m\u001b[0;m ms : \u001b[0;36m925\u001b[0;m\u001b[0;m points]\n",
      "\u001b[0;mAvailable dimensions: \u001b[0;36mx y z\n",
      "\u001b[1;32m> \u001b[0;mLoading \u001b[0;36m../data/mock_vel/scan00009.pcd \u001b[0;m\u001b[0;m\u001b[0;m[done, \u001b[0;36m238.648\u001b[0;m\u001b[0;m ms : \u001b[0;36m33346\u001b[0;m\u001b[0;m points]\n",
      "\u001b[0;mAvailable dimensions: \u001b[0;36mx y z rgb label\n",
      "\u001b[1;32m> \u001b[0;mLoading \u001b[0;36m../data/mock_vel/scan00009.tile.downsample.scan00009.pcd \u001b[0;m\u001b[0;m\u001b[0;m[done, \u001b[0;36m6.79788\u001b[0;m\u001b[0;m ms : \u001b[0;36m30416\u001b[0;m\u001b[0;m points]\n",
      "\u001b[0;mAvailable dimensions: \u001b[0;36mx y z\n",
      "\u001b[1;32m> \u001b[0;mLoading \u001b[0;36m../data/mock_vel/scan00010.pcd \u001b[0;m\u001b[0;m\u001b[0;m[done, \u001b[0;36m124.828\u001b[0;m\u001b[0;m ms : \u001b[0;36m16702\u001b[0;m\u001b[0;m points]\n",
      "\u001b[0;mAvailable dimensions: \u001b[0;36mx y z rgb label\n",
      "\u001b[1;32m> \u001b[0;mLoading \u001b[0;36m../data/mock_vel/scan00010.tile.downsample.scan00010.pcd \u001b[0;m\u001b[0;m\u001b[0;m[done, \u001b[0;36m3.7816\u001b[0;m\u001b[0;m ms : \u001b[0;36m15370\u001b[0;m\u001b[0;m points]\n",
      "\u001b[0;mAvailable dimensions: \u001b[0;36mx y z\n",
      "\u001b[1;32m> \u001b[0;mLoading \u001b[0;36m../data/mock_vel/scan00011.pcd \u001b[0;m\u001b[0;m\u001b[0;m[done, \u001b[0;36m132.084\u001b[0;m\u001b[0;m ms : \u001b[0;36m17279\u001b[0;m\u001b[0;m points]\n",
      "\u001b[0;mAvailable dimensions: \u001b[0;36mx y z rgb label\n",
      "\u001b[1;32m> \u001b[0;mLoading \u001b[0;36m../data/mock_vel/scan00011.tile.downsample.scan00011.pcd \u001b[0;m\u001b[0;m\u001b[0;m[done, \u001b[0;36m4.27672\u001b[0;m\u001b[0;m ms : \u001b[0;36m15232\u001b[0;m\u001b[0;m points]\n",
      "\u001b[0;mAvailable dimensions: \u001b[0;36mx y z\n",
      "\u001b[1;32m> \u001b[0;mLoading \u001b[0;36m../data/mock_vel/scan00012.pcd \u001b[0;m\u001b[0;m\u001b[0;m[done, \u001b[0;36m212.741\u001b[0;m\u001b[0;m ms : \u001b[0;36m30830\u001b[0;m\u001b[0;m points]\n",
      "\u001b[0;mAvailable dimensions: \u001b[0;36mx y z rgb label\n",
      "\u001b[1;32m> \u001b[0;mLoading \u001b[0;36m../data/mock_vel/scan00012.tile.downsample.scan00012.pcd \u001b[0;m\u001b[0;m\u001b[0;m[done, \u001b[0;36m4.44229\u001b[0;m\u001b[0;m ms : \u001b[0;36m26564\u001b[0;m\u001b[0;m points]\n",
      "\u001b[0;mAvailable dimensions: \u001b[0;36mx y z\n",
      "\u001b[1;32m> \u001b[0;mLoading \u001b[0;36m../data/mock_vel/scan00013.pcd \u001b[0;m\u001b[0;m\u001b[0;m[done, \u001b[0;36m171.237\u001b[0;m\u001b[0;m ms : \u001b[0;36m24798\u001b[0;m\u001b[0;m points]\n",
      "\u001b[0;mAvailable dimensions: \u001b[0;36mx y z rgb label\n",
      "\u001b[1;32m> \u001b[0;mLoading \u001b[0;36m../data/mock_vel/scan00013.tile.downsample.scan00013.pcd \u001b[0;m\u001b[0;m\u001b[0;m[done, \u001b[0;36m5.29451\u001b[0;m\u001b[0;m ms : \u001b[0;36m21710\u001b[0;m\u001b[0;m points]\n",
      "\u001b[0;mAvailable dimensions: \u001b[0;36mx y z\n",
      "\u001b[1;32m> \u001b[0;mLoading \u001b[0;36m../data/mock_vel/scan00014.pcd \u001b[0;m\u001b[0;m\u001b[0;m[done, \u001b[0;36m71.3483\u001b[0;m\u001b[0;m ms : \u001b[0;36m7953\u001b[0;m\u001b[0;m points]\n",
      "\u001b[0;mAvailable dimensions: \u001b[0;36mx y z rgb label\n",
      "\u001b[1;32m> \u001b[0;mLoading \u001b[0;36m../data/mock_vel/scan00014.tile.downsample.scan00014.pcd \u001b[0;m\u001b[0;m\u001b[0;m[done, \u001b[0;36m2.08878\u001b[0;m\u001b[0;m ms : \u001b[0;36m7225\u001b[0;m\u001b[0;m points]\n",
      "\u001b[0;mAvailable dimensions: \u001b[0;36mx y z\n",
      "\u001b[1;32m> \u001b[0;mLoading \u001b[0;36m../data/mock_vel/scan00015.pcd \u001b[0;m\u001b[0;m\u001b[0;m[done, \u001b[0;36m219.454\u001b[0;m\u001b[0;m ms : \u001b[0;36m30682\u001b[0;m\u001b[0;m points]\n",
      "\u001b[0;mAvailable dimensions: \u001b[0;36mx y z rgb label\n",
      "\u001b[1;32m> \u001b[0;mLoading \u001b[0;36m../data/mock_vel/scan00015.tile.downsample.scan00015.pcd \u001b[0;m\u001b[0;m\u001b[0;m[done, \u001b[0;36m7.37775\u001b[0;m\u001b[0;m ms : \u001b[0;36m28180\u001b[0;m\u001b[0;m points]\n",
      "\u001b[0;mAvailable dimensions: \u001b[0;36mx y z\n",
      "\u001b[1;32m> \u001b[0;mLoading \u001b[0;36m../data/mock_vel/scan00016.pcd \u001b[0;m\u001b[0;m\u001b[0;m[done, \u001b[0;36m87.1377\u001b[0;m\u001b[0;m ms : \u001b[0;36m11492\u001b[0;m\u001b[0;m points]\n",
      "\u001b[0;mAvailable dimensions: \u001b[0;36mx y z rgb label\n",
      "\u001b[1;32m> \u001b[0;mLoading \u001b[0;36m../data/mock_vel/scan00016.tile.downsample.scan00016.pcd \u001b[0;m\u001b[0;m\u001b[0;m[done, \u001b[0;36m3.09942\u001b[0;m\u001b[0;m ms : \u001b[0;36m10931\u001b[0;m\u001b[0;m points]\n",
      "\u001b[0;mAvailable dimensions: \u001b[0;36mx y z\n",
      "\u001b[1;32m> \u001b[0;mLoading \u001b[0;36m../data/mock_vel/scan00017.pcd \u001b[0;m\u001b[0;m\u001b[0;m[done, \u001b[0;36m158.65\u001b[0;m\u001b[0;m ms : \u001b[0;36m19527\u001b[0;m\u001b[0;m points]\n",
      "\u001b[0;mAvailable dimensions: \u001b[0;36mx y z rgb label\n",
      "\u001b[1;32m> \u001b[0;mLoading \u001b[0;36m../data/mock_vel/scan00017.tile.downsample.scan00017.pcd \u001b[0;m\u001b[0;m\u001b[0;m[done, \u001b[0;36m5.46265\u001b[0;m\u001b[0;m ms : \u001b[0;36m19031\u001b[0;m\u001b[0;m points]\n",
      "\u001b[0;mAvailable dimensions: \u001b[0;36mx y z\n",
      "\u001b[1;32m> \u001b[0;mLoading \u001b[0;36m../data/mock_vel/scan00018.pcd \u001b[0;m\u001b[0;m\u001b[0;m[done, \u001b[0;36m144.443\u001b[0;m\u001b[0;m ms : \u001b[0;36m20128\u001b[0;m\u001b[0;m points]\n",
      "\u001b[0;mAvailable dimensions: \u001b[0;36mx y z rgb label\n",
      "\u001b[1;32m> \u001b[0;mLoading \u001b[0;36m../data/mock_vel/scan00018.tile.downsample.scan00018.pcd \u001b[0;m\u001b[0;m\u001b[0;m[done, \u001b[0;36m4.13058\u001b[0;m\u001b[0;m ms : \u001b[0;36m19872\u001b[0;m\u001b[0;m points]\n",
      "\u001b[0;mAvailable dimensions: \u001b[0;36mx y z\n",
      "\u001b[1;32m> \u001b[0;mLoading \u001b[0;36m../data/mock_vel/scan00019.pcd \u001b[0;m\u001b[0;m\u001b[0;m[done, \u001b[0;36m70.7918\u001b[0;m\u001b[0;m ms : \u001b[0;36m8124\u001b[0;m\u001b[0;m points]\n",
      "\u001b[0;mAvailable dimensions: \u001b[0;36mx y z rgb label\n",
      "\u001b[1;32m> \u001b[0;mLoading \u001b[0;36m../data/mock_vel/scan00019.tile.downsample.scan00019.pcd \u001b[0;m\u001b[0;m\u001b[0;m[done, \u001b[0;36m3.48723\u001b[0;m\u001b[0;m ms : \u001b[0;36m7910\u001b[0;m\u001b[0;m points]\n",
      "\u001b[0;mAvailable dimensions: \u001b[0;36mx y z\n",
      "\u001b[1;32m> \u001b[0;mLoading \u001b[0;36m../data/mock_vel/scan00020.pcd \u001b[0;m\u001b[0;m\u001b[0;m[done, \u001b[0;36m248.563\u001b[0;m\u001b[0;m ms : \u001b[0;36m34949\u001b[0;m\u001b[0;m points]\n",
      "\u001b[0;mAvailable dimensions: \u001b[0;36mx y z rgb label\n",
      "\u001b[1;32m> \u001b[0;mLoading \u001b[0;36m../data/mock_vel/scan00020.tile.downsample.scan00020.pcd \u001b[0;m\u001b[0;m\u001b[0;m[done, \u001b[0;36m7.69649\u001b[0;m\u001b[0;m ms : \u001b[0;36m34796\u001b[0;m\u001b[0;m points]\n",
      "\u001b[0;mAvailable dimensions: \u001b[0;36mx y z\n",
      "\u001b[1;32m> \u001b[0;mLoading \u001b[0;36m../data/mock_vel/scan00022.pcd \u001b[0;m\u001b[0;m\u001b[0;m[done, \u001b[0;36m218.527\u001b[0;m\u001b[0;m ms : \u001b[0;36m27252\u001b[0;m\u001b[0;m points]\n",
      "\u001b[0;mAvailable dimensions: \u001b[0;36mx y z rgb label\n",
      "\u001b[1;32m> \u001b[0;mLoading \u001b[0;36m../data/mock_vel/scan00022.tile.downsample.scan00022.pcd \u001b[0;m\u001b[0;m\u001b[0;m[done, \u001b[0;36m6.28626\u001b[0;m\u001b[0;m ms : \u001b[0;36m27207\u001b[0;m\u001b[0;m points]\n",
      "\u001b[0;mAvailable dimensions: \u001b[0;36mx y z\n",
      "\u001b[1;32m> \u001b[0;mLoading \u001b[0;36m../data/mock_vel/scan00024.pcd \u001b[0;m\u001b[0;m\u001b[0;m[done, \u001b[0;36m173.525\u001b[0;m\u001b[0;m ms : \u001b[0;36m21751\u001b[0;m\u001b[0;m points]\n",
      "\u001b[0;mAvailable dimensions: \u001b[0;36mx y z rgb label\n",
      "\u001b[1;32m> \u001b[0;mLoading \u001b[0;36m../data/mock_vel/scan00024.tile.downsample.scan00024.pcd \u001b[0;m\u001b[0;m\u001b[0;m[done, \u001b[0;36m5.58993\u001b[0;m\u001b[0;m ms : \u001b[0;36m21741\u001b[0;m\u001b[0;m points]\n",
      "\u001b[0;mAvailable dimensions: \u001b[0;36mx y z\n",
      "\u001b[0;m"
     ]
    }
   ],
   "source": [
    "# Check treeseg can read the output PCD files\n",
    "!pcl_viewer ../data/mock_vel/scan0*.pcd"
   ]
  },
  {
   "cell_type": "markdown",
   "metadata": {},
   "source": [
    "## Downsampling (optional)\n",
    "\n",
    "Downsampling the data is an optional step, but provides two potential benefits: i) some of the point cloud processing methods (e.g., Euclidean clustering) will provide more robust results, and ii) reduces computation. However, determining the appropriate level of downsampling is a complicated subject, requiring careful consideration (e.g., the downstream implications of downsampling, such as the impacts on above-ground biomass estimation), which is briefly discussed in the following subsection.\n",
    "\n",
    "treeseg implements two methods for downsampling, both employing octrees. The first, and the one used in this tutorial, downsample, replaces the points inside each occupied voxel (leaf-node), with a single aggregate point:\n",
    "\n",
    "```console\n",
    "downsample 0.04 NOU11.tile.*.pcd \n",
    "```\n",
    "\n",
    "Where 0.04 is the edge length of each voxel, in meters. This will output a downsampled point cloud for each input point cloud, e.g., NOU11.tile.downsample.342.pcd, whose point count has reduced by approximately 92% when compared to its original counterpart.\n",
    "\n",
    "The alternative approach, thin, preserves the original data, rather than replacing it, by keeping the original point in each voxel that is closest to the would-be aggregate point. This might be useful when additional point fields are parsed (e.g., reflectance), and their aggregation would not make sense. thin can be similarly called as:\n",
    "\n",
    "```console\n",
    "thin 0.04 NOU11.tile.*.pcd \n",
    "```\n",
    "\n",
    "![Drag Racing](../images/downsampling.png)\n"
   ]
  },
  {
   "cell_type": "markdown",
   "metadata": {},
   "source": [
    "For our example using the mock up point cloud data, we need to do the downsampling in order to further steeps works."
   ]
  },
  {
   "cell_type": "code",
   "execution_count": 158,
   "metadata": {},
   "outputs": [],
   "source": [
    "!downsample 0.04 ../data/mock_vel/scan0*.pcd\n",
    "!mv scan*.tile.downsample.scan0*.pcd ../data/mock_vel/"
   ]
  },
  {
   "cell_type": "code",
   "execution_count": 159,
   "metadata": {
    "collapsed": true,
    "jupyter": {
     "outputs_hidden": true
    },
    "tags": []
   },
   "outputs": [
    {
     "name": "stdout",
     "output_type": "stream",
     "text": [
      "\u001b[0;mThe viewer window provides interactive commands; for help, press 'h' or 'H' from within the window.\n",
      "\u001b[1;32m> \u001b[0;mLoading \u001b[0;36m../data/mock_vel/scan00000.tile.downsample.scan00000.pcd \u001b[0;m\u001b[1;33m[PCLVisualizer::setUseVbos] Has no effect when OpenGL version is ≥ 2\n",
      "\u001b[0;m\u001b[0;m[done, \u001b[0;36m793.111\u001b[0;m\u001b[0;m ms : \u001b[0;36m16767\u001b[0;m\u001b[0;m points]\n",
      "\u001b[0;mAvailable dimensions: \u001b[0;36mx y z\n",
      "\u001b[1;32m> \u001b[0;mLoading \u001b[0;36m../data/mock_vel/scan00002.tile.downsample.scan00002.pcd \u001b[0;m\u001b[0;m\u001b[0;m[done, \u001b[0;36m31.0695\u001b[0;m\u001b[0;m ms : \u001b[0;36m25980\u001b[0;m\u001b[0;m points]\n",
      "\u001b[0;mAvailable dimensions: \u001b[0;36mx y z\n",
      "\u001b[1;32m> \u001b[0;mLoading \u001b[0;36m../data/mock_vel/scan00004.tile.downsample.scan00004.pcd \u001b[0;m\u001b[0;m\u001b[0;m[done, \u001b[0;36m46.7914\u001b[0;m\u001b[0;m ms : \u001b[0;36m33737\u001b[0;m\u001b[0;m points]\n",
      "\u001b[0;mAvailable dimensions: \u001b[0;36mx y z\n",
      "\u001b[1;32m> \u001b[0;mLoading \u001b[0;36m../data/mock_vel/scan00005.tile.downsample.scan00005.pcd \u001b[0;m\u001b[0;m\u001b[0;m[done, \u001b[0;36m20.0838\u001b[0;m\u001b[0;m ms : \u001b[0;36m3887\u001b[0;m\u001b[0;m points]\n",
      "\u001b[0;mAvailable dimensions: \u001b[0;36mx y z\n",
      "\u001b[1;32m> \u001b[0;mLoading \u001b[0;36m../data/mock_vel/scan00006.tile.downsample.scan00006.pcd \u001b[0;m\u001b[0;m\u001b[0;m[done, \u001b[0;36m15.6657\u001b[0;m\u001b[0;m ms : \u001b[0;36m12473\u001b[0;m\u001b[0;m points]\n",
      "\u001b[0;mAvailable dimensions: \u001b[0;36mx y z\n",
      "\u001b[1;32m> \u001b[0;mLoading \u001b[0;36m../data/mock_vel/scan00007.tile.downsample.scan00007.pcd \u001b[0;m\u001b[0;m\u001b[0;m[done, \u001b[0;36m39.2991\u001b[0;m\u001b[0;m ms : \u001b[0;36m39745\u001b[0;m\u001b[0;m points]\n",
      "\u001b[0;mAvailable dimensions: \u001b[0;36mx y z\n",
      "\u001b[1;32m> \u001b[0;mLoading \u001b[0;36m../data/mock_vel/scan00008.tile.downsample.scan00008.pcd \u001b[0;m\u001b[0;m\u001b[0;m[done, \u001b[0;36m3.30125\u001b[0;m\u001b[0;m ms : \u001b[0;36m925\u001b[0;m\u001b[0;m points]\n",
      "\u001b[0;mAvailable dimensions: \u001b[0;36mx y z\n",
      "\u001b[1;32m> \u001b[0;mLoading \u001b[0;36m../data/mock_vel/scan00009.tile.downsample.scan00009.pcd \u001b[0;m\u001b[0;m\u001b[0;m[done, \u001b[0;36m25.1198\u001b[0;m\u001b[0;m ms : \u001b[0;36m30416\u001b[0;m\u001b[0;m points]\n",
      "\u001b[0;mAvailable dimensions: \u001b[0;36mx y z\n",
      "\u001b[1;32m> \u001b[0;mLoading \u001b[0;36m../data/mock_vel/scan00010.tile.downsample.scan00010.pcd \u001b[0;m\u001b[0;m\u001b[0;m[done, \u001b[0;36m11.7769\u001b[0;m\u001b[0;m ms : \u001b[0;36m15370\u001b[0;m\u001b[0;m points]\n",
      "\u001b[0;mAvailable dimensions: \u001b[0;36mx y z\n",
      "\u001b[1;32m> \u001b[0;mLoading \u001b[0;36m../data/mock_vel/scan00011.tile.downsample.scan00011.pcd \u001b[0;m\u001b[0;m\u001b[0;m[done, \u001b[0;36m19.295\u001b[0;m\u001b[0;m ms : \u001b[0;36m15232\u001b[0;m\u001b[0;m points]\n",
      "\u001b[0;mAvailable dimensions: \u001b[0;36mx y z\n",
      "\u001b[1;32m> \u001b[0;mLoading \u001b[0;36m../data/mock_vel/scan00012.tile.downsample.scan00012.pcd \u001b[0;m\u001b[0;m\u001b[0;m[done, \u001b[0;36m7.51628\u001b[0;m\u001b[0;m ms : \u001b[0;36m26564\u001b[0;m\u001b[0;m points]\n",
      "\u001b[0;mAvailable dimensions: \u001b[0;36mx y z\n",
      "\u001b[1;32m> \u001b[0;mLoading \u001b[0;36m../data/mock_vel/scan00013.tile.downsample.scan00013.pcd \u001b[0;m\u001b[0;m\u001b[0;m[done, \u001b[0;36m8.54616\u001b[0;m\u001b[0;m ms : \u001b[0;36m21710\u001b[0;m\u001b[0;m points]\n",
      "\u001b[0;mAvailable dimensions: \u001b[0;36mx y z\n",
      "\u001b[1;32m> \u001b[0;mLoading \u001b[0;36m../data/mock_vel/scan00014.tile.downsample.scan00014.pcd \u001b[0;m\u001b[0;m\u001b[0;m[done, \u001b[0;36m3.73527\u001b[0;m\u001b[0;m ms : \u001b[0;36m7225\u001b[0;m\u001b[0;m points]\n",
      "\u001b[0;mAvailable dimensions: \u001b[0;36mx y z\n",
      "\u001b[1;32m> \u001b[0;mLoading \u001b[0;36m../data/mock_vel/scan00015.tile.downsample.scan00015.pcd \u001b[0;m\u001b[0;m\u001b[0;m[done, \u001b[0;36m26.0631\u001b[0;m\u001b[0;m ms : \u001b[0;36m28180\u001b[0;m\u001b[0;m points]\n",
      "\u001b[0;mAvailable dimensions: \u001b[0;36mx y z\n",
      "\u001b[1;32m> \u001b[0;mLoading \u001b[0;36m../data/mock_vel/scan00016.tile.downsample.scan00016.pcd \u001b[0;m\u001b[0;m\u001b[0;m[done, \u001b[0;36m5.39905\u001b[0;m\u001b[0;m ms : \u001b[0;36m10931\u001b[0;m\u001b[0;m points]\n",
      "\u001b[0;mAvailable dimensions: \u001b[0;36mx y z\n",
      "\u001b[1;32m> \u001b[0;mLoading \u001b[0;36m../data/mock_vel/scan00017.tile.downsample.scan00017.pcd \u001b[0;m\u001b[0;m\u001b[0;m[done, \u001b[0;36m11.0815\u001b[0;m\u001b[0;m ms : \u001b[0;36m19031\u001b[0;m\u001b[0;m points]\n",
      "\u001b[0;mAvailable dimensions: \u001b[0;36mx y z\n",
      "\u001b[1;32m> \u001b[0;mLoading \u001b[0;36m../data/mock_vel/scan00018.tile.downsample.scan00018.pcd \u001b[0;m\u001b[0;m\u001b[0;m[done, \u001b[0;36m11.6349\u001b[0;m\u001b[0;m ms : \u001b[0;36m19872\u001b[0;m\u001b[0;m points]\n",
      "\u001b[0;mAvailable dimensions: \u001b[0;36mx y z\n",
      "\u001b[1;32m> \u001b[0;mLoading \u001b[0;36m../data/mock_vel/scan00019.tile.downsample.scan00019.pcd \u001b[0;m\u001b[0;m\u001b[0;m[done, \u001b[0;36m8.94039\u001b[0;m\u001b[0;m ms : \u001b[0;36m7910\u001b[0;m\u001b[0;m points]\n",
      "\u001b[0;mAvailable dimensions: \u001b[0;36mx y z\n",
      "\u001b[1;32m> \u001b[0;mLoading \u001b[0;36m../data/mock_vel/scan00020.tile.downsample.scan00020.pcd \u001b[0;m\u001b[0;m\u001b[0;m[done, \u001b[0;36m15.6875\u001b[0;m\u001b[0;m ms : \u001b[0;36m34796\u001b[0;m\u001b[0;m points]\n",
      "\u001b[0;mAvailable dimensions: \u001b[0;36mx y z\n",
      "\u001b[1;32m> \u001b[0;mLoading \u001b[0;36m../data/mock_vel/scan00022.tile.downsample.scan00022.pcd \u001b[0;m\u001b[0;m\u001b[0;m[done, \u001b[0;36m12.4977\u001b[0;m\u001b[0;m ms : \u001b[0;36m27207\u001b[0;m\u001b[0;m points]\n",
      "\u001b[0;mAvailable dimensions: \u001b[0;36mx y z\n",
      "\u001b[1;32m> \u001b[0;mLoading \u001b[0;36m../data/mock_vel/scan00024.tile.downsample.scan00024.pcd \u001b[0;m\u001b[0;m\u001b[0;m[done, \u001b[0;36m7.89909\u001b[0;m\u001b[0;m ms : \u001b[0;36m21741\u001b[0;m\u001b[0;m points]\n",
      "\u001b[0;mAvailable dimensions: \u001b[0;36mx y z\n",
      "\u001b[0;m"
     ]
    }
   ],
   "source": [
    "!pcl_viewer ../data/mock_vel/scan0*.tile.downsample.scan0*.pcd"
   ]
  },
  {
   "cell_type": "markdown",
   "metadata": {},
   "source": [
    "## Digital terrain model (DTM)\n",
    "\n",
    "The first principal step of treeseg is to identify the individual trees in the larger-area point cloud. This identification is undertaken on a slice segmented from the larger-area point cloud along the xy-plane. To generate this slice at some defined height above-ground whilst adjusting for topography, it is necessary to construct an underlying digital terrain model (DTM). Both this DTM, and the slice can be generated using:\n",
    "\n",
    "```console\n",
    "!getdtmslice 2 2.5 0.1 10 ../data/mock/scan*.tile.downsample.scan*.pcd > ../data/mock/scan.dtm.dat\n",
    "```\n",
    "\n",
    "Where the inputs are: 1) the resolution of the DTM (m), 2) the percentile of the z-coordinates of the points inside each DTM grid which is considered to constitute the ground (this is used, rather than the absolute minimum, to provide more robust results in noisy point clouds), 3) the minimum height of the slice above-ground (m), 4) the maximum height of the slice above-ground (m), and 5) the downsampled tiles constituting the larger-area point cloud.\n",
    "\n"
   ]
  },
  {
   "cell_type": "code",
   "execution_count": 8,
   "metadata": {
    "collapsed": true,
    "jupyter": {
     "outputs_hidden": true
    },
    "tags": []
   },
   "outputs": [
    {
     "name": "stdout",
     "output_type": "stream",
     "text": [
      "../data/mock_vel/scan00000.tile.downsample.scan00000.pcd\n",
      "../data/mock_vel/scan00002.tile.downsample.scan00002.pcd\n",
      "../data/mock_vel/scan00004.tile.downsample.scan00004.pcd\n",
      "../data/mock_vel/scan00005.tile.downsample.scan00005.pcd\n",
      "../data/mock_vel/scan00006.tile.downsample.scan00006.pcd\n",
      "../data/mock_vel/scan00007.tile.downsample.scan00007.pcd\n",
      "../data/mock_vel/scan00008.tile.downsample.scan00008.pcd\n",
      "../data/mock_vel/scan00009.tile.downsample.scan00009.pcd\n",
      "../data/mock_vel/scan00010.tile.downsample.scan00010.pcd\n",
      "../data/mock_vel/scan00011.tile.downsample.scan00011.pcd\n",
      "../data/mock_vel/scan00012.tile.downsample.scan00012.pcd\n",
      "../data/mock_vel/scan00013.tile.downsample.scan00013.pcd\n",
      "../data/mock_vel/scan00014.tile.downsample.scan00014.pcd\n",
      "../data/mock_vel/scan00015.tile.downsample.scan00015.pcd\n",
      "../data/mock_vel/scan00016.tile.downsample.scan00016.pcd\n",
      "../data/mock_vel/scan00017.tile.downsample.scan00017.pcd\n",
      "../data/mock_vel/scan00018.tile.downsample.scan00018.pcd\n",
      "../data/mock_vel/scan00019.tile.downsample.scan00019.pcd\n",
      "../data/mock_vel/scan00020.tile.downsample.scan00020.pcd\n",
      "../data/mock_vel/scan00022.tile.downsample.scan00022.pcd\n",
      "../data/mock_vel/scan00024.tile.downsample.scan00024.pcd\n"
     ]
    }
   ],
   "source": [
    "!ls ../data/mock_vel/scan0*.tile.downsample.scan0*.pcd"
   ]
  },
  {
   "cell_type": "code",
   "execution_count": 275,
   "metadata": {},
   "outputs": [],
   "source": [
    "!getdtmslice 2 2 0.1 2.5 ../data/mock_vel/scan0*.tile.downsample.scan0*.pcd > ../data/mock_vel/scan.dtm.dat"
   ]
  },
  {
   "cell_type": "code",
   "execution_count": 276,
   "metadata": {},
   "outputs": [],
   "source": [
    "!mv scan0*.slice.pcd ../data/mock_vel/"
   ]
  },
  {
   "cell_type": "code",
   "execution_count": 277,
   "metadata": {},
   "outputs": [
    {
     "name": "stdout",
     "output_type": "stream",
     "text": [
      "../data/mock_vel/scan00000.slice.pcd\n"
     ]
    }
   ],
   "source": [
    "!ls ../data/mock_vel/scan0*.slice.pcd"
   ]
  },
  {
   "cell_type": "code",
   "execution_count": 278,
   "metadata": {},
   "outputs": [
    {
     "name": "stdout",
     "output_type": "stream",
     "text": [
      "\u001b[0;mThe viewer window provides interactive commands; for help, press 'h' or 'H' from within the window.\n",
      "\u001b[1;32m> \u001b[0;mLoading \u001b[0;36m../data/mock_vel/scan00000.slice.pcd \u001b[0;m\u001b[1;33m[PCLVisualizer::setUseVbos] Has no effect when OpenGL version is ≥ 2\n",
      "\u001b[0;m\u001b[0;m[done, \u001b[0;36m296.737\u001b[0;m\u001b[0;m ms : \u001b[0;36m8971\u001b[0;m\u001b[0;m points]\n",
      "\u001b[0;mAvailable dimensions: \u001b[0;36mx y z\n",
      "\u001b[0;m"
     ]
    }
   ],
   "source": [
    "!pcl_viewer ../data/mock_vel/scan0*.slice.pcd"
   ]
  },
  {
   "cell_type": "markdown",
   "metadata": {},
   "source": [
    "## Identifying the stems\n",
    "\n",
    "Individual tree stems are then identified in this slice across the larger-area point cloud through four steps:\n",
    "\n",
    "Euclidean clustering: the slice is organised into individual clusters, based on the spatial distances between points.\n",
    "Region-based segmentation: these clusters are further reduced to regions, based on the properties of their underlying surfaces (themselves inferred from point normals).\n",
    "Shape fitting: RANSAC methods are used to fit cylinders to each region, and fit diagnostics are used to determine the likelihood of the underlying surface being a stem.\n",
    "Principal component analysis: the angle between the principal components of each region and the ground are calculated, with regions broadly perpendicular to the ground deemed to be stems.\n",
    "These steps are implemented in the findstems executable, which can be called:\n",
    "\n",
    "```console\n",
    "\n",
    "```"
   ]
  },
  {
   "cell_type": "code",
   "execution_count": 140,
   "metadata": {},
   "outputs": [],
   "source": [
    "#\n",
    "files = {}\n",
    "\n",
    "for file in glob.glob(os.path.join(datapath, 'scan0*.pcd')):\n",
    "    pcd_load = o3d.io.read_point_cloud(file)\n",
    "    # convert Open3D.o3d.geometry.PointCloud to numpy array\n",
    "    xyz_load = np.asarray(pcd_load.points)\n",
    "    files[file.split('/')[-1]] = xyz_load\n",
    "\n",
    "# concatenate all data\n",
    "df = np.concatenate(list(files.values()))\n",
    "df.shape\n",
    "\n",
    "pcds = pd.DataFrame(df, columns=['x', 'y', 'z'])\n",
    "pcds\n",
    "\n",
    "# plt.figure(figsize=(15,5))\n",
    "# for num, (key, val) in enumerate(pcds.items()):\n",
    "#     plt.subplot(1,3,num+1)\n",
    "#     plt.hist(val, 80, label=key)"
   ]
  },
  {
   "cell_type": "code",
   "execution_count": 157,
   "metadata": {},
   "outputs": [
    {
     "name": "stdout",
     "output_type": "stream",
     "text": [
      "-29.999813 29.999863 -29.999989 29.999897\n"
     ]
    }
   ],
   "source": [
    "xmin, xmax = pcds['x'].min(), pcds['x'].max()\n",
    "ymin, ymax = pcds['y'].min(), pcds['y'].max()\n",
    "print(xmin, xmax, ymin, ymax)\n",
    "np.savetxt(os.path.join(datapath, 'scan.coords.dat'), [xmin, xmax, ymin, ymax], fmt='%.2f', delimiter='\\s')"
   ]
  },
  {
   "cell_type": "code",
   "execution_count": 284,
   "metadata": {},
   "outputs": [
    {
     "name": "stdout",
     "output_type": "stream",
     "text": [
      "Reading slice: complete\n",
      "Cluster extraction: scan00000.intermediate.slice.clusters.pcd | 24\n",
      "Region-based segmentation: scan00000.intermediate.slice.clusters.regions.pcd | 24\n",
      "RANSAC cylinder fits: libc++abi.dylib: terminating with uncaught exception of type pcl::IOException: : [pcl::PCDWriter::writeBinary] Input point cloud has no data!\n"
     ]
    }
   ],
   "source": [
    "!findstems 35 0.1 0.5 ../data/mock_vel/scan.coords.dat ../data/mock_vel/scan0*.slice.pcd\n",
    "# ../data/mock_vel/scan0*.tile.downsample.slice.pcd"
   ]
  },
  {
   "cell_type": "code",
   "execution_count": 9,
   "metadata": {},
   "outputs": [
    {
     "name": "stdout",
     "output_type": "stream",
     "text": [
      "\u001b[0;mThe viewer window provides interactive commands; for help, press 'h' or 'H' from within the window.\n",
      "\u001b[1;32m> \u001b[0;mLoading \u001b[0;36mscan00000.cluster.0.pcd \u001b[0;m\u001b[1;33m[PCLVisualizer::setUseVbos] Has no effect when OpenGL version is ≥ 2\n",
      "\u001b[0;m\u001b[0;m[done, \u001b[0;36m546.594\u001b[0;m\u001b[0;m ms : \u001b[0;36m544\u001b[0;m\u001b[0;m points]\n",
      "\u001b[0;mAvailable dimensions: \u001b[0;36mx y z\n",
      "\u001b[0;m"
     ]
    }
   ],
   "source": [
    "!pcl_viewer scan0*.cluster.*.pcd"
   ]
  },
  {
   "cell_type": "code",
   "execution_count": 84,
   "metadata": {},
   "outputs": [
    {
     "name": "stdout",
     "output_type": "stream",
     "text": [
      "\u001b[0;mThe viewer window provides interactive commands; for help, press 'h' or 'H' from within the window.\n",
      "\u001b[1;32m> \u001b[0;mLoading \u001b[0;36mscan00000.intermediate.slice.clusters.regions.cylinders.pcd \u001b[0;m\u001b[1;33m[PCLVisualizer::setUseVbos] Has no effect when OpenGL version is ≥ 2\n",
      "\u001b[0;m\u001b[0;m[done, \u001b[0;36m274.07\u001b[0;m\u001b[0;m ms : \u001b[0;36m655\u001b[0;m\u001b[0;m points]\n",
      "\u001b[0;mAvailable dimensions: \u001b[0;36mx y z rgb\n",
      "\u001b[0;m"
     ]
    }
   ],
   "source": [
    "!pcl_viewer scan0*.intermediate.slice.clusters.regions.cylinders.pcd"
   ]
  },
  {
   "cell_type": "code",
   "execution_count": 85,
   "metadata": {},
   "outputs": [
    {
     "name": "stdout",
     "output_type": "stream",
     "text": [
      "\u001b[0;mThe viewer window provides interactive commands; for help, press 'h' or 'H' from within the window.\n",
      "\u001b[1;32m> \u001b[0;mLoading \u001b[0;36mscan00000.intermediate.slice.clusters.regions.cylinders.principal.pcd \u001b[0;m\u001b[1;33m[PCLVisualizer::setUseVbos] Has no effect when OpenGL version is ≥ 2\n",
      "\u001b[0;m\u001b[0;m[done, \u001b[0;36m214.624\u001b[0;m\u001b[0;m ms : \u001b[0;36m655\u001b[0;m\u001b[0;m points]\n",
      "\u001b[0;mAvailable dimensions: \u001b[0;36mx y z rgb\n",
      "\u001b[0;m"
     ]
    }
   ],
   "source": [
    "!pcl_viewer scan0*.intermediate.slice.clusters.regions.cylinders.principal.pcd"
   ]
  },
  {
   "cell_type": "code",
   "execution_count": 86,
   "metadata": {},
   "outputs": [
    {
     "name": "stdout",
     "output_type": "stream",
     "text": [
      "\u001b[0;mThe viewer window provides interactive commands; for help, press 'h' or 'H' from within the window.\n",
      "\u001b[1;32m> \u001b[0;mLoading \u001b[0;36mscan00000.intermediate.slice.clusters.regions.cylinders.principal.cat.pcd \u001b[0;m\u001b[1;33m[PCLVisualizer::setUseVbos] Has no effect when OpenGL version is ≥ 2\n",
      "\u001b[0;m\u001b[0;m[done, \u001b[0;36m213.516\u001b[0;m\u001b[0;m ms : \u001b[0;36m655\u001b[0;m\u001b[0;m points]\n",
      "\u001b[0;mAvailable dimensions: \u001b[0;36mx y z rgb\n",
      "\u001b[0;m"
     ]
    }
   ],
   "source": [
    "!pcl_viewer scan0*.intermediate.slice.clusters.regions.cylinders.principal.cat.pcd"
   ]
  },
  {
   "cell_type": "code",
   "execution_count": 10,
   "metadata": {},
   "outputs": [
    {
     "name": "stdout",
     "output_type": "stream",
     "text": [
      "\u001b[0;mThe viewer window provides interactive commands; for help, press 'h' or 'H' from within the window.\n",
      "\u001b[1;32m> \u001b[0;mLoading \u001b[0;36mscan00000.intermediate.slice.clusters.pcd \u001b[0;m\u001b[1;33m[PCLVisualizer::setUseVbos] Has no effect when OpenGL version is ≥ 2\n",
      "\u001b[0;m\u001b[0;m[done, \u001b[0;36m213.145\u001b[0;m\u001b[0;m ms : \u001b[0;36m5801\u001b[0;m\u001b[0;m points]\n",
      "\u001b[0;mAvailable dimensions: \u001b[0;36mx y z rgb\n",
      "\u001b[0;m"
     ]
    }
   ],
   "source": [
    "!pcl_viewer scan0*.intermediate.slice.clusters.pcd"
   ]
  },
  {
   "cell_type": "code",
   "execution_count": 274,
   "metadata": {},
   "outputs": [
    {
     "name": "stdout",
     "output_type": "stream",
     "text": [
      "\u001b[0;mThe viewer window provides interactive commands; for help, press 'h' or 'H' from within the window.\n",
      "\u001b[1;32m> \u001b[0;mLoading \u001b[0;36mscan00000.intermediate.slice.clusters.regions.pcd \u001b[0;m\u001b[1;33m[PCLVisualizer::setUseVbos] Has no effect when OpenGL version is ≥ 2\n",
      "\u001b[0;m\u001b[0;m[done, \u001b[0;36m206.012\u001b[0;m\u001b[0;m ms : \u001b[0;36m6385\u001b[0;m\u001b[0;m points]\n",
      "\u001b[0;mAvailable dimensions: \u001b[0;36mx y z rgb\n",
      "\u001b[0;m"
     ]
    }
   ],
   "source": [
    "!pcl_viewer scan0*.intermediate.slice.clusters.regions.pcd"
   ]
  },
  {
   "cell_type": "code",
   "execution_count": null,
   "metadata": {},
   "outputs": [],
   "source": []
  }
 ],
 "metadata": {
  "kernelspec": {
   "display_name": "plant-env",
   "language": "python",
   "name": "plant-env"
  },
  "language_info": {
   "codemirror_mode": {
    "name": "ipython",
    "version": 3
   },
   "file_extension": ".py",
   "mimetype": "text/x-python",
   "name": "python",
   "nbconvert_exporter": "python",
   "pygments_lexer": "ipython3",
   "version": "3.9.6"
  },
  "toc-autonumbering": false,
  "toc-showcode": true,
  "toc-showmarkdowntxt": true,
  "toc-showtags": false
 },
 "nbformat": 4,
 "nbformat_minor": 4
}
