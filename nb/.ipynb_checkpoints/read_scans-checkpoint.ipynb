{
 "cells": [
  {
   "cell_type": "code",
   "execution_count": 18,
   "metadata": {},
   "outputs": [],
   "source": [
    "import numpy as np\n",
    "import pandas as pd\n",
    "import matplotlib.pyplot as plt\n",
    "import open3d as o3d\n",
    "import os, sys, glob"
   ]
  },
  {
   "cell_type": "markdown",
   "metadata": {
    "slideshow": {
     "slide_type": "slide"
    },
    "tags": []
   },
   "source": [
    "# Part1: introduction to LAI retrieve methods from TLS data"
   ]
  },
  {
   "cell_type": "markdown",
   "metadata": {
    "slideshow": {
     "slide_type": "subslide"
    },
    "tags": []
   },
   "source": [
    "# Introduction\n",
    "\n",
    "The Leaf Area Index (`LAI`) is defined as one half the total green leaf area per unit ground surface area. It is listed as an essential climate variable by the global climate change research community (GCOS) and\n",
    "is a critical variable in processes such as photosynthesis, respiration, and interception.\n",
    "\n",
    "Active light detection and ranging (`LiDAR`) technology has been widely used to estimate vegetation LAI. \n",
    "\n",
    "In this work we focuse on Terrestrial laser scanning (`TLS`) data that can be used to effectively estimate the LAI. `TLS` come in discrete (Point Cloud) and full waveform returns. We will focus only on point cloud data returns."
   ]
  },
  {
   "cell_type": "markdown",
   "metadata": {},
   "source": [
    "# LAI retrieve methods\n",
    "\n",
    "There are four main methods to estimate the LAI.\n",
    "\n",
    "<img src=\"../images/lai_methods.png\" width=\"800\">"
   ]
  },
  {
   "cell_type": "markdown",
   "metadata": {},
   "source": [
    "# Gap-Based\n",
    "\n",
    "The gap-based methods follows the gap fraction and the theoretical basis is the `Beer-Lambert law`,\n",
    "\n",
    "$$P(\\theta) = e^{-G(\\theta)\\cdot\\textrm{LAI}/\\cos(\\theta)}$$,\n",
    "\n",
    "where $P(\\theta)$ is the canopy gap fraction at zenith angle $\\theta$. Then, the light attenuation in vegetation canopies can be represented by the light extinction as a funciton of the LAI.\n",
    "\n",
    "$$\\textrm{LAI} = -\\frac{1}{k}\\ln(I/I_{0})$$,\n",
    "\n",
    "where $I$ is the below-canopy light intensity, $I_{0}$ is the above-canopy light intensity, $k$ is the extinction coefficient. $I/I_{0}$ is the fraction of light transmitted through the canopy, and since this cannot be derived from LiDAR data, there's various Laser Penetration Metrics (`LPM`) used as proxies to estimate this quantity. For point cloud data, the LPM can be calculated as the ratio of the number of ground returns to the number of total returns,\n",
    "\n",
    "$$\\frac{N_{ground}}{N_{total}}$$."
   ]
  },
  {
   "cell_type": "markdown",
   "metadata": {},
   "source": [
    "# Data processing\n",
    "\n",
    "Either of the LAI retrieve methods mentioned above follow a similar data processing structure.\n",
    "\n",
    "* Registration\n",
    "* Noise removal\n",
    "* Ground filtering\n",
    "-----\n"
   ]
  },
  {
   "cell_type": "code",
   "execution_count": null,
   "metadata": {},
   "outputs": [],
   "source": []
  },
  {
   "cell_type": "markdown",
   "metadata": {},
   "source": [
    "# LAI gap-based retrieve method for Point Clouds\n",
    "\n",
    "The structure that follows this method is:\n",
    "\n",
    "1) Registration\n",
    "2) Noise removal\n",
    "3) Downsampling\n",
    "4) Digital terrain model (DTM)\n",
    "\n",
    "Since we are working with a mock up point cloud model, steps `1` and `2` are ignored.\n"
   ]
  },
  {
   "cell_type": "markdown",
   "metadata": {},
   "source": [
    "## The point cloud data from blensor\n",
    "\n",
    "<span style=\"color:red\">add details of the scanning such as coordinates of the cammera, field of view, etc.</span>\n",
    "\n",
    "<span style=\"color:red\">add the columns that blensor pass to the output numpy file.</span>\n",
    "\n",
    "<span style=\"color:red\">add an screenshot of the scan from bensor to see how the point cloud looks like.</span>"
   ]
  },
  {
   "cell_type": "code",
   "execution_count": 2,
   "metadata": {},
   "outputs": [],
   "source": [
    "# define the path of the data stored\n",
    "datapath = '../data/mock'"
   ]
  },
  {
   "cell_type": "code",
   "execution_count": 22,
   "metadata": {},
   "outputs": [
    {
     "data": {
      "text/plain": [
       "'scan1000000.numpy'"
      ]
     },
     "execution_count": 22,
     "metadata": {},
     "output_type": "execute_result"
    }
   ],
   "source": [
    "'../data/mock/scan1000000.numpy'.split('/')[-1]"
   ]
  },
  {
   "cell_type": "code",
   "execution_count": 23,
   "metadata": {},
   "outputs": [],
   "source": [
    "# \n",
    "files = {}\n",
    "for file in glob.glob(os.path.join(datapath, 'scan*0.numpy')):\n",
    "    files[file.split('/')[-1]] = np.loadtxt(file)"
   ]
  },
  {
   "cell_type": "code",
   "execution_count": 31,
   "metadata": {},
   "outputs": [],
   "source": [
    "df = np.concatenate(list(files.values()))\n",
    "df.shape"
   ]
  },
  {
   "cell_type": "code",
   "execution_count": 35,
   "metadata": {},
   "outputs": [
    {
     "data": {
      "text/html": [
       "<div>\n",
       "<style scoped>\n",
       "    .dataframe tbody tr th:only-of-type {\n",
       "        vertical-align: middle;\n",
       "    }\n",
       "\n",
       "    .dataframe tbody tr th {\n",
       "        vertical-align: top;\n",
       "    }\n",
       "\n",
       "    .dataframe thead th {\n",
       "        text-align: right;\n",
       "    }\n",
       "</style>\n",
       "<table border=\"1\" class=\"dataframe\">\n",
       "  <thead>\n",
       "    <tr style=\"text-align: right;\">\n",
       "      <th></th>\n",
       "      <th>timestamp</th>\n",
       "      <th>yaw</th>\n",
       "      <th>pitch</th>\n",
       "      <th>distance</th>\n",
       "      <th>distance_noise</th>\n",
       "      <th>x</th>\n",
       "      <th>y</th>\n",
       "      <th>z</th>\n",
       "      <th>x_noise</th>\n",
       "      <th>y_noise</th>\n",
       "      <th>z_noise</th>\n",
       "      <th>object_id</th>\n",
       "      <th>color0</th>\n",
       "      <th>color1</th>\n",
       "      <th>color2</th>\n",
       "      <th>idx</th>\n",
       "    </tr>\n",
       "  </thead>\n",
       "  <tbody>\n",
       "    <tr>\n",
       "      <th>0</th>\n",
       "      <td>0.0</td>\n",
       "      <td>2.748894</td>\n",
       "      <td>-0.392699</td>\n",
       "      <td>21.193064</td>\n",
       "      <td>21.183142</td>\n",
       "      <td>-4.776694</td>\n",
       "      <td>5.074542</td>\n",
       "      <td>1.713436</td>\n",
       "      <td>-4.773148</td>\n",
       "      <td>5.070996</td>\n",
       "      <td>1.721998</td>\n",
       "      <td>1.701147e+09</td>\n",
       "      <td>204.0</td>\n",
       "      <td>204.0</td>\n",
       "      <td>204.0</td>\n",
       "      <td>0.0</td>\n",
       "    </tr>\n",
       "    <tr>\n",
       "      <th>1</th>\n",
       "      <td>0.0</td>\n",
       "      <td>2.748894</td>\n",
       "      <td>-0.390340</td>\n",
       "      <td>21.484621</td>\n",
       "      <td>21.480205</td>\n",
       "      <td>-4.836189</td>\n",
       "      <td>5.185272</td>\n",
       "      <td>1.446110</td>\n",
       "      <td>-4.834620</td>\n",
       "      <td>5.183692</td>\n",
       "      <td>1.449924</td>\n",
       "      <td>1.701147e+09</td>\n",
       "      <td>204.0</td>\n",
       "      <td>204.0</td>\n",
       "      <td>204.0</td>\n",
       "      <td>1.0</td>\n",
       "    </tr>\n",
       "    <tr>\n",
       "      <th>2</th>\n",
       "      <td>0.0</td>\n",
       "      <td>2.748894</td>\n",
       "      <td>-0.387976</td>\n",
       "      <td>23.139582</td>\n",
       "      <td>23.138709</td>\n",
       "      <td>-5.375964</td>\n",
       "      <td>5.784267</td>\n",
       "      <td>0.000006</td>\n",
       "      <td>-5.375656</td>\n",
       "      <td>5.783955</td>\n",
       "      <td>0.000761</td>\n",
       "      <td>1.851878e+09</td>\n",
       "      <td>204.0</td>\n",
       "      <td>204.0</td>\n",
       "      <td>204.0</td>\n",
       "      <td>2.0</td>\n",
       "    </tr>\n",
       "    <tr>\n",
       "      <th>3</th>\n",
       "      <td>0.0</td>\n",
       "      <td>2.748894</td>\n",
       "      <td>-0.385607</td>\n",
       "      <td>23.120134</td>\n",
       "      <td>23.124892</td>\n",
       "      <td>-5.320735</td>\n",
       "      <td>5.784269</td>\n",
       "      <td>0.000004</td>\n",
       "      <td>-5.322406</td>\n",
       "      <td>5.785973</td>\n",
       "      <td>-0.004112</td>\n",
       "      <td>1.851878e+09</td>\n",
       "      <td>204.0</td>\n",
       "      <td>204.0</td>\n",
       "      <td>204.0</td>\n",
       "      <td>3.0</td>\n",
       "    </tr>\n",
       "    <tr>\n",
       "      <th>4</th>\n",
       "      <td>0.0</td>\n",
       "      <td>2.748894</td>\n",
       "      <td>-0.383234</td>\n",
       "      <td>23.100800</td>\n",
       "      <td>23.103570</td>\n",
       "      <td>-5.265508</td>\n",
       "      <td>5.784270</td>\n",
       "      <td>0.000004</td>\n",
       "      <td>-5.266475</td>\n",
       "      <td>5.785263</td>\n",
       "      <td>-0.002396</td>\n",
       "      <td>1.851878e+09</td>\n",
       "      <td>204.0</td>\n",
       "      <td>204.0</td>\n",
       "      <td>204.0</td>\n",
       "      <td>4.0</td>\n",
       "    </tr>\n",
       "    <tr>\n",
       "      <th>...</th>\n",
       "      <td>...</td>\n",
       "      <td>...</td>\n",
       "      <td>...</td>\n",
       "      <td>...</td>\n",
       "      <td>...</td>\n",
       "      <td>...</td>\n",
       "      <td>...</td>\n",
       "      <td>...</td>\n",
       "      <td>...</td>\n",
       "      <td>...</td>\n",
       "      <td>...</td>\n",
       "      <td>...</td>\n",
       "      <td>...</td>\n",
       "      <td>...</td>\n",
       "      <td>...</td>\n",
       "      <td>...</td>\n",
       "    </tr>\n",
       "    <tr>\n",
       "      <th>1079995</th>\n",
       "      <td>0.0</td>\n",
       "      <td>3.531932</td>\n",
       "      <td>0.380857</td>\n",
       "      <td>23.061815</td>\n",
       "      <td>23.074379</td>\n",
       "      <td>20.239569</td>\n",
       "      <td>-5.729042</td>\n",
       "      <td>0.000004</td>\n",
       "      <td>20.243933</td>\n",
       "      <td>-5.733524</td>\n",
       "      <td>-0.010893</td>\n",
       "      <td>1.851878e+09</td>\n",
       "      <td>204.0</td>\n",
       "      <td>204.0</td>\n",
       "      <td>204.0</td>\n",
       "      <td>89995.0</td>\n",
       "    </tr>\n",
       "    <tr>\n",
       "      <th>1079996</th>\n",
       "      <td>0.0</td>\n",
       "      <td>3.531932</td>\n",
       "      <td>0.383234</td>\n",
       "      <td>23.081051</td>\n",
       "      <td>23.080598</td>\n",
       "      <td>20.294798</td>\n",
       "      <td>-5.729041</td>\n",
       "      <td>0.000004</td>\n",
       "      <td>20.294640</td>\n",
       "      <td>-5.728878</td>\n",
       "      <td>0.000395</td>\n",
       "      <td>1.851878e+09</td>\n",
       "      <td>204.0</td>\n",
       "      <td>204.0</td>\n",
       "      <td>204.0</td>\n",
       "      <td>89996.0</td>\n",
       "    </tr>\n",
       "    <tr>\n",
       "      <th>1079997</th>\n",
       "      <td>0.0</td>\n",
       "      <td>3.531932</td>\n",
       "      <td>0.385607</td>\n",
       "      <td>23.100403</td>\n",
       "      <td>23.096881</td>\n",
       "      <td>20.350025</td>\n",
       "      <td>-5.729041</td>\n",
       "      <td>0.000004</td>\n",
       "      <td>20.348787</td>\n",
       "      <td>-5.727787</td>\n",
       "      <td>0.003052</td>\n",
       "      <td>1.851878e+09</td>\n",
       "      <td>204.0</td>\n",
       "      <td>204.0</td>\n",
       "      <td>204.0</td>\n",
       "      <td>89997.0</td>\n",
       "    </tr>\n",
       "    <tr>\n",
       "      <th>1079998</th>\n",
       "      <td>0.0</td>\n",
       "      <td>3.531932</td>\n",
       "      <td>0.387976</td>\n",
       "      <td>23.119873</td>\n",
       "      <td>23.119397</td>\n",
       "      <td>20.405256</td>\n",
       "      <td>-5.729043</td>\n",
       "      <td>0.000002</td>\n",
       "      <td>20.405087</td>\n",
       "      <td>-5.728873</td>\n",
       "      <td>0.000414</td>\n",
       "      <td>1.851878e+09</td>\n",
       "      <td>204.0</td>\n",
       "      <td>204.0</td>\n",
       "      <td>204.0</td>\n",
       "      <td>89998.0</td>\n",
       "    </tr>\n",
       "    <tr>\n",
       "      <th>1079999</th>\n",
       "      <td>0.0</td>\n",
       "      <td>3.531932</td>\n",
       "      <td>0.390340</td>\n",
       "      <td>23.139454</td>\n",
       "      <td>23.139484</td>\n",
       "      <td>20.460484</td>\n",
       "      <td>-5.729041</td>\n",
       "      <td>0.000004</td>\n",
       "      <td>20.460495</td>\n",
       "      <td>-5.729052</td>\n",
       "      <td>-0.000023</td>\n",
       "      <td>1.851878e+09</td>\n",
       "      <td>204.0</td>\n",
       "      <td>204.0</td>\n",
       "      <td>204.0</td>\n",
       "      <td>89999.0</td>\n",
       "    </tr>\n",
       "  </tbody>\n",
       "</table>\n",
       "<p>1080000 rows × 16 columns</p>\n",
       "</div>"
      ],
      "text/plain": [
       "         timestamp       yaw     pitch   distance  distance_noise          x  \\\n",
       "0              0.0  2.748894 -0.392699  21.193064       21.183142  -4.776694   \n",
       "1              0.0  2.748894 -0.390340  21.484621       21.480205  -4.836189   \n",
       "2              0.0  2.748894 -0.387976  23.139582       23.138709  -5.375964   \n",
       "3              0.0  2.748894 -0.385607  23.120134       23.124892  -5.320735   \n",
       "4              0.0  2.748894 -0.383234  23.100800       23.103570  -5.265508   \n",
       "...            ...       ...       ...        ...             ...        ...   \n",
       "1079995        0.0  3.531932  0.380857  23.061815       23.074379  20.239569   \n",
       "1079996        0.0  3.531932  0.383234  23.081051       23.080598  20.294798   \n",
       "1079997        0.0  3.531932  0.385607  23.100403       23.096881  20.350025   \n",
       "1079998        0.0  3.531932  0.387976  23.119873       23.119397  20.405256   \n",
       "1079999        0.0  3.531932  0.390340  23.139454       23.139484  20.460484   \n",
       "\n",
       "                y         z    x_noise   y_noise   z_noise     object_id  \\\n",
       "0        5.074542  1.713436  -4.773148  5.070996  1.721998  1.701147e+09   \n",
       "1        5.185272  1.446110  -4.834620  5.183692  1.449924  1.701147e+09   \n",
       "2        5.784267  0.000006  -5.375656  5.783955  0.000761  1.851878e+09   \n",
       "3        5.784269  0.000004  -5.322406  5.785973 -0.004112  1.851878e+09   \n",
       "4        5.784270  0.000004  -5.266475  5.785263 -0.002396  1.851878e+09   \n",
       "...           ...       ...        ...       ...       ...           ...   \n",
       "1079995 -5.729042  0.000004  20.243933 -5.733524 -0.010893  1.851878e+09   \n",
       "1079996 -5.729041  0.000004  20.294640 -5.728878  0.000395  1.851878e+09   \n",
       "1079997 -5.729041  0.000004  20.348787 -5.727787  0.003052  1.851878e+09   \n",
       "1079998 -5.729043  0.000002  20.405087 -5.728873  0.000414  1.851878e+09   \n",
       "1079999 -5.729041  0.000004  20.460495 -5.729052 -0.000023  1.851878e+09   \n",
       "\n",
       "         color0  color1  color2      idx  \n",
       "0         204.0   204.0   204.0      0.0  \n",
       "1         204.0   204.0   204.0      1.0  \n",
       "2         204.0   204.0   204.0      2.0  \n",
       "3         204.0   204.0   204.0      3.0  \n",
       "4         204.0   204.0   204.0      4.0  \n",
       "...         ...     ...     ...      ...  \n",
       "1079995   204.0   204.0   204.0  89995.0  \n",
       "1079996   204.0   204.0   204.0  89996.0  \n",
       "1079997   204.0   204.0   204.0  89997.0  \n",
       "1079998   204.0   204.0   204.0  89998.0  \n",
       "1079999   204.0   204.0   204.0  89999.0  \n",
       "\n",
       "[1080000 rows x 16 columns]"
      ]
     },
     "execution_count": 35,
     "metadata": {},
     "output_type": "execute_result"
    }
   ],
   "source": [
    "# Data is stored in numpy format\n",
    "# load the data\n",
    "# df = np.loadtxt(os.path.join(datapath, 'scan.numpy'))\n",
    "\n",
    "# pass this to a pandas data frame for simplicity\n",
    "scan = pd.DataFrame(df, columns=['timestamp', 'yaw', 'pitch', 'distance','distance_noise',\n",
    "                                'x','y','z',\n",
    "                                'x_noise','y_noise','z_noise',\n",
    "                                'object_id', 'color0', 'color1','color2', 'idx'])\n",
    "\n",
    "scan"
   ]
  },
  {
   "cell_type": "markdown",
   "metadata": {},
   "source": [
    "Here we show how some of the point cloud parameters looks like."
   ]
  },
  {
   "cell_type": "code",
   "execution_count": 36,
   "metadata": {},
   "outputs": [
    {
     "data": {
      "image/png": "[encoded data removed]",
      "text/plain": [
       "<Figure size 1296x864 with 8 Axes>"
      ]
     },
     "metadata": {
      "needs_background": "light"
     },
     "output_type": "display_data"
    }
   ],
   "source": [
    "\n",
    "cols = ['timestamp', 'yaw', 'pitch',\n",
    "        'x','y','z',\n",
    "        'distance', 'object_id']\n",
    "\n",
    "plt.figure(figsize=(18, 4*3))\n",
    "\n",
    "for num, i in enumerate(cols):\n",
    "    \n",
    "    plt.subplot(3,3,num+1)\n",
    "    plt.hist(scan[i], 80, alpha=0.5, label=i)\n",
    "    plt.legend()\n",
    "    "
   ]
  },
  {
   "cell_type": "markdown",
   "metadata": {},
   "source": [
    "The `object_id` parameter is a label for the leaves, the stems and the ground/soil. Below we plot these id's as a function of distance."
   ]
  },
  {
   "cell_type": "code",
   "execution_count": 37,
   "metadata": {},
   "outputs": [
    {
     "data": {
      "image/png": "[encoded data removed]",
      "text/plain": [
       "<Figure size 432x288 with 1 Axes>"
      ]
     },
     "metadata": {
      "needs_background": "light"
     },
     "output_type": "display_data"
    }
   ],
   "source": [
    "for i in set(scan['object_id']):\n",
    "    mask = scan['object_id'] == i\n",
    "    plt.hist(scan['distance'][mask], 30, histtype='step', lw=2, label=str(i))\n",
    "    plt.legend()"
   ]
  },
  {
   "cell_type": "markdown",
   "metadata": {},
   "source": [
    "### numpy to PCD\n",
    "\n",
    "Our data is in `numpy` format, however, in order to work with `treeseg` pipeline and proced with the segmentation, we need the point cloud data in `pcd` format. Fortunatelly, there's package in python than can perform this transformation. Steeps to do this are bellow."
   ]
  },
  {
   "cell_type": "code",
   "execution_count": 73,
   "metadata": {
    "tags": []
   },
   "outputs": [],
   "source": [
    "# function to pass each numpy to pcd\n",
    "\n",
    "def np2pcd(coords=None, xres=None, yres=None):\n",
    "    \n",
    "    xyz = np.zeros((np.size(coords['x']), 3))\n",
    "\n",
    "    for num, i in enumerate(['x', 'y', 'z']):\n",
    "\n",
    "        mesh_i = np.reshape(np.array(coords[i]), (xres, yres))\n",
    "        xyz[:, num] = np.reshape(mesh_i, -1)\n",
    "\n",
    "#     xyz.shape\n",
    "    return xyz"
   ]
  },
  {
   "cell_type": "code",
   "execution_count": 74,
   "metadata": {},
   "outputs": [],
   "source": [
    "# scanning resolution in x and y\n",
    "\n",
    "xres = 300\n",
    "yres = 300\n",
    "\n",
    "# Pass xyz to Open3D.o3d.geometry.PointCloud and visualize\n",
    "pcd = o3d.geometry.PointCloud()\n",
    "\n",
    "for file, val in files.items():\n",
    "    coords = {i:val.transpose()[num] for i,num in zip(['x','y','z'], [5,6,7])}\n",
    "    xyz = np2pcd(coords, xres, yres)\n",
    "    \n",
    "    pcd.points = o3d.utility.Vector3dVector(xyz)\n",
    "    o3d.io.write_point_cloud(os.path.join(datapath, '%s.pcd'%(file.split('.')[0])), pcd)\n",
    "    "
   ]
  },
  {
   "cell_type": "markdown",
   "metadata": {},
   "source": [
    "### vizualize point cloud in python and convert PCD to numpy\n",
    "\n",
    "```python\n",
    "# Load saved point cloud and visualize it\n",
    "pcd_load = o3d.io.read_point_cloud(os.path.join(datapath, 'scan.pcd'))\n",
    "o3d.visualization.draw_geometries([pcd_load])\n",
    "\n",
    "# convert Open3D.o3d.geometry.PointCloud to numpy array\n",
    "xyz_load = np.asarray(pcd_load.points)\n",
    "print('xyz_load')\n",
    "print(xyz_load)\n",
    "```"
   ]
  },
  {
   "cell_type": "code",
   "execution_count": 75,
   "metadata": {},
   "outputs": [
    {
     "name": "stdout",
     "output_type": "stream",
     "text": [
      "\u001b[0;mThe viewer window provides interactive commands; for help, press 'h' or 'H' from within the window.\n",
      "\u001b[1;32m> \u001b[0;mLoading \u001b[0;36m../data/mock/scan.pcd \u001b[0;m\u001b[1;33m[PCLVisualizer::setUseVbos] Has no effect when OpenGL version is ≥ 2\n",
      "\u001b[0;m\u001b[0;m[done, \u001b[0;36m826.322\u001b[0;m\u001b[0;m ms : \u001b[0;36m160000\u001b[0;m\u001b[0;m points]\n",
      "\u001b[0;mAvailable dimensions: \u001b[0;36mx y z\n",
      "\u001b[1;32m> \u001b[0;mLoading \u001b[0;36m../data/mock/scan.slice.pcd \u001b[0;m\u001b[0;m\u001b[0;m[done, \u001b[0;36m48.2644\u001b[0;m\u001b[0;m ms : \u001b[0;36m41738\u001b[0;m\u001b[0;m points]\n",
      "\u001b[0;mAvailable dimensions: \u001b[0;36mx y z\n",
      "\u001b[1;32m> \u001b[0;mLoading \u001b[0;36m../data/mock/scan.tile.downsample.scan.pcd \u001b[0;m\u001b[0;m\u001b[0;m[done, \u001b[0;36m80.4059\u001b[0;m\u001b[0;m ms : \u001b[0;36m150481\u001b[0;m\u001b[0;m points]\n",
      "\u001b[0;mAvailable dimensions: \u001b[0;36mx y z\n",
      "\u001b[1;32m> \u001b[0;mLoading \u001b[0;36m../data/mock/scan100000.pcd \u001b[0;m\u001b[0;m\u001b[0;m[done, \u001b[0;36m38.1106\u001b[0;m\u001b[0;m ms : \u001b[0;36m90000\u001b[0;m\u001b[0;m points]\n",
      "\u001b[0;mAvailable dimensions: \u001b[0;36mx y z\n",
      "\u001b[1;32m> \u001b[0;mLoading \u001b[0;36m../data/mock/scan1000000.pcd \u001b[0;m\u001b[0;m\u001b[0;m[done, \u001b[0;36m15.7567\u001b[0;m\u001b[0;m ms : \u001b[0;36m90000\u001b[0;m\u001b[0;m points]\n",
      "\u001b[0;mAvailable dimensions: \u001b[0;36mx y z\n",
      "\u001b[1;32m> \u001b[0;mLoading \u001b[0;36m../data/mock/scan1100000.pcd \u001b[0;m\u001b[0;m\u001b[0;m[done, \u001b[0;36m16.1711\u001b[0;m\u001b[0;m ms : \u001b[0;36m90000\u001b[0;m\u001b[0;m points]\n",
      "\u001b[0;mAvailable dimensions: \u001b[0;36mx y z\n",
      "\u001b[1;32m> \u001b[0;mLoading \u001b[0;36m../data/mock/scan1200000.pcd \u001b[0;m\u001b[0;m\u001b[0;m[done, \u001b[0;36m32.911\u001b[0;m\u001b[0;m ms : \u001b[0;36m90000\u001b[0;m\u001b[0;m points]\n",
      "\u001b[0;mAvailable dimensions: \u001b[0;36mx y z\n",
      "\u001b[1;32m> \u001b[0;mLoading \u001b[0;36m../data/mock/scan200000.pcd \u001b[0;m\u001b[0;m\u001b[0;m[done, \u001b[0;36m23.118\u001b[0;m\u001b[0;m ms : \u001b[0;36m90000\u001b[0;m\u001b[0;m points]\n",
      "\u001b[0;mAvailable dimensions: \u001b[0;36mx y z\n",
      "\u001b[1;32m> \u001b[0;mLoading \u001b[0;36m../data/mock/scan300000.pcd \u001b[0;m\u001b[0;m\u001b[0;m[done, \u001b[0;36m26.0539\u001b[0;m\u001b[0;m ms : \u001b[0;36m90000\u001b[0;m\u001b[0;m points]\n",
      "\u001b[0;mAvailable dimensions: \u001b[0;36mx y z\n",
      "\u001b[1;32m> \u001b[0;mLoading \u001b[0;36m../data/mock/scan400000.pcd \u001b[0;m\u001b[0;m\u001b[0;m[done, \u001b[0;36m28.9819\u001b[0;m\u001b[0;m ms : \u001b[0;36m90000\u001b[0;m\u001b[0;m points]\n",
      "\u001b[0;mAvailable dimensions: \u001b[0;36mx y z\n",
      "\u001b[1;32m> \u001b[0;mLoading \u001b[0;36m../data/mock/scan500000.pcd \u001b[0;m\u001b[0;m\u001b[0;m[done, \u001b[0;36m50.0984\u001b[0;m\u001b[0;m ms : \u001b[0;36m90000\u001b[0;m\u001b[0;m points]\n",
      "\u001b[0;mAvailable dimensions: \u001b[0;36mx y z\n",
      "\u001b[1;32m> \u001b[0;mLoading \u001b[0;36m../data/mock/scan600000.pcd \u001b[0;m\u001b[0;m\u001b[0;m[done, \u001b[0;36m25.8847\u001b[0;m\u001b[0;m ms : \u001b[0;36m90000\u001b[0;m\u001b[0;m points]\n",
      "\u001b[0;mAvailable dimensions: \u001b[0;36mx y z\n",
      "\u001b[1;32m> \u001b[0;mLoading \u001b[0;36m../data/mock/scan700000.pcd \u001b[0;m\u001b[0;m\u001b[0;m[done, \u001b[0;36m22.8983\u001b[0;m\u001b[0;m ms : \u001b[0;36m90000\u001b[0;m\u001b[0;m points]\n",
      "\u001b[0;mAvailable dimensions: \u001b[0;36mx y z\n",
      "\u001b[1;32m> \u001b[0;mLoading \u001b[0;36m../data/mock/scan800000.pcd \u001b[0;m\u001b[0;m\u001b[0;m[done, \u001b[0;36m55.0954\u001b[0;m\u001b[0;m ms : \u001b[0;36m90000\u001b[0;m\u001b[0;m points]\n",
      "\u001b[0;mAvailable dimensions: \u001b[0;36mx y z\n",
      "\u001b[1;32m> \u001b[0;mLoading \u001b[0;36m../data/mock/scan900000.pcd \u001b[0;m\u001b[0;m\u001b[0;m[done, \u001b[0;36m30.3821\u001b[0;m\u001b[0;m ms : \u001b[0;36m90000\u001b[0;m\u001b[0;m points]\n",
      "\u001b[0;mAvailable dimensions: \u001b[0;36mx y z\n",
      "\u001b[0;m"
     ]
    }
   ],
   "source": [
    "# Check treeseg can read the output PCD files\n",
    "!pcl_viewer ../data/mock/scan*.pcd"
   ]
  },
  {
   "cell_type": "markdown",
   "metadata": {},
   "source": [
    "## Downsampling (optional)\n",
    "\n",
    "Downsampling the data is an optional step, but provides two potential benefits: i) some of the point cloud processing methods (e.g., Euclidean clustering) will provide more robust results, and ii) reduces computation. However, determining the appropriate level of downsampling is a complicated subject, requiring careful consideration (e.g., the downstream implications of downsampling, such as the impacts on above-ground biomass estimation), which is briefly discussed in the following subsection.\n",
    "\n",
    "treeseg implements two methods for downsampling, both employing octrees. The first, and the one used in this tutorial, downsample, replaces the points inside each occupied voxel (leaf-node), with a single aggregate point:\n",
    "\n",
    "```console\n",
    "downsample 0.04 NOU11.tile.*.pcd \n",
    "```\n",
    "\n",
    "Where 0.04 is the edge length of each voxel, in meters. This will output a downsampled point cloud for each input point cloud, e.g., NOU11.tile.downsample.342.pcd, whose point count has reduced by approximately 92% when compared to its original counterpart.\n",
    "\n",
    "The alternative approach, thin, preserves the original data, rather than replacing it, by keeping the original point in each voxel that is closest to the would-be aggregate point. This might be useful when additional point fields are parsed (e.g., reflectance), and their aggregation would not make sense. thin can be similarly called as:\n",
    "\n",
    "```console\n",
    "thin 0.04 NOU11.tile.*.pcd \n",
    "```\n",
    "\n",
    "![Drag Racing](../images/downsampling.png)\n"
   ]
  },
  {
   "cell_type": "markdown",
   "metadata": {},
   "source": [
    "For our example using the mock up point cloud data, we need to do the downsampling in order to further steeps works."
   ]
  },
  {
   "cell_type": "code",
   "execution_count": 77,
   "metadata": {},
   "outputs": [],
   "source": [
    "!downsample 0.04 ../data/mock/scan*.pcd\n",
    "!mv scan*.tile.downsample.scan*.pcd ../data/mock/"
   ]
  },
  {
   "cell_type": "markdown",
   "metadata": {},
   "source": [
    "## Digital terrain model (DTM)\n",
    "\n",
    "The first principal step of treeseg is to identify the individual trees in the larger-area point cloud. This identification is undertaken on a slice segmented from the larger-area point cloud along the xy-plane. To generate this slice at some defined height above-ground whilst adjusting for topography, it is necessary to construct an underlying digital terrain model (DTM). Both this DTM, and the slice can be generated using:\n",
    "\n",
    "```console\n",
    "!getdtmslice 2 2.5 0.1 10 ../data/mock/scan*.tile.downsample.scan*.pcd > ../data/mock/scan.dtm.dat\n",
    "```\n",
    "\n",
    "Where the inputs are: 1) the resolution of the DTM (m), 2) the percentile of the z-coordinates of the points inside each DTM grid which is considered to constitute the ground (this is used, rather than the absolute minimum, to provide more robust results in noisy point clouds), 3) the minimum height of the slice above-ground (m), 4) the maximum height of the slice above-ground (m), and 5) the downsampled tiles constituting the larger-area point cloud.\n",
    "\n"
   ]
  },
  {
   "cell_type": "code",
   "execution_count": 163,
   "metadata": {},
   "outputs": [],
   "source": [
    "!getdtmslice 1 2.5 0.01 1.5 ../data/mock/scan*.tile.downsample.scan*.pcd > ../data/mock/scan.dtm.dat\n",
    "!mv scan.slice.pcd ../data/mock/"
   ]
  },
  {
   "cell_type": "code",
   "execution_count": 164,
   "metadata": {},
   "outputs": [
    {
     "name": "stdout",
     "output_type": "stream",
     "text": [
      "\u001b[0;mThe viewer window provides interactive commands; for help, press 'h' or 'H' from within the window.\n",
      "\u001b[1;32m> \u001b[0;mLoading \u001b[0;36m../data/mock/scan.slice.pcd \u001b[0;m\u001b[1;33m[PCLVisualizer::setUseVbos] Has no effect when OpenGL version is ≥ 2\n",
      "\u001b[0;m\u001b[0;m[done, \u001b[0;36m348.714\u001b[0;m\u001b[0;m ms : \u001b[0;36m10942\u001b[0;m\u001b[0;m points]\n",
      "\u001b[0;mAvailable dimensions: \u001b[0;36mx y z\n",
      "\u001b[0;m"
     ]
    }
   ],
   "source": [
    "!pcl_viewer ../data/mock/scan.slice.pcd"
   ]
  },
  {
   "cell_type": "markdown",
   "metadata": {},
   "source": [
    "## Identifying the stems\n",
    "\n",
    "ndividual tree stems are then identified in this slice across the larger-area point cloud through four steps:\n",
    "\n",
    "Euclidean clustering: the slice is organised into individual clusters, based on the spatial distances between points.\n",
    "Region-based segmentation: these clusters are further reduced to regions, based on the properties of their underlying surfaces (themselves inferred from point normals).\n",
    "Shape fitting: RANSAC methods are used to fit cylinders to each region, and fit diagnostics are used to determine the likelihood of the underlying surface being a stem.\n",
    "Principal component analysis: the angle between the principal components of each region and the ground are calculated, with regions broadly perpendicular to the ground deemed to be stems.\n",
    "These steps are implemented in the findstems executable, which can be called:\n",
    "\n",
    "```console\n",
    "\n",
    "```"
   ]
  },
  {
   "cell_type": "code",
   "execution_count": 172,
   "metadata": {},
   "outputs": [
    {
     "name": "stdout",
     "output_type": "stream",
     "text": [
      "Reading slice: complete\n",
      "Cluster extraction: scan.intermediate.slice.clusters.pcd | 26\n",
      "Region-based segmentation: scan.intermediate.slice.clusters.regions.pcd | 26\n",
      "RANSAC cylinder fits: libc++abi.dylib: terminating with uncaught exception of type pcl::IOException: : [pcl::PCDWriter::writeBinary] Input point cloud has no data!\n"
     ]
    }
   ],
   "source": [
    "!findstems 20 0.01 1 ../data/mock/scan.coords.dat ../data/mock/scan.slice.pcd"
   ]
  },
  {
   "cell_type": "code",
   "execution_count": 173,
   "metadata": {},
   "outputs": [
    {
     "name": "stdout",
     "output_type": "stream",
     "text": [
      "\u001b[0;mThe viewer window provides interactive commands; for help, press 'h' or 'H' from within the window.\n",
      "\u001b[1;32m> \u001b[0;mLoading \u001b[0;36mscan.intermediate.slice.clusters.pcd \u001b[0;m\u001b[1;33m[PCLVisualizer::setUseVbos] Has no effect when OpenGL version is ≥ 2\n",
      "\u001b[0;m\u001b[0;m[done, \u001b[0;36m294.721\u001b[0;m\u001b[0;m ms : \u001b[0;36m10193\u001b[0;m\u001b[0;m points]\n",
      "\u001b[0;mAvailable dimensions: \u001b[0;36mx y z rgb\n",
      "\u001b[0;m"
     ]
    }
   ],
   "source": [
    "!pcl_viewer scan.intermediate.slice.clusters.pcd"
   ]
  },
  {
   "cell_type": "code",
   "execution_count": 129,
   "metadata": {},
   "outputs": [
    {
     "name": "stdout",
     "output_type": "stream",
     "text": [
      "\u001b[0;mThe viewer window provides interactive commands; for help, press 'h' or 'H' from within the window.\n",
      "\u001b[1;32m> \u001b[0;mLoading \u001b[0;36mscan.intermediate.slice.clusters.regions.pcd \u001b[0;m\u001b[1;33m[PCLVisualizer::setUseVbos] Has no effect when OpenGL version is ≥ 2\n",
      "\u001b[0;m\u001b[0;m[done, \u001b[0;36m277.785\u001b[0;m\u001b[0;m ms : \u001b[0;36m9200\u001b[0;m\u001b[0;m points]\n",
      "\u001b[0;mAvailable dimensions: \u001b[0;36mx y z rgb\n",
      "\u001b[0;m"
     ]
    }
   ],
   "source": [
    "!pcl_viewer scan.intermediate.slice.clusters.regions.pcd"
   ]
  },
  {
   "cell_type": "code",
   "execution_count": null,
   "metadata": {},
   "outputs": [],
   "source": []
  }
 ],
 "metadata": {
  "kernelspec": {
   "display_name": "plant-env",
   "language": "python",
   "name": "plant-env"
  },
  "language_info": {
   "codemirror_mode": {
    "name": "ipython",
    "version": 3
   },
   "file_extension": ".py",
   "mimetype": "text/x-python",
   "name": "python",
   "nbconvert_exporter": "python",
   "pygments_lexer": "ipython3",
   "version": "3.9.6"
  },
  "toc-autonumbering": false,
  "toc-showcode": true,
  "toc-showmarkdowntxt": true,
  "toc-showtags": false
 },
 "nbformat": 4,
 "nbformat_minor": 4
}
