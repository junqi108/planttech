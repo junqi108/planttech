{
 "cells": [
  {
   "cell_type": "code",
   "execution_count": 2,
   "metadata": {},
   "outputs": [],
   "source": [
    "import numpy as np\n",
    "import pandas as pd\n",
    "import matplotlib.pyplot as plt\n",
    "import open3d as o3d\n",
    "import os, sys, glob\n",
    "import laspy as lp\n",
    "# import pylas as pl"
   ]
  },
  {
   "cell_type": "code",
   "execution_count": 3,
   "metadata": {},
   "outputs": [],
   "source": [
    "# define the path of the data stored\n",
    "datapath = '../data/real'\n",
    "\n",
    "las = lp.read(os.path.join(datapath, 'kiwi.laz'))"
   ]
  },
  {
   "cell_type": "code",
   "execution_count": 4,
   "metadata": {},
   "outputs": [
    {
     "data": {
      "text/plain": [
       "33770661"
      ]
     },
     "execution_count": 4,
     "metadata": {},
     "output_type": "execute_result"
    }
   ],
   "source": [
    "las.header.point_count"
   ]
  },
  {
   "cell_type": "code",
   "execution_count": 5,
   "metadata": {},
   "outputs": [
    {
     "data": {
      "text/plain": [
       "Version(major=1, minor=4)"
      ]
     },
     "execution_count": 5,
     "metadata": {},
     "output_type": "execute_result"
    }
   ],
   "source": [
    "las.header.version"
   ]
  },
  {
   "cell_type": "code",
   "execution_count": 6,
   "metadata": {},
   "outputs": [
    {
     "data": {
      "text/plain": [
       "['X',\n",
       " 'Y',\n",
       " 'Z',\n",
       " 'intensity',\n",
       " 'return_number',\n",
       " 'number_of_returns',\n",
       " 'scan_direction_flag',\n",
       " 'edge_of_flight_line',\n",
       " 'classification',\n",
       " 'synthetic',\n",
       " 'key_point',\n",
       " 'withheld',\n",
       " 'scan_angle_rank',\n",
       " 'user_data',\n",
       " 'point_source_id',\n",
       " 'gps_time',\n",
       " 'red',\n",
       " 'green',\n",
       " 'blue',\n",
       " 'Ring',\n",
       " 'Range']"
      ]
     },
     "execution_count": 6,
     "metadata": {},
     "output_type": "execute_result"
    }
   ],
   "source": [
    "list(las.point_format.dimension_names)"
   ]
  },
  {
   "cell_type": "code",
   "execution_count": 7,
   "metadata": {},
   "outputs": [],
   "source": [
    "points = np.vstack((las.x, las.y, las.z)).transpose()\n",
    "colors = np.vstack((las.red, las.green, las.blue)).transpose()"
   ]
  },
  {
   "cell_type": "code",
   "execution_count": 8,
   "metadata": {},
   "outputs": [
    {
     "data": {
      "text/html": [
       "<div>\n",
       "<style scoped>\n",
       "    .dataframe tbody tr th:only-of-type {\n",
       "        vertical-align: middle;\n",
       "    }\n",
       "\n",
       "    .dataframe tbody tr th {\n",
       "        vertical-align: top;\n",
       "    }\n",
       "\n",
       "    .dataframe thead th {\n",
       "        text-align: right;\n",
       "    }\n",
       "</style>\n",
       "<table border=\"1\" class=\"dataframe\">\n",
       "  <thead>\n",
       "    <tr style=\"text-align: right;\">\n",
       "      <th></th>\n",
       "      <th>x</th>\n",
       "      <th>y</th>\n",
       "      <th>z</th>\n",
       "    </tr>\n",
       "  </thead>\n",
       "  <tbody>\n",
       "    <tr>\n",
       "      <th>0</th>\n",
       "      <td>-2.134205</td>\n",
       "      <td>0.588209</td>\n",
       "      <td>0.344444</td>\n",
       "    </tr>\n",
       "    <tr>\n",
       "      <th>1</th>\n",
       "      <td>-2.143205</td>\n",
       "      <td>0.611209</td>\n",
       "      <td>0.419444</td>\n",
       "    </tr>\n",
       "    <tr>\n",
       "      <th>2</th>\n",
       "      <td>-1.683205</td>\n",
       "      <td>0.428209</td>\n",
       "      <td>0.375444</td>\n",
       "    </tr>\n",
       "    <tr>\n",
       "      <th>3</th>\n",
       "      <td>-1.708205</td>\n",
       "      <td>0.462209</td>\n",
       "      <td>0.443444</td>\n",
       "    </tr>\n",
       "    <tr>\n",
       "      <th>4</th>\n",
       "      <td>-1.829205</td>\n",
       "      <td>0.532209</td>\n",
       "      <td>0.548444</td>\n",
       "    </tr>\n",
       "  </tbody>\n",
       "</table>\n",
       "</div>"
      ],
      "text/plain": [
       "          x         y         z\n",
       "0 -2.134205  0.588209  0.344444\n",
       "1 -2.143205  0.611209  0.419444\n",
       "2 -1.683205  0.428209  0.375444\n",
       "3 -1.708205  0.462209  0.443444\n",
       "4 -1.829205  0.532209  0.548444"
      ]
     },
     "execution_count": 8,
     "metadata": {},
     "output_type": "execute_result"
    }
   ],
   "source": [
    "df = pd.DataFrame(points, columns=['x', 'y', 'z'])\n",
    "df.head()"
   ]
  },
  {
   "cell_type": "code",
   "execution_count": 9,
   "metadata": {},
   "outputs": [
    {
     "data": {
      "image/png": "[encoded data removed]",
      "text/plain": [
       "<Figure size 1440x288 with 3 Axes>"
      ]
     },
     "metadata": {
      "needs_background": "light"
     },
     "output_type": "display_data"
    }
   ],
   "source": [
    "fig=plt.figure(figsize=(20,4))\n",
    "for num, (key, val) in enumerate(df.items()):\n",
    "    plt.subplot(1,3,num+1)\n",
    "    plt.hist(val, 80, label=key)\n",
    "    plt.legend()"
   ]
  },
  {
   "cell_type": "code",
   "execution_count": 9,
   "metadata": {},
   "outputs": [
    {
     "data": {
      "text/plain": [
       "(1688534, 3)"
      ]
     },
     "execution_count": 9,
     "metadata": {},
     "output_type": "execute_result"
    }
   ],
   "source": [
    "# Downsampling\n",
    "factor=20\n",
    "lite = points[::factor]\n",
    "lite.shape"
   ]
  },
  {
   "cell_type": "code",
   "execution_count": 10,
   "metadata": {},
   "outputs": [
    {
     "name": "stdout",
     "output_type": "stream",
     "text": [
      "x [-40.52620453   4.75279547]\n",
      "y [-18.01879143   7.39720857]\n",
      "z [-1.72455628  3.47444372]\n"
     ]
    }
   ],
   "source": [
    "# lims\n",
    "lims={}\n",
    "coords = {i:lite.transpose()[num] for i,num in zip(['x','y','z'], [0,1,2])}\n",
    "for key, val in coords.items():\n",
    "    lims[key] = np.percentile(val, (3,97))\n",
    "    print(key, lims[key])"
   ]
  },
  {
   "cell_type": "code",
   "execution_count": 11,
   "metadata": {},
   "outputs": [
    {
     "data": {
      "text/plain": [
       "(1507672, 3)"
      ]
     },
     "execution_count": 11,
     "metadata": {},
     "output_type": "execute_result"
    }
   ],
   "source": [
    "# keep = (coords['x'] > lims['x'][0]) & (coords['x'] < lims['x'][1])\n",
    "# keep &= (coords['y'] > lims['y'][0]) & (coords['y'] < lims['y'][1])\n",
    "keep = (coords['x'] > 40) & (coords['x'] < 0)\n",
    "keep &= (coords['y'] > 15) & (coords['y'] < 5)\n",
    "keep &= (coords['y'] < 2)\n",
    "lite = lite[keep]\n",
    "lite.shape"
   ]
  },
  {
   "cell_type": "code",
   "execution_count": 12,
   "metadata": {},
   "outputs": [],
   "source": [
    "# chunks\n",
    "pcd = o3d.geometry.PointCloud()\n",
    "\n",
    "# chunks = {}\n",
    "n = 300000\n",
    "for i in range(0, len(lite), n):\n",
    "#     chunks[str(i)] = lite[i:i + n]\n",
    "    pcd.points = o3d.utility.Vector3dVector(lite[i:i + n])\n",
    "    o3d.io.write_point_cloud(os.path.join(datapath, 'kiwi_%s.pcd'%(str(i))), pcd)\n"
   ]
  },
  {
   "cell_type": "code",
   "execution_count": 13,
   "metadata": {
    "collapsed": true,
    "jupyter": {
     "outputs_hidden": true
    },
    "tags": []
   },
   "outputs": [
    {
     "name": "stdout",
     "output_type": "stream",
     "text": [
      "\u001b[0;mThe viewer window provides interactive commands; for help, press 'h' or 'H' from within the window.\n",
      "\u001b[1;32m> \u001b[0;mLoading \u001b[0;36m../data/real/kiwi_0.pcd \u001b[0;m\u001b[1;33m[PCLVisualizer::setUseVbos] Has no effect when OpenGL version is ≥ 2\n",
      "\u001b[0;m\u001b[0;m[done, \u001b[0;36m1238.81\u001b[0;m\u001b[0;m ms : \u001b[0;36m300000\u001b[0;m\u001b[0;m points]\n",
      "\u001b[0;mAvailable dimensions: \u001b[0;36mx y z\n",
      "\u001b[1;32m> \u001b[0;mLoading \u001b[0;36m../data/real/kiwi_0.slice.pcd \u001b[0;m\u001b[0;m\u001b[0;m[done, \u001b[0;36m573.383\u001b[0;m\u001b[0;m ms : \u001b[0;36m2106364\u001b[0;m\u001b[0;m points]\n",
      "\u001b[0;mAvailable dimensions: \u001b[0;36mx y z\n",
      "\u001b[1;32m> \u001b[0;mLoading \u001b[0;36m../data/real/kiwi_0.tile.downsample.kiwi_0.pcd \u001b[0;m\u001b[0;m\u001b[0;m[done, \u001b[0;36m45.8282\u001b[0;m\u001b[0;m ms : \u001b[0;36m205229\u001b[0;m\u001b[0;m points]\n",
      "\u001b[0;mAvailable dimensions: \u001b[0;36mx y z\n",
      "\u001b[1;32m> \u001b[0;mLoading \u001b[0;36m../data/real/kiwi_1200000.pcd \u001b[0;m\u001b[0;m\u001b[0;m[done, \u001b[0;36m86.7834\u001b[0;m\u001b[0;m ms : \u001b[0;36m300000\u001b[0;m\u001b[0;m points]\n",
      "\u001b[0;mAvailable dimensions: \u001b[0;36mx y z\n",
      "\u001b[1;32m> \u001b[0;mLoading \u001b[0;36m../data/real/kiwi_1200000.tile.downsample.kiwi_1200000.pcd \u001b[0;m\u001b[0;m\u001b[0;m[done, \u001b[0;36m47.6207\u001b[0;m\u001b[0;m ms : \u001b[0;36m229019\u001b[0;m\u001b[0;m points]\n",
      "\u001b[0;mAvailable dimensions: \u001b[0;36mx y z\n",
      "\u001b[1;32m> \u001b[0;mLoading \u001b[0;36m../data/real/kiwi_1500000.pcd \u001b[0;m\u001b[0;m\u001b[0;m[done, \u001b[0;36m4.50914\u001b[0;m\u001b[0;m ms : \u001b[0;36m7672\u001b[0;m\u001b[0;m points]\n",
      "\u001b[0;mAvailable dimensions: \u001b[0;36mx y z\n",
      "\u001b[1;32m> \u001b[0;mLoading \u001b[0;36m../data/real/kiwi_1500000.tile.downsample.kiwi_1500000.pcd \u001b[0;m\u001b[0;m\u001b[0;m[done, \u001b[0;36m44.1742\u001b[0;m\u001b[0;m ms : \u001b[0;36m227412\u001b[0;m\u001b[0;m points]\n",
      "\u001b[0;mAvailable dimensions: \u001b[0;36mx y z\n",
      "\u001b[1;32m> \u001b[0;mLoading \u001b[0;36m../data/real/kiwi_1800000.pcd \u001b[0;m\u001b[0;m\u001b[0;m[done, \u001b[0;36m64.4788\u001b[0;m\u001b[0;m ms : \u001b[0;36m300000\u001b[0;m\u001b[0;m points]\n",
      "\u001b[0;mAvailable dimensions: \u001b[0;36mx y z\n",
      "\u001b[1;32m> \u001b[0;mLoading \u001b[0;36m../data/real/kiwi_1800000.tile.downsample.kiwi_1800000.pcd \u001b[0;m\u001b[0;m\u001b[0;m[done, \u001b[0;36m37.518\u001b[0;m\u001b[0;m ms : \u001b[0;36m235464\u001b[0;m\u001b[0;m points]\n",
      "\u001b[0;mAvailable dimensions: \u001b[0;36mx y z\n",
      "\u001b[1;32m> \u001b[0;mLoading \u001b[0;36m../data/real/kiwi_2100000.pcd \u001b[0;m\u001b[0;m\u001b[0;m[done, \u001b[0;36m74.1648\u001b[0;m\u001b[0;m ms : \u001b[0;36m300000\u001b[0;m\u001b[0;m points]\n",
      "\u001b[0;mAvailable dimensions: \u001b[0;36mx y z\n",
      "\u001b[1;32m> \u001b[0;mLoading \u001b[0;36m../data/real/kiwi_2100000.tile.downsample.kiwi_2100000.pcd \u001b[0;m\u001b[0;m\u001b[0;m[done, \u001b[0;36m42.907\u001b[0;m\u001b[0;m ms : \u001b[0;36m207879\u001b[0;m\u001b[0;m points]\n",
      "\u001b[0;mAvailable dimensions: \u001b[0;36mx y z\n",
      "\u001b[1;32m> \u001b[0;mLoading \u001b[0;36m../data/real/kiwi_2400000.pcd \u001b[0;m\u001b[0;m\u001b[0;m[done, \u001b[0;36m68.7422\u001b[0;m\u001b[0;m ms : \u001b[0;36m300000\u001b[0;m\u001b[0;m points]\n",
      "\u001b[0;mAvailable dimensions: \u001b[0;36mx y z\n",
      "\u001b[1;32m> \u001b[0;mLoading \u001b[0;36m../data/real/kiwi_2400000.tile.downsample.kiwi_2400000.pcd \u001b[0;m\u001b[0;m\u001b[0;m[done, \u001b[0;36m55.6047\u001b[0;m\u001b[0;m ms : \u001b[0;36m225374\u001b[0;m\u001b[0;m points]\n",
      "\u001b[0;mAvailable dimensions: \u001b[0;36mx y z\n",
      "\u001b[1;32m> \u001b[0;mLoading \u001b[0;36m../data/real/kiwi_2700000.pcd \u001b[0;m\u001b[0;m\u001b[0;m[done, \u001b[0;36m97.7619\u001b[0;m\u001b[0;m ms : \u001b[0;36m300000\u001b[0;m\u001b[0;m points]\n",
      "\u001b[0;mAvailable dimensions: \u001b[0;36mx y z\n",
      "\u001b[1;32m> \u001b[0;mLoading \u001b[0;36m../data/real/kiwi_2700000.tile.downsample.kiwi_2700000.pcd \u001b[0;m\u001b[0;m\u001b[0;m[done, \u001b[0;36m61.6158\u001b[0;m\u001b[0;m ms : \u001b[0;36m221469\u001b[0;m\u001b[0;m points]\n",
      "\u001b[0;mAvailable dimensions: \u001b[0;36mx y z\n",
      "\u001b[1;32m> \u001b[0;mLoading \u001b[0;36m../data/real/kiwi_300000.pcd \u001b[0;m\u001b[0;m\u001b[0;m[done, \u001b[0;36m79.6079\u001b[0;m\u001b[0;m ms : \u001b[0;36m300000\u001b[0;m\u001b[0;m points]\n",
      "\u001b[0;mAvailable dimensions: \u001b[0;36mx y z\n",
      "\u001b[1;32m> \u001b[0;mLoading \u001b[0;36m../data/real/kiwi_300000.tile.downsample.kiwi_300000.pcd \u001b[0;m\u001b[0;m\u001b[0;m[done, \u001b[0;36m83.2154\u001b[0;m\u001b[0;m ms : \u001b[0;36m223632\u001b[0;m\u001b[0;m points]\n",
      "\u001b[0;mAvailable dimensions: \u001b[0;36mx y z\n",
      "\u001b[1;32m> \u001b[0;mLoading \u001b[0;36m../data/real/kiwi_3000000.pcd \u001b[0;m\u001b[0;m\u001b[0;m[done, \u001b[0;36m60.3333\u001b[0;m\u001b[0;m ms : \u001b[0;36m247867\u001b[0;m\u001b[0;m points]\n",
      "\u001b[0;mAvailable dimensions: \u001b[0;36mx y z\n",
      "\u001b[1;32m> \u001b[0;mLoading \u001b[0;36m../data/real/kiwi_3000000.tile.downsample.kiwi_3000000.pcd \u001b[0;m\u001b[0;m\u001b[0;m[done, \u001b[0;36m44.2797\u001b[0;m\u001b[0;m ms : \u001b[0;36m185412\u001b[0;m\u001b[0;m points]\n",
      "\u001b[0;mAvailable dimensions: \u001b[0;36mx y z\n",
      "\u001b[1;32m> \u001b[0;mLoading \u001b[0;36m../data/real/kiwi_600000.pcd \u001b[0;m\u001b[0;m\u001b[0;m[done, \u001b[0;36m64.7239\u001b[0;m\u001b[0;m ms : \u001b[0;36m300000\u001b[0;m\u001b[0;m points]\n",
      "\u001b[0;mAvailable dimensions: \u001b[0;36mx y z\n",
      "\u001b[1;32m> \u001b[0;mLoading \u001b[0;36m../data/real/kiwi_600000.tile.downsample.kiwi_600000.pcd \u001b[0;m\u001b[0;m\u001b[0;m[done, \u001b[0;36m52.4156\u001b[0;m\u001b[0;m ms : \u001b[0;36m202006\u001b[0;m\u001b[0;m points]\n",
      "\u001b[0;mAvailable dimensions: \u001b[0;36mx y z\n",
      "\u001b[1;32m> \u001b[0;mLoading \u001b[0;36m../data/real/kiwi_900000.pcd \u001b[0;m\u001b[0;m\u001b[0;m[done, \u001b[0;36m558.389\u001b[0;m\u001b[0;m ms : \u001b[0;36m300000\u001b[0;m\u001b[0;m points]\n",
      "\u001b[0;mAvailable dimensions: \u001b[0;36mx y z\n",
      "\u001b[1;32m> \u001b[0;mLoading \u001b[0;36m../data/real/kiwi_900000.tile.downsample.kiwi_900000.pcd \u001b[0;m\u001b[0;m\u001b[0;m[done, \u001b[0;36m640.875\u001b[0;m\u001b[0;m ms : \u001b[0;36m220479\u001b[0;m\u001b[0;m points]\n",
      "\u001b[0;mAvailable dimensions: \u001b[0;36mx y z\n",
      "\u001b[0;m"
     ]
    }
   ],
   "source": [
    "!pcl_viewer ../data/real/kiwi_*.pcd"
   ]
  },
  {
   "cell_type": "markdown",
   "metadata": {},
   "source": [
    "## Downsampling (optional)\n"
   ]
  },
  {
   "cell_type": "markdown",
   "metadata": {},
   "source": [
    "For our example using the mock up point cloud data, we need to do the downsampling in order to further steeps works."
   ]
  },
  {
   "cell_type": "code",
   "execution_count": 2,
   "metadata": {},
   "outputs": [],
   "source": [
    "!downsample 0.04 ../data/real/kiwi_*.pcd\n",
    "!mv kiwi_*.tile.downsample.kiwi_*.pcd ../data/real/"
   ]
  },
  {
   "cell_type": "code",
   "execution_count": 16,
   "metadata": {
    "collapsed": true,
    "jupyter": {
     "outputs_hidden": true
    },
    "tags": []
   },
   "outputs": [
    {
     "name": "stdout",
     "output_type": "stream",
     "text": [
      "\u001b[0;mThe viewer window provides interactive commands; for help, press 'h' or 'H' from within the window.\n",
      "\u001b[1;32m> \u001b[0;mLoading \u001b[0;36m../data/real/kiwi_0.tile.downsample.kiwi_0.pcd \u001b[0;m\u001b[1;33m[PCLVisualizer::setUseVbos] Has no effect when OpenGL version is ≥ 2\n",
      "\u001b[0;m\u001b[0;m[done, \u001b[0;36m946.443\u001b[0;m\u001b[0;m ms : \u001b[0;36m205229\u001b[0;m\u001b[0;m points]\n",
      "\u001b[0;mAvailable dimensions: \u001b[0;36mx y z\n",
      "\u001b[1;32m> \u001b[0;mLoading \u001b[0;36m../data/real/kiwi_1200000.tile.downsample.kiwi_1200000.pcd \u001b[0;m\u001b[0;m\u001b[0;m[done, \u001b[0;36m133.897\u001b[0;m\u001b[0;m ms : \u001b[0;36m229019\u001b[0;m\u001b[0;m points]\n",
      "\u001b[0;mAvailable dimensions: \u001b[0;36mx y z\n",
      "\u001b[1;32m> \u001b[0;mLoading \u001b[0;36m../data/real/kiwi_1500000.tile.downsample.kiwi_1500000.pcd \u001b[0;m\u001b[0;m\u001b[0;m[done, \u001b[0;36m82.0771\u001b[0;m\u001b[0;m ms : \u001b[0;36m227412\u001b[0;m\u001b[0;m points]\n",
      "\u001b[0;mAvailable dimensions: \u001b[0;36mx y z\n",
      "\u001b[1;32m> \u001b[0;mLoading \u001b[0;36m../data/real/kiwi_1800000.tile.downsample.kiwi_1800000.pcd \u001b[0;m\u001b[0;m\u001b[0;m[done, \u001b[0;36m104.683\u001b[0;m\u001b[0;m ms : \u001b[0;36m235464\u001b[0;m\u001b[0;m points]\n",
      "\u001b[0;mAvailable dimensions: \u001b[0;36mx y z\n",
      "\u001b[1;32m> \u001b[0;mLoading \u001b[0;36m../data/real/kiwi_2100000.tile.downsample.kiwi_2100000.pcd \u001b[0;m\u001b[0;m\u001b[0;m[done, \u001b[0;36m50.238\u001b[0;m\u001b[0;m ms : \u001b[0;36m207879\u001b[0;m\u001b[0;m points]\n",
      "\u001b[0;mAvailable dimensions: \u001b[0;36mx y z\n",
      "\u001b[1;32m> \u001b[0;mLoading \u001b[0;36m../data/real/kiwi_2400000.tile.downsample.kiwi_2400000.pcd \u001b[0;m\u001b[0;m\u001b[0;m[done, \u001b[0;36m54.4431\u001b[0;m\u001b[0;m ms : \u001b[0;36m225374\u001b[0;m\u001b[0;m points]\n",
      "\u001b[0;mAvailable dimensions: \u001b[0;36mx y z\n",
      "\u001b[1;32m> \u001b[0;mLoading \u001b[0;36m../data/real/kiwi_2700000.tile.downsample.kiwi_2700000.pcd \u001b[0;m\u001b[0;m\u001b[0;m[done, \u001b[0;36m50.7849\u001b[0;m\u001b[0;m ms : \u001b[0;36m221469\u001b[0;m\u001b[0;m points]\n",
      "\u001b[0;mAvailable dimensions: \u001b[0;36mx y z\n",
      "\u001b[1;32m> \u001b[0;mLoading \u001b[0;36m../data/real/kiwi_300000.tile.downsample.kiwi_300000.pcd \u001b[0;m\u001b[0;m\u001b[0;m[done, \u001b[0;36m60.8407\u001b[0;m\u001b[0;m ms : \u001b[0;36m223632\u001b[0;m\u001b[0;m points]\n",
      "\u001b[0;mAvailable dimensions: \u001b[0;36mx y z\n",
      "\u001b[1;32m> \u001b[0;mLoading \u001b[0;36m../data/real/kiwi_3000000.tile.downsample.kiwi_3000000.pcd \u001b[0;m\u001b[0;m\u001b[0;m[done, \u001b[0;36m47.4878\u001b[0;m\u001b[0;m ms : \u001b[0;36m185412\u001b[0;m\u001b[0;m points]\n",
      "\u001b[0;mAvailable dimensions: \u001b[0;36mx y z\n",
      "\u001b[1;32m> \u001b[0;mLoading \u001b[0;36m../data/real/kiwi_600000.tile.downsample.kiwi_600000.pcd \u001b[0;m\u001b[0;m\u001b[0;m[done, \u001b[0;36m52.6527\u001b[0;m\u001b[0;m ms : \u001b[0;36m202006\u001b[0;m\u001b[0;m points]\n",
      "\u001b[0;mAvailable dimensions: \u001b[0;36mx y z\n",
      "\u001b[1;32m> \u001b[0;mLoading \u001b[0;36m../data/real/kiwi_900000.tile.downsample.kiwi_900000.pcd \u001b[0;m\u001b[0;m\u001b[0;m[done, \u001b[0;36m53.2861\u001b[0;m\u001b[0;m ms : \u001b[0;36m220479\u001b[0;m\u001b[0;m points]\n",
      "\u001b[0;mAvailable dimensions: \u001b[0;36mx y z\n",
      "\u001b[0;m"
     ]
    }
   ],
   "source": [
    "!pcl_viewer ../data/real/kiwi_*.tile.downsample.kiwi_*.pcd"
   ]
  },
  {
   "cell_type": "markdown",
   "metadata": {},
   "source": [
    "## Digital terrain model (DTM)\n",
    "\n",
    "The first principal step of treeseg is to identify the individual trees in the larger-area point cloud. This identification is undertaken on a slice segmented from the larger-area point cloud along the xy-plane. To generate this slice at some defined height above-ground whilst adjusting for topography, it is necessary to construct an underlying digital terrain model (DTM). Both this DTM, and the slice can be generated using:\n",
    "\n",
    "```console\n",
    "!getdtmslice 2 2.5 0.1 10 ../data/mock/scan*.tile.downsample.scan*.pcd > ../data/mock/scan.dtm.dat\n",
    "```\n",
    "\n",
    "Where the inputs are: 1) the resolution of the DTM (m), 2) the percentile of the z-coordinates of the points inside each DTM grid which is considered to constitute the ground (this is used, rather than the absolute minimum, to provide more robust results in noisy point clouds), 3) the minimum height of the slice above-ground (m), 4) the maximum height of the slice above-ground (m), and 5) the downsampled tiles constituting the larger-area point cloud.\n",
    "\n"
   ]
  },
  {
   "cell_type": "code",
   "execution_count": 24,
   "metadata": {
    "collapsed": true,
    "jupyter": {
     "outputs_hidden": true
    },
    "tags": []
   },
   "outputs": [
    {
     "name": "stdout",
     "output_type": "stream",
     "text": [
      "../data/real/kiwi_0.tile.downsample.kiwi_0.pcd\n",
      "../data/real/kiwi_1200000.tile.downsample.kiwi_1200000.pcd\n",
      "../data/real/kiwi_1500000.tile.downsample.kiwi_1500000.pcd\n",
      "../data/real/kiwi_1800000.tile.downsample.kiwi_1800000.pcd\n",
      "../data/real/kiwi_2100000.tile.downsample.kiwi_2100000.pcd\n",
      "../data/real/kiwi_2400000.tile.downsample.kiwi_2400000.pcd\n",
      "../data/real/kiwi_2700000.tile.downsample.kiwi_2700000.pcd\n",
      "../data/real/kiwi_300000.tile.downsample.kiwi_300000.pcd\n",
      "../data/real/kiwi_3000000.tile.downsample.kiwi_3000000.pcd\n",
      "../data/real/kiwi_600000.tile.downsample.kiwi_600000.pcd\n",
      "../data/real/kiwi_900000.tile.downsample.kiwi_900000.pcd\n"
     ]
    }
   ],
   "source": [
    "!ls ../data/real/kiwi_*.tile.downsample.kiwi_*.pcd"
   ]
  },
  {
   "cell_type": "code",
   "execution_count": 25,
   "metadata": {},
   "outputs": [],
   "source": [
    "!getdtmslice 2 2.5 -1 2 ../data/real/kiwi_*.tile.downsample.kiwi_*.pcd > ../data/real/scan.dtm.dat"
   ]
  },
  {
   "cell_type": "code",
   "execution_count": 26,
   "metadata": {},
   "outputs": [],
   "source": [
    "!mv kiwi_*.slice.pcd ../data/real/"
   ]
  },
  {
   "cell_type": "code",
   "execution_count": 27,
   "metadata": {},
   "outputs": [
    {
     "name": "stdout",
     "output_type": "stream",
     "text": [
      "../data/real/kiwi_0.slice.pcd\n"
     ]
    }
   ],
   "source": [
    "!ls ../data/real/kiwi_*.slice.pcd"
   ]
  },
  {
   "cell_type": "code",
   "execution_count": null,
   "metadata": {
    "tags": []
   },
   "outputs": [
    {
     "name": "stdout",
     "output_type": "stream",
     "text": [
      "\u001b[0;mThe viewer window provides interactive commands; for help, press 'h' or 'H' from within the window.\n",
      "\u001b[1;32m> \u001b[0;mLoading \u001b[0;36m../data/real/kiwi_0.slice.pcd \u001b[0;m\u001b[1;33m[PCLVisualizer::setUseVbos] Has no effect when OpenGL version is ≥ 2\n",
      "\u001b[0;m\u001b[0;m[done, \u001b[0;36m916.426\u001b[0;m\u001b[0;m ms : \u001b[0;36m2106364\u001b[0;m\u001b[0;m points]\n",
      "\u001b[0;mAvailable dimensions: \u001b[0;36mx y z\n"
     ]
    }
   ],
   "source": [
    "!pcl_viewer ../data/real/kiwi_*.slice.pcd"
   ]
  },
  {
   "cell_type": "markdown",
   "metadata": {},
   "source": [
    "## Identifying the stems\n",
    "\n",
    "Individual tree stems are then identified in this slice across the larger-area point cloud through four steps:\n",
    "\n",
    "Euclidean clustering: the slice is organised into individual clusters, based on the spatial distances between points.\n",
    "Region-based segmentation: these clusters are further reduced to regions, based on the properties of their underlying surfaces (themselves inferred from point normals).\n",
    "Shape fitting: RANSAC methods are used to fit cylinders to each region, and fit diagnostics are used to determine the likelihood of the underlying surface being a stem.\n",
    "Principal component analysis: the angle between the principal components of each region and the ground are calculated, with regions broadly perpendicular to the ground deemed to be stems.\n",
    "These steps are implemented in the findstems executable, which can be called:\n",
    "\n",
    "```console\n",
    "\n",
    "```"
   ]
  },
  {
   "cell_type": "code",
   "execution_count": 11,
   "metadata": {
    "collapsed": true,
    "jupyter": {
     "outputs_hidden": true
    },
    "tags": []
   },
   "outputs": [
    {
     "data": {
      "text/html": [
       "<div>\n",
       "<style scoped>\n",
       "    .dataframe tbody tr th:only-of-type {\n",
       "        vertical-align: middle;\n",
       "    }\n",
       "\n",
       "    .dataframe tbody tr th {\n",
       "        vertical-align: top;\n",
       "    }\n",
       "\n",
       "    .dataframe thead th {\n",
       "        text-align: right;\n",
       "    }\n",
       "</style>\n",
       "<table border=\"1\" class=\"dataframe\">\n",
       "  <thead>\n",
       "    <tr style=\"text-align: right;\">\n",
       "      <th></th>\n",
       "      <th>x</th>\n",
       "      <th>y</th>\n",
       "      <th>z</th>\n",
       "    </tr>\n",
       "  </thead>\n",
       "  <tbody>\n",
       "    <tr>\n",
       "      <th>0</th>\n",
       "      <td>-41.205204</td>\n",
       "      <td>-20.119791</td>\n",
       "      <td>0.290444</td>\n",
       "    </tr>\n",
       "    <tr>\n",
       "      <th>1</th>\n",
       "      <td>-42.461205</td>\n",
       "      <td>-20.671791</td>\n",
       "      <td>0.290444</td>\n",
       "    </tr>\n",
       "    <tr>\n",
       "      <th>2</th>\n",
       "      <td>-41.972206</td>\n",
       "      <td>-20.427792</td>\n",
       "      <td>0.291444</td>\n",
       "    </tr>\n",
       "    <tr>\n",
       "      <th>3</th>\n",
       "      <td>-41.256203</td>\n",
       "      <td>-20.141792</td>\n",
       "      <td>0.293444</td>\n",
       "    </tr>\n",
       "    <tr>\n",
       "      <th>4</th>\n",
       "      <td>-43.114204</td>\n",
       "      <td>-20.987791</td>\n",
       "      <td>0.294444</td>\n",
       "    </tr>\n",
       "    <tr>\n",
       "      <th>...</th>\n",
       "      <td>...</td>\n",
       "      <td>...</td>\n",
       "      <td>...</td>\n",
       "    </tr>\n",
       "    <tr>\n",
       "      <th>793925</th>\n",
       "      <td>6.871796</td>\n",
       "      <td>4.927208</td>\n",
       "      <td>2.043444</td>\n",
       "    </tr>\n",
       "    <tr>\n",
       "      <th>793926</th>\n",
       "      <td>6.857795</td>\n",
       "      <td>5.324209</td>\n",
       "      <td>2.045444</td>\n",
       "    </tr>\n",
       "    <tr>\n",
       "      <th>793927</th>\n",
       "      <td>6.877796</td>\n",
       "      <td>5.128209</td>\n",
       "      <td>2.047444</td>\n",
       "    </tr>\n",
       "    <tr>\n",
       "      <th>793928</th>\n",
       "      <td>6.885796</td>\n",
       "      <td>5.732209</td>\n",
       "      <td>2.051444</td>\n",
       "    </tr>\n",
       "    <tr>\n",
       "      <th>793929</th>\n",
       "      <td>6.893795</td>\n",
       "      <td>7.276208</td>\n",
       "      <td>5.414443</td>\n",
       "    </tr>\n",
       "  </tbody>\n",
       "</table>\n",
       "<p>793930 rows × 3 columns</p>\n",
       "</div>"
      ],
      "text/plain": [
       "                x          y         z\n",
       "0      -41.205204 -20.119791  0.290444\n",
       "1      -42.461205 -20.671791  0.290444\n",
       "2      -41.972206 -20.427792  0.291444\n",
       "3      -41.256203 -20.141792  0.293444\n",
       "4      -43.114204 -20.987791  0.294444\n",
       "...           ...        ...       ...\n",
       "793925   6.871796   4.927208  2.043444\n",
       "793926   6.857795   5.324209  2.045444\n",
       "793927   6.877796   5.128209  2.047444\n",
       "793928   6.885796   5.732209  2.051444\n",
       "793929   6.893795   7.276208  5.414443\n",
       "\n",
       "[793930 rows x 3 columns]"
      ]
     },
     "execution_count": 11,
     "metadata": {},
     "output_type": "execute_result"
    }
   ],
   "source": [
    "#\n",
    "files = {}\n",
    "\n",
    "for file in glob.glob(os.path.join(datapath, 'kiwi_*.slice.pcd')):\n",
    "    pcd_load = o3d.io.read_point_cloud(file)\n",
    "    # convert Open3D.o3d.geometry.PointCloud to numpy array\n",
    "    xyz_load = np.asarray(pcd_load.points)\n",
    "    files[file.split('/')[-1]] = xyz_load\n",
    "\n",
    "# concatenate all data\n",
    "df = np.concatenate(list(files.values()))\n",
    "df.shape\n",
    "\n",
    "pcds = pd.DataFrame(df, columns=['x', 'y', 'z'])\n",
    "pcds\n",
    "\n",
    "# plt.figure(figsize=(15,5))\n",
    "# for num, (key, val) in enumerate(pcds.items()):\n",
    "#     plt.subplot(1,3,num+1)\n",
    "#     plt.hist(val, 80, label=key)"
   ]
  },
  {
   "cell_type": "code",
   "execution_count": 12,
   "metadata": {},
   "outputs": [
    {
     "name": "stdout",
     "output_type": "stream",
     "text": [
      "-43.19020462036133 7.2147955894470215 -21.177791595458984 11.157208442687988\n"
     ]
    }
   ],
   "source": [
    "xmin, xmax = pcds['x'].min(), pcds['x'].max()\n",
    "ymin, ymax = pcds['y'].min(), pcds['y'].max()\n",
    "print(xmin, xmax, ymin, ymax)\n",
    "np.savetxt(os.path.join(datapath, 'scan.coords.dat'), [xmin, xmax, ymin, ymax], fmt='%.2f', delimiter='\\s')"
   ]
  },
  {
   "cell_type": "code",
   "execution_count": 23,
   "metadata": {},
   "outputs": [
    {
     "name": "stdout",
     "output_type": "stream",
     "text": [
      "Reading slice: complete\n",
      "Cluster extraction: kiwi_0.intermediate.slice.clusters.pcd | 94\n",
      "Region-based segmentation: kiwi_0.intermediate.slice.clusters.regions.pcd | 94\n",
      "RANSAC cylinder fits: libc++abi.dylib: terminating with uncaught exception of type pcl::IOException: : [pcl::PCDWriter::writeBinary] Input point cloud has no data!\n"
     ]
    }
   ],
   "source": [
    "!findstems 45 0.3 0.8 ../data/real/scan.coords.dat ../data/real/kiwi_*.slice.pcd\n",
    "# ../data/mock_vel/scan0*.tile.downsample.slice.pcd"
   ]
  },
  {
   "cell_type": "code",
   "execution_count": 183,
   "metadata": {},
   "outputs": [
    {
     "name": "stdout",
     "output_type": "stream",
     "text": [
      "\u001b[0;mThe viewer window provides interactive commands; for help, press 'h' or 'H' from within the window.\n",
      "\u001b[1;32m> \u001b[0;mLoading \u001b[0;36mscan00000.cluster.0.pcd \u001b[0;m\u001b[1;33m[PCLVisualizer::setUseVbos] Has no effect when OpenGL version is ≥ 2\n",
      "\u001b[0;m\u001b[0;m[done, \u001b[0;36m453.226\u001b[0;m\u001b[0;m ms : \u001b[0;36m544\u001b[0;m\u001b[0;m points]\n",
      "\u001b[0;mAvailable dimensions: \u001b[0;36mx y z\n",
      "\u001b[0;m"
     ]
    }
   ],
   "source": [
    "!pcl_viewer scan0*.cluster.*.pcd"
   ]
  },
  {
   "cell_type": "code",
   "execution_count": 84,
   "metadata": {},
   "outputs": [
    {
     "name": "stdout",
     "output_type": "stream",
     "text": [
      "\u001b[0;mThe viewer window provides interactive commands; for help, press 'h' or 'H' from within the window.\n",
      "\u001b[1;32m> \u001b[0;mLoading \u001b[0;36mscan00000.intermediate.slice.clusters.regions.cylinders.pcd \u001b[0;m\u001b[1;33m[PCLVisualizer::setUseVbos] Has no effect when OpenGL version is ≥ 2\n",
      "\u001b[0;m\u001b[0;m[done, \u001b[0;36m274.07\u001b[0;m\u001b[0;m ms : \u001b[0;36m655\u001b[0;m\u001b[0;m points]\n",
      "\u001b[0;mAvailable dimensions: \u001b[0;36mx y z rgb\n",
      "\u001b[0;m"
     ]
    }
   ],
   "source": [
    "!pcl_viewer scan0*.intermediate.slice.clusters.regions.cylinders.pcd"
   ]
  },
  {
   "cell_type": "code",
   "execution_count": 85,
   "metadata": {},
   "outputs": [
    {
     "name": "stdout",
     "output_type": "stream",
     "text": [
      "\u001b[0;mThe viewer window provides interactive commands; for help, press 'h' or 'H' from within the window.\n",
      "\u001b[1;32m> \u001b[0;mLoading \u001b[0;36mscan00000.intermediate.slice.clusters.regions.cylinders.principal.pcd \u001b[0;m\u001b[1;33m[PCLVisualizer::setUseVbos] Has no effect when OpenGL version is ≥ 2\n",
      "\u001b[0;m\u001b[0;m[done, \u001b[0;36m214.624\u001b[0;m\u001b[0;m ms : \u001b[0;36m655\u001b[0;m\u001b[0;m points]\n",
      "\u001b[0;mAvailable dimensions: \u001b[0;36mx y z rgb\n",
      "\u001b[0;m"
     ]
    }
   ],
   "source": [
    "!pcl_viewer scan0*.intermediate.slice.clusters.regions.cylinders.principal.pcd"
   ]
  },
  {
   "cell_type": "code",
   "execution_count": 86,
   "metadata": {},
   "outputs": [
    {
     "name": "stdout",
     "output_type": "stream",
     "text": [
      "\u001b[0;mThe viewer window provides interactive commands; for help, press 'h' or 'H' from within the window.\n",
      "\u001b[1;32m> \u001b[0;mLoading \u001b[0;36mscan00000.intermediate.slice.clusters.regions.cylinders.principal.cat.pcd \u001b[0;m\u001b[1;33m[PCLVisualizer::setUseVbos] Has no effect when OpenGL version is ≥ 2\n",
      "\u001b[0;m\u001b[0;m[done, \u001b[0;36m213.516\u001b[0;m\u001b[0;m ms : \u001b[0;36m655\u001b[0;m\u001b[0;m points]\n",
      "\u001b[0;mAvailable dimensions: \u001b[0;36mx y z rgb\n",
      "\u001b[0;m"
     ]
    }
   ],
   "source": [
    "!pcl_viewer scan0*.intermediate.slice.clusters.regions.cylinders.principal.cat.pcd"
   ]
  },
  {
   "cell_type": "code",
   "execution_count": 20,
   "metadata": {},
   "outputs": [
    {
     "name": "stdout",
     "output_type": "stream",
     "text": [
      "\u001b[0;mThe viewer window provides interactive commands; for help, press 'h' or 'H' from within the window.\n",
      "\u001b[1;32m> \u001b[0;mLoading \u001b[0;36mkiwi_0.intermediate.slice.clusters.pcd \u001b[0;m\u001b[1;33m[PCLVisualizer::setUseVbos] Has no effect when OpenGL version is ≥ 2\n",
      "\u001b[0;m\u001b[0;m[done, \u001b[0;36m1125.42\u001b[0;m\u001b[0;m ms : \u001b[0;36m140794\u001b[0;m\u001b[0;m points]\n",
      "\u001b[0;mAvailable dimensions: \u001b[0;36mx y z rgb\n",
      "\u001b[0;m"
     ]
    }
   ],
   "source": [
    "!pcl_viewer kiwi_*.intermediate.slice.clusters.pcd"
   ]
  },
  {
   "cell_type": "code",
   "execution_count": 22,
   "metadata": {},
   "outputs": [
    {
     "name": "stdout",
     "output_type": "stream",
     "text": [
      "\u001b[0;mThe viewer window provides interactive commands; for help, press 'h' or 'H' from within the window.\n",
      "\u001b[1;32m> \u001b[0;mLoading \u001b[0;36mkiwi_0.intermediate.slice.clusters.regions.pcd \u001b[0;m\u001b[1;33m[PCLVisualizer::setUseVbos] Has no effect when OpenGL version is ≥ 2\n",
      "\u001b[0;m\u001b[0;m[done, \u001b[0;36m2041.17\u001b[0;m\u001b[0;m ms : \u001b[0;36m138996\u001b[0;m\u001b[0;m points]\n",
      "\u001b[0;mAvailable dimensions: \u001b[0;36mx y z rgb\n",
      "\u001b[0;m"
     ]
    }
   ],
   "source": [
    "!pcl_viewer kiwi_*.intermediate.slice.clusters.regions.pcd"
   ]
  },
  {
   "cell_type": "code",
   "execution_count": null,
   "metadata": {},
   "outputs": [],
   "source": []
  }
 ],
 "metadata": {
  "kernelspec": {
   "display_name": "plant-env",
   "language": "python",
   "name": "plant-env"
  },
  "language_info": {
   "codemirror_mode": {
    "name": "ipython",
    "version": 3
   },
   "file_extension": ".py",
   "mimetype": "text/x-python",
   "name": "python",
   "nbconvert_exporter": "python",
   "pygments_lexer": "ipython3",
   "version": "3.9.6"
  },
  "toc-autonumbering": false,
  "toc-showcode": true,
  "toc-showmarkdowntxt": true,
  "toc-showtags": false
 },
 "nbformat": 4,
 "nbformat_minor": 4
}
