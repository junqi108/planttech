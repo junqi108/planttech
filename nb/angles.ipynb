{
 "cells": [
  {
   "cell_type": "code",
   "execution_count": null,
   "metadata": {},
   "outputs": [],
   "source": [
    "import numpy as np\n",
    "import os, sys\n",
    "import matplotlib.pyplot as plt\n",
    "\n",
    "basedir = os.path.abspath(os.path.join(os.getcwd() ,\"../..\"))\n",
    "_py = os.path.join(basedir, 'py')\n",
    "\n",
    "sys.path.insert(1, _py)\n",
    "import loads\n",
    "import lia\n",
    "\n",
    "import warnings\n",
    "warnings.filterwarnings(\"ignore\")\n",
    "\n",
    "%load_ext autoreload\n",
    "%autoreload 2"
   ]
  },
  {
   "cell_type": "markdown",
   "metadata": {},
   "source": [
    "# `Leaf Inclination Angle` (LIA) estimation\n",
    "\n",
    "Most functions used in this chapter are in lirary:\n",
    "\n",
    "``` Python\n",
    "import lia\n",
    "```\n",
    "\n",
    "Outputs will be placed inside directory `lia`,\n",
    "\n",
    "```\n",
    "root\n",
    "└───data\n",
    "    └───test\n",
    "        │   s0100000.numpy\n",
    "        │   s0200000.numpy\n",
    "        │   ...\n",
    "        │   mesh.ply\n",
    "        │   scanner_pos.txt\n",
    "        └───lia\n",
    "            │   angles_<treename>.npy\n",
    "            │   weights_<treename>.npy\n",
    "            |   leaf_angle_dist_<treename>.png\n",
    "            |   leaf_angle_dist_height_<treename>.png\n",
    "            |   bestfits_pars_treename>.png\n",
    "\n",
    "```"
   ]
  },
  {
   "cell_type": "markdown",
   "metadata": {},
   "source": [
    "## The method (`lia.leaf_angle()`)\n",
    "\n",
    "The main function that computes the LIA is `lia.leaf_angle()` which uses a KDtree approximation. The steps are as follow: \n",
    "\n",
    "1. `Compute normals`: This method fits a plane based on the nearesth neighbors for each point and gets the normal of this plane.\n",
    "    \n",
    "2. `Compute zenith angles`: Then, using the dot product with get the angle with respect to the zenith (i.e. agains vector (0, 0, 1)) \n",
    "    \n",
    "3. `Range correction`: The results angles run from $0 < \\theta < 180$, however we require these to be in the range $0 < \\theta < 90$ therefore we transfom those angles $> 90$ with relation:\n",
    "\n",
    "$$\\theta_{L} = 180 - \\theta$$\n",
    "\n",
    "4. `Weights correction`: The resulting LIA is biased to PC density and completeness. In order to reduce this biases, we compute weights via voxelization,\n",
    "\n",
    "$$\\eta_{i} = n_{i}/L^{3} \\\\\n",
    "  \\bar{\\eta} = \\frac{1}{N}\\sum_{i=0}^{N} \\eta{i}$$\n",
    "\n",
    "where $n_{i}$ is the number of points within voxel $i$, $L$ is the voxel size, and $N$ is the total number of voxels, then $\\eta_{i}$ is the volume density of voxel $i$, and $\\bar{\\eta}$ is the mean volume density."
   ]
  },
  {
   "cell_type": "markdown",
   "metadata": {},
   "source": [
    "The function `lia.leaf_angle()` has to be ran per tree and requieres 6 input parameters:\n",
    "\n",
    "- `points`: $x$, $y$ and $z$ coordinates of the leaf point cloud (LPC).\n",
    "- `mockname`: name of directory where the data is.\n",
    "- `treename`: name/index of tree.\n",
    "- `voxel_size_w`: voxel size for `weights correction` i.e. $L$.\n",
    "- `kd3_sr`: KDtree searching radius for the nearest neighboors serch.\n",
    "- `max_nn`: Maximum number of nearest neightbors to be considered.\n",
    "\n",
    "This function returns a set of files inside directory `lia`:\n",
    "\n",
    "- `angles_<treename>.npy`: LIA for the LPC. One file per tree.\n",
    "- `weights_<treename>.npy`: LIA weights for the LPC. One file per tree.\n",
    "- `leaf_angle_dist_<treename>.png`: Figure of LIA ($\\theta_{L}$) distribution with `weights correction`. If `Truth` LIA available, this will be shown alongside. One figure per tree.\n",
    "- `leaf_angle_dist_height_<treename>.png`: Top - Figure of LPC distribution accross different heights in terms of voxels $k$. Bottom - If `Truth` LIA available, $\\theta_{L}^{truth} - \\theta_{L}$. The different curves show this for different heights ($k$). One figure per tree."
   ]
  },
  {
   "cell_type": "markdown",
   "metadata": {},
   "source": [
    "## Look for best-fit `voxel_size_w`, `kd3_sr` and `max_nn` with `lia.bestfit_pars_la()`\n",
    "\n",
    "If truth LIA available i.e. there's a mesh file `mesh.ply` in the `test` directory, then we will be able to run function `lia.bestfit_pars_la()` which essentialy runs `lia.leaf_angle()` for a range of values in `voxel_size_w`, `kd3_sr` and `max_nn` and find the best-fit for these three based on the minimal $\\chi^{2}$ between the estimated LIA and the truth LIA.\n",
    "\n",
    "`lia.bestfit_pars_la()` is as well ran per tree and requires only `points`, `mockname` and `treename`. It returns `bestfit_<treename>.npy` file that contains the `voxel_size_w`, `kd3_sr` and `max_nn` best-fit values per tree. it also returns a dictionary with the $\\chi^{2}$ for each of these runs.\n",
    "\n",
    "Using output dictionary from `bestfit_pars_la` we can run `bestfit_pars_la` to create figure `bestfits_pars_treename>.png` that shows the $\\chi^{2}$ for all the ranges used in `voxel_size_w`, `kd3_sr` and `max_nn`.\n",
    "\n",
    "```{note}\n",
    "Current LIA implementation can work without `Truth` LIA, however, we need the `Truth` to estimate the optimal `voxel_size_w`, `kd3_sr` and `max_nn` parameters. We need to find the relation between these three and LPC that could rely on the LPC density, leaf size, leaf area, etc.\n",
    "```\n",
    "\n"
   ]
  },
  {
   "cell_type": "markdown",
   "metadata": {},
   "source": [
    "The piece of code bellow runs `lia.bestfit_pars_la()` and `lia.best_fit_pars_plot()` for each tree."
   ]
  },
  {
   "cell_type": "code",
   "execution_count": null,
   "metadata": {},
   "outputs": [],
   "source": [
    "for key, val in trees.items():\n",
    "\n",
    "    keep = (val) & (leaves) # take the LPC per tree\n",
    "    df_ = df[['x', 'y', 'z']][keep]\n",
    "    points = loads.DF2array(df_)\n",
    "    res = lia.bestfit_pars_la(points, mockname, treename=key)\n",
    "    lia.best_fit_pars_plot(res, key, mockname)"
   ]
  },
  {
   "cell_type": "markdown",
   "metadata": {},
   "source": [
    "once we find the best-fit parameters we get figure `bestfits_pars_treename>.png` that is shown in Fig. {numref}`bestfits_pars`. we use these best fits to run `lia.leaf_angle()` and get the LIA and corresponding weigths per tree. The code that does that is shown below and in Fig. {numref}`lia_dist` we show `leaf_angle_dist_<treename>.png` and in Fig. {numref}`lia_dist_h` `leaf_angle_dist_height_<treename>.png`.\n",
    "\n",
    "```{figure} ../images/bestfits_pars_tree_0.png\n",
    "---\n",
    "width: 30em\n",
    "name: bestfits_pars\n",
    "---\n",
    "`voxel_size_w`, `kd3_sr` and `max_nn` best-fits.\n",
    "```"
   ]
  },
  {
   "cell_type": "code",
   "execution_count": null,
   "metadata": {},
   "outputs": [],
   "source": [
    "# load bestfit results\n",
    "for key, val in trees.items():\n",
    "\n",
    "    keep = (val) & (leaves)\n",
    "    df_ = df[['x', 'y', 'z']][keep]\n",
    "    points = loads.DF2array(df_)\n",
    "\n",
    "    bestfit_file = os.path.join(_data, mockname, 'lia', 'bestfit_%s.npy' %(key))\n",
    "    res = np.load(bestfit_file, allow_pickle=True)\n",
    "    res = res.tolist()\n",
    "\n",
    "    text = 'leaf area=%.2f \\n %s=%.4f \\n %s=%.4f \\n %s=%.4f ' %(res['leafsize'], \n",
    "                                                    'voxel_size_w', res['voxel_size_w_bestfit'],\n",
    "                                                    'kd3_sr', res['kd3_sr_bestfit'],'max_nn', \n",
    "                                                    res['max_nn_bestfit'])\n",
    "\n",
    "    chi2 = lia.leaf_angle(points, mockname, key, res['voxel_size_w_bestfit'], \n",
    "                            res['kd3_sr_bestfit'], res['max_nn_bestfit'], save=True,\n",
    "                                savefig=True, text=text)"
   ]
  },
  {
   "cell_type": "markdown",
   "metadata": {},
   "source": [
    "\n",
    "```{figure} ../images/leaf_angle_dist_tree_0.png\n",
    "---\n",
    "width: 40em\n",
    "name: lia_dist\n",
    "---\n",
    "LIA ($\\theta_{L}$) distribution with `weights correction`.\n",
    "```\n",
    "\n",
    "\n",
    "```{figure} ../images/leaf_angle_dist_height_tree_0.png\n",
    "---\n",
    "width: 40em\n",
    "name: lia_dist_h\n",
    "---\n",
    "LPC distribution accross different heights in terms of voxels $k$. Bottom - If `Truth` LIA available, $\\theta_{L}^{truth} - \\theta_{L}$. The different curves show this for different heights ($k$).\n",
    "```"
   ]
  },
  {
   "cell_type": "markdown",
   "metadata": {},
   "source": []
  }
 ],
 "metadata": {
  "language_info": {
   "name": "python"
  },
  "orig_nbformat": 4
 },
 "nbformat": 4,
 "nbformat_minor": 2
}
