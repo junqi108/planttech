{
 "cells": [
  {
   "cell_type": "code",
   "execution_count": 1,
   "id": "27bd394f-3509-4a57-ab3f-0831275bfceb",
   "metadata": {},
   "outputs": [
    {
     "name": "stdout",
     "output_type": "stream",
     "text": [
      "Jupyter environment detected. Enabling Open3D WebVisualizer.\n",
      "[Open3D INFO] WebRTC GUI backend enabled.\n",
      "[Open3D INFO] WebRTCWindowSystem: HTTP handshake server disabled.\n"
     ]
    }
   ],
   "source": [
    "import numpy as np\n",
    "import pandas as pd\n",
    "import matplotlib.pyplot as plt\n",
    "import open3d as o3d\n",
    "import os, sys, glob\n",
    "import laspy as lp\n",
    "from time import process_time"
   ]
  },
  {
   "cell_type": "markdown",
   "id": "723d2bd9-7cfb-4ef7-980a-5638e84dac81",
   "metadata": {},
   "source": [
    "# Compute LAI and LAD from foliage point cloud\n",
    "\n",
    "This notebook asumes that you already removed the trunk and branches from trees, and that you have segmentated the trees and put it in individual PCD files."
   ]
  },
  {
   "cell_type": "code",
   "execution_count": 2,
   "id": "37134212-1a80-4274-8d1a-852f46b490ca",
   "metadata": {},
   "outputs": [],
   "source": [
    "#\n",
    "datapath = '../data/mock_vel2/toy_trees/' #path of segmented trees\n",
    "rawpath = '../data/mock_vel2' # path with raw numpy data from blensor\n",
    "\n",
    "files = glob.glob(os.path.join(datapath, 'tree_*.npy'))\n",
    "files_raw = glob.glob(os.path.join(rawpath, 'toy0*.numpy'))\n",
    "\n",
    "tree = np.load(files[0])\n",
    "points = tree.T[5:8].T # x,y, and z coordinates\n"
   ]
  },
  {
   "cell_type": "code",
   "execution_count": 3,
   "id": "c62b166d-01ab-4e79-a89b-e4fbeae87fbe",
   "metadata": {},
   "outputs": [],
   "source": [
    "#\n",
    "voxel_size=0.3"
   ]
  },
  {
   "cell_type": "code",
   "execution_count": 4,
   "id": "dc5e7b00-0d9a-4456-896b-ad3b0b867275",
   "metadata": {},
   "outputs": [],
   "source": [
    "# pcd = points2pcd(bps)\n",
    "# downpcd = o3d.geometry.PointCloud.voxel_down_sample(pcd, voxel_size=0.2)\n",
    "# o3d.visualization.draw_geometries([downpcd])"
   ]
  },
  {
   "cell_type": "markdown",
   "id": "f320e873-382a-4981-bd22-accf5a788a59",
   "metadata": {
    "tags": []
   },
   "source": [
    "### Trace back laser beam with Laser Beam Angles `Pitch` and `Yaw`"
   ]
  },
  {
   "cell_type": "code",
   "execution_count": 42,
   "id": "f023fe1e-85c6-4733-bc7d-bfd88abc9fb4",
   "metadata": {},
   "outputs": [],
   "source": [
    "# Get laser beam direction from YAW and PITCH\n",
    "\n",
    "def beam_direction(yaw, pitch):\n",
    "    \n",
    "    x = np.cos(yaw)*np.cos(pitch)\n",
    "    y = np.sin(yaw)*np.cos(pitch)\n",
    "    z = np.sin(pitch)\n",
    "    \n",
    "    points = np.vstack((np.array(x), np.array(y), np.array(z))).transpose()\n",
    "    \n",
    "    return points\n",
    "\n",
    "#\n",
    "def trace_beam(points, beam_angles, distance, res=0.1):\n",
    "\n",
    "    tracers = {'p':[], 'pb':[], 'linepts':[]}\n",
    "\n",
    "#     beam_angles = np.vstack((np.array(df['yaw']), np.array(df['pitch']))).transpose()\n",
    "#     dist = np.array(df['distance'])\n",
    "\n",
    "    # unitary vector with direction of beam from camera point of view\n",
    "    uv = beam_direction(beam_angles.T[0], beam_angles.T[1]) \n",
    "\n",
    "    for i in range(uv.shape[0]):\n",
    "        \n",
    "        # proyect unitary vector to actual distance of beam and invert it to point cloud data view\n",
    "        N = int(distance[i]/res)\n",
    "        pb = -1 * uv[i] * np.linspace(0.01, distance[i], N)[:, np.newaxis] # this traces the beam with N points\n",
    "\n",
    "        # Moving proyected unitary vector (i.e. the beam) to its reall position\n",
    "        linepts = points[i] + pb\n",
    "\n",
    "        # create matrix with position of the origin beam and position of the intersected beam\n",
    "#         twopoints = np.vstack([p[i], linepts[-1]])\n",
    "\n",
    "        tracers['p'].append(points[i])\n",
    "        tracers['pb'].append(linepts[-1])\n",
    "        tracers['linepts'].append(linepts)\n",
    "        \n",
    "    return tracers\n",
    "\n",
    "#\n",
    "\n",
    "def within_plant(points, foliage_points, skipz=False):\n",
    "    \n",
    "    keep = np.ones(points.shape[0], dtype=bool)\n",
    "    if skipz: n = 2\n",
    "    else: n = 3\n",
    "    for i in range(n):\n",
    "        keep &= np.logical_and(points[:,i] >= foliage_points[:,i].min(),\n",
    "                               points[:,i] <= foliage_points[:,i].max())\n",
    "\n",
    "    return keep\n",
    "\n",
    "#\n",
    "def get_beams_traces(foliage_points, files, res=0.1):\n",
    "    \"\"\"\n",
    "    Get beam traces points within plant region.\n",
    "    \"\"\"\n",
    "\n",
    "    beam_points_wpr = []\n",
    "    # read the numpy files\n",
    "    for file in files:\n",
    "\n",
    "        df = np.loadtxt(file)\n",
    "        if len(df) == 0: continue\n",
    "        filename = file.split('/')[-1]\n",
    "#         print(filename)\n",
    "        points = df.T[5:8].T # x,y, and z coordinates\n",
    "        beam_angles = df.T[1:3].T # Pitch and Yaw\n",
    "        distance = df.T[3:4].T # distance from UAV to intercepted point\n",
    "        \n",
    "        #continue if points within plant region\n",
    "        inplant = within_plant(points, foliage_points)\n",
    "        if inplant.sum() == 0: \n",
    "            print(filename, 'skipped...')\n",
    "            continue\n",
    "\n",
    "        tracers = trace_beam(points[inplant], beam_angles[inplant], distance[inplant], res=res)\n",
    "        beam_points = np.vstack(tracers['linepts'])\n",
    "        beam_points = beam_points.reshape(beam_points.shape[0], beam_points.shape[2])\n",
    "    #     print(beam_points.shape)\n",
    "\n",
    "        # filter within plant region\n",
    "#         keep = np.ones(beam_points.shape[0], dtype=bool)\n",
    "#         for i in range(3):\n",
    "#             keep &= np.logical_and(beam_points[:,i] >= foliage_points[:,i].min(),\n",
    "#                                    beam_points[:,i] <= foliage_points[:,i].max())\n",
    "        keep = within_plant(beam_points, foliage_points)\n",
    "\n",
    "        print('%s \\t beam traces points: \\t %i --> %i' %(filename, len(keep), np.sum(keep)))\n",
    "        if np.sum(keep) > 0:\n",
    "            beam_points_wpr.append(beam_points[keep])\n",
    "\n",
    "    return beam_points_wpr"
   ]
  },
  {
   "cell_type": "code",
   "execution_count": 43,
   "id": "e7be109d-e4a6-44da-9120-f90844d7f6de",
   "metadata": {
    "tags": []
   },
   "outputs": [
    {
     "name": "stdout",
     "output_type": "stream",
     "text": [
      "toy00022.numpy skipped...\n",
      "toy00023.numpy skipped...\n",
      "toy00004.numpy \t beam traces points: \t 274055 --> 16183\n",
      "toy00008.numpy skipped...\n"
     ]
    },
    {
     "name": "stderr",
     "output_type": "stream",
     "text": [
      "<ipython-input-42-59065fb06ffb>:65: UserWarning: loadtxt: Empty input file: \"../data/mock_vel2/toy00003.numpy\"\n",
      "  df = np.loadtxt(file)\n"
     ]
    },
    {
     "name": "stdout",
     "output_type": "stream",
     "text": [
      "toy00020.numpy \t beam traces points: \t 1981517 --> 452546\n",
      "toy00009.numpy \t beam traces points: \t 712885 --> 65268\n",
      "toy00016.numpy skipped...\n",
      "toy00007.numpy \t beam traces points: \t 306570 --> 28618\n",
      "toy00017.numpy \t beam traces points: \t 1031523 --> 151202\n",
      "toy00021.numpy skipped...\n",
      "toy00012.numpy skipped...\n"
     ]
    },
    {
     "name": "stderr",
     "output_type": "stream",
     "text": [
      "<ipython-input-42-59065fb06ffb>:65: UserWarning: loadtxt: Empty input file: \"../data/mock_vel2/toy00033.numpy\"\n",
      "  df = np.loadtxt(file)\n"
     ]
    },
    {
     "name": "stdout",
     "output_type": "stream",
     "text": [
      "toy00030.numpy \t beam traces points: \t 1607726 --> 456338\n",
      "toy00034.numpy \t beam traces points: \t 1102926 --> 155574\n",
      "toy00025.numpy \t beam traces points: \t 63093 --> 23097\n",
      "toy00028.numpy skipped...\n"
     ]
    },
    {
     "name": "stderr",
     "output_type": "stream",
     "text": [
      "<ipython-input-42-59065fb06ffb>:65: UserWarning: loadtxt: Empty input file: \"../data/mock_vel2/toy00036.numpy\"\n",
      "  df = np.loadtxt(file)\n",
      "<ipython-input-42-59065fb06ffb>:65: UserWarning: loadtxt: Empty input file: \"../data/mock_vel2/toy00001.numpy\"\n",
      "  df = np.loadtxt(file)\n"
     ]
    },
    {
     "name": "stdout",
     "output_type": "stream",
     "text": [
      "toy00010.numpy skipped...\n",
      "toy00029.numpy \t beam traces points: \t 295911 --> 89051\n",
      "toy00013.numpy \t beam traces points: \t 871752 --> 84559\n",
      "toy00032.numpy \t beam traces points: \t 1873408 --> 332525\n",
      "toy00011.numpy \t beam traces points: \t 611942 --> 72509\n",
      "toy00015.numpy skipped...\n",
      "toy00014.numpy \t beam traces points: \t 835214 --> 91663\n",
      "toy00018.numpy skipped...\n",
      "toy00027.numpy \t beam traces points: \t 3771 --> 1069\n",
      "toy00035.numpy skipped...\n",
      "toy00024.numpy \t beam traces points: \t 1010246 --> 400099\n",
      "toy00005.numpy skipped...\n",
      "toy00000.numpy skipped...\n"
     ]
    },
    {
     "name": "stderr",
     "output_type": "stream",
     "text": [
      "<ipython-input-42-59065fb06ffb>:65: UserWarning: loadtxt: Empty input file: \"../data/mock_vel2/toy00031.numpy\"\n",
      "  df = np.loadtxt(file)\n"
     ]
    },
    {
     "name": "stdout",
     "output_type": "stream",
     "text": [
      "toy00026.numpy \t beam traces points: \t 993846 --> 413936\n",
      "toy00006.numpy skipped...\n",
      "toy00019.numpy skipped...\n",
      "toy00002.numpy \t beam traces points: \t 210545 --> 12087\n"
     ]
    }
   ],
   "source": [
    "# %time tracers = trace_beam(points, beam_angles, distance, res=0.02)\n",
    "tracers = get_beams_traces(points, files_raw, res=0.04)"
   ]
  },
  {
   "cell_type": "code",
   "execution_count": 44,
   "id": "88b12fc8-0dfa-4e5b-9113-d9f955ec4168",
   "metadata": {},
   "outputs": [
    {
     "name": "stdout",
     "output_type": "stream",
     "text": [
      "(2846324, 3)\n"
     ]
    }
   ],
   "source": [
    "tracers = np.vstack(tracers)\n",
    "print(tracers.shape)"
   ]
  },
  {
   "cell_type": "code",
   "execution_count": 45,
   "id": "f9278e40-eaa1-4bd9-94f5-fac7045e6c10",
   "metadata": {},
   "outputs": [],
   "source": [
    "# beam_points = np.vstack(tracers['linepts'])\n",
    "# print(beam_points.shape)\n",
    "# # reshape\n",
    "# beam_points = beam_points.reshape(beam_points.shape[0], beam_points.shape[2])\n",
    "# print(beam_points.shape)"
   ]
  },
  {
   "cell_type": "markdown",
   "id": "2c4dbe29-778a-4b11-9c6f-d567afe7d509",
   "metadata": {},
   "source": [
    "### Get normals"
   ]
  },
  {
   "cell_type": "code",
   "execution_count": 46,
   "id": "3a39f2d4-17fb-482b-a366-e6e5071d9177",
   "metadata": {},
   "outputs": [],
   "source": [
    "#\n",
    "\n",
    "def points2pcd(points):\n",
    "    \n",
    "    pcd = o3d.geometry.PointCloud()\n",
    "    pcd.points = o3d.utility.Vector3dVector(points)\n",
    "    pcd.colors = o3d.utility.Vector3dVector(np.random.uniform(0, 1, size=np.asarray(pcd.points).shape))\n",
    "    \n",
    "    return pcd\n",
    "\n",
    "def get_normals(points, sr=0.1, max_nn=30, show=False):\n",
    "    \n",
    "    pcd = points2pcd(points)\n",
    "    \n",
    "    o3d.geometry.PointCloud.estimate_normals(pcd, search_param=o3d.geometry.KDTreeSearchParamHybrid(radius=sr,max_nn=max_nn))\n",
    "    \n",
    "    if show:\n",
    "        \n",
    "        downpcd = o3d.geometry.PointCloud.voxel_down_sample(pcd, voxel_size=0.5)\n",
    "        o3d.visualization.draw_geometries([downpcd])\n",
    "        \n",
    "    return np.asarray(pcd.normals)\n"
   ]
  },
  {
   "cell_type": "code",
   "execution_count": 47,
   "id": "6b447e72-155f-44fa-a22b-154a02c44e0e",
   "metadata": {},
   "outputs": [],
   "source": [
    "normals = get_normals(points=points, show=True)"
   ]
  },
  {
   "cell_type": "markdown",
   "id": "dae9ed65-8893-47d8-a8ae-1341f18ea396",
   "metadata": {},
   "source": [
    "### Get the Leaf Inclination Angle ($\\theta_{L}$)"
   ]
  },
  {
   "cell_type": "code",
   "execution_count": 48,
   "id": "68e0f938-547d-4cfe-b224-803769533259",
   "metadata": {},
   "outputs": [],
   "source": [
    "#\n",
    "\n",
    "def vecttoangle(v1, v2):\n",
    "    \n",
    "    unit_vector_1 = v1 / np.linalg.norm(v1)\n",
    "    unit_vector_2 = v2 / np.linalg.norm(v2)\n",
    "    dot_product = np.dot(unit_vector_1, unit_vector_2)\n",
    "    angle = np.arccos(dot_product)\n",
    "    \n",
    "    return np.rad2deg(angle)\n",
    "\n",
    "def get_leaf_angle(points, normals, voxel_size, show=False):\n",
    "    \n",
    "    t1 = process_time()\n",
    "    \n",
    "    pcd = points2pcd(points)\n",
    "    \n",
    "    # Voxelizing the PCD\n",
    "    print('voxelization')\n",
    "    voxel_grid = o3d.geometry.VoxelGrid.create_from_point_cloud(pcd, voxel_size)\n",
    "        \n",
    "    # get voxel ID for each point\n",
    "    voxel = []\n",
    "    queries = points\n",
    "\n",
    "    for vox in queries:\n",
    "\n",
    "        i,j,k = voxel_grid.get_voxel(vox)\n",
    "        voxel.append('%s_%s_%s' %(i,j,k))\n",
    "\n",
    "    print('N voxels: %i' %(len(set(voxel))))\n",
    "    print('Voxel size: \\t %.2f' %(voxel_size))\n",
    "    \n",
    "    # \n",
    "    angs = {'voxID':[], 'avgVect':[], 'avgAngle':[], 'N':[]}\n",
    "\n",
    "    #\n",
    "    vox, idx, idxinv, counts = np.unique(np.array(voxel), return_index=True, return_inverse=True, return_counts=True)\n",
    "\n",
    "    for num, vx in enumerate(vox):\n",
    "\n",
    "        keep = np.where(idxinv == num)\n",
    "\n",
    "        angs['voxID'].append(vx)\n",
    "        angs['N'].append(counts[num])\n",
    "\n",
    "        # average all normals within voxel\n",
    "        avgVect = normals[keep].sum(axis=0)\n",
    "        angs['avgVect'].append(avgVect)\n",
    "\n",
    "        # get angle with respect to z axis from average normals\n",
    "        ang = vecttoangle([0, 0, 1], -avgVect)\n",
    "        angs['avgAngle'].append(np.round(ang, 1))\n",
    "\n",
    "    t2 = process_time()\n",
    "    print('Total time:', t2-t1)\n",
    "    \n",
    "    if show:\n",
    "        o3d.visualization.draw_geometries([voxel_grid])\n",
    "        \n",
    "    return angs\n",
    "    "
   ]
  },
  {
   "cell_type": "code",
   "execution_count": 49,
   "id": "074b7493-dc1d-4a18-9ef4-6e5fbde3f90d",
   "metadata": {},
   "outputs": [
    {
     "name": "stdout",
     "output_type": "stream",
     "text": [
      "voxelization\n",
      "N voxels: 800\n",
      "Voxel size: \t 0.30\n",
      "Total time: 0.2283913150000103\n"
     ]
    }
   ],
   "source": [
    "angs = get_leaf_angle(points, normals, voxel_size, show=True)"
   ]
  },
  {
   "cell_type": "code",
   "execution_count": 50,
   "id": "3ab8b193-e1f0-4241-b3da-82e75dbde35d",
   "metadata": {},
   "outputs": [
    {
     "data": {
      "image/png": "[encoded data removed]",
      "text/plain": [
       "<Figure size 720x432 with 1 Axes>"
      ]
     },
     "metadata": {
      "needs_background": "light"
     },
     "output_type": "display_data"
    }
   ],
   "source": [
    "plt.figure(figsize=(10,6))\n",
    "\n",
    "bins = np.linspace(0, 180, int(180/4))\n",
    "\n",
    "plt.hist(angs['avgAngle'], bins=bins, color='g', alpha=0.7)\n",
    "plt.axvline(35, c='r', label=r'$\\theta_{L}=35$')\n",
    "plt.axvline(180-35, c='r', ls='--', label=r'$\\theta_{L}=180-35$')\n",
    "\n",
    "plt.ylabel(r'Frecuency', size=20)\n",
    "plt.xlabel(r'$\\theta_{L}$', size=20)\n",
    "plt.legend()\n",
    "plt.show()"
   ]
  },
  {
   "cell_type": "markdown",
   "id": "13576050-524b-4245-8f56-d86df48ac4ce",
   "metadata": {},
   "source": [
    "## Find atributes"
   ]
  },
  {
   "cell_type": "code",
   "execution_count": 51,
   "id": "2bf1b55a-18d7-4f1c-aede-eec70f8fb8e6",
   "metadata": {},
   "outputs": [],
   "source": [
    "#\n",
    "def get_voxels(voxel_grid):\n",
    "    \n",
    "    voxels = []\n",
    "    for i in voxel_grid.get_voxels():\n",
    "#         voxels.append('_'.join(str(j) for j in i.grid_index.tolist()))\n",
    "        voxels.append(i.grid_index.tolist())\n",
    "    \n",
    "    return np.array(voxels)\n",
    "\n",
    "def idx_bounds(voxel_idx, show=False):\n",
    "    \n",
    "    # get i,j,k max and min\n",
    "    vdict = {}\n",
    "    vdict['ijk_max'] = [voxel_idx.T[i].max() for i in [0,1,2]]\n",
    "    vdict['ijk_min'] = [voxel_idx.T[i].min() for i in [0,1,2]]\n",
    "    \n",
    "    if show:\n",
    "        print('max -->', vdict['ijk_max'])\n",
    "        print('min -->', vdict['ijk_min'])\n",
    "        \n",
    "    return vdict\n",
    "\n",
    "#\n",
    "def within_bounds(voxel_idx, voxel_idx_bounds):\n",
    "    \n",
    "    vdict = idx_bounds(voxel_idx_bounds, False)\n",
    "    \n",
    "    keep = np.ones(voxel_idx.shape[0], dtype=bool)\n",
    "    for i in range(3):\n",
    "        keep &= np.logical_and(vdict['ijk_min'][i] <= voxel_idx[:,i], vdict['ijk_max'][i] >= voxel_idx[:,i])\n",
    "        \n",
    "    # Check 3D matrix i,j,k size matches length of solid voxel grid index array: i*j*k == voxs_idx.shape[0]\n",
    "    vdict = idx_bounds(voxel_idx[keep], False)\n",
    "    assert np.product(np.array(vdict['ijk_max'])+1) == voxel_idx_bounds.shape[0]\n",
    "        \n",
    "    return voxel_idx[keep]\n",
    "\n",
    "#\n",
    "def get_attributes(m3shape, m3p, m3b, show=False):\n",
    "    \n",
    "    # 3D matrix full with attribute 3\n",
    "    m3att = np.full(m3shape, 3, dtype=int)\n",
    "    \n",
    "    # fill with attribute 2\n",
    "    m3att[m3b] = 2\n",
    "    \n",
    "    # fill with attribute 1\n",
    "    m3att[m3p] = 1\n",
    "    \n",
    "    assert (m3att == 3).sum() == (~(m3b & (~m3p) | (m3p))).sum()\n",
    "    assert (m3att == 2).sum() == (m3b & (~m3p)).sum()\n",
    "    assert (m3att == 1).sum() == m3p.sum()\n",
    "    \n",
    "    if show:\n",
    "        for i in range(1,4):\n",
    "            print('Number of voxels with attribute %i: \\t %i' %(i, (m3att == i).sum()))\n",
    "\n",
    "    return m3att\n"
   ]
  },
  {
   "cell_type": "code",
   "execution_count": 52,
   "id": "f0be685a-bc5d-426b-855f-2cd98c344c7c",
   "metadata": {
    "tags": []
   },
   "outputs": [
    {
     "name": "stdout",
     "output_type": "stream",
     "text": [
      "6.299999999999999 6.3 4.800000000000001\n"
     ]
    }
   ],
   "source": [
    "# get points voxel bounding box\n",
    "pcd = points2pcd(points)\n",
    "voxp = o3d.geometry.VoxelGrid.create_from_point_cloud(pcd, voxel_size=voxel_size)\n",
    "# voxp.get_axis_aligned_bounding_box()\n",
    "\n",
    "# Voxelize the beam points with same bounding box dimensions as the points voxel grid\n",
    "pcd = points2pcd(tracers)\n",
    "voxb = o3d.geometry.VoxelGrid.create_from_point_cloud_within_bounds(pcd, voxel_size=voxel_size, \n",
    "                                                                    min_bound=voxp.get_min_bound().reshape(3,1), \n",
    "                                                                    max_bound=voxp.get_max_bound().reshape(3,1))\n",
    "\n",
    "# Create voxel of plant region\n",
    "width, height, depth = voxp.get_max_bound() - voxp.get_min_bound()\n",
    "print(width, height, depth)\n",
    "voxs = o3d.geometry.VoxelGrid.create_dense(origin=voxp.origin, color=np.array([0,0,1]), voxel_size=voxel_size, width=width, height=height, depth=depth)\n"
   ]
  },
  {
   "cell_type": "code",
   "execution_count": 53,
   "id": "0ceebc8b-b076-4780-b209-995b079280b5",
   "metadata": {},
   "outputs": [
    {
     "name": "stdout",
     "output_type": "stream",
     "text": [
      "max --> [20, 20, 15]\n",
      "min --> [0, 0, 0]\n"
     ]
    }
   ],
   "source": [
    "# Get solid voxel grid indexes\n",
    "voxs_idx = get_voxels(voxs)\n",
    "\n",
    "# get i,j,k max and min\n",
    "vdict = idx_bounds(voxs_idx, True)\n",
    "ijk_bounds = np.array(list(vdict.values())).reshape(1,6)[0]\n",
    "\n",
    "# check that all index (i,j and k) are positive\n",
    "if np.any(ijk_bounds < 0):\n",
    "    raise ValueError('Solid voxel grid found negative (i,j,k) values.')\n",
    "\n",
    "# create 3D boolean matrix of i,j,k size\n",
    "m3s = np.zeros(np.array(vdict['ijk_max'])+1, dtype=bool)\n",
    "m3s.shape\n",
    "\n",
    "# Check 3D matrix i,j,k size matches length of solid voxel grid index array: i*j*k == voxs_idx.shape[0]\n",
    "assert np.product(np.array(vdict['ijk_max'])+1) == voxs_idx.shape[0]"
   ]
  },
  {
   "cell_type": "code",
   "execution_count": 54,
   "id": "4f57ccca-9c1f-4a9e-b1f6-55259113f582",
   "metadata": {
    "tags": []
   },
   "outputs": [
    {
     "name": "stdout",
     "output_type": "stream",
     "text": [
      "Number of voxels ocupied by points cloud: \t 800\n",
      "Number of voxels ocupied by beam points cloud: \t 6278\n",
      "Total number of voxels in plant regions: \t 7056\n"
     ]
    }
   ],
   "source": [
    "# get voxel grid indexes for points and beams voxels\n",
    "voxp_idx = get_voxels(voxp)\n",
    "voxb_idx = get_voxels(voxb)\n",
    "\n",
    "# get rid of voxels outside the plant region\n",
    "voxp_idx = within_bounds(voxp_idx, voxs_idx)\n",
    "voxb_idx = within_bounds(voxb_idx, voxs_idx)\n",
    "\n",
    "# fill 3D matrix with True if voxel exist\n",
    "m3p = m3s.copy()\n",
    "for (i,j,k) in voxp_idx:\n",
    "    \n",
    "    m3p[i][j][k] = True\n",
    "    \n",
    "print('Number of voxels ocupied by points cloud: \\t %i' %(m3p.sum()))\n",
    "\n",
    "m3b = m3s.copy()\n",
    "for (i,j,k) in voxb_idx:\n",
    "        \n",
    "    m3b[i][j][k] = True\n",
    "    \n",
    "print('Number of voxels ocupied by beam points cloud: \\t %i' %(m3b.sum()))\n",
    "print('Total number of voxels in plant regions: \\t %i' %((~m3s).sum()))\n"
   ]
  },
  {
   "cell_type": "code",
   "execution_count": 55,
   "id": "7ce7a2dd-b7ea-4e97-8909-1077090d8db1",
   "metadata": {},
   "outputs": [
    {
     "name": "stdout",
     "output_type": "stream",
     "text": [
      "Number of voxels with attribute 1: \t 800\n",
      "Number of voxels with attribute 2: \t 5478\n",
      "Number of voxels with attribute 3: \t 778\n"
     ]
    }
   ],
   "source": [
    "m3att = get_attributes(m3s.shape, m3p, m3b, True)"
   ]
  },
  {
   "cell_type": "code",
   "execution_count": 56,
   "id": "37b9d437-89a4-49f0-b099-fd115dc5ca46",
   "metadata": {},
   "outputs": [
    {
     "data": {
      "text/plain": [
       "(21, 21, 16)"
      ]
     },
     "execution_count": 56,
     "metadata": {},
     "output_type": "execute_result"
    }
   ],
   "source": [
    "m3att.shape"
   ]
  },
  {
   "cell_type": "markdown",
   "id": "c7c2a5ac-780e-4623-8b7d-4de20f7c3f94",
   "metadata": {},
   "source": [
    "## Computing $G(\\theta)$\n",
    "\n",
    "$G(\\theta)$ is the mean projection of a unit leaf area on a plane perpendicular to the direction of the laser beam. This quantity is determined with the assumption that leaves are positioned symmetrically with respect to the azimuth anc can be represented as:\n",
    "\n",
    "$$G(\\theta) =  \\sum_{q=1}^{T_{q}} g(q) S(\\theta, \\theta_{L}(q))$$\n",
    "\n",
    "where $S(\\theta, \\theta_{L}(q))$ is expresed in terms of the leaf in-inclination angle $\\theta_{L}$ (the zenith angle of the normal to the leaf surface), and $\\theta$ is the laser-beam incident zenith angle:\n",
    "\n",
    "$$S(\\theta, \\theta_{L}) = \\cos\\theta \\cos \\theta_{L}, \\hspace{.5cm} \\textrm{for } \\theta \\leq \\pi/2 - \\theta_{L}$$\n",
    "$$S(\\theta, \\theta_{L}) = \\cos\\theta \\cos \\theta_{L} \\left[ 1 + \\frac{2}{\\pi}(\\tan x - x) \\right], \\hspace{.5cm} \\textrm{for } \\theta \\gt \\pi/2 - \\theta_{L}$$\n",
    "\n",
    "$$x = \\cos^{-1}\\left( \\cot \\theta \\cot \\theta_{L} \\right).$$\n",
    "\n",
    "Here $q$ is the leaf-inclination-angle class and Tq is the total number of leaf-inclination-angle classes. Thus, if there are $18$ leaf-inclination-angle classes from $0◦$ to $90◦$ ($Tq = 18$), then each class consists of a $5◦$ interval. For example, $q = 1$, $q = 9$, and $q = 16$ include the angles from $0◦$ to $4◦$, $40◦$ to $44◦$, and $75◦$ to $79◦$, respectively. $g(q)$ is the distribution of the leaf-inclination-angle class $q$, which is a ratio of the leaf area belonging to class $q$ to total leaf area; $θ_{L}(q)$ is the midpoint angle of class $q$, which is the leaf-inclination angle used to represent class $q$.\n",
    "\n"
   ]
  },
  {
   "cell_type": "markdown",
   "id": "29e52665-7346-4747-ac9c-96b678dd5b9d",
   "metadata": {},
   "source": [
    "### Correcting $\\theta_{L}$\n",
    "\n",
    "Since we want angles with respect to the zenith, we will correct for angles above $\\pi/2$ as follow:\n",
    "\n",
    "$$\\theta_{L} = \\theta_{l}, \\hspace{0.5cm} \\textrm{for } \\theta_{l} \\leq \\pi/2,$$\n",
    "$$\\theta_{L} = \\pi - \\theta_{l}, \\hspace{0.5cm} \\textrm{for } \\theta_{l} \\gt \\pi/2,$$\n",
    "\n",
    "where $\\theta_{l}$ is the average angle we get with the `get_leaf_angle` function.\n"
   ]
  },
  {
   "cell_type": "code",
   "execution_count": 57,
   "id": "c3a780e5-7079-4a92-acfc-7eba74abcb47",
   "metadata": {},
   "outputs": [],
   "source": [
    "# correct \\theta_{L}\n",
    "thetaL = [i if (i < 90) else (180 - i) for i in angs['avgAngle']]"
   ]
  },
  {
   "cell_type": "code",
   "execution_count": 58,
   "id": "4ab8cde9-a91a-4932-a676-e90c1d52832d",
   "metadata": {
    "tags": []
   },
   "outputs": [
    {
     "data": {
      "image/png": "[encoded data removed]",
      "text/plain": [
       "<Figure size 720x432 with 1 Axes>"
      ]
     },
     "metadata": {
      "needs_background": "light"
     },
     "output_type": "display_data"
    }
   ],
   "source": [
    "#\n",
    "plt.figure(figsize=(10,6))\n",
    "\n",
    "bins = np.linspace(0, 180, int(180/4))\n",
    "\n",
    "plt.hist(thetaL, bins=bins, color='g', alpha=0.7)\n",
    "plt.axvline(35, c='r', label=r'$\\theta_{L}=35$')\n",
    "plt.axvline(180-35, c='r', ls='--', label=r'$\\theta_{L}=180-35$')\n",
    "\n",
    "plt.ylabel(r'Frecuency', size=20)\n",
    "plt.xlabel(r'$\\theta_{L}$', size=20)\n",
    "plt.legend()\n",
    "plt.show()"
   ]
  },
  {
   "cell_type": "markdown",
   "id": "4f96b7d5-e3f0-467c-bd38-915984e50d5a",
   "metadata": {},
   "source": [
    "### Computing $G(\\theta)$"
   ]
  },
  {
   "cell_type": "code",
   "execution_count": 59,
   "id": "16ae362a-cb4e-443d-84ad-21cf67f3fc0e",
   "metadata": {},
   "outputs": [],
   "source": [
    "#\n",
    "def stheta(theta, thetaLq):\n",
    "    \n",
    "    x = lambda theta, thetaLq : 1/np.cos(np.arctan(np.tan(theta))*np.arctan(np.tan(thetaLq)))\n",
    "    \n",
    "    if theta <= np.pi/2 - thetaLq:\n",
    "        s = np.cos(theta)*np.cos(thetaLq)\n",
    "        \n",
    "    elif theta > np.pi/2 - thetaLq:\n",
    "        s = np.cos(theta)*np.cos(thetaLq)*(1 + 2*(np.tan(x(theta, thetaLq)) - x(theta, thetaLq))/np.pi)\n",
    "    else:\n",
    "        raise ValueError('theta=%.2f and/or thetaL=%.2f fails condition' %(theta, thetaLq))\n",
    "        \n",
    "    return s\n",
    "    \n",
    "def Gtheta(theta, thetaL, tq, norm=True):\n",
    "    \n",
    "    \"\"\"\n",
    "    Compute the G(\\theta).\n",
    "    \n",
    "    theta:  float::  beam-angle in degrees\n",
    "    thetaL: float-array:: leaf-inclination-angle distribution in degrees\n",
    "    tq: int:: total number of leaf-inclination-angle classes\n",
    "    \"\"\"\n",
    "    \n",
    "    bins = np.linspace(0, 90, tq+1)\n",
    "    gtot = len(thetaL)\n",
    "    Gtheta_i = []\n",
    "\n",
    "    for q in range(len(bins)-1):\n",
    "        \n",
    "        keep = np.logical_and(thetaL >= bins[q], thetaL < bins[q+1])\n",
    "        if norm: gqi = np.sum(keep)/gtot # normalize the inclination-angle distribution?\n",
    "        else: gqi = np.sum(keep)\n",
    "        thetaLq = np.median(np.array(thetaL)[keep])\n",
    "        if np.isnan(thetaLq):\n",
    "            thetaLq = bins[q] + (bins[q+1] - bins[q])/2.\n",
    "#         print(q, thetaLq)\n",
    "        sthetaq = stheta(np.radians(np.array(theta)), np.radians(np.array(thetaLq)))\n",
    "        Gtheta_i.append(gqi*sthetaq)\n",
    "\n",
    "#         print(gqi*sthetaq)\n",
    "#     print('Total: ',np.array(Gtheta_i).sum())\n",
    "\n",
    "    return np.array(Gtheta_i).sum()\n",
    "    "
   ]
  },
  {
   "cell_type": "code",
   "execution_count": 81,
   "id": "030c03dd-57bf-46a3-8ff7-be39298ac012",
   "metadata": {
    "tags": []
   },
   "outputs": [
    {
     "name": "stderr",
     "output_type": "stream",
     "text": [
      "/home/omar/anaconda3/envs/plant-env/lib/python3.8/site-packages/numpy/core/fromnumeric.py:3419: RuntimeWarning: Mean of empty slice.\n",
      "  return _methods._mean(a, axis=axis, dtype=dtype,\n",
      "/home/omar/anaconda3/envs/plant-env/lib/python3.8/site-packages/numpy/core/_methods.py:188: RuntimeWarning: invalid value encountered in double_scalars\n",
      "  ret = ret.dtype.type(ret / rcount)\n"
     ]
    },
    {
     "data": {
      "image/png": "[encoded data removed]",
      "text/plain": [
       "<Figure size 720x360 with 1 Axes>"
      ]
     },
     "metadata": {
      "needs_background": "light"
     },
     "output_type": "display_data"
    }
   ],
   "source": [
    "#\n",
    "Gthetas = np.array([[i, Gtheta(i, thetaL, 18)] for i in range(90)])\n",
    "Gthetas_nn = np.array([[i, Gtheta(i, thetaL, 18, norm=False)] for i in range(90)])\n",
    "    \n",
    "# plot\n",
    "plt.figure(figsize=(10,5))\n",
    "plt.plot(Gthetas[:,0], Gthetas[:,1], c='g', label=r'$G(\\theta)$ Norm')\n",
    "plt.plot(Gthetas[:,0], np.cos(np.radians(Gthetas[:,0]))/Gthetas[:,1], c='orange', label=r'$\\alpha(\\theta)$ Norm')\n",
    "# plt.plot(Gthetas_nn[:,0], Gthetas_nn[:,1], c='g', ls='--', label='not Norm')\n",
    "plt.xlabel(r'$\\theta$', size=25)\n",
    "plt.ylabel(r'$f(\\theta)$', size=25)\n",
    "plt.legend(loc='lower left', fontsize=20)\n",
    "plt.grid()\n",
    "plt.ylim(-2, 5)\n",
    "plt.show()\n"
   ]
  },
  {
   "cell_type": "markdown",
   "id": "2353920a-565c-41af-b2a6-cea1b786989b",
   "metadata": {},
   "source": [
    "## Computing `LAD`"
   ]
  },
  {
   "cell_type": "markdown",
   "id": "23647ff4-1c8f-4aad-a293-6763f12f6600",
   "metadata": {},
   "source": [
    "``` python\n",
    "# plant region dimensions\n",
    "width, height, depth = voxp.get_max_bound() - voxp.get_min_bound()\n",
    "# how many voxels to use for DeltaH?\n",
    "# This has to be > 2\n",
    "Nvox = int(2)\n",
    "kvoxes = int(m3att.shape[2])\n",
    "# correct to Nvox without residual if necesary\n",
    "Nvox = kvoxes/(kvoxes//Nvox)\n",
    "\n",
    "# voxel_size = 0.2\n",
    "DeltaH = np.round(Nvox*voxel_size, 4)\n",
    "print(Nvox, DeltaH)\n",
    "```"
   ]
  },
  {
   "cell_type": "code",
   "execution_count": 61,
   "id": "bc2c6482-bc82-4c31-b5cd-13ea6f9ad253",
   "metadata": {},
   "outputs": [],
   "source": [
    "#\n",
    "def get_lad_perk(kcoord, m3att, alpha, voxel_size):\n",
    "    \n",
    "    ki, kf = kcoord\n",
    "    \n",
    "    if kf > m3att.shape[2]:\n",
    "        raise ValueError('k values cannot be greater than available. Maximum K value is: %i' %(m3att.shape[2]))\n",
    "    \n",
    "    m3 = m3att[:,:,ki:kf]\n",
    "    DeltaH = (kf-ki) * voxel_size\n",
    "    lai = []\n",
    "    \n",
    "    for i in range(kf-ki):\n",
    "        \n",
    "        nI = (m3[:,:,i] == 1).sum()\n",
    "        nP = (m3[:,:,i] == 2).sum()\n",
    "        lai.append(nI/(nI+nP))\n",
    "#         print(i, nI, nP, nI/(nI+nP))\n",
    "#         print(i, nI/(nI+nP), DeltaH)\n",
    "        \n",
    "    LAD = alpha * (1/DeltaH) * np.array(lai).sum()\n",
    "#     print(alpha, 1/DeltaH, np.array(lai).sum(), LAD)\n",
    "#     print(ki*voxel_size+DeltaH/2., LAD)\n",
    "\n",
    "    return ki*voxel_size+DeltaH/2., LAD\n",
    "    "
   ]
  },
  {
   "cell_type": "code",
   "execution_count": 62,
   "id": "69d52ded-5da0-4807-84b8-0cee4e61de7f",
   "metadata": {},
   "outputs": [],
   "source": [
    "#\n",
    "def get_LADS(m3att, alpha, voxel_size, kbins):\n",
    "    \n",
    "    kmax = m3att.shape[2]\n",
    "    ar = np.arange(0, kmax, kbins)\n",
    "    kcoords = []\n",
    "    lads = []\n",
    "\n",
    "    for i in range(len(ar)-1):\n",
    "        kcoords.append([ar[i],ar[1:][i]])\n",
    "\n",
    "    kcoords.append([ar[-1], kmax])\n",
    "    \n",
    "#     print(kcoords)\n",
    "    for i in kcoords:\n",
    "        h, lad = get_lad_perk(i, m3att, alpha, voxel_size)\n",
    "        lads.append([h, lad])\n",
    "        \n",
    "    return np.array(lads)\n"
   ]
  },
  {
   "cell_type": "markdown",
   "id": "28589034-178e-4a7d-b617-b500b740cc4b",
   "metadata": {},
   "source": [
    "### Comparison with truth"
   ]
  },
  {
   "cell_type": "code",
   "execution_count": 63,
   "id": "aec1c898-37b8-483b-909c-9121b59b73ef",
   "metadata": {},
   "outputs": [],
   "source": [
    "#\n",
    "# file = \"../data/mock_vel2/toy_trees.ply\"\n",
    "def true_lad(file, DeltaH, leafang):\n",
    "    \n",
    "    mesh = o3d.io.read_triangle_mesh(file)\n",
    "    bxi, byi, bzi = mesh.get_min_bound()\n",
    "    bxf, byf, bzf = mesh.get_max_bound()\n",
    "    lx, ly = np.abs(bxf - bxi), np.abs(byf - byi)\n",
    "    \n",
    "    #divide heigth in bins\n",
    "    ar = np.arange(bzi, bzf, DeltaH)\n",
    "    kcoords = []\n",
    "    for i in range(len(ar)-1):\n",
    "        kcoords.append([ar[i],ar[1:][i]])\n",
    "    kcoords.append([ar[-1], bzf])\n",
    "    \n",
    "    #compute true lad per bin\n",
    "    lads = []\n",
    "    # crop mesh for each bin\n",
    "    for i in kcoords:\n",
    "        bbox = o3d.geometry.AxisAlignedBoundingBox(min_bound=(bxi, byi, i[0]), max_bound=(bxf, byf, i[1]))\n",
    "        _mesh = mesh.crop(bbox)\n",
    "        # get surface of croped mesh\n",
    "        A = _mesh.get_surface_area()\n",
    "        # correct by leaf inclination\n",
    "        Areal = A*np.cos(np.radians(leafang))\n",
    "#         print('%.2f < z < %.2f: \\t A=%.2f \\t Areal=%.2f' %(i[0], i[1], A, Areal))\n",
    "        \n",
    "        #get volume per bin\n",
    "        lz = np.abs(i[1] - i[0])\n",
    "        volume = lx * ly * lz\n",
    "        \n",
    "        #save lad\n",
    "        lads.append([i[0]+lz/2., Areal/volume])\n",
    "        \n",
    "    return np.array(lads)\n"
   ]
  },
  {
   "cell_type": "code",
   "execution_count": 87,
   "id": "9f0d1c9a-662b-442f-8ee2-c56b0a0eae6d",
   "metadata": {
    "tags": []
   },
   "outputs": [],
   "source": [
    "#\n",
    "file = \"../data/mock_vel2/toy_trees.ply\"\n",
    "alpha = 0.2\n",
    "# voxel_size = 0.2\n",
    "kbins = 2\n",
    "DeltaH = voxel_size * kbins\n",
    "\n",
    "tlads = true_lad(file, DeltaH, leafang=35)\n",
    "lads = get_LADS(m3att, alpha, voxel_size, kbins)"
   ]
  },
  {
   "cell_type": "code",
   "execution_count": 88,
   "id": "e657ebb6-2026-4675-8f28-fd3efcb6fbb8",
   "metadata": {},
   "outputs": [
    {
     "data": {
      "image/png": "[encoded data removed]",
      "text/plain": [
       "<Figure size 288x432 with 1 Axes>"
      ]
     },
     "metadata": {
      "needs_background": "light"
     },
     "output_type": "display_data"
    }
   ],
   "source": [
    "#\n",
    "_,_,z = voxp.get_min_bound()\n",
    "#\n",
    "plt.figure(figsize=(4, 6))\n",
    "plt.plot(lads[0:,1], z+lads[0:,0], marker='*', c='g', label='Estimated')\n",
    "plt.plot(tlads[0:,1], tlads[0:,0], marker='s', c='r', label='Truth')\n",
    "plt.xlabel(r'LAD ($m^2/m^3$)')\n",
    "plt.ylabel(r'Height ($m$)')\n",
    "plt.grid()\n",
    "plt.legend()\n",
    "plt.show()"
   ]
  },
  {
   "cell_type": "code",
   "execution_count": 70,
   "id": "c8625a67-4147-466c-9fca-e28d61d33fd9",
   "metadata": {},
   "outputs": [
    {
     "name": "stdout",
     "output_type": "stream",
     "text": [
      "Testing mesh in open3d ...\n",
      "TriangleMesh with 4068 points and 2220 triangles.\n",
      "[[-15.886806   0.148137   2.747738]\n",
      " [-15.745987   0.12655    2.795416]\n",
      " [-15.70449    0.180857   2.843094]\n",
      " ...\n",
      " [-16.         3.031401   7.209926]\n",
      " [-16.125      2.963138   7.162128]\n",
      " [-16.125      2.894876   7.11433 ]]\n",
      "[[   0    1    2]\n",
      " [   0    2    3]\n",
      " [   4    5    6]\n",
      " ...\n",
      " [4060 4062 4063]\n",
      " [4064 4065 4066]\n",
      " [4064 4066 4067]]\n",
      "\n"
     ]
    }
   ],
   "source": [
    "mesh = o3d.io.read_triangle_mesh(file)\n",
    "print(\"Testing mesh in open3d ...\")\n",
    "print(mesh)\n",
    "print(np.asarray(mesh.vertices))\n",
    "print(np.asarray(mesh.triangles))\n",
    "print(\"\")"
   ]
  },
  {
   "cell_type": "code",
   "execution_count": 84,
   "id": "55df0d0b-8a8f-4696-9c51-ac049aa6d0a3",
   "metadata": {},
   "outputs": [
    {
     "name": "stdout",
     "output_type": "stream",
     "text": [
      "Computing normal and rendering it.\n",
      "[[-3.47376234e-01 -4.54609091e-01  8.20158720e-01]\n",
      " [-3.47376475e-01 -4.54608464e-01  8.20158966e-01]\n",
      " [-3.47371150e-01 -4.54612533e-01  8.20158966e-01]\n",
      " ...\n",
      " [-1.52953644e-06 -5.73576164e-01  8.19152235e-01]\n",
      " [ 1.52953644e-06 -5.73576164e-01  8.19152235e-01]\n",
      " [-4.58863939e-06 -5.73579923e-01  8.19149603e-01]]\n"
     ]
    }
   ],
   "source": [
    "print(\"Computing normal and rendering it.\")\n",
    "mesh.compute_vertex_normals()\n",
    "print(np.asarray(mesh.triangle_normals))\n",
    "o3d.visualization.draw_geometries([mesh], mesh_show_wireframe=True)"
   ]
  },
  {
   "cell_type": "code",
   "execution_count": null,
   "id": "777759e6-f239-45d6-b1e9-87cab15b86bc",
   "metadata": {},
   "outputs": [],
   "source": []
  }
 ],
 "metadata": {
  "kernelspec": {
   "display_name": "plant-env",
   "language": "python",
   "name": "plant-env"
  },
  "language_info": {
   "codemirror_mode": {
    "name": "ipython",
    "version": 3
   },
   "file_extension": ".py",
   "mimetype": "text/x-python",
   "name": "python",
   "nbconvert_exporter": "python",
   "pygments_lexer": "ipython3",
   "version": "3.8.11"
  }
 },
 "nbformat": 4,
 "nbformat_minor": 5
}
