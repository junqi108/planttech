{
 "cells": [
  {
   "cell_type": "code",
   "execution_count": 172,
   "metadata": {
    "tags": []
   },
   "outputs": [],
   "source": [
    "import numpy as np\n",
    "import pandas as pd\n",
    "import matplotlib.pyplot as plt\n",
    "import open3d as o3d\n",
    "import os, sys, glob\n",
    "import pdal\n",
    "import laspy as lp\n",
    "\n",
    "from time import process_time"
   ]
  },
  {
   "cell_type": "code",
   "execution_count": 254,
   "metadata": {
    "tags": []
   },
   "outputs": [
    {
     "name": "stderr",
     "output_type": "stream",
     "text": [
      "/var/folders/q_/0v3pvd_d5j50tfyhznx7xsph0000gn/T/ipykernel_64990/1375983129.py:7: UserWarning: loadtxt: Empty input file: \"../data/mock_vel2/toy00001.numpy\"\n",
      "  df = np.loadtxt(file)\n"
     ]
    },
    {
     "name": "stdout",
     "output_type": "stream",
     "text": [
      "file toy00001.numpy empty\n"
     ]
    },
    {
     "name": "stderr",
     "output_type": "stream",
     "text": [
      "/var/folders/q_/0v3pvd_d5j50tfyhznx7xsph0000gn/T/ipykernel_64990/1375983129.py:7: UserWarning: loadtxt: Empty input file: \"../data/mock_vel2/toy00003.numpy\"\n",
      "  df = np.loadtxt(file)\n"
     ]
    },
    {
     "name": "stdout",
     "output_type": "stream",
     "text": [
      "file toy00003.numpy empty\n"
     ]
    },
    {
     "name": "stderr",
     "output_type": "stream",
     "text": [
      "/var/folders/q_/0v3pvd_d5j50tfyhznx7xsph0000gn/T/ipykernel_64990/1375983129.py:7: UserWarning: loadtxt: Empty input file: \"../data/mock_vel2/toy00031.numpy\"\n",
      "  df = np.loadtxt(file)\n",
      "/var/folders/q_/0v3pvd_d5j50tfyhznx7xsph0000gn/T/ipykernel_64990/1375983129.py:7: UserWarning: loadtxt: Empty input file: \"../data/mock_vel2/toy00033.numpy\"\n",
      "  df = np.loadtxt(file)\n"
     ]
    },
    {
     "name": "stdout",
     "output_type": "stream",
     "text": [
      "file toy00031.numpy empty\n",
      "file toy00033.numpy empty\n"
     ]
    },
    {
     "name": "stderr",
     "output_type": "stream",
     "text": [
      "/var/folders/q_/0v3pvd_d5j50tfyhznx7xsph0000gn/T/ipykernel_64990/1375983129.py:7: UserWarning: loadtxt: Empty input file: \"../data/mock_vel2/toy00036.numpy\"\n",
      "  df = np.loadtxt(file)\n"
     ]
    },
    {
     "name": "stdout",
     "output_type": "stream",
     "text": [
      "file toy00036.numpy empty\n"
     ]
    },
    {
     "data": {
      "text/plain": [
       "(980446, 16)"
      ]
     },
     "execution_count": 254,
     "metadata": {},
     "output_type": "execute_result"
    }
   ],
   "source": [
    "# define the path of the data stored\n",
    "datapath = '../data/mock_vel2'\n",
    "\n",
    "# read the numpy files\n",
    "files = {}\n",
    "for file in glob.glob(os.path.join(datapath, 'toy0*.numpy')):\n",
    "    df = np.loadtxt(file)\n",
    "    filename = file.split('/')[-1]\n",
    "    if df.shape[0] > 0:\n",
    "        files[filename] = df\n",
    "    else:\n",
    "        print('file %s empty' %(filename))\n",
    "    \n",
    "# concatenate all data\n",
    "df = np.concatenate(list(files.values()))\n",
    "df.shape"
   ]
  },
  {
   "cell_type": "code",
   "execution_count": 255,
   "metadata": {},
   "outputs": [
    {
     "data": {
      "text/html": [
       "<div>\n",
       "<style scoped>\n",
       "    .dataframe tbody tr th:only-of-type {\n",
       "        vertical-align: middle;\n",
       "    }\n",
       "\n",
       "    .dataframe tbody tr th {\n",
       "        vertical-align: top;\n",
       "    }\n",
       "\n",
       "    .dataframe thead th {\n",
       "        text-align: right;\n",
       "    }\n",
       "</style>\n",
       "<table border=\"1\" class=\"dataframe\">\n",
       "  <thead>\n",
       "    <tr style=\"text-align: right;\">\n",
       "      <th></th>\n",
       "      <th>timestamp</th>\n",
       "      <th>yaw</th>\n",
       "      <th>pitch</th>\n",
       "      <th>distance</th>\n",
       "      <th>distance_noise</th>\n",
       "      <th>x</th>\n",
       "      <th>y</th>\n",
       "      <th>z</th>\n",
       "      <th>x_noise</th>\n",
       "      <th>y_noise</th>\n",
       "      <th>z_noise</th>\n",
       "      <th>object_id</th>\n",
       "      <th>color0</th>\n",
       "      <th>color1</th>\n",
       "      <th>color2</th>\n",
       "      <th>idx</th>\n",
       "    </tr>\n",
       "  </thead>\n",
       "  <tbody>\n",
       "    <tr>\n",
       "      <th>0</th>\n",
       "      <td>0.298264</td>\n",
       "      <td>6.174102</td>\n",
       "      <td>-0.43447</td>\n",
       "      <td>19.013216</td>\n",
       "      <td>18.927129</td>\n",
       "      <td>-11.502816</td>\n",
       "      <td>-10.993846</td>\n",
       "      <td>-5.631300e-07</td>\n",
       "      <td>-11.550941</td>\n",
       "      <td>-10.932338</td>\n",
       "      <td>0.036217</td>\n",
       "      <td>1.851878e+09</td>\n",
       "      <td>204.0</td>\n",
       "      <td>204.0</td>\n",
       "      <td>204.0</td>\n",
       "      <td>0.0</td>\n",
       "    </tr>\n",
       "    <tr>\n",
       "      <th>1</th>\n",
       "      <td>0.298278</td>\n",
       "      <td>6.174975</td>\n",
       "      <td>-0.43447</td>\n",
       "      <td>19.013147</td>\n",
       "      <td>18.940678</td>\n",
       "      <td>-11.491014</td>\n",
       "      <td>-10.984508</td>\n",
       "      <td>-2.093439e-07</td>\n",
       "      <td>-11.531571</td>\n",
       "      <td>-10.932765</td>\n",
       "      <td>0.030488</td>\n",
       "      <td>1.851878e+09</td>\n",
       "      <td>204.0</td>\n",
       "      <td>204.0</td>\n",
       "      <td>204.0</td>\n",
       "      <td>0.0</td>\n",
       "    </tr>\n",
       "    <tr>\n",
       "      <th>2</th>\n",
       "      <td>0.298292</td>\n",
       "      <td>6.175848</td>\n",
       "      <td>-0.43447</td>\n",
       "      <td>19.013079</td>\n",
       "      <td>18.922181</td>\n",
       "      <td>-11.479217</td>\n",
       "      <td>-10.975157</td>\n",
       "      <td>-8.198258e-07</td>\n",
       "      <td>-11.530144</td>\n",
       "      <td>-10.910300</td>\n",
       "      <td>0.038241</td>\n",
       "      <td>1.851878e+09</td>\n",
       "      <td>204.0</td>\n",
       "      <td>204.0</td>\n",
       "      <td>204.0</td>\n",
       "      <td>0.0</td>\n",
       "    </tr>\n",
       "    <tr>\n",
       "      <th>3</th>\n",
       "      <td>0.298306</td>\n",
       "      <td>6.176720</td>\n",
       "      <td>-0.43447</td>\n",
       "      <td>19.013010</td>\n",
       "      <td>18.929125</td>\n",
       "      <td>-11.467432</td>\n",
       "      <td>-10.965796</td>\n",
       "      <td>-1.425127e-06</td>\n",
       "      <td>-11.514482</td>\n",
       "      <td>-10.905985</td>\n",
       "      <td>0.035290</td>\n",
       "      <td>1.851878e+09</td>\n",
       "      <td>204.0</td>\n",
       "      <td>204.0</td>\n",
       "      <td>204.0</td>\n",
       "      <td>0.0</td>\n",
       "    </tr>\n",
       "    <tr>\n",
       "      <th>4</th>\n",
       "      <td>0.298319</td>\n",
       "      <td>6.177593</td>\n",
       "      <td>-0.43447</td>\n",
       "      <td>19.012938</td>\n",
       "      <td>18.943032</td>\n",
       "      <td>-11.455655</td>\n",
       "      <td>-10.956425</td>\n",
       "      <td>-1.277076e-07</td>\n",
       "      <td>-11.494909</td>\n",
       "      <td>-10.906614</td>\n",
       "      <td>0.029411</td>\n",
       "      <td>1.851878e+09</td>\n",
       "      <td>204.0</td>\n",
       "      <td>204.0</td>\n",
       "      <td>204.0</td>\n",
       "      <td>0.0</td>\n",
       "    </tr>\n",
       "  </tbody>\n",
       "</table>\n",
       "</div>"
      ],
      "text/plain": [
       "   timestamp       yaw    pitch   distance  distance_noise          x  \\\n",
       "0   0.298264  6.174102 -0.43447  19.013216       18.927129 -11.502816   \n",
       "1   0.298278  6.174975 -0.43447  19.013147       18.940678 -11.491014   \n",
       "2   0.298292  6.175848 -0.43447  19.013079       18.922181 -11.479217   \n",
       "3   0.298306  6.176720 -0.43447  19.013010       18.929125 -11.467432   \n",
       "4   0.298319  6.177593 -0.43447  19.012938       18.943032 -11.455655   \n",
       "\n",
       "           y             z    x_noise    y_noise   z_noise     object_id  \\\n",
       "0 -10.993846 -5.631300e-07 -11.550941 -10.932338  0.036217  1.851878e+09   \n",
       "1 -10.984508 -2.093439e-07 -11.531571 -10.932765  0.030488  1.851878e+09   \n",
       "2 -10.975157 -8.198258e-07 -11.530144 -10.910300  0.038241  1.851878e+09   \n",
       "3 -10.965796 -1.425127e-06 -11.514482 -10.905985  0.035290  1.851878e+09   \n",
       "4 -10.956425 -1.277076e-07 -11.494909 -10.906614  0.029411  1.851878e+09   \n",
       "\n",
       "   color0  color1  color2  idx  \n",
       "0   204.0   204.0   204.0  0.0  \n",
       "1   204.0   204.0   204.0  0.0  \n",
       "2   204.0   204.0   204.0  0.0  \n",
       "3   204.0   204.0   204.0  0.0  \n",
       "4   204.0   204.0   204.0  0.0  "
      ]
     },
     "execution_count": 255,
     "metadata": {},
     "output_type": "execute_result"
    }
   ],
   "source": [
    "# pass this to a pandas data frame for simplicity\n",
    "scan = pd.DataFrame(df, columns=['timestamp', 'yaw', 'pitch', 'distance','distance_noise',\n",
    "                                'x','y','z',\n",
    "                                'x_noise','y_noise','z_noise',\n",
    "                                'object_id', 'color0', 'color1','color2', 'idx'])\n",
    "\n",
    "scan.head()"
   ]
  },
  {
   "cell_type": "code",
   "execution_count": 4,
   "metadata": {},
   "outputs": [
    {
     "data": {
      "image/png": "[encoded data removed]",
      "text/plain": [
       "<Figure size 1296x864 with 8 Axes>"
      ]
     },
     "metadata": {
      "needs_background": "light"
     },
     "output_type": "display_data"
    }
   ],
   "source": [
    "# Here we show how some of the point cloud parameters looks like.\n",
    "cols = ['timestamp', 'yaw', 'pitch',\n",
    "        'x','y','z',\n",
    "        'distance', 'object_id']\n",
    "\n",
    "plt.figure(figsize=(18, 4*3))\n",
    "\n",
    "for num, i in enumerate(cols):\n",
    "    \n",
    "    plt.subplot(3,3,num+1)\n",
    "    plt.hist(scan[i], 80, alpha=0.5, label=i)\n",
    "    plt.legend()"
   ]
  },
  {
   "cell_type": "markdown",
   "metadata": {},
   "source": [
    "The `object_id` parameter is a label for the leaves, the stems and the ground/soil. Below we plot these id's as a function of distance."
   ]
  },
  {
   "cell_type": "code",
   "execution_count": 5,
   "metadata": {},
   "outputs": [
    {
     "name": "stdout",
     "output_type": "stream",
     "text": [
      "1851878480.0\n",
      "1986094444.0\n",
      "1701147252.0\n"
     ]
    },
    {
     "data": {
      "image/png": "[encoded data removed]",
      "text/plain": [
       "<Figure size 432x288 with 1 Axes>"
      ]
     },
     "metadata": {
      "needs_background": "light"
     },
     "output_type": "display_data"
    }
   ],
   "source": [
    "for i in set(scan['object_id']):\n",
    "    print(i)\n",
    "    mask = scan['object_id'] == i\n",
    "    plt.hist(scan['distance'][mask], 30, histtype='step', lw=2, label=str(i))\n",
    "    plt.legend()"
   ]
  },
  {
   "cell_type": "markdown",
   "metadata": {},
   "source": [
    "## Save to PCD file"
   ]
  },
  {
   "cell_type": "code",
   "execution_count": 256,
   "metadata": {},
   "outputs": [],
   "source": [
    "points = np.vstack((np.array(scan['x']), np.array(scan['y']), np.array(scan['z']))).transpose()"
   ]
  },
  {
   "cell_type": "code",
   "execution_count": 257,
   "metadata": {
    "tags": []
   },
   "outputs": [
    {
     "data": {
      "text/plain": [
       "True"
      ]
     },
     "execution_count": 257,
     "metadata": {},
     "output_type": "execute_result"
    }
   ],
   "source": [
    "#\n",
    "pcd = o3d.geometry.PointCloud()\n",
    "pcd.points = o3d.utility.Vector3dVector(points)\n",
    "o3d.io.write_point_cloud('../data/mock_vel2/toy.pcd', pcd)"
   ]
  },
  {
   "cell_type": "code",
   "execution_count": 290,
   "metadata": {},
   "outputs": [],
   "source": [
    "pcd = o3d.io.read_point_cloud('../data/mock_vel2/toy.pcd')\n",
    "o3d.visualization.draw_geometries([pcd])"
   ]
  },
  {
   "cell_type": "code",
   "execution_count": 252,
   "metadata": {
    "tags": []
   },
   "outputs": [
    {
     "name": "stdout",
     "output_type": "stream",
     "text": [
      "\u001b[0;mThe viewer window provides interactive commands; for help, press 'h' or 'H' from within the window.\n",
      "\u001b[1;32m> \u001b[0;mLoading \u001b[0;36m../data/mock_vel2/toy.pcd \u001b[0;m\u001b[1;33m[PCLVisualizer::setUseVbos] Has no effect when OpenGL version is ≥ 2\n",
      "\u001b[0;m\u001b[0;m[done, \u001b[0;36m1101.79\u001b[0;m\u001b[0;m ms : \u001b[0;36m980446\u001b[0;m\u001b[0;m points]\n",
      "\u001b[0;mAvailable dimensions: \u001b[0;36mx y z\n",
      "\u001b[0;m"
     ]
    }
   ],
   "source": [
    "# Check treeseg can read the output PCD files\n",
    "!pcl_viewer ../data/mock_vel2/toy.pcd"
   ]
  },
  {
   "cell_type": "markdown",
   "metadata": {},
   "source": [
    "## Save leaves only to PCD"
   ]
  },
  {
   "cell_type": "code",
   "execution_count": 9,
   "metadata": {},
   "outputs": [
    {
     "data": {
      "text/plain": [
       "True"
      ]
     },
     "execution_count": 9,
     "metadata": {},
     "output_type": "execute_result"
    }
   ],
   "source": [
    "### get the leaves only\n",
    "leaves = scan['object_id'] == 1986094444.0\n",
    "#\n",
    "pcd = o3d.geometry.PointCloud()\n",
    "pcd.points = o3d.utility.Vector3dVector(points[leaves])\n",
    "o3d.io.write_point_cloud('../data/mock_vel2/toy_leaves.pcd', pcd)"
   ]
  },
  {
   "cell_type": "code",
   "execution_count": 294,
   "metadata": {},
   "outputs": [],
   "source": [
    "pcd = o3d.io.read_point_cloud('../data/mock_vel2/toy_leaves.pcd')\n",
    "o3d.visualization.draw_geometries([pcd])"
   ]
  },
  {
   "cell_type": "code",
   "execution_count": 10,
   "metadata": {},
   "outputs": [
    {
     "name": "stdout",
     "output_type": "stream",
     "text": [
      "\u001b[0;mThe viewer window provides interactive commands; for help, press 'h' or 'H' from within the window.\n",
      "\u001b[1;32m> \u001b[0;mLoading \u001b[0;36m../data/mock_vel2/toy_leaves.pcd \u001b[0;m\u001b[1;33m[PCLVisualizer::setUseVbos] Has no effect when OpenGL version is ≥ 2\n",
      "\u001b[0;m\u001b[0;m[done, \u001b[0;36m1175.9\u001b[0;m\u001b[0;m ms : \u001b[0;36m272657\u001b[0;m\u001b[0;m points]\n",
      "\u001b[0;mAvailable dimensions: \u001b[0;36mx y z\n",
      "\u001b[0;m"
     ]
    }
   ],
   "source": [
    "!pcl_viewer ../data/mock_vel2/toy_leaves.pcd"
   ]
  },
  {
   "cell_type": "markdown",
   "metadata": {},
   "source": [
    "## Save to `las` file with `PDAL`"
   ]
  },
  {
   "cell_type": "code",
   "execution_count": 11,
   "metadata": {},
   "outputs": [],
   "source": [
    "json = \"\"\"\n",
    "{\n",
    "    \"pipeline\":[\n",
    "         \"../data/mock_vel2/toy_leaves.pcd\",\n",
    "         {\n",
    "          \"type\" : \"writers.las\",\n",
    "          \"forward\": \"all\",\n",
    "          \"filename\" : \"../data/mock_vel2/toy_leaves.las\"\n",
    "         }   \n",
    "    ]\n",
    "}\n",
    "\"\"\"\n",
    "\n",
    "pipeline = pdal.Pipeline(json)\n",
    "count = pipeline.execute()\n",
    "arrays = pipeline.arrays\n",
    "metadata = pipeline.metadata\n",
    "log = pipeline.log"
   ]
  },
  {
   "cell_type": "markdown",
   "metadata": {},
   "source": [
    "## Computing Normals for each point\n",
    "\n",
    "Normals can be computed with `PDAL` or with `Object3D`, both give similar results and are relative fast. In order to vizualise the normals we use\n",
    "\n",
    "```python\n",
    "o3d.visualization.draw_geometries([<PCD_FILE>])\n",
    "```\n",
    "\n",
    "since `PCL_VIEWER` is having problems finding the normals. `Object3D` normals can be plotted strigthforward with the `03d.visualization` tool just pressing the key `n`, however, `PDAL` normals have to be modified in the column names from `normalx` to `normal_x`, and the same for `y` and `z`."
   ]
  },
  {
   "cell_type": "code",
   "execution_count": 4,
   "metadata": {},
   "outputs": [
    {
     "name": "stderr",
     "output_type": "stream",
     "text": [
      "(writers.las Error) writers.las: Attempting to write '../data/mock_vel2/toy_leaves_normals.las' with multiple point spatial references.\n"
     ]
    }
   ],
   "source": [
    "# Normals with PDAL\n",
    "json = \"\"\"\n",
    "{\n",
    "    \"pipeline\":[\n",
    "         \"../data/mock_vel2/toy_leaves.pcd\",\n",
    "         {\n",
    "        \"type\":\"filters.normal\",\n",
    "        \"knn\":8\n",
    "        },\n",
    "        {\n",
    "        \"type\":\"writers.bpf\",\n",
    "        \"filename\":\"../data/mock_vel2/toy_leaves_normals.bpf\",\n",
    "        \"output_dims\":\"X,Y,Z,NormalX,NormalY,NormalZ\"\n",
    "        },\n",
    "        \"../data/mock_vel2/toy_leaves_normals.bpf\",\n",
    "        {\n",
    "        \"type\":\"writers.pcd\",\n",
    "        \"filename\":\"../data/mock_vel2/toy_leaves_normals.pcd\"\n",
    "        },\n",
    "        {\n",
    "        \"type\":\"writers.las\",\n",
    "        \"filename\":\"../data/mock_vel2/toy_leaves_normals.las\"\n",
    "        }\n",
    "    ]\n",
    "}\n",
    "\"\"\"\n",
    "\n",
    "pipeline = pdal.Pipeline(json)\n",
    "count = pipeline.execute()\n",
    "arrays = pipeline.arrays\n",
    "metadata = pipeline.metadata\n",
    "log = pipeline.log"
   ]
  },
  {
   "cell_type": "code",
   "execution_count": 295,
   "metadata": {},
   "outputs": [],
   "source": [
    "# Normals wiht o3d\n",
    "\n",
    "downpcd = o3d.io.read_point_cloud(\"../data/mock_vel2/toy_leaves.pcd\")\n",
    "\n",
    "# Compute Normals\n",
    "o3d.geometry.PointCloud.estimate_normals(downpcd, search_param=o3d.geometry.KDTreeSearchParamHybrid(radius=0.1,max_nn=30))\n",
    "# Save to PCD file\n",
    "o3d.io.write_point_cloud('../data/mock_vel2/toy_leaves_normals_od3.pcd', downpcd)\n",
    "\n",
    "#Downsample to ploy\n",
    "downpcd = o3d.geometry.PointCloud.voxel_down_sample(downpcd, voxel_size=0.5)\n",
    "o3d.visualization.draw_geometries([downpcd])\n"
   ]
  },
  {
   "cell_type": "markdown",
   "metadata": {},
   "source": [
    "## Voxelization"
   ]
  },
  {
   "cell_type": "code",
   "execution_count": 293,
   "metadata": {},
   "outputs": [
    {
     "name": "stdout",
     "output_type": "stream",
     "text": [
      "voxelization\n"
     ]
    }
   ],
   "source": [
    "# \n",
    "pcd_normals = o3d.io.read_point_cloud('../data/mock_vel2/toy_leaves_normals_od3.pcd')\n",
    "\n",
    "print('voxelization')\n",
    "voxel_grid = o3d.geometry.VoxelGrid.create_from_point_cloud(pcd_normals,\n",
    "                                                            voxel_size=0.2)\n",
    "o3d.visualization.draw_geometries([voxel_grid])"
   ]
  },
  {
   "cell_type": "code",
   "execution_count": 261,
   "metadata": {},
   "outputs": [],
   "source": [
    "points = np.asarray(pcd_normals.points)\n",
    "normals = np.asarray(pcd_normals.normals)"
   ]
  },
  {
   "cell_type": "code",
   "execution_count": 262,
   "metadata": {},
   "outputs": [
    {
     "name": "stdout",
     "output_type": "stream",
     "text": [
      "N voxels: 16265\n"
     ]
    }
   ],
   "source": [
    "# get voxel ID for each point\n",
    "voxel = []\n",
    "queries = np.asarray(pcd_normals.points)\n",
    "\n",
    "for vox in queries:\n",
    "    \n",
    "    i,j,k = voxel_grid.get_voxel(vox)\n",
    "    voxel.append('%s_%s_%s' %(i,j,k))\n",
    "    \n",
    "print('N voxels: %i' %(len(set(voxel))))\n"
   ]
  },
  {
   "cell_type": "code",
   "execution_count": 263,
   "metadata": {
    "tags": []
   },
   "outputs": [],
   "source": [
    "\n",
    "def vecttoangle(v1, v2):\n",
    "    \n",
    "    unit_vector_1 = v1 / np.linalg.norm(v1)\n",
    "    unit_vector_2 = v2 / np.linalg.norm(v2)\n",
    "    dot_product = np.dot(unit_vector_1, unit_vector_2)\n",
    "    angle = np.arccos(dot_product)\n",
    "    \n",
    "    return np.rad2deg(angle)\n"
   ]
  },
  {
   "cell_type": "code",
   "execution_count": 264,
   "metadata": {
    "tags": []
   },
   "outputs": [
    {
     "name": "stdout",
     "output_type": "stream",
     "text": [
      "Total time: 6.446946000000025\n"
     ]
    }
   ],
   "source": [
    "# \n",
    "angs = {'voxID':[], 'avgVect':[], 'avgAngle':[], 'N':[]}\n",
    "\n",
    "t1 = process_time()\n",
    "\n",
    "vox, idx, idxinv, counts = np.unique(np.array(voxel), return_index=True, return_inverse=True, return_counts=True)\n",
    "\n",
    "for num, vx in enumerate(vox):\n",
    "    \n",
    "    keep = np.where(idxinv == num)\n",
    "#     keep = (np.array(voxel) == vox)\n",
    "    \n",
    "    angs['voxID'].append(vx)\n",
    "    angs['N'].append(counts[num])\n",
    "\n",
    "    # average all normals within voxel\n",
    "    avgVect = normals[keep].sum(axis=0)\n",
    "    angs['avgVect'].append(avgVect)\n",
    "\n",
    "    # get angle with respect to z axis from average normals\n",
    "    ang = vecttoangle([0, 0, 1], avgVect)\n",
    "    angs['avgAngle'].append(np.round(180 - ang, 1))\n",
    "#     angs['avgAngle'].append(np.round(ang, 1))\n",
    "    \n",
    "t2 = process_time()\n",
    "print('Total time:', t2-t1)\n",
    "        "
   ]
  },
  {
   "cell_type": "code",
   "execution_count": 288,
   "metadata": {},
   "outputs": [
    {
     "data": {
      "image/png": "[encoded data removed]",
      "text/plain": [
       "<Figure size 720x432 with 1 Axes>"
      ]
     },
     "metadata": {
      "needs_background": "light"
     },
     "output_type": "display_data"
    }
   ],
   "source": [
    "plt.figure(figsize=(10,6))\n",
    "\n",
    "bins = np.linspace(0, 180, int(180/4))\n",
    "\n",
    "plt.hist(angs['avgAngle'], bins=bins, color='g', alpha=0.7)\n",
    "plt.axvline(35, c='r', label=r'$\\theta_{L}=35$')\n",
    "plt.axvline(180-35, c='r', ls='--', label=r'$\\theta_{L}=180-35$')\n",
    "\n",
    "plt.ylabel(r'Frecuency', size=20)\n",
    "plt.xlabel(r'$\\theta_{L}$', size=20)\n",
    "plt.legend()\n",
    "plt.show()"
   ]
  },
  {
   "cell_type": "markdown",
   "metadata": {},
   "source": [
    "## Segmentate leafs"
   ]
  },
  {
   "cell_type": "code",
   "execution_count": 101,
   "metadata": {},
   "outputs": [],
   "source": [
    "# Normals with PDAL\n",
    "json = \"\"\"\n",
    "{\n",
    "    \"pipeline\":[\n",
    "         \"../data/mock_vel2/toy_leaves.las\",\n",
    "        {\n",
    "        \"type\":\"filters.dbscan\",\n",
    "        \"min_points\":10,\n",
    "        \"eps\":0.05,\n",
    "        \"dimensions\":\"X,Y,Z\"\n",
    "        },\n",
    "        {\n",
    "        \"type\":\"writers.bpf\",\n",
    "        \"filename\":\"../data/mock_vel2/toy_leaves_seg.bpf\",\n",
    "        \"output_dims\":\"X,Y,Z,ClusterID\"\n",
    "        }\n",
    "    ]\n",
    "}\n",
    "\"\"\"\n",
    "\n",
    "pipeline = pdal.Pipeline(json)\n",
    "count = pipeline.execute()\n",
    "arrays = pipeline.arrays\n",
    "metadata = pipeline.metadata\n",
    "log = pipeline.log"
   ]
  },
  {
   "cell_type": "code",
   "execution_count": 112,
   "metadata": {},
   "outputs": [],
   "source": [
    "# Normals with PDAL\n",
    "json = \"\"\"\n",
    "{\n",
    "    \"pipeline\":[\n",
    "        \"../data/mock_vel2/toy_leaves_seg.bpf\",\n",
    "        {\n",
    "          \"type\":\"filters.colorinterp\",\n",
    "          \"ramp\":\"pestel_shades\",\n",
    "          \"mad\":true,\n",
    "          \"k\":1.8,\n",
    "          \"dimension\":\"ClusterID\"\n",
    "        },\n",
    "        {\n",
    "        \"type\":\"writers.las\",\n",
    "        \"forward\": \"all\",\n",
    "        \"filename\":\"../data/mock_vel2/toy_leaves_seg.las\"\n",
    "        },\n",
    "        \"../data/mock_vel2/toy_leaves_seg.las\",\n",
    "        {\n",
    "        \"type\":\"writers.pcd\",\n",
    "        \"filename\":\"../data/mock_vel2/toy_leaves_seg.pcd\"\n",
    "        }\n",
    "    ]\n",
    "}\n",
    "\"\"\"\n",
    "\n",
    "pipeline = pdal.Pipeline(json)\n",
    "count = pipeline.execute()\n",
    "arrays = pipeline.arrays\n",
    "metadata = pipeline.metadata\n",
    "log = pipeline.log"
   ]
  },
  {
   "cell_type": "code",
   "execution_count": 103,
   "metadata": {},
   "outputs": [],
   "source": [
    "downpcd = o3d.io.read_point_cloud(\"../data/mock_vel2/toy_leaves_seg.pcd\")\n",
    "o3d.visualization.draw_geometries([downpcd])"
   ]
  },
  {
   "cell_type": "code",
   "execution_count": 132,
   "metadata": {},
   "outputs": [
    {
     "name": "stdout",
     "output_type": "stream",
     "text": [
      "[Open3D DEBUG] Precompute neighbors.\n",
      "[Open3D DEBUG] Done Precompute neighbors.Precompute neighbors.[=>                                      ] 2%\n",
      "[Open3D DEBUG] Compute Clusters\n",
      "[Open3D DEBUG] Done Compute Clusters: 6441\n",
      "Precompute neighbors.[========================================] 100%\n",
      "point cloud has 6441 clusters================>     ] 85%\n"
     ]
    }
   ],
   "source": [
    "#\n",
    "pcd = o3d.io.read_point_cloud(\"../data/mock_vel2/toy_leaves.pcd\")\n",
    "\n",
    "with o3d.utility.VerbosityContextManager(\n",
    "        o3d.utility.VerbosityLevel.Debug) as cm:\n",
    "    labels = np.array(\n",
    "        pcd.cluster_dbscan(eps=0.04, min_points=6, print_progress=True))\n",
    "\n",
    "max_label = labels.max()\n",
    "print(f\"point cloud has {max_label + 1} clusters\")\n",
    "colors = plt.get_cmap(\"tab20\")(labels / (max_label if max_label > 0 else 1))\n",
    "colors[labels < 0] = 0\n",
    "pcd.colors = o3d.utility.Vector3dVector(colors[:, :3])\n",
    "# o3d.visualization.draw_geometries([pcd])"
   ]
  },
  {
   "cell_type": "code",
   "execution_count": 133,
   "metadata": {},
   "outputs": [],
   "source": [
    "o3d.visualization.draw_geometries([pcd])"
   ]
  },
  {
   "cell_type": "markdown",
   "metadata": {},
   "source": [
    "## Mesh (not recommended)"
   ]
  },
  {
   "cell_type": "code",
   "execution_count": 11,
   "metadata": {},
   "outputs": [],
   "source": [
    "#\n",
    "pcd = o3d.io.read_point_cloud(\"../data/mock_vel2/toy_leaves.pcd\")\n",
    "# Compute Normals\n",
    "o3d.geometry.PointCloud.estimate_normals(pcd, search_param=o3d.geometry.KDTreeSearchParamHybrid(radius=0.1,max_nn=30))\n"
   ]
  },
  {
   "cell_type": "code",
   "execution_count": 13,
   "metadata": {},
   "outputs": [],
   "source": [
    "\n",
    "radii = [0.05, 0.08, 0.1]\n",
    "\n",
    "rec_mesh = o3d.geometry.TriangleMesh.create_from_point_cloud_ball_pivoting(pcd, o3d.utility.DoubleVector(radii))\n",
    "o3d.visualization.draw_geometries([pcd, rec_mesh])"
   ]
  },
  {
   "cell_type": "markdown",
   "metadata": {},
   "source": [
    "## Filter Points that are coplanar\n",
    "Estimate pointwise planarity, based on k-nearest neighbors. Returns a new dimension Coplanar where a value of 1 indicates that a point is part of a coplanar neighborhood (0 otherwise)."
   ]
  },
  {
   "cell_type": "code",
   "execution_count": 25,
   "metadata": {},
   "outputs": [],
   "source": [
    "json = \"\"\"\n",
    "{\n",
    "    \"pipeline\":[\n",
    "         \"../data/mock_vel2/toy_leaves.las\",\n",
    "         {\n",
    "        \"type\":\"filters.approximatecoplanar\",\n",
    "        \"knn\":8,\n",
    "        \"thresh1\":25,\n",
    "        \"thresh2\":6\n",
    "        },\n",
    "        {\n",
    "        \"type\":\"filters.range\",\n",
    "        \"limits\":\"Coplanar[1:1]\"\n",
    "        },\n",
    "         {\n",
    "          \"type\" : \"writers.las\",\n",
    "          \"forward\": \"all\",\n",
    "          \"filename\" : \"../data/mock_vel2/toy_leaves_cop.las\"\n",
    "         },\n",
    "         {\n",
    "          \"type\" : \"writers.pcd\",\n",
    "          \"filename\" : \"../data/mock_vel2/toy_leaves_cop.pcd\"\n",
    "         }  \n",
    "    ]\n",
    "}\n",
    "\"\"\"\n",
    "\n",
    "pipeline = pdal.Pipeline(json)\n",
    "count = pipeline.execute()\n",
    "arrays = pipeline.arrays\n",
    "metadata = pipeline.metadata\n",
    "log = pipeline.log"
   ]
  },
  {
   "cell_type": "code",
   "execution_count": 22,
   "metadata": {},
   "outputs": [],
   "source": [
    "las = lp.read('../data/mock_vel2/toy_leaves.las')"
   ]
  },
  {
   "cell_type": "code",
   "execution_count": 23,
   "metadata": {
    "collapsed": true,
    "jupyter": {
     "outputs_hidden": true
    },
    "tags": []
   },
   "outputs": [
    {
     "name": "stdout",
     "output_type": "stream",
     "text": [
      "272657\n"
     ]
    },
    {
     "data": {
      "text/plain": [
       "['X',\n",
       " 'Y',\n",
       " 'Z',\n",
       " 'intensity',\n",
       " 'return_number',\n",
       " 'number_of_returns',\n",
       " 'scan_direction_flag',\n",
       " 'edge_of_flight_line',\n",
       " 'classification',\n",
       " 'synthetic',\n",
       " 'key_point',\n",
       " 'withheld',\n",
       " 'scan_angle_rank',\n",
       " 'user_data',\n",
       " 'point_source_id',\n",
       " 'gps_time',\n",
       " 'red',\n",
       " 'green',\n",
       " 'blue']"
      ]
     },
     "execution_count": 23,
     "metadata": {},
     "output_type": "execute_result"
    }
   ],
   "source": [
    "print(las.header.point_count)\n",
    "list(las.point_format.dimension_names)"
   ]
  },
  {
   "cell_type": "code",
   "execution_count": 26,
   "metadata": {},
   "outputs": [
    {
     "name": "stdout",
     "output_type": "stream",
     "text": [
      "\u001b[0;mThe viewer window provides interactive commands; for help, press 'h' or 'H' from within the window.\n",
      "\u001b[1;32m> \u001b[0;mLoading \u001b[0;36m../data/mock_vel2/toy_leaves_cop.pcd \u001b[0;m\u001b[1;33m[PCLVisualizer::setUseVbos] Has no effect when OpenGL version is ≥ 2\n",
      "\u001b[0;m\u001b[0;m[done, \u001b[0;36m1710.2\u001b[0;m\u001b[0;m ms : \u001b[0;36m98958\u001b[0;m\u001b[0;m points]\n",
      "\u001b[0;mAvailable dimensions: \u001b[0;36mx y z intensity returnnumber numberofreturns scandirectionflag edgeofflightline classification scananglerank userdata pointsourceid gpstime red green blue coplanar\n",
      "\u001b[1;32m> \u001b[0;mLoading \u001b[0;36m../data/mock_vel2/toy_leaves_noncop.pcd \u001b[0;m\u001b[0;m\u001b[0;m[done, \u001b[0;36m2239.84\u001b[0;m\u001b[0;m ms : \u001b[0;36m173699\u001b[0;m\u001b[0;m points]\n",
      "\u001b[0;mAvailable dimensions: \u001b[0;36mx y z intensity returnnumber numberofreturns scandirectionflag edgeofflightline classification scananglerank userdata pointsourceid gpstime red green blue coplanar\n",
      "\u001b[0;m"
     ]
    }
   ],
   "source": [
    "!pcl_viewer ../data/mock_vel2/toy_leaves_*cop.pcd"
   ]
  }
 ],
 "metadata": {
  "kernelspec": {
   "display_name": "plant-env2",
   "language": "python",
   "name": "plant-env2"
  },
  "language_info": {
   "codemirror_mode": {
    "name": "ipython",
    "version": 3
   },
   "file_extension": ".py",
   "mimetype": "text/x-python",
   "name": "python",
   "nbconvert_exporter": "python",
   "pygments_lexer": "ipython3",
   "version": "3.8.11"
  },
  "toc-autonumbering": false,
  "toc-showcode": true,
  "toc-showmarkdowntxt": true,
  "toc-showtags": false
 },
 "nbformat": 4,
 "nbformat_minor": 4
}
