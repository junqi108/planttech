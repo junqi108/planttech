{
 "cells": [
  {
   "cell_type": "code",
   "execution_count": 1,
   "metadata": {},
   "outputs": [],
   "source": [
    "import numpy as np\n",
    "import os, sys\n",
    "import matplotlib.pyplot as plt\n",
    "import laspy as lp\n",
    "import pdal\n",
    "import pandas as pd\n",
    "import open3d as o3d\n",
    "from dbfread import DBF\n",
    "\n",
    "# basedir = os.path.dirname(os.getcwd())\n",
    "basedir = os.path.abspath(os.path.join(os.getcwd() ,\"../\"))\n",
    "_py = os.path.join(basedir, 'py')\n",
    "_data = os.path.join(basedir, 'data')\n",
    "\n",
    "sys.path.insert(1, _py)\n",
    "import loads\n",
    "import lia\n",
    "import ray as rayt\n",
    "import lad\n",
    "import figures\n",
    "\n",
    "import warnings\n",
    "warnings.filterwarnings(\"ignore\")\n",
    "\n",
    "%load_ext autoreload\n",
    "%autoreload 2\n",
    "\n",
    "%matplotlib qt"
   ]
  },
  {
   "cell_type": "code",
   "execution_count": 2,
   "metadata": {},
   "outputs": [],
   "source": [
    "name = 'kiwifruit'"
   ]
  },
  {
   "cell_type": "code",
   "execution_count": 3,
   "metadata": {},
   "outputs": [],
   "source": [
    "# load files\n",
    "las = loads.loadlaz(name)\n",
    "traj = loads.loaddbf(name)"
   ]
  },
  {
   "cell_type": "code",
   "execution_count": 26,
   "metadata": {},
   "outputs": [
    {
     "name": "stdout",
     "output_type": "stream",
     "text": [
      "\u001b[1;33m[Open3D WARNING] GLFW Error: Cocoa: Failed to find service port for display\u001b[0;m\n",
      "\u001b[1;33m[Open3D WARNING] GLFW Error: Cocoa: Failed to find service port for display\u001b[0;m\n"
     ]
    }
   ],
   "source": [
    "traj = loads.loaddbf(name)\n",
    "# get coordinates numpy array\n",
    "# lidar\n",
    "points = np.vstack((las.x, las.y, las.z)).transpose()\n",
    "\n",
    "# trajectory\n",
    "traj = pd.DataFrame(iter(traj)) # to pandas\n",
    "points_t = np.vstack((traj.x, traj.y, traj.z)).transpose()\n",
    "\n",
    "# plot the two point clouds\n",
    "pointslist = [points[::10], points_t]\n",
    "colours = [[0.5, 0.5, 0.5], [1, 0, 0]]\n",
    "loads.showPCDS(pointslist, colours)\n"
   ]
  },
  {
   "cell_type": "code",
   "execution_count": 5,
   "metadata": {},
   "outputs": [],
   "source": [
    "# interpolate trajectory with gps time\n",
    "\n",
    "df = loads.coordsDF(las, traj)"
   ]
  },
  {
   "cell_type": "code",
   "execution_count": 18,
   "metadata": {},
   "outputs": [],
   "source": [
    "# show sample of beams\n",
    "loads.showbeams(df[15000000:15000300])"
   ]
  },
  {
   "cell_type": "code",
   "execution_count": 134,
   "metadata": {},
   "outputs": [],
   "source": [
    "df1 = df[::100]\n",
    "\n",
    "plt.figure(figsize=(16, 8))\n",
    "x = np.linspace(-60, 10, 20)\n",
    "y = np.linspace(-30, 10, 20)\n",
    "keep = (df1['y'] > 0.34*df1['x'] - 4.0) & (df1['y'] < 0.34*df1['x'] + 6)\n",
    "keep &= (df1['x'] < -0.35*df1['y'] - 10) & (df1['x'] > -0.35*df1['y'] - 60)\n",
    "plt.scatter(df1['x'], df1['y'], s=1, c='gray', alpha=0.3)\n",
    "plt.scatter(df1['x'][keep], df1['y'][keep], s=1)\n",
    "plt.plot(x, 0.34*x - 4.0, lw=2, c='r')\n",
    "plt.plot(x, 0.34*x + 6, lw=2, c='r')\n",
    "plt.plot(-0.35*y - 10, y, lw=2, c='r')\n",
    "plt.plot(-0.35*y - 60, y, lw=2, c='r')\n",
    "\n",
    "plt.grid()\n",
    "\n",
    "plt.xlim(-70, 20)\n",
    "plt.ylim(-35,15)\n",
    "\n",
    "plt.xlabel(r'$x$', size=20)\n",
    "plt.ylabel(r'$y$', size=20)\n",
    "\n",
    "\n",
    "plt.show()"
   ]
  },
  {
   "cell_type": "markdown",
   "metadata": {},
   "source": [
    "## Get the foliage"
   ]
  },
  {
   "cell_type": "code",
   "execution_count": 170,
   "metadata": {},
   "outputs": [],
   "source": [
    "# select the field\n",
    "keep = (df['y'] > 0.34*df['x'] - 4.0) & (df['y'] < 0.34*df['x'] + 6)\n",
    "keep &= (df['x'] < -0.35*df['y'] - 10) & (df['x'] > -0.35*df['y'] - 60)\n",
    "\n",
    "# Set the foliage min and max height\n",
    "keepz = (df['z'] > 1.2) & (df['z'] < 3.8)\n",
    "\n",
    "# remove outliers using percentiles\n",
    "res, mask = loads.remove_outliers(df['x'][keep & keepz], df['z'][keep & keepz])\n",
    "leaves = np.zeros(len(df['x']), dtype=bool)\n",
    "leaves[(keep) & (keepz)] = mask"
   ]
  },
  {
   "cell_type": "code",
   "execution_count": 138,
   "metadata": {},
   "outputs": [
    {
     "name": "stdout",
     "output_type": "stream",
     "text": [
      "39341422\n",
      "5732229\n"
     ]
    },
    {
     "data": {
      "text/plain": [
       "Text(0, 0.5, '$z$')"
      ]
     },
     "execution_count": 138,
     "metadata": {},
     "output_type": "execute_result"
    }
   ],
   "source": [
    "df1 = df[keep][::1]\n",
    "print(len(df))\n",
    "print(len(df1))\n",
    "\n",
    "plt.figure(figsize=(16, 8))\n",
    "plt.scatter(df1['x'], df1['z'], s=0.01)\n",
    "plt.axhline(1.2, lw=2, c='k')\n",
    "plt.axhline(3.8, lw=2, c='k')\n",
    "\n",
    "res, _ = loads.remove_outliers(df['x'][keep & keepz][::5], df['z'][keep & keepz][::5])\n",
    "\n",
    "plt.grid()\n",
    "\n",
    "plt.ylim(-2,10)\n",
    "\n",
    "plt.xlabel(r'$x$', size=20)\n",
    "plt.ylabel(r'$z$', size=20)"
   ]
  },
  {
   "cell_type": "markdown",
   "metadata": {},
   "source": [
    "## Tree and leaves segmentation"
   ]
  },
  {
   "cell_type": "code",
   "execution_count": 206,
   "metadata": {},
   "outputs": [],
   "source": [
    "def segtree(df, leaves, show=False):\n",
    "\n",
    "    trees = {}\n",
    "    bins = np.arange(10, 70, 10)\n",
    "\n",
    "    if show:\n",
    "        plt.figure(figsize=(16, 8))\n",
    "\n",
    "    for i in range(len(bins)-1):\n",
    "        keep = np.ones(len(df['x']), dtype=bool)\n",
    "        keep &= (df['y'] > 0.34*df['x'] - 4.0) & (df['y'] < 0.34*df['x'] + 6)\n",
    "        keep &= (df['x'] < -0.35*df['y'] - bins[i]) & (df['x'] > -0.35*df['y'] - bins[i+1])\n",
    "\n",
    "        trees['tree_%s' %(str(i))] = keep\n",
    "            \n",
    "        if show:\n",
    "            plt.scatter(df['x'][leaves & keep], df['y'][leaves & keep], s=0.01, label=i)\n",
    "            box = dict(facecolor='green', edgecolor='black', boxstyle='round,pad=0.5', alpha=0.4)\n",
    "            text = 'tree_%s' %(str(i))\n",
    "            xx = - (bins[i+1] + bins[i]) / 2\n",
    "            plt.text(xx - i*xx*0.02, 0.34*xx + 1, text, size=20, bbox=box)\n",
    "\n",
    "    if show:\n",
    "        plt.xlabel(r'$x$', size=20)\n",
    "        plt.ylabel(r'$y$', size=20)\n",
    "        plt.show()\n",
    "\n",
    "    return trees\n"
   ]
  },
  {
   "cell_type": "code",
   "execution_count": 207,
   "metadata": {},
   "outputs": [],
   "source": [
    "trees = segtree(df, leaves, show=True)"
   ]
  },
  {
   "cell_type": "code",
   "execution_count": 268,
   "metadata": {},
   "outputs": [
    {
     "name": "stdout",
     "output_type": "stream",
     "text": [
      "\u001b[1;33m[Open3D WARNING] GLFW Error: Cocoa: Failed to find service port for display\u001b[0;m\n"
     ]
    }
   ],
   "source": [
    "# show the point cloud from leaves of firs tree only\n",
    "keep = (trees['tree_0']) & (leaves)\n",
    "loads.showPCfromDF(df[keep])"
   ]
  },
  {
   "cell_type": "markdown",
   "metadata": {},
   "source": [
    "# `Leaf Inclination Angle` (LIA) estimation\n",
    "\n",
    "On the contrary to the mock example, here we can not use function `lia.bestfit_pars_la` to get the best-fit parameters..."
   ]
  },
  {
   "cell_type": "code",
   "execution_count": 209,
   "metadata": {},
   "outputs": [
    {
     "name": "stdout",
     "output_type": "stream",
     "text": [
      "voxel_size_w=0.0100 \n",
      " kd3_sr=0.1000 \n",
      " max_nn=15.0000 \n",
      "********* tree_0 *********\n",
      "voxel_size_w=0.0100 \n",
      " kd3_sr=0.1000 \n",
      " max_nn=15.0000 \n",
      "********* tree_1 *********\n",
      "voxel_size_w=0.0100 \n",
      " kd3_sr=0.1000 \n",
      " max_nn=15.0000 \n",
      "********* tree_2 *********\n",
      "voxel_size_w=0.0100 \n",
      " kd3_sr=0.1000 \n",
      " max_nn=15.0000 \n",
      "********* tree_3 *********\n",
      "voxel_size_w=0.0100 \n",
      " kd3_sr=0.1000 \n",
      " max_nn=15.0000 \n",
      "********* tree_4 *********\n"
     ]
    }
   ],
   "source": [
    "# load bestfit results\n",
    "for key, val in trees.items():\n",
    "\n",
    "    print('********* %s *********' %(key))\n",
    "\n",
    "    keep = (val) & (leaves)\n",
    "    df_ = df[['x', 'y', 'z']][keep]\n",
    "    points = loads.DF2array(df_)\n",
    "\n",
    "    voxel_size_w = 0.01\n",
    "    kd3_sr = 0.1\n",
    "    max_nn = 15\n",
    "\n",
    "    text = '%s=%.4f \\n %s=%.4f \\n %s=%.4f ' %(\n",
    "                            'voxel_size_w', voxel_size_w,\n",
    "                            'kd3_sr', kd3_sr,\n",
    "                            'max_nn', max_nn)\n",
    "    print(text)\n",
    "\n",
    "    lia.leaf_angle(points, name, key, voxel_size_w, kd3_sr, max_nn, save=True,\n",
    "                                savefig=True, text=text, voxel_size_h=0.1, ismock=False,\n",
    "                                ylim=0.017, ylimh=0.35)"
   ]
  },
  {
   "cell_type": "markdown",
   "metadata": {},
   "source": [
    "# `\u001dLeaf Area Density` (LAD) estimation"
   ]
  },
  {
   "cell_type": "code",
   "execution_count": 212,
   "metadata": {},
   "outputs": [
    {
     "name": "stdout",
     "output_type": "stream",
     "text": [
      "tree_0 1412368\n",
      "tree_1 1173406\n",
      "tree_2 1088034\n",
      "tree_3 1090216\n",
      "tree_4 968205\n"
     ]
    }
   ],
   "source": [
    "for key, val in trees.items():\n",
    "\n",
    "    keep = (val)\n",
    "    print(key, np.sum(keep))"
   ]
  },
  {
   "cell_type": "code",
   "execution_count": 277,
   "metadata": {},
   "outputs": [],
   "source": [
    "downsample = 0.005\n",
    "voxel_size = 0.15\n",
    "# to check everything looks fine\n",
    "show = False\n",
    "sample = None"
   ]
  },
  {
   "cell_type": "code",
   "execution_count": 267,
   "metadata": {},
   "outputs": [
    {
     "name": "stdout",
     "output_type": "stream",
     "text": [
      "inds file already exists for donwnsample of 0.005 at /Users/omar/projects/planttech/data/kiwifruit/lad_0.005/inds.npy\n",
      "max --> [80, 79, 13]\n",
      "min --> [0, 0, 0]\n"
     ]
    },
    {
     "name": "stderr",
     "output_type": "stream",
     "text": [
      "196188it [11:33, 282.88it/s]\n"
     ]
    },
    {
     "name": "stdout",
     "output_type": "stream",
     "text": [
      "tot vox: \t 90720\n",
      "voxels hitted: \t 84374\n",
      "Percentage of voxels hitted by beam: 0.93\n",
      "max --> [80, 78, 12]\n",
      "min --> [0, 0, 0]\n"
     ]
    },
    {
     "name": "stderr",
     "output_type": "stream",
     "text": [
      "196188it [05:46, 566.50it/s] \n"
     ]
    },
    {
     "name": "stdout",
     "output_type": "stream",
     "text": [
      "tot vox: \t 83187\n",
      "voxels hitted: \t 70448\n",
      "Percentage of voxels hitted by beam: 0.85\n",
      "max --> [78, 79, 11]\n",
      "min --> [0, 0, 0]\n"
     ]
    },
    {
     "name": "stderr",
     "output_type": "stream",
     "text": [
      "196188it [04:49, 677.39it/s] \n"
     ]
    },
    {
     "name": "stdout",
     "output_type": "stream",
     "text": [
      "tot vox: \t 75840\n",
      "voxels hitted: \t 62279\n",
      "Percentage of voxels hitted by beam: 0.82\n",
      "max --> [79, 78, 8]\n",
      "min --> [0, 0, 0]\n"
     ]
    },
    {
     "name": "stderr",
     "output_type": "stream",
     "text": [
      "196188it [03:44, 873.75it/s]  \n"
     ]
    },
    {
     "name": "stdout",
     "output_type": "stream",
     "text": [
      "tot vox: \t 56880\n",
      "voxels hitted: \t 45474\n",
      "Percentage of voxels hitted by beam: 0.80\n",
      "max --> [78, 78, 10]\n",
      "min --> [0, 0, 0]\n"
     ]
    },
    {
     "name": "stderr",
     "output_type": "stream",
     "text": [
      "196188it [05:44, 568.91it/s]  "
     ]
    },
    {
     "name": "stdout",
     "output_type": "stream",
     "text": [
      "tot vox: \t 68651\n",
      "voxels hitted: \t 54022\n",
      "Percentage of voxels hitted by beam: 0.79\n"
     ]
    },
    {
     "name": "stderr",
     "output_type": "stream",
     "text": [
      "\n"
     ]
    }
   ],
   "source": [
    "\n",
    "POINTS = loads.DF2array(df[['x', 'y', 'z']])\n",
    "SENSORS = loads.DF2array(df[['xs', 'ys', 'zs']])\n",
    "\n",
    "if downsample is not None:\n",
    "\n",
    "    resdir = os.path.join(_data, name, 'lad_%s' %(str(downsample)))\n",
    "    if not os.path.exists(resdir):\n",
    "        os.makedirs(resdir)\n",
    "\n",
    "    outdir = os.path.join(resdir, 'inds.npy')\n",
    "    if os.path.exists(outdir):\n",
    "        print('inds file already exists for donwnsample of %.3f at %s' %(downsample, outdir))\n",
    "\n",
    "        inds = np.load(outdir)\n",
    "\n",
    "        points = POINTS[inds]\n",
    "        sensors = SENSORS[inds]\n",
    "\n",
    "    else:\n",
    "\n",
    "        print('inds not been created yet for donwnsample of %.3f' %(downsample))\n",
    "        idx = np.random.randint(0, len(df), int(len(df) * downsample))\n",
    "        inds = np.zeros(len(df), dtype=bool)\n",
    "        inds[idx] = True\n",
    "\n",
    "        points = POINTS[inds]\n",
    "        sensors = SENSORS[inds]\n",
    "\n",
    "        np.save(outdir, inds)\n",
    "\n",
    "else:\n",
    "\n",
    "    resdir = os.path.join(_data, name, 'lad')\n",
    "    if not os.path.exists(resdir):\n",
    "        os.makedirs(resdir)\n",
    "\n",
    "if sample is not None:\n",
    "\n",
    "    idx = np.random.randint(0, len(df), int(sample))\n",
    "    points = POINTS[idx]\n",
    "    sensors = SENSORS[idx]\n",
    "\n",
    "for key, val in trees.items():\n",
    "\n",
    "    inPR = (val) & (leaves) & (inds)\n",
    "    pointsPR = POINTS[inPR]\n",
    "    m3s, m3count= rayt.main(points, sensors, pointsPR, voxel_size, resdir, key, show=show)\n",
    "    "
   ]
  },
  {
   "cell_type": "code",
   "execution_count": 278,
   "metadata": {},
   "outputs": [
    {
     "name": "stdout",
     "output_type": "stream",
     "text": [
      "downsample: 0.005\n",
      "voxel_size: 0.15\n",
      "max --> [80, 79, 13]\n",
      "min --> [0, 0, 0]\n",
      "foliage voxel dimensions: \t (81, 80, 14)\n",
      "ray tracker voxel dimensions: \t (81, 80, 14)\n",
      "Number of voxels ocupied by points cloud: \t 4360\n",
      "Number of voxels ocupied by beam points cloud: \t 84374\n",
      "Total number of voxels in plant regions: \t 90720\n",
      "Number of voxels with attribute 1: \t 4360\n",
      "Number of voxels with attribute 2: \t 80014\n",
      "Number of voxels with attribute 3: \t 6346\n",
      "max --> [80, 78, 12]\n",
      "min --> [0, 0, 0]\n",
      "foliage voxel dimensions: \t (81, 79, 13)\n",
      "ray tracker voxel dimensions: \t (81, 79, 13)\n",
      "Number of voxels ocupied by points cloud: \t 3773\n",
      "Number of voxels ocupied by beam points cloud: \t 70448\n",
      "Total number of voxels in plant regions: \t 83187\n",
      "Number of voxels with attribute 1: \t 3773\n",
      "Number of voxels with attribute 2: \t 66675\n",
      "Number of voxels with attribute 3: \t 12739\n",
      "max --> [78, 79, 11]\n",
      "min --> [0, 0, 0]\n",
      "foliage voxel dimensions: \t (79, 80, 12)\n",
      "ray tracker voxel dimensions: \t (79, 80, 12)\n",
      "Number of voxels ocupied by points cloud: \t 3512\n",
      "Number of voxels ocupied by beam points cloud: \t 62279\n",
      "Total number of voxels in plant regions: \t 75840\n",
      "Number of voxels with attribute 1: \t 3512\n",
      "Number of voxels with attribute 2: \t 58767\n",
      "Number of voxels with attribute 3: \t 13561\n",
      "max --> [79, 78, 8]\n",
      "min --> [0, 0, 0]\n",
      "foliage voxel dimensions: \t (80, 79, 9)\n",
      "ray tracker voxel dimensions: \t (80, 79, 9)\n",
      "Number of voxels ocupied by points cloud: \t 3331\n",
      "Number of voxels ocupied by beam points cloud: \t 45474\n",
      "Total number of voxels in plant regions: \t 56880\n",
      "Number of voxels with attribute 1: \t 3331\n",
      "Number of voxels with attribute 2: \t 42143\n",
      "Number of voxels with attribute 3: \t 11406\n",
      "max --> [78, 78, 10]\n",
      "min --> [0, 0, 0]\n",
      "foliage voxel dimensions: \t (79, 79, 11)\n",
      "ray tracker voxel dimensions: \t (79, 79, 11)\n",
      "Number of voxels ocupied by points cloud: \t 2976\n",
      "Number of voxels ocupied by beam points cloud: \t 54022\n",
      "Total number of voxels in plant regions: \t 68651\n",
      "Number of voxels with attribute 1: \t 2976\n",
      "Number of voxels with attribute 2: \t 51046\n",
      "Number of voxels with attribute 3: \t 14629\n"
     ]
    }
   ],
   "source": [
    "if downsample is not None:\n",
    "    inds_file = os.path.join(resdir, 'inds.npy')\n",
    "    inds = np.load(inds_file)\n",
    "    resdir = os.path.join(_data, name, 'lad_%s' %(str(downsample)))\n",
    "    print('downsample:', downsample)\n",
    "else:\n",
    "    inds = np.ones(len(df), dtype=bool)\n",
    "    resdir = os.path.join(_data, name, 'lad')\n",
    "\n",
    "isfigures = os.path.join(resdir, 'figures')\n",
    "if not os.path.exists(isfigures):\n",
    "    os.makedirs(isfigures)\n",
    "\n",
    "print('voxel_size:', voxel_size)\n",
    "\n",
    "for key, val in trees.items():\n",
    "\n",
    "    # if key != 'tree_0': continue\n",
    "\n",
    "    inPR = (val) & (leaves) & (inds)\n",
    "    pointsPR = POINTS[inPR]\n",
    "    sensorsPR = SENSORS[inPR]\n",
    "\n",
    "    m3att = lad.compute_attributes(pointsPR, resdir, voxel_size, key)\n",
    "    # get in down sample boolean array for LPC size\n",
    "    inds_ = inds[(val) & (leaves)]\n",
    "    lias, ws = lad.downsample_lia(name, key, inds_)\n",
    "    voxk = lad.get_voxk(pointsPR, voxel_size)\n",
    "    bia = lad.get_bia(pointsPR, sensorsPR)\n",
    "    # meshfile = lad.get_meshfile(name)\n",
    "\n",
    "    figext = '%s_%s' %(key, str(voxel_size))\n",
    "    # figext = None\n",
    "    alphas_k = lad.alpha_k(bia, voxk, lias, ws, resdir, figext=figext, \n",
    "                            klia=False, use_true_lia=False)\n",
    "\n",
    "    # kmax = m3att.shape[2]\n",
    "    # kbins = int(kmax/10)\n",
    "    # print(kbins)\n",
    "    kbins = 1\n",
    "    \n",
    "    # lads_min = lad.get_LADS(m3att, voxel_size, kbins, alphas_k[:,2], 1)\n",
    "    # lads_max = lad.get_LADS(m3att, voxel_size, kbins, alphas_k[:,4], 1)\n",
    "    lads_mid = lad.get_LADS(m3att, voxel_size, kbins, alphas_k[:,6], 1)\n",
    "    lads_0 = lad.get_LADS(m3att, voxel_size, kbins, alphas_k[:,6]*0+1, 1.0)\n",
    "    # lads_mesh = lad.get_LADS_mesh(meshfile, voxel_size, kbins, kmax)\n",
    "\n",
    "    lads = {'Correction Mean':lads_mid, 'No Correction':lads_0}\n",
    "\n",
    "    savefig = os.path.join(resdir, 'figures','LAD_%s.png' %(figext))\n",
    "    figures.plot_lads(lads, savefig=savefig)\n",
    "\n"
   ]
  },
  {
   "cell_type": "code",
   "execution_count": null,
   "metadata": {},
   "outputs": [],
   "source": []
  }
 ],
 "metadata": {
  "interpreter": {
   "hash": "760a6cd4159ac8b99590d0ad7ba9faed7c379184a996bf44e62e475912739812"
  },
  "kernelspec": {
   "display_name": "Python 3.8.11 64-bit ('plant-env': conda)",
   "name": "python3"
  },
  "language_info": {
   "codemirror_mode": {
    "name": "ipython",
    "version": 3
   },
   "file_extension": ".py",
   "mimetype": "text/x-python",
   "name": "python",
   "nbconvert_exporter": "python",
   "pygments_lexer": "ipython3",
   "version": "3.8.11"
  },
  "orig_nbformat": 4
 },
 "nbformat": 4,
 "nbformat_minor": 2
}
