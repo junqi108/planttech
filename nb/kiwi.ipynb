{
 "cells": [
  {
   "cell_type": "code",
   "execution_count": 3,
   "metadata": {},
   "outputs": [
    {
     "name": "stdout",
     "output_type": "stream",
     "text": [
      "Jupyter environment detected. Enabling Open3D WebVisualizer.\n",
      "[Open3D INFO] WebRTC GUI backend enabled.\n",
      "[Open3D INFO] WebRTCWindowSystem: HTTP handshake server disabled.\n"
     ]
    }
   ],
   "source": [
    "import numpy as np\n",
    "import os, sys\n",
    "import matplotlib.pyplot as plt\n",
    "import laspy as lp\n",
    "import pdal\n",
    "import pandas as pd\n",
    "import open3d as o3d\n",
    "from dbfread import DBF\n",
    "\n",
    "import itertools\n",
    "\n",
    "from sklearn.cluster import KMeans\n",
    "from sklearn.cluster import DBSCAN\n",
    "from sklearn.neighbors import NearestNeighbors\n",
    "\n",
    "\n",
    "# basedir = os.path.dirname(os.getcwd())\n",
    "basedir = os.path.abspath(os.path.join(os.getcwd() ,\"../\"))\n",
    "_py = os.path.join(basedir, 'py')\n",
    "_data = os.path.join(basedir, 'data')\n",
    "\n",
    "sys.path.insert(1, _py)\n",
    "import loads\n",
    "import lia\n",
    "import ray as rayt\n",
    "import lad\n",
    "import figures\n",
    "\n",
    "import warnings\n",
    "warnings.filterwarnings(\"ignore\")\n",
    "\n",
    "%load_ext autoreload\n",
    "%autoreload 2\n",
    "\n",
    "%matplotlib qt\n",
    "# %matplotlib inline"
   ]
  },
  {
   "cell_type": "code",
   "execution_count": 1,
   "metadata": {},
   "outputs": [],
   "source": [
    "name = 'kiwifruit'"
   ]
  },
  {
   "cell_type": "code",
   "execution_count": 2,
   "metadata": {},
   "outputs": [
    {
     "ename": "NameError",
     "evalue": "name 'loads' is not defined",
     "output_type": "error",
     "traceback": [
      "\u001b[0;31m---------------------------------------------------------------------------\u001b[0m",
      "\u001b[0;31mNameError\u001b[0m                                 Traceback (most recent call last)",
      "\u001b[0;32m/tmp/ipykernel_180838/965088941.py\u001b[0m in \u001b[0;36m<module>\u001b[0;34m\u001b[0m\n\u001b[1;32m      1\u001b[0m \u001b[0;31m# load files\u001b[0m\u001b[0;34m\u001b[0m\u001b[0;34m\u001b[0m\u001b[0;34m\u001b[0m\u001b[0m\n\u001b[0;32m----> 2\u001b[0;31m \u001b[0mlas\u001b[0m \u001b[0;34m=\u001b[0m \u001b[0mloads\u001b[0m\u001b[0;34m.\u001b[0m\u001b[0mloadlaz\u001b[0m\u001b[0;34m(\u001b[0m\u001b[0mname\u001b[0m\u001b[0;34m)\u001b[0m\u001b[0;34m\u001b[0m\u001b[0;34m\u001b[0m\u001b[0m\n\u001b[0m\u001b[1;32m      3\u001b[0m \u001b[0mtraj\u001b[0m \u001b[0;34m=\u001b[0m \u001b[0mloads\u001b[0m\u001b[0;34m.\u001b[0m\u001b[0mloaddbf\u001b[0m\u001b[0;34m(\u001b[0m\u001b[0mname\u001b[0m\u001b[0;34m)\u001b[0m\u001b[0;34m\u001b[0m\u001b[0;34m\u001b[0m\u001b[0m\n",
      "\u001b[0;31mNameError\u001b[0m: name 'loads' is not defined"
     ]
    }
   ],
   "source": [
    "# load files\n",
    "las = loads.loadlaz(name)\n",
    "traj = loads.loaddbf(name)"
   ]
  },
  {
   "cell_type": "code",
   "execution_count": 5,
   "metadata": {},
   "outputs": [],
   "source": [
    "# See LAS columns names\n",
    "point_format = las.point_format\n",
    "if False:\n",
    "    list(point_format.dimension_names)"
   ]
  },
  {
   "cell_type": "code",
   "execution_count": 6,
   "metadata": {},
   "outputs": [],
   "source": [
    "# Define point cloud with RGB colours\n",
    "points = np.vstack((las.x, las.y, las.z)).transpose()\n",
    "colors = np.vstack((las.red, las.green, las.blue)).transpose()"
   ]
  },
  {
   "cell_type": "code",
   "execution_count": 7,
   "metadata": {},
   "outputs": [],
   "source": [
    "# define and plot a sample of the point cloud\n",
    "\n",
    "PCsample = (points[:,1] > 0.34*points[:,0] - 3.0) & (points[:,1] < 0.34*points[:,0] + 5)\n",
    "PCsample &= (points[:,0] < -0.35*points[:,1] - 10) & (points[:,0] > -0.35*points[:,1] - 20)\n",
    "\n",
    "pointslist = [points[PCsample]]\n",
    "colours = [colors[PCsample]/2**16]\n",
    "if False:\n",
    "    loads.showPCDS(pointslist, colours)"
   ]
  },
  {
   "cell_type": "code",
   "execution_count": 8,
   "metadata": {},
   "outputs": [],
   "source": [
    "# trajectory\n",
    "traj = pd.DataFrame(iter(traj)) # to pandas\n",
    "points_t = np.vstack((traj.x, traj.y, traj.z)).transpose()\n"
   ]
  },
  {
   "cell_type": "code",
   "execution_count": 9,
   "metadata": {},
   "outputs": [
    {
     "name": "stdout",
     "output_type": "stream",
     "text": [
      "\u001b[1;33m[Open3D WARNING] GLFW Error: Cocoa: Failed to find service port for display\u001b[0;m\n",
      "\u001b[1;33m[Open3D WARNING] GLFW Error: Cocoa: Failed to find service port for display\u001b[0;m\n"
     ]
    }
   ],
   "source": [
    "# plot the two point cloudsb\n",
    "if False:\n",
    "    pointslist = [points[::4], points_t]\n",
    "    colours = [colors[::4]/2**16, [1, 0, 0]]\n",
    "    loads.showPCDS(pointslist, colours)"
   ]
  },
  {
   "cell_type": "code",
   "execution_count": 10,
   "metadata": {},
   "outputs": [],
   "source": [
    "# interpolate trajectory with gps time\n",
    "\n",
    "df = loads.coordsDF(las, traj)"
   ]
  },
  {
   "cell_type": "code",
   "execution_count": 11,
   "metadata": {},
   "outputs": [],
   "source": [
    "# show sample of beams\n",
    "if False:\n",
    "    loads.showbeams(df[15000000:15000300])"
   ]
  },
  {
   "cell_type": "code",
   "execution_count": 13,
   "metadata": {},
   "outputs": [],
   "source": [
    "if False:\n",
    "    df1 = df[::100]\n",
    "    keep = PCsample[::100]\n",
    "\n",
    "    plt.figure(figsize=(16, 8))\n",
    "\n",
    "    plt.scatter(df1['x'], df1['y'], s=1, c='gray', alpha=0.3)\n",
    "    plt.scatter(df1['x'][keep], df1['y'][keep], s=0.3)\n",
    "\n",
    "    plt.grid()\n",
    "\n",
    "    plt.xlim(-70, 20)\n",
    "    plt.ylim(-35,15)\n",
    "\n",
    "    plt.xlabel(r'$x$', size=20)\n",
    "    plt.ylabel(r'$y$', size=20)\n",
    "\n",
    "    plt.show()"
   ]
  },
  {
   "cell_type": "markdown",
   "metadata": {},
   "source": [
    "## Tree and leaves segmentation"
   ]
  },
  {
   "cell_type": "markdown",
   "metadata": {},
   "source": [
    "### DBSCAN mask"
   ]
  },
  {
   "cell_type": "code",
   "execution_count": 14,
   "metadata": {},
   "outputs": [],
   "source": [
    "\n",
    "keep = PCsample & (las.z > 2.5) & (las.z < 7)\n",
    "Ntot = keep.sum()\n",
    "\n",
    "db = DBSCAN(eps=0.25).fit(points[keep])\n",
    "\n",
    "labels = {}\n",
    "\n",
    "for i in set(db.labels_):\n",
    "    mask = db.labels_ == i\n",
    "    perc = 100*mask.sum()/Ntot\n",
    "    if perc > 1:\n",
    "        # print(i, perc)\n",
    "        labels[i] = mask\n",
    "\n",
    "N = len(list(labels.keys()))\n",
    "\n",
    "# plot the two point clouds\n",
    "coltmp = plt.cm.jet(np.linspace(0,1,N))[:,0:3]\n",
    "\n",
    "if False:\n",
    "    pointslist = [points[keep][val] for val in labels.values()]\n",
    "    colours = [list(i) for i in coltmp]\n",
    "    loads.showPCDS(pointslist, colours)"
   ]
  },
  {
   "cell_type": "code",
   "execution_count": 15,
   "metadata": {},
   "outputs": [],
   "source": [
    "above = np.zeros(len(points), dtype=bool)\n",
    "keep = PCsample & (las.z > 2.5) & (las.z < 7)\n",
    "\n",
    "for val in labels.values():\n",
    "\n",
    "    above[keep] |= val\n",
    "\n",
    "keep = PCsample & ~above\n",
    "rej = PCsample & above\n",
    "\n",
    "if False:\n",
    "    pointslist = [points[keep], points[rej]]\n",
    "    colours = [colors[keep]/2**16, [1, 0, 0]]\n",
    "    loads.showPCDS(pointslist, colours)"
   ]
  },
  {
   "cell_type": "markdown",
   "metadata": {},
   "source": [
    "## Percentiles masking\n",
    "\n",
    "In order to get rid of the stems of kiwifruit trees, first, we take a slide parallel to the stems arange. We have a total of two slides that folow equation:\n",
    "\n",
    "$$y = 0.34x - 0.5 \\\\\n",
    "y = 0.34x + 3.3, $$\n",
    "\n",
    "each one with width of $0.6$."
   ]
  },
  {
   "cell_type": "code",
   "execution_count": 16,
   "metadata": {},
   "outputs": [
    {
     "data": {
      "text/plain": [
       "(-20.0, -10.0)"
      ]
     },
     "execution_count": 16,
     "metadata": {},
     "output_type": "execute_result"
    }
   ],
   "source": [
    "keep = PCsample & (las.z < 1.3) & (las.z > 0.4)\n",
    "\n",
    "plt.figure(figsize=(16, 8))\n",
    "\n",
    "plt.scatter(np.array(las.x)[keep], np.array(las.y)[keep], c='k', s=0.01)\n",
    "\n",
    "x = np.linspace(-30, -10, 20)\n",
    "\n",
    "plt.plot(x, 0.34*x - 0.5, c='r', lw=1, ls='--')\n",
    "plt.plot(x, 0.34*x + 3.3, c='r', lw=1, ls='--')\n",
    "\n",
    "for i in [0.3, -0.3]:\n",
    "\n",
    "    plt.plot(x, 0.34*x - 0.5 + i, c='g', lw=1, ls='-')\n",
    "    plt.plot(x, 0.34*x + 3.3 + i, c='g', lw=1, ls='-')\n",
    "\n",
    "plt.xlabel(r'$x$', size=20)\n",
    "plt.ylabel(r'$y$', size=20)\n",
    "\n",
    "plt.xlim(-20, -10)"
   ]
  },
  {
   "cell_type": "code",
   "execution_count": 17,
   "metadata": {},
   "outputs": [],
   "source": [
    "slide1 = (np.array(las.y) > 0.34*np.array(las.x) - 0.5 - 0.3) & (np.array(las.y) < 0.34*np.array(las.x) - 0.5 + 0.3)\n",
    "slide2 = (np.array(las.y) > 0.34*np.array(las.x) + 3.3 - 0.3) & (np.array(las.y) < 0.34*np.array(las.x) + 3.3 + 0.3)\n",
    "\n",
    "below = np.zeros(len(points), dtype=bool)\n",
    "\n",
    "for i in [slide1, slide2]:\n",
    "\n",
    "    keep = PCsample & i & (las.z > 1.5) & (las.z < 2.7) & ~above\n",
    "\n",
    "    plt.figure(figsize=(16, 8))\n",
    "    plt.scatter(np.array(las.x)[PCsample & ~above & i][::1], np.array(las.z)[PCsample & ~above & i][::1], s=0.04, c='k')\n",
    "    plt.axhline(1.5, lw=1, c='k')\n",
    "    plt.axhline(2.7, lw=1, c='k')\n",
    "\n",
    "    res, bcmask = loads.remove_outliers(np.array(las.x)[keep], np.array(las.z)[keep], nbins=100, bounds=(2, 98.0))\n",
    "    below[keep] |= ~bcmask\n",
    "\n",
    "    plt.ylim(-1,4)\n",
    "\n",
    "    plt.xlabel(r'$x$', size=20)\n",
    "    plt.ylabel(r'$z$', size=20)\n",
    "\n"
   ]
  },
  {
   "cell_type": "code",
   "execution_count": 18,
   "metadata": {},
   "outputs": [],
   "source": [
    "# sanity check: check that red dots corresponds to the regions we want to mask out\n",
    "if False:\n",
    "    keep = PCsample & ~above & ~below\n",
    "    rej = PCsample & (above | below)\n",
    "    pointslist = [points[keep], points[rej]]\n",
    "    colours = [colors[keep]/2**16, [1, 0, 0]]\n",
    "    loads.showPCDS(pointslist, colours)"
   ]
  },
  {
   "cell_type": "code",
   "execution_count": 19,
   "metadata": {},
   "outputs": [],
   "source": [
    "# foliage\n",
    "\n",
    "foliage = ~above & ~below & (las.z > 1.5) & (las.z < 2.7)\n",
    "keep = PCsample & foliage\n",
    "# rej = PCsample & ~foliage\n",
    "if False:\n",
    "    pointslist = [points[keep]]\n",
    "    colours = [colors[keep]/2**16]\n",
    "    loads.showPCDS(pointslist, colours)"
   ]
  },
  {
   "cell_type": "code",
   "execution_count": 20,
   "metadata": {},
   "outputs": [
    {
     "name": "stdout",
     "output_type": "stream",
     "text": [
      "total # points in sample: 1158831\n",
      "total # points within foliage: 1058672, \t 91.36 %\n"
     ]
    }
   ],
   "source": [
    "N = PCsample.sum()\n",
    "samp = PCsample & foliage\n",
    "\n",
    "print('total # points in sample: %i' %(N))\n",
    "print('total # points within foliage: %i, \\t %.2f %%' %(samp.sum(), 100*samp.sum()/N))"
   ]
  },
  {
   "cell_type": "code",
   "execution_count": 21,
   "metadata": {},
   "outputs": [],
   "source": [
    "def segtree(df, leaves, show=False):\n",
    "\n",
    "    trees = {}\n",
    "    centres = []\n",
    "    # keepS = PCsample[::100]\n",
    "    # PCsample = (points[:,1] > 0.34*points[:,0] - 3.0) & (points[:,1] < 0.34*points[:,0] + 5)\n",
    "    # PCsample &= (points[:,0] < -0.35*points[:,1] - 10) & (points[:,0] > -0.35*points[:,1] - 20)\n",
    "    # bins = np.arange(10, 20, 1)\n",
    "    squares = list(itertools.product(np.arange(-20, -10, 1), np.arange(-3, 5, 1)))\n",
    "\n",
    "    if show:\n",
    "        plt.figure(figsize=(20, 10))\n",
    "        \n",
    "\n",
    "    for num, (i,j) in enumerate(squares):\n",
    "        # print(i,j)\n",
    "        keep = np.ones(len(df['x']), dtype=bool)\n",
    "        keep &= (df['y'] > 0.34*df['x'] + j) & (df['y'] < 0.34*df['x'] + (j+1))\n",
    "        keep &= (df['x'] > -0.35*df['y'] + i) & (df['x'] < -0.35*df['y'] + (i+1))\n",
    "        # print(np.sum(keep))\n",
    "\n",
    "        trees['tree_%s' %(str(num))] = keep\n",
    "            \n",
    "        if show:\n",
    "            plt.scatter(df['x'][leaves & keep], df['y'][leaves & keep], s=0.5, label=i)\n",
    "            p = ((i+0.5) - 0.35 * (j+0.5)) / (1 + (0.35 * 0.34))\n",
    "            ya = 0.34*(p) + (j+0.5)\n",
    "            centres.append([num, p, ya])\n",
    "            # plt.scatter(p,ya, s=20, c='k')\n",
    "\n",
    "            box = dict(facecolor='green', edgecolor='black', boxstyle='round,pad=0.5', alpha=0.8)\n",
    "            text = 'tree_%s' %(str(num))\n",
    "\n",
    "            # x = np.linspace(-18, -12, 5)\n",
    "            # plt.plot(x, 0.34*x + j + 0.5, c='r', lw=1, ls='--')\n",
    "            # plt.plot(x, (x - (i + 0.5))/(-0.35), c='r', lw=1, ls='--')\n",
    "\n",
    "            plt.text(p, ya, text, size=10, bbox=box)\n",
    "\n",
    "    if show:\n",
    "        # plt.scatter(df['x'][leaves], df['y'][leaves], s=0.1, c='k')\n",
    "        plt.xlabel(r'$x$', size=20)\n",
    "        plt.ylabel(r'$y$', size=20)\n",
    "        # plt.show()\n",
    "        \n",
    "    return trees, centres\n"
   ]
  },
  {
   "cell_type": "code",
   "execution_count": 22,
   "metadata": {},
   "outputs": [],
   "source": [
    "leaves = PCsample & foliage\n",
    "trees, centres = segtree(df, leaves, show=True)"
   ]
  },
  {
   "cell_type": "code",
   "execution_count": 23,
   "metadata": {},
   "outputs": [],
   "source": [
    "# save centre coordinates of patches\n",
    "resdir = os.path.join(_data, name, 'lia')\n",
    "if not os.path.exists(resdir):\n",
    "    os.makedirs(resdir)\n",
    "    \n",
    "df_centres = pd.DataFrame(centres, columns=['tree_id', 'x', 'y'])\n",
    "df_centres.to_csv(os.path.join(resdir, 'centres.csv'), index=False)"
   ]
  },
  {
   "cell_type": "code",
   "execution_count": 24,
   "metadata": {},
   "outputs": [],
   "source": [
    "# show the point cloud from leaves of firs tree only\n",
    "keep = (trees['tree_0']) & (leaves)\n",
    "# loads.showPCfromDF(df[keep])\n",
    "\n",
    "if False:\n",
    "    pointslist = [points[keep]]\n",
    "    colours = [colors[keep]/2**16]\n",
    "    loads.showPCDS(pointslist, colours)"
   ]
  },
  {
   "cell_type": "markdown",
   "metadata": {},
   "source": [
    "## Intensity vs MLS beam trajectory distance"
   ]
  },
  {
   "cell_type": "code",
   "execution_count": 25,
   "metadata": {},
   "outputs": [
    {
     "data": {
      "text/plain": [
       "array([2.1927497 , 1.79635658, 2.09363725, ..., 2.5842023 , 2.13051761,\n",
       "       1.86470625])"
      ]
     },
     "execution_count": 25,
     "metadata": {},
     "output_type": "execute_result"
    }
   ],
   "source": [
    "sensors = np.vstack((df['xs'].values, df['ys'].values, df['zs'].values)).transpose()\n",
    "\n",
    "# get the distances between the PC and the sensor\n",
    "ab = sensors - points\n",
    "dist = np.sqrt(np.sum((ab) ** 2, axis=1))\n",
    "dist"
   ]
  },
  {
   "cell_type": "code",
   "execution_count": 26,
   "metadata": {},
   "outputs": [
    {
     "name": "stdout",
     "output_type": "stream",
     "text": [
      "10-10.1 11718\n",
      "20-20.1 1829\n",
      "30-30.1 850\n",
      "40-40.1 1452\n",
      "50-50.1 358\n"
     ]
    },
    {
     "data": {
      "text/plain": [
       "Text(0.5, 1.0, 'Intensity')"
      ]
     },
     "execution_count": 26,
     "metadata": {},
     "output_type": "execute_result"
    }
   ],
   "source": [
    "keep = PCsample\n",
    "\n",
    "f = plt.figure(figsize=(10,6))\n",
    "plt.hist(dist[keep], 50, density=True)\n",
    "plt.title('Distance between the PC and sensor', size=15)\n",
    "\n",
    "distbins = {}\n",
    "\n",
    "for i in [10, 20, 30, 40, 50]:\n",
    "\n",
    "    distbins['%s-%s.1' %(str(i), str(i))] = np.logical_and(dist[keep] > i, dist[keep] < i+0.1)\n",
    "    plt.axvline(i, ls='--', color='k')\n",
    "\n",
    "\n",
    "intensity = np.array(las.intensity[keep])\n",
    "\n",
    "f = plt.figure(figsize=(10,6))\n",
    "\n",
    "for key, val in distbins.items():\n",
    "\n",
    "    print(key, val.sum())\n",
    "\n",
    "    bins = np.linspace(intensity.min(), intensity.max(), 50)\n",
    "    plt.hist(intensity[val], bins=bins, histtype='step', lw=2, density=True, label=key)\n",
    "\n",
    "plt.legend()\n",
    "plt.title('Intensity', size=15)\n",
    "    "
   ]
  },
  {
   "cell_type": "markdown",
   "metadata": {},
   "source": [
    "# `Leaf Inclination Angle` (LIA) estimation\n",
    "\n",
    "On the contrary to the mock example, here we can not use function `lia.bestfit_pars_la` to get the best-fit parameters..."
   ]
  },
  {
   "cell_type": "code",
   "execution_count": 68,
   "metadata": {},
   "outputs": [],
   "source": [
    "\n",
    "def run_lia(trees, voxel_size_w, kd3_sr, max_nn, voxel_size_h=0.1, savefig=True, savefig_extra=False):\n",
    "\n",
    "    # load bestfit results      \n",
    "    for num, (key, val) in enumerate(trees.items()):\n",
    "\n",
    "        # if num == 0: # for debug\n",
    "        if True:\n",
    "\n",
    "            print('********* %s *********' %(key))\n",
    "\n",
    "            keep = (val) & (leaves)\n",
    "            df_ = df[['x', 'y', 'z']][keep]\n",
    "            points = loads.DF2array(df_)\n",
    "            # print(points[:,2].min())\n",
    "\n",
    "            # voxel_size_w = 0.01\n",
    "            # kd3_sr = 0.15\n",
    "            # max_nn = 40\n",
    "\n",
    "            text = '%s=%.4f \\n %s=%.4f \\n %s=%.4f ' %(\n",
    "                                    'voxel_size_w', voxel_size_w,\n",
    "                                    'kd3_sr', kd3_sr,\n",
    "                                    'max_nn', max_nn)\n",
    "            # print(text)\n",
    "\n",
    "            lia.leaf_angle(points, name, key, voxel_size_w, kd3_sr, max_nn, save=True,\n",
    "                                        savefig=savefig, text=text, voxel_size_h=voxel_size_h, ismock=False,\n",
    "                                        ylim=0.03, ylimh=0.45, savefig_extra=savefig_extra)"
   ]
  },
  {
   "cell_type": "code",
   "execution_count": 69,
   "metadata": {},
   "outputs": [
    {
     "name": "stdout",
     "output_type": "stream",
     "text": [
      "********* tree_0 *********\n",
      "********* tree_1 *********\n",
      "********* tree_2 *********\n",
      "********* tree_3 *********\n",
      "********* tree_4 *********\n",
      "********* tree_5 *********\n",
      "********* tree_6 *********\n",
      "********* tree_7 *********\n",
      "********* tree_8 *********\n",
      "********* tree_9 *********\n",
      "********* tree_10 *********\n",
      "********* tree_11 *********\n",
      "********* tree_12 *********\n",
      "********* tree_13 *********\n",
      "********* tree_14 *********\n",
      "********* tree_15 *********\n",
      "********* tree_16 *********\n",
      "********* tree_17 *********\n",
      "********* tree_18 *********\n",
      "********* tree_19 *********\n",
      "********* tree_20 *********\n",
      "********* tree_21 *********\n",
      "********* tree_22 *********\n",
      "********* tree_23 *********\n",
      "********* tree_24 *********\n",
      "********* tree_25 *********\n",
      "********* tree_26 *********\n",
      "********* tree_27 *********\n",
      "********* tree_28 *********\n",
      "********* tree_29 *********\n",
      "********* tree_30 *********\n",
      "********* tree_31 *********\n",
      "********* tree_32 *********\n",
      "********* tree_33 *********\n",
      "********* tree_34 *********\n",
      "********* tree_35 *********\n",
      "********* tree_36 *********\n",
      "********* tree_37 *********\n",
      "********* tree_38 *********\n",
      "********* tree_39 *********\n",
      "********* tree_40 *********\n",
      "********* tree_41 *********\n",
      "********* tree_42 *********\n",
      "********* tree_43 *********\n",
      "********* tree_44 *********\n",
      "********* tree_45 *********\n",
      "********* tree_46 *********\n",
      "********* tree_47 *********\n",
      "********* tree_48 *********\n",
      "********* tree_49 *********\n",
      "********* tree_50 *********\n",
      "********* tree_51 *********\n",
      "********* tree_52 *********\n",
      "********* tree_53 *********\n",
      "********* tree_54 *********\n",
      "********* tree_55 *********\n",
      "********* tree_56 *********\n",
      "********* tree_57 *********\n",
      "********* tree_58 *********\n",
      "********* tree_59 *********\n",
      "********* tree_60 *********\n",
      "********* tree_61 *********\n",
      "********* tree_62 *********\n",
      "********* tree_63 *********\n",
      "********* tree_64 *********\n",
      "********* tree_65 *********\n",
      "********* tree_66 *********\n",
      "********* tree_67 *********\n",
      "********* tree_68 *********\n",
      "********* tree_69 *********\n",
      "********* tree_70 *********\n",
      "********* tree_71 *********\n",
      "********* tree_72 *********\n",
      "********* tree_73 *********\n",
      "********* tree_74 *********\n",
      "********* tree_75 *********\n",
      "********* tree_76 *********\n",
      "********* tree_77 *********\n",
      "********* tree_78 *********\n",
      "********* tree_79 *********\n"
     ]
    }
   ],
   "source": [
    "run_lia(trees, voxel_size_w=0.01, kd3_sr=0.15, max_nn=300, \n",
    "voxel_size_h=0.05, savefig=False, savefig_extra=True)"
   ]
  },
  {
   "cell_type": "markdown",
   "metadata": {},
   "source": [
    "## Files for Junqi"
   ]
  },
  {
   "cell_type": "markdown",
   "metadata": {},
   "source": [
    "Following code takes `results_per_height_tree_<ID>.csv` file adds the `LAD` column and break the `values` array to asign a value to a column. Result is stored in Junqi directory with same name."
   ]
  },
  {
   "cell_type": "code",
   "execution_count": 71,
   "metadata": {},
   "outputs": [],
   "source": [
    "import glob\n",
    "\n",
    "for file in glob.glob(os.path.join(_data, name, 'lia', 'results_per_*.csv')):\n",
    "    # print(file)\n",
    "    df_ = pd.read_csv(file)\n",
    "    outfile = os.path.join(_data, name, 'lia', 'junqi', file.split('/')[-1])\n",
    "    a = df_['values'].str[1:-1]\n",
    "    keep = [len(i) > 0 for i in a]\n",
    "    a = a.str.split(expand=True)\n",
    "    df_['lad'] = np.arange(0, len(a))\n",
    "    pd.concat([df_['zmin'][keep], df_['lad'][keep], a[keep]], axis=1).to_csv(outfile, index=False) \n"
   ]
  },
  {
   "cell_type": "markdown",
   "metadata": {},
   "source": [
    "Below code is deprecated now..."
   ]
  },
  {
   "cell_type": "code",
   "execution_count": 27,
   "metadata": {},
   "outputs": [],
   "source": [
    "if False:\n",
    "    \n",
    "    import glob\n",
    "\n",
    "    files = glob.glob(os.path.join(_data, name, 'lia', 'angles*.npy'))\n",
    "    for file in files:\n",
    "        outfile = os.path.join(_data, name, 'lia', 'junqi', file.split('/')[-1].split('.')[0]+'.csv')\n",
    "        pd.DataFrame(np.load(file)).to_csv(outfile, index=False)\n",
    "        \n",
    "    for num, (key, val) in enumerate(trees.items()):\n",
    "        if True:\n",
    "            keep = (val) & (leaves)\n",
    "            outfile = os.path.join(_data, name, 'lia', 'junqi', 'heighta_%s.csv' %(key))\n",
    "            df[['z']][keep].to_csv(outfile, index=False)"
   ]
  },
  {
   "cell_type": "code",
   "execution_count": 28,
   "metadata": {},
   "outputs": [],
   "source": [
    "\n"
   ]
  },
  {
   "cell_type": "markdown",
   "metadata": {},
   "source": [
    "# `\u001dLeaf Area Density` (LAD) estimation"
   ]
  },
  {
   "cell_type": "code",
   "execution_count": 22,
   "metadata": {},
   "outputs": [
    {
     "name": "stdout",
     "output_type": "stream",
     "text": [
      "tree_0 1158831\n"
     ]
    }
   ],
   "source": [
    "for key, val in trees.items():\n",
    "\n",
    "    keep = (val)\n",
    "    print(key, np.sum(keep))"
   ]
  },
  {
   "cell_type": "code",
   "execution_count": null,
   "metadata": {},
   "outputs": [],
   "source": [
    "downsample = 0.005\n",
    "voxel_size = 0.15\n",
    "# to check everything looks fine\n",
    "show = False\n",
    "sample = None"
   ]
  },
  {
   "cell_type": "code",
   "execution_count": 23,
   "metadata": {},
   "outputs": [],
   "source": [
    "\n",
    "POINTS = loads.DF2array(df[['x', 'y', 'z']])\n",
    "SENSORS = loads.DF2array(df[['xs', 'ys', 'zs']])\n",
    "\n",
    "def get_rays(downsample, voxel_size, sample=None, show=False):\n",
    "\n",
    "    if downsample is not None:\n",
    "\n",
    "        resdir = os.path.join(_data, name, 'lad_%s' %(str(downsample)))\n",
    "        if not os.path.exists(resdir):\n",
    "            os.makedirs(resdir)\n",
    "\n",
    "        outdir = os.path.join(resdir, 'inds.npy')\n",
    "        if os.path.exists(outdir):\n",
    "            print('inds file already exists for donwnsample of %.3f at %s' %(downsample, outdir))\n",
    "\n",
    "            inds = np.load(outdir)\n",
    "\n",
    "            points = POINTS[inds]\n",
    "            sensors = SENSORS[inds]\n",
    "\n",
    "        else:\n",
    "\n",
    "            print('inds not been created yet for donwnsample of %.3f' %(downsample))\n",
    "            idx = np.random.randint(0, len(df), int(len(df) * downsample))\n",
    "            inds = np.zeros(len(df), dtype=bool)\n",
    "            inds[idx] = True\n",
    "\n",
    "            points = POINTS[inds]\n",
    "            sensors = SENSORS[inds]\n",
    "\n",
    "            np.save(outdir, inds)\n",
    "\n",
    "    else:\n",
    "\n",
    "        resdir = os.path.join(_data, name, 'lad')\n",
    "        if not os.path.exists(resdir):\n",
    "            os.makedirs(resdir)\n",
    "\n",
    "    if sample is not None:\n",
    "\n",
    "        idx = np.random.randint(0, len(df), int(sample))\n",
    "        points = POINTS[idx]\n",
    "        sensors = SENSORS[idx]\n",
    "\n",
    "    for key, val in trees.items():\n",
    "\n",
    "        inPR = (val) & (leaves) & (inds)\n",
    "        pointsPR = POINTS[inPR]\n",
    "        m3s = rayt.main(points, sensors, pointsPR, voxel_size, resdir, key, show=show)"
   ]
  },
  {
   "cell_type": "code",
   "execution_count": 24,
   "metadata": {},
   "outputs": [],
   "source": [
    "def runall(downsample, voxel_size, kbins=None):\n",
    "    \n",
    "    if downsample is not None:\n",
    "        resdir = os.path.join(_data, name, 'lad_%s' %(str(downsample)))\n",
    "        inds_file = os.path.join(resdir, 'inds.npy')\n",
    "        inds = np.load(inds_file)\n",
    "        print('downsample:', downsample)\n",
    "    else:\n",
    "        inds = np.ones(len(df), dtype=bool)\n",
    "        resdir = os.path.join(_data, name, 'lad')\n",
    "\n",
    "    isfigures = os.path.join(resdir, 'figures')\n",
    "    if not os.path.exists(isfigures):\n",
    "        os.makedirs(isfigures)\n",
    "\n",
    "    print('voxel_size:', voxel_size)\n",
    "\n",
    "    for key, val in trees.items():\n",
    "\n",
    "        inPR = (val) & (leaves) & (inds)\n",
    "        pointsPR = POINTS[inPR]\n",
    "        sensorsPR = SENSORS[inPR]\n",
    "\n",
    "        m3att = lad.compute_attributes(pointsPR, resdir, voxel_size, key)\n",
    "\n",
    "        # _,_,_, m3scount = lad.density_counts(pointsPR, voxel_size)\n",
    "\n",
    "        # get in down sample boolean array for LPC size\n",
    "        inds_ = inds[(val) & (leaves)]\n",
    "        lias, ws = lad.downsample_lia(name, key, inds_)\n",
    "        voxk = lad.get_voxk(pointsPR, voxel_size)\n",
    "        bia = lad.get_bia(pointsPR, sensorsPR)\n",
    "        # meshfile = lad.get_meshfile(name)\n",
    "\n",
    "        figext = '%s_%s' %(key, str(voxel_size))\n",
    "        # figext = None\n",
    "        alphas_k = lad.alpha_k(bia, voxk, lias, ws, resdir, meshfile=None, figext=figext, \n",
    "                                klia=False, use_true_lia=False)\n",
    "\n",
    "        kmax = m3att.shape[2]\n",
    "        if kbins is None:\n",
    "            kbins = int(kmax/15)\n",
    "        print(kbins)\n",
    "\n",
    "        # Attribute 2 counts per voxel\n",
    "        # outdir_count = os.path.join(resdir, 'm3count_%s_%s.npy' %(key, str(voxel_size)))\n",
    "        # m3pcount = np.load(outdir_count)\n",
    "        # print('******* outdir_count', outdir_count)\n",
    "\n",
    "        \n",
    "        # lads_min = lad.get_LADS(m3att, voxel_size, kbins, alphas_k[:,2], 1)\n",
    "        # lads_max = lad.get_LADS(m3att, voxel_size, kbins, alphas_k[:,4], 1)\n",
    "        lads_mid = lad.get_LADS(m3att, voxel_size, kbins, alphas_k[:,6], alpha2=1)\n",
    "        # lads_mid_w = lad.get_LADS(m3att, voxel_size, kbins, alphas_k[:,6], 1, m3scount=m3scount, m3pcount=m3pcount)\n",
    "        # lads_mid_counts = lad.get_LADS(m3att, voxel_size, kbins, alphas_k[:,6], 1, m3scount=m3scount, usecounts=True, m3pcount=m3pcount)\n",
    "\n",
    "        lads_0 = lad.get_LADS(m3att, voxel_size, kbins, alphas_k[:,6]*0+1, alpha2=1)\n",
    "        # lads_mesh = lad.get_LADS_mesh(meshfile, voxel_size, kbins, kmax)\n",
    "\n",
    "        lads = {'Correction Mean':lads_mid, 'No Correction':lads_0} #, 'Correction counts':lads_mid_counts}\n",
    "        # lads = {'Truth':lads_mesh, 'Correction Mean':lads_mid, 'No Correction':lads_0}\n",
    "        clai = lad.get_clai(m3att, alphas_k)\n",
    "        attributes_file = os.path.join(resdir, 'm3s_%s_%s.npy' %(key, str(voxel_size)))\n",
    "        if os.path.isfile(attributes_file):\n",
    "            RT = 'Y'\n",
    "        else:\n",
    "            RT = 'N'\n",
    "            \n",
    "        text = {'tree':key, 'VS':voxel_size, 'DS':downsample, 'RT':RT, 'CLAI':np.round(clai, 3)}\n",
    "        txt = []\n",
    "        for key, val in text.items():\n",
    "            txt.append('%s=%s \\n' %(key, str(val)))\n",
    "        text = (' ').join(txt)\n",
    "\n",
    "        savefig = os.path.join(resdir, 'figures','LAD_%s.png' %(figext))\n",
    "        figures.plot_lads(lads, text, savefig=savefig)\n",
    "\n",
    "    # return m3pcounts, m3scount\n",
    "\n"
   ]
  },
  {
   "cell_type": "code",
   "execution_count": 47,
   "metadata": {},
   "outputs": [
    {
     "name": "stdout",
     "output_type": "stream",
     "text": [
      "inds file already exists for donwnsample of 0.010 at /Users/omar/projects/planttech/data/kiwifruit/lad_0.01/inds.npy\n",
      "max --> [113, 100, 11]\n",
      "min --> [0, 0, 0]\n"
     ]
    },
    {
     "name": "stderr",
     "output_type": "stream",
     "text": [
      "50it [00:00, 247.42it/s]"
     ]
    },
    {
     "name": "stdout",
     "output_type": "stream",
     "text": [
      "tot vox: \t 138168\n",
      "voxels hitted: \t 85\n",
      "Percentage of voxels hitted by beam: 0.00\n",
      "voxels hitted (OLD): \t 114\n",
      "Percentage of voxels hitted by beam (OLD): 0.00\n"
     ]
    },
    {
     "name": "stderr",
     "output_type": "stream",
     "text": [
      "\n"
     ]
    }
   ],
   "source": [
    "downsample = 0.01\n",
    "voxel_size = 0.1\n",
    "# to check everything looks fine\n",
    "show = False\n",
    "sample = None\n",
    "\n",
    "get_rays(downsample, voxel_size, sample, show)"
   ]
  },
  {
   "cell_type": "markdown",
   "metadata": {},
   "source": [
    "## Attribute variation"
   ]
  },
  {
   "cell_type": "code",
   "execution_count": 50,
   "metadata": {},
   "outputs": [
    {
     "name": "stdout",
     "output_type": "stream",
     "text": [
      "inds not been created yet for donwnsample of 0.005\n",
      "max --> [114, 100, 10]\n",
      "min --> [0, 0, 0]\n"
     ]
    },
    {
     "name": "stderr",
     "output_type": "stream",
     "text": [
      "196205it [07:08, 457.63it/s] \n"
     ]
    },
    {
     "name": "stdout",
     "output_type": "stream",
     "text": [
      "tot vox: \t 127765\n",
      "voxels hitted: \t 79405\n",
      "Percentage of voxels hitted by beam: 0.62\n",
      "voxels hitted (OLD): \t 97851\n",
      "Percentage of voxels hitted by beam (OLD): 0.77\n",
      "inds not been created yet for donwnsample of 0.010\n",
      "max --> [114, 101, 11]\n",
      "min --> [0, 0, 0]\n"
     ]
    },
    {
     "name": "stderr",
     "output_type": "stream",
     "text": [
      "391420it [16:33, 394.03it/s] \n"
     ]
    },
    {
     "name": "stdout",
     "output_type": "stream",
     "text": [
      "tot vox: \t 140760\n",
      "voxels hitted: \t 96577\n",
      "Percentage of voxels hitted by beam: 0.69\n",
      "voxels hitted (OLD): \t 121262\n",
      "Percentage of voxels hitted by beam (OLD): 0.86\n",
      "inds not been created yet for donwnsample of 0.050\n",
      "max --> [114, 101, 12]\n",
      "min --> [0, 0, 0]\n"
     ]
    },
    {
     "name": "stderr",
     "output_type": "stream",
     "text": [
      "1918869it [1:32:05, 347.26it/s] \n"
     ]
    },
    {
     "name": "stdout",
     "output_type": "stream",
     "text": [
      "tot vox: \t 152490\n",
      "voxels hitted: \t 110159\n",
      "Percentage of voxels hitted by beam: 0.72\n",
      "voxels hitted (OLD): \t 147755\n",
      "Percentage of voxels hitted by beam (OLD): 0.97\n",
      "inds not been created yet for donwnsample of 0.100\n",
      "max --> [114, 102, 12]\n",
      "min --> [0, 0, 0]\n"
     ]
    },
    {
     "name": "stderr",
     "output_type": "stream",
     "text": [
      "3743403it [3:07:17, 333.12it/s]  \n"
     ]
    },
    {
     "name": "stdout",
     "output_type": "stream",
     "text": [
      "tot vox: \t 153985\n",
      "voxels hitted: \t 112469\n",
      "Percentage of voxels hitted by beam: 0.73\n",
      "voxels hitted (OLD): \t 152480\n",
      "Percentage of voxels hitted by beam (OLD): 0.99\n",
      "inds not been created yet for donwnsample of 0.200\n",
      "max --> [114, 101, 12]\n",
      "min --> [0, 0, 0]\n"
     ]
    },
    {
     "name": "stderr",
     "output_type": "stream",
     "text": [
      "7131248it [6:38:20, 298.38it/s]  \n"
     ]
    },
    {
     "name": "stdout",
     "output_type": "stream",
     "text": [
      "tot vox: \t 152490\n",
      "voxels hitted: \t 111331\n",
      "Percentage of voxels hitted by beam: 0.73\n",
      "voxels hitted (OLD): \t 152246\n",
      "Percentage of voxels hitted by beam (OLD): 1.00\n",
      "inds not been created yet for donwnsample of 0.400\n",
      "max --> [114, 102, 12]\n",
      "min --> [0, 0, 0]\n"
     ]
    },
    {
     "name": "stderr",
     "output_type": "stream",
     "text": [
      "354092it [10:39, 554.04it/s]  \n"
     ]
    },
    {
     "ename": "KeyboardInterrupt",
     "evalue": "",
     "output_type": "error",
     "traceback": [
      "\u001b[0;31m---------------------------------------------------------------------------\u001b[0m",
      "\u001b[0;31mKeyboardInterrupt\u001b[0m                         Traceback (most recent call last)",
      "\u001b[0;32m/var/folders/4l/bbjl67b151l_mb_20rk6glxh0000gn/T/ipykernel_31326/1939253510.py\u001b[0m in \u001b[0;36m<module>\u001b[0;34m\u001b[0m\n\u001b[1;32m      1\u001b[0m \u001b[0;32mfor\u001b[0m \u001b[0mDS\u001b[0m \u001b[0;32min\u001b[0m \u001b[0;34m[\u001b[0m\u001b[0;36m0.005\u001b[0m\u001b[0;34m,\u001b[0m \u001b[0;36m0.01\u001b[0m\u001b[0;34m,\u001b[0m \u001b[0;36m0.05\u001b[0m\u001b[0;34m,\u001b[0m \u001b[0;36m0.1\u001b[0m\u001b[0;34m,\u001b[0m \u001b[0;36m0.2\u001b[0m\u001b[0;34m,\u001b[0m \u001b[0;36m0.4\u001b[0m\u001b[0;34m]\u001b[0m\u001b[0;34m:\u001b[0m\u001b[0;34m\u001b[0m\u001b[0;34m\u001b[0m\u001b[0m\n\u001b[1;32m      2\u001b[0m \u001b[0;34m\u001b[0m\u001b[0m\n\u001b[0;32m----> 3\u001b[0;31m     \u001b[0mget_rays\u001b[0m\u001b[0;34m(\u001b[0m\u001b[0mdownsample\u001b[0m\u001b[0;34m=\u001b[0m\u001b[0mDS\u001b[0m\u001b[0;34m,\u001b[0m \u001b[0mvoxel_size\u001b[0m\u001b[0;34m=\u001b[0m\u001b[0;36m0.1\u001b[0m\u001b[0;34m)\u001b[0m\u001b[0;34m\u001b[0m\u001b[0;34m\u001b[0m\u001b[0m\n\u001b[0m",
      "\u001b[0;32m/var/folders/4l/bbjl67b151l_mb_20rk6glxh0000gn/T/ipykernel_31326/1043603012.py\u001b[0m in \u001b[0;36mget_rays\u001b[0;34m(downsample, voxel_size, sample, show)\u001b[0m\n\u001b[1;32m     47\u001b[0m         \u001b[0minPR\u001b[0m \u001b[0;34m=\u001b[0m \u001b[0;34m(\u001b[0m\u001b[0mval\u001b[0m\u001b[0;34m)\u001b[0m \u001b[0;34m&\u001b[0m \u001b[0;34m(\u001b[0m\u001b[0mleaves\u001b[0m\u001b[0;34m)\u001b[0m \u001b[0;34m&\u001b[0m \u001b[0;34m(\u001b[0m\u001b[0minds\u001b[0m\u001b[0;34m)\u001b[0m\u001b[0;34m\u001b[0m\u001b[0;34m\u001b[0m\u001b[0m\n\u001b[1;32m     48\u001b[0m         \u001b[0mpointsPR\u001b[0m \u001b[0;34m=\u001b[0m \u001b[0mPOINTS\u001b[0m\u001b[0;34m[\u001b[0m\u001b[0minPR\u001b[0m\u001b[0;34m]\u001b[0m\u001b[0;34m\u001b[0m\u001b[0;34m\u001b[0m\u001b[0m\n\u001b[0;32m---> 49\u001b[0;31m         \u001b[0mm3s\u001b[0m \u001b[0;34m=\u001b[0m \u001b[0mrayt\u001b[0m\u001b[0;34m.\u001b[0m\u001b[0mmain\u001b[0m\u001b[0;34m(\u001b[0m\u001b[0mpoints\u001b[0m\u001b[0;34m,\u001b[0m \u001b[0msensors\u001b[0m\u001b[0;34m,\u001b[0m \u001b[0mpointsPR\u001b[0m\u001b[0;34m,\u001b[0m \u001b[0mvoxel_size\u001b[0m\u001b[0;34m,\u001b[0m \u001b[0mresdir\u001b[0m\u001b[0;34m,\u001b[0m \u001b[0mkey\u001b[0m\u001b[0;34m,\u001b[0m \u001b[0mshow\u001b[0m\u001b[0;34m=\u001b[0m\u001b[0mshow\u001b[0m\u001b[0;34m)\u001b[0m\u001b[0;34m\u001b[0m\u001b[0;34m\u001b[0m\u001b[0m\n\u001b[0m",
      "\u001b[0;32m~/projects/planttech/py/ray.py\u001b[0m in \u001b[0;36mmain\u001b[0;34m(points, sensors, pointsPR, voxel_size, resdir, treename, show)\u001b[0m\n\u001b[1;32m    531\u001b[0m             \u001b[0;31m# print('In PR!!!')\u001b[0m\u001b[0;34m\u001b[0m\u001b[0;34m\u001b[0m\u001b[0;34m\u001b[0m\u001b[0m\n\u001b[1;32m    532\u001b[0m \u001b[0;34m\u001b[0m\u001b[0m\n\u001b[0;32m--> 533\u001b[0;31m             \u001b[0mboxes\u001b[0m \u001b[0;34m=\u001b[0m \u001b[0mintercept\u001b[0m\u001b[0;34m(\u001b[0m\u001b[0mray\u001b[0m\u001b[0;34m,\u001b[0m \u001b[0mboxPR\u001b[0m\u001b[0;34m,\u001b[0m \u001b[0mvoxel_size\u001b[0m\u001b[0;34m)\u001b[0m\u001b[0;34m\u001b[0m\u001b[0;34m\u001b[0m\u001b[0m\n\u001b[0m\u001b[1;32m    534\u001b[0m \u001b[0;34m\u001b[0m\u001b[0m\n\u001b[1;32m    535\u001b[0m             \u001b[0;32mtry\u001b[0m\u001b[0;34m:\u001b[0m\u001b[0;34m\u001b[0m\u001b[0;34m\u001b[0m\u001b[0m\n",
      "\u001b[0;32m~/projects/planttech/py/ray.py\u001b[0m in \u001b[0;36mintercept\u001b[0;34m(ray, boxPR, voxel_size)\u001b[0m\n\u001b[1;32m    143\u001b[0m         \u001b[0mmarks\u001b[0m \u001b[0;34m=\u001b[0m \u001b[0;36m0\u001b[0m\u001b[0;34m\u001b[0m\u001b[0;34m\u001b[0m\u001b[0m\n\u001b[1;32m    144\u001b[0m \u001b[0;34m\u001b[0m\u001b[0m\n\u001b[0;32m--> 145\u001b[0;31m         \u001b[0mboxes_\u001b[0m \u001b[0;34m=\u001b[0m \u001b[0;34m[\u001b[0m\u001b[0msplit_BB\u001b[0m\u001b[0;34m(\u001b[0m\u001b[0mbox\u001b[0m\u001b[0;34m,\u001b[0m \u001b[0mvoxel_size\u001b[0m\u001b[0;34m)\u001b[0m \u001b[0;32mfor\u001b[0m \u001b[0mbox\u001b[0m \u001b[0;32min\u001b[0m \u001b[0mboxes\u001b[0m\u001b[0;34m]\u001b[0m\u001b[0;34m\u001b[0m\u001b[0;34m\u001b[0m\u001b[0m\n\u001b[0m\u001b[1;32m    146\u001b[0m         \u001b[0mmarks\u001b[0m \u001b[0;34m=\u001b[0m \u001b[0;34m[\u001b[0m\u001b[0mlen\u001b[0m\u001b[0;34m(\u001b[0m\u001b[0mi\u001b[0m\u001b[0;34m)\u001b[0m \u001b[0;34m-\u001b[0m \u001b[0;36m1\u001b[0m \u001b[0;32mfor\u001b[0m \u001b[0mi\u001b[0m \u001b[0;32min\u001b[0m \u001b[0mboxes_\u001b[0m\u001b[0;34m]\u001b[0m\u001b[0;34m\u001b[0m\u001b[0;34m\u001b[0m\u001b[0m\n\u001b[1;32m    147\u001b[0m         \u001b[0mmarks\u001b[0m \u001b[0;34m=\u001b[0m \u001b[0mnp\u001b[0m\u001b[0;34m.\u001b[0m\u001b[0marray\u001b[0m\u001b[0;34m(\u001b[0m\u001b[0mmarks\u001b[0m\u001b[0;34m)\u001b[0m\u001b[0;34m.\u001b[0m\u001b[0msum\u001b[0m\u001b[0;34m(\u001b[0m\u001b[0;34m)\u001b[0m\u001b[0;34m\u001b[0m\u001b[0;34m\u001b[0m\u001b[0m\n",
      "\u001b[0;32m~/projects/planttech/py/ray.py\u001b[0m in \u001b[0;36m<listcomp>\u001b[0;34m(.0)\u001b[0m\n\u001b[1;32m    143\u001b[0m         \u001b[0mmarks\u001b[0m \u001b[0;34m=\u001b[0m \u001b[0;36m0\u001b[0m\u001b[0;34m\u001b[0m\u001b[0;34m\u001b[0m\u001b[0m\n\u001b[1;32m    144\u001b[0m \u001b[0;34m\u001b[0m\u001b[0m\n\u001b[0;32m--> 145\u001b[0;31m         \u001b[0mboxes_\u001b[0m \u001b[0;34m=\u001b[0m \u001b[0;34m[\u001b[0m\u001b[0msplit_BB\u001b[0m\u001b[0;34m(\u001b[0m\u001b[0mbox\u001b[0m\u001b[0;34m,\u001b[0m \u001b[0mvoxel_size\u001b[0m\u001b[0;34m)\u001b[0m \u001b[0;32mfor\u001b[0m \u001b[0mbox\u001b[0m \u001b[0;32min\u001b[0m \u001b[0mboxes\u001b[0m\u001b[0;34m]\u001b[0m\u001b[0;34m\u001b[0m\u001b[0;34m\u001b[0m\u001b[0m\n\u001b[0m\u001b[1;32m    146\u001b[0m         \u001b[0mmarks\u001b[0m \u001b[0;34m=\u001b[0m \u001b[0;34m[\u001b[0m\u001b[0mlen\u001b[0m\u001b[0;34m(\u001b[0m\u001b[0mi\u001b[0m\u001b[0;34m)\u001b[0m \u001b[0;34m-\u001b[0m \u001b[0;36m1\u001b[0m \u001b[0;32mfor\u001b[0m \u001b[0mi\u001b[0m \u001b[0;32min\u001b[0m \u001b[0mboxes_\u001b[0m\u001b[0;34m]\u001b[0m\u001b[0;34m\u001b[0m\u001b[0;34m\u001b[0m\u001b[0m\n\u001b[1;32m    147\u001b[0m         \u001b[0mmarks\u001b[0m \u001b[0;34m=\u001b[0m \u001b[0mnp\u001b[0m\u001b[0;34m.\u001b[0m\u001b[0marray\u001b[0m\u001b[0;34m(\u001b[0m\u001b[0mmarks\u001b[0m\u001b[0;34m)\u001b[0m\u001b[0;34m.\u001b[0m\u001b[0msum\u001b[0m\u001b[0;34m(\u001b[0m\u001b[0;34m)\u001b[0m\u001b[0;34m\u001b[0m\u001b[0;34m\u001b[0m\u001b[0m\n",
      "\u001b[0;32m~/projects/planttech/py/ray.py\u001b[0m in \u001b[0;36msplit_BB\u001b[0;34m(box, voxel_size)\u001b[0m\n\u001b[1;32m     92\u001b[0m             \u001b[0mA\u001b[0m \u001b[0;34m=\u001b[0m \u001b[0mnp\u001b[0m\u001b[0;34m.\u001b[0m\u001b[0marray\u001b[0m\u001b[0;34m(\u001b[0m\u001b[0mbox\u001b[0m\u001b[0;34m[\u001b[0m\u001b[0;36m0\u001b[0m\u001b[0;34m]\u001b[0m\u001b[0;34m)\u001b[0m \u001b[0;34m+\u001b[0m \u001b[0mnp\u001b[0m\u001b[0;34m.\u001b[0m\u001b[0marray\u001b[0m\u001b[0;34m(\u001b[0m\u001b[0mminBB_\u001b[0m\u001b[0;34m[\u001b[0m\u001b[0mi\u001b[0m\u001b[0;34m]\u001b[0m\u001b[0;34m)\u001b[0m \u001b[0;34m*\u001b[0m \u001b[0mvoxel_size\u001b[0m\u001b[0;34m\u001b[0m\u001b[0;34m\u001b[0m\u001b[0m\n\u001b[1;32m     93\u001b[0m             \u001b[0mB\u001b[0m \u001b[0;34m=\u001b[0m \u001b[0mnp\u001b[0m\u001b[0;34m.\u001b[0m\u001b[0marray\u001b[0m\u001b[0;34m(\u001b[0m\u001b[0mbox\u001b[0m\u001b[0;34m[\u001b[0m\u001b[0;36m0\u001b[0m\u001b[0;34m]\u001b[0m\u001b[0;34m)\u001b[0m \u001b[0;34m+\u001b[0m \u001b[0mnp\u001b[0m\u001b[0;34m.\u001b[0m\u001b[0marray\u001b[0m\u001b[0;34m(\u001b[0m\u001b[0mmaxBB_\u001b[0m\u001b[0;34m[\u001b[0m\u001b[0mi\u001b[0m\u001b[0;34m]\u001b[0m\u001b[0;34m)\u001b[0m \u001b[0;34m*\u001b[0m \u001b[0mvoxel_size\u001b[0m\u001b[0;34m\u001b[0m\u001b[0;34m\u001b[0m\u001b[0m\n\u001b[0;32m---> 94\u001b[0;31m             \u001b[0mboxes\u001b[0m\u001b[0;34m.\u001b[0m\u001b[0mappend\u001b[0m\u001b[0;34m(\u001b[0m\u001b[0mpyrr\u001b[0m\u001b[0;34m.\u001b[0m\u001b[0maabb\u001b[0m\u001b[0;34m.\u001b[0m\u001b[0mcreate_from_bounds\u001b[0m\u001b[0;34m(\u001b[0m\u001b[0mA\u001b[0m\u001b[0;34m,\u001b[0m \u001b[0mB\u001b[0m\u001b[0;34m)\u001b[0m\u001b[0;34m.\u001b[0m\u001b[0mtolist\u001b[0m\u001b[0;34m(\u001b[0m\u001b[0;34m)\u001b[0m\u001b[0;34m)\u001b[0m\u001b[0;34m\u001b[0m\u001b[0;34m\u001b[0m\u001b[0m\n\u001b[0m\u001b[1;32m     95\u001b[0m \u001b[0;34m\u001b[0m\u001b[0m\n\u001b[1;32m     96\u001b[0m         \u001b[0;32mreturn\u001b[0m \u001b[0mboxes\u001b[0m\u001b[0;31m#, mark\u001b[0m\u001b[0;34m\u001b[0m\u001b[0;34m\u001b[0m\u001b[0m\n",
      "\u001b[0;32m~/opt/miniconda3/envs/plant-env/lib/python3.8/site-packages/pyrr/utils.py\u001b[0m in \u001b[0;36mwrapper\u001b[0;34m(*args, **kwargs)\u001b[0m\n\u001b[1;32m     50\u001b[0m             \u001b[0mgetfullargspec\u001b[0m \u001b[0;34m=\u001b[0m \u001b[0minspect\u001b[0m\u001b[0;34m.\u001b[0m\u001b[0mgetargspec\u001b[0m\u001b[0;34m\u001b[0m\u001b[0;34m\u001b[0m\u001b[0m\n\u001b[1;32m     51\u001b[0m \u001b[0;34m\u001b[0m\u001b[0m\n\u001b[0;32m---> 52\u001b[0;31m         \u001b[0;34m@\u001b[0m\u001b[0mwraps\u001b[0m\u001b[0;34m(\u001b[0m\u001b[0mfn\u001b[0m\u001b[0;34m)\u001b[0m\u001b[0;34m\u001b[0m\u001b[0;34m\u001b[0m\u001b[0m\n\u001b[0m\u001b[1;32m     53\u001b[0m         \u001b[0;32mdef\u001b[0m \u001b[0mwrapper\u001b[0m\u001b[0;34m(\u001b[0m\u001b[0;34m*\u001b[0m\u001b[0margs\u001b[0m\u001b[0;34m,\u001b[0m \u001b[0;34m**\u001b[0m\u001b[0mkwargs\u001b[0m\u001b[0;34m)\u001b[0m\u001b[0;34m:\u001b[0m\u001b[0;34m\u001b[0m\u001b[0;34m\u001b[0m\u001b[0m\n\u001b[1;32m     54\u001b[0m             \u001b[0;31m# get the arguements of the function we're decorating\u001b[0m\u001b[0;34m\u001b[0m\u001b[0;34m\u001b[0m\u001b[0;34m\u001b[0m\u001b[0m\n",
      "\u001b[0;31mKeyboardInterrupt\u001b[0m: "
     ]
    }
   ],
   "source": [
    "for DS in [0.005, 0.01, 0.05, 0.1, 0.2]:\n",
    "\n",
    "    get_rays(downsample=DS, voxel_size=0.1)"
   ]
  },
  {
   "cell_type": "code",
   "execution_count": 59,
   "metadata": {},
   "outputs": [
    {
     "name": "stdout",
     "output_type": "stream",
     "text": [
      "downsample: 0.005\n",
      "voxel_size: 0.1\n",
      "max --> [114, 100, 10]\n",
      "min --> [0, 0, 0]\n",
      "foliage voxel dimensions: \t (115, 101, 11)\n",
      "ray tracker voxel dimensions: \t (115, 101, 11)\n",
      "Number of voxels ocupied by points cloud: \t 4461\n",
      "Number of voxels ocupied by beam points cloud: \t 79405\n",
      "Total number of voxels in plant regions: \t 127765\n",
      "Number of voxels with attribute 1: \t 4461\n",
      "Number of voxels with attribute 2: \t 79405\n",
      "Number of voxels with attribute 3: \t 43899\n",
      "downsample: 0.01\n",
      "voxel_size: 0.1\n",
      "max --> [114, 101, 11]\n",
      "min --> [0, 0, 0]\n",
      "foliage voxel dimensions: \t (115, 102, 12)\n",
      "ray tracker voxel dimensions: \t (115, 102, 12)\n",
      "Number of voxels ocupied by points cloud: \t 7700\n",
      "Number of voxels ocupied by beam points cloud: \t 96577\n",
      "Total number of voxels in plant regions: \t 140760\n",
      "Number of voxels with attribute 1: \t 7700\n",
      "Number of voxels with attribute 2: \t 96577\n",
      "Number of voxels with attribute 3: \t 36483\n",
      "downsample: 0.05\n",
      "voxel_size: 0.1\n",
      "max --> [114, 101, 12]\n",
      "min --> [0, 0, 0]\n",
      "foliage voxel dimensions: \t (115, 102, 13)\n",
      "ray tracker voxel dimensions: \t (115, 102, 13)\n",
      "Number of voxels ocupied by points cloud: \t 18797\n",
      "Number of voxels ocupied by beam points cloud: \t 110159\n",
      "Total number of voxels in plant regions: \t 152490\n",
      "Number of voxels with attribute 1: \t 18797\n",
      "Number of voxels with attribute 2: \t 110159\n",
      "Number of voxels with attribute 3: \t 23534\n",
      "downsample: 0.1\n",
      "voxel_size: 0.1\n",
      "max --> [114, 102, 12]\n",
      "min --> [0, 0, 0]\n",
      "foliage voxel dimensions: \t (115, 103, 13)\n",
      "ray tracker voxel dimensions: \t (115, 103, 13)\n",
      "Number of voxels ocupied by points cloud: \t 22865\n",
      "Number of voxels ocupied by beam points cloud: \t 112469\n",
      "Total number of voxels in plant regions: \t 153985\n",
      "Number of voxels with attribute 1: \t 22865\n",
      "Number of voxels with attribute 2: \t 112469\n",
      "Number of voxels with attribute 3: \t 18651\n",
      "downsample: 0.2\n",
      "voxel_size: 0.1\n",
      "max --> [114, 101, 12]\n",
      "min --> [0, 0, 0]\n",
      "foliage voxel dimensions: \t (115, 102, 13)\n",
      "ray tracker voxel dimensions: \t (115, 102, 13)\n",
      "Number of voxels ocupied by points cloud: \t 26371\n",
      "Number of voxels ocupied by beam points cloud: \t 111331\n",
      "Total number of voxels in plant regions: \t 152490\n",
      "Number of voxels with attribute 1: \t 26371\n",
      "Number of voxels with attribute 2: \t 111331\n",
      "Number of voxels with attribute 3: \t 14788\n"
     ]
    },
    {
     "data": {
      "text/plain": [
       "Text(0, 0.5, '$n_{I}/(n_{I}+n_{P})$')"
      ]
     },
     "execution_count": 59,
     "metadata": {},
     "output_type": "execute_result"
    }
   ],
   "source": [
    "results = []\n",
    "\n",
    "for downsample in [0.005, 0.01, 0.05, 0.1, 0.2]:\n",
    "    for voxel_size in [0.1]:\n",
    "\n",
    "        if downsample is not None:\n",
    "            resdir = os.path.join(_data, name, 'lad_%s' %(str(downsample)))\n",
    "            inds_file = os.path.join(resdir, 'inds.npy')\n",
    "            inds = np.load(inds_file)\n",
    "            print('downsample:', downsample)\n",
    "        else:\n",
    "            inds = np.ones(len(df), dtype=bool)\n",
    "            resdir = os.path.join(_data, name, 'lad')\n",
    "\n",
    "        isfigures = os.path.join(resdir, 'figures')\n",
    "        if not os.path.exists(isfigures):\n",
    "            os.makedirs(isfigures)\n",
    "\n",
    "        print('voxel_size:', voxel_size)\n",
    "\n",
    "        for key, val in trees.items():\n",
    "\n",
    "            inPR = (val) & (leaves) & (inds)\n",
    "            pointsPR = POINTS[inPR]\n",
    "            sensorsPR = SENSORS[inPR]\n",
    "\n",
    "            m3att = lad.compute_attributes(pointsPR, resdir, voxel_size, key)\n",
    "\n",
    "            results.append([downsample, voxel_size, (m3att == 1).sum(), (m3att == 2).sum(), (m3att == 3).sum()])\n",
    "\n",
    "results = np.array(results)\n",
    "\n",
    "total = np.array(np.sum(results[:,2:5], axis=1))\n",
    "nI0 = results[:,2] / total\n",
    "nP0 = results[:,3] / total\n",
    "n00 = results[:,4] / total\n",
    "\n",
    "nI = results[:,2]\n",
    "nP = results[:,3]\n",
    "n0 = results[:,4]\n",
    "\n",
    "\n",
    "fig, (a0, a1) = plt.subplots(2, 1, gridspec_kw={'height_ratios': [2, 1]}, figsize=(10,22))\n",
    "colors = plt.cm.jet(np.linspace(0,1,5))\n",
    "\n",
    "for num, voxel_size in enumerate([0.1]):\n",
    "\n",
    "    keep = (results[:,1] == voxel_size)\n",
    "    downsample = results[:,0][keep]\n",
    "    a0.plot(downsample*100, nP0[keep], marker='*', color=colors[num], label='%s' %(voxel_size))\n",
    "    a0.plot(downsample*100, nI0[keep], marker='*', ls='--', color=colors[num])\n",
    "    a0.plot(downsample*100, n00[keep], marker='*', ls=':', color=colors[num])\n",
    "    \n",
    "    a1.plot(downsample*100, nI[keep]/(nI[keep]+nP[keep]), marker='*', ls='-', color=colors[num])\n",
    "\n",
    "text = '$n_{P}(k)$: Solid \\n $n_{I}(k)$: Dashed \\n $n_{0}(k)$: Dotted'\n",
    "props = dict(boxstyle='round', facecolor='green', alpha=0.3)\n",
    "a0.text(20, 0.5, text, fontsize=14, bbox=props)\n",
    "a0.legend(title='Voxel Size')\n",
    "a0.set_ylabel(r'$N$', size=20)\n",
    "\n",
    "# a1.axhline(0.035, ls='--', c='k', lw=2)\n",
    "a1.set_xlabel(r'Downsample (%)', size=20)\n",
    "a1.set_ylabel(r'$n_{I}/(n_{I}+n_{P})$', size=20)\n",
    "    \n"
   ]
  },
  {
   "cell_type": "markdown",
   "metadata": {},
   "source": [
    "# Point Cloud Resolution (PCR)"
   ]
  },
  {
   "cell_type": "code",
   "execution_count": 25,
   "metadata": {},
   "outputs": [],
   "source": [
    "nbrs = NearestNeighbors(n_neighbors=2, algorithm='ball_tree').fit(POINTS[PCsample])\n",
    "distances, indices = nbrs.kneighbors(POINTS[PCsample])"
   ]
  },
  {
   "cell_type": "code",
   "execution_count": 26,
   "metadata": {},
   "outputs": [
    {
     "name": "stdout",
     "output_type": "stream",
     "text": [
      "0.0 0.07123559494865138\n"
     ]
    }
   ],
   "source": [
    "dist = distances[:, 1]\n",
    "dmin, dmax = np.percentile(dist, (0, 99.7))\n",
    "keep = (dist >= dmin) & (dist <= dmax)\n",
    "dist = dist[keep]\n",
    "mean = np.round(np.mean(dist), 3)\n",
    "median = np.round(np.median(dist), 3)\n",
    "print(dmin, dmax)\n",
    "\n",
    "plt.figure(figsize=(10, 6))\n",
    "\n",
    "bins = np.linspace(dmin, dmax, 80)\n",
    "plt.hist(dist, bins, density=True)\n",
    "plt.axvline(mean, ls='--', c='k', label='Mean = %.3f' %(mean))\n",
    "plt.axvline(median, ls='--', c='g', label='Median = %.3f' %(median))\n",
    "plt.xlabel('Distance (m)', size=15)\n",
    "\n",
    "plt.legend()\n",
    "plt.show()"
   ]
  },
  {
   "cell_type": "markdown",
   "metadata": {},
   "source": [
    "# Finding the correct voxel size"
   ]
  },
  {
   "cell_type": "code",
   "execution_count": 27,
   "metadata": {},
   "outputs": [],
   "source": [
    "def isinds(resdir, downsample):\n",
    "\n",
    "    outdir = os.path.join(resdir, 'inds.npy')\n",
    "    if os.path.exists(outdir):\n",
    "        print('inds file already exists for donwnsample of %.3f at %s' %(downsample, outdir))\n",
    "\n",
    "        inds = np.load(outdir)\n",
    "\n",
    "        points = POINTS[inds]\n",
    "        sensors = SENSORS[inds]\n",
    "\n",
    "    else:\n",
    "\n",
    "        print('inds not been created yet for donwnsample of %.3f' %(downsample))\n",
    "        idx = np.random.randint(0, len(df), int(len(df) * downsample))\n",
    "        inds = np.zeros(len(df), dtype=bool)\n",
    "        inds[idx] = True\n",
    "\n",
    "        points = POINTS[inds]\n",
    "        sensors = SENSORS[inds]\n",
    "\n",
    "        np.save(outdir, inds)\n",
    "\n",
    "    return inds\n",
    "\n",
    "def restmp(downsample, voxel_size, show=True):\n",
    "\n",
    "    resdir = os.path.join(_data, name, 'lad_%s' %(str(downsample)))\n",
    "    if not os.path.exists(resdir):\n",
    "        os.makedirs(resdir)\n",
    "    inds = isinds(resdir, downsample)\n",
    "\n",
    "    for key, val in trees.items():\n",
    "\n",
    "        inPR = (val) & (leaves) & (inds)\n",
    "        pointsPR = POINTS[inPR]\n",
    "        sensorsPR = SENSORS[inPR]\n",
    "\n",
    "        density_overall, density, counts, m3scount = lad.density_counts(pointsPR, voxel_size)\n",
    "        \n",
    "        # dens_ratio = density / density_overall\n",
    "        # print('Mean density ration: %.2f' %(np.mean(dens_ratio)))\n",
    "        # print('Median density ration: %.2f' %(np.median(dens_ratio)))\n",
    "\n",
    "        if show:\n",
    "\n",
    "            fig = plt.figure(figsize=(10,6))\n",
    "            plt.hist(counts, 25, align='left')\n",
    "            plt.axvline(np.mean(counts), color='k', label='Mean counts = %.2f' %(np.mean(counts)))\n",
    "            plt.xlabel(r'$n_{i}$', size=20)\n",
    "            plt.legend()\n",
    "            plt.show()\n",
    "\n",
    "    return np.mean(counts)\n",
    "\n",
    "\n",
    "def ds2vs_first(DS, PCR):\n",
    "\n",
    "    N = np.cbrt(1/DS)\n",
    "    VS = N * PCR\n",
    "    \n",
    "    return VS\n",
    "\n",
    "def ds2vs(downsample, points, mean_counts=0, step=0.01, bounds=(1.25, 1.3)):\n",
    "\n",
    "    # nbrs = NearestNeighbors(n_neighbors=2, algorithm='ball_tree').fit(points)\n",
    "    # distances, indices = nbrs.kneighbors(points)\n",
    "\n",
    "    minb, maxb = bounds\n",
    "\n",
    "    # dist = distances[:, 1]\n",
    "    # dmin, dmax = np.percentile(dist, (0, 99.7))\n",
    "    # keep = (dist >= dmin) & (dist <= dmax)\n",
    "    # dist = dist[keep]\n",
    "    # PCR = np.round(np.mean(dist), 4)\n",
    "    # print('PCR first guess: %.3f' %(PCR))\n",
    "    PCR = 0.01\n",
    "\n",
    "    # first guess for voxel size\n",
    "    voxel_size = ds2vs_first(downsample, PCR)\n",
    "\n",
    "    resdir = os.path.join(_data, name, 'lad_%s' %(str(downsample)))\n",
    "    if not os.path.exists(resdir):\n",
    "        os.makedirs(resdir)\n",
    "    inds = isinds(resdir, downsample)\n",
    "\n",
    "    for key, val in trees.items():\n",
    "\n",
    "        inPR = (val) & (leaves) & (inds)\n",
    "        pointsPR = POINTS[inPR]\n",
    "\n",
    "        j = 0\n",
    "\n",
    "        while (mean_counts < minb) or (mean_counts > maxb):\n",
    "\n",
    "            # mean_counts = restmp(downsample, voxel_size, show=False)\n",
    "            density_overall, density, counts, m3scount = lad.density_counts(pointsPR, voxel_size)\n",
    "            mean_counts = np.mean(counts)\n",
    "            \n",
    "            print(mean_counts, voxel_size, step)\n",
    "\n",
    "            if mean_counts < minb:\n",
    "                voxel_size += step\n",
    "\n",
    "            elif mean_counts > maxb:\n",
    "                voxel_size -= step\n",
    "\n",
    "            if np.abs(mean_counts - (maxb + minb)/2) < 0.1:\n",
    "                step /= 2\n",
    "\n",
    "    return voxel_size\n"
   ]
  },
  {
   "cell_type": "code",
   "execution_count": 28,
   "metadata": {},
   "outputs": [
    {
     "name": "stdout",
     "output_type": "stream",
     "text": [
      "inds file already exists for donwnsample of 0.010 at /Users/omar/projects/planttech/data/kiwifruit/lad_0.01/inds.npy\n",
      "max --> [245, 218, 24]\n",
      "min --> [0, 0, 0]\n",
      "1.0465328467153285 0.046415888336127795 0.02\n",
      "max --> [171, 152, 17]\n",
      "min --> [0, 0, 0]\n",
      "1.1201171875 0.0664158883361278 0.02\n",
      "max --> [131, 117, 13]\n",
      "min --> [0, 0, 0]\n",
      "1.2318615751789976 0.0864158883361278 0.02\n",
      "max --> [107, 95, 10]\n",
      "min --> [0, 0, 0]\n",
      "1.401248812270938 0.1064158883361278 0.02\n",
      "inds file already exists for donwnsample of 0.100 at /Users/omar/projects/planttech/data/kiwifruit/lad_0.1/inds.npy\n",
      "max --> [529, 471, 56]\n",
      "min --> [0, 0, 0]\n",
      "1.0513469686666317 0.02154434690031884 0.02\n",
      "max --> [274, 244, 29]\n",
      "min --> [0, 0, 0]\n",
      "1.3282885693137358 0.04154434690031884 0.02\n",
      "max --> [185, 165, 19]\n",
      "min --> [0, 0, 0]\n",
      "1.9569823372475705 0.06154434690031885 0.01\n",
      "max --> [221, 197, 23]\n",
      "min --> [0, 0, 0]\n",
      "1.5931292506222356 0.051544346900318845 0.01\n",
      "max --> [274, 244, 29]\n",
      "min --> [0, 0, 0]\n",
      "1.3282885693137358 0.04154434690031884 0.01\n",
      "max --> [221, 197, 23]\n",
      "min --> [0, 0, 0]\n",
      "1.5931292506222356 0.051544346900318845 0.005\n",
      "max --> [245, 218, 26]\n",
      "min --> [0, 0, 0]\n",
      "1.4511414997617362 0.04654434690031885 0.005\n",
      "max --> [274, 244, 29]\n",
      "min --> [0, 0, 0]\n",
      "1.3282885693137358 0.04154434690031885 0.0025\n",
      "max --> [259, 231, 27]\n",
      "min --> [0, 0, 0]\n",
      "1.386626743752846 0.04404434690031885 0.00125\n",
      "max --> [251, 224, 26]\n",
      "min --> [0, 0, 0]\n",
      "1.4158131278265402 0.04529434690031885 0.000625\n"
     ]
    }
   ],
   "source": [
    "inPR = (trees['tree_0']) & (leaves)\n",
    "voxels = {}\n",
    "\n",
    "for DS in [0.01, 0.1]:\n",
    "\n",
    "    VS = ds2vs(DS, POINTS[inPR], mean_counts=0, step=0.02, bounds=(1.4, 1.45))\n",
    "    VS = np.round(VS, 3)\n",
    "    voxels[DS] = VS"
   ]
  },
  {
   "cell_type": "code",
   "execution_count": 29,
   "metadata": {},
   "outputs": [
    {
     "data": {
      "text/plain": [
       "Text(0, 0.5, 'Voxel Size')"
      ]
     },
     "execution_count": 29,
     "metadata": {},
     "output_type": "execute_result"
    }
   ],
   "source": [
    "\n",
    "plt.figure(figsize=(8,5))\n",
    "plt.plot(100*np.array(list(voxels.keys())), np.array(list(voxels.values())), marker='o')\n",
    "plt.xlabel('Downsampling (%)', size=18)\n",
    "plt.ylabel('Voxel Size', size=18)"
   ]
  },
  {
   "cell_type": "code",
   "execution_count": 30,
   "metadata": {},
   "outputs": [
    {
     "name": "stdout",
     "output_type": "stream",
     "text": [
      "0.01 0.106\n",
      "downsample: 0.01\n",
      "voxel_size: 0.106\n",
      "max --> [107, 95, 10]\n",
      "min --> [0, 0, 0]\n",
      "No ray tracing for tree tree_0 and voxel size 0.106\n",
      "foliage voxel dimensions: \t (108, 96, 11)\n",
      "ray tracker voxel dimensions: \t (108, 96, 11)\n",
      "Number of voxels ocupied by points cloud: \t 7362\n",
      "Number of voxels ocupied by beam points cloud: \t 114048\n",
      "Total number of voxels in plant regions: \t 114048\n",
      "Number of voxels with attribute 1: \t 7362\n",
      "Number of voxels with attribute 2: \t 106686\n",
      "Number of voxels with attribute 3: \t 0\n",
      "1\n",
      "0.1 0.045\n",
      "downsample: 0.1\n",
      "voxel_size: 0.045\n",
      "max --> [253, 226, 27]\n",
      "min --> [0, 0, 0]\n",
      "No ray tracing for tree tree_0 and voxel size 0.045\n",
      "foliage voxel dimensions: \t (254, 227, 28)\n",
      "ray tracker voxel dimensions: \t (254, 227, 28)\n",
      "Number of voxels ocupied by points cloud: \t 71162\n",
      "Number of voxels ocupied by beam points cloud: \t 1614424\n",
      "Total number of voxels in plant regions: \t 1614424\n",
      "Number of voxels with attribute 1: \t 71162\n",
      "Number of voxels with attribute 2: \t 1543262\n",
      "Number of voxels with attribute 3: \t 0\n",
      "1\n"
     ]
    }
   ],
   "source": [
    "for DS in [0.01, 0.1]:\n",
    "\n",
    "    VS = voxels[DS]\n",
    "    print(DS, VS)\n",
    "\n",
    "    runall(downsample=DS, voxel_size=VS, kbins=1)"
   ]
  },
  {
   "cell_type": "markdown",
   "metadata": {},
   "source": [
    "# Compute LAD"
   ]
  },
  {
   "cell_type": "code",
   "execution_count": 104,
   "metadata": {},
   "outputs": [
    {
     "name": "stdout",
     "output_type": "stream",
     "text": [
      "inds file already exists for donwnsample of 0.050 at /Users/omar/projects/planttech/data/kiwifruit/lad_0.05/inds.npy\n",
      "max --> [223, 199, 23]\n",
      "min --> [0, 0, 0]\n"
     ]
    },
    {
     "data": {
      "text/plain": [
       "1.297504604748568"
      ]
     },
     "execution_count": 104,
     "metadata": {},
     "output_type": "execute_result"
    }
   ],
   "source": [
    "restmp(downsample=0.05, voxel_size=0.051, show=True)"
   ]
  },
  {
   "cell_type": "code",
   "execution_count": 94,
   "metadata": {},
   "outputs": [
    {
     "name": "stdout",
     "output_type": "stream",
     "text": [
      "0.03 0.058\n",
      "inds file already exists for donwnsample of 0.030 at /Users/omar/projects/planttech/data/kiwifruit/lad_0.03/inds.npy\n",
      "max --> [196, 175, 20]\n",
      "min --> [0, 0, 0]\n"
     ]
    },
    {
     "name": "stderr",
     "output_type": "stream",
     "text": [
      "1162636it [1:39:48, 194.14it/s] \n"
     ]
    },
    {
     "name": "stdout",
     "output_type": "stream",
     "text": [
      "tot vox: \t 728112\n",
      "voxels hitted: \t 498014\n",
      "Percentage of voxels hitted by beam: 0.68\n",
      "voxels hitted (OLD): \t 633414\n",
      "Percentage of voxels hitted by beam (OLD): 0.87\n",
      "0.05 0.051\n",
      "inds file already exists for donwnsample of 0.050 at /Users/omar/projects/planttech/data/kiwifruit/lad_0.05/inds.npy\n",
      "max --> [223, 199, 23]\n",
      "min --> [0, 0, 0]\n"
     ]
    },
    {
     "name": "stderr",
     "output_type": "stream",
     "text": [
      "1918734it [3:10:35, 167.79it/s] \n"
     ]
    },
    {
     "name": "stdout",
     "output_type": "stream",
     "text": [
      "tot vox: \t 1075200\n",
      "voxels hitted: \t 747555\n",
      "Percentage of voxels hitted by beam: 0.70\n",
      "voxels hitted (OLD): \t 956876\n",
      "Percentage of voxels hitted by beam (OLD): 0.89\n",
      "0.1 0.039\n",
      "inds file already exists for donwnsample of 0.100 at /Users/omar/projects/planttech/data/kiwifruit/lad_0.1/inds.npy\n",
      "max --> [292, 260, 31]\n",
      "min --> [0, 0, 0]\n"
     ]
    },
    {
     "name": "stderr",
     "output_type": "stream",
     "text": [
      "1873458it [3:59:46, 130.23it/s] \n"
     ]
    },
    {
     "ename": "KeyboardInterrupt",
     "evalue": "",
     "output_type": "error",
     "traceback": [
      "\u001b[0;31m---------------------------------------------------------------------------\u001b[0m",
      "\u001b[0;31mKeyboardInterrupt\u001b[0m                         Traceback (most recent call last)",
      "\u001b[0;32m/var/folders/4l/bbjl67b151l_mb_20rk6glxh0000gn/T/ipykernel_31326/3870267573.py\u001b[0m in \u001b[0;36m<module>\u001b[0;34m\u001b[0m\n\u001b[1;32m      3\u001b[0m     \u001b[0mVS\u001b[0m \u001b[0;34m=\u001b[0m \u001b[0mvoxels\u001b[0m\u001b[0;34m[\u001b[0m\u001b[0mDS\u001b[0m\u001b[0;34m]\u001b[0m\u001b[0;34m\u001b[0m\u001b[0;34m\u001b[0m\u001b[0m\n\u001b[1;32m      4\u001b[0m     \u001b[0mprint\u001b[0m\u001b[0;34m(\u001b[0m\u001b[0mDS\u001b[0m\u001b[0;34m,\u001b[0m \u001b[0mVS\u001b[0m\u001b[0;34m)\u001b[0m\u001b[0;34m\u001b[0m\u001b[0;34m\u001b[0m\u001b[0m\n\u001b[0;32m----> 5\u001b[0;31m     \u001b[0mget_rays\u001b[0m\u001b[0;34m(\u001b[0m\u001b[0mDS\u001b[0m\u001b[0;34m,\u001b[0m \u001b[0mVS\u001b[0m\u001b[0;34m)\u001b[0m\u001b[0;34m\u001b[0m\u001b[0;34m\u001b[0m\u001b[0m\n\u001b[0m",
      "\u001b[0;32m/var/folders/4l/bbjl67b151l_mb_20rk6glxh0000gn/T/ipykernel_31326/1043603012.py\u001b[0m in \u001b[0;36mget_rays\u001b[0;34m(downsample, voxel_size, sample, show)\u001b[0m\n\u001b[1;32m     47\u001b[0m         \u001b[0minPR\u001b[0m \u001b[0;34m=\u001b[0m \u001b[0;34m(\u001b[0m\u001b[0mval\u001b[0m\u001b[0;34m)\u001b[0m \u001b[0;34m&\u001b[0m \u001b[0;34m(\u001b[0m\u001b[0mleaves\u001b[0m\u001b[0;34m)\u001b[0m \u001b[0;34m&\u001b[0m \u001b[0;34m(\u001b[0m\u001b[0minds\u001b[0m\u001b[0;34m)\u001b[0m\u001b[0;34m\u001b[0m\u001b[0;34m\u001b[0m\u001b[0m\n\u001b[1;32m     48\u001b[0m         \u001b[0mpointsPR\u001b[0m \u001b[0;34m=\u001b[0m \u001b[0mPOINTS\u001b[0m\u001b[0;34m[\u001b[0m\u001b[0minPR\u001b[0m\u001b[0;34m]\u001b[0m\u001b[0;34m\u001b[0m\u001b[0;34m\u001b[0m\u001b[0m\n\u001b[0;32m---> 49\u001b[0;31m         \u001b[0mm3s\u001b[0m \u001b[0;34m=\u001b[0m \u001b[0mrayt\u001b[0m\u001b[0;34m.\u001b[0m\u001b[0mmain\u001b[0m\u001b[0;34m(\u001b[0m\u001b[0mpoints\u001b[0m\u001b[0;34m,\u001b[0m \u001b[0msensors\u001b[0m\u001b[0;34m,\u001b[0m \u001b[0mpointsPR\u001b[0m\u001b[0;34m,\u001b[0m \u001b[0mvoxel_size\u001b[0m\u001b[0;34m,\u001b[0m \u001b[0mresdir\u001b[0m\u001b[0;34m,\u001b[0m \u001b[0mkey\u001b[0m\u001b[0;34m,\u001b[0m \u001b[0mshow\u001b[0m\u001b[0;34m=\u001b[0m\u001b[0mshow\u001b[0m\u001b[0;34m)\u001b[0m\u001b[0;34m\u001b[0m\u001b[0;34m\u001b[0m\u001b[0m\n\u001b[0m",
      "\u001b[0;32m~/projects/planttech/py/ray.py\u001b[0m in \u001b[0;36mmain\u001b[0;34m(points, sensors, pointsPR, voxel_size, resdir, treename, show)\u001b[0m\n\u001b[1;32m    538\u001b[0m                 \u001b[0midx_s\u001b[0m \u001b[0;34m=\u001b[0m \u001b[0;34m[\u001b[0m\u001b[0;34m''\u001b[0m\u001b[0;34m.\u001b[0m\u001b[0mjoin\u001b[0m\u001b[0;34m(\u001b[0m\u001b[0;34m[\u001b[0m\u001b[0mstr\u001b[0m\u001b[0;34m(\u001b[0m\u001b[0mi\u001b[0m\u001b[0;34m[\u001b[0m\u001b[0;36m0\u001b[0m\u001b[0;34m]\u001b[0m\u001b[0;34m)\u001b[0m\u001b[0;34m,\u001b[0m \u001b[0mstr\u001b[0m\u001b[0;34m(\u001b[0m\u001b[0mi\u001b[0m\u001b[0;34m[\u001b[0m\u001b[0;36m1\u001b[0m\u001b[0;34m]\u001b[0m\u001b[0;34m)\u001b[0m\u001b[0;34m,\u001b[0m \u001b[0mstr\u001b[0m\u001b[0;34m(\u001b[0m\u001b[0mi\u001b[0m\u001b[0;34m[\u001b[0m\u001b[0;36m2\u001b[0m\u001b[0;34m]\u001b[0m\u001b[0;34m)\u001b[0m\u001b[0;34m]\u001b[0m\u001b[0;34m)\u001b[0m \u001b[0;32mfor\u001b[0m \u001b[0mi\u001b[0m \u001b[0;32min\u001b[0m \u001b[0midx\u001b[0m\u001b[0;34m]\u001b[0m\u001b[0;34m\u001b[0m\u001b[0;34m\u001b[0m\u001b[0m\n\u001b[1;32m    539\u001b[0m                 \u001b[0;31m# Does voxel where ray pass trhough is in a voxel occupied by point cloud?\u001b[0m\u001b[0;34m\u001b[0m\u001b[0;34m\u001b[0m\u001b[0;34m\u001b[0m\u001b[0m\n\u001b[0;32m--> 540\u001b[0;31m                 \u001b[0minm3p\u001b[0m \u001b[0;34m=\u001b[0m \u001b[0mnp\u001b[0m\u001b[0;34m.\u001b[0m\u001b[0min1d\u001b[0m\u001b[0;34m(\u001b[0m\u001b[0midx_s\u001b[0m\u001b[0;34m,\u001b[0m \u001b[0mvoxp_idx_s\u001b[0m\u001b[0;34m)\u001b[0m\u001b[0;34m\u001b[0m\u001b[0;34m\u001b[0m\u001b[0m\n\u001b[0m\u001b[1;32m    541\u001b[0m \u001b[0;34m\u001b[0m\u001b[0m\n\u001b[1;32m    542\u001b[0m \u001b[0;34m\u001b[0m\u001b[0m\n",
      "\u001b[0;32m<__array_function__ internals>\u001b[0m in \u001b[0;36min1d\u001b[0;34m(*args, **kwargs)\u001b[0m\n",
      "\u001b[0;32m~/opt/miniconda3/envs/plant-env/lib/python3.8/site-packages/numpy/lib/arraysetops.py\u001b[0m in \u001b[0;36min1d\u001b[0;34m(ar1, ar2, assume_unique, invert)\u001b[0m\n\u001b[1;32m    587\u001b[0m     \u001b[0;32mif\u001b[0m \u001b[0;32mnot\u001b[0m \u001b[0massume_unique\u001b[0m\u001b[0;34m:\u001b[0m\u001b[0;34m\u001b[0m\u001b[0;34m\u001b[0m\u001b[0m\n\u001b[1;32m    588\u001b[0m         \u001b[0mar1\u001b[0m\u001b[0;34m,\u001b[0m \u001b[0mrev_idx\u001b[0m \u001b[0;34m=\u001b[0m \u001b[0mnp\u001b[0m\u001b[0;34m.\u001b[0m\u001b[0munique\u001b[0m\u001b[0;34m(\u001b[0m\u001b[0mar1\u001b[0m\u001b[0;34m,\u001b[0m \u001b[0mreturn_inverse\u001b[0m\u001b[0;34m=\u001b[0m\u001b[0;32mTrue\u001b[0m\u001b[0;34m)\u001b[0m\u001b[0;34m\u001b[0m\u001b[0;34m\u001b[0m\u001b[0m\n\u001b[0;32m--> 589\u001b[0;31m         \u001b[0mar2\u001b[0m \u001b[0;34m=\u001b[0m \u001b[0mnp\u001b[0m\u001b[0;34m.\u001b[0m\u001b[0munique\u001b[0m\u001b[0;34m(\u001b[0m\u001b[0mar2\u001b[0m\u001b[0;34m)\u001b[0m\u001b[0;34m\u001b[0m\u001b[0;34m\u001b[0m\u001b[0m\n\u001b[0m\u001b[1;32m    590\u001b[0m \u001b[0;34m\u001b[0m\u001b[0m\n\u001b[1;32m    591\u001b[0m     \u001b[0mar\u001b[0m \u001b[0;34m=\u001b[0m \u001b[0mnp\u001b[0m\u001b[0;34m.\u001b[0m\u001b[0mconcatenate\u001b[0m\u001b[0;34m(\u001b[0m\u001b[0;34m(\u001b[0m\u001b[0mar1\u001b[0m\u001b[0;34m,\u001b[0m \u001b[0mar2\u001b[0m\u001b[0;34m)\u001b[0m\u001b[0;34m)\u001b[0m\u001b[0;34m\u001b[0m\u001b[0;34m\u001b[0m\u001b[0m\n",
      "\u001b[0;32m<__array_function__ internals>\u001b[0m in \u001b[0;36munique\u001b[0;34m(*args, **kwargs)\u001b[0m\n",
      "\u001b[0;32m~/opt/miniconda3/envs/plant-env/lib/python3.8/site-packages/numpy/lib/arraysetops.py\u001b[0m in \u001b[0;36munique\u001b[0;34m(ar, return_index, return_inverse, return_counts, axis)\u001b[0m\n\u001b[1;32m    260\u001b[0m     \u001b[0mar\u001b[0m \u001b[0;34m=\u001b[0m \u001b[0mnp\u001b[0m\u001b[0;34m.\u001b[0m\u001b[0masanyarray\u001b[0m\u001b[0;34m(\u001b[0m\u001b[0mar\u001b[0m\u001b[0;34m)\u001b[0m\u001b[0;34m\u001b[0m\u001b[0;34m\u001b[0m\u001b[0m\n\u001b[1;32m    261\u001b[0m     \u001b[0;32mif\u001b[0m \u001b[0maxis\u001b[0m \u001b[0;32mis\u001b[0m \u001b[0;32mNone\u001b[0m\u001b[0;34m:\u001b[0m\u001b[0;34m\u001b[0m\u001b[0;34m\u001b[0m\u001b[0m\n\u001b[0;32m--> 262\u001b[0;31m         \u001b[0mret\u001b[0m \u001b[0;34m=\u001b[0m \u001b[0m_unique1d\u001b[0m\u001b[0;34m(\u001b[0m\u001b[0mar\u001b[0m\u001b[0;34m,\u001b[0m \u001b[0mreturn_index\u001b[0m\u001b[0;34m,\u001b[0m \u001b[0mreturn_inverse\u001b[0m\u001b[0;34m,\u001b[0m \u001b[0mreturn_counts\u001b[0m\u001b[0;34m)\u001b[0m\u001b[0;34m\u001b[0m\u001b[0;34m\u001b[0m\u001b[0m\n\u001b[0m\u001b[1;32m    263\u001b[0m         \u001b[0;32mreturn\u001b[0m \u001b[0m_unpack_tuple\u001b[0m\u001b[0;34m(\u001b[0m\u001b[0mret\u001b[0m\u001b[0;34m)\u001b[0m\u001b[0;34m\u001b[0m\u001b[0;34m\u001b[0m\u001b[0m\n\u001b[1;32m    264\u001b[0m \u001b[0;34m\u001b[0m\u001b[0m\n",
      "\u001b[0;32m~/opt/miniconda3/envs/plant-env/lib/python3.8/site-packages/numpy/lib/arraysetops.py\u001b[0m in \u001b[0;36m_unique1d\u001b[0;34m(ar, return_index, return_inverse, return_counts)\u001b[0m\n\u001b[1;32m    321\u001b[0m         \u001b[0maux\u001b[0m \u001b[0;34m=\u001b[0m \u001b[0mar\u001b[0m\u001b[0;34m[\u001b[0m\u001b[0mperm\u001b[0m\u001b[0;34m]\u001b[0m\u001b[0;34m\u001b[0m\u001b[0;34m\u001b[0m\u001b[0m\n\u001b[1;32m    322\u001b[0m     \u001b[0;32melse\u001b[0m\u001b[0;34m:\u001b[0m\u001b[0;34m\u001b[0m\u001b[0;34m\u001b[0m\u001b[0m\n\u001b[0;32m--> 323\u001b[0;31m         \u001b[0mar\u001b[0m\u001b[0;34m.\u001b[0m\u001b[0msort\u001b[0m\u001b[0;34m(\u001b[0m\u001b[0;34m)\u001b[0m\u001b[0;34m\u001b[0m\u001b[0;34m\u001b[0m\u001b[0m\n\u001b[0m\u001b[1;32m    324\u001b[0m         \u001b[0maux\u001b[0m \u001b[0;34m=\u001b[0m \u001b[0mar\u001b[0m\u001b[0;34m\u001b[0m\u001b[0;34m\u001b[0m\u001b[0m\n\u001b[1;32m    325\u001b[0m     \u001b[0mmask\u001b[0m \u001b[0;34m=\u001b[0m \u001b[0mnp\u001b[0m\u001b[0;34m.\u001b[0m\u001b[0mempty\u001b[0m\u001b[0;34m(\u001b[0m\u001b[0maux\u001b[0m\u001b[0;34m.\u001b[0m\u001b[0mshape\u001b[0m\u001b[0;34m,\u001b[0m \u001b[0mdtype\u001b[0m\u001b[0;34m=\u001b[0m\u001b[0mnp\u001b[0m\u001b[0;34m.\u001b[0m\u001b[0mbool_\u001b[0m\u001b[0;34m)\u001b[0m\u001b[0;34m\u001b[0m\u001b[0;34m\u001b[0m\u001b[0m\n",
      "\u001b[0;31mKeyboardInterrupt\u001b[0m: "
     ]
    }
   ],
   "source": [
    "for DS in [0.03, 0.05, 0.1]:\n",
    "\n",
    "    VS = voxels[DS]\n",
    "    print(DS, VS)\n",
    "    get_rays(DS, VS)"
   ]
  },
  {
   "cell_type": "code",
   "execution_count": 27,
   "metadata": {},
   "outputs": [
    {
     "name": "stdout",
     "output_type": "stream",
     "text": [
      "0.01 0.062\n",
      "downsample: 0.01\n",
      "voxel_size: 0.062\n",
      "max --> [183, 163, 18]\n",
      "min --> [0, 0, 0]\n",
      "No ray tracing for tree tree_0 and voxel size 0.062\n",
      "foliage voxel dimensions: \t (184, 164, 19)\n",
      "ray tracker voxel dimensions: \t (184, 164, 19)\n",
      "Number of voxels ocupied by points cloud: \t 9369\n",
      "Number of voxels ocupied by beam points cloud: \t 573344\n",
      "Total number of voxels in plant regions: \t 573344\n",
      "Number of voxels with attribute 1: \t 9369\n",
      "Number of voxels with attribute 2: \t 563975\n",
      "Number of voxels with attribute 3: \t 0\n",
      "1\n",
      "0.05 0.031\n",
      "downsample: 0.05\n",
      "voxel_size: 0.031\n",
      "max --> [367, 327, 37]\n",
      "min --> [0, 0, 0]\n",
      "No ray tracing for tree tree_0 and voxel size 0.031\n",
      "foliage voxel dimensions: \t (368, 328, 38)\n",
      "ray tracker voxel dimensions: \t (368, 328, 38)\n",
      "Number of voxels ocupied by points cloud: \t 47815\n",
      "Number of voxels ocupied by beam points cloud: \t 4586752\n",
      "Total number of voxels in plant regions: \t 4586752\n",
      "Number of voxels with attribute 1: \t 47815\n",
      "Number of voxels with attribute 2: \t 4538937\n",
      "Number of voxels with attribute 3: \t 0\n",
      "1\n"
     ]
    }
   ],
   "source": [
    "for DS in [0.01, 0.05]:\n",
    "\n",
    "    VS = voxels[DS]\n",
    "    print(DS, VS)\n",
    "\n",
    "    runall(downsample=DS, voxel_size=VS, kbins=1)"
   ]
  },
  {
   "cell_type": "markdown",
   "metadata": {},
   "source": [
    "# DTM"
   ]
  },
  {
   "cell_type": "code",
   "execution_count": 9,
   "metadata": {},
   "outputs": [],
   "source": [
    "POINTS = loads.DF2array(df[['x', 'y', 'z']])\n",
    "# SENSORS = loads.DF2array(df[['xs', 'ys', 'zs']])"
   ]
  },
  {
   "cell_type": "code",
   "execution_count": 10,
   "metadata": {},
   "outputs": [
    {
     "data": {
      "text/plain": [
       "Text(0, 0.5, '$z$')"
      ]
     },
     "execution_count": 10,
     "metadata": {},
     "output_type": "execute_result"
    }
   ],
   "source": [
    "keep = PCsample & (las.z < 0.8)\n",
    "plt.figure(figsize=(16, 8))\n",
    "plt.scatter(np.array(las.x)[keep][::1], np.array(las.z)[keep][::1], s=0.04, c='k')\n",
    "plt.axhline(0.2, lw=1, c='k')\n",
    "\n",
    "# res, bcmask = loads.remove_outliers(np.array(las.y)[keep], np.array(las.z)[keep], nbins=100, bounds=(0, 90))\n",
    "# below[keep] |= ~bcmask\n",
    "\n",
    "# plt.ylim(-1,4)\n",
    "\n",
    "plt.xlabel(r'$x$', size=20)\n",
    "plt.ylabel(r'$z$', size=20)"
   ]
  },
  {
   "cell_type": "code",
   "execution_count": 11,
   "metadata": {},
   "outputs": [
    {
     "name": "stdout",
     "output_type": "stream",
     "text": [
      "0 100.0\n",
      "\u001b[1;33m[Open3D WARNING] GLFW Error: Cocoa: Failed to find service port for display\u001b[0;m\n"
     ]
    }
   ],
   "source": [
    "keep = PCsample & (las.z < 0)\n",
    "Ntot = keep.sum()\n",
    "\n",
    "db = DBSCAN(eps=0.3).fit(points[keep])\n",
    "# db = KMeans(n_clusters = 8, init='k-means++').fit(points[keep])\n",
    "\n",
    "labels = {}\n",
    "\n",
    "for i in set(db.labels_):\n",
    "    mask = db.labels_ == i\n",
    "    perc = 100*mask.sum()/Ntot\n",
    "    if perc > 0:\n",
    "        print(i, perc)\n",
    "        labels[i] = mask\n",
    "\n",
    "N = len(list(labels.keys()))\n",
    "\n",
    "# plot the two point clouds\n",
    "coltmp = plt.cm.jet(np.linspace(0,1,N))[:,0:3]\n",
    "\n",
    "pointslist = [points[keep][val] for val in labels.values()]\n",
    "colours = [list(i) for i in coltmp]\n",
    "loads.showPCDS(pointslist, colours)"
   ]
  },
  {
   "cell_type": "code",
   "execution_count": 12,
   "metadata": {},
   "outputs": [
    {
     "name": "stdout",
     "output_type": "stream",
     "text": [
      "alpha=0.800\n",
      "\u001b[1;33m[Open3D WARNING] GLFW Error: Cocoa: Failed to find service port for display\u001b[0;m\n"
     ]
    }
   ],
   "source": [
    "alpha = 0.8\n",
    "keep = PCsample & (las.z < 0)\n",
    "pcd = loads.points2pcd(POINTS[keep], colors=[1,0,0])\n",
    "downpcd = pcd.voxel_down_sample(voxel_size=0.05)\n",
    "print(f\"alpha={alpha:.3f}\")\n",
    "mesh = o3d.geometry.TriangleMesh.create_from_point_cloud_alpha_shape(downpcd, alpha)\n",
    "mesh.compute_vertex_normals()\n",
    "# pcd = loads.points2pcd(POINTS[keep], colors=[1,0,0])\n",
    "# downpcd = pcd.voxel_down_sample(voxel_size=0.05)\n",
    "o3d.visualization.draw_geometries([downpcd, mesh.paint_uniform_color([0.5, 0.3, 0.1])], mesh_show_back_face=True)"
   ]
  },
  {
   "cell_type": "code",
   "execution_count": 15,
   "metadata": {},
   "outputs": [
    {
     "name": "stdout",
     "output_type": "stream",
     "text": [
      "filter with average with 1 iteration\n",
      "TriangleMesh with 3802 points and 7602 triangles.\n",
      "\u001b[1;33m[Open3D WARNING] Write OBJ can not include triangle normals.\u001b[0;m\n",
      "\u001b[1;33m[Open3D WARNING] GLFW Error: Cocoa: Failed to find service port for display\u001b[0;m\n"
     ]
    }
   ],
   "source": [
    "print('filter with average with 1 iteration')\n",
    "mesh_out = mesh.filter_smooth_simple(number_of_iterations=2)\n",
    "mesh_out.compute_vertex_normals()\n",
    "print(mesh)\n",
    "vertices = np.asarray(mesh_out.vertices)\n",
    "pcd = loads.points2pcd(vertices, colors=[1,0,0])\n",
    "mesh_name = os.path.join(_data, name, 'dtm_mesh.obj')\n",
    "o3d.io.write_triangle_mesh(mesh_name, mesh_out)\n",
    "o3d.visualization.draw_geometries([pcd, mesh_out], mesh_show_back_face=True)"
   ]
  },
  {
   "cell_type": "code",
   "execution_count": 42,
   "metadata": {},
   "outputs": [],
   "source": [
    "np.savetxt(os.path.join(_data,'DTM_vertices.csv'), vertices, fmt=\"%.8f\", delimiter=\",\")"
   ]
  },
  {
   "cell_type": "markdown",
   "metadata": {},
   "source": [
    "# To-Do\n",
    "\n",
    "1) Fix algorithm to find `voxel size` from `downsampling`. It currently seems to work for the toy kiwifruit tree it isn't for the real data. Try:\n",
    "   * Check that the algorithm realy work by computing several `LAD`s for different `downsampling` values using the toy model.\n",
    "   * Remove outliers of foliage point cloud `FPC` as these might be adding noise to the mean of points per voxel. Try cliping or with a built-in `Open3D` function.\n",
    "2) Improve `ray tracing` algorithm:\n",
    "   * find a way to reduce the main sample i.e. `POINTS` and `SENSORS` to keep only the rays that pass trhough the plant region `PR`. It might be not that easy as many other process are involved.\n",
    "3) Once `LAD` algorithm works. Usea the leaf inclination angles (`LIA`) and the leaf area index (`LAI`) as input parameters to built a realistic model of the kiwifruit trees. One way to do this is using `Blensor` software. Here, we can create a Python script to create the kiwifruit trees with the option of change some of the tree features such as the leaf sizes and leaf angles. Then, in a recursive algorithm, modify these values until we get the same `LIA` and `LAI` distributions from the real LiDAR."
   ]
  },
  {
   "cell_type": "markdown",
   "metadata": {},
   "source": [
    "# Dev Zone"
   ]
  },
  {
   "cell_type": "code",
   "execution_count": 49,
   "metadata": {},
   "outputs": [
    {
     "name": "stdout",
     "output_type": "stream",
     "text": [
      "0.005 196707\n",
      "0.01 393414\n",
      "0.05 1967071\n",
      "0.1 3934142\n",
      "0.2 7868284\n",
      "0.4 15736568\n"
     ]
    }
   ],
   "source": [
    "tot = len(df)\n",
    "\n",
    "for DS in [0.005, 0.01, 0.05, 0.1, 0.2, 0.4]:\n",
    "\n",
    "    idx = np.random.randint(0, len(df), int(len(df) * DS))\n",
    "\n",
    "    print(DS, len(idx))\n"
   ]
  },
  {
   "cell_type": "code",
   "execution_count": null,
   "metadata": {},
   "outputs": [],
   "source": []
  }
 ],
 "metadata": {
  "interpreter": {
   "hash": "760a6cd4159ac8b99590d0ad7ba9faed7c379184a996bf44e62e475912739812"
  },
  "kernelspec": {
   "display_name": "Python 3.8.11 64-bit ('plant-env': conda)",
   "name": "python3"
  },
  "language_info": {
   "codemirror_mode": {
    "name": "ipython",
    "version": 3
   },
   "file_extension": ".py",
   "mimetype": "text/x-python",
   "name": "python",
   "nbconvert_exporter": "python",
   "pygments_lexer": "ipython3",
   "version": "3.8.11"
  },
  "orig_nbformat": 4
 },
 "nbformat": 4,
 "nbformat_minor": 2
}
