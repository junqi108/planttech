{
 "cells": [
  {
   "cell_type": "code",
   "execution_count": 1,
   "metadata": {
    "cell_style": "center",
    "slideshow": {
     "slide_type": "skip"
    }
   },
   "outputs": [],
   "source": [
    "import numpy as np\n",
    "import os, sys\n",
    "import matplotlib.pyplot as plt\n",
    "\n",
    "# basedir = os.path.dirname(os.getcwd())\n",
    "basedir = os.path.abspath(os.path.join(os.getcwd() ,\"../\"))\n",
    "_py = os.path.join(basedir, 'py')\n",
    "_data = os.path.join(basedir, 'data')\n",
    "\n",
    "sys.path.insert(1, _py)\n",
    "import loads\n",
    "import lia\n",
    "import ray as rayt\n",
    "import lad\n",
    "import figures\n",
    "\n",
    "import warnings\n",
    "warnings.filterwarnings(\"ignore\")\n",
    "\n",
    "%load_ext autoreload\n",
    "%autoreload 2\n",
    "\n",
    "%matplotlib qt\n"
   ]
  },
  {
   "cell_type": "markdown",
   "metadata": {
    "cell_style": "center",
    "slideshow": {
     "slide_type": "subslide"
    }
   },
   "source": [
    "# Data structure\n",
    "\n",
    "```\n",
    "root\n",
    "│   requirements.yml\n",
    "│   readme.md  \n",
    "│\n",
    "└───data\n",
    "│   └───test\n",
    "│       │   s0100000.numpy\n",
    "│       │   s0200000.numpy\n",
    "│       │   ...\n",
    "│       │   mesh.ply\n",
    "│       │   scanner_pos.txt\n",
    "│   \n",
    "└───py\n",
    "    │   loads.py\n",
    "    │   lia.py\n",
    "    │   lad.py\n",
    "    │   ray.py\n",
    "    │   figures.py\n",
    "\n",
    "```\n",
    "\n",
    "## Blensor output transformation\n",
    "\n",
    "Most of the functions used in this chapter need:\n",
    "\n",
    "``` Python\n",
    "import loads\n",
    "```\n",
    "\n",
    "In order to get the `LIA` and hence the `LAD`, we need to segmentated the trees and the leaves.\n",
    "\n",
    "First, we define the name of the directory where the Blensor output data is, in this particular case we will look for directory `test`. Pipeline will look for this directory inside the `data` directory."
   ]
  },
  {
   "cell_type": "code",
   "execution_count": 2,
   "metadata": {
    "slideshow": {
     "slide_type": "fragment"
    }
   },
   "outputs": [],
   "source": [
    "mockname = 'test'"
   ]
  },
  {
   "cell_type": "markdown",
   "metadata": {
    "slideshow": {
     "slide_type": "subslide"
    }
   },
   "source": [
    "Next, we convert Blensor output `txt` files that have fake `numpy` extension to real `npy`. This is done trhough function `loads.numpy2npy()` as shown below,"
   ]
  },
  {
   "cell_type": "code",
   "execution_count": 3,
   "metadata": {},
   "outputs": [
    {
     "name": "stdout",
     "output_type": "stream",
     "text": [
      "s0500000.numpy done --> Number of beams: 22500\n",
      "s0200000.numpy done --> Number of beams: 22500\n",
      "s0700000.numpy done --> Number of beams: 22500\n",
      "s0400000.numpy done --> Number of beams: 22500\n",
      "s0100000.numpy done --> Number of beams: 22500\n",
      "s0600000.numpy done --> Number of beams: 22500\n",
      "s0300000.numpy done --> Number of beams: 22500\n"
     ]
    }
   ],
   "source": [
    "loads.numpy2npy(mockname)"
   ]
  },
  {
   "cell_type": "markdown",
   "metadata": {},
   "source": [
    "```{note}\n",
    "Transforming to `npy` reduce the size of files, besides is much faster to load than the Blensor `txt` output files.\n",
    "```\n",
    "\n",
    "The structure looks like,\n",
    "\n",
    "```\n",
    "root\n",
    "|\n",
    "└───data\n",
    "    └───test\n",
    "        │   s0100000.numpy\n",
    "        │   s0200000.numpy\n",
    "        │   ...\n",
    "        │   mesh.ply\n",
    "        │   scanner_pos.txt\n",
    "        │   s0100000.npy\n",
    "        │   s0200000.npy\n",
    "        │   ...\n",
    "```"
   ]
  },
  {
   "cell_type": "markdown",
   "metadata": {},
   "source": [
    "## Tree and leaves segmentation\n",
    "\n",
    "Now we create the module to segmentate trees. This will be tuned acordingly for each data set, so below module only works for this particular data set."
   ]
  },
  {
   "cell_type": "code",
   "execution_count": 3,
   "metadata": {},
   "outputs": [],
   "source": [
    "def segtree(df, leaves, show=False):\n",
    "\n",
    "    trees = {}\n",
    "\n",
    "    if show:\n",
    "        plt.figure(figsize=(14, 8))\n",
    "\n",
    "    # centres\n",
    "    x, y = [0], [0]\n",
    "    num = 0\n",
    "    dx, dy = 5, 5\n",
    "\n",
    "    for i in x:\n",
    "        for j in y:\n",
    "            \n",
    "            keep = np.ones(len(df['x']), dtype=bool)\n",
    "            keep &= (df['x'] < i+dx) & (df['x'] > i-dx)\n",
    "            keep &= (df['y'] < j+dy) & (df['y'] > j-dy)\n",
    "\n",
    "            trees['tree_%s' %(str(num))] = keep\n",
    "            \n",
    "            if show:\n",
    "                plt.scatter(df['x'][leaves & keep], df['y'][leaves & keep], s=0.5, label=num)\n",
    "                        \n",
    "            num += 1\n",
    "\n",
    "    if show:\n",
    "        plt.legend()\n",
    "    \n",
    "    return trees\n"
   ]
  },
  {
   "cell_type": "markdown",
   "metadata": {},
   "source": [
    "We segmentate the trees below,"
   ]
  },
  {
   "cell_type": "code",
   "execution_count": 4,
   "metadata": {},
   "outputs": [],
   "source": [
    "# load data into a pandas data frame\n",
    "df = loads.npy2pandas(mockname)\n",
    "# extract leaves. Boolean array output\n",
    "leaves = loads.extract_leaves(df, show=False)\n",
    "# extract trees. Dictionary with boolean arrays output\n",
    "trees = segtree(df, leaves)"
   ]
  },
  {
   "cell_type": "markdown",
   "metadata": {},
   "source": [
    "That's it! So what we just did? First, with function `loads.npy2pandas()` we load all the `npy` files into a pandas DataFrame (`DF`) and we add three more columns with the $x$, $y$, and $z$ positions of the sensors that are stored in file `scanner_pos.txt`. Then, since this is a mockup dataset, we can easily separate the leaves from everythin else in the point cloud (`PC`). We do this with function `loads.extract_leaves()` that requires the pandas `DF` as input. Finally, we invoke the above module to segmentate trees that requires the pandas `DF` as well.\n",
    "\n",
    "outputs from this are:\n",
    "\n",
    "- `df`: Pandas DF with the entire PC\n",
    "- `leaves`: numpy boolean array of PC dimensions with True for Points concerning leaves only\n",
    "- `trees`: python dictionary where each entry contains one tree in the form of boolena array with PC dimensions\n",
    "\n",
    "Below piece of code shows an example of how to visualize the leaves points from one tree only, this will be know as the `Leaves Point Cloud` (LPC) and is shown in Fig. {numref}`lpc`."
   ]
  },
  {
   "cell_type": "markdown",
   "metadata": {},
   "source": [
    "Below piece of code shows an example of how to visualize the leaves points from one tree only."
   ]
  },
  {
   "cell_type": "code",
   "execution_count": 6,
   "metadata": {},
   "outputs": [
    {
     "name": "stdout",
     "output_type": "stream",
     "text": [
      "\u001b[1;33m[Open3D WARNING] GLFW Error: Cocoa: Failed to find service port for display\u001b[0;m\n",
      "\u001b[1;33m[Open3D WARNING] GLFW Error: Cocoa: Failed to find service port for display\u001b[0;m\n"
     ]
    }
   ],
   "source": [
    "# show the point cloud from leaves of firs tree only\n",
    "keep = (trees['tree_0']) & (leaves)\n",
    "loads.showPCfromDF(df[keep])"
   ]
  },
  {
   "cell_type": "markdown",
   "metadata": {},
   "source": [
    "In the subsequent chapters we will be comparing our estimations with the *True* values using the `mesh.ply` file located in the root directory `test`. The following piece of code shows how we can visualize this mesh that requires importing the library `lad`. Fig. {numref}`mesh` show this mesh."
   ]
  },
  {
   "cell_type": "code",
   "execution_count": 7,
   "metadata": {},
   "outputs": [
    {
     "name": "stdout",
     "output_type": "stream",
     "text": [
      "\u001b[1;33m[Open3D WARNING] GLFW Error: Cocoa: Failed to find service port for display\u001b[0;m\n",
      "\u001b[1;33m[Open3D WARNING] GLFW Error: Cocoa: Failed to find service port for display\u001b[0;m\n"
     ]
    }
   ],
   "source": [
    "import lad\n",
    "meshfile = lad.get_meshfile(mockname)\n",
    "lad.see_mesh(meshfile)"
   ]
  },
  {
   "cell_type": "markdown",
   "metadata": {},
   "source": [
    "# `Leaf Inclination Angle` (LIA) estimation\n",
    "\n",
    "## Intro\n",
    "\n",
    "Most functions used in this chapter are in library:\n",
    "\n",
    "``` Python\n",
    "import lia\n",
    "```\n",
    "\n",
    "Outputs will be placed inside directory `lia`,\n",
    "\n",
    "```\n",
    "root\n",
    "└───data\n",
    "    └───test\n",
    "        │   s0100000.numpy\n",
    "        │   s0200000.numpy\n",
    "        │   ...\n",
    "        │   mesh.ply\n",
    "        │   scanner_pos.txt\n",
    "        │   s0100000.npy\n",
    "        │   s0200000.npy\n",
    "        │   ...\n",
    "        └───lia\n",
    "            │   angles_<treename>.npy\n",
    "            │   weights_<treename>.npy\n",
    "            │   leaf_angle_dist_<treename>.png\n",
    "            │   leaf_angle_dist_height_<treename>.png\n",
    "            │   bestfits_pars_treename>.png\n",
    "\n",
    "```\n",
    "\n",
    "## The method (`lia.leaf_angle()`)\n",
    "\n",
    "The main function that computes the LIA is `lia.leaf_angle()` which uses a KDtree approximation. The steps are as follow: \n",
    "\n",
    "1. `Compute normals`: This method fits a plane based on the nearesth neighbors for each point and gets the normal of this plane.\n",
    "    \n",
    "2. `Compute zenith angles`: Then, using the dot product with get the angle with respect to the zenith (i.e. agains vector (0, 0, 1)) \n",
    "    \n",
    "3. `Range correction`: The results angles run from $0 < \\theta < 180$, however we require these to be in the range $0 < \\theta < 90$ therefore we transfom those angles $> 90$ with relation:\n",
    "\n",
    "```{math}\n",
    ":label: angcorr\n",
    "\\theta_{L} = 180 - \\theta\n",
    "```\n",
    "\n",
    "4. `Weights correction`: The resulting LIA is biased to PC density and completeness. In order to reduce this biases, we compute weights via voxelization,\n",
    "\n",
    "```{math}\n",
    ":label:\n",
    "\\eta_{i} = n_{i}/L^{3} \\\\\n",
    "  \\bar{\\eta} = \\frac{1}{N}\\sum_{i=0}^{N} \\eta{i}\n",
    "```\n",
    "\n",
    "where $n_{i}$ is the number of points within voxel $i$, $L$ is the voxel size, and $N$ is the total number of voxels, then $\\eta_{i}$ is the volume density of voxel $i$, and $\\bar{\\eta}$ is the mean volume density.\n",
    "\n",
    "The function `lia.leaf_angle()` has to be ran per tree and requieres 6 input parameters:\n",
    "\n",
    "- `points`: $x$, $y$ and $z$ coordinates of the leaf point cloud (LPC).\n",
    "- `mockname`: name of directory where the data is.\n",
    "- `treename`: name/index of tree.\n",
    "- `voxel_size_w`: voxel size for `weights correction` i.e. $L$.\n",
    "- `kd3_sr`: KDtree searching radius for the nearest neighboors serch.\n",
    "- `max_nn`: Maximum number of nearest neightbors to be considered.\n",
    "\n",
    "This function returns a set of files inside directory `lia`:\n",
    "\n",
    "- `angles_<treename>.npy`: LIA for the LPC. One file per tree.\n",
    "- `weights_<treename>.npy`: LIA weights for the LPC. One file per tree.\n",
    "- `leaf_angle_dist_<treename>.png`: Figure of LIA ($\\theta_{L}$) distribution with `weights correction`. If `Truth` LIA available, this will be shown alongside. One figure per tree.\n",
    "- `leaf_angle_dist_height_<treename>.png`: Top - Figure of LPC distribution accross different heights in terms of voxels $k$. Bottom - If `Truth` LIA available, $\\theta_{L}^{truth} - \\theta_{L}$. The different curves show this for different heights ($k$). One figure per tree.\n",
    "\n",
    "## Look for best-fit `voxel_size_w`, `kd3_sr` and `max_nn` with `lia.bestfit_pars_la()`\n",
    "\n",
    "If truth LIA available i.e. there's a mesh file `mesh.ply` in the `test` directory, then we will be able to run function `lia.bestfit_pars_la()` which essentialy runs `lia.leaf_angle()` for a range of values in `voxel_size_w`, `kd3_sr` and `max_nn` and find the best-fit for these three based on the minimal $\\chi^{2}$ between the estimated LIA and the truth LIA.\n",
    "\n",
    "`lia.bestfit_pars_la()` is as well ran per tree and requires only `points`, `mockname` and `treename`. It returns `bestfit_<treename>.npy` file that contains the `voxel_size_w`, `kd3_sr` and `max_nn` best-fit values per tree. it also returns a dictionary with the $\\chi^{2}$ for each of these runs.\n",
    "\n",
    "Using output dictionary from `bestfit_pars_la` we can run `bestfit_pars_la` to create figure `bestfits_pars_treename>.png` that shows the $\\chi^{2}$ for all the ranges used in `voxel_size_w`, `kd3_sr` and `max_nn`.\n",
    "\n",
    "```{admonition} To-Do\n",
    ":class: important\n",
    "Current LIA implementation works without `Truth` LIA, however, we need it to estimate the best-fits `voxel_size_w`, `kd3_sr` and `max_nn` parameters. We need to find the relation between these three and LPC that could rely on the LPC density, leaf size, leaf area, etc.\n",
    "```\n",
    "\n",
    "The piece of code bellow runs `lia.bestfit_pars_la()` and `lia.best_fit_pars_plot()` for each tree.\n"
   ]
  },
  {
   "cell_type": "code",
   "execution_count": 9,
   "metadata": {},
   "outputs": [
    {
     "name": "stdout",
     "output_type": "stream",
     "text": [
      "voxel_size_w 0.0001 DONE...\n",
      "voxel_size_w 0.001 DONE...\n",
      "voxel_size_w 0.01 DONE...\n",
      "voxel_size_w 0.1 DONE...\n",
      "voxel_size_w 1 DONE...\n",
      "voxel_size_w BESTFIT:\t 0.01\n",
      "kd3_sr 0.001 DONE...\n",
      "kd3_sr 0.01 DONE...\n",
      "kd3_sr 0.1 DONE...\n",
      "kd3_sr 1.0 DONE...\n",
      "kd3_sr BESTFIT:\t 1.0\n",
      "max_nn 3 DONE...\n",
      "max_nn 5 DONE...\n",
      "max_nn 10 DONE...\n",
      "max_nn 20 DONE...\n",
      "max_nn 50 DONE...\n",
      "max_nn 100 DONE...\n",
      "max_nn BESTFIT:\t 5\n"
     ]
    }
   ],
   "source": [
    "for key, val in trees.items():\n",
    "\n",
    "    keep = (val) & (leaves) # take the LPC per tree\n",
    "    df_ = df[['x', 'y', 'z']][keep]\n",
    "    points = loads.DF2array(df_)\n",
    "    res = lia.bestfit_pars_la(points, mockname, treename=key)\n",
    "    lia.best_fit_pars_plot(res, key, mockname)\n"
   ]
  },
  {
   "cell_type": "markdown",
   "metadata": {},
   "source": [
    "once we find the best-fit parameters we get figure `bestfits_pars_treename>.png` that is shown in Fig. {numref}`bestfits_pars`. we use these best fits to run `lia.leaf_angle()` and get the LIA and corresponding weigths per tree. The code that does that is shown below and in Fig. {numref}`lia_dist` we show `leaf_angle_dist_<treename>.png` and in Fig. {numref}`lia_dist_h` `leaf_angle_dist_height_<treename>.png`."
   ]
  },
  {
   "cell_type": "code",
   "execution_count": 10,
   "metadata": {},
   "outputs": [
    {
     "name": "stdout",
     "output_type": "stream",
     "text": [
      "leaf area=0.04 \n",
      " voxel_size_w=0.0100 \n",
      " kd3_sr=1.0000 \n",
      " max_nn=5.0000 \n"
     ]
    }
   ],
   "source": [
    "# load bestfit results\n",
    "for key, val in trees.items():\n",
    "\n",
    "    keep = (val) & (leaves)\n",
    "    df_ = df[['x', 'y', 'z']][keep]\n",
    "    points = loads.DF2array(df_)\n",
    "\n",
    "    bestfit_file = os.path.join(_data, mockname, 'lia', 'bestfit_%s.npy' %(key))\n",
    "    res = np.load(bestfit_file, allow_pickle=True)\n",
    "    res = res.tolist()\n",
    "\n",
    "    text = 'leaf area=%.2f \\n %s=%.4f \\n %s=%.4f \\n %s=%.4f ' %(res['leafsize'], 'voxel_size_w', res['voxel_size_w_bestfit'],'kd3_sr', res['kd3_sr_bestfit'],'max_nn', res['max_nn_bestfit'])\n",
    "    print(text)\n",
    "\n",
    "    chi2 = lia.leaf_angle(points, mockname, key, res['voxel_size_w_bestfit'], \n",
    "                            res['kd3_sr_bestfit'], res['max_nn_bestfit'], save=True,\n",
    "                                savefig=True, text=text)\n",
    "                                "
   ]
  },
  {
   "cell_type": "markdown",
   "metadata": {},
   "source": [
    "# `\u001dLeaf Area Density` (LAD) estimation\n",
    "\n",
    "## Intro\n",
    "\n",
    "Most functions used in this chapter are in library:\n",
    "\n",
    "``` Python\n",
    "import lad\n",
    "```\n",
    "\n",
    "The LAD method implemented here uses the `Voxel 3D contact-bases frecuency` method first introduced by `HOSOI AND OMASA: VOXEL-BASED 3-D MODELING OF INDIVIDUAL TREES FOR ESTIMATING LAD`.\n",
    "\n",
    "The model looks like:\n",
    "\n",
    "```{math}\n",
    ":label:\n",
    "LAD(h, \\Delta H) = \\frac{1}{\\Delta H} \\sum_{k=m_{h}}^{m_{h}+\\Delta H} l(k),\n",
    "```\n",
    "\n",
    "where,\n",
    "\n",
    "```{math}\n",
    ":label:\n",
    "l(k) = \\alpha(\\theta)N(k) \\\\\n",
    "    = \\alpha(\\theta) \\cdot \\frac{n_{I}(k)}{n_{I}(k) + n_{P}(k)}.\n",
    "```\n",
    "\n",
    "$l(k)$ is the `Leaf Area Index` (LAI) of the kth horizontal layer of the voxel array within a plant region, $\\Delta H$ is the horizontal layer thickness, and $m_{h}$ and $m_{h}+\\Delta H$ are the voxel coordinates on the vertical axis equivalent to height $h$ and $h+\\Delta H$ in orthogonal coordinates ($h = \\Delta k \\times m_{h}$). The LAI of the kth horizontal layer $l(k)$ is the product of the contact frequency $N(k)$ of laser beams in the kth layer and the coefficient $\\alpha(\\theta)$, which corrects for leaf inclination at laser incident zenith angle $\\theta$.\n",
    "\n",
    "$n_{I}(k)$ is the number of voxels where the laser beams is intercepted by the kth layer, $n_{P}(k)$ is the number of voxels where the laser beams passed through the kth layer, and $n_{I}(k) + n_{P}(k)$ is the total number of voxels where the incident laser beams reach the kth layer.\n",
    "\n",
    "Despite the complexity of this method, it requieres only one parameter, the `voxel_size`. We will introduce a second parameter, the `downsample` whose importance will be explained later. The main steps towards LAD estimation are:\n",
    "\n",
    "1. Computing $n_{P}(k)$\n",
    "2. Computing $n_{I}(k)$\n",
    "3. Computing $\\alpha(\\theta)$\n",
    "4. Estimate LAD\n",
    "\n",
    "For this example, we will usea a `voxel_size` = 0.2 and `downsample` = 0.05 which means that we downsample our whole data to only $5\\%$. A reminder that as well as in for the LIA, the following process is per tree."
   ]
  },
  {
   "cell_type": "code",
   "execution_count": 181,
   "metadata": {},
   "outputs": [],
   "source": [
    "downsample = 0.1\n",
    "voxel_size = 0.1\n",
    "# to check everything looks fine\n",
    "show = False\n",
    "sample = None"
   ]
  },
  {
   "cell_type": "markdown",
   "metadata": {},
   "source": [
    "## Computing $n_{P}(k)$\n",
    "\n",
    "Seeing where the beam pass through in the voxelize `Plant Region` (PR) is a tipycal ray tracing problem and it's reduced to see whether the ray hit or not an axis align bounding box (AABB).\n",
    "\n",
    "The below module grabs the requiered downsample percentge of the data with a random subsample and if it's the first time we ran this, it will create the directory `lad_<downsmple>`. All the subsequent results will be stored inside this directory. The first time a particular downsample is ran, it will store the file `inds.npy` containing a boolean array with size of the pandas DF where True being the selected random subsample requested. If we change the `voxel_size` but not the `downsample`, then the below module will look first for the `inds.npy` instead of searching for another random subsample, this to maintain uniformity between different voxels sizes approaches.\n",
    "\n",
    "The function `main` does the magic here, it has to be ran per tree and requires 6 input parameters:\n",
    "\n",
    "- `points`: $x$, $y$ and $z$ coordinates from the downsample data in the form of numpy array.\n",
    "- `sensors`: $x$, $y$ and $z$ coordinates of sensor responsible from each point in `points` parameter above.\n",
    "- `pointsPR`: `points` above filtered to the LPC.\n",
    "- `voxel_size`: Voxel Size.\n",
    "- `resdir`: Name of output directory for the specific `downsample`.\n",
    "- `treename`: Name/index of tree.\n",
    "\n",
    "```{note}\n",
    "`pointsPR` is require to get the same voxelization dimensions as in $n_{I}$.\n",
    "```\n",
    "This function returns two files:\n",
    "\n",
    "- `m3s_<treename>_<voxel_size>.npy`: numpy boolean 3D-array with number of voxels dimensions. True if a beam hit the voxel.\n",
    "- `m3count_<treename>_<voxel_size>.npy`: numpy 3D-array with number of voxels dimensions. Each entry contains the number of beams that passed trhough that voxel.\n",
    "\n",
    "```{admonition} To-Do\n",
    ":class: important\n",
    "Note that this is the slowest module of the entire pipeline, taking up to 5 minutes for a sample of 10,000 beams. This can be improved easlily if binding with a `C++` ray AABB module instead.\n",
    "```\n",
    "\n",
    "Below we show the piece of code that computes this,"
   ]
  },
  {
   "cell_type": "code",
   "execution_count": 5,
   "metadata": {},
   "outputs": [],
   "source": [
    "\n",
    "POINTS = loads.DF2array(df[['x', 'y', 'z']])\n",
    "SENSORS = loads.DF2array(df[['sx', 'sy', 'sz']])\n",
    "\n",
    "def get_rays(downsample, voxel_size, sample=None, show=False):\n",
    "\n",
    "    if downsample is not None:\n",
    "\n",
    "        resdir = os.path.join(_data, mockname, 'lad_%s' %(str(downsample)))\n",
    "        if not os.path.exists(resdir):\n",
    "            os.makedirs(resdir)\n",
    "\n",
    "        outdir = os.path.join(resdir, 'inds.npy')\n",
    "        if os.path.exists(outdir):\n",
    "            print('inds file already exists for donwnsample of %.3f at %s' %(downsample, outdir))\n",
    "\n",
    "            inds = np.load(outdir)\n",
    "\n",
    "            points = POINTS[inds]\n",
    "            sensors = SENSORS[inds]\n",
    "\n",
    "        else:\n",
    "\n",
    "            print('inds not been created yet for donwnsample of %.3f' %(downsample))\n",
    "            idx = np.random.randint(0, len(df), int(len(df) * downsample))\n",
    "            inds = np.zeros(len(df), dtype=bool)\n",
    "            inds[idx] = True\n",
    "\n",
    "            points = POINTS[inds]\n",
    "            sensors = SENSORS[inds]\n",
    "\n",
    "            np.save(outdir, inds)\n",
    "\n",
    "    else:\n",
    "\n",
    "        resdir = os.path.join(_data, mockname, 'lad')\n",
    "        if not os.path.exists(resdir):\n",
    "            os.makedirs(resdir)\n",
    "\n",
    "    if sample is not None:\n",
    "\n",
    "        idx = np.random.randint(0, len(df), int(sample))\n",
    "        points = POINTS[idx]\n",
    "        sensors = SENSORS[idx]\n",
    "\n",
    "    for key, val in trees.items():\n",
    "\n",
    "        inPR = (val) & (leaves) & (inds)\n",
    "        pointsPR = POINTS[inPR]\n",
    "        m3s = rayt.main(points, sensors, pointsPR, voxel_size, resdir, key, show=show)\n",
    "    "
   ]
  },
  {
   "cell_type": "code",
   "execution_count": 535,
   "metadata": {},
   "outputs": [
    {
     "name": "stdout",
     "output_type": "stream",
     "text": [
      "inds file already exists for donwnsample of 0.050 at /Users/omar/projects/planttech/data/test/lad_0.05/inds.npy\n",
      "max --> [45, 46, 29]\n",
      "min --> [0, 0, 0]\n"
     ]
    },
    {
     "name": "stderr",
     "output_type": "stream",
     "text": [
      "7672it [01:55, 66.20it/s] "
     ]
    },
    {
     "name": "stdout",
     "output_type": "stream",
     "text": [
      "tot vox: \t 64860\n",
      "voxels hitted: \t 48100\n",
      "Percentage of voxels hitted by beam: 0.74\n",
      "voxels hitted (OLD): \t 55731\n",
      "Percentage of voxels hitted by beam (OLD): 0.86\n"
     ]
    },
    {
     "name": "stderr",
     "output_type": "stream",
     "text": [
      "\n"
     ]
    }
   ],
   "source": [
    "downsample = 0.05\n",
    "voxel_size = 0.2\n",
    "sample = None\n",
    "show = False\n",
    "\n",
    "get_rays(downsample, voxel_size, sample, show)"
   ]
  },
  {
   "cell_type": "code",
   "execution_count": 352,
   "metadata": {},
   "outputs": [
    {
     "name": "stdout",
     "output_type": "stream",
     "text": [
      "inds file already exists for donwnsample of 0.200 at /Users/omar/projects/planttech/data/test/lad_0.2/inds.npy\n",
      "max --> [72, 70, 45]\n",
      "min --> [0, 0, 0]\n"
     ]
    },
    {
     "name": "stderr",
     "output_type": "stream",
     "text": [
      "28463it [09:54, 47.87it/s] "
     ]
    },
    {
     "name": "stdout",
     "output_type": "stream",
     "text": [
      "tot vox: \t 238418\n",
      "voxels hitted: \t 214734\n",
      "Percentage of voxels hitted by beam: 0.90\n"
     ]
    },
    {
     "name": "stderr",
     "output_type": "stream",
     "text": [
      "\n"
     ]
    }
   ],
   "source": [
    "downsample = 0.2\n",
    "voxel_size = 0.13\n",
    "\n",
    "get_rays(downsample, voxel_size)"
   ]
  },
  {
   "cell_type": "code",
   "execution_count": 353,
   "metadata": {},
   "outputs": [
    {
     "name": "stdout",
     "output_type": "stream",
     "text": [
      "inds file already exists for donwnsample of 0.300 at /Users/omar/projects/planttech/data/test/lad_0.3/inds.npy\n",
      "max --> [85, 83, 54]\n",
      "min --> [0, 0, 0]\n"
     ]
    },
    {
     "name": "stderr",
     "output_type": "stream",
     "text": [
      "40779it [17:18, 39.27it/s] "
     ]
    },
    {
     "name": "stdout",
     "output_type": "stream",
     "text": [
      "tot vox: \t 397320\n",
      "voxels hitted: \t 359508\n",
      "Percentage of voxels hitted by beam: 0.90\n"
     ]
    },
    {
     "name": "stderr",
     "output_type": "stream",
     "text": [
      "\n"
     ]
    }
   ],
   "source": [
    "downsample = 0.3\n",
    "voxel_size = 0.11\n",
    "\n",
    "get_rays(downsample, voxel_size)"
   ]
  },
  {
   "cell_type": "code",
   "execution_count": 540,
   "metadata": {},
   "outputs": [
    {
     "name": "stdout",
     "output_type": "stream",
     "text": [
      "inds file already exists for donwnsample of 0.010 at /Users/omar/projects/planttech/data/test/lad_0.01/inds.npy\n",
      "max --> [89, 80, 57]\n",
      "min --> [0, 0, 0]\n"
     ]
    },
    {
     "name": "stderr",
     "output_type": "stream",
     "text": [
      "1564it [00:38, 41.05it/s]\n"
     ]
    },
    {
     "name": "stdout",
     "output_type": "stream",
     "text": [
      "tot vox: \t 422820\n",
      "voxels hitted: \t 64972\n",
      "Percentage of voxels hitted by beam: 0.15\n",
      "voxels hitted (OLD): \t 66795\n",
      "Percentage of voxels hitted by beam (OLD): 0.16\n",
      "inds file already exists for donwnsample of 0.010 at /Users/omar/projects/planttech/data/test/lad_0.01/inds.npy\n",
      "max --> [59, 53, 38]\n",
      "min --> [0, 0, 0]\n"
     ]
    },
    {
     "name": "stderr",
     "output_type": "stream",
     "text": [
      "1564it [00:21, 71.46it/s]\n"
     ]
    },
    {
     "name": "stdout",
     "output_type": "stream",
     "text": [
      "tot vox: \t 126360\n",
      "voxels hitted: \t 37307\n",
      "Percentage of voxels hitted by beam: 0.30\n",
      "voxels hitted (OLD): \t 39705\n",
      "Percentage of voxels hitted by beam (OLD): 0.31\n",
      "inds file already exists for donwnsample of 0.010 at /Users/omar/projects/planttech/data/test/lad_0.01/inds.npy\n",
      "max --> [45, 40, 29]\n",
      "min --> [0, 0, 0]\n"
     ]
    },
    {
     "name": "stderr",
     "output_type": "stream",
     "text": [
      "1564it [00:20, 76.53it/s]\n"
     ]
    },
    {
     "name": "stdout",
     "output_type": "stream",
     "text": [
      "tot vox: \t 56580\n",
      "voxels hitted: \t 24094\n",
      "Percentage of voxels hitted by beam: 0.43\n",
      "voxels hitted (OLD): \t 26724\n",
      "Percentage of voxels hitted by beam (OLD): 0.47\n",
      "inds file already exists for donwnsample of 0.010 at /Users/omar/projects/planttech/data/test/lad_0.01/inds.npy\n",
      "max --> [30, 27, 19]\n",
      "min --> [0, 0, 0]\n"
     ]
    },
    {
     "name": "stderr",
     "output_type": "stream",
     "text": [
      "1564it [00:11, 131.38it/s]\n"
     ]
    },
    {
     "name": "stdout",
     "output_type": "stream",
     "text": [
      "tot vox: \t 17360\n",
      "voxels hitted: \t 10507\n",
      "Percentage of voxels hitted by beam: 0.61\n",
      "voxels hitted (OLD): \t 12444\n",
      "Percentage of voxels hitted by beam (OLD): 0.72\n",
      "inds file already exists for donwnsample of 0.010 at /Users/omar/projects/planttech/data/test/lad_0.01/inds.npy\n",
      "max --> [22, 20, 14]\n",
      "min --> [0, 0, 0]\n"
     ]
    },
    {
     "name": "stderr",
     "output_type": "stream",
     "text": [
      "1564it [00:10, 149.36it/s]\n"
     ]
    },
    {
     "name": "stdout",
     "output_type": "stream",
     "text": [
      "tot vox: \t 7245\n",
      "voxels hitted: \t 5040\n",
      "Percentage of voxels hitted by beam: 0.70\n",
      "voxels hitted (OLD): \t 6200\n",
      "Percentage of voxels hitted by beam (OLD): 0.86\n",
      "inds file already exists for donwnsample of 0.050 at /Users/omar/projects/planttech/data/test/lad_0.05/inds.npy\n",
      "max --> [90, 91, 58]\n",
      "min --> [0, 0, 0]\n"
     ]
    },
    {
     "name": "stderr",
     "output_type": "stream",
     "text": [
      "7672it [03:34, 35.75it/s]\n"
     ]
    },
    {
     "name": "stdout",
     "output_type": "stream",
     "text": [
      "tot vox: \t 493948\n",
      "voxels hitted: \t 242027\n",
      "Percentage of voxels hitted by beam: 0.49\n",
      "voxels hitted (OLD): \t 259618\n",
      "Percentage of voxels hitted by beam (OLD): 0.53\n",
      "inds file already exists for donwnsample of 0.050 at /Users/omar/projects/planttech/data/test/lad_0.05/inds.npy\n",
      "max --> [60, 61, 39]\n",
      "min --> [0, 0, 0]\n"
     ]
    },
    {
     "name": "stderr",
     "output_type": "stream",
     "text": [
      "7672it [02:00, 63.91it/s] \n"
     ]
    },
    {
     "name": "stdout",
     "output_type": "stream",
     "text": [
      "tot vox: \t 151280\n",
      "voxels hitted: \t 101789\n",
      "Percentage of voxels hitted by beam: 0.67\n",
      "voxels hitted (OLD): \t 114129\n",
      "Percentage of voxels hitted by beam (OLD): 0.75\n",
      "inds file already exists for donwnsample of 0.050 at /Users/omar/projects/planttech/data/test/lad_0.05/inds.npy\n",
      "max --> [45, 46, 29]\n",
      "min --> [0, 0, 0]\n"
     ]
    },
    {
     "name": "stderr",
     "output_type": "stream",
     "text": [
      "7672it [01:50, 69.17it/s] \n"
     ]
    },
    {
     "name": "stdout",
     "output_type": "stream",
     "text": [
      "tot vox: \t 64860\n",
      "voxels hitted: \t 48100\n",
      "Percentage of voxels hitted by beam: 0.74\n",
      "voxels hitted (OLD): \t 55731\n",
      "Percentage of voxels hitted by beam (OLD): 0.86\n",
      "inds file already exists for donwnsample of 0.050 at /Users/omar/projects/planttech/data/test/lad_0.05/inds.npy\n",
      "max --> [30, 30, 19]\n",
      "min --> [0, 0, 0]\n"
     ]
    },
    {
     "name": "stderr",
     "output_type": "stream",
     "text": [
      "7672it [01:02, 122.99it/s]\n"
     ]
    },
    {
     "name": "stdout",
     "output_type": "stream",
     "text": [
      "tot vox: \t 19220\n",
      "voxels hitted: \t 14308\n",
      "Percentage of voxels hitted by beam: 0.74\n",
      "voxels hitted (OLD): \t 18015\n",
      "Percentage of voxels hitted by beam (OLD): 0.94\n",
      "inds file already exists for donwnsample of 0.050 at /Users/omar/projects/planttech/data/test/lad_0.05/inds.npy\n",
      "max --> [22, 23, 15]\n",
      "min --> [0, 0, 0]\n"
     ]
    },
    {
     "name": "stderr",
     "output_type": "stream",
     "text": [
      "7672it [01:04, 118.71it/s]\n"
     ]
    },
    {
     "name": "stdout",
     "output_type": "stream",
     "text": [
      "tot vox: \t 8832\n",
      "voxels hitted: \t 6258\n",
      "Percentage of voxels hitted by beam: 0.71\n",
      "voxels hitted (OLD): \t 8469\n",
      "Percentage of voxels hitted by beam (OLD): 0.96\n",
      "inds file already exists for donwnsample of 0.100 at /Users/omar/projects/planttech/data/test/lad_0.1/inds.npy\n",
      "max --> [93, 92, 59]\n",
      "min --> [0, 0, 0]\n"
     ]
    },
    {
     "name": "stderr",
     "output_type": "stream",
     "text": [
      "14986it [08:40, 28.77it/s]\n"
     ]
    },
    {
     "name": "stdout",
     "output_type": "stream",
     "text": [
      "tot vox: \t 524520\n",
      "voxels hitted: \t 342718\n",
      "Percentage of voxels hitted by beam: 0.65\n",
      "voxels hitted (OLD): \t 372892\n",
      "Percentage of voxels hitted by beam (OLD): 0.71\n",
      "inds file already exists for donwnsample of 0.100 at /Users/omar/projects/planttech/data/test/lad_0.1/inds.npy\n",
      "max --> [62, 61, 39]\n",
      "min --> [0, 0, 0]\n"
     ]
    },
    {
     "name": "stderr",
     "output_type": "stream",
     "text": [
      "14986it [04:50, 51.67it/s]\n"
     ]
    },
    {
     "name": "stdout",
     "output_type": "stream",
     "text": [
      "tot vox: \t 156240\n",
      "voxels hitted: \t 118726\n",
      "Percentage of voxels hitted by beam: 0.76\n",
      "voxels hitted (OLD): \t 135086\n",
      "Percentage of voxels hitted by beam (OLD): 0.86\n",
      "inds file already exists for donwnsample of 0.100 at /Users/omar/projects/planttech/data/test/lad_0.1/inds.npy\n",
      "max --> [47, 46, 29]\n",
      "min --> [0, 0, 0]\n"
     ]
    },
    {
     "name": "stderr",
     "output_type": "stream",
     "text": [
      "14986it [03:54, 63.81it/s]\n"
     ]
    },
    {
     "name": "stdout",
     "output_type": "stream",
     "text": [
      "tot vox: \t 67680\n",
      "voxels hitted: \t 52379\n",
      "Percentage of voxels hitted by beam: 0.77\n",
      "voxels hitted (OLD): \t 61933\n",
      "Percentage of voxels hitted by beam (OLD): 0.92\n",
      "inds file already exists for donwnsample of 0.100 at /Users/omar/projects/planttech/data/test/lad_0.1/inds.npy\n",
      "max --> [31, 31, 20]\n",
      "min --> [0, 0, 0]\n"
     ]
    },
    {
     "name": "stderr",
     "output_type": "stream",
     "text": [
      "14986it [02:08, 116.41it/s]\n"
     ]
    },
    {
     "name": "stdout",
     "output_type": "stream",
     "text": [
      "tot vox: \t 21504\n",
      "voxels hitted: \t 16007\n",
      "Percentage of voxels hitted by beam: 0.74\n",
      "voxels hitted (OLD): \t 20428\n",
      "Percentage of voxels hitted by beam (OLD): 0.95\n",
      "inds file already exists for donwnsample of 0.100 at /Users/omar/projects/planttech/data/test/lad_0.1/inds.npy\n",
      "max --> [23, 23, 15]\n",
      "min --> [0, 0, 0]\n"
     ]
    },
    {
     "name": "stderr",
     "output_type": "stream",
     "text": [
      "14986it [01:57, 127.20it/s]\n"
     ]
    },
    {
     "name": "stdout",
     "output_type": "stream",
     "text": [
      "tot vox: \t 9216\n",
      "voxels hitted: \t 6396\n",
      "Percentage of voxels hitted by beam: 0.69\n",
      "voxels hitted (OLD): \t 8918\n",
      "Percentage of voxels hitted by beam (OLD): 0.97\n",
      "inds file already exists for donwnsample of 0.150 at /Users/omar/projects/planttech/data/test/lad_0.15/inds.npy\n",
      "max --> [93, 92, 59]\n",
      "min --> [0, 0, 0]\n"
     ]
    },
    {
     "name": "stderr",
     "output_type": "stream",
     "text": [
      "21889it [10:53, 33.50it/s]\n"
     ]
    },
    {
     "name": "stdout",
     "output_type": "stream",
     "text": [
      "tot vox: \t 524520\n",
      "voxels hitted: \t 380894\n",
      "Percentage of voxels hitted by beam: 0.73\n",
      "voxels hitted (OLD): \t 420237\n",
      "Percentage of voxels hitted by beam (OLD): 0.80\n",
      "inds file already exists for donwnsample of 0.150 at /Users/omar/projects/planttech/data/test/lad_0.15/inds.npy\n",
      "max --> [62, 61, 39]\n",
      "min --> [0, 0, 0]\n"
     ]
    },
    {
     "name": "stderr",
     "output_type": "stream",
     "text": [
      "21889it [06:01, 60.56it/s] \n"
     ]
    },
    {
     "name": "stdout",
     "output_type": "stream",
     "text": [
      "tot vox: \t 156240\n",
      "voxels hitted: \t 123060\n",
      "Percentage of voxels hitted by beam: 0.79\n",
      "voxels hitted (OLD): \t 141343\n",
      "Percentage of voxels hitted by beam (OLD): 0.90\n",
      "inds file already exists for donwnsample of 0.150 at /Users/omar/projects/planttech/data/test/lad_0.15/inds.npy\n",
      "max --> [47, 46, 29]\n",
      "min --> [0, 0, 0]\n"
     ]
    },
    {
     "name": "stderr",
     "output_type": "stream",
     "text": [
      "21889it [05:34, 65.35it/s] \n"
     ]
    },
    {
     "name": "stdout",
     "output_type": "stream",
     "text": [
      "tot vox: \t 67680\n",
      "voxels hitted: \t 52639\n",
      "Percentage of voxels hitted by beam: 0.78\n",
      "voxels hitted (OLD): \t 63312\n",
      "Percentage of voxels hitted by beam (OLD): 0.94\n",
      "inds file already exists for donwnsample of 0.150 at /Users/omar/projects/planttech/data/test/lad_0.15/inds.npy\n",
      "max --> [31, 31, 20]\n",
      "min --> [0, 0, 0]\n"
     ]
    },
    {
     "name": "stderr",
     "output_type": "stream",
     "text": [
      "21889it [03:06, 117.27it/s]\n"
     ]
    },
    {
     "name": "stdout",
     "output_type": "stream",
     "text": [
      "tot vox: \t 21504\n",
      "voxels hitted: \t 15740\n",
      "Percentage of voxels hitted by beam: 0.73\n",
      "voxels hitted (OLD): \t 20603\n",
      "Percentage of voxels hitted by beam (OLD): 0.96\n",
      "inds file already exists for donwnsample of 0.150 at /Users/omar/projects/planttech/data/test/lad_0.15/inds.npy\n",
      "max --> [23, 23, 15]\n",
      "min --> [0, 0, 0]\n"
     ]
    },
    {
     "name": "stderr",
     "output_type": "stream",
     "text": [
      "21889it [02:53, 126.08it/s]\n"
     ]
    },
    {
     "name": "stdout",
     "output_type": "stream",
     "text": [
      "tot vox: \t 9216\n",
      "voxels hitted: \t 6355\n",
      "Percentage of voxels hitted by beam: 0.69\n",
      "voxels hitted (OLD): \t 8945\n",
      "Percentage of voxels hitted by beam (OLD): 0.97\n",
      "inds file already exists for donwnsample of 0.200 at /Users/omar/projects/planttech/data/test/lad_0.2/inds.npy\n",
      "max --> [94, 91, 58]\n",
      "min --> [0, 0, 0]\n"
     ]
    },
    {
     "name": "stderr",
     "output_type": "stream",
     "text": [
      "28463it [14:02, 33.77it/s]\n"
     ]
    },
    {
     "name": "stdout",
     "output_type": "stream",
     "text": [
      "tot vox: \t 515660\n",
      "voxels hitted: \t 394125\n",
      "Percentage of voxels hitted by beam: 0.76\n",
      "voxels hitted (OLD): \t 435077\n",
      "Percentage of voxels hitted by beam (OLD): 0.84\n",
      "inds file already exists for donwnsample of 0.200 at /Users/omar/projects/planttech/data/test/lad_0.2/inds.npy\n",
      "max --> [63, 61, 39]\n",
      "min --> [0, 0, 0]\n"
     ]
    },
    {
     "name": "stderr",
     "output_type": "stream",
     "text": [
      "28463it [07:55, 59.82it/s] \n"
     ]
    },
    {
     "name": "stdout",
     "output_type": "stream",
     "text": [
      "tot vox: \t 158720\n",
      "voxels hitted: \t 126218\n",
      "Percentage of voxels hitted by beam: 0.80\n",
      "voxels hitted (OLD): \t 145514\n",
      "Percentage of voxels hitted by beam (OLD): 0.92\n",
      "inds file already exists for donwnsample of 0.200 at /Users/omar/projects/planttech/data/test/lad_0.2/inds.npy\n",
      "max --> [47, 45, 29]\n",
      "min --> [0, 0, 0]\n"
     ]
    },
    {
     "name": "stderr",
     "output_type": "stream",
     "text": [
      "28463it [07:11, 65.95it/s] \n"
     ]
    },
    {
     "name": "stdout",
     "output_type": "stream",
     "text": [
      "tot vox: \t 66240\n",
      "voxels hitted: \t 52066\n",
      "Percentage of voxels hitted by beam: 0.79\n",
      "voxels hitted (OLD): \t 62806\n",
      "Percentage of voxels hitted by beam (OLD): 0.95\n",
      "inds file already exists for donwnsample of 0.200 at /Users/omar/projects/planttech/data/test/lad_0.2/inds.npy\n",
      "max --> [31, 30, 19]\n",
      "min --> [0, 0, 0]\n"
     ]
    },
    {
     "name": "stderr",
     "output_type": "stream",
     "text": [
      "28463it [03:52, 122.53it/s]\n"
     ]
    },
    {
     "name": "stdout",
     "output_type": "stream",
     "text": [
      "tot vox: \t 19840\n",
      "voxels hitted: \t 14505\n",
      "Percentage of voxels hitted by beam: 0.73\n",
      "voxels hitted (OLD): \t 19257\n",
      "Percentage of voxels hitted by beam (OLD): 0.97\n",
      "inds file already exists for donwnsample of 0.200 at /Users/omar/projects/planttech/data/test/lad_0.2/inds.npy\n",
      "max --> [23, 23, 15]\n",
      "min --> [0, 0, 0]\n"
     ]
    },
    {
     "name": "stderr",
     "output_type": "stream",
     "text": [
      "28463it [03:41, 128.23it/s]\n"
     ]
    },
    {
     "name": "stdout",
     "output_type": "stream",
     "text": [
      "tot vox: \t 9216\n",
      "voxels hitted: \t 6319\n",
      "Percentage of voxels hitted by beam: 0.69\n",
      "voxels hitted (OLD): \t 8961\n",
      "Percentage of voxels hitted by beam (OLD): 0.97\n",
      "inds file already exists for donwnsample of 0.300 at /Users/omar/projects/planttech/data/test/lad_0.3/inds.npy\n",
      "max --> [94, 92, 59]\n",
      "min --> [0, 0, 0]\n"
     ]
    },
    {
     "name": "stderr",
     "output_type": "stream",
     "text": [
      "40779it [20:55, 32.47it/s]\n"
     ]
    },
    {
     "name": "stdout",
     "output_type": "stream",
     "text": [
      "tot vox: \t 530100\n",
      "voxels hitted: \t 425445\n",
      "Percentage of voxels hitted by beam: 0.80\n",
      "voxels hitted (OLD): \t 469548\n",
      "Percentage of voxels hitted by beam (OLD): 0.89\n",
      "inds file already exists for donwnsample of 0.300 at /Users/omar/projects/planttech/data/test/lad_0.3/inds.npy\n",
      "max --> [62, 61, 40]\n",
      "min --> [0, 0, 0]\n"
     ]
    },
    {
     "name": "stderr",
     "output_type": "stream",
     "text": [
      "40779it [11:39, 58.33it/s] \n"
     ]
    },
    {
     "name": "stdout",
     "output_type": "stream",
     "text": [
      "tot vox: \t 160146\n",
      "voxels hitted: \t 129449\n",
      "Percentage of voxels hitted by beam: 0.81\n",
      "voxels hitted (OLD): \t 150358\n",
      "Percentage of voxels hitted by beam (OLD): 0.94\n",
      "inds file already exists for donwnsample of 0.300 at /Users/omar/projects/planttech/data/test/lad_0.3/inds.npy\n",
      "max --> [47, 46, 30]\n",
      "min --> [0, 0, 0]\n"
     ]
    },
    {
     "name": "stderr",
     "output_type": "stream",
     "text": [
      "40779it [10:39, 63.78it/s] \n"
     ]
    },
    {
     "name": "stdout",
     "output_type": "stream",
     "text": [
      "tot vox: \t 69936\n",
      "voxels hitted: \t 55046\n",
      "Percentage of voxels hitted by beam: 0.79\n",
      "voxels hitted (OLD): \t 66740\n",
      "Percentage of voxels hitted by beam (OLD): 0.95\n",
      "inds file already exists for donwnsample of 0.300 at /Users/omar/projects/planttech/data/test/lad_0.3/inds.npy\n",
      "max --> [31, 31, 20]\n",
      "min --> [0, 0, 0]\n"
     ]
    },
    {
     "name": "stderr",
     "output_type": "stream",
     "text": [
      "40779it [05:47, 117.24it/s]\n"
     ]
    },
    {
     "name": "stdout",
     "output_type": "stream",
     "text": [
      "tot vox: \t 21504\n",
      "voxels hitted: \t 15736\n",
      "Percentage of voxels hitted by beam: 0.73\n",
      "voxels hitted (OLD): \t 20844\n",
      "Percentage of voxels hitted by beam (OLD): 0.97\n",
      "inds file already exists for donwnsample of 0.300 at /Users/omar/projects/planttech/data/test/lad_0.3/inds.npy\n",
      "max --> [23, 23, 15]\n",
      "min --> [0, 0, 0]\n"
     ]
    },
    {
     "name": "stderr",
     "output_type": "stream",
     "text": [
      "40779it [05:19, 127.75it/s]"
     ]
    },
    {
     "name": "stdout",
     "output_type": "stream",
     "text": [
      "tot vox: \t 9216\n",
      "voxels hitted: \t 6333\n",
      "Percentage of voxels hitted by beam: 0.69\n",
      "voxels hitted (OLD): \t 9049\n",
      "Percentage of voxels hitted by beam (OLD): 0.98\n"
     ]
    },
    {
     "name": "stderr",
     "output_type": "stream",
     "text": [
      "\n"
     ]
    }
   ],
   "source": [
    "for DS in [0.01, 0.05, 0.1, 0.15, 0.2, 0.3]:\n",
    "    for VS in [0.1, 0.15, 0.2, 0.3, 0.4]:\n",
    "\n",
    "        get_rays(DS, VS)"
   ]
  },
  {
   "cell_type": "markdown",
   "metadata": {},
   "source": [
    "## Computing $n_{I}(k)$\n",
    "\n",
    "The $n_{I}$ per voxel is computed in function `lad.compute_attributes()`. It essentialy voxelize the LPC to get the PR dimensions (which have to be the same as in $n_{P}$). Then, for a numpy boolean 3D-array with voxelize PR dimensions, we fill it with True if there's a point in the voxel.\n",
    "\n",
    "This function looks for previous `m3s_<treename>_<voxel_size>.npy` result and get the attributes in the form of the same size numpy 3D-array (`m3att`). The attributes are:\n",
    "\n",
    "- 1 if any LPC in that voxel\n",
    "- 2 if any beam pass trhough that  voxel\n",
    "- 3 if none of previous\n",
    "\n",
    "It requires 4 input parameters `pointsPR`, `resdir`, `voxel_size`, `treename` which were defined in section {ref}`sec:np`. It returns the attributes numpy 3D-array."
   ]
  },
  {
   "cell_type": "markdown",
   "metadata": {},
   "source": [
    "## Computing $\\alpha(\\theta)$\n",
    "\n",
    "$\\alpha(\\theta)$ is expressed in terms of $G(\\theta)$, \n",
    "\n",
    "```{math}\n",
    ":label:\n",
    "\\alpha(\\theta) = \\frac{\\cos(\\theta)}{G(\\theta)},\n",
    "```\n",
    "\n",
    "where $G(\\theta)$ is the mean projection of a unit leaf area on a plane perpendicular to the direction of the laser beam. This quantity is determined with the assumption that leaves are positioned symmetrically with respect to the azimuth anc can be represented as:\n",
    "\n",
    "```{math}\n",
    ":label:\n",
    "G(\\theta) =  \\sum_{q=1}^{T_{q}} g(q) S(\\theta, \\theta_{L}(q))\n",
    "```\n",
    "\n",
    "where $S(\\theta, \\theta_{L}(q))$ is expresed in terms of the leaf inclination angle (LIA) $\\theta_{L}$ (the zenith angle of the normal to the leaf surface), and $\\theta$ is the laser-beam incident zenith angle:\n",
    "\n",
    "```{math}\n",
    ":label:\n",
    "S(\\theta, \\theta_{L}) = \\cos\\theta \\cos \\theta_{L}, \\hspace{.5cm} \\textrm{for } \\theta \\leq \\pi/2 - \\theta_{L}\n",
    "```\n",
    "\n",
    "```{math}\n",
    ":label:\n",
    "S(\\theta, \\theta_{L}) = \\cos\\theta \\cos \\theta_{L} \\left[ 1 + \\frac{2}{\\pi}(\\tan x - x) \\right], \\hspace{.5cm} \\textrm{for } \\theta \\gt \\pi/2 - \\theta_{L}\n",
    "```\n",
    "\n",
    "```{math}\n",
    ":label:\n",
    "x = \\cos^{-1}\\left( \\cot \\theta \\cot \\theta_{L} \\right).\n",
    "```\n",
    "\n",
    "Here $q$ is the leaf-inclination-angle class and Tq is the total number of leaf-inclination-angle classes. Thus, if there are $18$ leaf-inclination-angle classes from $0◦$ to $90◦$ ($Tq = 18$), then each class consists of a $5◦$ interval. For example, $q = 1$, $q = 9$, and $q = 16$ include the angles from $0◦$ to $4◦$, $40◦$ to $44◦$, and $75◦$ to $79◦$, respectively. $g(q)$ is the distribution of the leaf-inclination-angle class $q$, which is a ratio of the leaf area belonging to class $q$ to total leaf area; $θ_{L}(q)$ is the midpoint angle of class $q$, which is the leaf-inclination angle used to represent class $q$.\n",
    "\n",
    "This process is done trhough function `lad.Gtheta()`. In function `lad.alpha_k()` we compute $\\alpha(\\theta)$ for the median of $\\theta$, the Beam Inclination Angles (BIA) with respect to zenith, in the Kth layer. We made use of the files `angles_<treename>.npy` and `weights_<treename>.npy` we store previously in the directory `lia` to get $g(q)$. The function `lad.alpha_k()` create three figures inside the `figures` directory:\n",
    "\n",
    "- `alphas_<treename>_<voxel_size>.png`\n",
    "- `bia_<treename>_<voxel_size>.png`\n",
    "- `bia_per_k_<treename>_<voxel_size>.png`\n",
    "\n",
    "Examples of this three figures can be found in Figures {numref}`alphasplot`, {numref}`biaplot`, and {numref}`biakplot` for a `downsample` of $5 \\%$."
   ]
  },
  {
   "cell_type": "markdown",
   "metadata": {},
   "source": [
    "## Estimate LAD\n",
    "\n",
    "Now that we have $\\alpha(\\theta)$ in the Kth layer (i.e. $\\alpha(\\theta, k)$), we can compute the LAI and therefore the LAD. We do this in function `lad.get_LADS()` which requires 4 input parameters:\n",
    "\n",
    "- `m3att`: The numpy 3D-array attributes we derive in section {ref}`sec:ni`\n",
    "- `voxel_size`: Voxel Size.\n",
    "- `kbins`: $\\Delta H$ in lengths if K.\n",
    "- `alphas_k`: `lad.alpha_k()` function output.\n",
    "\n",
    "This returns a numpy 2D-array with the height and LAD for the corresponding height with zero being the bottom of the PR.\n",
    "\n",
    "Finally, with function `figures.plot_lads()` we plot LAD as a function of height for:\n",
    "\n",
    "1. Using correction of $\\alpha(\\theta, K)$ taking the median of $\\theta$ in the Kth layer.\n",
    "2. Without $\\alpha(\\theta, K)$ correction\n",
    "3. Truth LAD from mesh file.\n",
    "\n",
    "The piece of code below we show all the above mentioned steps plus other minor steps. The output figure is saved in directory `figures` with name `LAD_<treename>_<voxel_size>.png` and shown in Fig. {numref}`ladplot`."
   ]
  },
  {
   "cell_type": "code",
   "execution_count": 360,
   "metadata": {},
   "outputs": [],
   "source": [
    "downsample = 0.05\n",
    "voxel_size = 0.2"
   ]
  },
  {
   "cell_type": "code",
   "execution_count": 38,
   "metadata": {},
   "outputs": [],
   "source": [
    "def runall(downsample, voxel_size):\n",
    "    \n",
    "    if downsample is not None:\n",
    "        resdir = os.path.join(_data, mockname, 'lad_%s' %(str(downsample)))\n",
    "        inds_file = os.path.join(resdir, 'inds.npy')\n",
    "        inds = np.load(inds_file)\n",
    "        print('downsample:', downsample)\n",
    "    else:\n",
    "        inds = np.ones(len(df), dtype=bool)\n",
    "        resdir = os.path.join(_data, mockname, 'lad')\n",
    "\n",
    "    isfigures = os.path.join(resdir, 'figures')\n",
    "    if not os.path.exists(isfigures):\n",
    "        os.makedirs(isfigures)\n",
    "\n",
    "    print('voxel_size:', voxel_size)\n",
    "\n",
    "    for key, val in trees.items():\n",
    "\n",
    "        inPR = (val) & (leaves) & (inds)\n",
    "        pointsPR = POINTS[inPR]\n",
    "        sensorsPR = SENSORS[inPR]\n",
    "\n",
    "        m3att = lad.compute_attributes(pointsPR, resdir, voxel_size, key)\n",
    "        # get in down sample boolean array for LPC size\n",
    "        inds_ = inds[(val) & (leaves)]\n",
    "        lias, ws = lad.downsample_lia(mockname, key, inds_)\n",
    "        voxk = lad.get_voxk(pointsPR, voxel_size)\n",
    "        bia = lad.get_bia(pointsPR, sensorsPR)\n",
    "        meshfile = lad.get_meshfile(mockname)\n",
    "\n",
    "        figext = '%s_%s' %(key, str(voxel_size))\n",
    "        # figext = None\n",
    "        alphas_k = lad.alpha_k(bia, voxk, lias, ws, resdir, meshfile, figext=figext, \n",
    "                                klia=False, use_true_lia=True)\n",
    "\n",
    "        kmax = m3att.shape[2]\n",
    "        kbins = int(kmax/15)\n",
    "        print(kbins)\n",
    "        \n",
    "        # lads_min = lad.get_LADS(m3att, voxel_size, kbins, alphas_k[:,2], 1)\n",
    "        # lads_max = lad.get_LADS(m3att, voxel_size, kbins, alphas_k[:,4], 1)\n",
    "        lads_mid = lad.get_LADS(m3att, voxel_size, kbins, alphas_k[:,6], 1)\n",
    "        lads_0 = lad.get_LADS(m3att, voxel_size, kbins, alphas_k[:,6]*0+1, 1.0)\n",
    "        lads_mesh = lad.get_LADS_mesh(meshfile, voxel_size, kbins, kmax)\n",
    "\n",
    "        lads = {'Truth':lads_mesh, 'Correction Mean':lads_mid, 'No Correction':lads_0}\n",
    "        clai = lad.get_clai(m3att, alphas_k)\n",
    "        attributes_file = os.path.join(resdir, 'm3s_%s_%s.npy' %(key, str(voxel_size)))\n",
    "        if os.path.isfile(attributes_file):\n",
    "            RT = 'Y'\n",
    "        else:\n",
    "            RT = 'N'\n",
    "            \n",
    "        text = {'tree':key, 'VS':voxel_size, 'DS':downsample, 'RT':RT, 'CLAI':np.round(clai, 3)}\n",
    "        txt = []\n",
    "        for key, val in text.items():\n",
    "            txt.append('%s=%s \\n' %(key, str(val)))\n",
    "        text = (' ').join(txt)\n",
    "\n",
    "        savefig = os.path.join(resdir, 'figures','LAD_%s.png' %(figext))\n",
    "        figures.plot_lads(lads, text, savefig=savefig)\n",
    "\n"
   ]
  },
  {
   "cell_type": "code",
   "execution_count": 46,
   "metadata": {},
   "outputs": [
    {
     "name": "stdout",
     "output_type": "stream",
     "text": [
      "voxel_size: 0.05\n",
      "max --> [189, 184, 119]\n",
      "min --> [0, 0, 0]\n",
      "No ray tracing for tree tree_0 and voxel size 0.050\n",
      "foliage voxel dimensions: \t (190, 185, 120)\n",
      "ray tracker voxel dimensions: \t (190, 185, 120)\n",
      "Number of voxels ocupied by points cloud: \t 50318\n",
      "Number of voxels ocupied by beam points cloud: \t 4218000\n",
      "Total number of voxels in plant regions: \t 4218000\n",
      "Number of voxels with attribute 1: \t 50318\n",
      "Number of voxels with attribute 2: \t 4167682\n",
      "Number of voxels with attribute 3: \t 0\n",
      "8\n"
     ]
    }
   ],
   "source": [
    "downsample = None\n",
    "voxel_size = 0.05\n",
    "\n",
    "runall(downsample, voxel_size)"
   ]
  },
  {
   "cell_type": "code",
   "execution_count": 20,
   "metadata": {},
   "outputs": [
    {
     "name": "stdout",
     "output_type": "stream",
     "text": [
      "inds file already exists for donwnsample of 0.010 at /Users/omar/projects/planttech/data/test/lad_0.01/inds.npy\n",
      "max --> [178, 160, 114]\n",
      "min --> [0, 0, 0]\n"
     ]
    },
    {
     "name": "stderr",
     "output_type": "stream",
     "text": [
      "1564it [01:13, 21.19it/s]\n"
     ]
    },
    {
     "name": "stdout",
     "output_type": "stream",
     "text": [
      "tot vox: \t 3314185\n",
      "voxels hitted: \t 140412\n",
      "Percentage of voxels hitted by beam: 0.04\n",
      "voxels hitted (OLD): \t 141629\n",
      "Percentage of voxels hitted by beam (OLD): 0.04\n",
      "inds file already exists for donwnsample of 0.010 at /Users/omar/projects/planttech/data/test/lad_0.01/inds.npy\n",
      "max --> [111, 100, 71]\n",
      "min --> [0, 0, 0]\n"
     ]
    },
    {
     "name": "stderr",
     "output_type": "stream",
     "text": [
      "1564it [00:42, 37.01it/s]\n"
     ]
    },
    {
     "name": "stdout",
     "output_type": "stream",
     "text": [
      "tot vox: \t 814464\n",
      "voxels hitted: \t 83432\n",
      "Percentage of voxels hitted by beam: 0.10\n",
      "voxels hitted (OLD): \t 85464\n",
      "Percentage of voxels hitted by beam (OLD): 0.10\n",
      "inds file already exists for donwnsample of 0.050 at /Users/omar/projects/planttech/data/test/lad_0.05/inds.npy\n",
      "max --> [179, 182, 116]\n",
      "min --> [0, 0, 0]\n"
     ]
    },
    {
     "name": "stderr",
     "output_type": "stream",
     "text": [
      "7672it [07:01, 18.20it/s]\n"
     ]
    },
    {
     "name": "stdout",
     "output_type": "stream",
     "text": [
      "tot vox: \t 3853980\n",
      "voxels hitted: \t 705260\n",
      "Percentage of voxels hitted by beam: 0.18\n",
      "voxels hitted (OLD): \t 720020\n",
      "Percentage of voxels hitted by beam (OLD): 0.19\n",
      "inds file already exists for donwnsample of 0.050 at /Users/omar/projects/planttech/data/test/lad_0.05/inds.npy\n",
      "max --> [112, 114, 73]\n",
      "min --> [0, 0, 0]\n"
     ]
    },
    {
     "name": "stderr",
     "output_type": "stream",
     "text": [
      "7672it [03:57, 32.37it/s]\n"
     ]
    },
    {
     "name": "stdout",
     "output_type": "stream",
     "text": [
      "tot vox: \t 961630\n",
      "voxels hitted: \t 361596\n",
      "Percentage of voxels hitted by beam: 0.38\n",
      "voxels hitted (OLD): \t 379603\n",
      "Percentage of voxels hitted by beam (OLD): 0.39\n",
      "inds file already exists for donwnsample of 0.100 at /Users/omar/projects/planttech/data/test/lad_0.1/inds.npy\n",
      "max --> [187, 183, 118]\n",
      "min --> [0, 0, 0]\n"
     ]
    },
    {
     "name": "stderr",
     "output_type": "stream",
     "text": [
      "14986it [14:18, 17.46it/s]\n"
     ]
    },
    {
     "name": "stdout",
     "output_type": "stream",
     "text": [
      "tot vox: \t 4116448\n",
      "voxels hitted: \t 1275224\n",
      "Percentage of voxels hitted by beam: 0.31\n",
      "voxels hitted (OLD): \t 1314624\n",
      "Percentage of voxels hitted by beam (OLD): 0.32\n",
      "inds file already exists for donwnsample of 0.100 at /Users/omar/projects/planttech/data/test/lad_0.1/inds.npy\n",
      "max --> [117, 115, 73]\n",
      "min --> [0, 0, 0]\n"
     ]
    },
    {
     "name": "stderr",
     "output_type": "stream",
     "text": [
      "14986it [07:52, 31.72it/s]\n"
     ]
    },
    {
     "name": "stdout",
     "output_type": "stream",
     "text": [
      "tot vox: \t 1012912\n",
      "voxels hitted: \t 554679\n",
      "Percentage of voxels hitted by beam: 0.55\n",
      "voxels hitted (OLD): \t 591534\n",
      "Percentage of voxels hitted by beam (OLD): 0.58\n",
      "inds file already exists for donwnsample of 0.150 at /Users/omar/projects/planttech/data/test/lad_0.15/inds.npy\n",
      "max --> [187, 183, 117]\n",
      "min --> [0, 0, 0]\n"
     ]
    },
    {
     "name": "stderr",
     "output_type": "stream",
     "text": [
      "21889it [21:23, 17.06it/s]\n"
     ]
    },
    {
     "name": "stdout",
     "output_type": "stream",
     "text": [
      "tot vox: \t 4081856\n",
      "voxels hitted: \t 1682325\n",
      "Percentage of voxels hitted by beam: 0.41\n",
      "voxels hitted (OLD): \t 1752958\n",
      "Percentage of voxels hitted by beam (OLD): 0.43\n",
      "inds file already exists for donwnsample of 0.150 at /Users/omar/projects/planttech/data/test/lad_0.15/inds.npy\n",
      "max --> [117, 114, 73]\n",
      "min --> [0, 0, 0]\n"
     ]
    },
    {
     "name": "stderr",
     "output_type": "stream",
     "text": [
      "21889it [11:57, 30.50it/s]\n"
     ]
    },
    {
     "name": "stdout",
     "output_type": "stream",
     "text": [
      "tot vox: \t 1004180\n",
      "voxels hitted: \t 652561\n",
      "Percentage of voxels hitted by beam: 0.65\n",
      "voxels hitted (OLD): \t 705923\n",
      "Percentage of voxels hitted by beam (OLD): 0.70\n",
      "inds file already exists for donwnsample of 0.200 at /Users/omar/projects/planttech/data/test/lad_0.2/inds.npy\n",
      "max --> [188, 182, 116]\n",
      "min --> [0, 0, 0]\n"
     ]
    },
    {
     "name": "stderr",
     "output_type": "stream",
     "text": [
      "28463it [27:48, 17.06it/s]\n"
     ]
    },
    {
     "name": "stdout",
     "output_type": "stream",
     "text": [
      "tot vox: \t 4046679\n",
      "voxels hitted: \t 1963773\n",
      "Percentage of voxels hitted by beam: 0.49\n",
      "voxels hitted (OLD): \t 2052638\n",
      "Percentage of voxels hitted by beam (OLD): 0.51\n",
      "inds file already exists for donwnsample of 0.200 at /Users/omar/projects/planttech/data/test/lad_0.2/inds.npy\n",
      "max --> [117, 113, 73]\n",
      "min --> [0, 0, 0]\n"
     ]
    },
    {
     "name": "stderr",
     "output_type": "stream",
     "text": [
      "28463it [15:36, 30.40it/s]\n"
     ]
    },
    {
     "name": "stdout",
     "output_type": "stream",
     "text": [
      "tot vox: \t 995448\n",
      "voxels hitted: \t 703584\n",
      "Percentage of voxels hitted by beam: 0.71\n",
      "voxels hitted (OLD): \t 763198\n",
      "Percentage of voxels hitted by beam (OLD): 0.77\n",
      "inds file already exists for donwnsample of 0.300 at /Users/omar/projects/planttech/data/test/lad_0.3/inds.npy\n",
      "max --> [187, 184, 119]\n",
      "min --> [0, 0, 0]\n"
     ]
    },
    {
     "name": "stderr",
     "output_type": "stream",
     "text": [
      "40779it [1:12:41,  9.35it/s]\n"
     ]
    },
    {
     "name": "stdout",
     "output_type": "stream",
     "text": [
      "tot vox: \t 4173600\n",
      "voxels hitted: \t 2476421\n",
      "Percentage of voxels hitted by beam: 0.59\n",
      "voxels hitted (OLD): \t 2596715\n",
      "Percentage of voxels hitted by beam (OLD): 0.62\n",
      "inds file already exists for donwnsample of 0.300 at /Users/omar/projects/planttech/data/test/lad_0.3/inds.npy\n",
      "max --> [117, 115, 74]\n",
      "min --> [0, 0, 0]\n"
     ]
    },
    {
     "name": "stderr",
     "output_type": "stream",
     "text": [
      "40779it [35:21, 19.22it/s]\n"
     ]
    },
    {
     "name": "stdout",
     "output_type": "stream",
     "text": [
      "tot vox: \t 1026600\n",
      "voxels hitted: \t 788817\n",
      "Percentage of voxels hitted by beam: 0.77\n",
      "voxels hitted (OLD): \t 854805\n",
      "Percentage of voxels hitted by beam (OLD): 0.83\n"
     ]
    }
   ],
   "source": [
    "for DS in [0.01, 0.05, 0.1, 0.15, 0.2, 0.3]:\n",
    "    for VS in [0.05, 0.08]:\n",
    "\n",
    "        get_rays(DS, VS)"
   ]
  },
  {
   "cell_type": "code",
   "execution_count": 7,
   "metadata": {},
   "outputs": [
    {
     "name": "stdout",
     "output_type": "stream",
     "text": [
      "inds file already exists for donwnsample of 0.900 at /Users/omar/projects/planttech/data/test/lad_0.9/inds.npy\n",
      "max --> [118, 115, 75]\n",
      "min --> [0, 0, 0]\n"
     ]
    },
    {
     "name": "stderr",
     "output_type": "stream",
     "text": [
      "93644it [2:03:46, 12.61it/s] \n"
     ]
    },
    {
     "name": "stdout",
     "output_type": "stream",
     "text": [
      "tot vox: \t 1049104\n",
      "voxels hitted: \t 879681\n",
      "Percentage of voxels hitted by beam: 0.84\n",
      "voxels hitted (OLD): \t 961150\n",
      "Percentage of voxels hitted by beam (OLD): 0.92\n",
      "inds file already exists for donwnsample of 0.900 at /Users/omar/projects/planttech/data/test/lad_0.9/inds.npy\n",
      "max --> [94, 92, 60]\n",
      "min --> [0, 0, 0]\n"
     ]
    },
    {
     "name": "stderr",
     "output_type": "stream",
     "text": [
      "93644it [11:28:07,  2.27it/s] \n"
     ]
    },
    {
     "name": "stdout",
     "output_type": "stream",
     "text": [
      "tot vox: \t 538935\n",
      "voxels hitted: \t 450633\n",
      "Percentage of voxels hitted by beam: 0.84\n",
      "voxels hitted (OLD): \t 504497\n",
      "Percentage of voxels hitted by beam (OLD): 0.94\n",
      "inds file already exists for donwnsample of 0.900 at /Users/omar/projects/planttech/data/test/lad_0.9/inds.npy\n",
      "max --> [63, 61, 40]\n",
      "min --> [0, 0, 0]\n"
     ]
    },
    {
     "name": "stderr",
     "output_type": "stream",
     "text": [
      "93644it [1:21:26, 19.16it/s] \n"
     ]
    },
    {
     "name": "stdout",
     "output_type": "stream",
     "text": [
      "tot vox: \t 162688\n",
      "voxels hitted: \t 130686\n",
      "Percentage of voxels hitted by beam: 0.80\n",
      "voxels hitted (OLD): \t 155527\n",
      "Percentage of voxels hitted by beam (OLD): 0.96\n",
      "inds file already exists for donwnsample of 0.900 at /Users/omar/projects/planttech/data/test/lad_0.9/inds.npy\n",
      "max --> [47, 46, 30]\n",
      "min --> [0, 0, 0]\n"
     ]
    },
    {
     "name": "stderr",
     "output_type": "stream",
     "text": [
      "93644it [25:34, 61.02it/s] \n"
     ]
    },
    {
     "name": "stdout",
     "output_type": "stream",
     "text": [
      "tot vox: \t 69936\n",
      "voxels hitted: \t 54234\n",
      "Percentage of voxels hitted by beam: 0.78\n",
      "voxels hitted (OLD): \t 67534\n",
      "Percentage of voxels hitted by beam (OLD): 0.97\n"
     ]
    }
   ],
   "source": [
    "for DS in [0.9]:\n",
    "    for VS in [0.08, 0.1, 0.15, 0.2]:\n",
    "\n",
    "        get_rays(DS, VS)"
   ]
  },
  {
   "cell_type": "code",
   "execution_count": 538,
   "metadata": {},
   "outputs": [
    {
     "name": "stdout",
     "output_type": "stream",
     "text": [
      "inds file already exists for donwnsample of 0.100 at /Users/omar/projects/planttech/data/test/lad_0.1/inds.npy\n",
      "max --> [47, 46, 29]\n",
      "min --> [0, 0, 0]\n"
     ]
    },
    {
     "name": "stderr",
     "output_type": "stream",
     "text": [
      "14986it [03:46, 66.03it/s]"
     ]
    },
    {
     "name": "stdout",
     "output_type": "stream",
     "text": [
      "tot vox: \t 67680\n",
      "voxels hitted: \t 52379\n",
      "Percentage of voxels hitted by beam: 0.77\n",
      "voxels hitted (OLD): \t 61933\n",
      "Percentage of voxels hitted by beam (OLD): 0.92\n"
     ]
    },
    {
     "name": "stderr",
     "output_type": "stream",
     "text": [
      "\n"
     ]
    }
   ],
   "source": [
    "downsample = 0.10\n",
    "voxel_size = 0.2\n",
    "sample = None\n",
    "show = False\n",
    "\n",
    "get_rays(downsample, voxel_size, sample, show)"
   ]
  },
  {
   "cell_type": "code",
   "execution_count": 539,
   "metadata": {},
   "outputs": [
    {
     "name": "stdout",
     "output_type": "stream",
     "text": [
      "downsample: 0.1\n",
      "voxel_size: 0.2\n",
      "max --> [47, 46, 29]\n",
      "min --> [0, 0, 0]\n",
      "foliage voxel dimensions: \t (48, 47, 30)\n",
      "ray tracker voxel dimensions: \t (48, 47, 30)\n",
      "Number of voxels ocupied by points cloud: \t 3496\n",
      "Number of voxels ocupied by beam points cloud: \t 52379\n",
      "Total number of voxels in plant regions: \t 67680\n",
      "Number of voxels with attribute 1: \t 3496\n",
      "Number of voxels with attribute 2: \t 52379\n",
      "Number of voxels with attribute 3: \t 11805\n",
      "2\n"
     ]
    },
    {
     "name": "stderr",
     "output_type": "stream",
     "text": [
      "qt.qpa.backingstore: Back buffer dpr of 2 doesn't match <_NSViewBackingLayer: 0x7fb2c9b9ca10> contents scale of 1 - updating layer to match.\n",
      "qt.qpa.backingstore: Back buffer dpr of 1 doesn't match <_NSViewBackingLayer: 0x7fb2c9b9ca10> contents scale of 2 - updating layer to match.\n",
      "qt.qpa.backingstore: Back buffer dpr of 1 doesn't match <_NSViewBackingLayer: 0x7fb2dbc1ae60> contents scale of 2 - updating layer to match.\n",
      "qt.qpa.backingstore: Back buffer dpr of 2 doesn't match <_NSViewBackingLayer: 0x7fb2dbc1ae60> contents scale of 1 - updating layer to match.\n",
      "qt.qpa.backingstore: Back buffer dpr of 2 doesn't match <_NSViewBackingLayer: 0x7fb2dbc1ae60> contents scale of 1 - updating layer to match.\n",
      "qt.qpa.backingstore: Back buffer dpr of 1 doesn't match <_NSViewBackingLayer: 0x7fb2dbc1ae60> contents scale of 2 - updating layer to match.\n",
      "qt.qpa.backingstore: Back buffer dpr of 1 doesn't match <_NSViewBackingLayer: 0x7fb2c9b9ca10> contents scale of 2 - updating layer to match.\n",
      "qt.qpa.backingstore: Back buffer dpr of 2 doesn't match <_NSViewBackingLayer: 0x7fb2c9b9ca10> contents scale of 1 - updating layer to match.\n",
      "qt.qpa.backingstore: Back buffer dpr of 2 doesn't match <_NSViewBackingLayer: 0x7fb2c9b9ca10> contents scale of 1 - updating layer to match.\n",
      "qt.qpa.backingstore: Back buffer dpr of 1 doesn't match <_NSViewBackingLayer: 0x7fb2c9b9ca10> contents scale of 2 - updating layer to match.\n",
      "qt.qpa.backingstore: Back buffer dpr of 1 doesn't match <_NSViewBackingLayer: 0x7fb2c9b9ca10> contents scale of 2 - updating layer to match.\n",
      "qt.qpa.backingstore: Back buffer dpr of 2 doesn't match <_NSViewBackingLayer: 0x7fb2c9b9ca10> contents scale of 1 - updating layer to match.\n"
     ]
    }
   ],
   "source": [
    "runall(downsample, voxel_size)"
   ]
  },
  {
   "cell_type": "code",
   "execution_count": null,
   "metadata": {},
   "outputs": [
    {
     "name": "stdout",
     "output_type": "stream",
     "text": [
      "downsample: 0.05\n",
      "voxel_size: 0.2\n",
      "max --> [45, 46, 29]\n",
      "min --> [0, 0, 0]\n",
      "foliage voxel dimensions: \t (46, 47, 30)\n",
      "ray tracker voxel dimensions: \t (46, 47, 30)\n",
      "Number of voxels ocupied by points cloud: \t 2342\n",
      "Number of voxels ocupied by beam points cloud: \t 48100\n",
      "Total number of voxels in plant regions: \t 64860\n",
      "Number of voxels with attribute 1: \t 2342\n",
      "Number of voxels with attribute 2: \t 48100\n",
      "Number of voxels with attribute 3: \t 14418\n",
      "2\n"
     ]
    },
    {
     "name": "stderr",
     "output_type": "stream",
     "text": [
      "qt.qpa.backingstore: Back buffer dpr of 2 doesn't match <_NSViewBackingLayer: 0x7fb2dbc1ae60> contents scale of 1 - updating layer to match.\n",
      "qt.qpa.backingstore: Back buffer dpr of 1 doesn't match <_NSViewBackingLayer: 0x7fb2dbc1ae60> contents scale of 2 - updating layer to match.\n"
     ]
    }
   ],
   "source": [
    "runall(downsample, voxel_size)"
   ]
  },
  {
   "cell_type": "markdown",
   "metadata": {},
   "source": [
    "## Ni and Np variation"
   ]
  },
  {
   "cell_type": "code",
   "execution_count": 8,
   "metadata": {},
   "outputs": [
    {
     "name": "stdout",
     "output_type": "stream",
     "text": [
      "downsample: 0.01\n",
      "voxel_size: 0.05\n",
      "max --> [178, 160, 114]\n",
      "min --> [0, 0, 0]\n",
      "foliage voxel dimensions: \t (179, 161, 115)\n",
      "ray tracker voxel dimensions: \t (179, 161, 115)\n",
      "Number of voxels ocupied by points cloud: \t 670\n",
      "Number of voxels ocupied by beam points cloud: \t 140412\n",
      "Total number of voxels in plant regions: \t 3314185\n",
      "Number of voxels with attribute 1: \t 670\n",
      "Number of voxels with attribute 2: \t 140412\n",
      "Number of voxels with attribute 3: \t 3173103\n",
      "downsample: 0.01\n",
      "voxel_size: 0.08\n",
      "max --> [111, 100, 71]\n",
      "min --> [0, 0, 0]\n",
      "foliage voxel dimensions: \t (112, 101, 72)\n",
      "ray tracker voxel dimensions: \t (112, 101, 72)\n",
      "Number of voxels ocupied by points cloud: \t 663\n",
      "Number of voxels ocupied by beam points cloud: \t 83432\n",
      "Total number of voxels in plant regions: \t 814464\n",
      "Number of voxels with attribute 1: \t 663\n",
      "Number of voxels with attribute 2: \t 83432\n",
      "Number of voxels with attribute 3: \t 730369\n",
      "downsample: 0.01\n",
      "voxel_size: 0.1\n",
      "max --> [89, 80, 57]\n",
      "min --> [0, 0, 0]\n",
      "foliage voxel dimensions: \t (90, 81, 58)\n",
      "ray tracker voxel dimensions: \t (90, 81, 58)\n",
      "Number of voxels ocupied by points cloud: \t 657\n",
      "Number of voxels ocupied by beam points cloud: \t 64972\n",
      "Total number of voxels in plant regions: \t 422820\n",
      "Number of voxels with attribute 1: \t 657\n",
      "Number of voxels with attribute 2: \t 64972\n",
      "Number of voxels with attribute 3: \t 357191\n",
      "downsample: 0.01\n",
      "voxel_size: 0.15\n",
      "max --> [59, 53, 38]\n",
      "min --> [0, 0, 0]\n",
      "foliage voxel dimensions: \t (60, 54, 39)\n",
      "ray tracker voxel dimensions: \t (60, 54, 39)\n",
      "Number of voxels ocupied by points cloud: \t 642\n",
      "Number of voxels ocupied by beam points cloud: \t 37307\n",
      "Total number of voxels in plant regions: \t 126360\n",
      "Number of voxels with attribute 1: \t 642\n",
      "Number of voxels with attribute 2: \t 37307\n",
      "Number of voxels with attribute 3: \t 88411\n",
      "downsample: 0.01\n",
      "voxel_size: 0.2\n",
      "max --> [45, 40, 29]\n",
      "min --> [0, 0, 0]\n",
      "foliage voxel dimensions: \t (46, 41, 30)\n",
      "ray tracker voxel dimensions: \t (46, 41, 30)\n",
      "Number of voxels ocupied by points cloud: \t 612\n",
      "Number of voxels ocupied by beam points cloud: \t 24094\n",
      "Total number of voxels in plant regions: \t 56580\n",
      "Number of voxels with attribute 1: \t 612\n",
      "Number of voxels with attribute 2: \t 24094\n",
      "Number of voxels with attribute 3: \t 31874\n",
      "downsample: 0.05\n",
      "voxel_size: 0.05\n",
      "max --> [179, 182, 116]\n",
      "min --> [0, 0, 0]\n",
      "foliage voxel dimensions: \t (180, 183, 117)\n",
      "ray tracker voxel dimensions: \t (180, 183, 117)\n",
      "Number of voxels ocupied by points cloud: \t 3289\n",
      "Number of voxels ocupied by beam points cloud: \t 705260\n",
      "Total number of voxels in plant regions: \t 3853980\n",
      "Number of voxels with attribute 1: \t 3289\n",
      "Number of voxels with attribute 2: \t 705260\n",
      "Number of voxels with attribute 3: \t 3145431\n",
      "downsample: 0.05\n",
      "voxel_size: 0.08\n",
      "max --> [112, 114, 73]\n",
      "min --> [0, 0, 0]\n",
      "foliage voxel dimensions: \t (113, 115, 74)\n",
      "ray tracker voxel dimensions: \t (113, 115, 74)\n",
      "Number of voxels ocupied by points cloud: \t 3171\n",
      "Number of voxels ocupied by beam points cloud: \t 361596\n",
      "Total number of voxels in plant regions: \t 961630\n",
      "Number of voxels with attribute 1: \t 3171\n",
      "Number of voxels with attribute 2: \t 361596\n",
      "Number of voxels with attribute 3: \t 596863\n",
      "downsample: 0.05\n",
      "voxel_size: 0.1\n",
      "max --> [90, 91, 58]\n",
      "min --> [0, 0, 0]\n",
      "foliage voxel dimensions: \t (91, 92, 59)\n",
      "ray tracker voxel dimensions: \t (91, 92, 59)\n",
      "Number of voxels ocupied by points cloud: \t 3055\n",
      "Number of voxels ocupied by beam points cloud: \t 242027\n",
      "Total number of voxels in plant regions: \t 493948\n",
      "Number of voxels with attribute 1: \t 3055\n",
      "Number of voxels with attribute 2: \t 242027\n",
      "Number of voxels with attribute 3: \t 248866\n",
      "downsample: 0.05\n",
      "voxel_size: 0.15\n",
      "max --> [60, 61, 39]\n",
      "min --> [0, 0, 0]\n",
      "foliage voxel dimensions: \t (61, 62, 40)\n",
      "ray tracker voxel dimensions: \t (61, 62, 40)\n",
      "Number of voxels ocupied by points cloud: \t 2736\n",
      "Number of voxels ocupied by beam points cloud: \t 101789\n",
      "Total number of voxels in plant regions: \t 151280\n",
      "Number of voxels with attribute 1: \t 2736\n",
      "Number of voxels with attribute 2: \t 101789\n",
      "Number of voxels with attribute 3: \t 46755\n",
      "downsample: 0.05\n",
      "voxel_size: 0.2\n",
      "max --> [45, 46, 29]\n",
      "min --> [0, 0, 0]\n",
      "foliage voxel dimensions: \t (46, 47, 30)\n",
      "ray tracker voxel dimensions: \t (46, 47, 30)\n",
      "Number of voxels ocupied by points cloud: \t 2342\n",
      "Number of voxels ocupied by beam points cloud: \t 48100\n",
      "Total number of voxels in plant regions: \t 64860\n",
      "Number of voxels with attribute 1: \t 2342\n",
      "Number of voxels with attribute 2: \t 48100\n",
      "Number of voxels with attribute 3: \t 14418\n",
      "downsample: 0.1\n",
      "voxel_size: 0.05\n",
      "max --> [187, 183, 118]\n",
      "min --> [0, 0, 0]\n",
      "foliage voxel dimensions: \t (188, 184, 119)\n",
      "ray tracker voxel dimensions: \t (188, 184, 119)\n",
      "Number of voxels ocupied by points cloud: \t 6200\n",
      "Number of voxels ocupied by beam points cloud: \t 1275224\n",
      "Total number of voxels in plant regions: \t 4116448\n",
      "Number of voxels with attribute 1: \t 6200\n",
      "Number of voxels with attribute 2: \t 1275224\n",
      "Number of voxels with attribute 3: \t 2835024\n",
      "downsample: 0.1\n",
      "voxel_size: 0.08\n",
      "max --> [117, 115, 73]\n",
      "min --> [0, 0, 0]\n",
      "foliage voxel dimensions: \t (118, 116, 74)\n",
      "ray tracker voxel dimensions: \t (118, 116, 74)\n",
      "Number of voxels ocupied by points cloud: \t 5823\n",
      "Number of voxels ocupied by beam points cloud: \t 554679\n",
      "Total number of voxels in plant regions: \t 1012912\n",
      "Number of voxels with attribute 1: \t 5823\n",
      "Number of voxels with attribute 2: \t 554679\n",
      "Number of voxels with attribute 3: \t 452410\n",
      "downsample: 0.1\n",
      "voxel_size: 0.1\n",
      "max --> [93, 92, 59]\n",
      "min --> [0, 0, 0]\n",
      "foliage voxel dimensions: \t (94, 93, 60)\n",
      "ray tracker voxel dimensions: \t (94, 93, 60)\n",
      "Number of voxels ocupied by points cloud: \t 5454\n",
      "Number of voxels ocupied by beam points cloud: \t 342718\n",
      "Total number of voxels in plant regions: \t 524520\n",
      "Number of voxels with attribute 1: \t 5454\n",
      "Number of voxels with attribute 2: \t 342718\n",
      "Number of voxels with attribute 3: \t 176348\n",
      "downsample: 0.1\n",
      "voxel_size: 0.15\n",
      "max --> [62, 61, 39]\n",
      "min --> [0, 0, 0]\n",
      "foliage voxel dimensions: \t (63, 62, 40)\n",
      "ray tracker voxel dimensions: \t (63, 62, 40)\n",
      "Number of voxels ocupied by points cloud: \t 4494\n",
      "Number of voxels ocupied by beam points cloud: \t 118726\n",
      "Total number of voxels in plant regions: \t 156240\n",
      "Number of voxels with attribute 1: \t 4494\n",
      "Number of voxels with attribute 2: \t 118726\n",
      "Number of voxels with attribute 3: \t 33020\n",
      "downsample: 0.1\n",
      "voxel_size: 0.2\n",
      "max --> [47, 46, 29]\n",
      "min --> [0, 0, 0]\n",
      "foliage voxel dimensions: \t (48, 47, 30)\n",
      "ray tracker voxel dimensions: \t (48, 47, 30)\n",
      "Number of voxels ocupied by points cloud: \t 3496\n",
      "Number of voxels ocupied by beam points cloud: \t 52379\n",
      "Total number of voxels in plant regions: \t 67680\n",
      "Number of voxels with attribute 1: \t 3496\n",
      "Number of voxels with attribute 2: \t 52379\n",
      "Number of voxels with attribute 3: \t 11805\n",
      "downsample: 0.15\n",
      "voxel_size: 0.05\n",
      "max --> [187, 183, 117]\n",
      "min --> [0, 0, 0]\n",
      "foliage voxel dimensions: \t (188, 184, 118)\n",
      "ray tracker voxel dimensions: \t (188, 184, 118)\n",
      "Number of voxels ocupied by points cloud: \t 9106\n",
      "Number of voxels ocupied by beam points cloud: \t 1682325\n",
      "Total number of voxels in plant regions: \t 4081856\n",
      "Number of voxels with attribute 1: \t 9106\n",
      "Number of voxels with attribute 2: \t 1682325\n",
      "Number of voxels with attribute 3: \t 2390425\n",
      "downsample: 0.15\n",
      "voxel_size: 0.08\n",
      "max --> [117, 114, 73]\n",
      "min --> [0, 0, 0]\n",
      "foliage voxel dimensions: \t (118, 115, 74)\n",
      "ray tracker voxel dimensions: \t (118, 115, 74)\n",
      "Number of voxels ocupied by points cloud: \t 8324\n",
      "Number of voxels ocupied by beam points cloud: \t 652561\n",
      "Total number of voxels in plant regions: \t 1004180\n",
      "Number of voxels with attribute 1: \t 8324\n",
      "Number of voxels with attribute 2: \t 652561\n",
      "Number of voxels with attribute 3: \t 343295\n",
      "downsample: 0.15\n",
      "voxel_size: 0.1\n",
      "max --> [93, 92, 59]\n",
      "min --> [0, 0, 0]\n",
      "foliage voxel dimensions: \t (94, 93, 60)\n",
      "ray tracker voxel dimensions: \t (94, 93, 60)\n",
      "Number of voxels ocupied by points cloud: \t 7647\n",
      "Number of voxels ocupied by beam points cloud: \t 380894\n",
      "Total number of voxels in plant regions: \t 524520\n",
      "Number of voxels with attribute 1: \t 7647\n",
      "Number of voxels with attribute 2: \t 380894\n",
      "Number of voxels with attribute 3: \t 135979\n",
      "downsample: 0.15\n",
      "voxel_size: 0.15\n",
      "max --> [62, 61, 39]\n",
      "min --> [0, 0, 0]\n",
      "foliage voxel dimensions: \t (63, 62, 40)\n",
      "ray tracker voxel dimensions: \t (63, 62, 40)\n",
      "Number of voxels ocupied by points cloud: \t 5747\n",
      "Number of voxels ocupied by beam points cloud: \t 123060\n",
      "Total number of voxels in plant regions: \t 156240\n",
      "Number of voxels with attribute 1: \t 5747\n",
      "Number of voxels with attribute 2: \t 123060\n",
      "Number of voxels with attribute 3: \t 27433\n",
      "downsample: 0.15\n",
      "voxel_size: 0.2\n",
      "max --> [47, 46, 29]\n",
      "min --> [0, 0, 0]\n",
      "foliage voxel dimensions: \t (48, 47, 30)\n",
      "ray tracker voxel dimensions: \t (48, 47, 30)\n",
      "Number of voxels ocupied by points cloud: \t 4352\n",
      "Number of voxels ocupied by beam points cloud: \t 52639\n",
      "Total number of voxels in plant regions: \t 67680\n",
      "Number of voxels with attribute 1: \t 4352\n",
      "Number of voxels with attribute 2: \t 52639\n",
      "Number of voxels with attribute 3: \t 10689\n",
      "downsample: 0.2\n",
      "voxel_size: 0.05\n",
      "max --> [188, 182, 116]\n",
      "min --> [0, 0, 0]\n",
      "foliage voxel dimensions: \t (189, 183, 117)\n",
      "ray tracker voxel dimensions: \t (189, 183, 117)\n",
      "Number of voxels ocupied by points cloud: \t 11681\n",
      "Number of voxels ocupied by beam points cloud: \t 1963773\n",
      "Total number of voxels in plant regions: \t 4046679\n",
      "Number of voxels with attribute 1: \t 11681\n",
      "Number of voxels with attribute 2: \t 1963773\n",
      "Number of voxels with attribute 3: \t 2071225\n",
      "downsample: 0.2\n",
      "voxel_size: 0.08\n",
      "max --> [117, 113, 73]\n",
      "min --> [0, 0, 0]\n",
      "foliage voxel dimensions: \t (118, 114, 74)\n",
      "ray tracker voxel dimensions: \t (118, 114, 74)\n",
      "Number of voxels ocupied by points cloud: \t 10314\n",
      "Number of voxels ocupied by beam points cloud: \t 703584\n",
      "Total number of voxels in plant regions: \t 995448\n",
      "Number of voxels with attribute 1: \t 10314\n",
      "Number of voxels with attribute 2: \t 703584\n",
      "Number of voxels with attribute 3: \t 281550\n",
      "downsample: 0.2\n",
      "voxel_size: 0.1\n",
      "max --> [94, 91, 58]\n",
      "min --> [0, 0, 0]\n",
      "foliage voxel dimensions: \t (95, 92, 59)\n",
      "ray tracker voxel dimensions: \t (95, 92, 59)\n",
      "Number of voxels ocupied by points cloud: \t 9238\n",
      "Number of voxels ocupied by beam points cloud: \t 394125\n",
      "Total number of voxels in plant regions: \t 515660\n",
      "Number of voxels with attribute 1: \t 9238\n",
      "Number of voxels with attribute 2: \t 394125\n",
      "Number of voxels with attribute 3: \t 112297\n",
      "downsample: 0.2\n",
      "voxel_size: 0.15\n",
      "max --> [63, 61, 39]\n",
      "min --> [0, 0, 0]\n",
      "foliage voxel dimensions: \t (64, 62, 40)\n",
      "ray tracker voxel dimensions: \t (64, 62, 40)\n",
      "Number of voxels ocupied by points cloud: \t 6723\n",
      "Number of voxels ocupied by beam points cloud: \t 126218\n",
      "Total number of voxels in plant regions: \t 158720\n",
      "Number of voxels with attribute 1: \t 6723\n",
      "Number of voxels with attribute 2: \t 126218\n",
      "Number of voxels with attribute 3: \t 25779\n",
      "downsample: 0.2\n",
      "voxel_size: 0.2\n",
      "max --> [47, 45, 29]\n",
      "min --> [0, 0, 0]\n",
      "foliage voxel dimensions: \t (48, 46, 30)\n",
      "ray tracker voxel dimensions: \t (48, 46, 30)\n",
      "Number of voxels ocupied by points cloud: \t 4845\n",
      "Number of voxels ocupied by beam points cloud: \t 52066\n",
      "Total number of voxels in plant regions: \t 66240\n",
      "Number of voxels with attribute 1: \t 4845\n",
      "Number of voxels with attribute 2: \t 52066\n",
      "Number of voxels with attribute 3: \t 9329\n",
      "downsample: 0.3\n",
      "voxel_size: 0.05\n",
      "max --> [187, 184, 119]\n",
      "min --> [0, 0, 0]\n",
      "foliage voxel dimensions: \t (188, 185, 120)\n",
      "ray tracker voxel dimensions: \t (188, 185, 120)\n",
      "Number of voxels ocupied by points cloud: \t 16077\n",
      "Number of voxels ocupied by beam points cloud: \t 2476421\n",
      "Total number of voxels in plant regions: \t 4173600\n",
      "Number of voxels with attribute 1: \t 16077\n",
      "Number of voxels with attribute 2: \t 2476421\n",
      "Number of voxels with attribute 3: \t 1681102\n",
      "downsample: 0.3\n",
      "voxel_size: 0.08\n",
      "max --> [117, 115, 74]\n",
      "min --> [0, 0, 0]\n",
      "foliage voxel dimensions: \t (118, 116, 75)\n",
      "ray tracker voxel dimensions: \t (118, 116, 75)\n",
      "Number of voxels ocupied by points cloud: \t 13639\n",
      "Number of voxels ocupied by beam points cloud: \t 788817\n",
      "Total number of voxels in plant regions: \t 1026600\n",
      "Number of voxels with attribute 1: \t 13639\n",
      "Number of voxels with attribute 2: \t 788817\n",
      "Number of voxels with attribute 3: \t 224144\n",
      "downsample: 0.3\n",
      "voxel_size: 0.1\n",
      "max --> [94, 92, 59]\n",
      "min --> [0, 0, 0]\n",
      "foliage voxel dimensions: \t (95, 93, 60)\n",
      "ray tracker voxel dimensions: \t (95, 93, 60)\n",
      "Number of voxels ocupied by points cloud: \t 11892\n",
      "Number of voxels ocupied by beam points cloud: \t 425445\n",
      "Total number of voxels in plant regions: \t 530100\n",
      "Number of voxels with attribute 1: \t 11892\n",
      "Number of voxels with attribute 2: \t 425445\n",
      "Number of voxels with attribute 3: \t 92763\n",
      "downsample: 0.3\n",
      "voxel_size: 0.15\n",
      "max --> [62, 61, 40]\n",
      "min --> [0, 0, 0]\n",
      "foliage voxel dimensions: \t (63, 62, 41)\n",
      "ray tracker voxel dimensions: \t (63, 62, 41)\n",
      "Number of voxels ocupied by points cloud: \t 7979\n",
      "Number of voxels ocupied by beam points cloud: \t 129449\n",
      "Total number of voxels in plant regions: \t 160146\n",
      "Number of voxels with attribute 1: \t 7979\n",
      "Number of voxels with attribute 2: \t 129449\n",
      "Number of voxels with attribute 3: \t 22718\n",
      "downsample: 0.3\n",
      "voxel_size: 0.2\n",
      "max --> [47, 46, 30]\n",
      "min --> [0, 0, 0]\n",
      "foliage voxel dimensions: \t (48, 47, 31)\n",
      "ray tracker voxel dimensions: \t (48, 47, 31)\n",
      "Number of voxels ocupied by points cloud: \t 5432\n",
      "Number of voxels ocupied by beam points cloud: \t 55046\n",
      "Total number of voxels in plant regions: \t 69936\n",
      "Number of voxels with attribute 1: \t 5432\n",
      "Number of voxels with attribute 2: \t 55046\n",
      "Number of voxels with attribute 3: \t 9458\n",
      "downsample: 0.5\n",
      "voxel_size: 0.05\n",
      "max --> [188, 183, 118]\n",
      "min --> [0, 0, 0]\n",
      "foliage voxel dimensions: \t (189, 184, 119)\n",
      "ray tracker voxel dimensions: \t (189, 184, 119)\n",
      "Number of voxels ocupied by points cloud: \t 23659\n",
      "Number of voxels ocupied by beam points cloud: \t 2912278\n",
      "Total number of voxels in plant regions: \t 4138344\n",
      "Number of voxels with attribute 1: \t 23659\n",
      "Number of voxels with attribute 2: \t 2912278\n",
      "Number of voxels with attribute 3: \t 1202407\n",
      "downsample: 0.5\n",
      "voxel_size: 0.08\n",
      "max --> [118, 115, 74]\n",
      "min --> [0, 0, 0]\n",
      "foliage voxel dimensions: \t (119, 116, 75)\n",
      "ray tracker voxel dimensions: \t (119, 116, 75)\n",
      "Number of voxels ocupied by points cloud: \t 18737\n",
      "Number of voxels ocupied by beam points cloud: \t 838742\n",
      "Total number of voxels in plant regions: \t 1035300\n",
      "Number of voxels with attribute 1: \t 18737\n",
      "Number of voxels with attribute 2: \t 838742\n",
      "Number of voxels with attribute 3: \t 177821\n",
      "downsample: 0.5\n",
      "voxel_size: 0.1\n",
      "max --> [94, 92, 59]\n",
      "min --> [0, 0, 0]\n",
      "foliage voxel dimensions: \t (95, 93, 60)\n",
      "ray tracker voxel dimensions: \t (95, 93, 60)\n",
      "Number of voxels ocupied by points cloud: \t 15625\n",
      "Number of voxels ocupied by beam points cloud: \t 436099\n",
      "Total number of voxels in plant regions: \t 530100\n",
      "Number of voxels with attribute 1: \t 15625\n",
      "Number of voxels with attribute 2: \t 436099\n",
      "Number of voxels with attribute 3: \t 78376\n",
      "downsample: 0.5\n",
      "voxel_size: 0.15\n",
      "max --> [63, 61, 39]\n",
      "min --> [0, 0, 0]\n",
      "foliage voxel dimensions: \t (64, 62, 40)\n",
      "ray tracker voxel dimensions: \t (64, 62, 40)\n",
      "Number of voxels ocupied by points cloud: \t 9452\n",
      "Number of voxels ocupied by beam points cloud: \t 127789\n",
      "Total number of voxels in plant regions: \t 158720\n",
      "Number of voxels with attribute 1: \t 9452\n",
      "Number of voxels with attribute 2: \t 127789\n",
      "Number of voxels with attribute 3: \t 21479\n",
      "downsample: 0.5\n",
      "voxel_size: 0.2\n",
      "max --> [47, 46, 30]\n",
      "min --> [0, 0, 0]\n",
      "foliage voxel dimensions: \t (48, 47, 31)\n",
      "ray tracker voxel dimensions: \t (48, 47, 31)\n",
      "Number of voxels ocupied by points cloud: \t 6119\n",
      "Number of voxels ocupied by beam points cloud: \t 54580\n",
      "Total number of voxels in plant regions: \t 69936\n",
      "Number of voxels with attribute 1: \t 6119\n",
      "Number of voxels with attribute 2: \t 54580\n",
      "Number of voxels with attribute 3: \t 9237\n",
      "downsample: 0.9\n",
      "voxel_size: 0.05\n",
      "max --> [189, 184, 119]\n",
      "min --> [0, 0, 0]\n",
      "foliage voxel dimensions: \t (190, 185, 120)\n",
      "ray tracker voxel dimensions: \t (190, 185, 120)\n",
      "Number of voxels ocupied by points cloud: \t 33639\n",
      "Number of voxels ocupied by beam points cloud: \t 3335607\n",
      "Total number of voxels in plant regions: \t 4218000\n",
      "Number of voxels with attribute 1: \t 33639\n",
      "Number of voxels with attribute 2: \t 3335607\n",
      "Number of voxels with attribute 3: \t 848754\n",
      "downsample: 0.9\n",
      "voxel_size: 0.08\n",
      "max --> [118, 115, 75]\n",
      "min --> [0, 0, 0]\n",
      "foliage voxel dimensions: \t (119, 116, 76)\n",
      "ray tracker voxel dimensions: \t (119, 116, 76)\n",
      "Number of voxels ocupied by points cloud: \t 24310\n",
      "Number of voxels ocupied by beam points cloud: \t 879681\n",
      "Total number of voxels in plant regions: \t 1049104\n",
      "Number of voxels with attribute 1: \t 24310\n",
      "Number of voxels with attribute 2: \t 879681\n",
      "Number of voxels with attribute 3: \t 145113\n",
      "downsample: 0.9\n",
      "voxel_size: 0.1\n",
      "max --> [94, 92, 60]\n",
      "min --> [0, 0, 0]\n",
      "foliage voxel dimensions: \t (95, 93, 61)\n",
      "ray tracker voxel dimensions: \t (95, 93, 61)\n",
      "Number of voxels ocupied by points cloud: \t 19047\n",
      "Number of voxels ocupied by beam points cloud: \t 450633\n",
      "Total number of voxels in plant regions: \t 538935\n",
      "Number of voxels with attribute 1: \t 19047\n",
      "Number of voxels with attribute 2: \t 450633\n",
      "Number of voxels with attribute 3: \t 69255\n",
      "downsample: 0.9\n",
      "voxel_size: 0.15\n",
      "max --> [63, 61, 40]\n",
      "min --> [0, 0, 0]\n",
      "foliage voxel dimensions: \t (64, 62, 41)\n",
      "ray tracker voxel dimensions: \t (64, 62, 41)\n",
      "Number of voxels ocupied by points cloud: \t 10650\n",
      "Number of voxels ocupied by beam points cloud: \t 130686\n",
      "Total number of voxels in plant regions: \t 162688\n",
      "Number of voxels with attribute 1: \t 10650\n",
      "Number of voxels with attribute 2: \t 130686\n",
      "Number of voxels with attribute 3: \t 21352\n",
      "downsample: 0.9\n",
      "voxel_size: 0.2\n",
      "max --> [47, 46, 30]\n",
      "min --> [0, 0, 0]\n",
      "foliage voxel dimensions: \t (48, 47, 31)\n",
      "ray tracker voxel dimensions: \t (48, 47, 31)\n",
      "Number of voxels ocupied by points cloud: \t 6715\n",
      "Number of voxels ocupied by beam points cloud: \t 54234\n",
      "Total number of voxels in plant regions: \t 69936\n",
      "Number of voxels with attribute 1: \t 6715\n",
      "Number of voxels with attribute 2: \t 54234\n",
      "Number of voxels with attribute 3: \t 8987\n"
     ]
    }
   ],
   "source": [
    "results = []\n",
    "\n",
    "for downsample in [0.01, 0.05, 0.1, 0.15, 0.2, 0.3, 0.5, 0.9]:\n",
    "    for voxel_size in [0.05, 0.08, 0.1, 0.15, 0.2]:\n",
    "\n",
    "        if downsample is not None:\n",
    "            resdir = os.path.join(_data, mockname, 'lad_%s' %(str(downsample)))\n",
    "            inds_file = os.path.join(resdir, 'inds.npy')\n",
    "            inds = np.load(inds_file)\n",
    "            print('downsample:', downsample)\n",
    "        else:\n",
    "            inds = np.ones(len(df), dtype=bool)\n",
    "            resdir = os.path.join(_data, mockname, 'lad')\n",
    "\n",
    "        isfigures = os.path.join(resdir, 'figures')\n",
    "        if not os.path.exists(isfigures):\n",
    "            os.makedirs(isfigures)\n",
    "\n",
    "        print('voxel_size:', voxel_size)\n",
    "\n",
    "        for key, val in trees.items():\n",
    "\n",
    "            inPR = (val) & (leaves) & (inds)\n",
    "            pointsPR = POINTS[inPR]\n",
    "            sensorsPR = SENSORS[inPR]\n",
    "\n",
    "            m3att = lad.compute_attributes(pointsPR, resdir, voxel_size, key)\n",
    "\n",
    "            results.append([downsample, voxel_size, (m3att == 1).sum(), (m3att == 2).sum(), (m3att == 3).sum()])"
   ]
  },
  {
   "cell_type": "code",
   "execution_count": 9,
   "metadata": {},
   "outputs": [],
   "source": [
    "results = np.array(results)"
   ]
  },
  {
   "cell_type": "code",
   "execution_count": 10,
   "metadata": {},
   "outputs": [],
   "source": [
    "total = np.array(np.sum(results[:,2:5], axis=1))\n",
    "nI0 = results[:,2] / total\n",
    "nP0 = results[:,3] / total\n",
    "n00 = results[:,4] / total\n",
    "\n",
    "nI = results[:,2]\n",
    "nP = results[:,3]\n",
    "n0 = results[:,4]\n"
   ]
  },
  {
   "cell_type": "code",
   "execution_count": 11,
   "metadata": {},
   "outputs": [
    {
     "data": {
      "text/plain": [
       "Text(0, 0.5, '$n_{I}/(n_{I}+n_{P})$')"
      ]
     },
     "execution_count": 11,
     "metadata": {},
     "output_type": "execute_result"
    }
   ],
   "source": [
    "fig, (a0, a1) = plt.subplots(2, 1, gridspec_kw={'height_ratios': [2, 1]}, figsize=(10,22))\n",
    "colors = plt.cm.jet(np.linspace(0,1,5))\n",
    "\n",
    "for num, voxel_size in enumerate([0.05, 0.08, 0.1, 0.15, 0.2]):\n",
    "\n",
    "    keep = (results[:,1] == voxel_size)\n",
    "    downsample = results[:,0][keep]\n",
    "    a0.plot(downsample*100, nP0[keep], marker='*', color=colors[num], label='%s' %(voxel_size))\n",
    "    a0.plot(downsample*100, nI0[keep], marker='*', ls='--', color=colors[num])\n",
    "    a0.plot(downsample*100, n00[keep], marker='*', ls=':', color=colors[num])\n",
    "    \n",
    "    a1.plot(downsample*100, nI[keep]/(nI[keep]+nP[keep]), marker='*', ls='-', color=colors[num])\n",
    "\n",
    "text = '$n_{P}(k)$: Solid \\n $n_{I}(k)$: Dashed \\n $n_{0}(k)$: Dotted'\n",
    "props = dict(boxstyle='round', facecolor='green', alpha=0.3)\n",
    "a0.text(20, 0.5, text, fontsize=14, bbox=props)\n",
    "a0.legend(title='Voxel Size')\n",
    "a0.set_ylabel(r'$N$', size=20)\n",
    "\n",
    "a1.axhline(0.035, ls='--', c='k', lw=2)\n",
    "a1.set_xlabel(r'Downsample (%)', size=20)\n",
    "a1.set_ylabel(r'$n_{I}/(n_{I}+n_{P})$', size=20)\n",
    "    \n"
   ]
  },
  {
   "cell_type": "markdown",
   "metadata": {},
   "source": [
    "## Densities in PR"
   ]
  },
  {
   "cell_type": "code",
   "execution_count": 231,
   "metadata": {},
   "outputs": [],
   "source": [
    "downsample = 0.1\n",
    "voxel_size = 0.15"
   ]
  },
  {
   "cell_type": "code",
   "execution_count": 35,
   "metadata": {},
   "outputs": [],
   "source": [
    "def isinds(resdir, downsample):\n",
    "\n",
    "    outdir = os.path.join(resdir, 'inds.npy')\n",
    "    if os.path.exists(outdir):\n",
    "        print('inds file already exists for donwnsample of %.3f at %s' %(downsample, outdir))\n",
    "\n",
    "        inds = np.load(outdir)\n",
    "\n",
    "        points = POINTS[inds]\n",
    "        sensors = SENSORS[inds]\n",
    "\n",
    "    else:\n",
    "\n",
    "        print('inds not been created yet for donwnsample of %.3f' %(downsample))\n",
    "        idx = np.random.randint(0, len(df), int(len(df) * downsample))\n",
    "        inds = np.zeros(len(df), dtype=bool)\n",
    "        inds[idx] = True\n",
    "\n",
    "        points = POINTS[inds]\n",
    "        sensors = SENSORS[inds]\n",
    "\n",
    "        np.save(outdir, inds)\n",
    "\n",
    "    return inds\n",
    "\n",
    "def restmp(downsample, voxel_size, show=True):\n",
    "\n",
    "    resdir = os.path.join(_data, mockname, 'lad_%s' %(str(downsample)))\n",
    "    if not os.path.exists(resdir):\n",
    "        os.makedirs(resdir)\n",
    "    inds = isinds(resdir, downsample)\n",
    "\n",
    "    for key, val in trees.items():\n",
    "\n",
    "        inPR = (val) & (leaves) & (inds)\n",
    "        pointsPR = POINTS[inPR]\n",
    "        sensorsPR = SENSORS[inPR]\n",
    "\n",
    "        density_overall, density, counts = lad.density_counts(pointsPR, voxel_size)\n",
    "        \n",
    "        dens_ratio = density / density_overall\n",
    "        print('Mean density ration: %.2f' %(np.mean(dens_ratio)))\n",
    "        print('Median density ration: %.2f' %(np.median(dens_ratio)))\n",
    "\n",
    "        if show:\n",
    "\n",
    "            fig = plt.figure(figsize=(10,6))\n",
    "            plt.hist(counts, 25, align='left')\n",
    "            plt.axvline(np.mean(counts), color='k', label='Mean counts = %.2f' %(np.mean(counts)))\n",
    "            plt.xlabel(r'$n_{i}$', size=20)\n",
    "            plt.legend()\n",
    "            plt.show()\n"
   ]
  },
  {
   "cell_type": "code",
   "execution_count": 52,
   "metadata": {},
   "outputs": [
    {
     "name": "stdout",
     "output_type": "stream",
     "text": [
      "inds file already exists for donwnsample of 0.500 at /Users/omar/projects/planttech/data/test/lad_0.5/inds.npy\n",
      "max --> [188, 183, 118]\n",
      "min --> [0, 0, 0]\n",
      "tot vox: \t 4138344\n",
      "len points 26837\n",
      "volume PR: 517.2930\n",
      "volume voxel size: 0.0001\n",
      "PR dimensions: 9.45, 9.20, 5.95\n",
      "23659 2886 20773\n",
      "Counts 26837\n",
      "Density overal= 51.88\n",
      "Mean density= 8895.69\n",
      "Mean density considering all voxels= 50.28\n",
      "Median density= 8000.00\n",
      "Mean density ration: 171.47\n",
      "Median density ration: 154.20\n"
     ]
    }
   ],
   "source": [
    "restmp(0.5, 0.05)"
   ]
  },
  {
   "cell_type": "code",
   "execution_count": 271,
   "metadata": {},
   "outputs": [
    {
     "name": "stdout",
     "output_type": "stream",
     "text": [
      "inds file already exists for donwnsample of 0.100 at /Users/omar/projects/planttech/data/test/lad_0.1/inds.npy\n",
      "max --> [62, 61, 39]\n",
      "min --> [0, 0, 0]\n",
      "tot vox: \t 156240\n",
      "len points 6389\n",
      "volume PR: 527.3100\n",
      "volume voxel size: 0.0034\n",
      "PR dimensions: 9.45, 9.30, 6.00\n",
      "4494 1338 3156\n",
      "Counts 6389\n",
      "Density overal= 12.12\n",
      "Mean density= 398.08\n",
      "Mean density considering all voxels= 11.15\n",
      "Median density= 296.30\n",
      "Mean density ration: 32.86\n",
      "Median density ration: 24.45\n"
     ]
    }
   ],
   "source": [
    "restmp(0.1, 0.15)"
   ]
  },
  {
   "cell_type": "code",
   "execution_count": 275,
   "metadata": {},
   "outputs": [
    {
     "name": "stdout",
     "output_type": "stream",
     "text": [
      "inds file already exists for donwnsample of 0.200 at /Users/omar/projects/planttech/data/test/lad_0.2/inds.npy\n",
      "max --> [72, 70, 45]\n",
      "min --> [0, 0, 0]\n",
      "tot vox: \t 238418\n",
      "len points 12390\n",
      "volume PR: 523.8043\n",
      "volume voxel size: 0.0022\n",
      "PR dimensions: 9.49, 9.23, 5.98\n",
      "7679 2997 4682\n",
      "Counts 12390\n",
      "Density overal= 23.65\n",
      "Mean density= 704.99\n",
      "Mean density considering all voxels= 22.33\n",
      "Median density= 455.17\n",
      "Mean density ration: 29.80\n",
      "Median density ration: 19.24\n"
     ]
    }
   ],
   "source": [
    "restmp(0.2, 0.13)"
   ]
  },
  {
   "cell_type": "code",
   "execution_count": 18,
   "metadata": {},
   "outputs": [
    {
     "ename": "NameError",
     "evalue": "name 'dens_ratio' is not defined",
     "output_type": "error",
     "traceback": [
      "\u001b[0;31m---------------------------------------------------------------------------\u001b[0m",
      "\u001b[0;31mNameError\u001b[0m                                 Traceback (most recent call last)",
      "\u001b[0;32m/var/folders/4l/bbjl67b151l_mb_20rk6glxh0000gn/T/ipykernel_7098/221901860.py\u001b[0m in \u001b[0;36m<module>\u001b[0;34m\u001b[0m\n\u001b[1;32m      1\u001b[0m \u001b[0mfig\u001b[0m \u001b[0;34m=\u001b[0m \u001b[0mplt\u001b[0m\u001b[0;34m.\u001b[0m\u001b[0mfigure\u001b[0m\u001b[0;34m(\u001b[0m\u001b[0mfigsize\u001b[0m\u001b[0;34m=\u001b[0m\u001b[0;34m(\u001b[0m\u001b[0;36m10\u001b[0m\u001b[0;34m,\u001b[0m\u001b[0;36m6\u001b[0m\u001b[0;34m)\u001b[0m\u001b[0;34m)\u001b[0m\u001b[0;34m\u001b[0m\u001b[0;34m\u001b[0m\u001b[0m\n\u001b[0;32m----> 2\u001b[0;31m \u001b[0mplt\u001b[0m\u001b[0;34m.\u001b[0m\u001b[0mhist\u001b[0m\u001b[0;34m(\u001b[0m\u001b[0mdens_ratio\u001b[0m\u001b[0;34m,\u001b[0m \u001b[0;36m25\u001b[0m\u001b[0;34m)\u001b[0m\u001b[0;34m\u001b[0m\u001b[0;34m\u001b[0m\u001b[0m\n\u001b[0m\u001b[1;32m      3\u001b[0m \u001b[0mplt\u001b[0m\u001b[0;34m.\u001b[0m\u001b[0maxvline\u001b[0m\u001b[0;34m(\u001b[0m\u001b[0mnp\u001b[0m\u001b[0;34m.\u001b[0m\u001b[0mmean\u001b[0m\u001b[0;34m(\u001b[0m\u001b[0mdens_ratio\u001b[0m\u001b[0;34m)\u001b[0m\u001b[0;34m,\u001b[0m \u001b[0mcolor\u001b[0m\u001b[0;34m=\u001b[0m\u001b[0;34m'k'\u001b[0m\u001b[0;34m,\u001b[0m \u001b[0mlabel\u001b[0m\u001b[0;34m=\u001b[0m\u001b[0;34m'Mean density = %.2f'\u001b[0m \u001b[0;34m%\u001b[0m\u001b[0;34m(\u001b[0m\u001b[0mnp\u001b[0m\u001b[0;34m.\u001b[0m\u001b[0mmean\u001b[0m\u001b[0;34m(\u001b[0m\u001b[0mdens_ratio\u001b[0m\u001b[0;34m)\u001b[0m\u001b[0;34m)\u001b[0m\u001b[0;34m)\u001b[0m\u001b[0;34m\u001b[0m\u001b[0;34m\u001b[0m\u001b[0m\n\u001b[1;32m      4\u001b[0m \u001b[0mplt\u001b[0m\u001b[0;34m.\u001b[0m\u001b[0mxlabel\u001b[0m\u001b[0;34m(\u001b[0m\u001b[0;34mr'$\\eta_{i} = n_{i}/L^{3}$'\u001b[0m\u001b[0;34m,\u001b[0m \u001b[0msize\u001b[0m\u001b[0;34m=\u001b[0m\u001b[0;36m20\u001b[0m\u001b[0;34m)\u001b[0m\u001b[0;34m\u001b[0m\u001b[0;34m\u001b[0m\u001b[0m\n\u001b[1;32m      5\u001b[0m \u001b[0mplt\u001b[0m\u001b[0;34m.\u001b[0m\u001b[0mlegend\u001b[0m\u001b[0;34m(\u001b[0m\u001b[0;34m)\u001b[0m\u001b[0;34m\u001b[0m\u001b[0;34m\u001b[0m\u001b[0m\n",
      "\u001b[0;31mNameError\u001b[0m: name 'dens_ratio' is not defined"
     ]
    }
   ],
   "source": [
    "fig = plt.figure(figsize=(10,6))\n",
    "plt.hist(dens_ratio, 25)\n",
    "plt.axvline(np.mean(dens_ratio), color='k', label='Mean density = %.2f' %(np.mean(dens_ratio)))\n",
    "plt.xlabel(r'$\\eta_{i} = n_{i}/L^{3}$', size=20)\n",
    "plt.legend()\n",
    "plt.show()"
   ]
  },
  {
   "cell_type": "code",
   "execution_count": 224,
   "metadata": {},
   "outputs": [],
   "source": [
    "fig = plt.figure(figsize=(10,6))\n",
    "plt.hist(density, 25)\n",
    "plt.axvline(np.mean(density), color='k', label='Mean density = %.2f' %(np.mean(density)))\n",
    "plt.xlabel(r'$\\eta_{i} = n_{i}/L^{3}$', size=20)\n",
    "plt.legend()\n",
    "plt.show()"
   ]
  },
  {
   "cell_type": "markdown",
   "metadata": {},
   "source": []
  },
  {
   "cell_type": "code",
   "execution_count": null,
   "metadata": {},
   "outputs": [],
   "source": []
  }
 ],
 "metadata": {
  "celltoolbar": "Slideshow",
  "interpreter": {
   "hash": "760a6cd4159ac8b99590d0ad7ba9faed7c379184a996bf44e62e475912739812"
  },
  "kernelspec": {
   "display_name": "Python 3.8.11 64-bit ('plant-env': conda)",
   "name": "python3"
  },
  "language_info": {
   "codemirror_mode": {
    "name": "ipython",
    "version": 3
   },
   "file_extension": ".py",
   "mimetype": "text/x-python",
   "name": "python",
   "nbconvert_exporter": "python",
   "pygments_lexer": "ipython3",
   "version": "3.8.11"
  }
 },
 "nbformat": 4,
 "nbformat_minor": 2
}
